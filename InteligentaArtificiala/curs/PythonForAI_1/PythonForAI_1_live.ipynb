{
 "cells": [
  {
   "cell_type": "markdown",
   "metadata": {},
   "source": [
    "# Curs 1: Introducere in Python, cu exemple"
   ]
  },
  {
   "cell_type": "markdown",
   "metadata": {},
   "source": [
    "# Bibliografie\n",
    "1. Charles Severance, [*Python for Everybody (PY4E)](https://www.py4e.com/lessons)\n",
    "1. Al Sweigart, [*Automate the Boring Stuff with Python*](https://automatetheboringstuff.com/)\n",
    "1. [*Python 3 Patterns, Recipes, and Idioms*](https://python-3-patterns-idioms-test.readthedocs.io/en/latest/index.html)\n",
    "1. Leonardo Giordani, [*Clean Architectures in Python*](https://leanpub.com/clean-architectures-in-python), Editia a doua\n",
    "1. Allen B. Downey, [*Think Python: How to Think Like a Computer Scientist*](http://greenteapress.com/wp/think-python-2e/), editia a doua, Green Tea Press\n",
    "1. [Learn to think computationally and write programs to tackle useful problems](https://www.edx.org/xseries/mitx-computational-thinking-using-python)\n",
    "1. Zed A. Shaw, [Learn Python the Hard Way](https://learnpythonthehardway.org), Addison-Wesley Professional, 2017\n",
    "1. [Google's Python Class](https://developers.google.com/edu/python)"
   ]
  },
  {
   "cell_type": "markdown",
   "metadata": {},
   "source": [
    "# Limbajul Python"
   ]
  },
  {
   "cell_type": "markdown",
   "metadata": {},
   "source": [
    "* Limbaj open source, gratuit\n",
    "* In octombrie 2023: primul limbaj ca popularitate in [TIOBE Index](https://www.tiobe.com/tiobe-index/), devansand C, C++, Java\n",
    "* In aceeasi luna, indexul [PYPL](http://pypl.github.io/PYPL.html) raporteaza Python pe locul al intai\n",
    "![PYPL_all](./images/pypl_all.png) (Sursa: http://pypl.github.io/PYPL.html, octombrie 2023)\n",
    "* Versiunea stabila actuala de Python este 3.12.0.; Python 2.x se considera depasit si e trecut pe linie moarta \n",
    "* Se poate instala manual sau folosind o distributie de tipul [Anaconda](https://conda.io/docs/user-guide/install/download.html)\n",
    "    * A se vedea despre distributiile Anaconda, Miniconda, Anaconda Enterprise\n",
    "    * Exista [o lista consistenta de distributii](https://wiki.python.org/moin/PythonDistributions) de Python\n",
    "* Python este limbaj interpretat si netipizat\n",
    "* Permite programare imperativa, orientata pe obiect, [functionala](https://docs.python.org/3/library/functional.html), [metaprogramare](https://python-3-patterns-idioms-test.readthedocs.io/en/latest/Metaprogramming.html)\n",
    "* Exista o paleta larga de biblioteci deja implementate pentru Python, usurand considerabil dezvoltarea de prototipuri sau chiar de aplicatii comerciale larg raspandite.\n",
    "![Python flying](https://imgs.xkcd.com/comics/python.png) (Sursa: https://xkcd.com/353/)\n",
    "* [Peste 400000 de pachete dezvoltate](https://pypi.python.org/pypi)\n",
    "* Python este in adoptare crescanda pentru proiecte comerciale:\n",
    "    * [Can Your Enterprise choose Python for Software Development?](https://www.sayonetech.com/blog/can-your-enterprise-choose-python-software-development/)\n",
    "    * [Full Stack Python](https://www.fullstackpython.com/enterprise-python.html)\n",
    "    * [Which Internet companies use Python](https://www.quora.com/Which-Internet-companies-use-Python)\n",
    "    * [Who uses Python?](https://www.quora.com/Who-uses-Python)\n",
    "    * [Is Python a Good Choice for Entreprise Projects?](https://julien.danjou.info/is-python-a-good-choice-for-entreprise-projects/)"
   ]
  },
  {
   "cell_type": "markdown",
   "metadata": {},
   "source": [
    "## De ce Python?\n",
    "\n",
    "Iata cateva motive solide pentru a utiliza Python, conform [The unexpected effectiveness of Python in science](https://lwn.net/Articles/724255/)\n",
    "1. Limbajul vine \"cu toate bateriile incluse\": multitudinea de biblioteci il face perfect pentru o gama larga de proiecte. Cercetatorii care il folosesc activeaza in astronomie, fizica, bioinformatica, chimie, stiinte cognitive etc. - si pentru toate aceste domenii exista biblioteci care simplifica mult dezvoltarea de prototipuri. Prin comparatie, limbaje traditionale precum C/C++/Java/Python vin cu mai putin suport disponibil, iar uneori includerea unui pachet/biblioteci poate fi o experienta consumatoare de timp. \n",
    "1. Capacitatea de interoperare cu alte limbaje este iarasi un plus. Exista punti de comunicare (bridges) care permit apelul de cod Python din alte limbaje sau invers. Desigur, aceasta facilitate se regaseste si in alte limbaje.\n",
    "1. Natura dinamica a limbajului poate fi inteligent speculata: o functie poate sa preia o multitudine de parametri (lista, tuplu, dictionar) si cateva linii de cod functioneaza la fel de bine peste toate acestea.\n",
    "1. Python incurajeaza un stil de lucru experimental, via REPL: poate e nevoie de cateva incercari pentru a ajunge la instructiunile potrivite pentru o anumita functionalitate. Incercarea unei alte instructiuni nu necesita recompilarea sau rerularea codului anterior, ci vine in completare - pana cand ajungi la ce doresti sa obtii. "
   ]
  },
  {
   "cell_type": "markdown",
   "metadata": {},
   "source": [
    "## Moduri de utilizare\n",
    "\n",
    "1. Codul poate fi scris intr-un fisier text cu extensia py. Lansarea codului se face cu comanda `python nume_script.py`\n",
    "1. Se poate folosi interpretorul python sau ipython, in care modul de lucru este REPL: read-evaluate-print-loop. REPL permite o prototipizare rapida si scrierea codului in mod incremental. Interpretorul ipython este o varianta imbunatatita a interpretoruui python. \n",
    "![ipython screenshot](./images/ipython_screenshot.png)\n",
    "Mai multe detalii pentru lucrul cu interpretorul ipython se gasesc in resursa bibliografica [5], capitolul 1: debug, magic commands, lucru cu interpretorul de comenzi etc. \n",
    "1. Jupyter notebook - codul este scris in browser, cu suport pentru completare automata de cod. Fisierele rezultate sunt cu extensia ipynb.\n",
    "O lista de notebooks se gaseste [aici](http://nbviewer.jupyter.org/). Resurse de lucru cu Jupyter notebooks [aici](https://towardsdatascience.com/jupyter-best-practices-that-will-save-you-a-lot-of-headaches-67e1df45e24d )\n",
    "1. Folosind diverse framework-uri (de ex Flask), codul Python poate fi folosit pentru crearea de pagini Web, REST endpoints - sau mai simplu, functiile definite in Jupyter notebook pot fi expuse ca servicii web REST etc."
   ]
  },
  {
   "cell_type": "markdown",
   "metadata": {},
   "source": [
    "## Variabile, tipuri de date\n",
    "\n",
    "Clasica afisare de mesaj \"Hello world\" se obtine cu *functia* `print()`: "
   ]
  },
  {
   "cell_type": "code",
   "execution_count": null,
   "metadata": {},
   "outputs": [],
   "source": [
    "print(\"Hello world!\")\n",
    "# sau: print('Hello world')"
   ]
  },
  {
   "cell_type": "markdown",
   "metadata": {},
   "source": [
    "Pentru Python versiunea 2, afisarea se face folosind *instructiunea* print: \n",
    "```python\n",
    "print \"Hello world!\"\n",
    "```\n",
    "- se observa lipsa parantezelor. \n",
    "\n",
    "In ambele cazuri delimitarea sirurilor de caractere se poate face cu apostroafe sau ghilimele.\n",
    "\n",
    "Variabilele nu se declara in prealabil impreuna cu tipul lor - Python este un limbaj slab tipizat. Natura unei variabile se deduce din valoarea care ii este asociata:"
   ]
  },
  {
   "cell_type": "code",
   "execution_count": null,
   "metadata": {},
   "outputs": [],
   "source": [
    "x = 3 # x e variabila de tip intreg\n",
    "y = \"abcd\" # y este variabila de tip sir de caractere\n",
    "# se obisnuieste ca numele compuse ale variabilelor sa fie despartite prin _:\n",
    "nume_complet = \"Popescu Ion\""
   ]
  },
  {
   "cell_type": "markdown",
   "metadata": {},
   "source": [
    "Python este case sensitive: Nume_complet si nume_complet refera variabile diferite. Atribuirea se face folosind semnul egal, asa cum s-a vazut mai sus."
   ]
  },
  {
   "cell_type": "markdown",
   "metadata": {},
   "source": [
    "Tipurile concrete ale variabilelor poate fi aflat la rulare:"
   ]
  },
  {
   "cell_type": "code",
   "execution_count": null,
   "metadata": {},
   "outputs": [],
   "source": [
    "# functia type\n",
    "print(...)\n",
    "print(...)"
   ]
  },
  {
   "cell_type": "markdown",
   "metadata": {},
   "source": [
    "Variabilelor li se pot da nume incepand cu caracter sau _, continuand cu caractere, _ sau cifre. Urmatoarele cuvinte rezervate nu pot fi folosite ca nume de variabile:\n",
    "\n",
    "![Reserved keywords](./images/reserved.png)"
   ]
  },
  {
   "cell_type": "markdown",
   "metadata": {},
   "source": [
    "### Tipuri numerice"
   ]
  },
  {
   "cell_type": "code",
   "execution_count": null,
   "metadata": {},
   "outputs": [],
   "source": [
    "height = 1.79\n",
    "weight = 78\n",
    "body_mass_index = ... \n",
    "print(\"Indicele de masa corporala este: \", body_mass_index)"
   ]
  },
  {
   "cell_type": "markdown",
   "metadata": {},
   "source": [
    "Pentru tipurile intregi, operatorii utilizabili sunt: \n",
    "* $+$\n",
    "* - \n",
    "* $*$\n",
    "* / (impartire cu rezultat in virgula mobila; de retinut ca in Python 2.7 intepretarea operatorul / este diferita fata de cea din Python 3)\n",
    "* // (impartire intreaga)\n",
    "* % (modulo)\n",
    "* ** (ridicare la putere)"
   ]
  },
  {
   "cell_type": "code",
   "execution_count": null,
   "metadata": {},
   "outputs": [],
   "source": [
    "print(7/3)\n",
    "print(7//3)\n",
    "print(7%3)\n",
    "print(7**3)"
   ]
  },
  {
   "cell_type": "markdown",
   "metadata": {},
   "source": [
    "Exista si numere intregi lungi (long integer), precizia lor fiind limitata de memoria alocata procesului: "
   ]
  },
  {
   "cell_type": "code",
   "execution_count": null,
   "metadata": {},
   "outputs": [],
   "source": [
    "big_number = 1*2*3*4*5*6*7*8*9*10*11*12*13*14*15*16*17*18*19*20*21*22*23*24*25*26*27*28*29*30*31*32*33*34*35*36*37*38*39*40*41*42*43*44*45*46*47*48*49*50*51*52*53*54*55*56*57*58*59*60*61*62*63*64*65*66*67*68*69*70*71*72*73*74*75*76*77*78*79*80*81*82*83*84*85*86*87*88*89*90*91*92*93*94*95*96*97*98*99*100\n",
    "print('100!=', big_number)"
   ]
  },
  {
   "cell_type": "markdown",
   "metadata": {},
   "source": [
    "Pentru tipurile in virgula mobila, operatorii sunt cei de mai sus mai putin impartire intreaga. Daca un operand este in virgula mobila, operatia returneaza valoare in virgula mobila. "
   ]
  },
  {
   "cell_type": "code",
   "execution_count": null,
   "metadata": {},
   "outputs": [],
   "source": [
    "print(...)"
   ]
  },
  {
   "cell_type": "markdown",
   "metadata": {},
   "source": [
    "Numerele se pot compara folosind operatorii:\n",
    "* <, >, <=, >=\n",
    "* == (egalitate), != (diferit)"
   ]
  },
  {
   "cell_type": "markdown",
   "metadata": {},
   "source": [
    "Exista suport nativ pentru numere complexe:"
   ]
  },
  {
   "cell_type": "code",
   "execution_count": null,
   "metadata": {},
   "outputs": [],
   "source": [
    "z = ...\n",
    "print(z)\n",
    "# tip\n",
    "...\n",
    "# conjugata\n",
    "...\n",
    "z2 = z * z.conjugate()\n",
    "print(z2)"
   ]
  },
  {
   "cell_type": "markdown",
   "metadata": {},
   "source": [
    "Sunt admise conversii intre tipuri numerice:"
   ]
  },
  {
   "cell_type": "code",
   "execution_count": null,
   "metadata": {},
   "outputs": [],
   "source": [
    "a = 3.997\n",
    "b = int(a)\n",
    "print(b)\n",
    "print(float(b))"
   ]
  },
  {
   "cell_type": "code",
   "execution_count": null,
   "metadata": {},
   "outputs": [],
   "source": [
    "# Alte exemple: https://www.tutorialspoint.com/python/python_numbers.htm"
   ]
  },
  {
   "cell_type": "markdown",
   "metadata": {},
   "source": [
    "### Siruri de caractere"
   ]
  },
  {
   "cell_type": "markdown",
   "metadata": {
    "collapsed": true
   },
   "source": [
    "Sirurile de caractere se delimiteaza cu apostroafe sau cu ghilimele. Pentru literalii de tip sir de caractere, exista posibilitatea de a scrie valori care nu necesita secvente escape:"
   ]
  },
  {
   "cell_type": "code",
   "execution_count": null,
   "metadata": {},
   "outputs": [],
   "source": [
    "a = ...  # remarcam prefixul r\n",
    "print(a)\n",
    "\n",
    "# the hard way...\n",
    "a = 'adresa \\\\\\\\michel\\\\protect\\\\....' \n",
    "print(a)\n",
    "\n",
    "# caractere Unicode\n",
    "a = ... # se remarca prefixul u\n",
    "print(a)"
   ]
  },
  {
   "cell_type": "markdown",
   "metadata": {},
   "source": [
    "..sau stringuri multilinie, folosind delimitare cu trei ghilimele sau trei apostroafe:"
   ]
  },
  {
   "cell_type": "code",
   "execution_count": null,
   "metadata": {},
   "outputs": [],
   "source": [
    "versuri = '''If you can keep your head when all about you   \n",
    "    Are losing theirs and blaming it on you,   \n",
    "If you can trust yourself when all men doubt you,\n",
    "    But make allowance for their doubting too;   \n",
    "If you can wait and not be tired by waiting,\n",
    "    Or being lied about, don’t deal in lies,\n",
    "Or being hated, don’t give way to hating,\n",
    "    And yet don’t look too good, nor talk too wise:\n",
    "\n",
    "If you can dream—and not make dreams your master;   \n",
    "    If you can think—and not make thoughts your aim;   \n",
    "If you can meet with Triumph and Disaster\n",
    "    And treat those two impostors just the same;   \n",
    "If you can bear to hear the truth you’ve spoken\n",
    "    Twisted by knaves to make a trap for fools,\n",
    "Or watch the things you gave your life to, broken,\n",
    "    And stoop and build ’em up with worn-out tools:'''\n",
    "print(versuri)"
   ]
  },
  {
   "cell_type": "markdown",
   "metadata": {
    "collapsed": true
   },
   "source": [
    "Sirurile de caractere se pot concatena cu + si suporta urmatoarele operatii si functii:"
   ]
  },
  {
   "cell_type": "code",
   "execution_count": null,
   "metadata": {},
   "outputs": [],
   "source": [
    "sir = ...\n",
    "print(sir)"
   ]
  },
  {
   "cell_type": "code",
   "execution_count": null,
   "metadata": {},
   "outputs": [],
   "source": [
    "print('Lungimea sirului: ', ...)\n",
    "print('Primul element din sir: ', ...)\n",
    "print('Ultimul element din sir: ', ...)\n",
    "print(\"Ultimul element, in stil Python: \", ...)\n",
    "print(\"Penultimul element din sir, in stil Python: \", ...) # !!!"
   ]
  },
  {
   "cell_type": "code",
   "execution_count": null,
   "metadata": {},
   "outputs": [],
   "source": [
    "# Conversia unei variabile de tip non-string in string:\n",
    "x = 3\n",
    "mesaj = \"numarul este \" + str(x)\n",
    "print(mesaj)"
   ]
  },
  {
   "cell_type": "code",
   "execution_count": null,
   "metadata": {},
   "outputs": [],
   "source": [
    "# metode si operatii posibile pe obiect string:\n",
    "print(sir.lower())\n",
    "print('slicing:', ...)\n",
    "print(sir....) # indice prima aparitie\n",
    "print(sir...) # inlocuire str1 cu str2"
   ]
  },
  {
   "cell_type": "code",
   "execution_count": null,
   "metadata": {},
   "outputs": [],
   "source": [
    "multi_ana = 'Ana' * 10\n",
    "print(multi_ana)"
   ]
  },
  {
   "cell_type": "code",
   "execution_count": null,
   "metadata": {},
   "outputs": [],
   "source": [
    "cuvantul_pere_este_in_sir = ...\n",
    "print(cuvantul_pere_este_in_sir)\n",
    "cuvantul_pere_nu_este_in_sir = ...\n",
    "print(cuvantul_pere_nu_este_in_sir)"
   ]
  },
  {
   "cell_type": "code",
   "execution_count": null,
   "metadata": {},
   "outputs": [],
   "source": [
    "# split dupa spatiu\n",
    "tokens = ..\n",
    "print(type(tokens))\n",
    "print(tokens)\n",
    "print(\",\".join(['Ana', 'Vasile', 'Dana', 'Ion']))"
   ]
  },
  {
   "cell_type": "markdown",
   "metadata": {},
   "source": [
    "Demna de mentionat este functia `eval`, care preia un string de caractere si returneaza un obiect rezultat prin evaluare:"
   ]
  },
  {
   "cell_type": "code",
   "execution_count": null,
   "metadata": {},
   "outputs": [],
   "source": [
    "a = 3\n",
    "b = 4\n",
    "expresie = '(a+b)/(a**2 + b**2 + 1)'\n",
    "print(...)"
   ]
  },
  {
   "cell_type": "markdown",
   "metadata": {},
   "source": [
    "Recomandam citirea [documentatiei oficiale](https://docs.python.org/3/library/string.html) pentru tipul de date string."
   ]
  },
  {
   "cell_type": "markdown",
   "metadata": {},
   "source": [
    "Python contine tipul `bool`, util pentru reprezentarea valorilor de adevar `True` si `False`:"
   ]
  },
  {
   "cell_type": "code",
   "execution_count": null,
   "metadata": {},
   "outputs": [],
   "source": [
    "x = True\n",
    "print(type(x))"
   ]
  },
  {
   "cell_type": "markdown",
   "metadata": {},
   "source": [
    "Se pot face conversii de la tipuri numerice la bool si viceversa: valoarea 0 este asociata lui `False`, orice non-zero lui `True`. Invers, `True` se traduce in 1 si `False` in 0:"
   ]
  },
  {
   "cell_type": "code",
   "execution_count": null,
   "metadata": {},
   "outputs": [],
   "source": [
    "x = bool(-1)\n",
    "print('-1 ca bool: ', x)\n",
    "x = bool(0.0)\n",
    "print('0 ca bool: ', x)\n",
    "b = True\n",
    "print('True ca int:', int(b))\n",
    "b = False\n",
    "print('False ca int:', int(b))"
   ]
  },
  {
   "cell_type": "markdown",
   "metadata": {},
   "source": [
    "Operatorii aplicabili pe valori bool sunt:"
   ]
  },
  {
   "cell_type": "code",
   "execution_count": null,
   "metadata": {},
   "outputs": [],
   "source": [
    "print(True and False)\n",
    "print(True or False)\n",
    "print(not False)\n",
    "# nu exista xor, dar...\n",
    "a, b = True, False\n",
    "print(...)"
   ]
  },
  {
   "cell_type": "markdown",
   "metadata": {},
   "source": [
    "### Liste"
   ]
  },
  {
   "cell_type": "markdown",
   "metadata": {},
   "source": [
    "In interiorul unei liste se pot pune oricate elemente, nu neaparat de acelasi tip. Elementele se despart prin virgula; capetele listei sunt marcate prin paranteze drepte:"
   ]
  },
  {
   "cell_type": "code",
   "execution_count": null,
   "metadata": {},
   "outputs": [],
   "source": [
    "lista = [10, 20, 30, 40]\n",
    "print('Lungimea listei este', ...)\n",
    "print('Tipul listei este', ...)\n",
    "# Lista eterogena: string si int\n",
    "lista2 = [...]"
   ]
  },
  {
   "cell_type": "markdown",
   "metadata": {},
   "source": [
    "Elementele unei liste se acceseaza pe baza de indici, incepand de la 0 si terminand cu `len(lista)-1`. Ultimul element se poate referi cu indicele '-1':"
   ]
  },
  {
   "cell_type": "code",
   "execution_count": null,
   "metadata": {},
   "outputs": [],
   "source": [
    "lista = [10, 20, 30]\n",
    "print('Ultimul element este:', ...)\n",
    "print('Penultimul element este:', ...)"
   ]
  },
  {
   "cell_type": "markdown",
   "metadata": {},
   "source": [
    "O lista se poate obtine prin repetarea unei constructii de un numar dorit de ori:"
   ]
  },
  {
   "cell_type": "code",
   "execution_count": null,
   "metadata": {},
   "outputs": [],
   "source": [
    "lista = ... # efect similar demonstrat anterior pe string 'Ana'\n",
    "print(lista)"
   ]
  },
  {
   "cell_type": "markdown",
   "metadata": {},
   "source": [
    "Putem prelua portiuni intregi din lista, nu doar de pe pozitii individuale, folosind 'decuparea' (slicing), sub forma: lista[k:l]. Va rezulta o lista formata din elementele lista[k], lista[k+1], ..., lista[l-1] (se remarca marginea din dreapta a sirului: nu e l, ci l-1). Daca se doreste ca ordinea elementelor sa fie inversata, se foloseste  lista[l:k:-1]; elementul de indice l va fi inclus in rezultat, elementul de indice k se va omite:"
   ]
  },
  {
   "cell_type": "code",
   "execution_count": null,
   "metadata": {},
   "outputs": [],
   "source": [
    "lista = [1, 2, 3, 4, 5, 6, 7, 8, 9, 10]\n",
    "print(lista)\n",
    "sliced = lista[...]\n",
    "print(sliced)\n",
    "sliced_reversed = lista[...]\n",
    "print(sliced_reversed)"
   ]
  },
  {
   "cell_type": "code",
   "execution_count": null,
   "metadata": {},
   "outputs": [],
   "source": [
    "lista = [10, 20, 30, 40]"
   ]
  },
  {
   "cell_type": "markdown",
   "metadata": {},
   "source": [
    "Formele acceptate pentru slicing sunt:"
   ]
  },
  {
   "cell_type": "markdown",
   "metadata": {
    "collapsed": true
   },
   "source": [
    "- a[start:end] # items start through end-1\n",
    "- a[start:]    # items start through the rest of the array\n",
    "- a[:end]      # items from the beginning through end-1\n",
    "- a[:]         # a copy of the whole array"
   ]
  },
  {
   "cell_type": "markdown",
   "metadata": {},
   "source": [
    "In special ultima forma este interesanta: se obtine o clona a listei a. In lipsa acestui mecanism, doua variabile care indica spre aceeasi lista pot duce la modificari mutual vizibile:"
   ]
  },
  {
   "cell_type": "code",
   "execution_count": null,
   "metadata": {},
   "outputs": [],
   "source": [
    "# aliasing\n",
    "a = [1, 2, 3]\n",
    "b = a\n",
    "print('a=', a)\n",
    "print('b=', b)\n",
    "a[0] *= -1\n",
    "print('Dupa modificare via a: b=', b)\n",
    "# a si b refera aceeasi zona de memorie"
   ]
  },
  {
   "cell_type": "code",
   "execution_count": null,
   "metadata": {},
   "outputs": [],
   "source": [
    "# copiere de lista\n",
    "a = [1, 2, 3]\n",
    "b = a[:]\n",
    "print('a=', a)\n",
    "print('b=', b)\n",
    "a[0] *= -1\n",
    "print('Dupa modificare: a=', a)\n",
    "print('Dupa modificare: b=', b)\n",
    "# a si b refera zone de memorie diferite"
   ]
  },
  {
   "cell_type": "markdown",
   "metadata": {},
   "source": [
    "Copierea unei liste se poate face si cu metoda `copy`:"
   ]
  },
  {
   "cell_type": "code",
   "execution_count": null,
   "metadata": {},
   "outputs": [],
   "source": [
    "# copiere de lista cu metoda copy\n",
    "a = [1, 2, 3]\n",
    "b = a.copy()\n",
    "print('a=', a)\n",
    "print('b=', b)\n",
    "a[0] *= -1\n",
    "print('Dupa modificare: a=', a)\n",
    "print('Dupa modificare: b=', b)\n",
    "# a si b refera zone de memorie diferite"
   ]
  },
  {
   "cell_type": "markdown",
   "metadata": {},
   "source": [
    "Listele pot fi concatenate:"
   ]
  },
  {
   "cell_type": "code",
   "execution_count": null,
   "metadata": {},
   "outputs": [],
   "source": [
    "a = [1, 2, 3]\n",
    "b = [10, 20, 30]\n",
    "c = ...\n",
    "print(c)"
   ]
  },
  {
   "cell_type": "markdown",
   "metadata": {},
   "source": [
    "La o lista se pot adauga elemente:"
   ]
  },
  {
   "cell_type": "code",
   "execution_count": null,
   "metadata": {},
   "outputs": [],
   "source": [
    "a = [1, 2, 3]\n",
    "a...\n",
    "print(a)"
   ]
  },
  {
   "cell_type": "markdown",
   "metadata": {},
   "source": [
    "Se recomanda ca daca pentru o lista se cunoaste capacitatea maxima sau chiar exacta, sa se prealoce, in loc sa se foloseasca adaugari repetate:"
   ]
  },
  {
   "cell_type": "code",
   "execution_count": null,
   "metadata": {},
   "outputs": [],
   "source": [
    "a = [None] * 10\n",
    "#....\n",
    "a[3] = 'Ana are mere'\n",
    "print(a)"
   ]
  },
  {
   "cell_type": "markdown",
   "metadata": {},
   "source": [
    "Sortarea unei liste se face cu functia `sorted`, care optional poate sa preia:\n",
    "* un parametru numit `reverse` de tip boolean, care precizeaza daca se face sortare descrescatoare\n",
    "* un parametru numit `key`, care face referinta la o functie ce determina politica de sortare"
   ]
  },
  {
   "cell_type": "code",
   "execution_count": null,
   "metadata": {},
   "outputs": [],
   "source": [
    "# Sortare crescatoare\n",
    "a = [5, 1, 4, 3]\n",
    "print(...)"
   ]
  },
  {
   "cell_type": "code",
   "execution_count": null,
   "metadata": {},
   "outputs": [],
   "source": [
    "# Sortare descrescatoare\n",
    "print(...)"
   ]
  },
  {
   "cell_type": "code",
   "execution_count": null,
   "metadata": {},
   "outputs": [],
   "source": [
    "# Sortare cu cheie specificata\n",
    "siruri = ['ccc', 'aaaa', 'd', 'bb']\n",
    "print(...)"
   ]
  },
  {
   "cell_type": "markdown",
   "metadata": {},
   "source": [
    "Functia `sorted` returneaza o noua lista, lasand pe cea originara nemodificata. Daca se doreste ca sortarea sa se faca in cadrul liste originare, se va folosi metoda `sort` a tipului lista. Metoda `sort` returneaza `None`."
   ]
  },
  {
   "cell_type": "code",
   "execution_count": null,
   "metadata": {},
   "outputs": [],
   "source": [
    "siruri = ['ccc', 'aaaa', 'd', 'bb']\n",
    "siruri.sort()\n",
    "print(siruri)"
   ]
  },
  {
   "cell_type": "markdown",
   "metadata": {},
   "source": [
    "Stergerea unui element dintr-o lista, de pe o pozitie (indice) specificat se face cu `del`:"
   ]
  },
  {
   "cell_type": "code",
   "execution_count": null,
   "metadata": {},
   "outputs": [],
   "source": [
    "lista = [10, 20, 30]\n",
    "...\n",
    "print(lista)"
   ]
  },
  {
   "cell_type": "markdown",
   "metadata": {},
   "source": [
    "Testarea existentei unui element intr-o lista se face cu operatorul `in`:"
   ]
  },
  {
   "cell_type": "code",
   "execution_count": null,
   "metadata": {},
   "outputs": [],
   "source": [
    "lista = ['Ana', 'are', 'mere']\n",
    "print(...)"
   ]
  },
  {
   "cell_type": "markdown",
   "metadata": {},
   "source": [
    "Minimul si maximul unei liste se obtin cu functiile `min` respectiv `max`. "
   ]
  },
  {
   "cell_type": "markdown",
   "metadata": {},
   "source": [
    "Alte metode apartinand tipului list sunt exemplificate mai jos:"
   ]
  },
  {
   "cell_type": "code",
   "execution_count": null,
   "metadata": {},
   "outputs": [],
   "source": [
    "lista = [10, 20, 30, 10]\n",
    "# De cate ori apare elementul 10 in lista?\n",
    "print('De cate ori apare elementul 10 in lista', lista.count(10))\n",
    "# Care e primul index in care un anumit element apare in lista?\n",
    "print('Care e primul index in care un anumit element apare in lista?', lista.index(20))\n",
    "# daca pentru metoda index se specifica un element care nu exista, se arunca exceptie:\n",
    "# print(lista.index(100000))\n",
    "# ValueError: 100000 is not in list\n",
    "# Inserare elementului 100 pe indexul 2 in lista:\n",
    "lista.insert(2, 100)\n",
    "print('Inserare elementului 100 pe indexul 2 in lista', lista)\n",
    "# Inversarea ordinii elementelor dintr-o lista, in-place\n",
    "lista.reverse()\n",
    "print('Inversarea ordinii elementelor dintr-o lista, in-place', lista)\n",
    "# Stergerea unui element din lista, prima aparitie\n",
    "lista.remove(10)\n",
    "print('Stergerea unui element din lista, prima aparitie', lista)\n",
    "lista.clear()\n",
    "print('Lista a fost golita:', lista)"
   ]
  },
  {
   "cell_type": "markdown",
   "metadata": {},
   "source": [
    "Pentru testarea faptului ca toate elementele (respectiv: macar un element al) unei liste de valori boolene sunt cu valoarea `true`, se va folosi functia `all` (respectiv: `any`)."
   ]
  },
  {
   "cell_type": "code",
   "execution_count": null,
   "metadata": {},
   "outputs": [],
   "source": [
    "lista = [True, False, True]\n",
    "print('Macar unul e True:', ...)\n",
    "print('Toate sunt True:', ...)"
   ]
  },
  {
   "cell_type": "markdown",
   "metadata": {},
   "source": [
    "Daca lista este goala, functia `all` returneaza `True`, iar `any` - `False`."
   ]
  },
  {
   "cell_type": "code",
   "execution_count": null,
   "metadata": {},
   "outputs": [],
   "source": [
    "print('Toate sunt True:',all([]))\n",
    "print('Macar unul e True:',any([]))"
   ]
  },
  {
   "cell_type": "markdown",
   "metadata": {},
   "source": [
    "O metoda deosebit de eleganta de procesare a elementelor unei liste este prin list comprehension, ce se va prezenta in cadrul sectiunii de instructiuni. "
   ]
  },
  {
   "cell_type": "markdown",
   "metadata": {},
   "source": [
    "### Tupluri"
   ]
  },
  {
   "cell_type": "markdown",
   "metadata": {},
   "source": [
    "In timp ce o lista permite modificarea continutului sau, un tuplu reprezinta o colectie ordonata imuabila. Elementele se separa cu virgula, capetele tuplului se marcheaza de regula cu paranteze rotunde, sau pot lipsi."
   ]
  },
  {
   "cell_type": "code",
   "execution_count": null,
   "metadata": {},
   "outputs": [],
   "source": [
    "tuplu1 = ('informatica', 3, 'dimineata')\n",
    "tuplu2 = 'chimie', 2, 'seara'\n",
    "print(tuplu1)"
   ]
  },
  {
   "cell_type": "code",
   "execution_count": null,
   "metadata": {},
   "outputs": [],
   "source": [
    "print(tuplu1[0])"
   ]
  },
  {
   "cell_type": "code",
   "execution_count": null,
   "metadata": {},
   "outputs": [],
   "source": [
    "print(tuplu1[-1])"
   ]
  },
  {
   "cell_type": "code",
   "execution_count": null,
   "metadata": {},
   "outputs": [],
   "source": [
    "print(len(tuplu1))"
   ]
  },
  {
   "cell_type": "code",
   "execution_count": null,
   "metadata": {},
   "outputs": [],
   "source": [
    "tuplu_gol = ()\n",
    "print(len(tuplu_gol))"
   ]
  },
  {
   "cell_type": "code",
   "execution_count": null,
   "metadata": {},
   "outputs": [],
   "source": [
    "la_tuplul_cu_doar_o_valoare_trebuie_adaugata_virgula_la_sfarsit = (42,)\n",
    "print(len(la_tuplul_cu_doar_o_valoare_trebuie_adaugata_virgula_la_sfarsit))"
   ]
  },
  {
   "cell_type": "markdown",
   "metadata": {},
   "source": [
    "Elementele unui tuplu pot fi preluate individual in variabile:"
   ]
  },
  {
   "cell_type": "code",
   "execution_count": null,
   "metadata": {},
   "outputs": [],
   "source": [
    "print(tuplu1)\n",
    "..."
   ]
  },
  {
   "cell_type": "code",
   "execution_count": null,
   "metadata": {},
   "outputs": [],
   "source": [
    "# Tuplele se pot concatena\n",
    "..."
   ]
  },
  {
   "cell_type": "code",
   "execution_count": null,
   "metadata": {},
   "outputs": [],
   "source": [
    "# Convertirea unei liste in tuplu:\n",
    "lista = [1, 2, 3, 4, 5]\n",
    "tuplu = tuple(lista)\n",
    "print(type(tuplu))\n",
    "print(tuplu)"
   ]
  },
  {
   "cell_type": "markdown",
   "metadata": {},
   "source": [
    "### Dictionare"
   ]
  },
  {
   "cell_type": "markdown",
   "metadata": {},
   "source": [
    "Dictionarele sunt colectii de asocieri intre chei si valori. Colectia de tip dictionar se demarcheaza cu acolade. Elementele se acceseaza specificand intre paranteze drepte valoarea cheii. "
   ]
  },
  {
   "cell_type": "code",
   "execution_count": null,
   "metadata": {},
   "outputs": [],
   "source": [
    "# dictionar gol\n",
    "\n",
    "# instantiere dictionar cu continut\n",
    "\n",
    "# lungime dictionar\n",
    "\n",
    "# valoare pentru cheie\n",
    "\n",
    "# Adaugare k-v\n",
    "\n",
    "# modificare valoare corespunzatoare unei chei\n",
    "\n",
    "# accesare de cheie inexistenta\n",
    "\n",
    "# accesare sigura, fallback"
   ]
  },
  {
   "cell_type": "markdown",
   "metadata": {},
   "source": [
    "Colectiile cheilor unui dictionar se determina cu metoda `keys`, respectiv `values`:"
   ]
  },
  {
   "cell_type": "code",
   "execution_count": null,
   "metadata": {},
   "outputs": [],
   "source": [
    "..."
   ]
  },
  {
   "cell_type": "markdown",
   "metadata": {},
   "source": [
    "Oricare din colectii poate fi transformata intr-o lista prin apelul constructorului `list()` care poate prelua o colectie oarecare:"
   ]
  },
  {
   "cell_type": "code",
   "execution_count": null,
   "metadata": {},
   "outputs": [],
   "source": [
    "..."
   ]
  },
  {
   "cell_type": "markdown",
   "metadata": {},
   "source": [
    "Stergerea unei chei din dictionar, impreuna cu valoarea asociata, se face cu instructiunea `del`:"
   ]
  },
  {
   "cell_type": "code",
   "execution_count": null,
   "metadata": {},
   "outputs": [],
   "source": [
    "..."
   ]
  },
  {
   "cell_type": "markdown",
   "metadata": {},
   "source": [
    "Testarea faptului ca o anumita cheie se afla intr-un dictionar se face cu operatorul `in`:"
   ]
  },
  {
   "cell_type": "code",
   "execution_count": null,
   "metadata": {},
   "outputs": [],
   "source": [
    "..."
   ]
  },
  {
   "cell_type": "markdown",
   "metadata": {},
   "source": [
    "Golirea unui dictionar se face, precum la alte tipuri colectie cu metoda `clear`:"
   ]
  },
  {
   "cell_type": "code",
   "execution_count": null,
   "metadata": {},
   "outputs": [],
   "source": [
    "..."
   ]
  },
  {
   "cell_type": "markdown",
   "metadata": {},
   "source": [
    "Colectia perechilor (cheie, valoare) a unui dictionar se obtine cu metoda `items()`:"
   ]
  },
  {
   "cell_type": "code",
   "execution_count": null,
   "metadata": {},
   "outputs": [],
   "source": [
    "..."
   ]
  },
  {
   "cell_type": "markdown",
   "metadata": {},
   "source": [
    "Daca la un dictionar se doreste adaugarea perechilor (cheie-valoare) ale altui dictionar se foloseste metoda `update`:"
   ]
  },
  {
   "cell_type": "code",
   "execution_count": null,
   "metadata": {},
   "outputs": [],
   "source": [
    "geografie_asia = {'China':'Beijing', 'India':'New Delhi'}\n",
    "..."
   ]
  },
  {
   "cell_type": "markdown",
   "metadata": {},
   "source": [
    "Clonarea unui dictionar se face cu metoda `copy`:"
   ]
  },
  {
   "cell_type": "code",
   "execution_count": null,
   "metadata": {},
   "outputs": [],
   "source": [
    "geografie_copie = geografie.copy()\n",
    "geografie_copie['India'] = 'New----Delhi'\n",
    "print(geografie['India'], ',', geografie_copie['India'])"
   ]
  },
  {
   "cell_type": "markdown",
   "metadata": {},
   "source": [
    "O prezentare detaliata si bine structurata pentru dictionare se gaseste [aici](https://realpython.com/python-dicts/)."
   ]
  },
  {
   "cell_type": "markdown",
   "metadata": {},
   "source": [
    "### Alte colectii"
   ]
  },
  {
   "cell_type": "markdown",
   "metadata": {},
   "source": [
    "Se foloseste foarte frecvent functia `range` care produce o secventa de numere. Formele de utilizare sunt:\n",
    "* `range(n)` produce colectia 0, 1, ..., n-1\n",
    "* `range(start, stop)` produce colectia start, start+1, ..., stop-1\n",
    "* `range(start, stop, step)` produce secventa in functie de semnul lui `step`:\n",
    "    * start, start+step, start+2*step, ... k, unde k este cel mai mare intreg mai mic decat stop, care se obtine prin adaugarea unui multiplu intreg al pasului step la start\n",
    "    * start, start+step, start+2*step, ....k unde k este cel mai mare intreg mai mare decat stop, obtinut prin adaugarea unui multiplu intreg al pasului step la start"
   ]
  },
  {
   "cell_type": "code",
   "execution_count": null,
   "metadata": {},
   "outputs": [],
   "source": [
    "# range cu pas implicit\n"
   ]
  },
  {
   "cell_type": "code",
   "execution_count": null,
   "metadata": {},
   "outputs": [],
   "source": [
    "# range cu pas 3\n"
   ]
  },
  {
   "cell_type": "code",
   "execution_count": null,
   "metadata": {},
   "outputs": [],
   "source": [
    "# range cu pas negativ"
   ]
  },
  {
   "cell_type": "markdown",
   "metadata": {},
   "source": [
    "Functia `enumerate` porneste de la o colectie si da acces simultan atat la indicele elementului din colectie, cat si la elementul curent:"
   ]
  },
  {
   "cell_type": "code",
   "execution_count": null,
   "metadata": {},
   "outputs": [],
   "source": [
    "lista1 = ['a', 'b', 'c']\n",
    "..."
   ]
  },
  {
   "cell_type": "markdown",
   "metadata": {},
   "source": [
    "Functia `zip` permite 'imperecherea' a doua liste"
   ]
  },
  {
   "cell_type": "code",
   "execution_count": null,
   "metadata": {},
   "outputs": [],
   "source": [
    "lista2 = ['m', 'n', 'p']\n",
    "\n",
    "..."
   ]
  },
  {
   "cell_type": "markdown",
   "metadata": {},
   "source": [
    "Un alt tip de date frecvent utilizat este tipul multime (set), cu prezentare in extenso [aici](https://realpython.com/python-sets/)."
   ]
  },
  {
   "cell_type": "markdown",
   "metadata": {},
   "source": [
    "## Instructiuni, comentarii"
   ]
  },
  {
   "cell_type": "markdown",
   "metadata": {},
   "source": [
    "### Blocuri de instructiuni"
   ]
  },
  {
   "cell_type": "markdown",
   "metadata": {},
   "source": [
    "Instructiunile se scriu de regula cate una pe linie. Daca pentru o instructiune prea lunga se doreset continuarea ei pe linia urmatoare, se pune la finalul liniei caracterul \\ si se continua pe rand nou:"
   ]
  },
  {
   "cell_type": "code",
   "execution_count": null,
   "metadata": {},
   "outputs": [],
   "source": [
    "a = 1 + 2 + 3 \\\n",
    "            + 4\n",
    "print(a)"
   ]
  },
  {
   "cell_type": "markdown",
   "metadata": {},
   "source": [
    "Pentru colectii, continuarea pe rand nou nu necesita caracter backslash:"
   ]
  },
  {
   "cell_type": "code",
   "execution_count": null,
   "metadata": {},
   "outputs": [],
   "source": [
    "lista_lunga = [1, 2, 3,\n",
    "              4, 5, 6]"
   ]
  },
  {
   "cell_type": "markdown",
   "metadata": {},
   "source": [
    "Se pot scrie mai multe instructiuni pe o linie, despartindu-se cu caracterul ';'. Acest stil insa e nerecomandat"
   ]
  },
  {
   "cell_type": "code",
   "execution_count": null,
   "metadata": {},
   "outputs": [],
   "source": [
    "print('1'); print('2')"
   ]
  },
  {
   "cell_type": "markdown",
   "metadata": {},
   "source": [
    "Un bloc de instructiuni va folosi aceeasi indentare. Se poate folosi orice pentru indentare (tab, sau acelasi numar de spatii), dar stilul de indentare trebuie sa fie unitar. Un astfel de bloc de instructiuni se termina cu prima linie care nu e indentata in acelasi stil ca si blocul. "
   ]
  },
  {
   "cell_type": "code",
   "execution_count": null,
   "metadata": {},
   "outputs": [],
   "source": [
    "if 1 + 1 == 3:\n",
    "    print('Nu se afiseaza')\n",
    "print('Linia aceasta nu face parte din blocul corespunzator instructiunii if')"
   ]
  },
  {
   "cell_type": "markdown",
   "metadata": {},
   "source": [
    "### Comentarii"
   ]
  },
  {
   "cell_type": "markdown",
   "metadata": {},
   "source": [
    "Comentariile sunt fie pe o singura linie, incepand de la caracterul # pana la finalul liniei, fie folosind apostroafe sau ghilimele, de trei ori la inceput si la sfarsit de comentariu:"
   ]
  },
  {
   "cell_type": "code",
   "execution_count": null,
   "metadata": {},
   "outputs": [],
   "source": [
    "\"\"\"Comentariu\n",
    "foarte lung\"\"\""
   ]
  },
  {
   "cell_type": "markdown",
   "metadata": {},
   "source": [
    "### Atribuirea\n",
    "Atribuirea a fost exemplificata mai sus. Mai avem variantele:"
   ]
  },
  {
   "cell_type": "code",
   "execution_count": null,
   "metadata": {},
   "outputs": [],
   "source": [
    "# Atribuire multipla cu o valoare\n",
    "..."
   ]
  },
  {
   "cell_type": "code",
   "execution_count": null,
   "metadata": {},
   "outputs": [],
   "source": [
    "# Atribuire multipla cu mai multe valori simultan\n",
    "..."
   ]
  },
  {
   "cell_type": "markdown",
   "metadata": {},
   "source": [
    "Ultima forma poate fi speculata astfel: daca `a` si `b` sunt doua variabile si se doreste interschimbarea valorilor lor, atunci putem scrie:"
   ]
  },
  {
   "cell_type": "code",
   "execution_count": null,
   "metadata": {},
   "outputs": [],
   "source": [
    "print('Inainte de interschimbare: ', a, b)\n",
    "...\n",
    "print('Dupa interschimbare: ', a, b)"
   ]
  },
  {
   "cell_type": "markdown",
   "metadata": {},
   "source": [
    "### Instructiunea `if`"
   ]
  },
  {
   "cell_type": "markdown",
   "metadata": {},
   "source": [
    "Formele uzuale sunt:\n",
    "```python\n",
    "if expresie:\n",
    "    bloc 1\n",
    "else\n",
    "    bloc 2\n",
    "```\n",
    "Partea `else` poate sa lipseasca. Blocurile de instructiuni ce urmeaza dupa `if` si `else` sunt indentate."
   ]
  },
  {
   "cell_type": "code",
   "execution_count": null,
   "metadata": {},
   "outputs": [],
   "source": [
    "var1 = 100\n",
    "var2 = 200\n",
    "..."
   ]
  },
  {
   "cell_type": "markdown",
   "metadata": {},
   "source": [
    "O instructiune `if` poate conine multiple teste, folosind `elif`: \n",
    "```python\n",
    "if expression1:\n",
    "   statement(s)\n",
    "elif expression2:\n",
    "   statement(s)\n",
    "elif expression3:\n",
    "   statement(s)\n",
    "else:\n",
    "   statement(s)\n",
    "```\n",
    "Se evalueaza in ordine conditiile `expression1`, `expression2` etc. pana la prima care e gasita ca fiind adevarata; blocul ei este executat si restul se ignora"
   ]
  },
  {
   "cell_type": "code",
   "execution_count": null,
   "metadata": {
    "ExecuteTime": {
     "end_time": "2023-02-21T08:33:22.578236Z",
     "start_time": "2023-02-21T08:33:22.571220Z"
    }
   },
   "outputs": [],
   "source": [
    "var = 100\n",
    "if var == 200:\n",
    "    print(\"1 - Got a true expression value\")\n",
    "    print(var)\n",
    "elif var == 150:\n",
    "    print(\"2 - Got a true expression value\")\n",
    "    print(var)\n",
    "elif var == 100:\n",
    "    print(\"3 - Got a true expression value\")\n",
    "    print(var)\n",
    "else:\n",
    "    print(\"4 - Got a false expression value\")\n",
    "    print(var)"
   ]
  },
  {
   "cell_type": "markdown",
   "metadata": {},
   "source": [
    "Instructiunea `if` se poate folosi si inline, in forma:\n",
    "```python\n",
    "expression_if_true if condition else expression_if_false\n",
    "```\n",
    "Exemplu:"
   ]
  },
  {
   "cell_type": "code",
   "execution_count": null,
   "metadata": {},
   "outputs": [],
   "source": [
    "CNP = '5678901234567'\n",
    "gen_masculin =...\n",
    "print('gen masculin:', gen_masculin)"
   ]
  },
  {
   "cell_type": "markdown",
   "metadata": {},
   "source": [
    "### Ciclare: for"
   ]
  },
  {
   "cell_type": "markdown",
   "metadata": {},
   "source": [
    "Ciclarea cu `for` este folosita pentru a itera o instructiune sau un bloc de instructiuni peste o colectie cunoscuta. "
   ]
  },
  {
   "cell_type": "code",
   "execution_count": null,
   "metadata": {},
   "outputs": [],
   "source": [
    "for i in range(0, 3):\n",
    "    print('i=', i)"
   ]
  },
  {
   "cell_type": "code",
   "execution_count": null,
   "metadata": {},
   "outputs": [],
   "source": [
    "# Exemplu: calculul factorialului unui numar\n",
    "..."
   ]
  },
  {
   "cell_type": "code",
   "execution_count": null,
   "metadata": {},
   "outputs": [],
   "source": [
    "# %%timeit\n",
    "# n = 100\n",
    "# list_numbers = [str(i) for i in range(1, n+1)]\n",
    "# expression = '*'.join(list_numbers)\n",
    "# print(eval(expression))"
   ]
  },
  {
   "cell_type": "code",
   "execution_count": null,
   "metadata": {},
   "outputs": [],
   "source": [
    "# iterare peste lista\n",
    "lista_nume = ['Ana', 'Dan', 'Rares', 'Dana']\n",
    "..."
   ]
  },
  {
   "cell_type": "code",
   "execution_count": null,
   "metadata": {},
   "outputs": [],
   "source": [
    "# iterare peste cheile unui dictionar\n",
    "geografie = {'Romania': 'Bucuresti', 'Serbia': 'Belgrad', 'Grecia':'Atena'}\n"
   ]
  },
  {
   "cell_type": "code",
   "execution_count": null,
   "metadata": {},
   "outputs": [],
   "source": [
    "# iterare cu doua elemente, peste colectie de perechi cu items din dictionar\n",
    "..."
   ]
  },
  {
   "cell_type": "code",
   "execution_count": null,
   "metadata": {},
   "outputs": [],
   "source": [
    "for index, element in enumerate(lista_nume):\n",
    "    print(index, element)"
   ]
  },
  {
   "cell_type": "code",
   "execution_count": null,
   "metadata": {},
   "outputs": [],
   "source": [
    "# enumerare peste doua colectii 'impreunate'\n",
    "lista_ani = [20, 21, 22, 23]\n",
    "for nume, ani in zip(lista_nume, lista_ani):\n",
    "    print(nume, 'are', ani, 'ani')"
   ]
  },
  {
   "cell_type": "markdown",
   "metadata": {},
   "source": [
    "Se poate forta iesirea dintr-un ciclu `for` cu instructiunea `break`. Se poate sari peste o parte din blocul unui ciclu `for` si trece la ciclarea urmatoare folosind `continue`:"
   ]
  },
  {
   "cell_type": "code",
   "execution_count": null,
   "metadata": {},
   "outputs": [],
   "source": [
    "for i in range(100):\n",
    "    if i > 5:\n",
    "        break\n",
    "    print(i)"
   ]
  },
  {
   "cell_type": "code",
   "execution_count": null,
   "metadata": {},
   "outputs": [],
   "source": [
    "for i in range(10):\n",
    "    if i % 2 == 0:\n",
    "        continue\n",
    "    print(i)"
   ]
  },
  {
   "cell_type": "markdown",
   "metadata": {},
   "source": [
    "O forma aparte a instructiunii `for` in Python este aceea in care la final se pune `else`: daca nu s-a executat 'break' in corpul ciclului, atunci se executa blocul de dupa `else`:"
   ]
  },
  {
   "cell_type": "code",
   "execution_count": null,
   "metadata": {},
   "outputs": [],
   "source": [
    "for n in range(2, 10):\n",
    "    for x in range(2, n):\n",
    "        if n % x == 0:\n",
    "            print( n, 'equals', x, '*', n//x)\n",
    "            break\n",
    "    else:\n",
    "        # loop fell through without finding a factor\n",
    "        print(n, 'is a prime number')"
   ]
  },
  {
   "cell_type": "markdown",
   "metadata": {},
   "source": [
    "### Ciclare: while"
   ]
  },
  {
   "cell_type": "markdown",
   "metadata": {},
   "source": [
    "Folosind `while` se cicleaza peste un bloc de instructiuni atata timp cat o anumita conditie este adevarata:\n",
    "```python\n",
    "while test_expression:\n",
    "    body of while\n",
    "```"
   ]
  },
  {
   "cell_type": "code",
   "execution_count": null,
   "metadata": {},
   "outputs": [],
   "source": [
    "# suma cu while"
   ]
  },
  {
   "cell_type": "markdown",
   "metadata": {},
   "source": [
    "Se poate ca o instructiune `while` sa se termine cu `else`, al carei bloc se executa cand expresia de test devine falsa, dar numai daca nu s-a ajuns la un `break`."
   ]
  }
 ],
 "metadata": {
  "kernelspec": {
   "display_name": "Python 3 (ipykernel)",
   "language": "python",
   "name": "python3"
  },
  "language_info": {
   "codemirror_mode": {
    "name": "ipython",
    "version": 3
   },
   "file_extension": ".py",
   "mimetype": "text/x-python",
   "name": "python",
   "nbconvert_exporter": "python",
   "pygments_lexer": "ipython3",
   "version": "3.11.5"
  },
  "notify_time": "5",
  "toc": {
   "base_numbering": 1,
   "nav_menu": {},
   "number_sections": true,
   "sideBar": true,
   "skip_h1_title": false,
   "title_cell": "Table of Contents",
   "title_sidebar": "Contents",
   "toc_cell": false,
   "toc_position": {},
   "toc_section_display": true,
   "toc_window_display": false
  },
  "varInspector": {
   "cols": {
    "lenName": 16,
    "lenType": 16,
    "lenVar": 40
   },
   "kernels_config": {
    "python": {
     "delete_cmd_postfix": "",
     "delete_cmd_prefix": "del ",
     "library": "var_list.py",
     "varRefreshCmd": "print(var_dic_list())"
    },
    "r": {
     "delete_cmd_postfix": ") ",
     "delete_cmd_prefix": "rm(",
     "library": "var_list.r",
     "varRefreshCmd": "cat(var_dic_list()) "
    }
   },
   "types_to_exclude": [
    "module",
    "function",
    "builtin_function_or_method",
    "instance",
    "_Feature"
   ],
   "window_display": false
  }
 },
 "nbformat": 4,
 "nbformat_minor": 2
}
