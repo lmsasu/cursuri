{
 "cells": [
  {
   "cell_type": "markdown",
   "metadata": {},
   "source": [
    "# Curs 2: Lucrul cu colectii, functii, module si pachete Python, pachetul NumPy"
   ]
  },
  {
   "cell_type": "markdown",
   "metadata": {},
   "source": [
    "## Collection comprehension"
   ]
  },
  {
   "cell_type": "markdown",
   "metadata": {},
   "source": [
    "Pornind de la o colectie (cel mai frecvent caz: de la o lista) se poate crea o alta colectie, folosind *collection comprehension* - in esenta o ciclare:"
   ]
  },
  {
   "cell_type": "code",
   "execution_count": 20,
   "metadata": {
    "ExecuteTime": {
     "end_time": "2022-03-01T17:29:40.711353Z",
     "start_time": "2022-03-01T17:29:40.686329Z"
    },
    "execution": {
     "iopub.execute_input": "2024-02-22T10:53:15.046145Z",
     "iopub.status.busy": "2024-02-22T10:53:15.046145Z",
     "iopub.status.idle": "2024-02-22T10:53:15.054145Z",
     "shell.execute_reply": "2024-02-22T10:53:15.053165Z",
     "shell.execute_reply.started": "2024-02-22T10:53:15.046145Z"
    }
   },
   "outputs": [
    {
     "name": "stdout",
     "output_type": "stream",
     "text": [
      "[1, 9, 36, 441, 484, 1024, 1089]\n"
     ]
    }
   ],
   "source": [
    "lista_numere = [1, 3, 6,  21, 22, 32, 33]\n",
    "lista_patrate = [n**2 for n in lista_numere]\n",
    "print(lista_patrate)"
   ]
  },
  {
   "cell_type": "markdown",
   "metadata": {},
   "source": [
    "Optional, la fiecare pas al iterarii se poate lua in considerare o conditie `if` inline:"
   ]
  },
  {
   "cell_type": "code",
   "execution_count": 21,
   "metadata": {
    "ExecuteTime": {
     "end_time": "2022-03-01T17:29:40.727364Z",
     "start_time": "2022-03-01T17:29:40.716357Z"
    },
    "execution": {
     "iopub.execute_input": "2024-02-22T10:53:15.056146Z",
     "iopub.status.busy": "2024-02-22T10:53:15.056146Z",
     "iopub.status.idle": "2024-02-22T10:53:15.061318Z",
     "shell.execute_reply": "2024-02-22T10:53:15.061318Z",
     "shell.execute_reply.started": "2024-02-22T10:53:15.056146Z"
    }
   },
   "outputs": [
    {
     "name": "stdout",
     "output_type": "stream",
     "text": [
      "[36, 484, 1024]\n"
     ]
    }
   ],
   "source": [
    "lista_patrate_doar_numere_pare = [n**2 for n in lista_numere if n % 2 == 0]\n",
    "print(lista_patrate_doar_numere_pare)"
   ]
  },
  {
   "cell_type": "markdown",
   "metadata": {},
   "source": [
    "... sau se foloseste si `else` pe langa `if`:"
   ]
  },
  {
   "cell_type": "code",
   "execution_count": 22,
   "metadata": {
    "ExecuteTime": {
     "end_time": "2022-03-01T17:29:40.743363Z",
     "start_time": "2022-03-01T17:29:40.730329Z"
    },
    "execution": {
     "iopub.execute_input": "2024-02-22T10:53:15.062315Z",
     "iopub.status.busy": "2024-02-22T10:53:15.062315Z",
     "iopub.status.idle": "2024-02-22T10:53:15.067344Z",
     "shell.execute_reply": "2024-02-22T10:53:15.066828Z",
     "shell.execute_reply.started": "2024-02-22T10:53:15.062315Z"
    }
   },
   "outputs": [
    {
     "name": "stdout",
     "output_type": "stream",
     "text": [
      "[1, 27, 36, 9261, 484, 1024, 35937]\n"
     ]
    }
   ],
   "source": [
    "lista_patrate_sau_cuburi = [n**2 if n % 2 == 0 else n** 3 for n in lista_numere]\n",
    "print(lista_patrate_sau_cuburi)"
   ]
  },
  {
   "cell_type": "markdown",
   "metadata": {},
   "source": [
    "Exercitiu: daca o lista are ca elemente alte liste, cum se poate determina lista 'flattened'? De exemplu, pentru lista a1 = [[1, 2], [3, 4, 5], [10]] se doreste rezultatul a2 = [1, 2, 3, 4, 5, 10]"
   ]
  },
  {
   "cell_type": "code",
   "execution_count": 23,
   "metadata": {
    "ExecuteTime": {
     "end_time": "2022-03-01T17:29:40.759356Z",
     "start_time": "2022-03-01T17:29:40.747344Z"
    },
    "execution": {
     "iopub.execute_input": "2024-02-22T10:53:15.068336Z",
     "iopub.status.busy": "2024-02-22T10:53:15.068336Z",
     "iopub.status.idle": "2024-02-22T10:53:15.071823Z",
     "shell.execute_reply": "2024-02-22T10:53:15.071823Z",
     "shell.execute_reply.started": "2024-02-22T10:53:15.068336Z"
    }
   },
   "outputs": [
    {
     "name": "stdout",
     "output_type": "stream",
     "text": [
      "[1, 2, 3, 4, 5, 10]\n"
     ]
    }
   ],
   "source": [
    "a1 = [[1, 2], [3, 4, 5], [10]]\n",
    "a2 = [x for sublista in a1 for x in sublista]\n",
    "print(a2)"
   ]
  },
  {
   "cell_type": "markdown",
   "metadata": {},
   "source": [
    "Comprehension se poate folosi si peste alte tipuri de colectii: de exemplu, putem pleca de la o lista si producem dictionar:"
   ]
  },
  {
   "cell_type": "code",
   "execution_count": 24,
   "metadata": {
    "ExecuteTime": {
     "end_time": "2022-03-01T17:29:40.775361Z",
     "start_time": "2022-03-01T17:29:40.764347Z"
    },
    "execution": {
     "iopub.execute_input": "2024-02-22T10:53:15.073821Z",
     "iopub.status.busy": "2024-02-22T10:53:15.073821Z",
     "iopub.status.idle": "2024-02-22T10:53:15.078821Z",
     "shell.execute_reply": "2024-02-22T10:53:15.078821Z",
     "shell.execute_reply.started": "2024-02-22T10:53:15.073821Z"
    }
   },
   "outputs": [
    {
     "name": "stdout",
     "output_type": "stream",
     "text": [
      "{1: '2', 3: '10', 6: '37', 21: '442', 22: '485', 32: '1025', 33: '1090'}\n"
     ]
    }
   ],
   "source": [
    "lista_numere = [1, 3, 6,  21, 22, 32, 33]\n",
    "dictionar_numere_si_patrate = {x:str(x**2+1) for x in lista_numere}\n",
    "print(dictionar_numere_si_patrate)"
   ]
  },
  {
   "cell_type": "markdown",
   "metadata": {},
   "source": [
    "...sau liste de tuple:"
   ]
  },
  {
   "cell_type": "code",
   "execution_count": 25,
   "metadata": {
    "ExecuteTime": {
     "end_time": "2022-03-01T17:29:40.790330Z",
     "start_time": "2022-03-01T17:29:40.780332Z"
    },
    "execution": {
     "iopub.execute_input": "2024-02-22T10:53:15.079821Z",
     "iopub.status.busy": "2024-02-22T10:53:15.079821Z",
     "iopub.status.idle": "2024-02-22T10:53:15.084028Z",
     "shell.execute_reply": "2024-02-22T10:53:15.084028Z",
     "shell.execute_reply.started": "2024-02-22T10:53:15.079821Z"
    }
   },
   "outputs": [
    {
     "name": "stdout",
     "output_type": "stream",
     "text": [
      "[('red', 'house'), ('red', 'car'), ('red', 'tree'), ('green', 'house'), ('green', 'car'), ('green', 'tree'), ('yellow', 'house'), ('yellow', 'car'), ('yellow', 'tree'), ('blue', 'house'), ('blue', 'car'), ('blue', 'tree')]\n"
     ]
    }
   ],
   "source": [
    "# produs cartezian\n",
    "colours = [ \"red\", \"green\", \"yellow\", \"blue\" ]\n",
    "things = [ \"house\", \"car\", \"tree\" ]\n",
    "produs_cartezian = [(colour, thing) for colour in colours for thing in things]\n",
    "print(produs_cartezian)\n",
    "assert len(produs_cartezian) == len(colours) * len(things)"
   ]
  },
  {
   "cell_type": "markdown",
   "metadata": {},
   "source": [
    "Mai jos sunt cateva exemple de utilizare de comprehension peste colectii."
   ]
  },
  {
   "cell_type": "code",
   "execution_count": 26,
   "metadata": {
    "ExecuteTime": {
     "end_time": "2022-03-01T17:29:40.806368Z",
     "start_time": "2022-03-01T17:29:40.793338Z"
    },
    "execution": {
     "iopub.execute_input": "2024-02-22T10:53:15.085025Z",
     "iopub.status.busy": "2024-02-22T10:53:15.085025Z",
     "iopub.status.idle": "2024-02-22T10:53:15.106640Z",
     "shell.execute_reply": "2024-02-22T10:53:15.104680Z",
     "shell.execute_reply.started": "2024-02-22T10:53:15.085025Z"
    }
   },
   "outputs": [
    {
     "ename": "TypeError",
     "evalue": "can't multiply sequence by non-int of type 'float'",
     "output_type": "error",
     "traceback": [
      "\u001b[1;31m---------------------------------------------------------------------------\u001b[0m",
      "\u001b[1;31mTypeError\u001b[0m                                 Traceback (most recent call last)",
      "Cell \u001b[1;32mIn[26], line 3\u001b[0m\n\u001b[0;32m      1\u001b[0m \u001b[38;5;66;03m# Conversie de temperaturi din Celsius in Fahrenheit: valoarea in Fahrenheit se obtine cu formula: 1.8 * gradeCelsius + 32\u001b[39;00m\n\u001b[0;32m      2\u001b[0m grade_celsius \u001b[38;5;241m=\u001b[39m [\u001b[38;5;241m-\u001b[39m\u001b[38;5;241m20\u001b[39m, \u001b[38;5;241m-\u001b[39m\u001b[38;5;241m10\u001b[39m, \u001b[38;5;241m0\u001b[39m, \u001b[38;5;241m5\u001b[39m, \u001b[38;5;241m23\u001b[39m, \u001b[38;5;241m35\u001b[39m]\n\u001b[1;32m----> 3\u001b[0m grade_fahrenheit \u001b[38;5;241m=\u001b[39m [\u001b[38;5;241m1.8\u001b[39m \u001b[38;5;241m*\u001b[39m grade_celsius \u001b[38;5;241m+\u001b[39m \u001b[38;5;241m32\u001b[39m \u001b[38;5;28;01mfor\u001b[39;00m gradeCelsius \u001b[38;5;129;01min\u001b[39;00m grade_celsius]\n\u001b[0;32m      4\u001b[0m \u001b[38;5;28mprint\u001b[39m(grade_fahrenheit)\n",
      "Cell \u001b[1;32mIn[26], line 3\u001b[0m, in \u001b[0;36m<listcomp>\u001b[1;34m(.0)\u001b[0m\n\u001b[0;32m      1\u001b[0m \u001b[38;5;66;03m# Conversie de temperaturi din Celsius in Fahrenheit: valoarea in Fahrenheit se obtine cu formula: 1.8 * gradeCelsius + 32\u001b[39;00m\n\u001b[0;32m      2\u001b[0m grade_celsius \u001b[38;5;241m=\u001b[39m [\u001b[38;5;241m-\u001b[39m\u001b[38;5;241m20\u001b[39m, \u001b[38;5;241m-\u001b[39m\u001b[38;5;241m10\u001b[39m, \u001b[38;5;241m0\u001b[39m, \u001b[38;5;241m5\u001b[39m, \u001b[38;5;241m23\u001b[39m, \u001b[38;5;241m35\u001b[39m]\n\u001b[1;32m----> 3\u001b[0m grade_fahrenheit \u001b[38;5;241m=\u001b[39m [\u001b[38;5;241m1.8\u001b[39m \u001b[38;5;241m*\u001b[39m grade_celsius \u001b[38;5;241m+\u001b[39m \u001b[38;5;241m32\u001b[39m \u001b[38;5;28;01mfor\u001b[39;00m gradeCelsius \u001b[38;5;129;01min\u001b[39;00m grade_celsius]\n\u001b[0;32m      4\u001b[0m \u001b[38;5;28mprint\u001b[39m(grade_fahrenheit)\n",
      "\u001b[1;31mTypeError\u001b[0m: can't multiply sequence by non-int of type 'float'"
     ]
    }
   ],
   "source": [
    "# Conversie de temperaturi din Celsius in Fahrenheit: valoarea in Fahrenheit se obtine cu formula: 1.8 * gradeCelsius + 32\n",
    "grade_celsius = [-20, -10, 0, 5, 23, 35]\n",
    "grade_fahrenheit = [1.8 * grade_celsius + 32 for gradeCelsius in grade_celsius]\n",
    "print(grade_fahrenheit)"
   ]
  },
  {
   "cell_type": "code",
   "execution_count": null,
   "metadata": {
    "ExecuteTime": {
     "end_time": "2022-03-01T17:29:40.822359Z",
     "start_time": "2022-03-01T17:29:40.810324Z"
    },
    "execution": {
     "iopub.status.busy": "2024-02-22T10:53:15.106640Z",
     "iopub.status.idle": "2024-02-22T10:53:15.107640Z",
     "shell.execute_reply": "2024-02-22T10:53:15.106640Z",
     "shell.execute_reply.started": "2024-02-22T10:53:15.106640Z"
    }
   },
   "outputs": [],
   "source": [
    "# Suma patratelor numerelor de la 1 la 20\n",
    "print(sum(x for x in range(1, 21)))   # generator"
   ]
  },
  {
   "cell_type": "code",
   "execution_count": null,
   "metadata": {
    "ExecuteTime": {
     "end_time": "2022-03-01T17:29:40.854362Z",
     "start_time": "2022-03-01T17:29:40.826325Z"
    },
    "execution": {
     "iopub.status.busy": "2024-02-22T10:53:15.108640Z",
     "iopub.status.idle": "2024-02-22T10:53:15.108640Z",
     "shell.execute_reply": "2024-02-22T10:53:15.108640Z",
     "shell.execute_reply.started": "2024-02-22T10:53:15.108640Z"
    }
   },
   "outputs": [],
   "source": [
    "# Dintr-o lista de cuvinte se mentin doar cele care nu fac parte dintr-o alta lista specificata (stop words)\n",
    "stop_words = [\"a\", \"about\", \"above\", \"above\", \"across\", \"after\", \"afterwards\", \"again\", \"against\", \"all\", \"almost\", \"alone\", \"along\", \"already\", \"also\",\"although\",\"always\",\"am\",\"among\", \"amongst\", \"amoungst\", \"amount\",  \"an\", \"and\", \"another\", \"any\",\"anyhow\",\"anyone\",\"anything\",\"anyway\", \"anywhere\", \"are\", \"around\", \"as\",  \"at\", \"back\",\"be\",\"became\", \"because\",\"become\",\"becomes\", \"becoming\", \"been\", \"before\", \"beforehand\", \"behind\", \"being\", \"below\", \"beside\", \"besides\", \"between\", \"beyond\", \"bill\", \"both\", \"bottom\",\"but\", \"by\", \"call\", \"can\", \"cannot\", \"cant\", \"co\", \"con\", \"could\", \"couldnt\", \"cry\", \"de\", \"describe\", \"detail\", \"do\", \"done\", \"down\", \"due\", \"during\", \"each\", \"eg\", \"eight\", \"either\", \"eleven\",\"else\", \"elsewhere\", \"empty\", \"enough\", \"etc\", \"even\", \"ever\", \"every\", \"everyone\", \"everything\", \"everywhere\", \"except\", \"few\", \"fifteen\", \"fify\", \"fill\", \"find\", \"fire\", \"first\", \"five\", \"for\", \"former\", \"formerly\", \"forty\", \"found\", \"four\", \"from\", \"front\", \"full\", \"further\", \"get\", \"give\", \"go\", \"had\", \"has\", \"hasnt\", \"have\", \"he\", \"hence\", \"her\", \"here\", \"hereafter\", \"hereby\", \"herein\", \"hereupon\", \"hers\", \"herself\", \"him\", \"himself\", \"his\", \"how\", \"however\", \"hundred\", \"ie\", \"if\", \"in\", \"inc\", \"indeed\", \"interest\", \"into\", \"is\", \"it\", \"its\", \"itself\", \"keep\", \"last\", \"latter\", \"latterly\", \"least\", \"less\", \"ltd\", \"made\", \"many\", \"may\", \"me\", \"meanwhile\", \"might\", \"mill\", \"mine\", \"more\", \"moreover\", \"most\", \"mostly\", \"move\", \"much\", \"must\", \"my\", \"myself\", \"name\", \"namely\", \"neither\", \"never\", \"nevertheless\", \"next\", \"nine\", \"no\", \"nobody\", \"none\", \"noone\", \"nor\", \"not\", \"nothing\", \"now\", \"nowhere\", \"of\", \"off\", \"often\", \"on\", \"once\", \"one\", \"only\", \"onto\", \"or\", \"other\", \"others\", \"otherwise\", \"our\", \"ours\", \"ourselves\", \"out\", \"over\", \"own\",\"part\", \"per\", \"perhaps\", \"please\", \"put\", \"rather\", \"re\", \"same\", \"see\", \"seem\", \"seemed\", \"seeming\", \"seems\", \"serious\", \"several\", \"she\", \"should\", \"show\", \"side\", \"since\", \"sincere\", \"six\", \"sixty\", \"so\", \"some\", \"somehow\", \"someone\", \"something\", \"sometime\", \"sometimes\", \"somewhere\", \"still\", \"such\", \"system\", \"take\", \"ten\", \"than\", \"that\", \"the\", \"their\", \"them\", \"themselves\", \"then\", \"thence\", \"there\", \"thereafter\", \"thereby\", \"therefore\", \"therein\", \"thereupon\", \"these\", \"they\", \"thickv\", \"thin\", \"third\", \"this\", \"those\", \"though\", \"three\", \"through\", \"throughout\", \"thru\", \"thus\", \"to\", \"together\", \"too\", \"top\", \"toward\", \"towards\", \"twelve\", \"twenty\", \"two\", \"un\", \"under\", \"until\", \"up\", \"upon\", \"us\", \"very\", \"via\", \"was\", \"we\", \"well\", \"were\", \"what\", \"whatever\", \"when\", \"whence\", \"whenever\", \"where\", \"whereafter\", \"whereas\", \"whereby\", \"wherein\", \"whereupon\", \"wherever\", \"whether\", \"which\", \"while\", \"whither\", \"who\", \"whoever\", \"whole\", \"whom\", \"whose\", \"why\", \"will\", \"with\", \"within\", \"without\", \"would\", \"yet\", \"you\", \"your\", \"yours\", \"yourself\", \"yourselves\", \"the\"]\n",
    "paragraph_list = ['Stopword','filtering','is','a','common','step','in','preprocessing','text','for','various','purposes','This','is','a','list','of','several','different','stopword','lists','extracted','from','various','search','engines','libraries','and','articles','There', 'is','a','surprising','number','of','different','lists']\n",
    "print('Initial:',paragraph_list)\n",
    "filtered = [word for word in paragraph_list if word not in stop_words]\n",
    "print('\\nDupa filtrare:', filtered)        "
   ]
  },
  {
   "cell_type": "markdown",
   "metadata": {},
   "source": [
    "## Functii"
   ]
  },
  {
   "cell_type": "markdown",
   "metadata": {},
   "source": [
    "Functiile sunt de trei feluri:\n",
    "* Functii deja definite in limbajul Python, cum ar fi `len()`, `print()`\n",
    "* Functii definite de utilizator\n",
    "* Lambda functii\n",
    "\n",
    "O functie se defineste folosind cuvantul cheie `def`. Blocul de instructiuni ce defineste corpul functiei este indentat. O functie poate sa nu returneze nimic in mod explicit (si in acest caz rezultatul returnat este considerat `None`), sau orice numar de valori."
   ]
  },
  {
   "cell_type": "markdown",
   "metadata": {},
   "source": [
    "### Functii definite de utilizator"
   ]
  },
  {
   "cell_type": "markdown",
   "metadata": {},
   "source": [
    "Urmeaza cateva exemple de functii definite de utilizatorcu comentarii:"
   ]
  },
  {
   "cell_type": "code",
   "execution_count": null,
   "metadata": {
    "ExecuteTime": {
     "end_time": "2022-03-01T17:29:40.870332Z",
     "start_time": "2022-03-01T17:29:40.860329Z"
    },
    "execution": {
     "iopub.status.busy": "2024-02-22T10:53:15.109641Z",
     "iopub.status.idle": "2024-02-22T10:53:15.109641Z",
     "shell.execute_reply": "2024-02-22T10:53:15.109641Z",
     "shell.execute_reply.started": "2024-02-22T10:53:15.109641Z"
    }
   },
   "outputs": [],
   "source": [
    "def hello():\n",
    "    print('Salutare')\n",
    "    \n",
    "hello()"
   ]
  },
  {
   "cell_type": "code",
   "execution_count": null,
   "metadata": {
    "ExecuteTime": {
     "end_time": "2022-03-01T17:29:40.886361Z",
     "start_time": "2022-03-01T17:29:40.873366Z"
    },
    "execution": {
     "iopub.status.busy": "2024-02-22T10:53:15.110641Z",
     "iopub.status.idle": "2024-02-22T10:53:15.111640Z",
     "shell.execute_reply": "2024-02-22T10:53:15.111640Z",
     "shell.execute_reply.started": "2024-02-22T10:53:15.111640Z"
    }
   },
   "outputs": [],
   "source": [
    "def hello_with_name(nume):\n",
    "    \"\"\"\n",
    "    Functia preia un argument si afiseaza mesajul: Salutare urmat de valoarea argumentului.\n",
    "    Functia returneaza argumentul cu litere mari.\n",
    "    :param nume: numele care se cere afisat\n",
    "    :return: sirul din :param nume: cu litere mari\n",
    "    \"\"\"\n",
    "    print(f'Salutare {nume}')\n",
    "    return nume.upper()\n",
    "\n",
    "# nume = 'Natalia'\n",
    "# nume_litere_mari = hello_with_name(nume)\n",
    "# print(nume_litere_mari)\n",
    "# help(hello_with_name)\n",
    "print(hello_with_name.__doc__)"
   ]
  },
  {
   "cell_type": "code",
   "execution_count": null,
   "metadata": {
    "execution": {
     "iopub.status.busy": "2024-02-22T10:53:15.112641Z",
     "iopub.status.idle": "2024-02-22T10:53:15.112641Z",
     "shell.execute_reply": "2024-02-22T10:53:15.112641Z",
     "shell.execute_reply.started": "2024-02-22T10:53:15.112641Z"
    }
   },
   "outputs": [],
   "source": [
    "dir(hello_with_name)"
   ]
  },
  {
   "cell_type": "code",
   "execution_count": null,
   "metadata": {
    "ExecuteTime": {
     "end_time": "2022-03-01T17:29:40.902363Z",
     "start_time": "2022-03-01T17:29:40.889330Z"
    },
    "execution": {
     "iopub.status.busy": "2024-02-22T10:53:15.114641Z",
     "iopub.status.idle": "2024-02-22T10:53:15.114641Z",
     "shell.execute_reply": "2024-02-22T10:53:15.114641Z",
     "shell.execute_reply.started": "2024-02-22T10:53:15.114641Z"
    }
   },
   "outputs": [],
   "source": [
    "# exemplu de functie care returneaza mai multe valori simultan\n",
    "# rezultatul este un tuplu cu doua valori\n",
    "def min_max(a, b):\n",
    "    if a<b:\n",
    "        return (a, b)\n",
    "    else:\n",
    "        return (b, a)\n",
    "    \n",
    "x, y = 20, 10\n",
    "min_2, max_2 = min_max(x, y)\n",
    "print('Minimul este:', min_2, '; maximul este:', max_2)"
   ]
  },
  {
   "cell_type": "code",
   "execution_count": null,
   "metadata": {
    "ExecuteTime": {
     "end_time": "2022-03-01T17:29:40.933358Z",
     "start_time": "2022-03-01T17:29:40.906334Z"
    },
    "execution": {
     "iopub.status.busy": "2024-02-22T10:53:15.115642Z",
     "iopub.status.idle": "2024-02-22T10:53:15.115642Z",
     "shell.execute_reply": "2024-02-22T10:53:15.115642Z",
     "shell.execute_reply.started": "2024-02-22T10:53:15.115642Z"
    }
   },
   "outputs": [],
   "source": [
    "# parametrii se pot da prin numele lor urmat de egal si valoarea efectiva\n",
    "min_max(a=5, b=14)"
   ]
  },
  {
   "cell_type": "code",
   "execution_count": null,
   "metadata": {
    "ExecuteTime": {
     "end_time": "2022-03-01T17:29:40.949361Z",
     "start_time": "2022-03-01T17:29:40.936325Z"
    },
    "execution": {
     "iopub.status.busy": "2024-02-22T10:53:15.116641Z",
     "iopub.status.idle": "2024-02-22T10:53:15.116641Z",
     "shell.execute_reply": "2024-02-22T10:53:15.116641Z",
     "shell.execute_reply.started": "2024-02-22T10:53:15.116641Z"
    }
   },
   "outputs": [],
   "source": [
    "min_max(b=3, a=20)"
   ]
  },
  {
   "cell_type": "markdown",
   "metadata": {},
   "source": [
    "Pot exista parametri cu valori implicite, precizati la finalul listei de parametri formali:"
   ]
  },
  {
   "cell_type": "code",
   "execution_count": null,
   "metadata": {
    "ExecuteTime": {
     "end_time": "2022-03-01T17:29:40.965326Z",
     "start_time": "2022-03-01T17:29:40.953325Z"
    },
    "execution": {
     "iopub.status.busy": "2024-02-22T10:53:15.117641Z",
     "iopub.status.idle": "2024-02-22T10:53:15.117641Z",
     "shell.execute_reply": "2024-02-22T10:53:15.117641Z",
     "shell.execute_reply.started": "2024-02-22T10:53:15.117641Z"
    }
   },
   "outputs": [],
   "source": [
    "def greet(name, msg = \"good morning!\"):\n",
    "   \"\"\"\n",
    "   This function greets to the person with the provided message.\n",
    "\n",
    "   If message is not provided, it defaults to \"good morning!\"\n",
    "   :param name: Name of the guy to be greeted\n",
    "   :param msg: a message shown as greeting. It defaults to \"good morning\"\n",
    "   \"\"\"\n",
    "\n",
    "   print(\"Hello\",name + ', ' + msg)\n",
    "\n",
    "greet(\"Kate\")\n",
    "greet(\"Bruce\",\"how do you do?\")\n",
    "# echivalent: greet(name=\"Bruce\",msg=\"how do you do?\")"
   ]
  },
  {
   "cell_type": "markdown",
   "metadata": {},
   "source": [
    "Putem avea n parametru care sa permita numar variabil de valori trimise la apel; acest tip de parametru se scrie cu `*` urmata de numele parametrului formal (de exemplu: `*args`)"
   ]
  },
  {
   "cell_type": "code",
   "execution_count": null,
   "metadata": {
    "ExecuteTime": {
     "end_time": "2022-03-01T17:29:40.981327Z",
     "start_time": "2022-03-01T17:29:40.968345Z"
    },
    "execution": {
     "iopub.status.busy": "2024-02-22T10:53:15.118640Z",
     "iopub.status.idle": "2024-02-22T10:53:15.119641Z",
     "shell.execute_reply": "2024-02-22T10:53:15.118640Z",
     "shell.execute_reply.started": "2024-02-22T10:53:15.118640Z"
    }
   },
   "outputs": [],
   "source": [
    "# Functie cu numar arbitrar de argumente\n",
    "def greet(*names, msg = \"Good morning!\"):\n",
    "    for n in names:\n",
    "        print(\"Hello\",n + ', ' + msg)\n",
    "    \n",
    "greet('Dan', 'John', 'Mary')      \n",
    "greet('Dan', 'John', 'Mary', msg='How do you do?')"
   ]
  },
  {
   "cell_type": "markdown",
   "metadata": {},
   "source": [
    "Se pot defini functii care sa manipuleze un numar variabil de parametri dati la apel sub forma de nume_parametru=valoare_parametru; denumirea traditionala este `kwargs` (keywords arguments), numele parametrului se prefixaza cu `**`:"
   ]
  },
  {
   "cell_type": "code",
   "execution_count": null,
   "metadata": {
    "ExecuteTime": {
     "end_time": "2022-03-01T17:29:40.997328Z",
     "start_time": "2022-03-01T17:29:40.984329Z"
    },
    "execution": {
     "iopub.status.busy": "2024-02-22T10:53:15.120641Z",
     "iopub.status.idle": "2024-02-22T10:53:15.120641Z",
     "shell.execute_reply": "2024-02-22T10:53:15.120641Z",
     "shell.execute_reply.started": "2024-02-22T10:53:15.120641Z"
    }
   },
   "outputs": [],
   "source": [
    "def demo_kwargs(**kwargs):\n",
    "    print(kwargs)\n",
    "    \n",
    "demo_kwargs(fruits='apples', quantity='3', measurement_unit='kg')"
   ]
  },
  {
   "cell_type": "markdown",
   "metadata": {},
   "source": [
    "Iterarea peste perechile din kwargs se face tinant cont ca acesta este un dictionar:"
   ]
  },
  {
   "cell_type": "code",
   "execution_count": null,
   "metadata": {
    "ExecuteTime": {
     "end_time": "2022-03-01T17:29:41.012357Z",
     "start_time": "2022-03-01T17:29:41.000342Z"
    },
    "execution": {
     "iopub.status.busy": "2024-02-22T10:53:15.121641Z",
     "iopub.status.idle": "2024-02-22T10:53:15.121641Z",
     "shell.execute_reply": "2024-02-22T10:53:15.121641Z",
     "shell.execute_reply.started": "2024-02-22T10:53:15.121641Z"
    }
   },
   "outputs": [],
   "source": [
    "def demo_kwargs_iter(**kwargs):\n",
    "    for key, value in kwargs.items():\n",
    "        print(key, value)\n",
    "        \n",
    "demo_kwargs_iter(fruits='apples', quantity='3', measurement_unit='kg')\n",
    "print(fruits)"
   ]
  },
  {
   "cell_type": "markdown",
   "metadata": {},
   "source": [
    "Acelasi efect se obtine prin despachetarea de dictionare, folosind `**`:`"
   ]
  },
  {
   "cell_type": "code",
   "execution_count": null,
   "metadata": {
    "ExecuteTime": {
     "end_time": "2022-03-01T17:29:41.028360Z",
     "start_time": "2022-03-01T17:29:41.016364Z"
    },
    "execution": {
     "iopub.status.busy": "2024-02-22T10:53:15.122641Z",
     "iopub.status.idle": "2024-02-22T10:53:15.122641Z",
     "shell.execute_reply": "2024-02-22T10:53:15.122641Z",
     "shell.execute_reply.started": "2024-02-22T10:53:15.122641Z"
    }
   },
   "outputs": [],
   "source": [
    "dictionar_argumente = {'fruits':'apples', 'quantity':'3', 'measurement_unit':'kg'}\n",
    "demo_kwargs(**dictionar_argumente)"
   ]
  },
  {
   "cell_type": "markdown",
   "metadata": {},
   "source": [
    "Ordonarea parametrilor declarati intr-o functie este:\n",
    "1. parametri formali preluati prin pozitie\n",
    "1. `*args`\n",
    "1. parametri cu valori asociate\n",
    "1. `**kwargs`\n",
    "\n",
    "```python\n",
    "def example2(arg_1, arg_2, *args, kw_1=\"shark\", kw_2=\"blobfish\", **kwargs):\n",
    "```"
   ]
  },
  {
   "cell_type": "markdown",
   "metadata": {},
   "source": [
    "### Lambda functii"
   ]
  },
  {
   "cell_type": "markdown",
   "metadata": {},
   "source": [
    "Se pot defini functii anonime (sau: lambda functii), continand o expresie, pentru care nu se considera necesara definirea unor functii separate. O lambda functie poate sa preia oricate argumente si calculeaza o expresie pe baza lor. Lambda functiile pot accesa doar parametrii trimisi (nu si pe cei globali). Se va omite cuvantul `return`, expresia calculata este cea care se returneaza automat. "
   ]
  },
  {
   "cell_type": "code",
   "execution_count": null,
   "metadata": {
    "ExecuteTime": {
     "end_time": "2022-03-01T17:29:41.044367Z",
     "start_time": "2022-03-01T17:29:41.031333Z"
    },
    "execution": {
     "iopub.status.busy": "2024-02-22T10:53:15.124640Z",
     "iopub.status.idle": "2024-02-22T10:53:15.124640Z",
     "shell.execute_reply": "2024-02-22T10:53:15.124640Z",
     "shell.execute_reply.started": "2024-02-22T10:53:15.124640Z"
    }
   },
   "outputs": [],
   "source": [
    "suma = lambda a, b: a + b\n",
    "print(suma(3, 4))"
   ]
  },
  {
   "cell_type": "code",
   "execution_count": null,
   "metadata": {
    "ExecuteTime": {
     "end_time": "2022-03-01T17:29:41.060325Z",
     "start_time": "2022-03-01T17:29:41.047333Z"
    },
    "execution": {
     "iopub.status.busy": "2024-02-22T10:53:15.125640Z",
     "iopub.status.idle": "2024-02-22T10:53:15.125640Z",
     "shell.execute_reply": "2024-02-22T10:53:15.125640Z",
     "shell.execute_reply.started": "2024-02-22T10:53:15.125640Z"
    }
   },
   "outputs": [],
   "source": [
    "# lambda functie pentru filtrare via functia filter\n",
    "lista_30 = list(range(30))\n",
    "lista_filtrata = list(filter(lambda x: x% 5 == 0, lista_30))\n",
    "print(lista_filtrata)"
   ]
  },
  {
   "cell_type": "code",
   "execution_count": null,
   "metadata": {
    "ExecuteTime": {
     "end_time": "2022-03-01T17:29:41.076329Z",
     "start_time": "2022-03-01T17:29:41.063331Z"
    },
    "execution": {
     "iopub.status.busy": "2024-02-22T10:53:15.125640Z",
     "iopub.status.idle": "2024-02-22T10:53:15.126640Z",
     "shell.execute_reply": "2024-02-22T10:53:15.126640Z",
     "shell.execute_reply.started": "2024-02-22T10:53:15.126640Z"
    }
   },
   "outputs": [],
   "source": [
    "# lambda functie pentru sortare:\n",
    "sorted([-1, -2, -3, 2, 3, 4, -5, 6, 7, 8, 9], key=lambda x: x**2)"
   ]
  },
  {
   "cell_type": "markdown",
   "metadata": {},
   "source": [
    "### Functii callback"
   ]
  },
  {
   "cell_type": "markdown",
   "metadata": {},
   "source": [
    "Numele unei functii reprezinta adresa de memorie a acelei functii:"
   ]
  },
  {
   "cell_type": "code",
   "execution_count": null,
   "metadata": {
    "ExecuteTime": {
     "end_time": "2022-03-01T17:29:41.092369Z",
     "start_time": "2022-03-01T17:29:41.081328Z"
    },
    "execution": {
     "iopub.status.busy": "2024-02-22T10:53:15.127640Z",
     "iopub.status.idle": "2024-02-22T10:53:15.127640Z",
     "shell.execute_reply": "2024-02-22T10:53:15.127640Z",
     "shell.execute_reply.started": "2024-02-22T10:53:15.127640Z"
    }
   },
   "outputs": [],
   "source": [
    "def sum_2(x, y):\n",
    "    return x+y\n",
    "\n",
    "def dif_2(x, y):\n",
    "    return x - y\n",
    "\n",
    "print(sum_2)\n",
    "print(dif_2)"
   ]
  },
  {
   "cell_type": "markdown",
   "metadata": {},
   "source": [
    "Putem folosi acest mecanism pentru a trimite functii ca parametri intr-o alta functie:"
   ]
  },
  {
   "cell_type": "code",
   "execution_count": null,
   "metadata": {
    "ExecuteTime": {
     "end_time": "2022-03-01T17:29:41.108361Z",
     "start_time": "2022-03-01T17:29:41.095374Z"
    },
    "execution": {
     "iopub.status.busy": "2024-02-22T10:53:15.128641Z",
     "iopub.status.idle": "2024-02-22T10:53:15.129641Z",
     "shell.execute_reply": "2024-02-22T10:53:15.128641Z",
     "shell.execute_reply.started": "2024-02-22T10:53:15.128641Z"
    }
   },
   "outputs": [],
   "source": [
    "def complex_operation(x, y, to_be_called):\n",
    "    return to_be_called(x, y)\n",
    "\n",
    "print(complex_operation(3, 4, sum_2))\n",
    "print(complex_operation(3, 4, dif_2))"
   ]
  },
  {
   "cell_type": "markdown",
   "metadata": {},
   "source": [
    "## Adnotari de tipuri"
   ]
  },
  {
   "cell_type": "markdown",
   "metadata": {},
   "source": [
    "Incepand cu versiunea 3.5 a limbajului Python, se pot adnota variabilele, parametrii de functii, tipul de retur al functiilor. Operatia de type annotations este optionala si este destinata a mari lizibilitatea codului. Ele sunt definite in documentul de Python Enhancement Proposal [PEP484](https://www.python.org/dev/peps/pep-0484/).\n",
    "\n",
    "In afara de cod mai usor de citit, un alt beneficiu este analiza static de cod, de exemplu in PyCharm sau [MyPy](http://mypy-lang.org), sau suport imbunatatit pentru code completion.\n",
    "\n",
    "Adnotarile se precizeaza dupa numele variabilei,  urmat de doua puncte si denumirea tipului:"
   ]
  },
  {
   "cell_type": "code",
   "execution_count": null,
   "metadata": {
    "ExecuteTime": {
     "end_time": "2022-03-01T17:29:41.123370Z",
     "start_time": "2022-03-01T17:29:41.113331Z"
    },
    "execution": {
     "iopub.status.busy": "2024-02-22T10:53:15.129641Z",
     "iopub.status.idle": "2024-02-22T10:53:15.130641Z",
     "shell.execute_reply": "2024-02-22T10:53:15.129641Z",
     "shell.execute_reply.started": "2024-02-22T10:53:15.129641Z"
    }
   },
   "outputs": [],
   "source": [
    "age:int = 21\n",
    "name:str = \"Guido van Rossum\""
   ]
  },
  {
   "cell_type": "markdown",
   "metadata": {},
   "source": [
    "Adnotarea nu inhiba in niciun fel utilizarea variabile, sau schimbarea in instructiunile urmatoare a tipului lor:"
   ]
  },
  {
   "cell_type": "code",
   "execution_count": null,
   "metadata": {
    "ExecuteTime": {
     "end_time": "2022-03-01T17:29:41.139362Z",
     "start_time": "2022-03-01T17:29:41.126332Z"
    },
    "execution": {
     "iopub.status.busy": "2024-02-22T10:53:15.131640Z",
     "iopub.status.idle": "2024-02-22T10:53:15.131640Z",
     "shell.execute_reply": "2024-02-22T10:53:15.131640Z",
     "shell.execute_reply.started": "2024-02-22T10:53:15.131640Z"
    }
   },
   "outputs": [],
   "source": [
    "age = 21.5"
   ]
  },
  {
   "cell_type": "markdown",
   "metadata": {},
   "source": [
    "Pentru adnotara parametrilor si a tipului functiilor se poate urmari exemplul de mai jos: "
   ]
  },
  {
   "cell_type": "code",
   "execution_count": null,
   "metadata": {
    "ExecuteTime": {
     "end_time": "2022-03-01T17:29:41.171360Z",
     "start_time": "2022-03-01T17:29:41.147359Z"
    },
    "execution": {
     "iopub.status.busy": "2024-02-22T10:53:15.132640Z",
     "iopub.status.idle": "2024-02-22T10:53:15.132640Z",
     "shell.execute_reply": "2024-02-22T10:53:15.132640Z",
     "shell.execute_reply.started": "2024-02-22T10:53:15.132640Z"
    }
   },
   "outputs": [],
   "source": [
    "def f(name:str, age:int) -> str:\n",
    "    return 'Salut ' + name + ', ai ' + str(age) + ' de ani'\n",
    "\n",
    "f('Rafael',23)"
   ]
  },
  {
   "cell_type": "markdown",
   "metadata": {},
   "source": [
    "Pentru tipuri complexe se va folosi clasa `typing`, care pune la dispozitie tipuri precum `Dict`, `Tuple`, `List`, `Set` etc."
   ]
  },
  {
   "cell_type": "code",
   "execution_count": null,
   "metadata": {
    "ExecuteTime": {
     "end_time": "2022-03-01T17:29:41.187363Z",
     "start_time": "2022-03-01T17:29:41.175357Z"
    },
    "execution": {
     "iopub.status.busy": "2024-02-22T10:53:15.133641Z",
     "iopub.status.idle": "2024-02-22T10:53:15.133641Z",
     "shell.execute_reply": "2024-02-22T10:53:15.133641Z",
     "shell.execute_reply.started": "2024-02-22T10:53:15.133641Z"
    }
   },
   "outputs": [],
   "source": [
    "from typing import List\n",
    "\n",
    "# de adnotat params\n",
    "def salut_multi(nume: list[str], varste: List[int]) -> None:\n",
    "    for n, v in zip(nume, varste):\n",
    "        print(f'Salut {n}, ai {v} de ani')\n",
    "        \n",
    "salut_multi(['Ana', 'Dan', 'Maria'], [20, 21, 22])"
   ]
  },
  {
   "cell_type": "markdown",
   "metadata": {},
   "source": [
    "Se pot defini tipuri utilizator, folosindu-ne de cele disponibile:"
   ]
  },
  {
   "cell_type": "code",
   "execution_count": null,
   "metadata": {
    "ExecuteTime": {
     "end_time": "2022-03-01T17:29:41.203328Z",
     "start_time": "2022-03-01T17:29:41.189329Z"
    },
    "execution": {
     "iopub.status.busy": "2024-02-22T10:53:15.134641Z",
     "iopub.status.idle": "2024-02-22T10:53:15.134641Z",
     "shell.execute_reply": "2024-02-22T10:53:15.134641Z",
     "shell.execute_reply.started": "2024-02-22T10:53:15.134641Z"
    }
   },
   "outputs": [],
   "source": [
    "from typing import Tuple\n",
    "\n",
    "Point2D = Tuple[int, int]\n",
    "\n",
    "def plot_point(point: Point2D) -> bool:\n",
    "    ## operatii\n",
    "    return True\n",
    "\n",
    "def rotate_point(p:Point2D, angle:float) -> Point2D:\n",
    "    ## operatii\n",
    "    ## newPoint = ....\n",
    "    return newPoint"
   ]
  },
  {
   "cell_type": "markdown",
   "metadata": {},
   "source": [
    "Daca o variabila poate avea unul din mai multe tipuri posibile, putem urma exemplul:"
   ]
  },
  {
   "cell_type": "code",
   "execution_count": null,
   "metadata": {
    "ExecuteTime": {
     "end_time": "2022-03-01T17:29:41.218363Z",
     "start_time": "2022-03-01T17:29:41.205365Z"
    },
    "execution": {
     "iopub.status.busy": "2024-02-22T10:53:15.135641Z",
     "iopub.status.idle": "2024-02-22T10:53:15.136641Z",
     "shell.execute_reply": "2024-02-22T10:53:15.135641Z",
     "shell.execute_reply.started": "2024-02-22T10:53:15.135641Z"
    }
   },
   "outputs": [],
   "source": [
    "from typing import Union\n",
    "\n",
    "def print_value(value: Union[str, int, float]) -> None:\n",
    "    print(value)"
   ]
  },
  {
   "cell_type": "markdown",
   "metadata": {},
   "source": [
    "Daca o variabila poate sa fie de un anumit tip sau sa vina cu valoarea `None`, se procedeaza precum mai jos:"
   ]
  },
  {
   "cell_type": "code",
   "execution_count": null,
   "metadata": {
    "ExecuteTime": {
     "end_time": "2022-03-01T17:29:41.234364Z",
     "start_time": "2022-03-01T17:29:41.221364Z"
    },
    "execution": {
     "iopub.status.busy": "2024-02-22T10:53:15.136641Z",
     "iopub.status.idle": "2024-02-22T10:53:15.137641Z",
     "shell.execute_reply": "2024-02-22T10:53:15.137641Z",
     "shell.execute_reply.started": "2024-02-22T10:53:15.137641Z"
    }
   },
   "outputs": [],
   "source": [
    "from typing import Optional\n",
    "\n",
    "def f(param: Optional[str]) -> str:\n",
    "    if param is not None:\n",
    "        return param.upper()\n",
    "    else:\n",
    "        return \"\""
   ]
  },
  {
   "cell_type": "code",
   "execution_count": null,
   "metadata": {
    "execution": {
     "iopub.status.busy": "2024-02-22T10:53:15.137641Z",
     "iopub.status.idle": "2024-02-22T10:53:15.138641Z",
     "shell.execute_reply": "2024-02-22T10:53:15.137641Z",
     "shell.execute_reply.started": "2024-02-22T10:53:15.137641Z"
    }
   },
   "outputs": [],
   "source": [
    "from typing import Dict\n",
    "\n",
    "x : Dict[str, List[Union[int, float]]] "
   ]
  },
  {
   "cell_type": "markdown",
   "metadata": {},
   "source": [
    "Pentru alte constructii: definirea de tipuri noi, callback functions, colectii generice etc. recomandam consultarea bibliografiei."
   ]
  },
  {
   "cell_type": "markdown",
   "metadata": {},
   "source": [
    "### Bibliografie recomandata\n",
    "\n",
    "1. [PEP484](https://www.python.org/dev/peps/pep-0484/) \n",
    "1. [typing — Support for type hints](https://docs.python.org/3/library/typing.html)\n",
    "1. [Type hints cheat sheet (Python 3)](https://mypy.readthedocs.io/en/latest/cheat_sheet_py3.html)"
   ]
  },
  {
   "cell_type": "markdown",
   "metadata": {},
   "source": [
    "## Module"
   ]
  },
  {
   "cell_type": "markdown",
   "metadata": {},
   "source": [
    "Modulele sunt fisiere Python cu extensia .py, in care se gasesc implementari de functii, clase, declaratii de variabile. Importarea unui modul se face cu instructiunea `import`. \n",
    "\n",
    "Exemplu: cream un modul - fisierul Python mySmartModule.py - care contine o functie ce calculeaza suma elementelor dintr-o lista:\n",
    "\n",
    "\n",
    "```python\n",
    "# fisierul mySmartModule.py\n",
    "def my_sum(lista):\n",
    "    sum = 0\n",
    "    for item in lista:\n",
    "        sum += item\n",
    "    return sum\n",
    "```\n",
    "\n",
    "Utilizarea se face cu:\n",
    "```python\n",
    "import mySmartModule\n",
    "\n",
    "lista = [1, 2, 3]\n",
    "\n",
    "suma = mySmartModule.my_sum(lista)\n",
    "print(suma)\n",
    "```"
   ]
  },
  {
   "cell_type": "markdown",
   "metadata": {},
   "source": [
    "Se poate ca modulul sa fie importat cu un nume mai scurt, sub forma:\n",
    "```python\n",
    "import mySmartModule as msm\n",
    "```\n",
    "si in acest caz apelul se face cu:\n",
    "```python\n",
    "suma = msm.my_sum(lista)\n",
    "```"
   ]
  },
  {
   "cell_type": "markdown",
   "metadata": {},
   "source": [
    "Putem afla ce pune la dispozitie un modul:\n",
    "```python\n",
    ">>> dir(msm)\n",
    "['__builtins__', '__cached__', '__doc__', '__file__', '__loader__', '__name__', '__package__', '__spec__', 'my_sum']\n",
    "```\n",
    "elementele aflate intre dublu underscore ('dunders') sunt adaugate automat de Python. "
   ]
  },
  {
   "cell_type": "markdown",
   "metadata": {},
   "source": [
    "Daca se doreste ca tot ceea ce e definit intr-un modul sa fie disponibil fara a mai face prefixare cu `nume_modul.nume_entitate`, atunci se poate proceda astfel:\n",
    "```python\n",
    "from mySmartModule import *\n",
    "\n",
    "print(my_sum([1, 2, 3]))\n",
    "```\n",
    "Se recomanda insa sa se importe strict acele entitati (functii, tipuri) din modul care sunt utilizate; in felul acesta se evita suprascrierea prin import al altor entitati deja importate:\n",
    "```python\n",
    "from mySmartModule import my_sum\n",
    "\n",
    "print(my_sum([1, 2, 3]))\n",
    "```"
   ]
  },
  {
   "cell_type": "markdown",
   "metadata": {},
   "source": [
    "Ordinea de cautare a modulelor este:\n",
    "1. directorul curent\n",
    "1. daca nu se gaseste modulul cerut, se cauta in variabila de mediu `PYTHONPATH`, daca e definita\n",
    "1. daca nu se gaseste modulul cerut, se cauta in calea implicita.\n",
    "\n",
    "Calea de cautare implicita se gaseste in variabila `path` din modulul sistem `sys`:"
   ]
  },
  {
   "cell_type": "code",
   "execution_count": null,
   "metadata": {
    "ExecuteTime": {
     "end_time": "2022-03-01T17:29:41.250363Z",
     "start_time": "2022-03-01T17:29:41.238324Z"
    },
    "execution": {
     "iopub.status.busy": "2024-02-22T10:53:15.139640Z",
     "iopub.status.idle": "2024-02-22T10:53:15.139640Z",
     "shell.execute_reply": "2024-02-22T10:53:15.139640Z",
     "shell.execute_reply.started": "2024-02-22T10:53:15.139640Z"
    }
   },
   "outputs": [],
   "source": [
    "import sys\n",
    "print(sys.path)"
   ]
  },
  {
   "cell_type": "markdown",
   "metadata": {},
   "source": [
    "Daca se doreste ca un modul scris de utilizator intr-un director ce nu se gaseste in lista de mai sus sa fie accesibil pentru import, atunci calea catre director trebuie adaugata la colectia `sys.path`:"
   ]
  },
  {
   "cell_type": "code",
   "execution_count": null,
   "metadata": {
    "ExecuteTime": {
     "end_time": "2022-03-01T17:29:41.266362Z",
     "start_time": "2022-03-01T17:29:41.252328Z"
    },
    "execution": {
     "iopub.status.busy": "2024-02-22T10:53:15.140640Z",
     "iopub.status.idle": "2024-02-22T10:53:15.140640Z",
     "shell.execute_reply": "2024-02-22T10:53:15.140640Z",
     "shell.execute_reply.started": "2024-02-22T10:53:15.140640Z"
    }
   },
   "outputs": [],
   "source": [
    "sys.path.append('./my_modules/')\n",
    "from mySmartModule import my_sum\n",
    "print(my_sum([1, 2, 3]))"
   ]
  },
  {
   "cell_type": "markdown",
   "metadata": {},
   "source": [
    "Un modul se poate folosi in doua feluri: \n",
    "1. pentru a pune la dispozitie diferite implementari de functii sau de clase, sau variabile setate la anumite valori (de exemplu `math.pi`):\n",
    "```python\n",
    "import math\n",
    "print(math.pi)\n",
    "```\n",
    "2. se poate lansa de sine statator, scriind in lina de comanda: `python mySmartModule.py`. Pentru acest caz, daca se vrea ca sa se execute o anumita secventa de cod, atunci se va scrie in modulul Python `mySmartModule.py`:\n",
    "```python\n",
    "if __name__ == '__main__':\n",
    "    #cod care se executa la lansarea directa a script-ului\n",
    "```\n",
    "\n",
    "Codul din sectiunea `if` scrisa ca mai sus nu se va executa cand modulul este importat.\n",
    "\n",
    "Exemplu:\n",
    "```python\n",
    "def my_sum(lista):\n",
    "    sum = 0\n",
    "    for item in lista:\n",
    "        sum += item\n",
    "    return sum\n",
    "\t\n",
    "if __name__ == '__main__':\n",
    "\tprint('Exemplu de utilizare')\n",
    "\tlista = list(range(100))\n",
    "\tprint(my_sum(lista))\n",
    "```"
   ]
  },
  {
   "cell_type": "markdown",
   "metadata": {},
   "source": [
    "## Pachete Python"
   ]
  },
  {
   "cell_type": "markdown",
   "metadata": {},
   "source": [
    "Un pachet este o colectie de module. Fizic, un pachet este o structura ierarhica de directoare in care se gasesc module si alte pachete. Este obligatoriu ca in orice director care se doreste a fi vazut ca un pachet sa existe un fisier numit `__init__.py`. In prima faza, `__init__.py` poate fi gol. Plecam de la structura de directoare si fisiere:\n",
    "```\n",
    "---myUtils\\\n",
    " |------ mySmartModule.py\n",
    " |------ __init__.py\n",
    "```"
   ]
  },
  {
   "cell_type": "markdown",
   "metadata": {},
   "source": [
    "Pentru importul functiei `my_sum` din fisierul `mySmartModule.py` aflat in directorul `myUtils` - care se doreste a fi pachet - s-ar scrie astfel:\n",
    "```python\n",
    "from myUtils.mySmartModule import my_sum\n",
    "print(my_sum([1, 2, 3]))\n",
    "```\n",
    "dar am prefera sa putem scrie:\n",
    "```python\n",
    "from myUtils import my_sum\n",
    "print(my_sum([1, 2, 30]))\n",
    "```\n",
    "adica sa nu mai referim modulul (fisierul) `mySmartModule` din cadrul pachetului `myUtils`. Pentru asta vom adauga in fisierul `__init__.py` din directorul `myUtils` linia:\n",
    "```python\n",
    "from .mySmartModule import my_sum \n",
    "```\n",
    "unde caracterul `.` de dinaintea numelui de modul `mySmartModule` se refera la calea relativa. "
   ]
  },
  {
   "cell_type": "code",
   "execution_count": null,
   "metadata": {
    "ExecuteTime": {
     "end_time": "2022-03-01T17:29:41.297360Z",
     "start_time": "2022-03-01T17:29:41.270368Z"
    },
    "execution": {
     "iopub.status.busy": "2024-02-22T10:53:15.141641Z",
     "iopub.status.idle": "2024-02-22T10:53:15.141641Z",
     "shell.execute_reply": "2024-02-22T10:53:15.141641Z",
     "shell.execute_reply.started": "2024-02-22T10:53:15.141641Z"
    }
   },
   "outputs": [],
   "source": [
    "from myUtils.mySmartModule import my_sum\n",
    "print(my_sum([1, 2, 10, 300]))"
   ]
  },
  {
   "cell_type": "code",
   "execution_count": null,
   "metadata": {
    "ExecuteTime": {
     "end_time": "2022-03-01T17:29:41.313363Z",
     "start_time": "2022-03-01T17:29:41.301982Z"
    },
    "execution": {
     "iopub.status.busy": "2024-02-22T10:53:15.142641Z",
     "iopub.status.idle": "2024-02-22T10:53:15.142641Z",
     "shell.execute_reply": "2024-02-22T10:53:15.142641Z",
     "shell.execute_reply.started": "2024-02-22T10:53:15.142641Z"
    }
   },
   "outputs": [],
   "source": [
    "from myUtils import my_sum\n",
    "print(my_sum([1, 2, 10, 300]))"
   ]
  },
  {
   "cell_type": "markdown",
   "metadata": {},
   "source": [
    "In fisierul `__init__.py` se obisnuieste sa se puna orice are legatura cu initializarea pachetului, cum ar fi incarcarea de date de pe disc in memorie sau setarea unor variabile la valori anume."
   ]
  },
  {
   "cell_type": "markdown",
   "metadata": {},
   "source": [
    "Pentru cazul in care se doreste crearea de pachete destinate comunitatii si publicarea pe PyPI, se va urma [acest tutorial](https://python-packaging.readthedocs.io/en/latest/)."
   ]
  },
  {
   "cell_type": "markdown",
   "metadata": {},
   "source": [
    "Alte exemple de utilizare de pachete sunt:"
   ]
  },
  {
   "cell_type": "code",
   "execution_count": null,
   "metadata": {
    "ExecuteTime": {
     "end_time": "2022-03-01T17:29:41.329323Z",
     "start_time": "2022-03-01T17:29:41.317366Z"
    },
    "execution": {
     "iopub.status.busy": "2024-02-22T10:53:15.143642Z",
     "iopub.status.idle": "2024-02-22T10:53:15.144641Z",
     "shell.execute_reply": "2024-02-22T10:53:15.144641Z",
     "shell.execute_reply.started": "2024-02-22T10:53:15.144641Z"
    }
   },
   "outputs": [],
   "source": [
    "import re # pachet pentru expresii regulate\n",
    "my_string = 'Am cumparat: mere, pere, prune... si caise'\n",
    "tokens = re.split(r'\\W+', my_string)\n",
    "print(tokens)"
   ]
  },
  {
   "cell_type": "code",
   "execution_count": null,
   "metadata": {
    "ExecuteTime": {
     "end_time": "2022-03-01T17:29:41.393358Z",
     "start_time": "2022-03-01T17:29:41.332365Z"
    },
    "execution": {
     "iopub.status.busy": "2024-02-22T10:53:15.145642Z",
     "iopub.status.idle": "2024-02-22T10:53:15.145642Z",
     "shell.execute_reply": "2024-02-22T10:53:15.145642Z",
     "shell.execute_reply.started": "2024-02-22T10:53:15.145642Z"
    }
   },
   "outputs": [],
   "source": [
    "# Serializare cu pickle\n",
    "import pickle\n",
    "\n",
    "favourite_colour = { \"lion\": \"yellow\", \"kitty\": \"red\" }\n",
    "\n",
    "# dump it!\n",
    "pickle.dump(favourite_colour, open('save.pkl', 'wb'))\n",
    "del favourite_colour # nu mai e necesara variabila\n",
    "\n",
    "# # restaurare cu load\n",
    "favourite_colour_restored = pickle.load(open('save.pkl', 'rb'))\n",
    "print('dupa deserializare:', favourite_colour_restored)\n",
    "\n",
    "!del save.pkl # sterge fisierul pickle de pe disk"
   ]
  },
  {
   "cell_type": "markdown",
   "metadata": {},
   "source": [
    "## Pachetul NumPy"
   ]
  },
  {
   "cell_type": "markdown",
   "metadata": {},
   "source": [
    "NumPy (Numerical Python) este pachetul de baza pentru calcule stiintifice in Python. Asigura suport pentru lucrul cu vectori si matrice multidimensionale, functii dedicate precum sortare, operatii din algebra liniara, procesare de semnal, calcule statistice de baza, generare de numere aleatoare etc. NumPy sta la baza multor altor pachete. Datele pe care le proceseaza trebuie sa incapa in memoria RAM. NumPy are la baza cod C compilat si optimizat. \n",
    "\n",
    "In destul de multe situatii, datele sunt sau pot fi transformate in numere:\n",
    "* o imagine in tonuri de gri poate fi vazuta ca o matrice bidimensionala de numere; fiecare numar reprezinta intensitatea pixelului (0 - negru, 255 - alb; frecvent se folosesc valorile scalate in intevalul [0, 1])\n",
    "![Imagine minsi scalata 0-1](./images/mnist_image.png)\n",
    "* o imagine color poate fi vazuta ca o matrice cu trei dimensiuni: 3 matrice bidimensionale \"paralele\", corespunzatoare canalelor red, green, blue; pentru fiecare canal de culoare valorile pot fi intre 0 si 255:\n",
    "![Imagine RGB descompusa in 3 canale](./images/channelsrgb.gif)\n",
    "* un fisir audio este vazut ca unul/doi/$k$ vectori dimensionali, corespunzatoare cazurilor: mono, stereo, $k$ canale. Valorile numerice in cazul unui fisier wav reprezinta deplasarea membranei microfonului, discretizata in timp si amplitudine:\n",
    "![sunet](./images/sound.png)\n",
    "* un text poate fi tradus in vectori numerici prin tehnici precum [Bag of words](https://en.wikipedia.org/wiki/Bag-of-words_model) sau [Word2vec](https://en.wikipedia.org/wiki/Word2vec).\n",
    "\n",
    "Reprezentarea este mult mai eficienta decat pentru listele Python; codul scris cu NumPy apeleaza biblioteci compilate in cod nativ. Daca codul este scris vectorizat, eficienta rularii e si mai mare. \n",
    "\n",
    "Tipul cel mai comun din NumPy este `ndarray` - n-dimensional array. "
   ]
  },
  {
   "cell_type": "code",
   "execution_count": 29,
   "metadata": {
    "ExecuteTime": {
     "end_time": "2022-03-01T17:29:42.456456Z",
     "start_time": "2022-03-01T17:29:41.398324Z"
    },
    "execution": {
     "iopub.execute_input": "2024-02-22T11:05:48.587139Z",
     "iopub.status.busy": "2024-02-22T11:05:48.587139Z",
     "iopub.status.idle": "2024-02-22T11:05:48.593288Z",
     "shell.execute_reply": "2024-02-22T11:05:48.592278Z",
     "shell.execute_reply.started": "2024-02-22T11:05:48.587139Z"
    }
   },
   "outputs": [
    {
     "name": "stdout",
     "output_type": "stream",
     "text": [
      "<class 'numpy.ndarray'>\n",
      "int32\n",
      "int8\n"
     ]
    }
   ],
   "source": [
    "# import de pachet; traditional se foloseste abrevierea np pentru numpy\n",
    "import numpy as np\n",
    "\n",
    "# crearea unui vector pornind de la o lista Python\n",
    "x = np.array([1, 4, 2, 5, 3])\n",
    "\n",
    "# tipul variabilei x; se observa ca e tip numpy\n",
    "print(type(x)) \n",
    "# toate elementele din array sunt de acelasi tip\n",
    "print(x.dtype) \n",
    "\n",
    "# # specificarea explicita a tipului de reprezentare a datelor in array\n",
    "y = np.array([1, 2, 3], dtype=np.int8)\n",
    "print(y.dtype)"
   ]
  },
  {
   "cell_type": "code",
   "execution_count": 30,
   "metadata": {
    "execution": {
     "iopub.execute_input": "2024-02-22T11:06:17.540838Z",
     "iopub.status.busy": "2024-02-22T11:06:17.539837Z",
     "iopub.status.idle": "2024-02-22T11:06:17.544940Z",
     "shell.execute_reply": "2024-02-22T11:06:17.544940Z",
     "shell.execute_reply.started": "2024-02-22T11:06:17.540838Z"
    }
   },
   "outputs": [
    {
     "name": "stdout",
     "output_type": "stream",
     "text": [
      "The Zen of Python, by Tim Peters\n",
      "\n",
      "Beautiful is better than ugly.\n",
      "Explicit is better than implicit.\n",
      "Simple is better than complex.\n",
      "Complex is better than complicated.\n",
      "Flat is better than nested.\n",
      "Sparse is better than dense.\n",
      "Readability counts.\n",
      "Special cases aren't special enough to break the rules.\n",
      "Although practicality beats purity.\n",
      "Errors should never pass silently.\n",
      "Unless explicitly silenced.\n",
      "In the face of ambiguity, refuse the temptation to guess.\n",
      "There should be one-- and preferably only one --obvious way to do it.\n",
      "Although that way may not be obvious at first unless you're Dutch.\n",
      "Now is better than never.\n",
      "Although never is often better than *right* now.\n",
      "If the implementation is hard to explain, it's a bad idea.\n",
      "If the implementation is easy to explain, it may be a good idea.\n",
      "Namespaces are one honking great idea -- let's do more of those!\n"
     ]
    }
   ],
   "source": [
    "import this"
   ]
  },
  {
   "cell_type": "code",
   "execution_count": 31,
   "metadata": {
    "ExecuteTime": {
     "end_time": "2022-03-01T17:29:42.486470Z",
     "start_time": "2022-03-01T17:29:42.463482Z"
    },
    "execution": {
     "iopub.execute_input": "2024-02-22T11:07:17.054688Z",
     "iopub.status.busy": "2024-02-22T11:07:17.054688Z",
     "iopub.status.idle": "2024-02-22T11:07:17.061688Z",
     "shell.execute_reply": "2024-02-22T11:07:17.060687Z",
     "shell.execute_reply.started": "2024-02-22T11:07:17.054688Z"
    }
   },
   "outputs": [
    {
     "name": "stdout",
     "output_type": "stream",
     "text": [
      "[0 0 0 0 0 0 0 0 0 0]\n",
      "(10,)\n"
     ]
    }
   ],
   "source": [
    "# cazuri frecvent folosite\n",
    "all_zeros = np.zeros(10, dtype=np.int16)\n",
    "print(all_zeros)\n",
    "# tiparire nr de elemente pe fiecare dimensiune\n",
    "print(all_zeros.shape)"
   ]
  },
  {
   "cell_type": "code",
   "execution_count": 32,
   "metadata": {
    "ExecuteTime": {
     "end_time": "2022-03-01T17:29:42.502453Z",
     "start_time": "2022-03-01T17:29:42.492479Z"
    },
    "execution": {
     "iopub.execute_input": "2024-02-22T11:08:11.834497Z",
     "iopub.status.busy": "2024-02-22T11:08:11.834497Z",
     "iopub.status.idle": "2024-02-22T11:08:11.839020Z",
     "shell.execute_reply": "2024-02-22T11:08:11.839020Z",
     "shell.execute_reply.started": "2024-02-22T11:08:11.834497Z"
    }
   },
   "outputs": [
    {
     "name": "stdout",
     "output_type": "stream",
     "text": [
      "[[1 2 3]\n",
      " [4 5 6]]\n",
      "(2, 3)\n",
      "2\n"
     ]
    }
   ],
   "source": [
    "# matrice 2d\n",
    "mat = np.array(\n",
    "    [[1, 2, 3], [4, 5, 6]]\n",
    ")\n",
    "print(mat)\n",
    "print(mat.shape)\n",
    "print(mat[0, 1])"
   ]
  },
  {
   "cell_type": "code",
   "execution_count": 34,
   "metadata": {
    "ExecuteTime": {
     "end_time": "2022-03-01T17:29:42.518458Z",
     "start_time": "2022-03-01T17:29:42.507455Z"
    },
    "execution": {
     "iopub.execute_input": "2024-02-22T11:09:25.696861Z",
     "iopub.status.busy": "2024-02-22T11:09:25.696861Z",
     "iopub.status.idle": "2024-02-22T11:09:25.704853Z",
     "shell.execute_reply": "2024-02-22T11:09:25.703839Z",
     "shell.execute_reply.started": "2024-02-22T11:09:25.696861Z"
    }
   },
   "outputs": [
    {
     "name": "stdout",
     "output_type": "stream",
     "text": [
      "[[7 7 7 7 7]\n",
      " [7 7 7 7 7]\n",
      " [7 7 7 7 7]]\n",
      "[[7. 7. 7. 7. 7.]\n",
      " [7. 7. 7. 7. 7.]\n",
      " [7. 7. 7. 7. 7.]]\n"
     ]
    }
   ],
   "source": [
    "# matrice de valori constante:\n",
    "mat_7 = np.full((3, 5), 7)\n",
    "print(mat_7)\n",
    "\n",
    "mat_7_v2 = np.ones((3, 5)) * 7\n",
    "print(mat_7_v2)"
   ]
  },
  {
   "cell_type": "markdown",
   "metadata": {},
   "source": [
    "Numarul de dimensiuni se determina cu:"
   ]
  },
  {
   "cell_type": "code",
   "execution_count": 35,
   "metadata": {
    "ExecuteTime": {
     "end_time": "2022-03-01T17:29:42.533469Z",
     "start_time": "2022-03-01T17:29:42.524468Z"
    },
    "execution": {
     "iopub.execute_input": "2024-02-22T11:10:00.104035Z",
     "iopub.status.busy": "2024-02-22T11:10:00.104035Z",
     "iopub.status.idle": "2024-02-22T11:10:00.107733Z",
     "shell.execute_reply": "2024-02-22T11:10:00.107733Z",
     "shell.execute_reply.started": "2024-02-22T11:10:00.104035Z"
    }
   },
   "outputs": [
    {
     "name": "stdout",
     "output_type": "stream",
     "text": [
      "Numarul de dimensiuni pentru vectorul all_zero: 1\n",
      "Numarul de dimensiuni pentru matricea mat: 2\n"
     ]
    }
   ],
   "source": [
    "print('Numarul de dimensiuni pentru vectorul all_zero:', all_zeros.ndim)\n",
    "print('Numarul de dimensiuni pentru matricea mat:', mat.ndim)"
   ]
  },
  {
   "cell_type": "markdown",
   "metadata": {},
   "source": [
    "iar numarul total de elemente, respectiv dimensiunea in octeti a unui element oarecare (un ndarray are elemente de acelasi tip, intotdeauna):"
   ]
  },
  {
   "cell_type": "code",
   "execution_count": 36,
   "metadata": {
    "ExecuteTime": {
     "end_time": "2022-03-01T17:29:42.549459Z",
     "start_time": "2022-03-01T17:29:42.540454Z"
    },
    "execution": {
     "iopub.execute_input": "2024-02-22T11:10:06.678295Z",
     "iopub.status.busy": "2024-02-22T11:10:06.678295Z",
     "iopub.status.idle": "2024-02-22T11:10:06.682965Z",
     "shell.execute_reply": "2024-02-22T11:10:06.682965Z",
     "shell.execute_reply.started": "2024-02-22T11:10:06.678295Z"
    }
   },
   "outputs": [
    {
     "name": "stdout",
     "output_type": "stream",
     "text": [
      "mat size: 6\n",
      "mat element size: 4 bytes\n",
      "mat.dtype:int32\n"
     ]
    }
   ],
   "source": [
    "print('mat size: {0}\\nmat element size: {1} bytes\\nmat.dtype:{2}'.format(mat.size, mat.itemsize, mat.dtype))"
   ]
  },
  {
   "cell_type": "code",
   "execution_count": 37,
   "metadata": {
    "ExecuteTime": {
     "end_time": "2022-03-01T17:29:42.565457Z",
     "start_time": "2022-03-01T17:29:42.554457Z"
    },
    "execution": {
     "iopub.execute_input": "2024-02-22T11:10:52.622953Z",
     "iopub.status.busy": "2024-02-22T11:10:52.621941Z",
     "iopub.status.idle": "2024-02-22T11:10:52.626962Z",
     "shell.execute_reply": "2024-02-22T11:10:52.626962Z",
     "shell.execute_reply.started": "2024-02-22T11:10:52.622953Z"
    }
   },
   "outputs": [
    {
     "name": "stdout",
     "output_type": "stream",
     "text": [
      "[[1. 1. 1. 1.]\n",
      " [1. 1. 1. 1.]\n",
      " [1. 1. 1. 1.]]\n",
      "[[1. 0. 0.]\n",
      " [0. 1. 0.]\n",
      " [0. 0. 1.]]\n"
     ]
    }
   ],
   "source": [
    "# cazuri comune\n",
    "all_ones = np.ones((3, 4))\n",
    "print(all_ones)\n",
    "# matrice identitate\n",
    "print(np.eye(3))"
   ]
  },
  {
   "cell_type": "code",
   "execution_count": 38,
   "metadata": {
    "ExecuteTime": {
     "end_time": "2022-03-01T17:29:42.580460Z",
     "start_time": "2022-03-01T17:29:42.568494Z"
    },
    "execution": {
     "iopub.execute_input": "2024-02-22T11:11:23.538007Z",
     "iopub.status.busy": "2024-02-22T11:11:23.538007Z",
     "iopub.status.idle": "2024-02-22T11:11:23.544218Z",
     "shell.execute_reply": "2024-02-22T11:11:23.543688Z",
     "shell.execute_reply.started": "2024-02-22T11:11:23.538007Z"
    }
   },
   "outputs": [
    {
     "name": "stdout",
     "output_type": "stream",
     "text": [
      "[0.  0.1 0.2 0.3 0.4 0.5 0.6 0.7 0.8 0.9 1. ]\n"
     ]
    }
   ],
   "source": [
    "# valori echidistante intr-un interval; capetele intervalului fac parte din valorile generate\n",
    "print(np.linspace(0, 1, 11))"
   ]
  },
  {
   "cell_type": "code",
   "execution_count": 39,
   "metadata": {
    "ExecuteTime": {
     "end_time": "2022-03-01T17:29:42.596497Z",
     "start_time": "2022-03-01T17:29:42.585455Z"
    },
    "execution": {
     "iopub.execute_input": "2024-02-22T11:12:08.096360Z",
     "iopub.status.busy": "2024-02-22T11:12:08.096360Z",
     "iopub.status.idle": "2024-02-22T11:12:08.102598Z",
     "shell.execute_reply": "2024-02-22T11:12:08.101599Z",
     "shell.execute_reply.started": "2024-02-22T11:12:08.096360Z"
    }
   },
   "outputs": [
    {
     "name": "stdout",
     "output_type": "stream",
     "text": [
      "[ 0  1  2  3  4  5  6  7  8  9 10 11 12 13 14 15 16 17 18 19 20 21 22 23\n",
      " 24 25 26 27 28 29 30]\n",
      "<class 'numpy.ndarray'>\n"
     ]
    }
   ],
   "source": [
    "# similar cu functia range din Python: se genereaza de la primul parametru, cu pasul dat de al doilea parametru, \n",
    "# ultima valoare generata fiind strict mai mica decat al doilea parametru\n",
    "vector_de_valori = np.arange(31)\n",
    "print(vector_de_valori)\n",
    "print(type(vector_de_valori))"
   ]
  },
  {
   "cell_type": "code",
   "execution_count": 40,
   "metadata": {
    "ExecuteTime": {
     "end_time": "2022-03-01T17:29:42.612493Z",
     "start_time": "2022-03-01T17:29:42.600461Z"
    },
    "execution": {
     "iopub.execute_input": "2024-02-22T11:12:36.794912Z",
     "iopub.status.busy": "2024-02-22T11:12:36.794912Z",
     "iopub.status.idle": "2024-02-22T11:12:36.800953Z",
     "shell.execute_reply": "2024-02-22T11:12:36.800953Z",
     "shell.execute_reply.started": "2024-02-22T11:12:36.794912Z"
    }
   },
   "outputs": [
    {
     "name": "stdout",
     "output_type": "stream",
     "text": [
      "[[-1.8810003  -0.72487803  0.51317224  0.48745966]\n",
      " [ 1.56531886 -0.85784141 -1.0867539   0.71354286]\n",
      " [ 0.25697925  1.1913452  -0.10613071 -0.9699515 ]]\n"
     ]
    }
   ],
   "source": [
    "# numere aleatoare\n",
    "x = np.random.randn(3, 4)\n",
    "print(x)"
   ]
  },
  {
   "cell_type": "markdown",
   "metadata": {},
   "source": [
    "Tipurile de date folosibile pentru ndarrays sunt:\n",
    "\n",
    "| Tip  | Explicatie |\n",
    "| ---- | -----------|\n",
    "| bool_ | \tBoolean (True or False) stored as a byte | \n",
    "| int_ | \tDefault integer type (same as C long; normally either int64 or int32) | \n",
    "| intc | \tIdentical to C int (normally int32 or int64) | \n",
    "| intp | \tInteger used for indexing (same as C ssize_t; normally either int32 or int64) | \n",
    "| int8 | \tByte (-128 to 127) | \n",
    "| int16 | \tInteger (-32768 to 32767) | \n",
    "| int32 | \tInteger (-2147483648 to 2147483647) | \n",
    "| int64 | \tInteger (-9223372036854775808 to 9223372036854775807) | \n",
    "| uint8 | \tUnsigned integer (0 to 255) | \n",
    "| uint16 | \tUnsigned integer (0 to 65535) | \n",
    "| uint32 | \tUnsigned integer (0 to 4294967295) | \n",
    "| uint64 | \tUnsigned integer (0 to 18446744073709551615) | \n",
    "| float_ | \tShorthand for float64. | \n",
    "| float16 | \tHalf precision float: sign bit, 5 bits exponent, 10 bits mantissa | \n",
    "| float32 | \tSingle precision float: sign bit, 8 bits exponent, 23 bits mantissa | \n",
    "| float64 | \tDouble precision float: sign bit, 11 bits exponent, 52 bits mantissa | \n",
    "| complex_ | \tShorthand for complex128. | \n",
    "| complex64 | \tComplex number, represented by two 32-bit floats (real and imaginary components) | \n",
    "| complex128 | \tComplex number, represented by two 64-bit floats (real and imaginary components) |"
   ]
  },
  {
   "cell_type": "markdown",
   "metadata": {},
   "source": [
    "O operatie utila este schimbarea formei unui array:"
   ]
  },
  {
   "cell_type": "code",
   "execution_count": 43,
   "metadata": {
    "ExecuteTime": {
     "end_time": "2022-03-01T17:29:42.628460Z",
     "start_time": "2022-03-01T17:29:42.615492Z"
    },
    "execution": {
     "iopub.execute_input": "2024-02-22T11:14:24.306988Z",
     "iopub.status.busy": "2024-02-22T11:14:24.306988Z",
     "iopub.status.idle": "2024-02-22T11:14:24.311859Z",
     "shell.execute_reply": "2024-02-22T11:14:24.311859Z",
     "shell.execute_reply.started": "2024-02-22T11:14:24.306988Z"
    }
   },
   "outputs": [
    {
     "name": "stdout",
     "output_type": "stream",
     "text": [
      "[0 1 2 3 4 5 6 7 8 9]\n",
      "[[0 1 2 3 4]\n",
      " [5 6 7 8 9]]\n"
     ]
    }
   ],
   "source": [
    "# dintr=un vector intr-o matrice\n",
    "vec = np.arange(10)\n",
    "mat = vec.reshape(-1, 5)\n",
    "print(vec)\n",
    "print(mat)"
   ]
  },
  {
   "cell_type": "code",
   "execution_count": 44,
   "metadata": {
    "ExecuteTime": {
     "end_time": "2022-03-01T17:29:42.643460Z",
     "start_time": "2022-03-01T17:29:42.631488Z"
    },
    "execution": {
     "iopub.execute_input": "2024-02-22T11:14:51.077209Z",
     "iopub.status.busy": "2024-02-22T11:14:51.076210Z",
     "iopub.status.idle": "2024-02-22T11:14:51.081905Z",
     "shell.execute_reply": "2024-02-22T11:14:51.080897Z",
     "shell.execute_reply.started": "2024-02-22T11:14:51.077209Z"
    }
   },
   "outputs": [
    {
     "name": "stdout",
     "output_type": "stream",
     "text": [
      "[0 1 2 3 4 5 6 7 8 9]\n"
     ]
    }
   ],
   "source": [
    "# ... si invers:\n",
    "vec2 = mat.flatten()\n",
    "print(vec2)"
   ]
  },
  {
   "cell_type": "markdown",
   "metadata": {},
   "source": [
    "Tablourile pot fi concatenate, specificandu-se axa"
   ]
  },
  {
   "cell_type": "code",
   "execution_count": 45,
   "metadata": {
    "ExecuteTime": {
     "end_time": "2022-03-01T17:29:42.659457Z",
     "start_time": "2022-03-01T17:29:42.647458Z"
    },
    "execution": {
     "iopub.execute_input": "2024-02-22T11:16:07.908068Z",
     "iopub.status.busy": "2024-02-22T11:16:07.908068Z",
     "iopub.status.idle": "2024-02-22T11:16:07.912929Z",
     "shell.execute_reply": "2024-02-22T11:16:07.912929Z",
     "shell.execute_reply.started": "2024-02-22T11:16:07.908068Z"
    }
   },
   "outputs": [],
   "source": [
    "a = np.array([[1, 2], [3, 4]], float)\n",
    "b = np.array([[5, 6], [7,8]], float)"
   ]
  },
  {
   "cell_type": "code",
   "execution_count": 46,
   "metadata": {
    "execution": {
     "iopub.execute_input": "2024-02-22T11:16:14.901074Z",
     "iopub.status.busy": "2024-02-22T11:16:14.901074Z",
     "iopub.status.idle": "2024-02-22T11:16:14.906971Z",
     "shell.execute_reply": "2024-02-22T11:16:14.905972Z",
     "shell.execute_reply.started": "2024-02-22T11:16:14.901074Z"
    }
   },
   "outputs": [
    {
     "name": "stdout",
     "output_type": "stream",
     "text": [
      "[[1. 2.]\n",
      " [3. 4.]]\n",
      "[[5. 6.]\n",
      " [7. 8.]]\n"
     ]
    }
   ],
   "source": [
    "print(a)\n",
    "print(b)"
   ]
  },
  {
   "cell_type": "code",
   "execution_count": 47,
   "metadata": {
    "ExecuteTime": {
     "end_time": "2022-03-01T17:29:42.675460Z",
     "start_time": "2022-03-01T17:29:42.662478Z"
    },
    "execution": {
     "iopub.execute_input": "2024-02-22T11:16:50.330824Z",
     "iopub.status.busy": "2024-02-22T11:16:50.329824Z",
     "iopub.status.idle": "2024-02-22T11:16:50.336942Z",
     "shell.execute_reply": "2024-02-22T11:16:50.335930Z",
     "shell.execute_reply.started": "2024-02-22T11:16:50.330824Z"
    }
   },
   "outputs": [
    {
     "name": "stdout",
     "output_type": "stream",
     "text": [
      "[[1. 2.]\n",
      " [3. 4.]\n",
      " [5. 6.]\n",
      " [7. 8.]]\n"
     ]
    }
   ],
   "source": [
    "# concatenare pe verticala\n",
    "stiva_verticala = np.concatenate((a, b), axis=0)\n",
    "print(stiva_verticala)"
   ]
  },
  {
   "cell_type": "markdown",
   "metadata": {},
   "source": [
    "Conceptul de axa se defineste pentru tablourile cu mai mult de o dimensiune. Pentru un tablou cu doua dimensiuni, axa 0 parcurge pe verticala tabloul, axa 1 parcurge pe orizontala. Unele functii iau in considerare axa de lucru:"
   ]
  },
  {
   "cell_type": "code",
   "execution_count": 48,
   "metadata": {
    "ExecuteTime": {
     "end_time": "2022-03-01T17:29:42.691460Z",
     "start_time": "2022-03-01T17:29:42.678459Z"
    },
    "execution": {
     "iopub.execute_input": "2024-02-22T11:17:01.287847Z",
     "iopub.status.busy": "2024-02-22T11:17:01.286858Z",
     "iopub.status.idle": "2024-02-22T11:17:01.291747Z",
     "shell.execute_reply": "2024-02-22T11:17:01.291747Z",
     "shell.execute_reply.started": "2024-02-22T11:17:01.287847Z"
    }
   },
   "outputs": [
    {
     "name": "stdout",
     "output_type": "stream",
     "text": [
      "[[1. 2. 5. 6.]\n",
      " [3. 4. 7. 8.]]\n"
     ]
    }
   ],
   "source": [
    "# concatenare pe orizontala\n",
    "stiva_orizontala = np.concatenate((a, b), axis=1)\n",
    "print(stiva_orizontala)"
   ]
  },
  {
   "cell_type": "code",
   "execution_count": 49,
   "metadata": {
    "ExecuteTime": {
     "end_time": "2022-03-01T17:29:42.707460Z",
     "start_time": "2022-03-01T17:29:42.694460Z"
    },
    "execution": {
     "iopub.execute_input": "2024-02-22T11:17:19.099245Z",
     "iopub.status.busy": "2024-02-22T11:17:19.098266Z",
     "iopub.status.idle": "2024-02-22T11:17:19.103552Z",
     "shell.execute_reply": "2024-02-22T11:17:19.103552Z",
     "shell.execute_reply.started": "2024-02-22T11:17:19.099245Z"
    }
   },
   "outputs": [
    {
     "name": "stdout",
     "output_type": "stream",
     "text": [
      "[[1. 2.]\n",
      " [3. 4.]\n",
      " [5. 6.]\n",
      " [7. 8.]]\n",
      "[[1. 2. 5. 6.]\n",
      " [3. 4. 7. 8.]]\n"
     ]
    }
   ],
   "source": [
    "# echivalent cu:\n",
    "stiva_verticala = np.vstack((a, b))\n",
    "stiva_orizontala = np.hstack((a, b))\n",
    "print(stiva_verticala)\n",
    "print(stiva_orizontala)"
   ]
  },
  {
   "cell_type": "code",
   "execution_count": 50,
   "metadata": {
    "ExecuteTime": {
     "end_time": "2022-03-01T17:29:42.723487Z",
     "start_time": "2022-03-01T17:29:42.710459Z"
    },
    "execution": {
     "iopub.execute_input": "2024-02-22T11:17:21.331982Z",
     "iopub.status.busy": "2024-02-22T11:17:21.331982Z",
     "iopub.status.idle": "2024-02-22T11:17:21.336076Z",
     "shell.execute_reply": "2024-02-22T11:17:21.336076Z",
     "shell.execute_reply.started": "2024-02-22T11:17:21.331982Z"
    }
   },
   "outputs": [
    {
     "name": "stdout",
     "output_type": "stream",
     "text": [
      "[[ 0  1  2  3  4]\n",
      " [ 5  6  7  8  9]\n",
      " [10 11 12 13 14]]\n"
     ]
    }
   ],
   "source": [
    "matrice = np.arange(15).reshape(3, 5)\n",
    "print(matrice)"
   ]
  },
  {
   "cell_type": "code",
   "execution_count": 51,
   "metadata": {
    "ExecuteTime": {
     "end_time": "2022-03-01T17:29:42.739453Z",
     "start_time": "2022-03-01T17:29:42.726495Z"
    },
    "execution": {
     "iopub.execute_input": "2024-02-22T11:18:26.013602Z",
     "iopub.status.busy": "2024-02-22T11:18:26.013602Z",
     "iopub.status.idle": "2024-02-22T11:18:26.020626Z",
     "shell.execute_reply": "2024-02-22T11:18:26.019644Z",
     "shell.execute_reply.started": "2024-02-22T11:18:26.013602Z"
    }
   },
   "outputs": [
    {
     "name": "stdout",
     "output_type": "stream",
     "text": [
      "[15 18 21 24 27]\n"
     ]
    }
   ],
   "source": [
    "suma_pe_coloane= np.sum(matrice, axis=0)\n",
    "print(suma_pe_coloane)"
   ]
  },
  {
   "cell_type": "code",
   "execution_count": 52,
   "metadata": {
    "ExecuteTime": {
     "end_time": "2022-03-01T17:29:42.754457Z",
     "start_time": "2022-03-01T17:29:42.743458Z"
    },
    "execution": {
     "iopub.execute_input": "2024-02-22T11:18:58.880648Z",
     "iopub.status.busy": "2024-02-22T11:18:58.880648Z",
     "iopub.status.idle": "2024-02-22T11:18:58.886393Z",
     "shell.execute_reply": "2024-02-22T11:18:58.885386Z",
     "shell.execute_reply.started": "2024-02-22T11:18:58.880648Z"
    }
   },
   "outputs": [
    {
     "name": "stdout",
     "output_type": "stream",
     "text": [
      "[10 35 60]\n"
     ]
    }
   ],
   "source": [
    "suma_pe_linii= np.sum(matrice, axis=1)\n",
    "print(suma_pe_linii)"
   ]
  },
  {
   "cell_type": "markdown",
   "metadata": {},
   "source": [
    "### Operatii cu ndarrays\n",
    "\n",
    "Sunt implementate operatiile matematice uzuale din algebra liniara: inmultire cu scalari, adunare, scadere, inmultire de matrice.\n",
    "\n",
    "Exemple:\n",
    "* adunare\n",
    "* produs Hadamard, produs matricial, produs scalar:"
   ]
  },
  {
   "cell_type": "code",
   "execution_count": 53,
   "metadata": {
    "ExecuteTime": {
     "end_time": "2022-03-01T17:29:42.770487Z",
     "start_time": "2022-03-01T17:29:42.757456Z"
    },
    "execution": {
     "iopub.execute_input": "2024-02-22T11:19:20.357172Z",
     "iopub.status.busy": "2024-02-22T11:19:20.357172Z",
     "iopub.status.idle": "2024-02-22T11:19:20.362654Z",
     "shell.execute_reply": "2024-02-22T11:19:20.362654Z",
     "shell.execute_reply.started": "2024-02-22T11:19:20.357172Z"
    }
   },
   "outputs": [
    {
     "name": "stdout",
     "output_type": "stream",
     "text": [
      "a=\n",
      " [[1 2 3]\n",
      " [4 5 6]]\n",
      "b=\n",
      " [[10 20 30]\n",
      " [40 50 60]]\n"
     ]
    }
   ],
   "source": [
    "# inmultire de matrice cu scalar\n",
    "a = np.array([[1, 2, 3], [4, 5, 6]])\n",
    "print('a=\\n', a)\n",
    "b = a * 10\n",
    "print('b=\\n', b)"
   ]
  },
  {
   "cell_type": "code",
   "execution_count": 54,
   "metadata": {
    "ExecuteTime": {
     "end_time": "2022-03-01T17:29:42.786452Z",
     "start_time": "2022-03-01T17:29:42.773457Z"
    },
    "execution": {
     "iopub.execute_input": "2024-02-22T11:19:45.485126Z",
     "iopub.status.busy": "2024-02-22T11:19:45.484126Z",
     "iopub.status.idle": "2024-02-22T11:19:45.489125Z",
     "shell.execute_reply": "2024-02-22T11:19:45.489125Z",
     "shell.execute_reply.started": "2024-02-22T11:19:45.485126Z"
    }
   },
   "outputs": [
    {
     "name": "stdout",
     "output_type": "stream",
     "text": [
      "[[11 22 33]\n",
      " [44 55 66]]\n",
      "[[ -9 -18 -27]\n",
      " [-36 -45 -54]]\n"
     ]
    }
   ],
   "source": [
    "# adunare, scadere: +, -\n",
    "suma = a + b\n",
    "print(suma)\n",
    "diferenta = a - b\n",
    "print(diferenta)"
   ]
  },
  {
   "cell_type": "markdown",
   "metadata": {},
   "source": [
    "Operatorul de inmultire \\* este implementat altfel decat in algebra liniara: pentru doua matrice cu aceleasi dimensiuni se face inmultirea elementelor aflate pe pozitii identice, adica: c[i, j] = a[i, j] * b[i, j]. Este asa-numitul produs Hadamard, frecvent intalnit in machine learning."
   ]
  },
  {
   "cell_type": "code",
   "execution_count": 55,
   "metadata": {
    "ExecuteTime": {
     "end_time": "2022-03-01T17:29:42.802488Z",
     "start_time": "2022-03-01T17:29:42.790452Z"
    },
    "execution": {
     "iopub.execute_input": "2024-02-22T11:20:42.987363Z",
     "iopub.status.busy": "2024-02-22T11:20:42.987363Z",
     "iopub.status.idle": "2024-02-22T11:20:42.993766Z",
     "shell.execute_reply": "2024-02-22T11:20:42.992758Z",
     "shell.execute_reply.started": "2024-02-22T11:20:42.987363Z"
    }
   },
   "outputs": [
    {
     "name": "stdout",
     "output_type": "stream",
     "text": [
      "[[ 10  40  90]\n",
      " [160 250 360]]\n",
      "True\n",
      "True\n",
      "True\n",
      "True\n",
      "True\n",
      "True\n"
     ]
    }
   ],
   "source": [
    "# inmultirea folosind * duce la inmultire element cu element (produs Hadamard): c[i, j] = a[i, j] * b[i, j]\n",
    "c = a * b\n",
    "print(c)\n",
    "for i in range(c.shape[0]):  #c.shape[0] = numarul de linii ale matricei c\n",
    "    for j in range(c.shape[1]): #c.shape[1] = numarul de coloane ale matricei c\n",
    "        print(c[i, j] == a[i, j] * b[i, j])"
   ]
  },
  {
   "cell_type": "markdown",
   "metadata": {},
   "source": [
    "Operatiile folosesc biblioteci de algebra liniara, optimizate pentru microprocesoarele actuale. Se recomanda folosirea acestor implementari in loc de a face operatiile manual cu ciclari `for`:"
   ]
  },
  {
   "cell_type": "code",
   "execution_count": 56,
   "metadata": {
    "ExecuteTime": {
     "end_time": "2022-03-01T17:29:42.818460Z",
     "start_time": "2022-03-01T17:29:42.806484Z"
    },
    "execution": {
     "iopub.execute_input": "2024-02-22T11:21:09.017742Z",
     "iopub.status.busy": "2024-02-22T11:21:09.016743Z",
     "iopub.status.idle": "2024-02-22T11:21:09.023034Z",
     "shell.execute_reply": "2024-02-22T11:21:09.022025Z",
     "shell.execute_reply.started": "2024-02-22T11:21:09.017742Z"
    }
   },
   "outputs": [],
   "source": [
    "# creare de matrice\n",
    "matrix_shape = (100, 100)\n",
    "a_big = np.random.random(matrix_shape)\n",
    "b_big = np.random.random(matrix_shape)"
   ]
  },
  {
   "cell_type": "code",
   "execution_count": 57,
   "metadata": {
    "ExecuteTime": {
     "end_time": "2022-03-01T17:29:48.248013Z",
     "start_time": "2022-03-01T17:29:42.825468Z"
    },
    "execution": {
     "iopub.execute_input": "2024-02-22T11:21:25.084475Z",
     "iopub.status.busy": "2024-02-22T11:21:25.084475Z",
     "iopub.status.idle": "2024-02-22T11:21:28.805456Z",
     "shell.execute_reply": "2024-02-22T11:21:28.804459Z",
     "shell.execute_reply.started": "2024-02-22T11:21:25.084475Z"
    }
   },
   "outputs": [
    {
     "name": "stdout",
     "output_type": "stream",
     "text": [
      "4.56 ms ± 754 µs per loop (mean ± std. dev. of 7 runs, 100 loops each)\n"
     ]
    }
   ],
   "source": [
    "%%timeit\n",
    "c_big = np.empty_like(a_big)\n",
    "for i in range(c_big.shape[0]):\n",
    "    for j in range(c_big.shape[1]):\n",
    "        c_big[i, j] = a_big[i, j] * b_big[i, j]"
   ]
  },
  {
   "cell_type": "code",
   "execution_count": 58,
   "metadata": {
    "ExecuteTime": {
     "end_time": "2022-03-01T17:29:54.311263Z",
     "start_time": "2022-03-01T17:29:48.249979Z"
    },
    "execution": {
     "iopub.execute_input": "2024-02-22T11:21:50.228046Z",
     "iopub.status.busy": "2024-02-22T11:21:50.228046Z",
     "iopub.status.idle": "2024-02-22T11:21:54.020768Z",
     "shell.execute_reply": "2024-02-22T11:21:54.020768Z",
     "shell.execute_reply.started": "2024-02-22T11:21:50.228046Z"
    }
   },
   "outputs": [
    {
     "name": "stdout",
     "output_type": "stream",
     "text": [
      "4.63 µs ± 111 ns per loop (mean ± std. dev. of 7 runs, 100,000 loops each)\n"
     ]
    }
   ],
   "source": [
    "%%timeit\n",
    "c_big = a_big * b_big"
   ]
  },
  {
   "cell_type": "code",
   "execution_count": 59,
   "metadata": {
    "ExecuteTime": {
     "end_time": "2022-03-01T17:29:54.341253Z",
     "start_time": "2022-03-01T17:29:54.318211Z"
    },
    "execution": {
     "iopub.execute_input": "2024-02-22T11:22:41.168246Z",
     "iopub.status.busy": "2024-02-22T11:22:41.168246Z",
     "iopub.status.idle": "2024-02-22T11:22:41.174805Z",
     "shell.execute_reply": "2024-02-22T11:22:41.174255Z",
     "shell.execute_reply.started": "2024-02-22T11:22:41.168246Z"
    }
   },
   "outputs": [
    {
     "name": "stdout",
     "output_type": "stream",
     "text": [
      "matricea initiala:\n",
      " [[1 2 3]\n",
      " [4 5 6]]\n",
      "dupa ridicarea la puterea 2:\n",
      " [[ 1  4  9]\n",
      " [16 25 36]]\n",
      "dupa ridicarea la puterea 3:\n",
      " [[  1   8  27]\n",
      " [ 64 125 216]]\n"
     ]
    }
   ],
   "source": [
    "# 'ridicarea la putere' folosind ** : fiecare element al matricei este ridicat la putere\n",
    "print('matricea initiala:\\n', a)\n",
    "putere = a ** 2\n",
    "print('dupa ridicarea la puterea 2:\\n', putere)\n",
    "putere_3 = a ** 3\n",
    "print('dupa ridicarea la puterea 3:\\n', putere_3)"
   ]
  },
  {
   "cell_type": "markdown",
   "metadata": {},
   "source": [
    "Se poate folosi operatorul / pentru a face impartirea punctuala (element cu element) a valorilor din doua matrice:"
   ]
  },
  {
   "cell_type": "code",
   "execution_count": 60,
   "metadata": {
    "ExecuteTime": {
     "end_time": "2022-03-01T17:29:54.373262Z",
     "start_time": "2022-03-01T17:29:54.348210Z"
    },
    "execution": {
     "iopub.execute_input": "2024-02-22T11:22:59.390803Z",
     "iopub.status.busy": "2024-02-22T11:22:59.390803Z",
     "iopub.status.idle": "2024-02-22T11:22:59.396392Z",
     "shell.execute_reply": "2024-02-22T11:22:59.395384Z",
     "shell.execute_reply.started": "2024-02-22T11:22:59.390803Z"
    }
   },
   "outputs": [
    {
     "name": "stdout",
     "output_type": "stream",
     "text": [
      "a= [[1 2 3]\n",
      " [4 5 6]]\n",
      "b= [[10 20 30]\n",
      " [40 50 60]]\n",
      "a/b= [[0.1 0.1 0.1]\n",
      " [0.1 0.1 0.1]]\n"
     ]
    }
   ],
   "source": [
    "print('a=', a)\n",
    "print('b=', b)\n",
    "print('a/b=', a/b)"
   ]
  },
  {
   "cell_type": "code",
   "execution_count": 61,
   "metadata": {
    "ExecuteTime": {
     "end_time": "2022-03-01T17:29:54.405256Z",
     "start_time": "2022-03-01T17:29:54.381210Z"
    },
    "execution": {
     "iopub.execute_input": "2024-02-22T11:23:28.659804Z",
     "iopub.status.busy": "2024-02-22T11:23:28.659804Z",
     "iopub.status.idle": "2024-02-22T11:23:28.665765Z",
     "shell.execute_reply": "2024-02-22T11:23:28.664801Z",
     "shell.execute_reply.started": "2024-02-22T11:23:28.659804Z"
    }
   },
   "outputs": [
    {
     "name": "stdout",
     "output_type": "stream",
     "text": [
      "[[ 468  576  684]\n",
      " [1062 1305 1548]\n",
      " [1656 2034 2412]]\n"
     ]
    }
   ],
   "source": [
    "# ridicarea la putere a unei matrice patratice, asa cum e definita in algebra liniara:\n",
    "patratica = np.array([[1, 2, 3], [4, 5, 6], [7, 8, 9]])\n",
    "ridicare_la_putere = np.linalg.matrix_power(patratica, 3)\n",
    "print(ridicare_la_putere)"
   ]
  },
  {
   "cell_type": "markdown",
   "metadata": {},
   "source": [
    "Daca se apeleaza o functie matematica definita in NumPy pe un ndarray, rezultatul va fi tot un ndarray de aceeasi forma ca si intrarea, dar cu elementele calculate prin aplicarea functiei respective:"
   ]
  },
  {
   "cell_type": "code",
   "execution_count": 62,
   "metadata": {
    "ExecuteTime": {
     "end_time": "2022-03-01T17:29:54.435213Z",
     "start_time": "2022-03-01T17:29:54.413223Z"
    },
    "execution": {
     "iopub.execute_input": "2024-02-22T11:25:00.515039Z",
     "iopub.status.busy": "2024-02-22T11:25:00.515039Z",
     "iopub.status.idle": "2024-02-22T11:25:00.520454Z",
     "shell.execute_reply": "2024-02-22T11:25:00.519448Z",
     "shell.execute_reply.started": "2024-02-22T11:25:00.515039Z"
    }
   },
   "outputs": [
    {
     "name": "stdout",
     "output_type": "stream",
     "text": [
      "[[0 1 2]\n",
      " [3 4 5]]\n"
     ]
    }
   ],
   "source": [
    "x = np.arange(6).reshape(2, 3)\n",
    "print(x)\n",
    "y = np.exp(x)\n",
    "assert x.shape == y.shape\n",
    "for i in range(0, x.shape[0]):\n",
    "    for j in range(0, x.shape[1]):\n",
    "        assert y[i, j] == np.exp(x[i, j])"
   ]
  },
  {
   "cell_type": "code",
   "execution_count": 63,
   "metadata": {
    "ExecuteTime": {
     "end_time": "2022-03-01T17:29:54.529216Z",
     "start_time": "2022-03-01T17:29:54.439249Z"
    },
    "execution": {
     "iopub.execute_input": "2024-02-22T11:26:00.803833Z",
     "iopub.status.busy": "2024-02-22T11:26:00.803833Z",
     "iopub.status.idle": "2024-02-22T11:26:00.812037Z",
     "shell.execute_reply": "2024-02-22T11:26:00.812037Z",
     "shell.execute_reply.started": "2024-02-22T11:26:00.803833Z"
    }
   },
   "outputs": [],
   "source": [
    "# produs algebric de matrice:\n",
    "a = np.random.rand(3, 5)\n",
    "b = np.random.rand(5, 10)\n",
    "assert a.shape[1] == b.shape[0]\n",
    "c = np.dot(a, b)\n",
    "# se poate scrie echivalent\n",
    "c = a.dot(b)\n",
    "assert a.shape[0] == c.shape[0] and b.shape[1] == c.shape[1]\n",
    "# sau folosind operatorul @\n",
    "c = a @ b"
   ]
  },
  {
   "cell_type": "markdown",
   "metadata": {},
   "source": [
    "NumPy defineste o serie de functii ce pot fi utilizate: `all, any, apply_along_axis, argmax, argmin, argsort, average, bincount, ceil, clip, conj, corrcoef, cov, cross, cumprod, cumsum, diff, dot, floor, inner, inv, lexsort, max, maximum, mean, median, min, minimum, nonzero, outer, prod, re, round, sort, std, sum, trace, transpose, var, vdot, vectorize, where` - [documentate aici](https://docs.scipy.org/doc/numpy-dev/reference/generated/)."
   ]
  },
  {
   "cell_type": "markdown",
   "metadata": {},
   "source": [
    "## Indexare \n",
    "\n",
    "Pana acum, pentru referirea elementelor de la anumite pozitii s-au folosit indici simpli de forma:\n",
    "```python\n",
    "vector[indice]\n",
    "# sau\n",
    "matrice[i, j]\n",
    "```"
   ]
  },
  {
   "cell_type": "code",
   "execution_count": 64,
   "metadata": {
    "ExecuteTime": {
     "end_time": "2022-03-01T17:29:54.544220Z",
     "start_time": "2022-03-01T17:29:54.534214Z"
    },
    "execution": {
     "iopub.execute_input": "2024-02-22T11:26:42.259505Z",
     "iopub.status.busy": "2024-02-22T11:26:42.258504Z",
     "iopub.status.idle": "2024-02-22T11:26:42.264331Z",
     "shell.execute_reply": "2024-02-22T11:26:42.263324Z",
     "shell.execute_reply.started": "2024-02-22T11:26:42.259505Z"
    }
   },
   "outputs": [
    {
     "name": "stdout",
     "output_type": "stream",
     "text": [
      "[0 1 2 3 4 5 6 7 8 9]\n",
      "vector[4]=4\n"
     ]
    }
   ],
   "source": [
    "vector = np.arange(10)\n",
    "print(vector)\n",
    "print('vector[4]={0}'.format(vector[4]))"
   ]
  },
  {
   "cell_type": "code",
   "execution_count": 65,
   "metadata": {
    "ExecuteTime": {
     "end_time": "2022-03-01T17:29:54.576210Z",
     "start_time": "2022-03-01T17:29:54.567220Z"
    },
    "execution": {
     "iopub.execute_input": "2024-02-22T11:26:50.876600Z",
     "iopub.status.busy": "2024-02-22T11:26:50.876600Z",
     "iopub.status.idle": "2024-02-22T11:26:50.882332Z",
     "shell.execute_reply": "2024-02-22T11:26:50.881325Z",
     "shell.execute_reply.started": "2024-02-22T11:26:50.876600Z"
    }
   },
   "outputs": [
    {
     "name": "stdout",
     "output_type": "stream",
     "text": [
      "[[ 0  1  2  3]\n",
      " [ 4  5  6  7]\n",
      " [ 8  9 10 11]]\n",
      "9\n"
     ]
    }
   ],
   "source": [
    "matrice = np.arange(12).reshape(3, 4)\n",
    "print(matrice)\n",
    "print(matrice[2, 1])"
   ]
  },
  {
   "cell_type": "markdown",
   "metadata": {},
   "source": [
    "Pentru matrice se poate folosi o indiciere de forma:\n",
    "```python\n",
    "matrice[i][j] \n",
    "```\n",
    "dar e o varianta ineficienta fata de `matrice[i,j]` deoarece in prima varianta se face o copie temporara a linii de indice `i` a matricei si din acest obiect auxiliar se selecteaza elementul de indice `j`."
   ]
  },
  {
   "cell_type": "markdown",
   "metadata": {},
   "source": [
    "Prin `slicing` exista posibilitatea de a face referire la un intreg subset de elemente, de exemplu peentru vectori:"
   ]
  },
  {
   "cell_type": "code",
   "execution_count": 67,
   "metadata": {
    "ExecuteTime": {
     "end_time": "2022-03-01T17:29:54.592255Z",
     "start_time": "2022-03-01T17:29:54.581218Z"
    },
    "execution": {
     "iopub.execute_input": "2024-02-22T11:27:40.392289Z",
     "iopub.status.busy": "2024-02-22T11:27:40.391309Z",
     "iopub.status.idle": "2024-02-22T11:27:40.396631Z",
     "shell.execute_reply": "2024-02-22T11:27:40.396631Z",
     "shell.execute_reply.started": "2024-02-22T11:27:40.392289Z"
    }
   },
   "outputs": [
    {
     "name": "stdout",
     "output_type": "stream",
     "text": [
      "[ 0 10 20 30 40 50 60 70 80 90]\n",
      "[30 40 50 60]\n"
     ]
    }
   ],
   "source": [
    "vector = 10 * np.arange(10)\n",
    "print(vector)\n",
    "print(vector[3:7]) # remarcam ca indicele din dreapta este cu rol de \"exclusiv\", nu contribuie la rezultat"
   ]
  },
  {
   "cell_type": "code",
   "execution_count": 68,
   "metadata": {
    "ExecuteTime": {
     "end_time": "2022-03-01T17:29:54.608207Z",
     "start_time": "2022-03-01T17:29:54.598216Z"
    },
    "execution": {
     "iopub.execute_input": "2024-02-22T11:28:10.227316Z",
     "iopub.status.busy": "2024-02-22T11:28:10.227316Z",
     "iopub.status.idle": "2024-02-22T11:28:10.234325Z",
     "shell.execute_reply": "2024-02-22T11:28:10.233324Z",
     "shell.execute_reply.started": "2024-02-22T11:28:10.227316Z"
    }
   },
   "outputs": [
    {
     "name": "stdout",
     "output_type": "stream",
     "text": [
      "[ 0 10 20 30 40 50 60 70 80 90]\n",
      "[10 50 20 50 60 80]\n"
     ]
    }
   ],
   "source": [
    "indici = [1, 5, 2, 5, 6, 8]\n",
    "print(vector)\n",
    "print(vector[indici])"
   ]
  },
  {
   "cell_type": "code",
   "execution_count": 69,
   "metadata": {
    "ExecuteTime": {
     "end_time": "2022-03-01T17:29:54.623212Z",
     "start_time": "2022-03-01T17:29:54.614218Z"
    },
    "execution": {
     "iopub.execute_input": "2024-02-22T11:28:36.176280Z",
     "iopub.status.busy": "2024-02-22T11:28:36.176280Z",
     "iopub.status.idle": "2024-02-22T11:28:36.182194Z",
     "shell.execute_reply": "2024-02-22T11:28:36.182194Z",
     "shell.execute_reply.started": "2024-02-22T11:28:36.176280Z"
    }
   },
   "outputs": [
    {
     "data": {
      "text/plain": [
       "array([30, 50, 70, 90])"
      ]
     },
     "execution_count": 69,
     "metadata": {},
     "output_type": "execute_result"
    }
   ],
   "source": [
    "# sau cu indici dati in progresie aritmetica\n",
    "vector[3::2]"
   ]
  },
  {
   "cell_type": "markdown",
   "metadata": {},
   "source": [
    "Pentru matrice putem folosi:"
   ]
  },
  {
   "cell_type": "code",
   "execution_count": 70,
   "metadata": {
    "ExecuteTime": {
     "end_time": "2022-03-01T17:29:54.638254Z",
     "start_time": "2022-03-01T17:29:54.629206Z"
    },
    "execution": {
     "iopub.execute_input": "2024-02-22T11:28:42.536639Z",
     "iopub.status.busy": "2024-02-22T11:28:42.535640Z",
     "iopub.status.idle": "2024-02-22T11:28:42.540382Z",
     "shell.execute_reply": "2024-02-22T11:28:42.540382Z",
     "shell.execute_reply.started": "2024-02-22T11:28:42.536639Z"
    }
   },
   "outputs": [
    {
     "name": "stdout",
     "output_type": "stream",
     "text": [
      "[[  0  10  20  30  40]\n",
      " [ 50  60  70  80  90]\n",
      " [100 110 120 130 140]\n",
      " [150 160 170 180 190]]\n"
     ]
    }
   ],
   "source": [
    "matrice = 10 * np.arange(20).reshape(4, 5)\n",
    "print(matrice)"
   ]
  },
  {
   "cell_type": "code",
   "execution_count": 72,
   "metadata": {
    "ExecuteTime": {
     "end_time": "2022-03-01T17:29:54.654215Z",
     "start_time": "2022-03-01T17:29:54.644217Z"
    },
    "execution": {
     "iopub.execute_input": "2024-02-22T11:29:26.808099Z",
     "iopub.status.busy": "2024-02-22T11:29:26.808099Z",
     "iopub.status.idle": "2024-02-22T11:29:26.812263Z",
     "shell.execute_reply": "2024-02-22T11:29:26.812263Z",
     "shell.execute_reply.started": "2024-02-22T11:29:26.808099Z"
    }
   },
   "outputs": [
    {
     "name": "stdout",
     "output_type": "stream",
     "text": [
      "[50 60 70 80 90]\n"
     ]
    }
   ],
   "source": [
    "# print(matrice[1,])\n",
    "# care e tot una cu forma mai explicita:\n",
    "# print(matrice[1, :])\n",
    "print(matrice[1, ...])"
   ]
  },
  {
   "cell_type": "code",
   "execution_count": 73,
   "metadata": {
    "execution": {
     "iopub.execute_input": "2024-02-22T11:29:31.574514Z",
     "iopub.status.busy": "2024-02-22T11:29:31.574514Z",
     "iopub.status.idle": "2024-02-22T11:29:31.579282Z",
     "shell.execute_reply": "2024-02-22T11:29:31.579282Z",
     "shell.execute_reply.started": "2024-02-22T11:29:31.574514Z"
    }
   },
   "outputs": [
    {
     "data": {
      "text/plain": [
       "Ellipsis"
      ]
     },
     "execution_count": 73,
     "metadata": {},
     "output_type": "execute_result"
    }
   ],
   "source": [
    "..."
   ]
  },
  {
   "cell_type": "code",
   "execution_count": 74,
   "metadata": {
    "ExecuteTime": {
     "end_time": "2022-03-01T17:29:54.670221Z",
     "start_time": "2022-03-01T17:29:54.659214Z"
    },
    "execution": {
     "iopub.execute_input": "2024-02-22T11:30:07.777040Z",
     "iopub.status.busy": "2024-02-22T11:30:07.776038Z",
     "iopub.status.idle": "2024-02-22T11:30:07.785078Z",
     "shell.execute_reply": "2024-02-22T11:30:07.784067Z",
     "shell.execute_reply.started": "2024-02-22T11:30:07.777040Z"
    }
   },
   "outputs": [
    {
     "data": {
      "text/plain": [
       "array([[ 50,  60,  70,  80,  90],\n",
       "       [100, 110, 120, 130, 140]])"
      ]
     },
     "execution_count": 74,
     "metadata": {},
     "output_type": "execute_result"
    }
   ],
   "source": [
    "# putem selecta domenii de indici, pe fiecare axa\n",
    "matrice[1:3, :]"
   ]
  },
  {
   "cell_type": "code",
   "execution_count": 75,
   "metadata": {
    "ExecuteTime": {
     "end_time": "2022-03-01T17:29:54.701211Z",
     "start_time": "2022-03-01T17:29:54.676216Z"
    },
    "execution": {
     "iopub.execute_input": "2024-02-22T11:30:14.704407Z",
     "iopub.status.busy": "2024-02-22T11:30:14.704407Z",
     "iopub.status.idle": "2024-02-22T11:30:14.711407Z",
     "shell.execute_reply": "2024-02-22T11:30:14.711407Z",
     "shell.execute_reply.started": "2024-02-22T11:30:14.704407Z"
    }
   },
   "outputs": [
    {
     "data": {
      "text/plain": [
       "array([[ 70,  80],\n",
       "       [120, 130]])"
      ]
     },
     "execution_count": 75,
     "metadata": {},
     "output_type": "execute_result"
    }
   ],
   "source": [
    "# indexare pe fiecare dimensiune\n",
    "matrice[1:3, 2:4]"
   ]
  },
  {
   "cell_type": "markdown",
   "metadata": {},
   "source": [
    "### Indexarea logica\n",
    "Asupra elementelor unui tablou se pot aplica operatii logice; obtinem un tablou de aceeasi forma ca si tabloul initial, dar plin cu valori `True` si `False` in functie de rezultatul aplicarii operatiei logice:"
   ]
  },
  {
   "cell_type": "code",
   "execution_count": 76,
   "metadata": {
    "ExecuteTime": {
     "end_time": "2022-03-01T17:29:54.717209Z",
     "start_time": "2022-03-01T17:29:54.705210Z"
    },
    "execution": {
     "iopub.execute_input": "2024-02-22T11:30:31.584173Z",
     "iopub.status.busy": "2024-02-22T11:30:31.583178Z",
     "iopub.status.idle": "2024-02-22T11:30:31.589761Z",
     "shell.execute_reply": "2024-02-22T11:30:31.588753Z",
     "shell.execute_reply.started": "2024-02-22T11:30:31.584173Z"
    }
   },
   "outputs": [
    {
     "name": "stdout",
     "output_type": "stream",
     "text": [
      "[[1 2]\n",
      " [3 4]\n",
      " [5 6]]\n",
      "[[False False]\n",
      " [ True  True]\n",
      " [ True  True]]\n"
     ]
    }
   ],
   "source": [
    "a = np.array([[1,2], [3, 4], [5, 6]])\n",
    "print(a)\n",
    "print(a > 2)"
   ]
  },
  {
   "cell_type": "markdown",
   "metadata": {},
   "source": [
    "Tabloul rezultat in urma aplicarii operatiei logice poate fi folosit pentru indexare. Se vor returna doar acele elemente care satisfac conditia logica ceruta:"
   ]
  },
  {
   "cell_type": "code",
   "execution_count": 79,
   "metadata": {
    "ExecuteTime": {
     "end_time": "2022-03-01T17:29:54.732205Z",
     "start_time": "2022-03-01T17:29:54.721214Z"
    },
    "execution": {
     "iopub.execute_input": "2024-02-22T11:33:10.985908Z",
     "iopub.status.busy": "2024-02-22T11:33:10.985908Z",
     "iopub.status.idle": "2024-02-22T11:33:10.991092Z",
     "shell.execute_reply": "2024-02-22T11:33:10.990084Z",
     "shell.execute_reply.started": "2024-02-22T11:33:10.985908Z"
    }
   },
   "outputs": [
    {
     "name": "stdout",
     "output_type": "stream",
     "text": [
      "[3 4 5 6]\n",
      "[3 4 5 6]\n"
     ]
    }
   ],
   "source": [
    "mai_mare_ca_2 = a > 2\n",
    "print(a[mai_mare_ca_2])\n",
    "# direct\n",
    "print(a[a>2])"
   ]
  },
  {
   "cell_type": "markdown",
   "metadata": {},
   "source": [
    "Daca se doresc expresii mai complicate: elemente care sunt mai mari ca 2 si mai mici ca 6, atunci:"
   ]
  },
  {
   "cell_type": "code",
   "execution_count": null,
   "metadata": {
    "ExecuteTime": {
     "end_time": "2022-03-01T17:29:54.747236Z",
     "start_time": "2022-03-01T17:29:54.735208Z"
    }
   },
   "outputs": [],
   "source": [
    "a[np.logical_and(a > 2, a < 6)]"
   ]
  },
  {
   "cell_type": "markdown",
   "metadata": {},
   "source": [
    "Mai exista: `np.logical_or`, `np.logical_not`, `np.logical_xor`."
   ]
  },
  {
   "cell_type": "markdown",
   "metadata": {},
   "source": [
    "O expresie logica utila este urmatoarea: se cere obtinerea doar a acelor elemente care sunt definite - adica nu sunt NaN:"
   ]
  },
  {
   "cell_type": "code",
   "execution_count": 82,
   "metadata": {
    "ExecuteTime": {
     "end_time": "2022-03-01T17:29:54.762209Z",
     "start_time": "2022-03-01T17:29:54.749209Z"
    },
    "execution": {
     "iopub.execute_input": "2024-02-22T11:35:43.757741Z",
     "iopub.status.busy": "2024-02-22T11:35:43.756742Z",
     "iopub.status.idle": "2024-02-22T11:35:43.761916Z",
     "shell.execute_reply": "2024-02-22T11:35:43.761916Z",
     "shell.execute_reply.started": "2024-02-22T11:35:43.757741Z"
    }
   },
   "outputs": [
    {
     "name": "stdout",
     "output_type": "stream",
     "text": [
      "[ 1.   2.3  4.  10.   0. ]\n"
     ]
    }
   ],
   "source": [
    "tab = np.array([[1.0, 2.3, np.nan, 4], [10, np.nan, np.nan, 0]])\n",
    "# tab.sum()\n",
    "print(tab[~np.isnan(tab)])"
   ]
  },
  {
   "cell_type": "markdown",
   "metadata": {},
   "source": [
    "Indicierea returneaza un 'view' al tabloului, peste care se pot aplica modificari ale continutului originar:"
   ]
  },
  {
   "cell_type": "code",
   "execution_count": 83,
   "metadata": {
    "ExecuteTime": {
     "end_time": "2022-03-01T17:29:54.778242Z",
     "start_time": "2022-03-01T17:29:54.764208Z"
    },
    "execution": {
     "iopub.execute_input": "2024-02-22T11:36:00.725492Z",
     "iopub.status.busy": "2024-02-22T11:36:00.724491Z",
     "iopub.status.idle": "2024-02-22T11:36:00.730580Z",
     "shell.execute_reply": "2024-02-22T11:36:00.730580Z",
     "shell.execute_reply.started": "2024-02-22T11:36:00.725492Z"
    },
    "scrolled": true
   },
   "outputs": [
    {
     "name": "stdout",
     "output_type": "stream",
     "text": [
      "Inainte:\n",
      " [[ 1.   2.3  nan  4. ]\n",
      " [10.   nan  nan  0. ]]\n",
      "Dupa:\n",
      " [[ 1.   2.3  0.   4. ]\n",
      " [10.   0.   0.   0. ]]\n"
     ]
    }
   ],
   "source": [
    "print('Inainte:\\n', tab)\n",
    "tab[np.isnan(tab)] = 0.0\n",
    "print('Dupa:\\n', tab)"
   ]
  },
  {
   "cell_type": "markdown",
   "metadata": {},
   "source": [
    "Indexarea logica permite specificarea elementelor dintr-un tablou pentru care se efectueaza anumite operatii:"
   ]
  },
  {
   "cell_type": "code",
   "execution_count": 84,
   "metadata": {
    "ExecuteTime": {
     "end_time": "2022-03-01T17:29:54.794213Z",
     "start_time": "2022-03-01T17:29:54.780244Z"
    },
    "execution": {
     "iopub.execute_input": "2024-02-22T11:36:37.308730Z",
     "iopub.status.busy": "2024-02-22T11:36:37.308730Z",
     "iopub.status.idle": "2024-02-22T11:36:37.315573Z",
     "shell.execute_reply": "2024-02-22T11:36:37.314572Z",
     "shell.execute_reply.started": "2024-02-22T11:36:37.308730Z"
    }
   },
   "outputs": [
    {
     "name": "stdout",
     "output_type": "stream",
     "text": [
      "Inainte de modificare:\n",
      " [[1 2 3 4]\n",
      " [5 6 7 8]]\n",
      "Dupa modificare:\n",
      " [[ 1 20  3 40]\n",
      " [ 5 60  7 80]]\n"
     ]
    }
   ],
   "source": [
    "# numerele pare se inmultesc cu 10, celelalte raman cum sunt \n",
    "tablou = np.array([[1, 2, 3, 4], [5, 6, 7, 8]])\n",
    "print('Inainte de modificare:\\n', tablou)\n",
    "tablou[tablou % 2 == 0] *= 10\n",
    "print('Dupa modificare:\\n', tablou)"
   ]
  },
  {
   "cell_type": "markdown",
   "metadata": {},
   "source": [
    "Modificarea se poate face si doar pe o anumita axa:"
   ]
  },
  {
   "cell_type": "code",
   "execution_count": 85,
   "metadata": {
    "ExecuteTime": {
     "end_time": "2022-03-01T17:29:54.810246Z",
     "start_time": "2022-03-01T17:29:54.798207Z"
    },
    "execution": {
     "iopub.execute_input": "2024-02-22T11:37:38.453805Z",
     "iopub.status.busy": "2024-02-22T11:37:38.452804Z",
     "iopub.status.idle": "2024-02-22T11:37:38.461950Z",
     "shell.execute_reply": "2024-02-22T11:37:38.460941Z",
     "shell.execute_reply.started": "2024-02-22T11:37:38.453805Z"
    }
   },
   "outputs": [
    {
     "name": "stdout",
     "output_type": "stream",
     "text": [
      "Inainte de modificare\n",
      " [[1. 2. 3. 4.]\n",
      " [5. 6. 7. 8.]]\n",
      "Dupa modificare\n",
      " [[0.4 2.  0.6 0.7]\n",
      " [0.8 6.  1.  1.1]]\n"
     ]
    }
   ],
   "source": [
    "tablou = np.array([[1, 2, 3, 4], [5, 6, 7, 8]], dtype=float)\n",
    "print('Inainte de modificare\\n', tablou)\n",
    "# coloanele 0, 2, 3 se modifica\n",
    "bool_columns = [True, False, True, True]\n",
    "tablou[..., bool_columns] = (tablou[:, bool_columns] +3 )/10\n",
    "print('Dupa modificare\\n', tablou)"
   ]
  },
  {
   "cell_type": "markdown",
   "metadata": {},
   "source": [
    "### Bibliografie recomandata\n",
    "1. https://docs.scipy.org/doc/numpy-1.13.0/glossary.html\n",
    "1. https://engineering.ucsb.edu/~shell/che210d/numpy.pdf\n",
    "1. http://www.scipy-lectures.org/intro/numpy/numpy.html#indexing-and-slicing"
   ]
  },
  {
   "cell_type": "markdown",
   "metadata": {},
   "source": [
    "## Broadcasting"
   ]
  },
  {
   "cell_type": "markdown",
   "metadata": {},
   "source": [
    "Broadcasting este un mecanism prin care se permite - in anumite circumstante - operarea cu matrice de dimensiuni ce nu sunt compatibile din punct de vedere al dimensiunii. De exemplu, urmand strict definitia matematica a adunarii, matricele `a` si `b` de mai jos nu se pot aduna:"
   ]
  },
  {
   "cell_type": "code",
   "execution_count": 88,
   "metadata": {
    "ExecuteTime": {
     "end_time": "2022-03-01T17:29:54.825203Z",
     "start_time": "2022-03-01T17:29:54.813318Z"
    },
    "execution": {
     "iopub.execute_input": "2024-02-22T11:40:58.717622Z",
     "iopub.status.busy": "2024-02-22T11:40:58.716619Z",
     "iopub.status.idle": "2024-02-22T11:40:58.723645Z",
     "shell.execute_reply": "2024-02-22T11:40:58.723645Z",
     "shell.execute_reply.started": "2024-02-22T11:40:58.717622Z"
    },
    "scrolled": true
   },
   "outputs": [
    {
     "name": "stdout",
     "output_type": "stream",
     "text": [
      "a=\n",
      "[[ 0.  0.  0.]\n",
      " [10. 10. 10.]\n",
      " [20. 20. 20.]\n",
      " [30. 30. 30.]]\n",
      "\n",
      "b=\n",
      "[[0. 1. 2.]]\n",
      "\n"
     ]
    }
   ],
   "source": [
    "a = np.array([[0.0,0.0,0.0],[10.0,10.0,10.0],[20.0,20.0,20.0],[30.0,30.0,30.0]]) \n",
    "b = np.array([0.0,1.0,2.0]).reshape(1, -1)\n",
    "\n",
    "print('a=\\n{0}\\n'.format(a))\n",
    "print('b=\\n{0}\\n'.format(b))"
   ]
  },
  {
   "cell_type": "markdown",
   "metadata": {},
   "source": [
    "Prin broadcasting se extine automat matrice `b` prin duplicarea (copierea) liniei:\n",
    "![broadcast](./images/broadcast1.png)"
   ]
  },
  {
   "cell_type": "code",
   "execution_count": 89,
   "metadata": {
    "ExecuteTime": {
     "end_time": "2022-03-01T17:29:54.841231Z",
     "start_time": "2022-03-01T17:29:54.828204Z"
    },
    "execution": {
     "iopub.execute_input": "2024-02-22T11:41:02.091598Z",
     "iopub.status.busy": "2024-02-22T11:41:02.090610Z",
     "iopub.status.idle": "2024-02-22T11:41:02.095064Z",
     "shell.execute_reply": "2024-02-22T11:41:02.095064Z",
     "shell.execute_reply.started": "2024-02-22T11:41:02.091598Z"
    }
   },
   "outputs": [
    {
     "name": "stdout",
     "output_type": "stream",
     "text": [
      "result=\n",
      "[[ 0.  1.  2.]\n",
      " [10. 11. 12.]\n",
      " [20. 21. 22.]\n",
      " [30. 31. 32.]]\n",
      "\n"
     ]
    }
   ],
   "source": [
    "# broadcasting\n",
    "result = a + b\n",
    "print('result=\\n{0}\\n'.format(result))"
   ]
  },
  {
   "cell_type": "markdown",
   "metadata": {},
   "source": [
    "Cand se opereaza cu doua tablouri, NumPy compara dimensiunile - atributul `shape` - element cu element, incepand cu ultima dimensiune. Doua dimensiuni sunt compatibile cand:\n",
    "1. sunt egale, sau\n",
    "1. una din ele este 1\n",
    "\n",
    "Regulile de mai sus nu sunt indeplinite, de exemplu, pentru:\n",
    "\n",
    "![Broadcat imposibil](./images/broadcast2.png)\n",
    "sau pentru cazul simplu de mai jos:"
   ]
  },
  {
   "cell_type": "code",
   "execution_count": null,
   "metadata": {
    "ExecuteTime": {
     "end_time": "2022-03-01T17:29:54.856240Z",
     "start_time": "2022-03-01T17:29:54.845209Z"
    }
   },
   "outputs": [],
   "source": [
    "x = np.arange(4)\n",
    "y = np.ones(5)\n",
    "print(x.shape, y.shape)\n",
    "# print(x+y) # ValueError: operands could not be broadcast together with shapes (4,) (5,) "
   ]
  },
  {
   "cell_type": "markdown",
   "metadata": {},
   "source": [
    "## Exemplu concret\n",
    "\n",
    "([Sursa](https://eli.thegreenplace.net/2015/broadcasting-arrays-in-numpy/)) Se dau portiile de grasimi, proteine si carbohidrati dintr-un meniu. Sa se calculeze cate calorii reprezinta. Numarul de calorii se determina astfel:\n",
    "1. nr de calorii pentru grasimi = 9 * grame grasimi\n",
    "1. nr de calorii pentru proteine = 4 * grame proteine\n",
    "1. nr de calorii pentru carbohidrati = 4 * numar grame carbohidrati\n",
    "\n",
    "![tabel portii](./images/broadcast3.png)"
   ]
  },
  {
   "cell_type": "markdown",
   "metadata": {},
   "source": [
    "Rezolvarea se fece prin aplicarea de broadcasting:"
   ]
  },
  {
   "cell_type": "code",
   "execution_count": 90,
   "metadata": {
    "ExecuteTime": {
     "end_time": "2022-03-01T17:29:54.919203Z",
     "start_time": "2022-03-01T17:29:54.907747Z"
    },
    "execution": {
     "iopub.execute_input": "2024-02-22T11:43:42.629114Z",
     "iopub.status.busy": "2024-02-22T11:43:42.629114Z",
     "iopub.status.idle": "2024-02-22T11:43:42.634757Z",
     "shell.execute_reply": "2024-02-22T11:43:42.634757Z",
     "shell.execute_reply.started": "2024-02-22T11:43:42.629114Z"
    }
   },
   "outputs": [
    {
     "name": "stdout",
     "output_type": "stream",
     "text": [
      "Calorii:\n",
      " [[  2.7  10.   14. ]\n",
      " [ 26.1 110.    0. ]\n",
      " [  3.6   5.2  95.6]\n",
      " [129.6  24.    9.2]]\n"
     ]
    }
   ],
   "source": [
    "weights = np.array([\n",
    "  [0.3, 2.5, 3.5],\n",
    "  [2.9, 27.5, 0],\n",
    "  [0.4, 1.3, 23.9],\n",
    "  [14.4, 6, 2.3]])\n",
    "\n",
    "cal_per_g = np.array([9, 4, 4])\n",
    "\n",
    "# broadcasting\n",
    "calories = weights * cal_per_g\n",
    "\n",
    "print('Calorii:\\n', calories)"
   ]
  },
  {
   "cell_type": "markdown",
   "metadata": {},
   "source": [
    "Un alt exemplu este:"
   ]
  },
  {
   "cell_type": "code",
   "execution_count": 91,
   "metadata": {
    "ExecuteTime": {
     "end_time": "2022-03-01T17:29:54.935200Z",
     "start_time": "2022-03-01T17:29:54.923202Z"
    },
    "execution": {
     "iopub.execute_input": "2024-02-22T11:44:07.918564Z",
     "iopub.status.busy": "2024-02-22T11:44:07.918564Z",
     "iopub.status.idle": "2024-02-22T11:44:07.923222Z",
     "shell.execute_reply": "2024-02-22T11:44:07.923222Z",
     "shell.execute_reply.started": "2024-02-22T11:44:07.918564Z"
    }
   },
   "outputs": [
    {
     "name": "stdout",
     "output_type": "stream",
     "text": [
      "(4,) (5,)\n"
     ]
    }
   ],
   "source": [
    "x = np.arange(4)\n",
    "y = np.ones(5)\n",
    "print(x.shape, y.shape)\n",
    "\n",
    "# print(x+y) # ValueError: operands could not be broadcast together with shapes (4,) (5,) "
   ]
  },
  {
   "cell_type": "code",
   "execution_count": 92,
   "metadata": {
    "ExecuteTime": {
     "end_time": "2022-03-01T17:29:54.950243Z",
     "start_time": "2022-03-01T17:29:54.937201Z"
    },
    "execution": {
     "iopub.execute_input": "2024-02-22T11:44:10.246138Z",
     "iopub.status.busy": "2024-02-22T11:44:10.245139Z",
     "iopub.status.idle": "2024-02-22T11:44:10.254136Z",
     "shell.execute_reply": "2024-02-22T11:44:10.253137Z",
     "shell.execute_reply.started": "2024-02-22T11:44:10.246138Z"
    }
   },
   "outputs": [
    {
     "name": "stdout",
     "output_type": "stream",
     "text": [
      "x shape:  (4, 1)\n",
      "x:\n",
      " [[0]\n",
      " [1]\n",
      " [2]\n",
      " [3]]\n"
     ]
    }
   ],
   "source": [
    "x = np.arange(4).reshape(4, 1)\n",
    "print('x shape: ', x.shape)\n",
    "print('x:\\n', x)"
   ]
  },
  {
   "cell_type": "code",
   "execution_count": 93,
   "metadata": {
    "ExecuteTime": {
     "end_time": "2022-03-01T17:29:54.966236Z",
     "start_time": "2022-03-01T17:29:54.953202Z"
    },
    "execution": {
     "iopub.execute_input": "2024-02-22T11:44:18.066671Z",
     "iopub.status.busy": "2024-02-22T11:44:18.065654Z",
     "iopub.status.idle": "2024-02-22T11:44:18.070490Z",
     "shell.execute_reply": "2024-02-22T11:44:18.070490Z",
     "shell.execute_reply.started": "2024-02-22T11:44:18.066671Z"
    }
   },
   "outputs": [
    {
     "name": "stdout",
     "output_type": "stream",
     "text": [
      "y shape:  (1, 5)\n",
      "y:\n",
      " [[0 1 2 3 4]]\n"
     ]
    }
   ],
   "source": [
    "y = np.arange(5).reshape(1, 5)\n",
    "print('y shape: ', y.shape)\n",
    "print('y:\\n', y)"
   ]
  },
  {
   "cell_type": "code",
   "execution_count": 94,
   "metadata": {
    "ExecuteTime": {
     "end_time": "2022-03-01T17:29:54.982244Z",
     "start_time": "2022-03-01T17:29:54.968203Z"
    },
    "execution": {
     "iopub.execute_input": "2024-02-22T11:45:00.210460Z",
     "iopub.status.busy": "2024-02-22T11:45:00.210460Z",
     "iopub.status.idle": "2024-02-22T11:45:00.215974Z",
     "shell.execute_reply": "2024-02-22T11:45:00.214962Z",
     "shell.execute_reply.started": "2024-02-22T11:45:00.210460Z"
    }
   },
   "outputs": [
    {
     "name": "stdout",
     "output_type": "stream",
     "text": [
      "z shape: (4, 5)\n",
      "z\n",
      " [[0 1 2 3 4]\n",
      " [1 2 3 4 5]\n",
      " [2 3 4 5 6]\n",
      " [3 4 5 6 7]]\n"
     ]
    }
   ],
   "source": [
    "z = x + y\n",
    "print('z shape:', z.shape)\n",
    "print('z\\n', z)"
   ]
  },
  {
   "cell_type": "code",
   "execution_count": 95,
   "metadata": {
    "ExecuteTime": {
     "end_time": "2022-03-01T17:29:54.998246Z",
     "start_time": "2022-03-01T17:29:54.985203Z"
    },
    "execution": {
     "iopub.execute_input": "2024-02-22T11:45:03.519331Z",
     "iopub.status.busy": "2024-02-22T11:45:03.519331Z",
     "iopub.status.idle": "2024-02-22T11:45:03.527386Z",
     "shell.execute_reply": "2024-02-22T11:45:03.527386Z",
     "shell.execute_reply.started": "2024-02-22T11:45:03.519331Z"
    }
   },
   "outputs": [
    {
     "data": {
      "text/plain": [
       "array([[0, 0, 0, 0, 0],\n",
       "       [1, 1, 1, 1, 1],\n",
       "       [2, 2, 2, 2, 2],\n",
       "       [3, 3, 3, 3, 3]])"
      ]
     },
     "execution_count": 95,
     "metadata": {},
     "output_type": "execute_result"
    }
   ],
   "source": [
    "# clonam x si cream coloane identice\n",
    "x_broadcast = np.tile(x, (1, 5))\n",
    "x_broadcast"
   ]
  },
  {
   "cell_type": "code",
   "execution_count": 96,
   "metadata": {
    "ExecuteTime": {
     "end_time": "2022-03-01T17:29:55.013199Z",
     "start_time": "2022-03-01T17:29:55.001238Z"
    },
    "execution": {
     "iopub.execute_input": "2024-02-22T11:45:11.078414Z",
     "iopub.status.busy": "2024-02-22T11:45:11.077412Z",
     "iopub.status.idle": "2024-02-22T11:45:11.083606Z",
     "shell.execute_reply": "2024-02-22T11:45:11.083606Z",
     "shell.execute_reply.started": "2024-02-22T11:45:11.078414Z"
    }
   },
   "outputs": [
    {
     "data": {
      "text/plain": [
       "array([[0, 1, 2, 3, 4],\n",
       "       [0, 1, 2, 3, 4],\n",
       "       [0, 1, 2, 3, 4],\n",
       "       [0, 1, 2, 3, 4]])"
      ]
     },
     "execution_count": 96,
     "metadata": {},
     "output_type": "execute_result"
    }
   ],
   "source": [
    "# clonam y si cream linii identice:\n",
    "y_broadcast = np.tile(y, (4, 1))\n",
    "y_broadcast"
   ]
  },
  {
   "cell_type": "code",
   "execution_count": 97,
   "metadata": {
    "ExecuteTime": {
     "end_time": "2022-03-01T17:29:55.028204Z",
     "start_time": "2022-03-01T17:29:55.016201Z"
    },
    "execution": {
     "iopub.execute_input": "2024-02-22T11:45:21.675161Z",
     "iopub.status.busy": "2024-02-22T11:45:21.674179Z",
     "iopub.status.idle": "2024-02-22T11:45:21.679745Z",
     "shell.execute_reply": "2024-02-22T11:45:21.678732Z",
     "shell.execute_reply.started": "2024-02-22T11:45:21.675161Z"
    }
   },
   "outputs": [],
   "source": [
    "z_broadcast = x_broadcast + y_broadcast\n",
    "assert np.alltrue(z_broadcast == z)"
   ]
  },
  {
   "cell_type": "markdown",
   "metadata": {},
   "source": [
    "### Bibliografie\n",
    "\n",
    "[Basic broadcasting: https://docs.scipy.org/doc/numpy/user/basics.broadcasting.html](https://docs.scipy.org/doc/numpy/user/basics.broadcasting.html)\n",
    "\n",
    "http://scipy.github.io/old-wiki/pages/EricsBroadcastingDoc\n",
    "\n",
    "http://cs231n.github.io/python-numpy-tutorial/#numpy-broadcasting"
   ]
  },
  {
   "cell_type": "markdown",
   "metadata": {},
   "source": [
    "## Vectorizare\n",
    "\n",
    "Exemple: https://www.kdnuggets.com/2017/11/forget-for-loop-data-science-code-vectorization.html "
   ]
  },
  {
   "cell_type": "markdown",
   "metadata": {},
   "source": [
    "### Exemplu\n",
    "\n",
    "Se dau doua colectii de numere: prima contine distante parcurse, a doua timpul necesar pentru parcurgere. Se cere determinarea vitezelor corespunzatoare. Se va face implementare folosind ciclare (clasic) si vectorizare."
   ]
  },
  {
   "cell_type": "code",
   "execution_count": 98,
   "metadata": {
    "ExecuteTime": {
     "end_time": "2022-03-01T17:29:55.044204Z",
     "start_time": "2022-03-01T17:29:55.031203Z"
    },
    "execution": {
     "iopub.execute_input": "2024-02-22T11:46:36.621995Z",
     "iopub.status.busy": "2024-02-22T11:46:36.620996Z",
     "iopub.status.idle": "2024-02-22T11:46:36.626050Z",
     "shell.execute_reply": "2024-02-22T11:46:36.626050Z",
     "shell.execute_reply.started": "2024-02-22T11:46:36.621995Z"
    }
   },
   "outputs": [],
   "source": [
    "distante = [10, 20, 23, 14, 33, 45]\n",
    "timpi = [0.3, 0.44, 0.9, 1.2, 0.7, 1.1]"
   ]
  },
  {
   "cell_type": "code",
   "execution_count": 99,
   "metadata": {
    "ExecuteTime": {
     "end_time": "2022-03-01T17:29:55.059239Z",
     "start_time": "2022-03-01T17:29:55.047203Z"
    },
    "execution": {
     "iopub.execute_input": "2024-02-22T11:46:56.726166Z",
     "iopub.status.busy": "2024-02-22T11:46:56.726166Z",
     "iopub.status.idle": "2024-02-22T11:46:56.730922Z",
     "shell.execute_reply": "2024-02-22T11:46:56.730922Z",
     "shell.execute_reply.started": "2024-02-22T11:46:56.726166Z"
    }
   },
   "outputs": [
    {
     "name": "stdout",
     "output_type": "stream",
     "text": [
      "Viteze:  [33.333333333333336, 45.45454545454545, 25.555555555555554, 11.666666666666668, 47.142857142857146, 40.90909090909091]\n"
     ]
    }
   ],
   "source": [
    "# var 1: folosind ciclare\n",
    "viteze = []\n",
    "for i in range(len(distante)):\n",
    "    viteze.append(distante[i] / timpi[i])\n",
    "    \n",
    "print('Viteze: ', viteze)"
   ]
  },
  {
   "cell_type": "code",
   "execution_count": null,
   "metadata": {
    "ExecuteTime": {
     "end_time": "2022-03-01T17:29:55.075239Z",
     "start_time": "2022-03-01T17:29:55.062205Z"
    }
   },
   "outputs": [],
   "source": [
    "# var 2: vectorizare\n",
    "# vectorizarea numpy lucreaza peste tablouri, primul pas este obtinerea de tablouri din cele doua liste\n",
    "\n",
    "distante_array = np.array(distante)\n",
    "timpi_array = np.array(timpi)\n",
    "\n",
    "# se folosec operatii NumPy care trateaza tablourile in intregime. Codul C folosit pentru implementarea operatiilor NumPy \n",
    "# foloseste facilitatile de executie Single Instruction Multiple Data (SIMD) din microprocesor. \n",
    "# intregul array contine doar elemente de acelasi tip (floating point value, in acest caz), deci se evita verificarile tipurilor de date\n",
    "\n",
    "viteze_array = ...\n",
    "\n",
    "print(viteze_array)\n",
    "\n",
    "# Pe langa asta, se stie deja ca intregul array contine doar elemente de acelasi tip (floating point value, in acest caz), \n",
    "# deci se evita verificarile tipurilor de date\n"
   ]
  },
  {
   "cell_type": "markdown",
   "metadata": {},
   "source": [
    "### Beneficii"
   ]
  },
  {
   "cell_type": "markdown",
   "metadata": {},
   "source": [
    "1. Executie rapida\n",
    "1. Cod mai scurt si deseori mai clar"
   ]
  },
  {
   "cell_type": "markdown",
   "metadata": {},
   "source": [
    "Exemplu: sa se calculeze:\n",
    "$$\n",
    "\\sum\\limits_{i=0}^{N-1} (i\\%3-1) \\cdot i\n",
    "$$"
   ]
  },
  {
   "cell_type": "code",
   "execution_count": null,
   "metadata": {
    "ExecuteTime": {
     "end_time": "2022-03-01T17:29:55.107246Z",
     "start_time": "2022-03-01T17:29:55.077206Z"
    }
   },
   "outputs": [],
   "source": [
    "# functie Python implementata naiv\n",
    "\n",
    "N = 100000\n",
    "\n",
    "def func_python(N):\n",
    "    d = 0.0\n",
    "    for i in range(N):\n",
    "        d += (i%3-1) * i\n",
    "    return d\n",
    "\n",
    "print(func_python(N))"
   ]
  },
  {
   "cell_type": "code",
   "execution_count": null,
   "metadata": {
    "ExecuteTime": {
     "end_time": "2022-03-01T17:30:07.755321Z",
     "start_time": "2022-03-01T17:29:55.110243Z"
    }
   },
   "outputs": [],
   "source": [
    "%timeit func_python(N)"
   ]
  },
  {
   "cell_type": "code",
   "execution_count": null,
   "metadata": {
    "ExecuteTime": {
     "end_time": "2022-03-01T17:30:07.771293Z",
     "start_time": "2022-03-01T17:30:07.758291Z"
    }
   },
   "outputs": [],
   "source": [
    "# functie rescrisa folosind facilitatile NumPy si vectorizare\n",
    "\n",
    "def func_numpy(N):\n",
    "    i_array = ...\n",
    "\n",
    "print(func_numpy(N))"
   ]
  },
  {
   "cell_type": "code",
   "execution_count": null,
   "metadata": {
    "ExecuteTime": {
     "end_time": "2022-03-01T17:30:15.095576Z",
     "start_time": "2022-03-01T17:30:07.773294Z"
    }
   },
   "outputs": [],
   "source": [
    "%timeit func_numpy(N)"
   ]
  },
  {
   "cell_type": "markdown",
   "metadata": {},
   "source": [
    "Majoritatea operatorilor si a functiilor NumPy lucreaza element cu element (sunt numite si universal functions, sau ufuncs) si intr-un mod optimizat (SIMD). Urmatoarele sunt ufuncs:\n",
    "- operatori aritmetici: + - * / // % **\n",
    "- operatii pe biti: & | ~ ^ >> <<\n",
    "- comparatii: < <= > >= == !=\n",
    "- functii matematice: np.sin, np.log, np.exp, ...\n",
    "- functii speciale: `scipy.special.*`\n",
    "\n",
    "Desi unele functii din NumPy se regasesc si in Python (ex: `sum`, `min`, `mean`), folosirea de ufunc duce la executie mai rapida:"
   ]
  },
  {
   "cell_type": "code",
   "execution_count": null,
   "metadata": {
    "ExecuteTime": {
     "end_time": "2022-03-01T17:30:15.126384Z",
     "start_time": "2022-03-01T17:30:15.098577Z"
    }
   },
   "outputs": [],
   "source": [
    "from random import random\n",
    "c = [random() for i in range(N)]"
   ]
  },
  {
   "cell_type": "code",
   "execution_count": null,
   "metadata": {
    "ExecuteTime": {
     "end_time": "2022-03-01T17:30:19.987903Z",
     "start_time": "2022-03-01T17:30:15.129383Z"
    }
   },
   "outputs": [],
   "source": [
    "%timeit sum(c)"
   ]
  },
  {
   "cell_type": "code",
   "execution_count": null,
   "metadata": {
    "ExecuteTime": {
     "end_time": "2022-03-01T17:30:20.018932Z",
     "start_time": "2022-03-01T17:30:19.991943Z"
    }
   },
   "outputs": [],
   "source": [
    "# vectorizare\n",
    "c_array = np.array(c)"
   ]
  },
  {
   "cell_type": "code",
   "execution_count": null,
   "metadata": {
    "ExecuteTime": {
     "end_time": "2022-03-01T17:30:24.938209Z",
     "start_time": "2022-03-01T17:30:20.021935Z"
    }
   },
   "outputs": [],
   "source": [
    "%timeit c_array.sum()"
   ]
  },
  {
   "cell_type": "markdown",
   "metadata": {},
   "source": [
    "### Exercitiu\n",
    "Se dau $n$ puncte in spatiul bidimensional, prin coordonatele lor memorate in 2 vectori **x** si **y**. Sa se determine care este cea mai apropiata pereche de puncte, considerand distanta Euclidiana:\n",
    "$$\n",
    "d^2((x_i, y_i), (x_j, y_j)) = (x_i-x_j)^2 + (y_i-y_j)^2\n",
    "$$"
   ]
  },
  {
   "cell_type": "code",
   "execution_count": null,
   "metadata": {
    "ExecuteTime": {
     "end_time": "2022-03-01T17:30:24.954196Z",
     "start_time": "2022-03-01T17:30:24.943215Z"
    }
   },
   "outputs": [],
   "source": [
    "n = 1000\n",
    "x = np.random.random(size = n)\n",
    "y = np.random.random(size = n)"
   ]
  },
  {
   "cell_type": "code",
   "execution_count": null,
   "metadata": {
    "ExecuteTime": {
     "end_time": "2022-03-01T17:30:24.969200Z",
     "start_time": "2022-03-01T17:30:24.957197Z"
    }
   },
   "outputs": [],
   "source": [
    "# Varianta 1: se calculeaza matricea patratelor distantelor de dimensiune n*n. d[i, j] va reprezenta patratul distantei intre \n",
    "# punctul de coordonate(xi, yi) si cel de coordonate (xj, yj)."
   ]
  },
  {
   "cell_type": "code",
   "execution_count": null,
   "metadata": {
    "ExecuteTime": {
     "end_time": "2022-03-01T17:30:39.020195Z",
     "start_time": "2022-03-01T17:30:24.974198Z"
    }
   },
   "outputs": [],
   "source": [
    "%%timeit\n",
    "\n",
    "d = np.empty((n, n))\n",
    "for i in range(n):\n",
    "    for j in range(n):\n",
    "        d[i, j] = (x[i] - x[j])**2 + (y[i]-y[j])**2"
   ]
  },
  {
   "cell_type": "code",
   "execution_count": null,
   "metadata": {
    "ExecuteTime": {
     "end_time": "2022-03-01T17:30:39.035198Z",
     "start_time": "2022-03-01T17:30:39.023203Z"
    }
   },
   "outputs": [],
   "source": [
    "# calculul perechii de puncte i, j cu i!= j pentru care distanta e minima\n",
    "def pereche_apropiata(mat):\n",
    "    n = mat.shape[0]\n",
    "    #distanta dintre un punctsiel insusi este intotedauna 0; se vor exclude aceste cazuri, setand infinit pentru diagonala principala\n",
    "    i = np.arange(n)\n",
    "    mat[i, i] = np.inf\n",
    "    pos_flatten = np.argmin(mat)\n",
    "    return pos_flatten // n, pos_flatten % n\n",
    "    \n",
    "# print(pereche_apropiata(d))\n",
    "    "
   ]
  },
  {
   "cell_type": "code",
   "execution_count": null,
   "metadata": {
    "ExecuteTime": {
     "end_time": "2022-03-01T17:30:39.051200Z",
     "start_time": "2022-03-01T17:30:39.039202Z"
    }
   },
   "outputs": [],
   "source": [
    "# Varianta 2: broadcasting, vectorizare"
   ]
  },
  {
   "cell_type": "code",
   "execution_count": null,
   "metadata": {
    "ExecuteTime": {
     "end_time": "2022-03-01T17:30:54.961681Z",
     "start_time": "2022-03-01T17:30:39.054196Z"
    }
   },
   "outputs": [],
   "source": [
    "%%timeit\n",
    "\n",
    "dx = (x[:, np.newaxis] - x[np.newaxis, :]) ** 2\n",
    "dy = (y[:, np.newaxis] - y[np.newaxis, :]) ** 2\n",
    "\n",
    "d = dx + dy"
   ]
  },
  {
   "cell_type": "code",
   "execution_count": null,
   "metadata": {
    "ExecuteTime": {
     "end_time": "2022-03-01T17:30:54.977680Z",
     "start_time": "2022-03-01T17:30:54.964679Z"
    }
   },
   "outputs": [],
   "source": [
    "# decomentati %%timeit din celula anterioada daca vreti afisare\n",
    "# print(pereche_apropiata(d))"
   ]
  },
  {
   "cell_type": "markdown",
   "metadata": {},
   "source": [
    "### Bibliografie\n",
    "[https://speakerdeck.com/jakevdp/losing-your-loops-fast-numerical-computing-with-numpy-pycon-2015](https://speakerdeck.com/jakevdp/losing-your-loops-fast-numerical-computing-with-numpy-pycon-2015)\n",
    "\n",
    "[Losing your Loops Fast Numerical Computing with NumPy](https://www.youtube.com/watch?v=EEUXKG97YRw)"
   ]
  }
 ],
 "metadata": {
  "kernelspec": {
   "display_name": "Python 3 (ipykernel)",
   "language": "python",
   "name": "python3"
  },
  "language_info": {
   "codemirror_mode": {
    "name": "ipython",
    "version": 3
   },
   "file_extension": ".py",
   "mimetype": "text/x-python",
   "name": "python",
   "nbconvert_exporter": "python",
   "pygments_lexer": "ipython3",
   "version": "3.11.7"
  },
  "toc": {
   "base_numbering": 1,
   "nav_menu": {},
   "number_sections": true,
   "sideBar": true,
   "skip_h1_title": false,
   "title_cell": "Table of Contents",
   "title_sidebar": "Contents",
   "toc_cell": false,
   "toc_position": {},
   "toc_section_display": true,
   "toc_window_display": false
  },
  "varInspector": {
   "cols": {
    "lenName": 16,
    "lenType": 16,
    "lenVar": 40
   },
   "kernels_config": {
    "python": {
     "delete_cmd_postfix": "",
     "delete_cmd_prefix": "del ",
     "library": "var_list.py",
     "varRefreshCmd": "print(var_dic_list())"
    },
    "r": {
     "delete_cmd_postfix": ") ",
     "delete_cmd_prefix": "rm(",
     "library": "var_list.r",
     "varRefreshCmd": "cat(var_dic_list()) "
    }
   },
   "types_to_exclude": [
    "module",
    "function",
    "builtin_function_or_method",
    "instance",
    "_Feature"
   ],
   "window_display": false
  },
  "widgets": {
   "application/vnd.jupyter.widget-state+json": {
    "state": {},
    "version_major": 2,
    "version_minor": 0
   }
  }
 },
 "nbformat": 4,
 "nbformat_minor": 4
}
