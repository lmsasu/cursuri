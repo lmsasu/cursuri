








lista_numere = [1, 3, 6,  21, 22, 32, 33]
lista_patrate = [i*i for i in lista_numere]
print(lista_patrate)





lista_patrate_doar_numere_pare = [i*i for i in lista_numere if i % 2 == 0]
print(lista_patrate_doar_numere_pare)





lista_patrate_sau_cuburi = [i**2 if i % 2 == 0 else i ** 3 for i in lista_numere]
print(lista_patrate_sau_cuburi)





a1 = [[1, 2], [3, 4, 5], [10]]
a2 = [item for sublist in a1 for item in sublist]
print(a2)





lista_numere = [1, 3, 6,  21, 22, 32, 33]
dictionar_numere_si_patrate = {i:i**2 for i in lista_numere}
print(dictionar_numere_si_patrate)





# produs cartezian
colours = [ "red", "green", "yellow", "blue" ]
things = [ "house", "car", "tree" ]
produs_cartezian = [(colour, thing) for colour in colours for thing in things]
print(produs_cartezian)
assert len(produs_cartezian) == len(colours) * len(things)





# Conversie de temperaturi din Celsius in Fahrenheit: valoarea in Fahrenheit se obtine cu formula: 1.8 * gradeCelsius + 32
grade_celsius = [-20, -10, 0, 5, 23, 35]
grade_fahrenheit = [1.8*gc + 32 for gc in grade_celsius]
print(grade_fahrenheit)


# Suma patratelor numerelor de la 1 la 20
print(sum([x**2 for x in range(1, 21)]))


# Dintr-o lista de cuvinte se mentin doar cele care nu fac parte dintr-o alta lista specificata (stop words)
stop_words = ["a", "about", "above", "above", "across", "after", "afterwards", "again", "against", "all", "almost", "alone", "along", "already", "also","although","always","am","among", "amongst", "amoungst", "amount",  "an", "and", "another", "any","anyhow","anyone","anything","anyway", "anywhere", "are", "around", "as",  "at", "back","be","became", "because","become","becomes", "becoming", "been", "before", "beforehand", "behind", "being", "below", "beside", "besides", "between", "beyond", "bill", "both", "bottom","but", "by", "call", "can", "cannot", "cant", "co", "con", "could", "couldnt", "cry", "de", "describe", "detail", "do", "done", "down", "due", "during", "each", "eg", "eight", "either", "eleven","else", "elsewhere", "empty", "enough", "etc", "even", "ever", "every", "everyone", "everything", "everywhere", "except", "few", "fifteen", "fify", "fill", "find", "fire", "first", "five", "for", "former", "formerly", "forty", "found", "four", "from", "front", "full", "further", "get", "give", "go", "had", "has", "hasnt", "have", "he", "hence", "her", "here", "hereafter", "hereby", "herein", "hereupon", "hers", "herself", "him", "himself", "his", "how", "however", "hundred", "ie", "if", "in", "inc", "indeed", "interest", "into", "is", "it", "its", "itself", "keep", "last", "latter", "latterly", "least", "less", "ltd", "made", "many", "may", "me", "meanwhile", "might", "mill", "mine", "more", "moreover", "most", "mostly", "move", "much", "must", "my", "myself", "name", "namely", "neither", "never", "nevertheless", "next", "nine", "no", "nobody", "none", "noone", "nor", "not", "nothing", "now", "nowhere", "of", "off", "often", "on", "once", "one", "only", "onto", "or", "other", "others", "otherwise", "our", "ours", "ourselves", "out", "over", "own","part", "per", "perhaps", "please", "put", "rather", "re", "same", "see", "seem", "seemed", "seeming", "seems", "serious", "several", "she", "should", "show", "side", "since", "sincere", "six", "sixty", "so", "some", "somehow", "someone", "something", "sometime", "sometimes", "somewhere", "still", "such", "system", "take", "ten", "than", "that", "the", "their", "them", "themselves", "then", "thence", "there", "thereafter", "thereby", "therefore", "therein", "thereupon", "these", "they", "thickv", "thin", "third", "this", "those", "though", "three", "through", "throughout", "thru", "thus", "to", "together", "too", "top", "toward", "towards", "twelve", "twenty", "two", "un", "under", "until", "up", "upon", "us", "very", "via", "was", "we", "well", "were", "what", "whatever", "when", "whence", "whenever", "where", "whereafter", "whereas", "whereby", "wherein", "whereupon", "wherever", "whether", "which", "while", "whither", "who", "whoever", "whole", "whom", "whose", "why", "will", "with", "within", "without", "would", "yet", "you", "your", "yours", "yourself", "yourselves", "the"]
paragraph_list = ['Stopword','filtering','is','a','common','step','in','preprocessing','text','for','various','purposes','This','is','a','list','of','several','different','stopword','lists','extracted','from','various','search','engines','libraries','and','articles','There', 'is','a','surprising','number','of','different','lists']
print('Initial:',paragraph_list)
filtered = [cuvant for cuvant in paragraph_list if cuvant not in stop_words]
print('\nDupa filtrare:', filtered)        














def hello():
    print('Salutare')
    
hello()


def hello_with_name(nume):
    """
    Functia preia un argument si afiseaza mesajul: Salutare urmat de valoarea argumentului.
    Functia returneaza argumentul cu litere mari.
    :param nume: numele care se cere afisat
    :return: sirul din :param nume: cu litere mari
    """
    print('Salutare ' + nume)
    return nume.upper()

nume = 'Natalia'
nume_litere_mari = hello_with_name(nume)
print(nume_litere_mari)
help(hello_with_name)
print(hello_with_name.__doc__)


# exemplu de functie care returneaza mai multe valori simultan
# rezultatul este un tuplu cu doua valori
def min_max(a, b):
    if a<b:
        return a, b
    else:
        return b, a
    
x, y = 20, 10
min_2, max_2 = min_max(x, y)
print('Minimul este:', min_2, '; maximul este:', max_2)


# parametrii se pot da prin numele lor urmat de egal si valoarea efectiva
min_max(a=5, b=14)


min_max(b=3, a=20)





def greet(name, msg = "good morning!"):
   """
   This function greets to the person with the provided message.

   If message is not provided, it defaults to "good morning!"
   :param name: Name of the guy to be greeted
   :param msg: a message shown as greeting. It defaults to "good morning"
   """

   print("Hello",name + ', ' + msg)

greet("Kate")
greet("Bruce","how do you do?")
# echivalent: greet(name="Bruce",msg="how do you do?")





# Functie cu numar arbitrar de argumente
def greet(*names, msg = "good morning!"):
    for name in names:
        print('Hello', name + ', ' + msg)
greet('Dan', 'John', 'Mary')      
greet('Dan', 'John', 'Mary', msg='how do you do?')





def demo_kwargs(**kwargs):
    print(kwargs)
    
demo_kwargs(fruits='apples', quantity='3', measurement_unit='kg')





def demo_kwargs_iter(**kwargs):
    for key, value in kwargs.items():
        print(key, value)
        
demo_kwargs_iter(fruits='apples', quantity='3', measurement_unit='kg')





dictionar_argumente = {'fruits':'apples', 'quantity':'3', 'measurement_unit':'kg'}
demo_kwargs(**dictionar_argumente)











suma = lambda x, y: x+y
print(suma(3, 4))


# lambda functie pentru filtrare via functia filter
lista_30 = list(range(30))
lista_filtrata = list(filter(lambda x: x%3==0, lista_30))
print(lista_filtrata)


# lambda functie pentru sortare:
sorted([-1, -2, -3, 2, 3, 4, -5, 6, 7, 8, 9], key=lambda x: x**2)








def sum_2(x, y):
    return x+y

def dif_2(x, y):
    return x - y

print(sum_2)
print(dif_2)





def complex_operation(x, y, to_be_called):
    return to_be_called(x, y)

print(complex_operation(2, 3, sum_2))
print(complex_operation(2, 3, dif_2))








age:int = 21
name:str = "Guido van Rossum"





age = 21.5





def f(name:str, age:int) -> str:
    return 'Salut ' + name + ', ai ' + str(age) + ' de ani'

f('Rafael',23)





from typing import List

def salut_multi(nume: List[str], varste: List[int]) -> None:
    for n, v in zip(nume, varste):
        print(f'Salut {n}, ai {v} de ani')
        
salut_multi(['Ana', 'Dan', 'Maria'], [20, 21, 22])





from typing import Tuple

# Definesc tipul meu, Point2D
Point2D = Tuple[int, int]

def plot_point(point: Point2D) -> bool:
    ## operatii
    return True

def rotate_point(p:Point2D, angle:float) -> Point2D:
    ## operatii
    ## newPoint = ....
    return newPoint





from typing import Union

def print_value(value: Union[str, int, float]) -> None:
    print(value)





def print_value(value: str|int|float) -> None:
    print(value)





from typing import Optional

def f(param: Optional[str]) -> str:
    if param is not None:
        return param.upper()
    else:
        return ""


























import sys
print(sys.path)





sys.path.append('./my_modules/')
from mySmartModule import my_sum
print(my_sum([1, 2, 3]))














from myUtils.mySmartModule import my_sum
print(my_sum([1, 2, 10, 300]))


from myUtils import my_sum
print(my_sum([1, 2, 10, 300]))











import re # pachet pentru expresii regulate
my_string = 'Am cumparat: mere, pere, prune... si caise'
tokens = re.split(r'\W+', my_string)
print(tokens)


# Serializare cu pickle
import pickle

favourite_colour = { "lion": "yellow", "kitty": "red" }

pickle.dump( favourite_colour, open( "save.pkl", "wb" ) )
del favourite_colour # nu mai e necesara variabila

# restaurare
favorite_color_restored = pickle.load( open( "save.pkl", "rb" ) )
print('dupa deserializare:', favorite_color_restored)

!del save.pkl # sterge fisierul pickle de pe disk








# import de pachet; traditional se foloseste abrevierea np pentru numpy
import numpy as np

# crearea unui vector pornind de la o lista Python
x = np.array([1, 4, 2, 5, 3])

# tipul variabilei x; se observa ca e tip numpy
print(type(x)) 
# toate elementele din array sunt de acelasi tip
print(x.dtype) 

# specificarea explicita a tipului de reprezentare a datelor in array
y = np.array([1, 2, 3], dtype=np.float16)
print(y.dtype)


# cazuri frecvent folosite
all_zeros = np.zeros(10, dtype=int)
print(all_zeros)
# tiparire nr de elemente pe fiecare dimensiune
print(all_zeros.shape)


# matrice 2d
mat = np.array([[1, 2, 3], [4, 5, 6]])
print(mat)
print(mat.shape)
print(mat[0, 1])


# matrice de valori constante:
mat_7 = np.full(shape=(3, 10), fill_value=7)
print(mat_7)

mat_7_v2 = np.ones((3, 10)) * 7
print(mat_7_v2)





print('Numarul de dimensiuni pentru vectorul all_zero:', all_zeros.ndim)
print('Numarul de dimensiuni pentru matricea mat:', mat.ndim)





print('mat size: {0}\nmat element size: {1} bytes\nmat.dtype:{2}'.format(mat.size, mat.itemsize, mat.dtype))


# cazuri comune
all_ones = np.ones((3, 5))
print(all_ones)
print(np.eye(3))


# valori echidistante intr-un interval; capetele intervalului fac parte din valorile generate
print(np.linspace(0, 10, 5))


# similar cu functia range din Python: se genereaza de la primul parametru, cu pasul dat de al doilea parametru, 
# ultima valoare generata fiind strict mai mica decat al doilea parametru
vector_de_valori = np.arange(0, 10, 3)
print(vector_de_valori)
print(type(vector_de_valori))


# numere aleatoare
x = np.random.random((2, 3))
print(x)








# dintr=un vector intr-o matrice
vec = np.arange(10)
mat = vec.reshape(2, 5)
print(vec)
print(mat)


# ... si invers:
vec2 = mat.flatten()
print(vec2)





a = np.array([[1, 2], [3, 4]], float)
b = np.array([[5, 6], [7,8]], float)


# concatenare pe verticala
stiva_verticala = np.concatenate((a, b), axis=0)
print(stiva_verticala)





# concatenare pe orizontala
stiva_orizontala = np.concatenate((a, b), axis=1)
print(stiva_orizontala)


# echivalent cu:
stiva_verticala = np.vstack((a, b))
stiva_orizontala = np.hstack((a, b))
print(stiva_verticala)
print(stiva_orizontala)


matrice = np.arange(15).reshape(3, 5)
print(matrice)


suma_pe_coloane= np.sum(matrice, axis=0)
print(suma_pe_coloane)


suma_pe_linii= np.sum(matrice, axis=1)
print(suma_pe_linii)





# inmultire de matrice cu scalar
a = np.array([[1, 2, 3], [4, 5, 6]])
print('a=\n', a)
b = a * 10
print('b=\n', b)


# adunare, scadere: +, -
suma = a + b
print(suma)
diferenta = a - b
print(diferenta)





# inmultirea folosind * duce la inmultire element cu element (produs Hadamard): c[i, j] = a[i, j] * b[i, j]
c = a*b
print(c)
for i in range(c.shape[0]):  #c.shape[0] = numarul de linii ale matricei c
    for j in range(c.shape[1]): #c.shape[1] = numarul de coloane ale matricei c
        print(c[i, j] == a[i, j] * b[i, j])





# creare de matrice
matrix_shape = (100, 100)
a_big = np.random.random(matrix_shape)
b_big = np.random.random(matrix_shape)


%%timeit
c_big = np.empty_like(a_big)
for i in range(c_big.shape[0]):
    for j in range(c_big.shape[1]):
        c_big[i, j] = a_big[i, j] * b_big[i, j]


%%timeit
c_big = a_big * b_big


# 'ridicarea la putere' folosind ** : fiecare element al matricei este ridicat la putere
print('matricea initiala:\n', a)
putere = a ** 2
print('dupa ridicarea la puterea 2:\n', putere)
putere_3 = np.power(a, 3)
print('dupa ridicarea la puterea 3:\n', putere_3)





print('a=', a)
print('b=', b)
print('a/b=', a/b)


# ridicarea la putere a unei matrice patratice, asa cum e definita in algebra liniara:
patratica = np.array([[1, 2, 3], [4, 5, 6], [7, 8, 9]])
ridicare_la_putere = np.linalg.matrix_power(patratica, 3)
print(ridicare_la_putere)





x = np.arange(6).reshape(2, 3)
print(x)
y = np.exp(x)
assert x.shape == y.shape
for i in range(0, x.shape[0]):
    for j in range(0, x.shape[1]):
        assert y[i, j] == np.exp(x[i, j])


# produs algebric de matrice:
a = np.random.rand(3, 5)
b = np.random.rand(5, 10)
assert a.shape[1] == b.shape[0]
c = np.dot(a, b)
# se poate scrie echivalent
c = a.dot(b)
assert a.shape[0] == c.shape[0] and b.shape[1] == c.shape[1]
# sau folosind operatorul @
c = a @ b








vector = np.arange(10)
print(vector)
print('vector[4]={0}'.format(vector[4]))


matrice = np.arange(12).reshape(3, 4)
print(matrice)
print(matrice[2, 1])








vector = 10 * np.arange(10)
print(vector)
print(vector[2:6]) # remarcam ca indicele din dreapta este cu rol de "exclusiv", nu contribuie la rezultat


indici = [1, 3, 2, 7]
print(vector)
print(vector[indici])


# sau cu indici dati in progresie aritmetica
vector[2:8:2]





matrice = 10 * np.arange(20).reshape(4, 5)
print(matrice)


print(matrice[1,])
# care e tot una cu forma mai explicita:
print(matrice[1, :])


# putem selecta domenii de indici, pe fiecare axa
matrice[1:3, :]


# indexare pe fiecare dimensiune
matrice[1:3, 2:4]





a = np.array([[1,2], [3, 4], [5, 6]])
print(a)
print(a > 2)





mai_mare_ca_2 = a > 2
print(a[mai_mare_ca_2])
# direct
print(a[a>2])





a[np.logical_and(a > 2, a < 6)]








tab = np.array([[1.0, 2.3, np.nan, 4], [10, np.nan, np.nan, 0]])
print(tab[~np.isnan(tab)])





print('Inainte:\n', tab)
tab[np.isnan(tab)] = 0.0
print('Dupa:\n', tab)





# numerele pare se inmultesc cu 10, celelalte raman cum sunt 
tablou = np.array([[1, 2, 3, 4], [5, 6, 7, 8]])
print('Inainte de modificare:\n', tablou)
tablou[tablou % 2 == 0] *= 10
print('Dupa modificare:\n', tablou)





tablou = np.array([[1, 2, 3, 4], [5, 6, 7, 8]], dtype=float)
print('Inainte de modificare\n', tablou)
# coloanele 0, 2, 3 se modifica
bool_columns = [True, False, True, True]
tablou[:, bool_columns] = (tablou[:, bool_columns] +3 )/10
print('Dupa modificare\n', tablou)











a = np.array([[0.0,0.0,0.0],[10.0,10.0,10.0],[20.0,20.0,20.0],[30.0,30.0,30.0]]) 
b = np.array([0.0,1.0,2.0])  

print('a=\n{0}\n'.format(a))
print('b=\n{0}\n'.format(b))





# broadcasting
result = a + b
print('result=\n{0}\n'.format(result))





x = np.arange(4)
y = np.ones(5)
print(x.shape, y.shape)
# print(x+y) # ValueError: operands could not be broadcast together with shapes (4,) (5,) 








weights = np.array([
  [0.3, 2.5, 3.5],
  [2.9, 27.5, 0],
  [0.4, 1.3, 23.9],
  [14.4, 6, 2.3]])

cal_per_g = np.array([9, 4, 4])

# broadcasting
calories = weights * cal_per_g

print('Calorii:\n', calories)





x = np.arange(4)
y = np.ones(5)
print(x.shape, y.shape)

#print(x+y) # ValueError: operands could not be broadcast together with shapes (4,) (5,) 


x = np.arange(4).reshape(4, 1)
print('x shape: ', x.shape)
print('x:\n', x)


y = np.arange(5).reshape(1, 5)
print('y shape: ', y.shape)
print('y:\n', y)


z = x + y
print('z shape:', z.shape)
print('z\n', z)


# clonam x si cream coloane identice
x_broadcast = np.tile(x, (1, 5))
x_broadcast


# clonam y si cream linii identice:
y_broadcast = np.tile(y, (4, 1))
y_broadcast


z_broadcast = x_broadcast + y_broadcast
assert np.alltrue(z_broadcast == z)























distante = [10, 20, 23, 14, 33, 45]
timpi = [0.3, 0.44, 0.9, 1.2, 0.7, 1.1]


# var 1: folosind ciclare
viteze = []
for i in range(len(distante)):
    viteze.append(distante[i] / timpi[i])
    
print('Viteze: ', viteze)


# var 2: vectorizare
# vectorizarea numpy lucreaza peste tablouri, primul pas este obtinerea de tablouri din cele doua liste

distante_array = np.array(viteze)
timpi_array = np.array(timpi)

# se folosec operatii NumPy care trateaza tablourile in intregime. Codul C folosit pentru implementarea operatiilor NumPy 
# foloseste facilitatile de executie Single Instruction Multiple Data (SIMD) din microprocesor. 
# intregul array contine doar elemente de acelasi tip (floating point value, in acest caz), deci se evita verificarile tipurilor de date

viteze_array = distante/timpi_array

print(viteze_array)

# Pe langa asta, se stie deja ca intregul array contine doar elemente de acelasi tip (floating point value, in acest caz), 
# deci se evita verificarile tipurilor de date












# functie Python implementata naiv

N = 100000

def func_python(N):
    d = 0.0
    for i in range(N):
        d += (i%3-1) * i
    return d

print(func_python(N))


%timeit func_python(N)


# functie rescrisa folosind facilitatile NumPy si vectorizare

def func_numpy(N):
    i_array = np.arange(N)
    return ((i_array % 3 - 1 ) * i_array).sum()

print(func_numpy(N))


%timeit func_numpy(N)





from random import random
c = [random() for i in range(N)]


%timeit sum(c)


# vectorizare
c_array = np.array(c)


%timeit c_array.sum()





n = 1000
x = np.random.random(size = n)
y = np.random.random(size = n)


# Varianta 1: se calculeaza matricea patratelor distantelor de dimensiune n*n. d[i, j] va reprezenta patratul distantei intre 
# punctul de coordonate(xi, yi) si cel de coordonate (xj, yj).


%%timeit

d = np.empty((n, n))
for i in range(n):
    for j in range(n):
        d[i, j] = (x[i] - x[j])**2 + (y[i]-y[j])**2


# calculul perechii de puncte i, j cu i!= j pentru care distanta e minima
def pereche_apropiata(mat):
    n = mat.shape[0]
    #distanta dintre un punctsiel insusi este intotedauna 0; se vor exclude aceste cazuri, setand infinit pentru diagonala principala
    i = np.arange(n)
    mat[i, i] = np.inf
    pos_flatten = np.argmin(mat)
    return pos_flatten // n, pos_flatten % n
    
# print(pereche_apropiata(d))
    


# Varianta 2: broadcasting, vectorizare


%%timeit

dx = (x[:, np.newaxis] - x[np.newaxis, :]) ** 2
dy = (y[:, np.newaxis] - y[np.newaxis, :]) ** 2

d = dx + dy


# decomentati %%timeit din celula anterioada daca vreti afisare
# print(pereche_apropiata(d))






