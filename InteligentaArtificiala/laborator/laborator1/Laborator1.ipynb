{
 "cells": [
  {
   "cell_type": "markdown",
   "id": "killing-belize",
   "metadata": {},
   "source": [
    "# Context"
   ]
  },
  {
   "cell_type": "markdown",
   "id": "spiritual-circumstances",
   "metadata": {},
   "source": [
    "Formati echipe de cate 2 persoane. Fiecare echipa va face un proiect *privat* pe github, in care voi fi invitat (github id: lmsasu). "
   ]
  },
  {
   "cell_type": "markdown",
   "id": "russian-hierarchy",
   "metadata": {},
   "source": [
    "Tema de mai jos este obligatorie si face parte in nota finala. Tema se va incarca pe github, in repo-ul privat si pe elearning in lucrarea deschisa, pana in 1 martie ora 23.00. "
   ]
  },
  {
   "cell_type": "markdown",
   "id": "unusual-stranger",
   "metadata": {},
   "source": [
    "# Tema 1"
   ]
  },
  {
   "cell_type": "markdown",
   "id": "quantitative-individual",
   "metadata": {},
   "source": [
    "1. (1p) Se da o lista de numere. Sa se afiseze diferenta dintre: suma celor mai mari 3 numere si produsul celor mai mici 2 numere.\n",
    "\n",
    "lista = [10, 3, 5, 20, -4, 9, 1] -> 43\n",
    "\n",
    "lista = [0, -1, -2, -3 , -4] -> -15"
   ]
  },
  {
   "cell_type": "markdown",
   "id": "floppy-relation",
   "metadata": {},
   "source": [
    "2. (1p) Se da o lista de cuvinte. Sa se determine cuvintele unice (fara diferenta intre litere mici si mari) si de cate ori apare fiecare.\n",
    "\n",
    "Exemple:\n",
    "\n",
    "['mouse', 'and', 'branza', 'viezure', 'viezure', 'viezure', 'me', 'slow', 'mouse', 'This', 'mouse', 'out', 'in', 'want', 'branza', 'song', 'barza', 'barza', 'barza', 'makes', 'to', 'in', 'branza', 'run', 'motion'] -> \n",
    "{'mouse': 3,\n",
    " 'and': 1,\n",
    " 'branza': 3,\n",
    " 'viezure': 3,\n",
    " 'me': 1,\n",
    " 'slow': 1,\n",
    " 'This': 1,\n",
    " 'out': 1,\n",
    " 'in': 2,\n",
    " 'want': 1,\n",
    " 'song': 1,\n",
    " 'barza': 3,\n",
    " 'makes': 1,\n",
    " 'to': 1,\n",
    " 'run': 1,\n",
    " 'motion': 1}\n",
    " \n",
    "['doi', 'doi', 'trei', 'Trei', 'un'] ->\n",
    "{'doi': 2, 'trei': 2, 'un': 1}"
   ]
  },
  {
   "cell_type": "markdown",
   "id": "given-nicholas",
   "metadata": {},
   "source": [
    "3. (1p) Se da o lista de cel putin 10 numere. Care 3 numere din lista, inmultite, dau produsul maxim?\n",
    "\n",
    "Exemple:\n",
    "\n",
    "[10, 1, 2, 9, 7, 8, 3, 6, 4, 5] -> p_max=720, solutie=(10, 9, 8)\n",
    "\n",
    "[1, -2, -3, -4, -5, 0] -> p_max=20, solutie=(1, -4, -5)"
   ]
  },
  {
   "cell_type": "markdown",
   "id": "wanted-disclosure",
   "metadata": {},
   "source": [
    "4. (1p) Dandu-se o lista de numere si un numar n natural,  $n \\ge 1$, sa se determine toate tripletele a, b, c  cu a < b din lista, pentru care $a^n + b^n = c^n$.\n",
    "\n",
    "Exemple:\n",
    "\n",
    "lista = [12, 11, 10, 9, 8, 7, 6, 5, 4, 3, 2], n=2 -> 3 4 5; 6 8 10\n",
    "\n",
    "lista = [90, 10, 20, 30, 40, 50], n=3 -> se afiseaza 'Nu exista solutie'"
   ]
  },
  {
   "cell_type": "markdown",
   "id": "centered-drunk",
   "metadata": {},
   "source": [
    "5. (1p) Dandu-se o propozitie, sa se detemine transcrierea ei in \"pasareasca\" (o vocala se transforma in vocala + 'P' + vocala\n",
    "\n",
    "Sa se scrie un program care face traducerea inversa (daca stringul dat provine din pasareasca; daca nu, semnaleaza acest lucru).\n",
    "\n",
    "Exemplu de traducere in pasareasca: acasa-apacapasapa, prietena-pripitepenapa.\n",
    "\n"
   ]
  },
  {
   "cell_type": "markdown",
   "id": "automotive-cartridge",
   "metadata": {},
   "source": [
    "6. (2p) Se da un dictionar in care cheile sunt nume de studenti, iar valorile sunt liste de carti preferate. Sa se determine:\n",
    "    1. Care sunt studentii care au in lista de preferinte o carte specificata?\n",
    "    2. Care sunt perechile de studenti care au aceleasi preferinte de carti (ordinea in lista de preferinte nu e relevanta)\n",
    "    3. Pentru un student dat, care sunt studentii cu care are cele mai multe carti comune in liste de preferinte; daca sunt mai multi astfel de studenti cei mai apropiati, se vor enumera toti.\n",
    "    4. Pentru doi studenti, A si B, care e lista de stergeri si adaugari prin care lista lui A devine identica cu lista lui B (ordinea in lista nefiind importanta)\n",
    "    5. Toate perechile de studenti A, B pentru care lista de preferinte a lui A este inclusa in (dar nu coincide cu) lista de preferinte a lui B. \n",
    "    \n",
    "Indicatie: considerati tipul de date set.\n",
    "\n",
    "Exemplu:\n",
    "```python\n",
    "preferinte = {\n",
    "    'Popescu': ['carte2', 'carte1', 'carte3', 'carte4'],\n",
    "    'Ionescu': ['carte1', 'carte2', 'carte3', 'carte7', 'alta carte'],\n",
    "    'Georgescu': ['carte1', 'alta carte'],\n",
    "    'Xulescu': ['carte2', 'carte5', 'carte6', 'carte7'],\n",
    "    'Dragomir': ['carte4', 'carte1', 'carte2', 'carte3']\n",
    "}\n",
    "```\n",
    "    1. carte = 'alta carte' -> ['Ionescu', 'Georgescu']\n",
    "    2. Popescu si Dragomir au aceleasi preferinte: ['carte2', 'carte1', 'carte3', 'carte4']. Se remarca faptul ca nu se afiseaza si perechea echivalenta: Dragomir si Popescu.\n",
    "    3. Xulescu -> Suprapunere maxima de preferinte: 2 cu colegii: ['Ionescu']\n",
    "    4. A='Popescu', B='Ionescu' -> Se vor adauga cartile: {'carte7', 'alta carte'}, se vor scoate cartile: {'carte4'}\n",
    "    5. Preferintele lui Georgescu sunt subset propriu al preferintelor lui Ionescu\n",
    "    \n"
   ]
  },
  {
   "cell_type": "markdown",
   "id": "combined-private",
   "metadata": {},
   "source": [
    "7. (1p) Se da un dictionar cu persoane, si pentru fiecare persoana o lista de intervale de timp de disponibilitate. O disponibilitate incepe la o anumita ora fixa (ex: 17) sau ora fixa+30 de minute si dureaza exact 30 de minute. \n",
    "Exemplu:\n",
    "```python\n",
    "doodle = {\n",
    "\"Popescu\": [\"13\", \"13.30\", \"16\", \"17\"],  # Popescu este disponibil intre: 13 si 13.30, 13.30-14, 16-16.30, 17-17.30\n",
    "\"Ionescu\": [\"13\", \"13.30\", \"16\", \"17\", \"17.30\", \"11\", \"15\"],\n",
    "\"Maximilian\": [\"14\", \"14.30\", \"15\", \"15.30\", \"16\", \"16.30\", \"19\", \"19.30\"]\n",
    "}\n",
    "```\n",
    "Sa se determine toate intervalele in care toate persoanele sunt disponibile. Daca nu exista niciun astfel de interval, atunci sa se determine care sunt intervalele de timp in care numarul maxim de persoane poate participa. Daca sunt mai multe intervale pentru acest numar maxim de persoane, se vor da toate solutiile. In fiecare caz se da lista de persoane participante si intervalele orare.\n",
    "\n",
    "Nota: se cauta intervale de timp cu cat mai multi participanti de 30 de minute."
   ]
  },
  {
   "cell_type": "markdown",
   "id": "thrown-hindu",
   "metadata": {},
   "source": [
    "8. (2p) Se da o lista de dictionare de forma:\n",
    "```python\n",
    "[\n",
    " {\"nume\": \"Popescu\",\n",
    "  \"gen\": feminin,\n",
    "  \"varsta\": 30,\n",
    "  \"salariu\": 2000,\n",
    "  \"animal preferat\": \"pisica\",\n",
    " },\n",
    " {\"nume\": \"Irimia\",\n",
    "  \"varsta\": 40,\n",
    "  \"gen\": \"masculin\"\n",
    "  \"salariu\": 3000,\n",
    "  \"animal preferat\": \"caine\"\n",
    " },\n",
    "    # etc\n",
    "]\n",
    "```\n",
    "Sa se determine:\n",
    "    1. salariul mediu, minim si maxim\n",
    "    2. cei care au varsta intr-un anumit interval dat [a, b]\n",
    "    3. care este animalul cu cele mai multe preferinte. Daca sunt mai multe astfel e animale, atunci se vor da toate\n",
    "    4. cate persoane de gen feminin si respectiv masculin sunt in lista\n",
    "    \n",
    "Nota: Toate dictionarele au aceleasi chei: nume etc. "
   ]
  },
  {
   "cell_type": "code",
   "execution_count": null,
   "id": "brief-product",
   "metadata": {},
   "outputs": [],
   "source": []
  }
 ],
 "metadata": {
  "kernelspec": {
   "display_name": "Python 3",
   "language": "python",
   "name": "python3"
  },
  "language_info": {
   "codemirror_mode": {
    "name": "ipython",
    "version": 3
   },
   "file_extension": ".py",
   "mimetype": "text/x-python",
   "name": "python",
   "nbconvert_exporter": "python",
   "pygments_lexer": "ipython3",
   "version": "3.8.8"
  },
  "toc": {
   "base_numbering": 1,
   "nav_menu": {},
   "number_sections": true,
   "sideBar": true,
   "skip_h1_title": false,
   "title_cell": "Table of Contents",
   "title_sidebar": "Contents",
   "toc_cell": false,
   "toc_position": {},
   "toc_section_display": true,
   "toc_window_display": false
  }
 },
 "nbformat": 4,
 "nbformat_minor": 5
}
