{
 "cells": [
  {
   "cell_type": "markdown",
   "metadata": {},
   "source": [
    "# Tema 1\n",
    "Termen de predare: miercuri, 12 octombrie, ora 20\n",
    "\n",
    "Notebook-ul va fi rulat de sus în jos, complet, toate celulele.\n",
    "\n",
    "În caz de eroare, se punctează sarcinile/celulele rezolvate și rulate fără eroare, până în punctul întreruperii execuției."
   ]
  },
  {
   "cell_type": "markdown",
   "metadata": {},
   "source": [
    "1. (1p) Se dă o listă de numere. Să se retrurneze lista numerelor pare, în ordine inversă a aparițiilor.\n",
    "\n",
    "Exemplu: [23, 45, 4, 658, 8, 9, -4] => [-4, 8, 658, 4]"
   ]
  },
  {
   "cell_type": "code",
   "execution_count": null,
   "metadata": {},
   "outputs": [],
   "source": [
    "lista1 = [23, 45, 4, 658, 8, 9, -4]\n",
    "# variabila rezultat va fi  rezultat_lista_pare\n",
    "\n",
    "assert rezultat_lista_pare == [-4, 8, 658, 4], \"Rezultat asteptat: [-4, 8, 658, 4]\""
   ]
  },
  {
   "cell_type": "markdown",
   "metadata": {},
   "source": [
    "2. (1p) Se dă o listă de numere. Să se afișeze: suma dintre maximul numerelor pare și minumul numerelor impare."
   ]
  },
  {
   "cell_type": "code",
   "execution_count": null,
   "metadata": {},
   "outputs": [],
   "source": [
    "lista2 = [4, 5, 6, 78, 43, 57, 68]\n",
    "\n",
    "\n",
    "assert rezultat == 83, \"Rezultat asteptat: 83\""
   ]
  },
  {
   "cell_type": "markdown",
   "metadata": {},
   "source": [
    " 3. (1p) Fiind data o lista de cuvinte, să se returneze lista care contine cvintele care NU incep cu litera L, sortate in ordine alfabetica."
   ]
  },
  {
   "cell_type": "code",
   "execution_count": null,
   "metadata": {},
   "outputs": [],
   "source": [
    "lista_cuvinte=[\"lamaie\", \"maxim\", \"alfabet\",\"carte\", \"inima\", \"barca\", \"lacusta\", \"are\"]\n",
    "\n",
    "assert cuvinte_fara_L_alfabetic == ['are', 'barca', 'carte', 'inima', 'maxim'], \"Rezultat asteptat: ['are', 'barca', 'carte', 'inima', 'maxim']\""
   ]
  },
  {
   "cell_type": "markdown",
   "metadata": {},
   "source": [
    "4. (2p) Se da o listă de dicționare în care cheile sunt mâncăruri iar valorile sunt ingrediente. Să se returneze:\n",
    "\t1. Felurile de mâncare care nu conțin un ingredient dat.\n",
    "\t2. Felurile de mâncare care conțin (dar nu coincid cu) o lista de ingrediente data.\n",
    "\t3. Felul de mâncare cu cele mai multe ingrediente.\n",
    "\t4. Toate perechile de mâncăruri A, B pentru care lista de ingrediente a lui A este inclusă in (dar nu coincide cu) lista de ingrediente a lui B.\n",
    "\n",
    "\tIndicație: folosiți tipul de date *set*."
   ]
  },
  {
   "cell_type": "code",
   "execution_count": null,
   "metadata": {},
   "outputs": [],
   "source": [
    "mancaruri = {\n",
    "    \"tocana\": [\"cartofi\", \"carne\", \"rosii\", \"ceapa\", \"ulei\"],\n",
    "    \"cartofi_prajiti\" : [\"cartofi\", \"ulei\"],\n",
    "    \"ciorba_vacuta\" : [\"ulei\", \"ceapa\", \"ulei\",\"carne\", \"rosii\", \"cartofi\", \"morcovi\", \"telina\"],\n",
    "    \"savarina\":[\"oua\", \"faina\", \"zahar\", \"frisca\"], \n",
    "    \"musaca\": [\"carne\", \"oua\", \"branza\", \"ceapa\", \"smantana\"]\n",
    "}\n",
    "# 1. Felurile de mancare care nu contin un ingredient dat.\n",
    "ingredient = \"carne\"\n",
    "mancare_fara_ingredient = ...\n",
    "\n",
    "assert mancare_fara_ingredient == ['cartofi_prajiti', 'savarina'], \"Rezultat asteptat: ['cartofi_prajiti', 'savarina'] \"\n",
    "\n",
    "# 2. Felurile de mancare care contin (dar nu coincid cu) o lista de ingrediente data.\n",
    "\n",
    "ingrediente_cerute=[\"carne\", \"oua\"]\n",
    "# mancaruri-cu_ingrediente_cerute = ['musaca']\n",
    "\n",
    "# 3. Felul de mâncare cu cele mai multe ingrediente.\n",
    "# mancare_cu_ingrediente_max = ['ciorba_vacuta']\n",
    "\n",
    "\n",
    "# 4. Toate perechile de mâncăruri A, B pentru care lista de ingrediente a lui A este inclusă in (dar nu coincide cu) \n",
    "# lista de ingrediente a lui B. \n",
    "#  raspuns: (tocana, ciorba_vacuta), (cartofi_prajti, tocana), (cartofi-prajiti, ciorba_vacuta)\n"
   ]
  },
  {
   "cell_type": "markdown",
   "metadata": {},
   "source": [
    "5. (2p) Fiind dată o listă de cuvinte:\n",
    "    1. Înlocuiți vocalele cu '*'.\n",
    "    2. Determinați cuvintele cu cele mai multe vocale.\n",
    "    3. Înlocuiți consoanele cu prima literă a cuvântului.\n",
    "    4. Determinați cuvintele ce conțin cel puțin 3 litere comune cu un cuvânt dat."
   ]
  },
  {
   "cell_type": "code",
   "execution_count": null,
   "metadata": {},
   "outputs": [],
   "source": [
    "cuvinte = ['ana', 'mere', 'elena']\n",
    "# 1. Înlocuiți vocalele cu '*'.\n",
    "# răspuns: ['*n*', 'm*r*', '*l*n*']\n",
    "\n",
    "# 2. Determinați cuvintele cu cele mai multe vocale.\n",
    "# răspuns: elena\n",
    "\n",
    "\n",
    "# 3. Înlocuiți consoanele cu prima literă a cuvântului.\n",
    "# răspuns: ['aaa', 'meme', 'eeeea']\n",
    "\n",
    "\n",
    "\n",
    "# 4. Determinați cuvintele ce conțin cel puțin 3 litere comune cu un cuvânt dat.\n",
    "# cuvant_dat = 'lenes' => răspuns: 'elena'\n",
    "# cuvant_dat = 'camere' => răspuns: 'mere'"
   ]
  },
  {
   "cell_type": "markdown",
   "metadata": {},
   "source": [
    "6. (1p) Fiind dat un dicționar în care cheia este un cuvânt, iar valoarea este partea de propoziție (funcții sintactice), returnați toate combinaiile care pot deveni propoziții, de forma :\n",
    "   S+P+C sau S+A+P+C sau S+P sau S+A+P unde \n",
    "    * S -> subiect\n",
    "\t* A -> atribut\n",
    "\t* P -> predicat\n",
    "\t* C -> complement"
   ]
  },
  {
   "cell_type": "code",
   "execution_count": null,
   "metadata": {},
   "outputs": [],
   "source": [
    "propozitii={\n",
    "    'Ana' : 'S',\n",
    "    'are' : 'P',\n",
    "    'mere' : 'C'\n",
    "    'rosii' : 'A',\n",
    "    'sunt' : 'P',\n",
    "    'acolo':'C',\n",
    "    'copiii': 'S'\n",
    "}\n",
    "# răspuns: \n",
    "# 'Ana' + 'are' + 'mere'\n",
    "# 'Ana' + 'are' + ' acolo'\n",
    "# 'copiii' + 'sunt' + 'acolo'\n",
    "# 'copiii' + 'sunt'\n",
    "# 'copiii' + 'rosii' + 'sunt' + 'acolo' \n",
    "# etc."
   ]
  },
  {
   "cell_type": "markdown",
   "metadata": {},
   "source": [
    "7. (1p) Să se verifice dacă o propoziție dată este palindrom sau nu (fără a lua în considerare semnele de punctuație sau diacriticele).\n",
    "\n",
    "Exemple:\n",
    "\n",
    "    1. ELE FAC CAFELE.\n",
    "    2. ALA E SERGIU, NU-I GRESEALA.\n",
    "    3. AI RAMAS ACASA, MARIA?"
   ]
  },
  {
   "cell_type": "code",
   "execution_count": null,
   "metadata": {},
   "outputs": [],
   "source": []
  }
 ],
 "metadata": {
  "kernelspec": {
   "display_name": "Python 3 (ipykernel)",
   "language": "python",
   "name": "python3"
  },
  "language_info": {
   "codemirror_mode": {
    "name": "ipython",
    "version": 3
   },
   "file_extension": ".py",
   "mimetype": "text/x-python",
   "name": "python",
   "nbconvert_exporter": "python",
   "pygments_lexer": "ipython3",
   "version": "3.10.4"
  },
  "vscode": {
   "interpreter": {
    "hash": "4b00067adde98093e01a02d7c7f33efc32d264c2e91ccf9af382c022f4508f51"
   }
  }
 },
 "nbformat": 4,
 "nbformat_minor": 2
}
