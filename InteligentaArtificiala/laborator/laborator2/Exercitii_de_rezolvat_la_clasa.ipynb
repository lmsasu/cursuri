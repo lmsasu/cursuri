{
 "cells": [
  {
   "cell_type": "markdown",
   "metadata": {},
   "source": [
    "# Exercitii de rezolvat la clasa"
   ]
  },
  {
   "cell_type": "code",
   "execution_count": 1,
   "metadata": {
    "ExecuteTime": {
     "end_time": "2023-02-27T07:11:16.304461Z",
     "start_time": "2023-02-27T07:11:16.290460Z"
    }
   },
   "outputs": [
    {
     "name": "stdout",
     "output_type": "stream",
     "text": [
      "The Zen of Python, by Tim Peters\n",
      "\n",
      "Beautiful is better than ugly.\n",
      "Explicit is better than implicit.\n",
      "Simple is better than complex.\n",
      "Complex is better than complicated.\n",
      "Flat is better than nested.\n",
      "Sparse is better than dense.\n",
      "Readability counts.\n",
      "Special cases aren't special enough to break the rules.\n",
      "Although practicality beats purity.\n",
      "Errors should never pass silently.\n",
      "Unless explicitly silenced.\n",
      "In the face of ambiguity, refuse the temptation to guess.\n",
      "There should be one-- and preferably only one --obvious way to do it.\n",
      "Although that way may not be obvious at first unless you're Dutch.\n",
      "Now is better than never.\n",
      "Although never is often better than *right* now.\n",
      "If the implementation is hard to explain, it's a bad idea.\n",
      "If the implementation is easy to explain, it may be a good idea.\n",
      "Namespaces are one honking great idea -- let's do more of those!\n"
     ]
    }
   ],
   "source": [
    "import this"
   ]
  },
  {
   "cell_type": "markdown",
   "metadata": {},
   "source": [
    "1. Se dă o listă de numere. Să se returneze lista numerelor pare, în ordine inversă a aparițiilor.\n",
    "\n",
    "Exemplu: [23, 45, 4, 658, 8, 9, -4] => [-4, 8, 658, 4]"
   ]
  },
  {
   "cell_type": "code",
   "execution_count": null,
   "metadata": {},
   "outputs": [],
   "source": [
    "lista1 = [23, 45, 4, 658, 8, 9, -4]\n",
    "# rezultatul se depune in variabila rezultat_lista_pare\n",
    "\n",
    "assert rezultat_lista_pare == [-4, 8, 658, 4], \"Rezultat asteptat: [-4, 8, 658, 4]\""
   ]
  },
  {
   "cell_type": "markdown",
   "metadata": {},
   "source": [
    "2. Se dă o listă de numere, continand cel putin un numar par si cel putin unul impar. Să se afișeze: suma dintre maximul numerelor pare și minumul numerelor impare."
   ]
  },
  {
   "cell_type": "code",
   "execution_count": null,
   "metadata": {},
   "outputs": [],
   "source": [
    "lista2 = [4, 5, 6, 78, 43, 57, 68]\n",
    "\n",
    "\n",
    "assert rezultat == 83, \"Rezultat asteptat: 83\""
   ]
  },
  {
   "cell_type": "markdown",
   "metadata": {},
   "source": [
    " 3. Fiind data o lista de cuvinte (toate cu litere mici), să se returneze lista care contine cuvintele care NU incep cu litera a, sortate in ordine alfabetica."
   ]
  },
  {
   "cell_type": "code",
   "execution_count": null,
   "metadata": {},
   "outputs": [],
   "source": [
    "lista_cuvinte=[\"lamaie\", \"maxim\", \"alfabet\",\"drum\", \"inima\", \"barca\", \"lacusta\", \"are\"]\n",
    "\n",
    "assert cuvinte_fara_a_alfabetic == ['barca', 'drum', 'inima', 'lacusta', 'lamaie', 'maxim'], \"Rezultat asteptat: ['barca', 'drum', 'inima', 'lacusta', 'lamaie', 'maxim']\""
   ]
  },
  {
   "cell_type": "markdown",
   "metadata": {},
   "source": [
    "4. Se da o listă de dicționare în care cheile sunt mâncăruri iar valorile sunt ingrediente. Să se returneze:\n",
    "\t1. Felurile de mâncare care nu conțin un ingredient dat in variabila `ingredient`.\n",
    "\t2. Felurile de mâncare care conțin (dar nu coincid cu) o lista de ingrediente data.\n",
    "\t3. Felul de mâncare cu cele mai multe ingrediente.\n",
    "\t4. Toate perechile de mâncăruri A, B pentru care lista de ingrediente a lui A este inclusă in (dar nu coincide cu) lista de ingrediente a lui B.\n",
    "\n",
    "\tIndicație: folosiți tipul de date *set*."
   ]
  },
  {
   "cell_type": "code",
   "execution_count": null,
   "metadata": {},
   "outputs": [],
   "source": [
    "mancaruri = {\n",
    "    \"tocana\": [\"cartofi\", \"carne\", \"rosii\", \"ceapa\", \"ulei\"],\n",
    "    \"cartofi_prajiti\" : [\"cartofi\", \"ulei\"],\n",
    "    \"ciorba_vacuta\" : [\"ulei\", \"ceapa\", \"ulei\",\"carne\", \"rosii\", \"cartofi\", \"morcovi\", \"telina\"],\n",
    "    \"savarina\":[\"oua\", \"faina\", \"zahar\", \"frisca\"], \n",
    "    \"musaca\": [\"carne\", \"oua\", \"branza\", \"ceapa\", \"smantana\"]\n",
    "}\n",
    "# 1. Felurile de mancare care nu contin un ingredient dat.\n",
    "ingredient = \"carne\"\n",
    "mancare_fara_ingredient = ...\n",
    "\n",
    "assert mancare_fara_ingredient == ['cartofi_prajiti', 'savarina'], \"Rezultat asteptat: ['cartofi_prajiti', 'savarina'] \"\n",
    "\n",
    "# 2. Felurile de mancare care contin (dar nu coincid cu) o lista de ingrediente data.\n",
    "\n",
    "ingrediente_cerute=[\"carne\", \"oua\"]\n",
    "# mancaruri-cu_ingrediente_cerute = ['musaca']\n",
    "\n",
    "# 3. Felul de mâncare cu cele mai multe ingrediente.\n",
    "# mancare_cu_ingrediente_max = ['ciorba_vacuta']\n",
    "\n",
    "\n",
    "# 4. Toate perechile de mâncăruri A, B pentru care lista de ingrediente a lui A este inclusă in (dar nu coincide cu) \n",
    "# lista de ingrediente a lui B. \n",
    "#  raspuns: [(tocana, ciorba_vacuta), (cartofi_prajti, tocana), (cartofi-prajiti, ciorba_vacuta)]\n"
   ]
  },
  {
   "cell_type": "markdown",
   "metadata": {},
   "source": [
    "5. Fiind dată o listă de cuvinte:\n",
    "    1. Înlocuiți vocalele cu '*'.\n",
    "    2. Determinați cuvintele cu cele mai multe vocale.\n",
    "    3. Înlocuiți consoanele cu prima literă a cuvântului.\n",
    "    4. Determinați cuvintele ce conțin cel puțin 3 litere comune cu un cuvânt dat."
   ]
  },
  {
   "cell_type": "code",
   "execution_count": null,
   "metadata": {},
   "outputs": [],
   "source": [
    "cuvinte = ['ana', 'mere', 'elena']\n",
    "# 1. Înlocuiți vocalele cu '*'.\n",
    "# răspuns: ['*n*', 'm*r*', '*l*n*']\n",
    "\n",
    "# 2. Determinați cuvintele cu cele mai multe vocale.\n",
    "# răspuns: elena\n",
    "\n",
    "\n",
    "# 3. Înlocuiți consoanele cu prima literă a cuvântului.\n",
    "# răspuns: ['aaa', 'meme', 'eeeea']\n",
    "\n",
    "\n",
    "\n",
    "# 4. Determinați cuvintele ce conțin cel puțin 3 litere comune cu un cuvânt dat.\n",
    "# cuvant_dat = 'lenes' => răspuns: 'elena'\n",
    "# cuvant_dat = 'camere' => răspuns: 'mere'"
   ]
  },
  {
   "cell_type": "markdown",
   "metadata": {},
   "source": [
    "6. Să se verifice dacă o propoziție dată este palindrom sau nu (fără a lua în considerare semnele de punctuație sau diacriticele).\n",
    "\n",
    "Exemple:\n",
    "\n",
    "    1. ELE FAC CAFELE.\n",
    "    2. ALA E SERGIU, NU-I GRESEALA.\n",
    "    3. AI RAMAS ACASA, MARIA?"
   ]
  },
  {
   "cell_type": "code",
   "execution_count": null,
   "metadata": {},
   "outputs": [],
   "source": []
  }
 ],
 "metadata": {
  "kernelspec": {
   "display_name": "Python 3 (ipykernel)",
   "language": "python",
   "name": "python3"
  },
  "language_info": {
   "codemirror_mode": {
    "name": "ipython",
    "version": 3
   },
   "file_extension": ".py",
   "mimetype": "text/x-python",
   "name": "python",
   "nbconvert_exporter": "python",
   "pygments_lexer": "ipython3",
   "version": "3.9.16"
  },
  "toc": {
   "base_numbering": 1,
   "nav_menu": {},
   "number_sections": true,
   "sideBar": true,
   "skip_h1_title": false,
   "title_cell": "Table of Contents",
   "title_sidebar": "Contents",
   "toc_cell": false,
   "toc_position": {},
   "toc_section_display": true,
   "toc_window_display": false
  },
  "varInspector": {
   "cols": {
    "lenName": 16,
    "lenType": 16,
    "lenVar": 40
   },
   "kernels_config": {
    "python": {
     "delete_cmd_postfix": "",
     "delete_cmd_prefix": "del ",
     "library": "var_list.py",
     "varRefreshCmd": "print(var_dic_list())"
    },
    "r": {
     "delete_cmd_postfix": ") ",
     "delete_cmd_prefix": "rm(",
     "library": "var_list.r",
     "varRefreshCmd": "cat(var_dic_list()) "
    }
   },
   "types_to_exclude": [
    "module",
    "function",
    "builtin_function_or_method",
    "instance",
    "_Feature"
   ],
   "window_display": false
  },
  "vscode": {
   "interpreter": {
    "hash": "4b00067adde98093e01a02d7c7f33efc32d264c2e91ccf9af382c022f4508f51"
   }
  }
 },
 "nbformat": 4,
 "nbformat_minor": 2
}
