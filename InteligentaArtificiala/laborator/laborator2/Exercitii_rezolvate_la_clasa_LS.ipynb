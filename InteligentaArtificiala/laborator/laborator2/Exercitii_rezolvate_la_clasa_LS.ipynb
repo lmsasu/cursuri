{
 "cells": [
  {
   "cell_type": "markdown",
   "metadata": {},
   "source": [
    "# Exercitii rezolvate"
   ]
  },
  {
   "cell_type": "markdown",
   "metadata": {},
   "source": [
    "1. Se dă o listă de numere. Să se retrurneze lista numerelor pare, în ordine inversă a aparițiilor.\n",
    "\n",
    "Exemplu: [23, 45, 4, 658, 8, 9, -4] => [-4, 8, 658, 4]"
   ]
  },
  {
   "cell_type": "code",
   "execution_count": 54,
   "metadata": {
    "ExecuteTime": {
     "end_time": "2023-02-25T06:12:00.931045Z",
     "start_time": "2023-02-25T06:12:00.924013Z"
    }
   },
   "outputs": [],
   "source": [
    "lista1 = [23, 45, 4, 658, 8, 9, -4]\n",
    "# rezultatul se depune in variabila rezultat_lista_pare\n",
    "\n",
    "rezultat_lista_pare = []\n",
    "for element in lista1[::-1]:\n",
    "    if element % 2 == 0:\n",
    "        rezultat_lista_pare.append(element)\n",
    "        \n",
    "rezultat_lista_pare = [item for item in lista1[::-1] if item % 2 == 0]\n",
    "\n",
    "rezultat_lista_pare = [item for item in lista1 if item % 2 == 0]\n",
    "rezultat_lista_pare = rezultat_lista_pare[::-1]\n",
    "\n",
    "assert rezultat_lista_pare == [-4, 8, 658, 4], \"Rezultat asteptat: [-4, 8, 658, 4]\""
   ]
  },
  {
   "cell_type": "markdown",
   "metadata": {},
   "source": [
    "2. Se dă o listă de numere, continand cel putin un numar par si cel putin un impar. Să se afișeze: suma dintre maximul numerelor pare și minumul numerelor impare."
   ]
  },
  {
   "cell_type": "code",
   "execution_count": 55,
   "metadata": {
    "ExecuteTime": {
     "end_time": "2023-02-25T06:12:00.947162Z",
     "start_time": "2023-02-25T06:12:00.934091Z"
    }
   },
   "outputs": [],
   "source": [
    "lista2 = [4, 5, 6, 78, 43, 57, 68]\n",
    "\n",
    "max_par = max(item for item in lista2 if item % 2 == 0)\n",
    "max_impar = min(item for item in lista2 if item % 2 == 1)\n",
    "\n",
    "rezultat = max_par + max_impar\n",
    "\n",
    "assert rezultat == 83, \"Rezultat asteptat: 83\""
   ]
  },
  {
   "cell_type": "markdown",
   "metadata": {},
   "source": [
    " 3. Fiind data o lista de cuvinte (toate cu litere mici), să se returneze lista care contine cuvintele care NU incep cu litera a, sortate in ordine alfabetica."
   ]
  },
  {
   "cell_type": "code",
   "execution_count": 56,
   "metadata": {
    "ExecuteTime": {
     "end_time": "2023-02-25T06:12:00.963167Z",
     "start_time": "2023-02-25T06:12:00.949131Z"
    }
   },
   "outputs": [],
   "source": [
    "lista_cuvinte=[\"lamaie\", \"maxim\", \"alfabet\",\"drum\", \"inima\", \"barca\", \"lacusta\", \"are\"]\n",
    "\n",
    "cuvinte_fara_a_alfabetic = sorted([item for item in lista_cuvinte if item[0] != 'a'])\n",
    "\n",
    "assert cuvinte_fara_a_alfabetic == ['barca', 'drum', 'inima', 'lacusta', 'lamaie', 'maxim'], \"Rezultat asteptat: ['barca', 'drum', 'inima', 'lacusta', 'lamaie', 'maxim']\""
   ]
  },
  {
   "cell_type": "markdown",
   "metadata": {},
   "source": [
    "4. Se da o listă de dicționare în care cheile sunt mâncăruri iar valorile sunt ingrediente. Să se returneze:\n",
    "\t1. Felurile de mâncare care nu conțin un ingredient dat in variabila `ingr`.\n",
    "\t2. Felurile de mâncare care conțin (dar nu coincid cu) o lista de ingrediente data.\n",
    "\t3. Felul de mâncare cu cele mai multe ingrediente.\n",
    "\t4. Toate perechile de mâncăruri A, B pentru care lista de ingrediente a lui A este inclusă in (dar nu coincide cu) lista de ingrediente a lui B.\n",
    "\n",
    "\tIndicație: folosiți tipul de date *set*."
   ]
  },
  {
   "cell_type": "code",
   "execution_count": 57,
   "metadata": {
    "ExecuteTime": {
     "end_time": "2023-02-25T06:12:00.993139Z",
     "start_time": "2023-02-25T06:12:00.966154Z"
    }
   },
   "outputs": [
    {
     "data": {
      "text/plain": [
       "[('tocana', 'ciorba_vacuta'),\n",
       " ('cartofi_prajiti', 'tocana'),\n",
       " ('cartofi_prajiti', 'ciorba_vacuta')]"
      ]
     },
     "execution_count": 57,
     "metadata": {},
     "output_type": "execute_result"
    }
   ],
   "source": [
    "mancaruri = {\n",
    "    \"tocana\": [\"cartofi\", \"carne\", \"rosii\", \"ceapa\", \"ulei\"],\n",
    "    \"cartofi_prajiti\" : [\"cartofi\", \"ulei\"],\n",
    "    \"ciorba_vacuta\" : [\"ulei\", \"ceapa\", \"ulei\",\"carne\", \"rosii\", \"cartofi\", \"morcovi\", \"telina\"],\n",
    "    \"savarina\":[\"oua\", \"faina\", \"zahar\", \"frisca\"], \n",
    "    \"musaca\": [\"carne\", \"oua\", \"branza\", \"ceapa\", \"smantana\"]\n",
    "}\n",
    "# 1. Felurile de mancare care nu contin un ingredient dat.\n",
    "ingredient = \"carne\"\n",
    "mancare_fara_ingredient = [key for key in mancaruri if ingredient not in mancaruri[key]]\n",
    "\n",
    "assert mancare_fara_ingredient == ['cartofi_prajiti', 'savarina'], \"Rezultat asteptat: ['cartofi_prajiti', 'savarina'] \"\n",
    "\n",
    "# 2. Felurile de mancare care contin (dar nu coincid cu) o lista de ingrediente data.\n",
    "\n",
    "ingrediente_cerute=[\"carne\", \"oua\"]\n",
    "# mancaruri_cu_ingrediente_cerute = ['musaca']\n",
    "mancaruri_cu_ingrediente_cerute = [key for key in mancaruri if set(ingrediente_cerute) < set(mancaruri[key])]\n",
    "\n",
    "# 3. Felul de mâncare cu cele mai multe ingrediente.\n",
    "# mancare_cu_ingrediente_max = ['ciorba_vacuta']\n",
    "mancare_nringrediente = [(key, len(value)) for key, value in mancaruri.items()]\n",
    "mancare_nringrediente = sorted(mancare_nringrediente, key=lambda item: item[1], reverse=True)\n",
    "mancare_nringrediente_max = mancare_nringrediente[0][1]\n",
    "mancare_cu_ingrediente_max = [item[0] for item in mancare_nringrediente if item[1] == mancare_nringrediente_max]\n",
    "\n",
    "# 4. Toate perechile de mâncăruri A, B pentru care lista de ingrediente a lui A este inclusă in (dar nu coincide cu) \n",
    "# lista de ingrediente a lui B. \n",
    "#  raspuns: (tocana, ciorba_vacuta), (cartofi_prajti, tocana), (cartofi-prajiti, ciorba_vacuta)\n",
    "\n",
    "[(k1, k2) for k1 in mancaruri for k2 in mancaruri if set(mancaruri[k1]) < set(mancaruri[k2])]"
   ]
  },
  {
   "cell_type": "markdown",
   "metadata": {},
   "source": [
    "5. Fiind dată o listă de cuvinte:\n",
    "    1. Înlocuiți vocalele cu '*'.\n",
    "    2. Determinați cuvintele cu cele mai multe vocale.\n",
    "    3. Înlocuiți consoanele cu prima literă a cuvântului.\n",
    "    4. Determinați cuvintele ce conțin cel puțin 3 litere comune cu un cuvânt dat."
   ]
  },
  {
   "cell_type": "code",
   "execution_count": 58,
   "metadata": {
    "ExecuteTime": {
     "end_time": "2023-02-25T06:12:01.008132Z",
     "start_time": "2023-02-25T06:12:00.994130Z"
    }
   },
   "outputs": [
    {
     "name": "stdout",
     "output_type": "stream",
     "text": [
      "elena\n"
     ]
    }
   ],
   "source": [
    "cuvinte = ['ana', 'mere', 'elena']\n",
    "# 1. Înlocuiți vocalele cu '*'.\n",
    "# răspuns: ['*n*', 'm*r*', '*l*n*']\n",
    "import re\n",
    "cuvinte_star = [re.sub(r'[aeiou]', '*', item) for item in cuvinte]\n",
    "cuvinte_star\n",
    "\n",
    "# 2. Determinați cuvintele cu cele mai multe vocale.\n",
    "cuvinte_lungimi = [(cuvant, len(re.findall(r'[aeiou]', cuvant))) for cuvant in cuvinte]\n",
    "cuvinte_lungimi = sorted(cuvinte_lungimi, key=lambda pereche: pereche[1], reverse=True)\n",
    "# print([item[0] for item in cuvinte_lungimi if item[1] == cuvinte_lungimi[0][1]])\n",
    "\n",
    "# 3. Înlocuiți consoanele cu prima literă a cuvântului.\n",
    "# răspuns: ['aaa', 'meme', 'eeeea']\n",
    "\n",
    "consonants = \"[bcdfghjklmnpqrstvwxyz]\"\n",
    "# for i in range(len(cuvinte)):\n",
    "#     first_letter = cuvinte[i][0]\n",
    "#     cuvinte[i] = re.sub(consonants, first_letter, cuvinte[i])\n",
    "# print(cuvinte)\n",
    "\n",
    "# 4. Determinați cuvintele ce conțin cel puțin 3 litere comune cu un cuvânt dat.\n",
    "# cuvant_dat = 'lenes' => răspuns: 'elena'\n",
    "# cuvant_dat = 'camere' => răspuns: 'mere'\n",
    "\n",
    "cuvant_dat = 'elena'\n",
    "for word in cuvinte:\n",
    "    gasit = False\n",
    "    for i in range(len(word)-3):\n",
    "        if gasit:\n",
    "            break\n",
    "        for j in range(len(cuvant_dat)-3):\n",
    "            if word[i:i+3] == cuvant_dat[j:j+3]:\n",
    "                print(word)\n",
    "                gasit = True\n",
    "                break\n"
   ]
  },
  {
   "cell_type": "markdown",
   "metadata": {},
   "source": [
    "6. Să se verifice dacă o propoziție dată este palindrom sau nu (fără a lua în considerare semnele de punctuație sau diacriticele).\n",
    "\n",
    "Exemple:\n",
    "\n",
    "    1. ELE FAC CAFELE.\n",
    "    2. ALA E SERGIU, NU-I GRESEALA.\n",
    "    3. AI RAMAS ACASA, MARIA?"
   ]
  },
  {
   "cell_type": "code",
   "execution_count": 59,
   "metadata": {
    "ExecuteTime": {
     "end_time": "2023-02-25T06:12:01.024140Z",
     "start_time": "2023-02-25T06:12:01.009130Z"
    }
   },
   "outputs": [
    {
     "data": {
      "text/plain": [
       "True"
      ]
     },
     "execution_count": 59,
     "metadata": {},
     "output_type": "execute_result"
    }
   ],
   "source": [
    "sir = 'ELE FĂC  CAFELE.'\n",
    "sir = re.sub(r'\\W+', '', sir.lower())\n",
    "\n",
    "for replacements in [('ș', 's'), ('ă', 'a'), ('â', 'a'), ('î', 'i'), ('ț', 't')]:\n",
    "    sir = re.sub(replacements[0], replacements[1], sir)\n",
    "sir == sir[::-1]"
   ]
  },
  {
   "cell_type": "code",
   "execution_count": null,
   "metadata": {},
   "outputs": [],
   "source": []
  }
 ],
 "metadata": {
  "kernelspec": {
   "display_name": "Python 3 (ipykernel)",
   "language": "python",
   "name": "python3"
  },
  "language_info": {
   "codemirror_mode": {
    "name": "ipython",
    "version": 3
   },
   "file_extension": ".py",
   "mimetype": "text/x-python",
   "name": "python",
   "nbconvert_exporter": "python",
   "pygments_lexer": "ipython3",
   "version": "3.9.16"
  },
  "toc": {
   "base_numbering": 1,
   "nav_menu": {},
   "number_sections": true,
   "sideBar": true,
   "skip_h1_title": false,
   "title_cell": "Table of Contents",
   "title_sidebar": "Contents",
   "toc_cell": false,
   "toc_position": {},
   "toc_section_display": true,
   "toc_window_display": false
  },
  "varInspector": {
   "cols": {
    "lenName": 16,
    "lenType": 16,
    "lenVar": 40
   },
   "kernels_config": {
    "python": {
     "delete_cmd_postfix": "",
     "delete_cmd_prefix": "del ",
     "library": "var_list.py",
     "varRefreshCmd": "print(var_dic_list())"
    },
    "r": {
     "delete_cmd_postfix": ") ",
     "delete_cmd_prefix": "rm(",
     "library": "var_list.r",
     "varRefreshCmd": "cat(var_dic_list()) "
    }
   },
   "types_to_exclude": [
    "module",
    "function",
    "builtin_function_or_method",
    "instance",
    "_Feature"
   ],
   "window_display": false
  },
  "vscode": {
   "interpreter": {
    "hash": "4b00067adde98093e01a02d7c7f33efc32d264c2e91ccf9af382c022f4508f51"
   }
  }
 },
 "nbformat": 4,
 "nbformat_minor": 2
}
