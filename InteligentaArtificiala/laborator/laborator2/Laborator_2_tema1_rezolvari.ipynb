{
 "cells": [
  {
   "cell_type": "markdown",
   "id": "84358d95",
   "metadata": {},
   "source": [
    "# Laborator 2 - tema 1"
   ]
  },
  {
   "cell_type": "markdown",
   "id": "f8755bcc",
   "metadata": {},
   "source": [
    "## Context\n",
    "\n",
    "Precizari:\n",
    "\n",
    "1. Studentii se pot consulta reciproc, dar rezolvarile vor fi individuale. Daca la o problema nu se pot furniza explicatii legate de rezolvare, nota pentru intreaga tema va fi 0.\n",
    "1. Temele se predau in activitatea de elearning asociata, pana in 15 martie ora 23. Se acorda 2 puncte din oficiu.\n",
    "1. Tema va fi implementata intr-un singur fisier Jupyter Notebook, avand numele: Tema1_IA_nume_prenume.ipynb. Exemplu: Tema1_IA_Popescu_Ioana.ipynb\n",
    "1. Se vor folosi type annotations pentru variabile, parametrii functiilor, tipuri de retur. Se vor folosi docstrings pentru functii, in limba romana sau engleza. Neindeplinirea acestei cerinte duce la injumatatirea punctajului pe exercitiul in cauza."
   ]
  },
  {
   "cell_type": "markdown",
   "id": "abb52198",
   "metadata": {},
   "source": [
    "## Exercitii simple"
   ]
  },
  {
   "cell_type": "markdown",
   "id": "db4cb505",
   "metadata": {},
   "source": [
    "1. (1 p). Se da o lista `lista` de numere intregi. Sa se depuna numerele pare in lista `lista_pare` numerele pare si in `lista_impare` cele impare.\n",
    "\n",
    "Exemplu:"
   ]
  },
  {
   "cell_type": "code",
   "execution_count": null,
   "id": "98bf30f1",
   "metadata": {
    "ExecuteTime": {
     "end_time": "2022-10-10T12:51:26.378377Z",
     "start_time": "2022-10-10T12:51:26.365358Z"
    }
   },
   "outputs": [],
   "source": [
    "lista = [223, 1019, 4, 658, 8, 9, -4]\n",
    "\n",
    "lista_pare = ...\n",
    "lista_impare = ...\n",
    "\n",
    "# in mod normal, lista numerelor pare/impare \n",
    "assert lista_pare == [4, 658, 8, -4]\n",
    "assert lista_impare == [223, 1019, 9]"
   ]
  },
  {
   "cell_type": "code",
   "execution_count": 1,
   "id": "c2906b7c",
   "metadata": {
    "ExecuteTime": {
     "end_time": "2023-03-08T17:58:19.785831Z",
     "start_time": "2023-03-08T17:58:19.776327Z"
    }
   },
   "outputs": [],
   "source": [
    "lista = [223, 1019, 4, 658, 8, 9, -4]\n",
    "\n",
    "lista_pare = [a for a in lista if a%2==0]\n",
    "lista_impare = [a for a in lista if a%2==1]\n",
    "\n",
    "# in mod normal, lista numerelor pare/impare \n",
    "assert lista_pare == [4, 658, 8, -4]\n",
    "assert lista_impare == [223, 1019, 9]"
   ]
  },
  {
   "cell_type": "markdown",
   "id": "3be6a879",
   "metadata": {},
   "source": [
    "Pentru exemplele proprii adaptati corespunzator cele doua asertiuni."
   ]
  },
  {
   "cell_type": "markdown",
   "id": "4d5adda5",
   "metadata": {},
   "source": [
    "2. (1 p)  Se da o lista de stringuri. Se cere ca in fata fiecarui string cu lungime para sa se insereze lungimea acelui string. \n",
    "\n",
    "Exemplu:"
   ]
  },
  {
   "cell_type": "code",
   "execution_count": null,
   "id": "bbb6bcc0",
   "metadata": {
    "ExecuteTime": {
     "end_time": "2022-10-10T13:25:45.895981Z",
     "start_time": "2022-10-10T13:25:45.869948Z"
    }
   },
   "outputs": [],
   "source": [
    "my_string = \"Atunci când citești un text trebuie să fii capabil să identifici ideea principală a textului și să o poți formula în propriile tale cuvinte\"\n",
    "my_list = my_string.split(' ')\n",
    "\n",
    "...\n",
    "print(my_list)\n",
    "\n",
    "assert my_list == [6, 'Atunci', 4, 'când', 'citești', 2, 'un', 4, 'text', 'trebuie', 2, 'să', 'fii', 'capabil', 2, 'să', 10, 'identifici', 'ideea', 10, 'principală', 'a', 8, 'textului', 2, 'și', 2, 'să', 'o', 4, 'poți', 'formula', 2, 'în', 'propriile', 4, 'tale', 'cuvinte']"
   ]
  },
  {
   "cell_type": "code",
   "execution_count": 5,
   "id": "51665ec2",
   "metadata": {
    "ExecuteTime": {
     "end_time": "2023-03-08T18:29:14.246384Z",
     "start_time": "2023-03-08T18:29:14.228378Z"
    }
   },
   "outputs": [
    {
     "name": "stdout",
     "output_type": "stream",
     "text": [
      "[6, 'Atunci', 4, 'când', 'citești', 2, 'un', 4, 'text', 'trebuie', 2, 'să', 'fii', 'capabil', 2, 'să', 10, 'identifici', 'ideea', 10, 'principală', 'a', 8, 'textului', 2, 'și', 2, 'să', 'o', 4, 'poți', 'formula', 2, 'în', 'propriile', 4, 'tale', 'cuvinte']\n"
     ]
    }
   ],
   "source": [
    "my_string = \"Atunci când citești un text trebuie să fii capabil să identifici ideea principală a textului și să o poți formula în propriile tale cuvinte\"\n",
    "my_list = my_string.split(' ')\n",
    "\n",
    "my_list = [(len(word), word) if len(word) % 2 == 0 else (None, word) for word in my_list]\n",
    "my_list = [a for sublist in my_list for a in sublist if a ]\n",
    "\n",
    "print(my_list)\n",
    "\n",
    "# assert my_list == [6, 'Atunci', 4, 'când', 'citești', 2, 'un', 4, 'text', 'trebuie', 2, 'să', 'fii', 'capabil', 2, 'să', 10, 'identifici', 'ideea', 10, 'principală', 'a', 8, 'textului', 2, 'și', 2, 'să', 'o', 4, 'poți', 'formula', 2, 'în', 'propriile', 4, 'tale', 'cuvinte']"
   ]
  },
  {
   "cell_type": "markdown",
   "id": "cb4f8ca8",
   "metadata": {},
   "source": [
    "3. (1 p) Se da o lista de cel putin 3 numere in virgula mobila. Care este al treilea cel mai mic numar?\n",
    "\n",
    "Exemplu:"
   ]
  },
  {
   "cell_type": "code",
   "execution_count": null,
   "id": "1e26972f",
   "metadata": {
    "ExecuteTime": {
     "end_time": "2022-10-10T13:29:29.760480Z",
     "start_time": "2022-10-10T13:29:29.752346Z"
    }
   },
   "outputs": [],
   "source": [
    "lista_numere = [1, -1, 2, -2, 3, -3, 4, -4, 100, 0]\n",
    "\n",
    "al_treilea = ...\n",
    "print(al_treilea)\n",
    "\n",
    "assert al_treilea == -2"
   ]
  },
  {
   "cell_type": "code",
   "execution_count": 8,
   "id": "893b2d62",
   "metadata": {
    "ExecuteTime": {
     "end_time": "2023-03-08T18:30:32.316634Z",
     "start_time": "2023-03-08T18:30:32.298597Z"
    }
   },
   "outputs": [
    {
     "name": "stdout",
     "output_type": "stream",
     "text": [
      "-2\n"
     ]
    }
   ],
   "source": [
    "lista_numere = [1, -1, 2, -2, 3, -3, 4, -4, 100, 0]\n",
    "\n",
    "al_treilea = sorted(lista_numere)[2]\n",
    "print(al_treilea)\n",
    "\n",
    "assert al_treilea == -2"
   ]
  },
  {
   "cell_type": "markdown",
   "id": "6bc59854",
   "metadata": {},
   "source": [
    "4. (1 p) Se da o lista de stringuri. Sa se determine frecventa de aparitie a fiecarui string, intr-un dictionar: cheia dintr-un dictionar este cuvantul, iar valoarea este numarul de aparitii. \n",
    "\n",
    "Optional: dictionarul va contine cuvinetele in ordine descrescatoare a numarului de aparitii.\n",
    "\n",
    "Exemplu:"
   ]
  },
  {
   "cell_type": "code",
   "execution_count": null,
   "id": "f6b827d3",
   "metadata": {
    "ExecuteTime": {
     "end_time": "2022-10-10T13:46:49.198478Z",
     "start_time": "2022-10-10T13:46:49.177601Z"
    }
   },
   "outputs": [],
   "source": [
    "my_string = \"Sed ut perspiciatis unde omnis iste natus error sit voluptatem accusantium doloremque laudantium, totam rem aperiam, eaque ipsa quae ab illo inventore veritatis et quasi architecto beatae vitae dicta sunt explicabo. Nemo enim ipsam voluptatem quia voluptas sit aspernatur aut odit aut fugit, sed quia consequuntur magni dolores eos qui ratione voluptatem sequi nesciunt. Neque porro quisquam est, qui dolorem ipsum quia dolor sit amet, consectetur, adipisci velit, sed quia non numquam eius modi tempora incidunt ut labore et dolore magnam aliquam quaerat voluptatem. Ut enim ad minima veniam, quis nostrum exercitationem ullam corporis suscipit laboriosam, nisi ut aliquid ex ea commodi consequatur? Quis autem vel eum iure reprehenderit qui in ea voluptate velit esse quam nihil molestiae consequatur, vel illum qui dolorem eum fugiat quo voluptas nulla pariatur?\"\n",
    "my_string = my_string.lower().replace(',', '').replace('.', '').replace('?', '')\n",
    "my_list = my_string.split(' ')\n",
    "\n",
    "dict_frecvente = {}\n",
    "...\n",
    "    \n",
    "print(dict_frecvente)\n",
    "\n",
    "assert dict_frecvente == {'sed': 3, 'ut': 4, 'perspiciatis': 1, 'unde': 1, 'omnis': 1, 'iste': 1, 'natus': 1, 'error': 1, 'sit': 3, 'voluptatem': 4, 'accusantium': 1, 'doloremque': 1, 'laudantium': 1, 'totam': 1, 'rem': 1, 'aperiam': 1, 'eaque': 1, 'ipsa': 1, 'quae': 1, 'ab': 1, 'illo': 1, 'inventore': 1, 'veritatis': 1, 'et': 2, 'quasi': 1, 'architecto': 1, 'beatae': 1, 'vitae': 1, 'dicta': 1, 'sunt': 1, 'explicabo': 1, 'nemo': 1, 'enim': 2, 'ipsam': 1, 'quia': 4, 'voluptas': 2, 'aspernatur': 1, 'aut': 2, 'odit': 1, 'fugit': 1, 'consequuntur': 1, 'magni': 1, 'dolores': 1, 'eos': 1, 'qui': 4, 'ratione': 1, 'sequi': 1, 'nesciunt': 1, 'neque': 1, 'porro': 1, 'quisquam': 1, 'est': 1, 'dolorem': 2, 'ipsum': 1, 'dolor': 1, 'amet': 1, 'consectetur': 1, 'adipisci': 1, 'velit': 2, 'non': 1, 'numquam': 1, 'eius': 1, 'modi': 1, 'tempora': 1, 'incidunt': 1, 'labore': 1, 'dolore': 1, 'magnam': 1, 'aliquam': 1, 'quaerat': 1, 'ad': 1, 'minima': 1, 'veniam': 1, 'quis': 2, 'nostrum': 1, 'exercitationem': 1, 'ullam': 1, 'corporis': 1, 'suscipit': 1, 'laboriosam': 1, 'nisi': 1, 'aliquid': 1, 'ex': 1, 'ea': 2, 'commodi': 1, 'consequatur': 2, 'autem': 1, 'vel': 2, 'eum': 2, 'iure': 1, 'reprehenderit': 1, 'in': 1, 'voluptate': 1, 'esse': 1, 'quam': 1, 'nihil': 1, 'molestiae': 1, 'illum': 1, 'fugiat': 1, 'quo': 1, 'nulla': 1, 'pariatur': 1}"
   ]
  },
  {
   "cell_type": "code",
   "execution_count": 9,
   "id": "255c46c9",
   "metadata": {
    "ExecuteTime": {
     "end_time": "2023-03-08T18:35:20.852478Z",
     "start_time": "2023-03-08T18:35:20.828401Z"
    }
   },
   "outputs": [
    {
     "name": "stdout",
     "output_type": "stream",
     "text": [
      "{'sed': 3, 'ut': 4, 'perspiciatis': 1, 'unde': 1, 'omnis': 1, 'iste': 1, 'natus': 1, 'error': 1, 'sit': 3, 'voluptatem': 4, 'accusantium': 1, 'doloremque': 1, 'laudantium': 1, 'totam': 1, 'rem': 1, 'aperiam': 1, 'eaque': 1, 'ipsa': 1, 'quae': 1, 'ab': 1, 'illo': 1, 'inventore': 1, 'veritatis': 1, 'et': 2, 'quasi': 1, 'architecto': 1, 'beatae': 1, 'vitae': 1, 'dicta': 1, 'sunt': 1, 'explicabo': 1, 'nemo': 1, 'enim': 2, 'ipsam': 1, 'quia': 4, 'voluptas': 2, 'aspernatur': 1, 'aut': 2, 'odit': 1, 'fugit': 1, 'consequuntur': 1, 'magni': 1, 'dolores': 1, 'eos': 1, 'qui': 4, 'ratione': 1, 'sequi': 1, 'nesciunt': 1, 'neque': 1, 'porro': 1, 'quisquam': 1, 'est': 1, 'dolorem': 2, 'ipsum': 1, 'dolor': 1, 'amet': 1, 'consectetur': 1, 'adipisci': 1, 'velit': 2, 'non': 1, 'numquam': 1, 'eius': 1, 'modi': 1, 'tempora': 1, 'incidunt': 1, 'labore': 1, 'dolore': 1, 'magnam': 1, 'aliquam': 1, 'quaerat': 1, 'ad': 1, 'minima': 1, 'veniam': 1, 'quis': 2, 'nostrum': 1, 'exercitationem': 1, 'ullam': 1, 'corporis': 1, 'suscipit': 1, 'laboriosam': 1, 'nisi': 1, 'aliquid': 1, 'ex': 1, 'ea': 2, 'commodi': 1, 'consequatur': 2, 'autem': 1, 'vel': 2, 'eum': 2, 'iure': 1, 'reprehenderit': 1, 'in': 1, 'voluptate': 1, 'esse': 1, 'quam': 1, 'nihil': 1, 'molestiae': 1, 'illum': 1, 'fugiat': 1, 'quo': 1, 'nulla': 1, 'pariatur': 1}\n"
     ]
    }
   ],
   "source": [
    "my_string = \"Sed ut perspiciatis unde omnis iste natus error sit voluptatem accusantium doloremque laudantium, totam rem aperiam, eaque ipsa quae ab illo inventore veritatis et quasi architecto beatae vitae dicta sunt explicabo. Nemo enim ipsam voluptatem quia voluptas sit aspernatur aut odit aut fugit, sed quia consequuntur magni dolores eos qui ratione voluptatem sequi nesciunt. Neque porro quisquam est, qui dolorem ipsum quia dolor sit amet, consectetur, adipisci velit, sed quia non numquam eius modi tempora incidunt ut labore et dolore magnam aliquam quaerat voluptatem. Ut enim ad minima veniam, quis nostrum exercitationem ullam corporis suscipit laboriosam, nisi ut aliquid ex ea commodi consequatur? Quis autem vel eum iure reprehenderit qui in ea voluptate velit esse quam nihil molestiae consequatur, vel illum qui dolorem eum fugiat quo voluptas nulla pariatur?\"\n",
    "my_string = my_string.lower().replace(',', '').replace('.', '').replace('?', '')\n",
    "my_list = my_string.split(' ')\n",
    "\n",
    "dict_frecvente = {}\n",
    "for word in my_list:\n",
    "    dict_frecvente[word] = dict_frecvente.get(word, 0) + 1\n",
    "    \n",
    "print(dict_frecvente)\n",
    "\n",
    "assert dict_frecvente == {'sed': 3, 'ut': 4, 'perspiciatis': 1, 'unde': 1, 'omnis': 1, 'iste': 1, 'natus': 1, 'error': 1, 'sit': 3, 'voluptatem': 4, 'accusantium': 1, 'doloremque': 1, 'laudantium': 1, 'totam': 1, 'rem': 1, 'aperiam': 1, 'eaque': 1, 'ipsa': 1, 'quae': 1, 'ab': 1, 'illo': 1, 'inventore': 1, 'veritatis': 1, 'et': 2, 'quasi': 1, 'architecto': 1, 'beatae': 1, 'vitae': 1, 'dicta': 1, 'sunt': 1, 'explicabo': 1, 'nemo': 1, 'enim': 2, 'ipsam': 1, 'quia': 4, 'voluptas': 2, 'aspernatur': 1, 'aut': 2, 'odit': 1, 'fugit': 1, 'consequuntur': 1, 'magni': 1, 'dolores': 1, 'eos': 1, 'qui': 4, 'ratione': 1, 'sequi': 1, 'nesciunt': 1, 'neque': 1, 'porro': 1, 'quisquam': 1, 'est': 1, 'dolorem': 2, 'ipsum': 1, 'dolor': 1, 'amet': 1, 'consectetur': 1, 'adipisci': 1, 'velit': 2, 'non': 1, 'numquam': 1, 'eius': 1, 'modi': 1, 'tempora': 1, 'incidunt': 1, 'labore': 1, 'dolore': 1, 'magnam': 1, 'aliquam': 1, 'quaerat': 1, 'ad': 1, 'minima': 1, 'veniam': 1, 'quis': 2, 'nostrum': 1, 'exercitationem': 1, 'ullam': 1, 'corporis': 1, 'suscipit': 1, 'laboriosam': 1, 'nisi': 1, 'aliquid': 1, 'ex': 1, 'ea': 2, 'commodi': 1, 'consequatur': 2, 'autem': 1, 'vel': 2, 'eum': 2, 'iure': 1, 'reprehenderit': 1, 'in': 1, 'voluptate': 1, 'esse': 1, 'quam': 1, 'nihil': 1, 'molestiae': 1, 'illum': 1, 'fugiat': 1, 'quo': 1, 'nulla': 1, 'pariatur': 1}"
   ]
  },
  {
   "cell_type": "code",
   "execution_count": 13,
   "id": "0e35386f",
   "metadata": {
    "ExecuteTime": {
     "end_time": "2023-03-08T18:35:20.852478Z",
     "start_time": "2023-03-08T18:35:20.828401Z"
    }
   },
   "outputs": [
    {
     "name": "stdout",
     "output_type": "stream",
     "text": [
      "{'sed': 3, 'ut': 4, 'perspiciatis': 1, 'unde': 1, 'omnis': 1, 'iste': 1, 'natus': 1, 'error': 1, 'sit': 3, 'voluptatem': 4, 'accusantium': 1, 'doloremque': 1, 'laudantium': 1, 'totam': 1, 'rem': 1, 'aperiam': 1, 'eaque': 1, 'ipsa': 1, 'quae': 1, 'ab': 1, 'illo': 1, 'inventore': 1, 'veritatis': 1, 'et': 2, 'quasi': 1, 'architecto': 1, 'beatae': 1, 'vitae': 1, 'dicta': 1, 'sunt': 1, 'explicabo': 1, 'nemo': 1, 'enim': 2, 'ipsam': 1, 'quia': 4, 'voluptas': 2, 'aspernatur': 1, 'aut': 2, 'odit': 1, 'fugit': 1, 'consequuntur': 1, 'magni': 1, 'dolores': 1, 'eos': 1, 'qui': 4, 'ratione': 1, 'sequi': 1, 'nesciunt': 1, 'neque': 1, 'porro': 1, 'quisquam': 1, 'est': 1, 'dolorem': 2, 'ipsum': 1, 'dolor': 1, 'amet': 1, 'consectetur': 1, 'adipisci': 1, 'velit': 2, 'non': 1, 'numquam': 1, 'eius': 1, 'modi': 1, 'tempora': 1, 'incidunt': 1, 'labore': 1, 'dolore': 1, 'magnam': 1, 'aliquam': 1, 'quaerat': 1, 'ad': 1, 'minima': 1, 'veniam': 1, 'quis': 2, 'nostrum': 1, 'exercitationem': 1, 'ullam': 1, 'corporis': 1, 'suscipit': 1, 'laboriosam': 1, 'nisi': 1, 'aliquid': 1, 'ex': 1, 'ea': 2, 'commodi': 1, 'consequatur': 2, 'autem': 1, 'vel': 2, 'eum': 2, 'iure': 1, 'reprehenderit': 1, 'in': 1, 'voluptate': 1, 'esse': 1, 'quam': 1, 'nihil': 1, 'molestiae': 1, 'illum': 1, 'fugiat': 1, 'quo': 1, 'nulla': 1, 'pariatur': 1}\n"
     ]
    }
   ],
   "source": [
    "my_string = \"Sed ut perspiciatis unde omnis iste natus error sit voluptatem accusantium doloremque laudantium, totam rem aperiam, eaque ipsa quae ab illo inventore veritatis et quasi architecto beatae vitae dicta sunt explicabo. Nemo enim ipsam voluptatem quia voluptas sit aspernatur aut odit aut fugit, sed quia consequuntur magni dolores eos qui ratione voluptatem sequi nesciunt. Neque porro quisquam est, qui dolorem ipsum quia dolor sit amet, consectetur, adipisci velit, sed quia non numquam eius modi tempora incidunt ut labore et dolore magnam aliquam quaerat voluptatem. Ut enim ad minima veniam, quis nostrum exercitationem ullam corporis suscipit laboriosam, nisi ut aliquid ex ea commodi consequatur? Quis autem vel eum iure reprehenderit qui in ea voluptate velit esse quam nihil molestiae consequatur, vel illum qui dolorem eum fugiat quo voluptas nulla pariatur?\"\n",
    "my_string = my_string.lower().replace(',', '').replace('.', '').replace('?', '')\n",
    "my_list = my_string.split(' ')\n",
    "\n",
    "dict_frecvente = {cuvant:my_list.count(cuvant) for cuvant in my_list}\n",
    "    \n",
    "print(dict_frecvente)\n",
    "\n",
    "assert dict_frecvente == {'sed': 3, 'ut': 4, 'perspiciatis': 1, 'unde': 1, 'omnis': 1, 'iste': 1, 'natus': 1, 'error': 1, 'sit': 3, 'voluptatem': 4, 'accusantium': 1, 'doloremque': 1, 'laudantium': 1, 'totam': 1, 'rem': 1, 'aperiam': 1, 'eaque': 1, 'ipsa': 1, 'quae': 1, 'ab': 1, 'illo': 1, 'inventore': 1, 'veritatis': 1, 'et': 2, 'quasi': 1, 'architecto': 1, 'beatae': 1, 'vitae': 1, 'dicta': 1, 'sunt': 1, 'explicabo': 1, 'nemo': 1, 'enim': 2, 'ipsam': 1, 'quia': 4, 'voluptas': 2, 'aspernatur': 1, 'aut': 2, 'odit': 1, 'fugit': 1, 'consequuntur': 1, 'magni': 1, 'dolores': 1, 'eos': 1, 'qui': 4, 'ratione': 1, 'sequi': 1, 'nesciunt': 1, 'neque': 1, 'porro': 1, 'quisquam': 1, 'est': 1, 'dolorem': 2, 'ipsum': 1, 'dolor': 1, 'amet': 1, 'consectetur': 1, 'adipisci': 1, 'velit': 2, 'non': 1, 'numquam': 1, 'eius': 1, 'modi': 1, 'tempora': 1, 'incidunt': 1, 'labore': 1, 'dolore': 1, 'magnam': 1, 'aliquam': 1, 'quaerat': 1, 'ad': 1, 'minima': 1, 'veniam': 1, 'quis': 2, 'nostrum': 1, 'exercitationem': 1, 'ullam': 1, 'corporis': 1, 'suscipit': 1, 'laboriosam': 1, 'nisi': 1, 'aliquid': 1, 'ex': 1, 'ea': 2, 'commodi': 1, 'consequatur': 2, 'autem': 1, 'vel': 2, 'eum': 2, 'iure': 1, 'reprehenderit': 1, 'in': 1, 'voluptate': 1, 'esse': 1, 'quam': 1, 'nihil': 1, 'molestiae': 1, 'illum': 1, 'fugiat': 1, 'quo': 1, 'nulla': 1, 'pariatur': 1}"
   ]
  },
  {
   "cell_type": "markdown",
   "id": "943cfe97",
   "metadata": {},
   "source": [
    "5. (2p) Se da un dictionar in care cheile sunt nume de studenti, iar valorile sunt liste de carti preferate. Sa se determine:\n",
    "    1. Care sunt studentii care au in lista de preferinte o carte specificata?\n",
    "    2. Care sunt perechile de studenti care au aceleasi preferinte de carti (ordinea in lista de preferinte nu e relevanta)\n",
    "    3. Pentru un student dat, care sunt studentii cu care are cele mai multe carti comune in liste de preferinte; daca sunt mai multi astfel de studenti cei mai apropiati, se vor enumera toti.\n",
    "    4. Pentru doi studenti, A si B, care e lista de stergeri si adaugari prin care lista lui A devine identica cu lista lui B (ordinea in lista nefiind importanta)\n",
    "    5. Toate perechile de studenti A, B pentru care lista de preferinte a lui A este inclusa in (dar nu coincide cu) lista de preferinte a lui B. \n",
    "    \n",
    "Indicatie: considerati tipul de date `set`.\n",
    "\n",
    "Exemplu:\n",
    "```python\n",
    "preferinte = {\n",
    "    'Popescu': ['carte2', 'carte1', 'carte3', 'carte4'],\n",
    "    'Ionescu': ['carte1', 'carte2', 'carte3', 'carte7', 'alta carte'],\n",
    "    'Georgescu': ['carte1', 'alta carte'],\n",
    "    'Xulescu': ['carte2', 'carte5', 'carte6', 'carte7'],\n",
    "    'Dragomir': ['carte4', 'carte1', 'carte2', 'carte3']\n",
    "}\n",
    "```\n",
    "    1. carte = 'alta carte' -> ['Ionescu', 'Georgescu']\n",
    "    2. Popescu si Dragomir au aceleasi preferinte: ['carte2', 'carte1', 'carte3', 'carte4']. Se remarca faptul ca nu se afiseaza si perechea echivalenta: Dragomir si Popescu.\n",
    "    3. Xulescu -> Suprapunere maxima de preferinte: 2 cu colegii: ['Ionescu']\n",
    "    4. A='Popescu', B='Ionescu' -> Se vor adauga cartile: {'carte7', 'alta carte'}, se vor scoate cartile: {'carte4'}\n",
    "    5. Preferintele lui Georgescu sunt subset propriu al preferintelor lui Ionescu"
   ]
  },
  {
   "cell_type": "markdown",
   "id": "a266b926",
   "metadata": {},
   "source": [
    "6 (1p). Se da o lista de stringuri si o lista de intregi; nicio lista nu contine valori duplicate. Sa se determine toate combinatiile de elemente din prima lista cu elemente din a doua lista, cu valorile despartite prin '_'.\n",
    "\n",
    "Exemplu:"
   ]
  },
  {
   "cell_type": "code",
   "execution_count": null,
   "id": "4657321b",
   "metadata": {
    "ExecuteTime": {
     "end_time": "2022-10-10T14:04:46.244593Z",
     "start_time": "2022-10-10T14:04:46.234599Z"
    }
   },
   "outputs": [],
   "source": [
    "lista_1 = ['laptop', 'carte', 'telefon']\n",
    "lista_2 = list(range(1, 5))\n",
    "\n",
    "...\n",
    "\n",
    "assert lista_combinatii == ['laptop_1', 'laptop_2', 'laptop_3', 'laptop_4', \n",
    "                            'carte_1', 'carte_2', 'carte_3', 'carte_4', \n",
    "                            'telefon_1', 'telefon_2', 'telefon_3', 'telefon_4']"
   ]
  },
  {
   "cell_type": "markdown",
   "id": "4229df3f",
   "metadata": {},
   "source": [
    "## Exercitii cu functii"
   ]
  },
  {
   "cell_type": "markdown",
   "id": "ec6bde55",
   "metadata": {},
   "source": [
    "7 (1 p). Scrieti o functie care primeste un numar intreg si returneaza suma cifrelor sale."
   ]
  },
  {
   "cell_type": "markdown",
   "id": "cb98339b",
   "metadata": {},
   "source": [
    "8 (2 p). Se da un fisier de tip text, pentru care se vor considera doar acele linii din fisier care contin exact un numar intreg. Sa se scrie functii care:\n",
    "* returneaza doar lista numerelor 'valide' - folosita mai departe ca functie auxiliara;\n",
    "* determina daca numerele din fisier sunt sau nu distincte, returnand `True` respectiv `False`;\n",
    "* returneaza cele mai mari 3 numere din fisier, in ordine descrescatoare;\n",
    "* produce lista tuturor tripletelor distincte `(x, y, z)` cu `(x < y < z)`, unde `x, y, z` sunt numere din fisier.\n",
    "\n",
    "Exemplu: pentru continutul de fisier\n",
    "```\n",
    "#1\n",
    "2\n",
    "4\n",
    "-4\n",
    "3\n",
    "-3\n",
    "10\n",
    "2\n",
    "abc\n",
    "100 \n",
    "```\n",
    "functiile vor returna, respectiv:\n",
    "* `[2, 4, -4, 3, -3, 10, 2]`\n",
    "* `False`\n",
    "* `[10, 4, 3]`\n",
    "* ```[(-4, -3, 2), (-4, -3, 3), (-4, -3, 4), (-4, -3, 10), (-4, 2, 3), (-4, 2, 4), (-4, 2, 10), (-4, 3, 4), (-4, 3, 10), (-4, 4, 10), (-3, 2, 3), (-3, 2, 4), (-3, 2, 10), (-3, 3, 4), (-3, 3, 10), (-3, 4, 10), (2, 3, 4), (2, 3, 10), (2, 4, 10), (3, 4, 10)]```\n",
    "\n",
    "Pentru lucrul cu fisiere, puteti consulta, de exemplu: https://www.w3schools.com/python/python_file_open.asp, https://www.geeksforgeeks.org/reading-writing-text-files-python/."
   ]
  },
  {
   "cell_type": "markdown",
   "id": "c5ad6668",
   "metadata": {},
   "source": [
    "9. (2 p) Sa se scrie o functie `sum_divisors_digits`care preia un numar natural strict pozitiv $n$ si returneaza suma cifrelor divizorilor sai. Intr-o alta functie `black_hole` se apeleaza in mod repetat `sum_divisors_digits` pe numerele rezultate, pana cand se atinge un numar maxim de iteratii (implicit 1000) sau se ajunge la numarul 15. Puteti crea alte  functii auxiliare. \n",
    "\n",
    "Exemplul 1: se pleaca de la $n=15$; divizorii sunt $1, 3, 5, 15$; suma cifrelor divizorilor este $1+3+5+1+5=15$, acesta fiind rezultatul apelului `sum_divisors_digits(15)`. Functia `black_hole` se opreste deci dupa un singur apel al functiei `sum_divisors_digits`.\n",
    "\n",
    "Exemplul 2: se pleaca de la $n=21$; divizorii sunt $1, 3, 7, 21$ iar `sum_divisors_digits(21)` este $1+3+7+2+1=14$; se reia in functia `black_hole` apelul functiei `sum_divisors_digits` pana la epuizarea numarului de apeluri sau potentiala stabilizare in 15."
   ]
  },
  {
   "cell_type": "markdown",
   "id": "840e235c",
   "metadata": {},
   "source": [
    "## Exercitii cu NumPy\n",
    "\n",
    "In rezolvarea exercitiilor de mai jos se va folosi cod *vectorizat* si collection comprehension (preferabil insa doar cod vectorizat). Puteti folosi functii NumPy."
   ]
  },
  {
   "cell_type": "markdown",
   "id": "bf779b3e",
   "metadata": {},
   "source": [
    "10. (1 p) Scrieti o functie care pentru un vector dat $a$ dat de $n$ componente, returneaza un vector cu diferenta perechilor de elemente adiacente: $b[i] = a[i]-a[i+1], 0 \\le i \\le n-2$.\n",
    "\n",
    "Exemple: \n",
    "* `a = np.array([1, 2, 10, 3])`; `diff_pairs_vector(a)` va returna vectorul NumPy cu continutul `(-1, -8, 7)`."
   ]
  },
  {
   "cell_type": "code",
   "execution_count": 15,
   "id": "57cc4c83",
   "metadata": {
    "ExecuteTime": {
     "end_time": "2023-03-08T18:45:37.551453Z",
     "start_time": "2023-03-08T18:45:37.532270Z"
    }
   },
   "outputs": [
    {
     "data": {
      "text/plain": [
       "array([-1, -8,  7])"
      ]
     },
     "execution_count": 15,
     "metadata": {},
     "output_type": "execute_result"
    }
   ],
   "source": [
    "def diff_pairs_vector(a: np.ndarray) -> np.ndarray:\n",
    "    return np.diff(a[::-1])[::-1]\n",
    "\n",
    "def diff_pairs_vector(a: np.ndarray) -> np.ndarray:\n",
    "    return a[:-1] - a[1:]\n",
    "\n",
    "a = np.array([1, 2, 10, 3])\n",
    "diff_pairs_vector(a)"
   ]
  },
  {
   "cell_type": "markdown",
   "id": "adfc6013",
   "metadata": {
    "ExecuteTime": {
     "end_time": "2023-02-25T06:32:13.065511Z",
     "start_time": "2023-02-25T06:32:13.041418Z"
    }
   },
   "source": [
    "11. (1p) Sa se scrie o functie care gaseste pozitiile minimelor locale dintr-un vector numpy. Un minim local este o valoare care are in vecinii imediati (indicele curent $\\pm 1$, fara a iesi din vector) valori strict mai mari decat ea. \n",
    "\n",
    "Exemplu: `[-1, 3, -7, 1, 2, 6, 0, 1]` -> `[-1, -7, 0]`."
   ]
  },
  {
   "cell_type": "code",
   "execution_count": 33,
   "id": "5f1e4c5b",
   "metadata": {
    "ExecuteTime": {
     "end_time": "2023-03-08T19:08:42.764544Z",
     "start_time": "2023-03-08T19:08:42.745642Z"
    }
   },
   "outputs": [
    {
     "data": {
      "text/plain": [
       "array([-1, -7,  0])"
      ]
     },
     "execution_count": 33,
     "metadata": {},
     "output_type": "execute_result"
    }
   ],
   "source": [
    "a = np.array([-1, 3, -7, 1, 2, 6, 0, 1])\n",
    "b = np.hstack((a[0]+1, a, a[-1] + 1))\n",
    "\n",
    "mask1 = (b[1:] < b[:-1])[:-1]\n",
    "mask2 = (b[:-1] < b[1:])[1:]\n",
    "a[np.logical_and(mask1, mask2)]"
   ]
  },
  {
   "cell_type": "markdown",
   "id": "4bcde1bc",
   "metadata": {},
   "source": [
    "12. (1 p) Sa se scrie o functie care spune daca o matrice patratica este magica: suma pe fiecare linie, pe fiecare coloana, suma elementelor de pe fiecare diagonala este acelasi numar.\n",
    "\n",
    "Exemplu de matrice magica:\n",
    "```\n",
    "11\t24\t7\t20\t3\n",
    "4\t12\t25\t8\t16\n",
    "17\t5\t13\t21\t9\n",
    "10\t18\t1\t14\t22\n",
    "23\t6\t19\t2\t15\n",
    "```"
   ]
  },
  {
   "cell_type": "code",
   "execution_count": 44,
   "id": "2a57ac09",
   "metadata": {
    "ExecuteTime": {
     "end_time": "2023-03-08T19:39:48.337302Z",
     "start_time": "2023-03-08T19:39:48.321243Z"
    }
   },
   "outputs": [
    {
     "data": {
      "text/plain": [
       "True"
      ]
     },
     "execution_count": 44,
     "metadata": {},
     "output_type": "execute_result"
    }
   ],
   "source": [
    "def latin(mat:np.ndarray) -> bool:\n",
    "    s_rows = mat.sum(axis=0)\n",
    "    s_cols = mat.sum(axis=1)\n",
    "    s_diag = mat.diagonal().sum()\n",
    "    s_other_diag = np.rot90(mat).diagonal().sum() \n",
    "    return s_rows.min() == s_rows.max() == s_cols.min() == s_cols.max() == s_diag == s_other_diag\n",
    "\n",
    "mat = np.array([11,24,7,20,3,4,12,25,8,16,17,5,13,21,9,10,18,1,14,22,23,6,19,2,15]).reshape(5, -1)\n",
    "latin(mat)"
   ]
  },
  {
   "cell_type": "markdown",
   "id": "572640ab",
   "metadata": {},
   "source": [
    "13. (1 p) Sa se scrie o functie care primeste o matrice de numere si determina daca numarul de valori aflate in intervalul $(-a, b)$ ($a$, $b$ > 0, parametri al functiei, numere reale pozitive) este peste un procent $p$, parametru dat. Functia va returna valoare booleana. "
   ]
  },
  {
   "cell_type": "markdown",
   "id": "72d424a1",
   "metadata": {},
   "source": [
    "14. (2 p) Sa se scrie o functie care primeste o matrice `a` si returneaza o alta de aceeasi forma cu `a`, astfel incat valorile de pe fiecare coloana sa fie in intervalul [0, 1]. Se va proceda astfel: pentru o coloana oarecare se calculeaza minimul si maximul de pe ea $m, M$, fiecare valoare $v$ din acea coloana va produce valoarea:\n",
    "$$\n",
    "v' = \\frac{v-m}{M-m}\n",
    "$$\n",
    "Se presupune ca matricea `a` nu are coloane cu valori constante.\n",
    "\n",
    "Scrieti `assert` care sa valideze functia implementata."
   ]
  },
  {
   "cell_type": "code",
   "execution_count": null,
   "id": "a5c15dbf",
   "metadata": {},
   "outputs": [],
   "source": []
  }
 ],
 "metadata": {
  "kernelspec": {
   "display_name": "Python 3 (ipykernel)",
   "language": "python",
   "name": "python3"
  },
  "language_info": {
   "codemirror_mode": {
    "name": "ipython",
    "version": 3
   },
   "file_extension": ".py",
   "mimetype": "text/x-python",
   "name": "python",
   "nbconvert_exporter": "python",
   "pygments_lexer": "ipython3",
   "version": "3.9.16"
  },
  "notify_time": "5",
  "toc": {
   "base_numbering": 1,
   "nav_menu": {},
   "number_sections": true,
   "sideBar": true,
   "skip_h1_title": false,
   "title_cell": "Table of Contents",
   "title_sidebar": "Contents",
   "toc_cell": false,
   "toc_position": {},
   "toc_section_display": true,
   "toc_window_display": false
  },
  "varInspector": {
   "cols": {
    "lenName": 16,
    "lenType": 16,
    "lenVar": 40
   },
   "kernels_config": {
    "python": {
     "delete_cmd_postfix": "",
     "delete_cmd_prefix": "del ",
     "library": "var_list.py",
     "varRefreshCmd": "print(var_dic_list())"
    },
    "r": {
     "delete_cmd_postfix": ") ",
     "delete_cmd_prefix": "rm(",
     "library": "var_list.r",
     "varRefreshCmd": "cat(var_dic_list()) "
    }
   },
   "types_to_exclude": [
    "module",
    "function",
    "builtin_function_or_method",
    "instance",
    "_Feature"
   ],
   "window_display": false
  }
 },
 "nbformat": 4,
 "nbformat_minor": 5
}
