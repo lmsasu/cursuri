{
 "cells": [
  {
   "cell_type": "markdown",
   "id": "e0be6dae",
   "metadata": {},
   "source": [
    "#  Tema 2 \n",
    "\n",
    "#### Termen de predare: 18 octombrie 2022, ora 20:00."
   ]
  },
  {
   "cell_type": "markdown",
   "id": "003a41ae",
   "metadata": {},
   "source": [
    "### Precizări\n",
    "\n",
    "1. Se vor folosi **type annotations** pentru variabile, parametri tuturor funcțiilor, tipuri de retur. Se vor folosi **docstrings** pentru toate funcțiile. Neîndeplinirea acestei cerințe duce la înjumătățirea punctajului pentru exercițiul în cauză. \n",
    "1. Înainte de a trimite tema, verificați acoperirea cerințelor. \n"
   ]
  },
  {
   "cell_type": "markdown",
   "id": "ec9f8041",
   "metadata": {},
   "source": [
    "### Conținut\n",
    "\n",
    "1. Exercitii cu functii\n",
    "1. Exercitii cu NumPy"
   ]
  },
  {
   "cell_type": "markdown",
   "id": "795997bf",
   "metadata": {},
   "source": [
    "## Execiții cu funcții:\n"
   ]
  },
  {
   "cell_type": "markdown",
   "id": "35e71d74",
   "metadata": {},
   "source": [
    " (1p) 1. Să se scrie o funcție care primește ca parametru un număr de 5 cifre. Să se returneze o listă cu toate numerele prime formate din cifrele parametrului."
   ]
  },
  {
   "cell_type": "code",
   "execution_count": null,
   "id": "2c192e03",
   "metadata": {},
   "outputs": [],
   "source": []
  },
  {
   "cell_type": "markdown",
   "id": "7e42091c",
   "metadata": {},
   "source": [
    "(1p) 2. Scrieți o funcție care primește ca parametru o frază de maxim 12 cuvinte și care returnează un tuplu ce conține doar cuvintele palindroame. Un palindrom este un șir de caractere care citit de la dreapta la stânga are același continut ca si citirea de la stanga la dreapta."
   ]
  },
  {
   "cell_type": "code",
   "execution_count": null,
   "id": "e6336b54",
   "metadata": {},
   "outputs": [],
   "source": []
  },
  {
   "cell_type": "markdown",
   "id": "6a868f43",
   "metadata": {},
   "source": [
    "(1p) 3. Definiți o funcție care primește ca parametru o propoziție (string sau listă). Să se returneze un tuplu ce indică numărul de consoane, numărul de vocale și numărul de cifre din parametrul primit. Verificați dacă suma celor 3 valori formează un pătrat perfect."
   ]
  },
  {
   "cell_type": "code",
   "execution_count": null,
   "id": "a8483fb7",
   "metadata": {},
   "outputs": [],
   "source": []
  },
  {
   "cell_type": "markdown",
   "id": "7e116648",
   "metadata": {},
   "source": [
    "(1p) 4. Să se scrie o funcție recursivă care determină dacă un număr se poate descompune în sumă de numere consecutive."
   ]
  },
  {
   "cell_type": "markdown",
   "id": "52b5d98e",
   "metadata": {},
   "source": [
    "## Probleme NumPy"
   ]
  },
  {
   "cell_type": "markdown",
   "id": "0ae82add",
   "metadata": {},
   "source": [
    "(0.5 p) 1. Se dă un vector NumPy. Să se determine lista elementelor unice. Formați o matrice pătratică de dimensiune  `len(v)/2` care să conțină elementele unice din vector.\n",
    "Completați cu cmmdc al elementelor unice pozițiile din matrice rămase libere.  "
   ]
  },
  {
   "cell_type": "code",
   "execution_count": null,
   "id": "784b0a1a",
   "metadata": {},
   "outputs": [],
   "source": []
  },
  {
   "cell_type": "markdown",
   "id": "72ce9765",
   "metadata": {},
   "source": [
    "(1.5 p) 2. Se dau punctele de forma `An(5n, 8n+1)`. \n",
    "\n",
    "a) Verificați dacă punctele `An-1`, `An`,`An+1` formează un triunghi. <br>\n",
    "b) Verificați dacă punctele `A1`,`A2`,`An` sunt coliniare. <br>\n",
    "c) Scrieți ecuația dreptei `A1A2`.\n",
    "    \n",
    "   **Indicație**: Puteți folosi noțiunea de determinant."
   ]
  },
  {
   "cell_type": "code",
   "execution_count": null,
   "id": "b6b36b53",
   "metadata": {},
   "outputs": [],
   "source": []
  },
  {
   "cell_type": "markdown",
   "id": "12d26223",
   "metadata": {},
   "source": [
    "(1p) 3. Pentru o matrice de numere să se determine suma dintre minimul si maximul elementelor de pe linii sau de pe coloane, în funcție de valoarea unui parametru de tip boolean `compute_on_columns`."
   ]
  },
  {
   "cell_type": "code",
   "execution_count": null,
   "id": "0f0e3780",
   "metadata": {},
   "outputs": [],
   "source": []
  },
  {
   "cell_type": "markdown",
   "id": "836e41e9",
   "metadata": {},
   "source": [
    "(1p) 4. Pentru un număr introdus de la tastaură, generați o matrice pătratică cu elemente aleatorii din intervalul `[0,2n]`. Calculați minimul elementelor de pe \n",
    "diagonala principală a matricei și maximul elementelor de pe diagonala secundară a matricei. Returnați rezultatele sub forma de tuplu."
   ]
  },
  {
   "cell_type": "code",
   "execution_count": null,
   "id": "23108306",
   "metadata": {},
   "outputs": [],
   "source": []
  },
  {
   "cell_type": "markdown",
   "id": "28d41c8f",
   "metadata": {},
   "source": [
    "(2p) 5. Descarcați setul de date Wine descris la 'http://archive.ics.uci.edu/ml/datasets/Wine', fișierul `wine.data`, și încărcați-l într-o matrice NumPy, \n",
    "folosind `np.genfromtxt`. Alegeți aleator 28 de poziții din cadrul matricei de valori, setați pe aceste pozitii `NaN`.  Construiți o funcție care, \n",
    "primind la intrare o matrice, returnează o colecție cu indicii de linii respectiv de coloane în care se găsesc valori `NaN`, precum si matricea 'corectată':  valorile `NaN` se umplu cu o valoare ca parametru al funcției. "
   ]
  },
  {
   "cell_type": "code",
   "execution_count": null,
   "id": "f98b75e2",
   "metadata": {},
   "outputs": [],
   "source": []
  }
 ],
 "metadata": {
  "kernelspec": {
   "display_name": "Python 3 (ipykernel)",
   "language": "python",
   "name": "python3"
  },
  "language_info": {
   "codemirror_mode": {
    "name": "ipython",
    "version": 3
   },
   "file_extension": ".py",
   "mimetype": "text/x-python",
   "name": "python",
   "nbconvert_exporter": "python",
   "pygments_lexer": "ipython3",
   "version": "3.9.12"
  }
 },
 "nbformat": 4,
 "nbformat_minor": 5
}
