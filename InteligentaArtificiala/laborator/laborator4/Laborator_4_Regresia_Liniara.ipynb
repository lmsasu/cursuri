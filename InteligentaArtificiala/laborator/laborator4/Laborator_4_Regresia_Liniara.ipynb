{
 "cells": [
  {
   "cell_type": "markdown",
   "metadata": {},
   "source": [
    "# Regresia liniara"
   ]
  },
  {
   "cell_type": "markdown",
   "metadata": {},
   "source": [
    "**Termen de predare: 4 noiembrie 2022, ora 20:00**\n",
    "\n",
    "Se vor folosi type annotations pentru variabile, parametrii tuturor funcțiilor, tipuri de retur. Se vor folosi docstrings pentru toate funcțiile. Neîndeplinirea acestei cerințe duce la înjumătățirea punctajului pentru exercițiul în cauză.\n",
    "\n",
    "Se acordă doua puncte din oficiu. Fișierul va fi denumit tema4_ia_nume_prenume.ipynb. Verificați înainte de trimitere faptul ca execuția celulelor de sus în jos funcționează corespunzător. Aserțiunile sunt obligatoriu a fi indeplinite. Suplimentar, puteti face verificari si pentru alte valori."
   ]
  },
  {
   "cell_type": "code",
   "execution_count": null,
   "metadata": {
    "ExecuteTime": {
     "end_time": "2022-10-25T03:42:03.057095Z",
     "start_time": "2022-10-25T03:42:02.093084Z"
    }
   },
   "outputs": [],
   "source": [
    "%matplotlib inline\n",
    "import numpy as np\n",
    "import matplotlib.pyplot as plt\n",
    "import pandas as pd\n",
    "\n",
    "from typing import Tuple, List"
   ]
  },
  {
   "cell_type": "markdown",
   "metadata": {},
   "source": [
    "## Citirea datelor"
   ]
  },
  {
   "cell_type": "code",
   "execution_count": null,
   "metadata": {
    "ExecuteTime": {
     "end_time": "2022-10-25T03:42:03.089163Z",
     "start_time": "2022-10-25T03:42:03.059098Z"
    }
   },
   "outputs": [],
   "source": [
    "# data source: https://www.kaggle.com/datasets/quantbruce/real-estate-price-prediction\n",
    "\n",
    "path = './data/Real estate.csv'\n",
    "full_data = pd.read_csv(path, index_col='No')\n",
    "\n",
    "# Primele 10 linii\n",
    "full_data.head(10)"
   ]
  },
  {
   "cell_type": "code",
   "execution_count": null,
   "metadata": {
    "ExecuteTime": {
     "end_time": "2022-10-25T03:42:03.105140Z",
     "start_time": "2022-10-25T03:42:03.092140Z"
    }
   },
   "outputs": [],
   "source": [
    "# stergem coloana 'X1 transaction date'\n",
    "full_data.drop(labels='X1 transaction date', axis=1, inplace=True)"
   ]
  },
  {
   "cell_type": "markdown",
   "metadata": {},
   "source": [
    "## Selectare subseturi de antrenare si de testare"
   ]
  },
  {
   "cell_type": "markdown",
   "metadata": {},
   "source": [
    "Setul de date initial se imparte in doua: pe 70% din date se face antrenarea modelului - determinarea ponderilor $\\theta$, iar pe restul se face testare, pentru a vedea cat de bine generalizeaza modelul. \n",
    "\n",
    "Intrucat ordinea initiala a datelor ar putea defavoriza modelul (in datele de mai sus, primele inregistrari sunt cele mai vechi vanzari; cele mai recente sunt ultimele din fisier), decidem sa amestecam in prealabil datele si apoi sa facem impartirea lor. "
   ]
  },
  {
   "cell_type": "code",
   "execution_count": null,
   "metadata": {
    "ExecuteTime": {
     "end_time": "2022-10-25T03:42:03.121139Z",
     "start_time": "2022-10-25T03:42:03.107141Z"
    }
   },
   "outputs": [],
   "source": [
    "# amestec aleator al inregistrarilor\n",
    "full_data = full_data.sample(frac=1)\n",
    "\n",
    "# split de date\n",
    "percent_train = 0.7  # 70% din intregul set este folosit pentru antrenare\n",
    "# restul pentru testare\n",
    "\n",
    "# setez numarul de inregistrari care vor aparea in setul de antrenare; \n",
    "# restul se vor folosi in setul de testare\n",
    "train_items_count = ...\n",
    "# in train vom selecta primele 70% din date si transformam in numpy array\n",
    "train = ...\n",
    "test = ...\n",
    "\n",
    "assert isinstance(train, np.ndarray), 'Train set should be an array'\n",
    "assert isinstance(test, np.ndarray), 'Test set should be an array'\n",
    "\n",
    "assert len(train) + len(test) == len(full_data)\n",
    "assert train.shape[1] == test.shape[1] == len(full_data.columns), 'The number of columns should be the same'"
   ]
  },
  {
   "cell_type": "code",
   "execution_count": null,
   "metadata": {
    "ExecuteTime": {
     "end_time": "2022-10-25T03:42:03.137147Z",
     "start_time": "2022-10-25T03:42:03.123147Z"
    }
   },
   "outputs": [],
   "source": [
    "# ultima coloana din x_train, x_test sunt valoarile ce se prezic, restul sunt atributele de intrare\n",
    "\n",
    "x_train, y_train = ...\n",
    "x_test, y_test = ...\n",
    "\n",
    "assert x_train.shape[0] == train.shape[0]\n",
    "assert x_test.shape[0] == test.shape[0]\n",
    "\n",
    "assert y_train.shape == (x_train.shape[0], 1), f'Vectorul y_train este vector coloana'\n",
    "assert y_test.shape == (x_test.shape[0], 1), f'Vectorul y_test este vector coloana'"
   ]
  },
  {
   "cell_type": "markdown",
   "metadata": {},
   "source": [
    "Functiile de mai jos sunt utilizate pentru transformarea convenabila a datelor:"
   ]
  },
  {
   "cell_type": "markdown",
   "metadata": {},
   "source": [
    "Pentru scalarea valorilor din setul de instruire intre 0 si 1 e nevoie sa stim minimul si maximul pentru fiecare atribut. Pentru o matrice de valori de forma\n",
    "$$\n",
    "\\mathbf{X} = \n",
    "\\begin{pmatrix}\n",
    "x_0^{(1)} & x_1^{(1)} & x_2^{(1)} & \\dots & x_n^{(1)}\n",
    "\\\\\n",
    "x_0^{(2)} & x_1^{(2)} & x_2^{(2)} & \\dots & x_n^{(2)}\n",
    "\\\\\n",
    "\\vdots & \\vdots & \\vdots\t& \\vdots & \\vdots\n",
    "\\\\\n",
    "x_0^{(1)} & x_1^{(m)} & x_2^{(m)} & \\dots & x_n^{(m)}\n",
    "\\end{pmatrix}\n",
    "$$\n",
    "se obtin: minimele si maximele pentru fiecare coloana $min_i$, $max_i$, se scade din fiecare valoare minimul de pe coloana sa si se imparte la diferenta intre maximul si minimul pe acea coloana. Trebuie avuta in vedere situatia in care o coloana e constanta - de exemplu prima coloana 1, in matricea de design."
   ]
  },
  {
   "cell_type": "markdown",
   "metadata": {},
   "source": [
    "## Functii de preprocesare"
   ]
  },
  {
   "cell_type": "code",
   "execution_count": null,
   "metadata": {},
   "outputs": [],
   "source": [
    "def get_min_max_cols(mat: np.ndarray) -> Tuple[np.ndarray, np.ndarray]:\n",
    "    \"\"\"\n",
    "    Pentru o matrice data, calculeaza si returneaza maximele si minimele pe fiecare coloana.\n",
    "    \n",
    "    :param mat: matrice cu cel putin doua linii\n",
    "    :return: minimele si de maximele pe coloane. \n",
    "    \"\"\"\n",
    "    mins, maxes = ...\n",
    "    # se recomanda ca sa se returneze minimele si maximele ca matrice cu cate o linie. \n",
    "    # Indicatie: folositi parametrul keepdims\n",
    "    assert mins.shape == maxes.shape == (1, mat.shape[1])\n",
    "    return mins, maxes"
   ]
  },
  {
   "cell_type": "markdown",
   "metadata": {},
   "source": [
    "Matricea de design are pe prima coloana valoarea 1, pentru a permite termen liber. Restul coloanelor sunt din datele citite"
   ]
  },
  {
   "cell_type": "code",
   "execution_count": null,
   "metadata": {
    "ExecuteTime": {
     "end_time": "2022-10-25T03:42:04.137140Z",
     "start_time": "2022-10-25T03:42:04.124140Z"
    }
   },
   "outputs": [],
   "source": [
    "def get_design_matrix(mat: np.ndarray) -> np.ndarray:\n",
    "    \"\"\"\n",
    "    Functia adauga o coloana de 1 la matricea :param mat:, pentru a permite un \n",
    "    termen liber in modelul liniar. Matricea data ca parametru nu se modifica.\n",
    "    \n",
    "    :param mat: matricea de la care se pleaca. contine doar valori de atribute\n",
    "    :return: matrice de design, provenind din coloana plina cu 1 adaugata \n",
    "    inaintea matricei mat\n",
    "    \"\"\"\n",
    "    ....\n",
    "    result = ...\n",
    "    assert result.shape == (mat.shape[0], mat.shape[1]+1)\n",
    "    assert np.all(result[:, 0] == 1)\n",
    "    return result"
   ]
  },
  {
   "cell_type": "markdown",
   "metadata": {},
   "source": [
    "Implementam scalarea datelor la intervalul $[0, 1]$:"
   ]
  },
  {
   "cell_type": "code",
   "execution_count": null,
   "metadata": {},
   "outputs": [],
   "source": [
    "def scale_values(mat: np.ndarray, min_cols: np.ndarray, max_cols: np.ndarray) -> np.ndarray:\n",
    "    \"\"\"\n",
    "    Primind minimele si maximele pentru :param mat:, obtine matricea scalata: \n",
    "    din valorile de pe coloana i se scade minimul de indice i, adica min_cols[i] \n",
    "    si se imparte la (max_cols[i] - min_cols[i])\n",
    "    \n",
    "    :param mat: matricea pentru care se doreste obtinerea unei matrice scalate\n",
    "    :param min_cols: minimele pe fiecare coloana\n",
    "    :param max_cols: maximele pe fiecare coloana\n",
    "    :return: o matrice de aceeasi forma ca si :param mat:, cu valorile scalate in intervalul [0, 1]\n",
    "    \"\"\"\n",
    "    \n",
    "    assert isinstance(mat, np.ndarray) and mat.ndim == 2, 'mat trebuie sa fie o matrice'\n",
    "    assert mat.shape[0] > 1, 'cel putin doua coloane'\n",
    "    assert mat.shape[1] == min_cols.shape[-1] == max_cols.shape[-1]\n",
    "    \n",
    "    # se trateaza cazul in care o coloana este constanta, i.e. minimul si maximul pe ea coincid. \n",
    "    # aceste coloane nu vor face impartirea, pentru ca ar rezulta o impartire la 0\n",
    "    ...\n",
    "    \n",
    "    result = ...\n",
    "    \n",
    "    assert result.shape == mat.shape, 'Forma matricei se pastreaza'\n",
    "    \n",
    "    return result"
   ]
  },
  {
   "cell_type": "code",
   "execution_count": null,
   "metadata": {
    "ExecuteTime": {
     "end_time": "2022-10-25T03:42:04.233139Z",
     "start_time": "2022-10-25T03:42:04.140149Z"
    }
   },
   "outputs": [],
   "source": [
    "# testare cod\n",
    "\n",
    "_mat = np.random.randn(1000, 1000) * 50\n",
    "min_mat, max_mat = get_min_max_cols(_mat)\n",
    "_mat_scaled = scale_values(_mat, min_mat, max_mat)\n",
    "\n",
    "epsilon = 1e-5  # valoare pozitiva foarte mica; calculele in floating point pot duce la valori \"aproximativ 0\" sau \n",
    "# \"aproximativ 1\" \n",
    "\n",
    "assert np.min(_mat_scaled) >= -epsilon, f'Matricea nu e scalata in [0, 1]: minimul ei este {np.min(_mat_scaled)}'\n",
    "assert np.max(_mat_scaled) <= 1 + epsilon, f'Matricea nu e scalata: maximul ei este {np.max(_mat_scaled)}'\n",
    "\n",
    "_mat = get_design_matrix(_mat)  # adauga o coloana de 1\n",
    "min_mat, max_mat = get_min_max_cols(_mat)\n",
    "_mat_scaled = scale_values(_mat, min_mat, max_mat)\n",
    "assert np.min(_mat_scaled) >= -epsilon, f'Matricea nu e scalata in [0, 1]: minimul ei este {np.min(_mat_scaled)}'\n",
    "assert np.max(_mat_scaled) <= 1 + epsilon, f'Matricea nu e scalata: maximul ei este {np.max(_mat_scaled)}'\n"
   ]
  },
  {
   "cell_type": "markdown",
   "metadata": {},
   "source": [
    "Se preproceseaza setul de antrenare: matrice de design -> scalare:"
   ]
  },
  {
   "cell_type": "code",
   "execution_count": null,
   "metadata": {
    "ExecuteTime": {
     "end_time": "2022-10-25T03:42:22.184487Z",
     "start_time": "2022-10-25T03:42:22.160419Z"
    }
   },
   "outputs": [],
   "source": [
    "# obtinem matricea de design\n",
    "x_train = ...\n",
    "\n",
    "# calculam minime si maxime pe coloane, din setul de antrenare\n",
    "# acestea vor fi folosite si pentru transformarea datelor din setul de testare\n",
    "x_train_min, x_train_max = ...\n",
    "\n",
    "# scalam datele la intervalul [0, 1], folosim scale_values\n",
    "x_train_scaled = ...\n",
    "\n",
    "epsilon = 1e-5  # valoare pozitiva foarte mica\n",
    "\n",
    "assert np.min(x_train_scaled) >= -epsilon, f'Matricea nu e scalata in [0, 1]: minimul ei este {np.min(_mat_scaled)}'\n",
    "assert np.max(x_train_scaled) <= 1 + epsilon, f'Matricea nu e scalata: maximul ei este {np.max(_mat_scaled)}'"
   ]
  },
  {
   "cell_type": "markdown",
   "metadata": {},
   "source": [
    "Pentru setul de testare se face acelasi tip de preprocesare, cu observatia ca pentru scalare se vor folosi valorile din `x_train_min` si `x_train_max`:"
   ]
  },
  {
   "cell_type": "code",
   "execution_count": null,
   "metadata": {},
   "outputs": [],
   "source": [
    "x_test = get_design_matrix(x_test)\n",
    "\n",
    "x_test_scaled = scale_values(x_test, x_train_min, x_train_max)\n",
    "\n",
    "print(f'Ar trebui ca valorile minime din setul de testare pe fiecare coloana sa nu fie mult diferite fata de 0, exceptand prima coloana')\n",
    "print(f'minim pe coloane pentru setul de testare: {np.min(x_test_scaled)}')\n",
    "\n",
    "print(f'Ar trebui ca valorile maxime din setul de testare pe fiecare coloana sa nu fie mult diferite fata de 1. Pentru prima coloana trebuie sa fie chiar 1')\n",
    "print(f'minim pe coloane pentru setul de testare: {np.max(x_test_scaled)}')"
   ]
  },
  {
   "cell_type": "markdown",
   "metadata": {},
   "source": [
    "## Model de regresie liniara"
   ]
  },
  {
   "cell_type": "markdown",
   "metadata": {},
   "source": [
    "Modelul de predictie este:\n",
    "$$\n",
    "h_\\theta(X) = X \\cdot \\theta\n",
    "$$\n",
    "unde $X$ este matrice de design iar $\\theta$ vector de ponderi. "
   ]
  },
  {
   "cell_type": "code",
   "execution_count": null,
   "metadata": {
    "ExecuteTime": {
     "end_time": "2022-10-25T03:42:23.098233Z",
     "start_time": "2022-10-25T03:42:23.079152Z"
    }
   },
   "outputs": [],
   "source": [
    "def model_predict(theta: np.ndarray, x: np.ndarray) -> np.ndarray:\n",
    "    \"\"\"\n",
    "    Efectueaza predictii pentru valorile din matricea :param x:, folosind\n",
    "    parametrii din :param theta:.\n",
    "    \n",
    "    :param theta: matrice coloana de ponderi\n",
    "    :param x: matrice de design. Fiecare linie contine valorile atributelor \n",
    "    pentru o inregistrare.\n",
    "    \n",
    "    \n",
    "    :return: matrice coloana de predictii, cu acelasi numar de linii ca si \n",
    "    :param x:.\n",
    "    \"\"\"\n",
    "    # numarul de trasaturi din x este egal cu numarul de coeficienti din theta\n",
    "    assert x.shape[1] == theta.shape[0]\n",
    "    # vectorul theta e vector coloana\n",
    "    assert theta.shape[1] == 1\n",
    "    result = ...\n",
    "    assert result.shape == (x.shape[0], 1)\n",
    "    return result"
   ]
  },
  {
   "cell_type": "code",
   "execution_count": null,
   "metadata": {
    "ExecuteTime": {
     "end_time": "2022-10-25T03:42:23.475072Z",
     "start_time": "2022-10-25T03:42:23.467977Z"
    }
   },
   "outputs": [],
   "source": [
    "# verificari\n",
    "\n",
    "np.random.seed(100)\n",
    "\n",
    "_x = np.random.rand(3, 2)\n",
    "_y = np.random.rand(3, 1)\n",
    "_theta = np.ones((2, 1))\n",
    "\n",
    "assert np.allclose(model_predict(_theta, _x), np.array([[0.82177433],\n",
    "       [1.26929372],\n",
    "       [0.12628798]]))"
   ]
  },
  {
   "cell_type": "markdown",
   "metadata": {},
   "source": [
    "## Functia de eroare (de cost, loss function)"
   ]
  },
  {
   "cell_type": "markdown",
   "metadata": {},
   "source": [
    "Functia de eroare masoara cat de diferite sunt predictiile fata de valorile cunoscute (ground truth). Aici folosim ca functie de eroare jumatate din [eroarea patratica medie](https://en.wikipedia.org/wiki/Mean_squared_error):"
   ]
  },
  {
   "cell_type": "code",
   "execution_count": null,
   "metadata": {
    "ExecuteTime": {
     "end_time": "2022-10-25T03:42:23.867045Z",
     "start_time": "2022-10-25T03:42:23.858040Z"
    }
   },
   "outputs": [],
   "source": [
    "def loss(theta: np.ndarray, x: np.ndarray, y: np.ndarray) -> float:\n",
    "    \"\"\"\n",
    "    Functie de eroare folosita pentru calcul de gradienti. \n",
    "    \n",
    "    :param theta: matrice coloana de ponderi\n",
    "    :param x: matrice de design. Fiecare linie contine valorile atributelor \n",
    "    pentru o inregistrare.\n",
    "    :param y: valorile de iesire asociate fiecarei inregistrari.\n",
    "    \n",
    "    :return: valoare scalara, reprezentand eroarea.\n",
    "    \"\"\"\n",
    "    m = x.shape[0]\n",
    "    y_hat = model_predict(theta, x)\n",
    "    ...\n",
    "    result = ...\n",
    "    return result"
   ]
  },
  {
   "cell_type": "code",
   "execution_count": null,
   "metadata": {
    "ExecuteTime": {
     "end_time": "2022-10-25T03:42:24.324008Z",
     "start_time": "2022-10-25T03:42:24.313633Z"
    }
   },
   "outputs": [],
   "source": [
    "np.random.seed(100)\n",
    "\n",
    "_x = np.random.rand(3, 2)\n",
    "_y = np.random.rand(3, 1)\n",
    "_theta = np.ones((2, 1))\n",
    "\n",
    "assert np.allclose(loss(_theta, _x, _y), 0.03659284388808936)"
   ]
  },
  {
   "cell_type": "markdown",
   "metadata": {},
   "source": [
    "## Calcul de gradienti si antrenare"
   ]
  },
  {
   "cell_type": "code",
   "execution_count": null,
   "metadata": {
    "ExecuteTime": {
     "end_time": "2022-10-25T03:42:24.874457Z",
     "start_time": "2022-10-25T03:42:24.866468Z"
    }
   },
   "outputs": [],
   "source": [
    "def gradient(theta: np.ndarray, x: np.ndarray, y: np.ndarray) -> np.ndarray:\n",
    "    \"\"\"\n",
    "    Calculeaza gradientul pentru un model liniar cu parametrii :param theta:,\n",
    "    pentru intrarea :param x: si iesirea :param y:\n",
    "    \n",
    "    :param theta: matrice coloana de parametri\n",
    "    :param x: matricea de design cu valorile de intrare\n",
    "    :param y: valorile de iesire\n",
    "    :return: vectorul de valori de iesire \n",
    "    \"\"\"\n",
    "    \n",
    "    assert theta.shape[0] == x.shape[1]\n",
    "    m = x.shape[0]\n",
    "    y_hat = model_predict(theta, x)\n",
    "    assert y_hat.shape == (m, 1)\n",
    "    ...\n",
    "    grad = ...\n",
    "    assert grad.shape == theta.shape\n",
    "    return grad"
   ]
  },
  {
   "cell_type": "code",
   "execution_count": null,
   "metadata": {
    "ExecuteTime": {
     "end_time": "2022-10-25T03:42:25.596006Z",
     "start_time": "2022-10-25T03:42:25.576936Z"
    }
   },
   "outputs": [],
   "source": [
    "def train(x: np.ndarray, y: np.ndarray, alpha:float=0.1, max_iters = 10000, verbose=True) -> Tuple[np.ndarray, List[float]]:\n",
    "    \"\"\"\n",
    "    Antreneaza modelul liniar pe setul de antrenare :param x:, :param y:. \n",
    "    Returneaza lista de valori de eroare si vectorul de ponderi la care s-a ajuns\n",
    "    \n",
    "    :param x: matricea de design cu valorile de intrare\n",
    "    :param y: valorile de iesire\n",
    "    :param alpha: rata de invatare, valoare implicita 0.1\n",
    "    :param max_iters: numarul maxim de iteratii permise. Daca se ajunge la acest prag se opreste antrenarea. \n",
    "    :param verbose: daca e True, atunci se va afisa la fiecare 1000 de iteratii: numarul iteratiei si loss-ul curent\n",
    "    :return: un tuplu cu ponderile rezultate si lista de valori ale functiei de eroare\n",
    "    \"\"\"\n",
    "    eps = 1e-6\n",
    "    assert x.shape[0] == y.shape[0]\n",
    "    assert np.all(x[:, 0] == 1), 'Prima coloana trebuie sa fie 1'\n",
    "    m, n = x.shape\n",
    "    theta = .... # matrice coloana cu valori de 0\n",
    "    assert theta.shape == (n, 1)\n",
    "    assert np.all(theta==0)\n",
    "    \n",
    "    losses = []\n",
    "    losses.append(loss(theta, x, y))\n",
    "    iters = 0\n",
    "    while True:\n",
    "        iters += 1\n",
    "        theta = theta - alpha * gradient(theta, x, y)\n",
    "        current_loss = loss(theta, x, y)\n",
    "        losses.append(current_loss)\n",
    "        if (np.abs(losses[-1] - losses[-2]) < eps) or (iters > max_iters):\n",
    "            break\n",
    "        if np.isnan(current_loss) or np.isinf(current_loss):\n",
    "            break\n",
    "        if verbose and iters % 1000 == 0:\n",
    "            print(f'Iteratia {iters}; loss = {current_loss}')\n",
    "    return theta, losses"
   ]
  },
  {
   "cell_type": "code",
   "execution_count": null,
   "metadata": {
    "ExecuteTime": {
     "end_time": "2022-10-25T03:42:26.336205Z",
     "start_time": "2022-10-25T03:42:26.133402Z"
    }
   },
   "outputs": [],
   "source": [
    "theta, losses = train(x_train_scaled, y_train, alpha=0.5)"
   ]
  },
  {
   "cell_type": "code",
   "execution_count": null,
   "metadata": {},
   "outputs": [],
   "source": [
    "print(f'losses={losses}')"
   ]
  },
  {
   "cell_type": "code",
   "execution_count": null,
   "metadata": {
    "ExecuteTime": {
     "end_time": "2022-10-25T03:42:26.919093Z",
     "start_time": "2022-10-25T03:42:26.770656Z"
    },
    "scrolled": false
   },
   "outputs": [],
   "source": [
    "plt.plot(losses)\n",
    "plt.xlabel('Epoca')\n",
    "plt.ylabel('Eroare')\n",
    "plt.show()"
   ]
  },
  {
   "cell_type": "markdown",
   "metadata": {},
   "source": [
    "## Testarea modelului "
   ]
  },
  {
   "cell_type": "code",
   "execution_count": null,
   "metadata": {},
   "outputs": [],
   "source": [
    "# functie mean squared error\n",
    "\n",
    "def mse(y_true: np.ndarray, y_hat: np.ndarray) -> float:\n",
    "    \"\"\"\n",
    "    Calculeaza mean squared error pentru vectorii :param y_true: si :param y_hat:.\n",
    "    \n",
    "    :param y_true: vector de valori ground truth\n",
    "    :param y_test: vector de valori prezisi de un model.\n",
    "    \n",
    "    :param return: mean squared error\n",
    "    \"\"\"\n",
    "    \n",
    "    return 1/y_true.shape[0] * np.sum((y_true - y_hat)**2)"
   ]
  },
  {
   "cell_type": "markdown",
   "metadata": {},
   "source": [
    "### Testarea pe setul de antrenare"
   ]
  },
  {
   "cell_type": "code",
   "execution_count": null,
   "metadata": {},
   "outputs": [],
   "source": [
    "y_hat_train = ...\n",
    "    \n",
    "print(f'Mean squared error pentru setul de antrenare: {mse(y_hat_train, y_train)}')"
   ]
  },
  {
   "cell_type": "code",
   "execution_count": null,
   "metadata": {},
   "outputs": [],
   "source": [
    "print(f'Valori actuale si prezise, set de antrenare: {list(zip(y_train, y_hat_train))}')"
   ]
  },
  {
   "cell_type": "markdown",
   "metadata": {},
   "source": [
    "### Testare pe setul de testare"
   ]
  },
  {
   "cell_type": "code",
   "execution_count": null,
   "metadata": {},
   "outputs": [],
   "source": [
    "y_hat_test = ...\n",
    "    \n",
    "print(f'Mean squared error pentru setul de testare: {mse(y_hat_test, y_test)}')"
   ]
  },
  {
   "cell_type": "code",
   "execution_count": null,
   "metadata": {},
   "outputs": [],
   "source": [
    "print(f'Valori actuale si prezise, set de testare: {list(zip(y_test, y_hat_test))}')"
   ]
  },
  {
   "cell_type": "markdown",
   "metadata": {},
   "source": [
    "Cerinte:\n",
    "1. Gasiti o valoare pentru alpha (learning rate) pentru care algoritmul produce o lista de valori crescatoare pentru functia de cost. Faceti o reprezentare grafica a valorilor din losses. Ce constatati legat de vectorul de ponderi `theta`?\n",
    "1. Gasiti o valoare pentru alpha>0 pentru care algoritmul nu se opreste in `max_iters` iteratii. Faceti o reprezentare grafica a valorilor din losses."
   ]
  },
  {
   "cell_type": "code",
   "execution_count": null,
   "metadata": {},
   "outputs": [],
   "source": [
    "# Rezolvare cerinta 1\n",
    "theta, losses = train(x_train_scaled, y_train, alpha=...)\n",
    "theta  "
   ]
  },
  {
   "cell_type": "code",
   "execution_count": null,
   "metadata": {},
   "outputs": [],
   "source": [
    "plt.plot(losses)\n",
    "plt.show()"
   ]
  },
  {
   "cell_type": "code",
   "execution_count": null,
   "metadata": {},
   "outputs": [],
   "source": [
    "losses  "
   ]
  },
  {
   "cell_type": "code",
   "execution_count": null,
   "metadata": {},
   "outputs": [],
   "source": [
    "# Rezolvare cerinta 2\n",
    "theta, losses = train(x_train_scaled, y_train, alpha=...)\n",
    "losses \n",
    "\n"
   ]
  },
  {
   "cell_type": "code",
   "execution_count": null,
   "metadata": {},
   "outputs": [],
   "source": [
    "plt.plot(losses)\n",
    "plt.show()"
   ]
  },
  {
   "cell_type": "markdown",
   "metadata": {},
   "source": [
    "## Metoda ecuatiilor normale"
   ]
  },
  {
   "cell_type": "markdown",
   "metadata": {},
   "source": [
    "Pentru regresia liniara se pot determina ponderile $\\theta$ folosind metoda ecuatiilor normale. Formula pentru $\\theta$ este:\n",
    "\n",
    "$$\n",
    "{\\theta}^{(min)} = \\left(\\mathbf{X}^t \\mathbf{X}\\right)^{-1}\\mathbf{X}^t\\cdot \\mathbf{y}\n",
    "$$\n",
    "unde $\\mathbf{X}$ este matricea de design, $\\mathbf{y}$ este vectorul de valori ground truth. \n",
    "\n",
    "Pentru determinarea pseudoinversei $\\left(\\mathbf{X}^t \\mathbf{X}\\right)^{-1}\\mathbf{X}^t$ a matricei $\\mathbf{X}$ se poate folosi functia `np.linalg.pinv` din [NumPy](https://numpy.org/doc/stable/reference/generated/numpy.linalg.pinv.html).\n",
    "\n",
    "Determinati vectorul de valori de ponderi folosind metoda pseudoinversei si comparati cu vectorul de ponderi determinat prin metoda gradientului, pentru un $\\alpha$ care duce la convergenta antrenarii.\n",
    "\n",
    "Observatie: in metoda ecuatiilor normale nu este nevoie de a face scalarea/standardizarea datelor, spre deosebire de metoda gradient descent. Pentru comparatie, insa, folositi matricea scalata `x_train_scaled`."
   ]
  },
  {
   "cell_type": "code",
   "execution_count": null,
   "metadata": {},
   "outputs": [],
   "source": [
    "theta_normal = ...\n",
    "print(f'Vectorul de ponderi determinat prin metoda ecuatiilor normale este:\\n{theta_normal}')"
   ]
  },
  {
   "cell_type": "code",
   "execution_count": null,
   "metadata": {},
   "outputs": [],
   "source": [
    "# determinam un vector de ponderi prin metoda gradient descent, folosind setul de antrenare\n",
    "theta_gradient, _ = ...\n",
    "print(f'Vectorul de ponderi determinat prin metoda gradient descent este:\\n{theta_gradient}')"
   ]
  },
  {
   "cell_type": "code",
   "execution_count": null,
   "metadata": {},
   "outputs": [],
   "source": [
    "print(f'Distanta intre vectorii determinati prin cele doua metode: {np.linalg.norm(theta_gradient - theta_normal)}')"
   ]
  },
  {
   "cell_type": "markdown",
   "metadata": {},
   "source": [
    "## Selectare de atribute\n",
    "\n",
    "In setul de date initial sunt prezente si latitudinea si longitudinea proprietatilor vandute - coloanele X5 si X6, adica ultmele doua din matricele x_train si x_test:"
   ]
  },
  {
   "cell_type": "code",
   "execution_count": null,
   "metadata": {},
   "outputs": [],
   "source": [
    "full_data.head()"
   ]
  },
  {
   "cell_type": "markdown",
   "metadata": {},
   "source": [
    "Ne punem intrebarea daca scoaterea lor imbunatateste performanta modelului de predictie. Implementati si executati urmatorii pasi:"
   ]
  },
  {
   "cell_type": "markdown",
   "metadata": {},
   "source": [
    "1. Stergeti ultimele doua coloane din x_train si x_test;\n",
    "1. Reapelati functiile de preprocesare pe matricele date; e nevoie de acest lucru, pentru ca vectorii de minime si maxime pe coloane vor avea acum cu 2 elemente mai putin.\n",
    "1. Reantrenati modelul cu metoda gradient descent si calculati MSE pe setul de antrenare si de testare. Comparati cu valorile obtinute in sectiunea de testare, atat pentru setul de antrenare, cat mai ales pentru setul de testare. Cum comentati rezultatele obtinute?"
   ]
  }
 ],
 "metadata": {
  "kernelspec": {
   "display_name": "Python 3.10.4 64-bit",
   "language": "python",
   "name": "python3"
  },
  "language_info": {
   "codemirror_mode": {
    "name": "ipython",
    "version": 3
   },
   "file_extension": ".py",
   "mimetype": "text/x-python",
   "name": "python",
   "nbconvert_exporter": "python",
   "pygments_lexer": "ipython3",
   "version": "3.10.4"
  },
  "notify_time": "5",
  "toc": {
   "base_numbering": 1,
   "nav_menu": {},
   "number_sections": true,
   "sideBar": true,
   "skip_h1_title": false,
   "title_cell": "Table of Contents",
   "title_sidebar": "Contents",
   "toc_cell": false,
   "toc_position": {
    "height": "calc(100% - 180px)",
    "left": "10px",
    "top": "150px",
    "width": "264.432px"
   },
   "toc_section_display": true,
   "toc_window_display": true
  },
  "varInspector": {
   "cols": {
    "lenName": 16,
    "lenType": 16,
    "lenVar": 40
   },
   "kernels_config": {
    "python": {
     "delete_cmd_postfix": "",
     "delete_cmd_prefix": "del ",
     "library": "var_list.py",
     "varRefreshCmd": "print(var_dic_list())"
    },
    "r": {
     "delete_cmd_postfix": ") ",
     "delete_cmd_prefix": "rm(",
     "library": "var_list.r",
     "varRefreshCmd": "cat(var_dic_list()) "
    }
   },
   "types_to_exclude": [
    "module",
    "function",
    "builtin_function_or_method",
    "instance",
    "_Feature"
   ],
   "window_display": false
  },
  "vscode": {
   "interpreter": {
    "hash": "4b00067adde98093e01a02d7c7f33efc32d264c2e91ccf9af382c022f4508f51"
   }
  }
 },
 "nbformat": 4,
 "nbformat_minor": 2
}
