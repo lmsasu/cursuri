{
 "cells": [
  {
   "cell_type": "markdown",
   "id": "92a96f29",
   "metadata": {},
   "source": [
    "# Bazele PyTorch"
   ]
  },
  {
   "cell_type": "markdown",
   "id": "c4977baf",
   "metadata": {},
   "source": [
    "Bibliografie:\n",
    "1. Deep Learning with PyTorch, Eli Stevens, Luca Antiga, Thomas Viehmann, Manning; 1st edition (August 4, 2020)\n",
    "1. PyTorch Pocket Reference: Building and Deploying Deep Learning Models, by Joe Papa, O'Reilly Media; 1st edition (June 1, 2021)"
   ]
  },
  {
   "cell_type": "markdown",
   "id": "7daad0ad",
   "metadata": {},
   "source": [
    "Pytorch este un framework open source folosit pentru deep learning. Este disponibil la [https://pytorch.org/](https://pytorch.org/). Poate folosi placa grafica (NVIDIA, AMD), procesor, Tensor Processing Units ([TPUs](https://machine-learning.paperspace.com/wiki/tensor-processing-unit-tpu)). Se poate face antrenare distribuita (de exemplu, folosind placi grafice instalate pe mai multe calculatoare legate in retea). "
   ]
  },
  {
   "cell_type": "markdown",
   "id": "5a2442d5",
   "metadata": {},
   "source": [
    "## Instalare"
   ]
  },
  {
   "cell_type": "markdown",
   "id": "9e3c9e47",
   "metadata": {},
   "source": [
    "Instalarea se face conform instructiunilor de la [https://pytorch.org/get-started/locally/](https://pytorch.org/get-started/locally/), de exemplu:"
   ]
  },
  {
   "cell_type": "markdown",
   "id": "95535f76",
   "metadata": {
    "ExecuteTime": {
     "end_time": "2023-01-05T07:38:51.085629Z",
     "start_time": "2023-01-05T07:38:51.076600Z"
    }
   },
   "source": [
    "```\n",
    "conda install pytorch torchvision torchaudio cpuonly -c pytorch\n",
    "```\n",
    "sau\n",
    "```\n",
    "pip install torch torchvision torchaudio\n",
    "```\n",
    "sau\n",
    "```\n",
    "pip install torch torchvision torchaudio --index-url https://download.pytorch.org/whl/cu118\n",
    "```\n",
    "primele doua fiind cu instalare doar pentru pentru CPU, iar ultima foloseste CUDA, daca placa grafica NVIDIA este disponibila."
   ]
  },
  {
   "cell_type": "markdown",
   "id": "9b52ffd5",
   "metadata": {},
   "source": [
    "Alternativ, se poate folosi [Google colab](https://colab.research.google.com/)."
   ]
  },
  {
   "cell_type": "markdown",
   "id": "5d254635",
   "metadata": {},
   "source": [
    "## Tensori in PyTorch"
   ]
  },
  {
   "cell_type": "markdown",
   "id": "fe803223",
   "metadata": {},
   "source": [
    "Un tensor este un tablou de date multimensional. Orice tensor are un numar de dimensiuni. Astfel, \n",
    "* un numar este un tensor de dimensiune 0\n",
    "* un vector este un tensor de dimensiune 1\n",
    "* o matrice e tensor de dimensiune 2\n",
    "![Tensori](./images/0-2d_tensors.png \"Tensori 0-2d\")\n",
    "[Sursa](https://www.tensorflow.org/guide/tensor)\n",
    "* avem tensori de dimensiuni 3: matrice stivuite\n",
    "![Tensori](./images/3dtensors.png \"Tensori 3d\")\n",
    "[Sursa](https://www.tensorflow.org/guide/tensor)\n",
    "* Tensori cu mai mult de 3 dimensiuni \n",
    "![Tensori](./images/tensors.png \"Tensori\")\n",
    "[Sursa](https://medium.com/@anoorasfatima/10-most-common-maths-operation-with-pytorchs-tensor-70a491d8cafd)"
   ]
  },
  {
   "cell_type": "markdown",
   "id": "24183ed1",
   "metadata": {},
   "source": [
    "Modul de utilizare este destul de similar cu cel de la NumPy. "
   ]
  },
  {
   "cell_type": "code",
   "execution_count": null,
   "id": "1bfaf1bf",
   "metadata": {
    "ExecuteTime": {
     "end_time": "2023-01-16T19:31:21.038953Z",
     "start_time": "2023-01-16T19:31:20.100776Z"
    }
   },
   "outputs": [],
   "source": [
    "import torch\n",
    "print(f'Versiune torch: {torch.__version__}')"
   ]
  },
  {
   "cell_type": "markdown",
   "id": "ceb4d562",
   "metadata": {},
   "source": [
    "Putem vedea daca suportul de CUDA este disponibil. Daca da, inseamna ca se pot face operatii (calcule, antrenari de retele neurale) folosind placa grafica."
   ]
  },
  {
   "cell_type": "code",
   "execution_count": null,
   "id": "84436ed2",
   "metadata": {
    "ExecuteTime": {
     "end_time": "2023-01-16T19:31:22.658632Z",
     "start_time": "2023-01-16T19:31:22.621675Z"
    }
   },
   "outputs": [],
   "source": [
    "..."
   ]
  },
  {
   "cell_type": "markdown",
   "id": "4b8194b3",
   "metadata": {},
   "source": [
    "### Scalari ca tensori"
   ]
  },
  {
   "cell_type": "code",
   "execution_count": null,
   "id": "2003f307",
   "metadata": {
    "ExecuteTime": {
     "end_time": "2023-01-16T20:03:26.784140Z",
     "start_time": "2023-01-16T20:03:26.776996Z"
    }
   },
   "outputs": [],
   "source": [
    "scalar = torch.tensor(5)\n",
    "type(scalar)"
   ]
  },
  {
   "cell_type": "code",
   "execution_count": null,
   "id": "e8c1812e",
   "metadata": {
    "ExecuteTime": {
     "end_time": "2023-01-16T20:03:27.298595Z",
     "start_time": "2023-01-16T20:03:27.287579Z"
    }
   },
   "outputs": [],
   "source": [
    "# valoarea variabilei\n",
    "...\n",
    "# observamm ca rezultatul este obiect \"tensor\", ca la tipul de mai sus"
   ]
  },
  {
   "cell_type": "code",
   "execution_count": null,
   "id": "d47b5f8c",
   "metadata": {
    "ExecuteTime": {
     "end_time": "2023-01-16T19:31:38.027925Z",
     "start_time": "2023-01-16T19:31:38.018926Z"
    }
   },
   "outputs": [],
   "source": [
    "# daca se stie ca tensorul are o valoare, atunci aceasta se acceseaza cu metoda item()\n",
    "..."
   ]
  },
  {
   "cell_type": "code",
   "execution_count": null,
   "id": "06e7daf9",
   "metadata": {
    "ExecuteTime": {
     "end_time": "2023-01-06T08:13:33.093738Z",
     "start_time": "2023-01-06T08:13:33.072736Z"
    }
   },
   "outputs": [],
   "source": [
    "# numarul de dimensiuni al unui tensor scalar\n",
    "..."
   ]
  },
  {
   "cell_type": "markdown",
   "id": "3cb5e392",
   "metadata": {},
   "source": [
    "### Vector ca tensor "
   ]
  },
  {
   "cell_type": "code",
   "execution_count": null,
   "id": "fd130514",
   "metadata": {
    "ExecuteTime": {
     "end_time": "2023-01-06T08:13:33.125751Z",
     "start_time": "2023-01-06T08:13:33.101750Z"
    }
   },
   "outputs": [],
   "source": [
    "vector = ...\n",
    "vector"
   ]
  },
  {
   "cell_type": "code",
   "execution_count": null,
   "id": "a9ec15b1",
   "metadata": {
    "ExecuteTime": {
     "end_time": "2023-01-06T08:13:33.157752Z",
     "start_time": "2023-01-06T08:13:33.133733Z"
    }
   },
   "outputs": [],
   "source": [
    "# avem tot tipul tensor pentru aceasta variabila\n",
    "type(vector)"
   ]
  },
  {
   "cell_type": "code",
   "execution_count": null,
   "id": "826e7fd9",
   "metadata": {
    "ExecuteTime": {
     "end_time": "2023-01-06T08:13:33.189774Z",
     "start_time": "2023-01-06T08:13:33.167728Z"
    }
   },
   "outputs": [],
   "source": [
    "# numarul de dimensiuni este 1\n",
    "vector.ndim"
   ]
  },
  {
   "cell_type": "code",
   "execution_count": null,
   "id": "a3bdb3d5",
   "metadata": {
    "ExecuteTime": {
     "end_time": "2023-01-06T08:13:33.205760Z",
     "start_time": "2023-01-06T08:13:33.195730Z"
    }
   },
   "outputs": [],
   "source": [
    "# un concept important pentru un tensor este \"forma\" sa: numarul de elemente pe fiecare dimensiune\n",
    "..."
   ]
  },
  {
   "cell_type": "code",
   "execution_count": null,
   "id": "e74aef05",
   "metadata": {
    "ExecuteTime": {
     "end_time": "2023-01-06T08:13:33.221729Z",
     "start_time": "2023-01-06T08:13:33.210733Z"
    }
   },
   "outputs": [],
   "source": [
    "# indicii functioneaza ca la vectorii NumPy; componentele individuale sunt tensori\n",
    "..."
   ]
  },
  {
   "cell_type": "code",
   "execution_count": null,
   "id": "8bbeff75",
   "metadata": {
    "ExecuteTime": {
     "end_time": "2023-01-06T08:13:33.252756Z",
     "start_time": "2023-01-06T08:13:33.226730Z"
    }
   },
   "outputs": [],
   "source": [
    "# slicing pe tensori 1d functioneaza cu aceleasi conventii ca la NumPy\n",
    "..."
   ]
  },
  {
   "cell_type": "code",
   "execution_count": null,
   "id": "fb91cc55",
   "metadata": {
    "ExecuteTime": {
     "end_time": "2023-01-06T08:13:33.282735Z",
     "start_time": "2023-01-06T08:13:33.261745Z"
    }
   },
   "outputs": [],
   "source": [
    "# operatii pe tensori\n",
    "print('Suma dintre un vector si o constanta', vector + 100)"
   ]
  },
  {
   "cell_type": "code",
   "execution_count": null,
   "id": "cff0c00b",
   "metadata": {
    "ExecuteTime": {
     "end_time": "2023-01-06T08:13:33.298737Z",
     "start_time": "2023-01-06T08:13:33.287735Z"
    }
   },
   "outputs": [],
   "source": [
    "# inmultirea unui tensor cu o constanta\n",
    "..."
   ]
  },
  {
   "cell_type": "code",
   "execution_count": null,
   "id": "131372d9",
   "metadata": {
    "ExecuteTime": {
     "end_time": "2023-01-06T08:13:33.330731Z",
     "start_time": "2023-01-06T08:13:33.302758Z"
    }
   },
   "outputs": [],
   "source": [
    "# suma a doi tensori\n",
    "..."
   ]
  },
  {
   "cell_type": "code",
   "execution_count": null,
   "id": "dd09324e",
   "metadata": {
    "ExecuteTime": {
     "end_time": "2023-01-06T08:13:33.346733Z",
     "start_time": "2023-01-06T08:13:33.335736Z"
    }
   },
   "outputs": [],
   "source": [
    "# produsul scalar al doi tensori\n",
    "..."
   ]
  },
  {
   "cell_type": "code",
   "execution_count": null,
   "id": "22d45570",
   "metadata": {
    "ExecuteTime": {
     "end_time": "2023-01-06T08:13:33.378730Z",
     "start_time": "2023-01-06T08:13:33.353729Z"
    }
   },
   "outputs": [],
   "source": [
    "# norma unui tensor\n",
    "..."
   ]
  },
  {
   "cell_type": "code",
   "execution_count": null,
   "id": "0a2104b7",
   "metadata": {
    "ExecuteTime": {
     "end_time": "2023-01-06T08:13:33.410776Z",
     "start_time": "2023-01-06T08:13:33.384734Z"
    }
   },
   "outputs": [],
   "source": [
    "# pe tensor: minim, media, prima pozitie a minimului\n",
    "..."
   ]
  },
  {
   "cell_type": "markdown",
   "id": "844d049b",
   "metadata": {},
   "source": [
    "Dupa cum se observa, operatiile cunoscute din NumPy se regasesc si aici. Diferenta principala este ca rezultatul unei operatii este de regula un tensor. \n",
    "\n",
    "Conversia de la tensor la tablou NumPy se face cu:"
   ]
  },
  {
   "cell_type": "code",
   "execution_count": null,
   "id": "739dd94b",
   "metadata": {
    "ExecuteTime": {
     "end_time": "2023-01-06T08:13:33.426732Z",
     "start_time": "2023-01-06T08:13:33.414733Z"
    }
   },
   "outputs": [],
   "source": [
    "numpy_vector = vector.numpy()\n",
    "print(f'tip: {type(numpy_vector)}')\n",
    "print(f'valoare: {numpy_vector}')"
   ]
  },
  {
   "cell_type": "markdown",
   "id": "c4a9ef56",
   "metadata": {},
   "source": [
    "Un tensor este prelucrabil de catre un anumit dispozitiv (CPU, GPU, TPU etc.). Implicit acest dispozitiv este CPU:"
   ]
  },
  {
   "cell_type": "code",
   "execution_count": null,
   "id": "942a40f5",
   "metadata": {
    "ExecuteTime": {
     "end_time": "2023-01-06T08:13:33.442736Z",
     "start_time": "2023-01-06T08:13:33.429735Z"
    }
   },
   "outputs": [],
   "source": [
    "..."
   ]
  },
  {
   "cell_type": "markdown",
   "id": "72df91c6",
   "metadata": {},
   "source": [
    "Trecerea unui tensor pe alt dispozitiv se face in mod explicit. De exemplu, pentru a trece vector pe GPU (presupunand ca este prezenta o placa grafica pe sistem si ca instalarea de Pytorch s-a facut cu versiune de GPU) operam astfel:"
   ]
  },
  {
   "cell_type": "code",
   "execution_count": null,
   "id": "58231d50",
   "metadata": {
    "ExecuteTime": {
     "end_time": "2023-01-06T08:13:34.281521Z",
     "start_time": "2023-01-06T08:13:33.447747Z"
    }
   },
   "outputs": [],
   "source": [
    "# instructiunea de mai jos va da eroare daca nu este disponibil cuda\n",
    "vector = vector.cuda()\n",
    "vector.device\n",
    "# ar trebui sa se afiseze: device(type='cuda', index=0)\n",
    "# index=0 se refera la a cata placa video este folosita pentru procesarea tensorului"
   ]
  },
  {
   "cell_type": "markdown",
   "id": "7d27f57e",
   "metadata": {},
   "source": [
    "Operatiile se pot face doar cu tensori procesati de acelasi dispozitiv. "
   ]
  },
  {
   "cell_type": "code",
   "execution_count": null,
   "id": "94f2d9c1",
   "metadata": {
    "ExecuteTime": {
     "end_time": "2023-01-06T08:13:34.312595Z",
     "start_time": "2023-01-06T08:13:34.288495Z"
    }
   },
   "outputs": [],
   "source": [
    "vector2 = torch.from_numpy(numpy_vector)\n",
    "vector.device, vector2.device"
   ]
  },
  {
   "cell_type": "code",
   "execution_count": null,
   "id": "39787f49",
   "metadata": {
    "ExecuteTime": {
     "end_time": "2023-01-06T08:13:34.328618Z",
     "start_time": "2023-01-06T08:13:34.318589Z"
    }
   },
   "outputs": [],
   "source": [
    "# executia liniei de mai jos produce eroare:\n",
    "# s = vector + vector2\n",
    "# RuntimeError: Expected all tensors to be on the same device, but found at least two devices, cuda:0 and cpu!"
   ]
  },
  {
   "cell_type": "markdown",
   "id": "eee839c2",
   "metadata": {},
   "source": [
    "\"Trecerea\" unui tensor de pe CUDA pe CPU se face cu: "
   ]
  },
  {
   "cell_type": "code",
   "execution_count": null,
   "id": "64a7ddbb",
   "metadata": {
    "ExecuteTime": {
     "end_time": "2023-01-06T08:13:34.343607Z",
     "start_time": "2023-01-06T08:13:34.331605Z"
    }
   },
   "outputs": [],
   "source": [
    "vector = ...\n",
    "vector.device"
   ]
  },
  {
   "cell_type": "markdown",
   "id": "bd5d5c50",
   "metadata": {},
   "source": [
    "### Matrice ca tensori"
   ]
  },
  {
   "cell_type": "code",
   "execution_count": null,
   "id": "5858c497",
   "metadata": {
    "ExecuteTime": {
     "end_time": "2023-01-06T08:13:34.359585Z",
     "start_time": "2023-01-06T08:13:34.349627Z"
    }
   },
   "outputs": [],
   "source": [
    "matrix = torch.tensor([[4, 5, 6],[10, 11, 12]])"
   ]
  },
  {
   "cell_type": "code",
   "execution_count": null,
   "id": "a97cea77",
   "metadata": {
    "ExecuteTime": {
     "end_time": "2023-01-06T08:13:34.375586Z",
     "start_time": "2023-01-06T08:13:34.363588Z"
    }
   },
   "outputs": [],
   "source": [
    "# matrix e tot de tip tensor\n",
    "..."
   ]
  },
  {
   "cell_type": "code",
   "execution_count": null,
   "id": "90e23bcb",
   "metadata": {
    "ExecuteTime": {
     "end_time": "2023-01-06T08:13:34.407620Z",
     "start_time": "2023-01-06T08:13:34.394586Z"
    }
   },
   "outputs": [],
   "source": [
    "# numarul de dimensiuni si forma\n",
    "print(f'Numarul de dimensiuni: {matrix.ndim}')\n",
    "print(f'Forma: {matrix.shape}')"
   ]
  },
  {
   "cell_type": "code",
   "execution_count": null,
   "id": "0b034831",
   "metadata": {
    "ExecuteTime": {
     "end_time": "2023-01-06T08:13:34.423586Z",
     "start_time": "2023-01-06T08:13:34.412590Z"
    }
   },
   "outputs": [],
   "source": [
    "# Operatie punctuala: ridicarea la putere se face pentru fiecare componenta a matricei\n",
    "..."
   ]
  },
  {
   "cell_type": "markdown",
   "id": "c34ab61c",
   "metadata": {},
   "source": [
    "### Tensori cu mai mult de 2 dimensiuni"
   ]
  },
  {
   "cell_type": "code",
   "execution_count": null,
   "id": "cd2ba621",
   "metadata": {
    "ExecuteTime": {
     "end_time": "2023-01-06T08:13:34.439585Z",
     "start_time": "2023-01-06T08:13:34.427590Z"
    }
   },
   "outputs": [],
   "source": [
    "tensor3d = torch.tensor([[\n",
    "    [20,-6, 3,5],\n",
    "    [13,44,121, 199],\n",
    "    [-11, -19, -20, -21]],\n",
    "    \n",
    "    [[11,-99,67,40],\n",
    "    [22,23,24,25],\n",
    "    [-100, -101, -102, -103]]]\n",
    ")"
   ]
  },
  {
   "cell_type": "code",
   "execution_count": null,
   "id": "3409b910",
   "metadata": {
    "ExecuteTime": {
     "end_time": "2023-01-06T08:13:34.455655Z",
     "start_time": "2023-01-06T08:13:34.442587Z"
    }
   },
   "outputs": [],
   "source": [
    "print(f'numar de dimensiuni: {tensor3d.ndim}')\n",
    "print(f'forma: {tensor3d.shape}')"
   ]
  },
  {
   "cell_type": "code",
   "execution_count": null,
   "id": "456872c9",
   "metadata": {
    "ExecuteTime": {
     "end_time": "2023-01-06T08:13:34.471612Z",
     "start_time": "2023-01-06T08:13:34.461592Z"
    }
   },
   "outputs": [],
   "source": [
    "# prima matrice este cu index 0:\n",
    "print(tensor3d[0, ...])"
   ]
  },
  {
   "cell_type": "code",
   "execution_count": null,
   "id": "45fee7c2",
   "metadata": {
    "ExecuteTime": {
     "end_time": "2023-01-06T08:13:34.487588Z",
     "start_time": "2023-01-06T08:13:34.475646Z"
    }
   },
   "outputs": [],
   "source": [
    "# mecanismul de broadcasting functioneaza dupa aceleasi principii ca in NumPy\n",
    "tensor2d = torch.arange(10, 22).reshape(3, 4)\n",
    "tensor3d + tensor2d"
   ]
  },
  {
   "cell_type": "code",
   "execution_count": null,
   "id": "3fee63b4",
   "metadata": {
    "ExecuteTime": {
     "end_time": "2023-01-06T08:13:34.503588Z",
     "start_time": "2023-01-06T08:13:34.491586Z"
    }
   },
   "outputs": [],
   "source": [
    "# tensor 4d\n",
    "tensor4d = torch.rand(3, 4, 2, 7)\n",
    "print(f'numarul de dimensiuni ale lui tensor4d: {tensor4d.ndim}')\n",
    "print(f'forma lui tensor4d: {tensor4d.shape}')"
   ]
  },
  {
   "cell_type": "code",
   "execution_count": null,
   "id": "d33b9561",
   "metadata": {
    "ExecuteTime": {
     "end_time": "2023-01-06T08:13:34.519589Z",
     "start_time": "2023-01-06T08:13:34.509617Z"
    }
   },
   "outputs": [],
   "source": [
    "# tensor plin cu 0\n",
    "tensor0 = torch.zeros(3, 4)\n",
    "tensor0_4d = torch.zeros_like(tensor4d)"
   ]
  },
  {
   "cell_type": "markdown",
   "id": "e0c0eadb",
   "metadata": {},
   "source": [
    "### Transformare de imagine in tensor"
   ]
  },
  {
   "cell_type": "markdown",
   "id": "cbddd88c",
   "metadata": {},
   "source": [
    "O imagine color este un tensor tridimensional. Dupa citire, se poate transforma intr-un tensor Pytorch."
   ]
  },
  {
   "cell_type": "code",
   "execution_count": null,
   "id": "cfb6ac1b",
   "metadata": {
    "ExecuteTime": {
     "end_time": "2023-01-06T08:13:35.186651Z",
     "start_time": "2023-01-06T08:13:34.524586Z"
    }
   },
   "outputs": [],
   "source": [
    "# daca e necesar, pentru PIL\n",
    "#!pip install pillow\n",
    "from PIL import Image\n",
    "import numpy as np\n",
    "image = Image.open('./images/beach.jpg')\n",
    "display(image)"
   ]
  },
  {
   "cell_type": "markdown",
   "id": "8dc3008c",
   "metadata": {},
   "source": [
    "Se poate obtine un tablou NumPy din imagine:"
   ]
  },
  {
   "cell_type": "code",
   "execution_count": null,
   "id": "84ae8894",
   "metadata": {
    "ExecuteTime": {
     "end_time": "2023-01-06T08:13:35.202680Z",
     "start_time": "2023-01-06T08:13:35.192653Z"
    }
   },
   "outputs": [],
   "source": [
    "image_numpy = np.array(image)\n",
    "print(image_numpy.shape)"
   ]
  },
  {
   "cell_type": "markdown",
   "id": "5be45cb7",
   "metadata": {},
   "source": [
    "Valorile minime si maxime din imagine sunt:"
   ]
  },
  {
   "cell_type": "code",
   "execution_count": null,
   "id": "531c5e71",
   "metadata": {
    "ExecuteTime": {
     "end_time": "2023-01-06T08:13:35.234649Z",
     "start_time": "2023-01-06T08:13:35.208655Z"
    }
   },
   "outputs": [],
   "source": [
    "np.min(image_numpy), np.max(image_numpy)"
   ]
  },
  {
   "cell_type": "markdown",
   "id": "169eb850",
   "metadata": {},
   "source": [
    "Dorim sa transformam imaginea intr-un tensor Pytorch. In plus, deoarece valorile mari ale pixelilor (0..255) nu sunt potrivite pentru calculele de inmultire si adunare cu ponderi, se prefera scalarea lor la intervalul $[0, 1]$ sau standardizarea lor (valoarile pe fiecare canal să fie cu medie si deviatie standard 1).\n",
    "\n",
    "Mai jos se face simultan conversia la tensor si scalare. Se observa si schimbarea formei tabloului: in numpy are forma (480, 640, 3), in Pytorch capata  forma (3, 480, 640) - numarul de canale da prima dimensiune."
   ]
  },
  {
   "cell_type": "code",
   "execution_count": null,
   "id": "9031b968",
   "metadata": {
    "ExecuteTime": {
     "end_time": "2023-01-06T08:13:35.870653Z",
     "start_time": "2023-01-06T08:13:35.240702Z"
    }
   },
   "outputs": [],
   "source": [
    "import torchvision.transforms as transforms\n",
    "\n",
    "transform = transforms.ToTensor()\n",
    "image_tensor = transform(image)\n",
    "print(image_tensor.shape)"
   ]
  },
  {
   "cell_type": "code",
   "execution_count": null,
   "id": "d6d1afa2",
   "metadata": {
    "ExecuteTime": {
     "end_time": "2023-01-06T08:13:35.901652Z",
     "start_time": "2023-01-06T08:13:35.875650Z"
    }
   },
   "outputs": [],
   "source": [
    "print(image_tensor)"
   ]
  },
  {
   "cell_type": "code",
   "execution_count": null,
   "id": "f5eb2f36",
   "metadata": {
    "ExecuteTime": {
     "end_time": "2023-01-06T08:13:35.933685Z",
     "start_time": "2023-01-06T08:13:35.904651Z"
    }
   },
   "outputs": [],
   "source": [
    "# valoarea minima si maxima din tensor:\n",
    "image_tensor.min(), image_tensor.max()"
   ]
  },
  {
   "cell_type": "markdown",
   "id": "a4780e9d",
   "metadata": {},
   "source": [
    "Redimensionarea imaginii se poate face tot printr-o transformare:"
   ]
  },
  {
   "cell_type": "code",
   "execution_count": null,
   "id": "31d811d9",
   "metadata": {
    "ExecuteTime": {
     "end_time": "2023-03-22T15:49:27.563581Z",
     "start_time": "2023-03-22T15:49:26.937569Z"
    }
   },
   "outputs": [],
   "source": [
    "resize = transforms.Resize([224, 224], antialias=False)"
   ]
  },
  {
   "cell_type": "code",
   "execution_count": null,
   "id": "d78eafec",
   "metadata": {
    "ExecuteTime": {
     "end_time": "2023-01-06T08:13:35.965654Z",
     "start_time": "2023-01-06T08:13:35.954651Z"
    }
   },
   "outputs": [],
   "source": [
    "image_resized = resize(image_tensor)\n",
    "print(image_resized.shape)"
   ]
  },
  {
   "cell_type": "markdown",
   "id": "de0ac9ac",
   "metadata": {},
   "source": [
    "Cele doua transformari pot fi compuse intr-o secventa:"
   ]
  },
  {
   "cell_type": "code",
   "execution_count": null,
   "id": "4d67b689",
   "metadata": {
    "ExecuteTime": {
     "end_time": "2023-01-06T08:13:35.997674Z",
     "start_time": "2023-01-06T08:13:35.969677Z"
    }
   },
   "outputs": [],
   "source": [
    "transform = transforms.Compose([transforms.ToTensor(), transforms.Resize([224, 224], antialias=False)])\n",
    "image_tensor_scaled_resized = transform(image)\n",
    "print(image_tensor_scaled_resized.shape)\n",
    "\n",
    "assert torch.equal(image_tensor_scaled_resized, image_resized)"
   ]
  },
  {
   "cell_type": "markdown",
   "id": "284d5bf7",
   "metadata": {
    "ExecuteTime": {
     "end_time": "2023-01-05T15:10:07.633728Z",
     "start_time": "2023-01-05T15:10:07.622603Z"
    }
   },
   "source": [
    "Pentru standardizarea imaginii trebuie sa stim media si dispersia pe fiecare canal."
   ]
  },
  {
   "cell_type": "code",
   "execution_count": null,
   "id": "2d912b81",
   "metadata": {
    "ExecuteTime": {
     "end_time": "2023-01-06T08:13:36.076654Z",
     "start_time": "2023-01-06T08:13:36.003663Z"
    }
   },
   "outputs": [],
   "source": [
    "image = Image.open('./images/beach.jpg')\n",
    "transform = transforms.ToTensor()\n",
    "# transformare in tensor, scalare in [0,1]\n",
    "image_tensor = transform(image)\n",
    "mean, std = image_tensor.mean([1,2]), image_tensor.std([1,2])\n",
    "print(\"mean and std before scaling:\")\n",
    "print(\"Mean of the image:\", mean)\n",
    "print(\"Std of the image:\", std)\n",
    "# pentru ultima linie afisata: sunt deviatiile standard pentru canalele rosu, verde, respecctiv albastru"
   ]
  },
  {
   "cell_type": "code",
   "execution_count": null,
   "id": "8c47687c",
   "metadata": {
    "ExecuteTime": {
     "end_time": "2023-01-06T08:13:36.156687Z",
     "start_time": "2023-01-06T08:13:36.079652Z"
    }
   },
   "outputs": [],
   "source": [
    "transform_scale = transforms.Compose([\n",
    "    transforms.ToTensor(),\n",
    "    transforms.Normalize(mean, std)   # scalarea este numita normalizare in Pytorch\n",
    "])\n",
    "\n",
    "image_scaled = transform_scale(image)\n",
    "mean_scaled, std_scaled = image_scaled.mean([1,2]), image_scaled.std([1,2])\n",
    "print(\"mean and std after scaling:\")\n",
    "print(\"Mean of the image:\", mean_scaled)\n",
    "print(\"Std of the image:\", std_scaled)"
   ]
  }
 ],
 "metadata": {
  "kernelspec": {
   "display_name": "Python 3 (ipykernel)",
   "language": "python",
   "name": "python3"
  },
  "language_info": {
   "codemirror_mode": {
    "name": "ipython",
    "version": 3
   },
   "file_extension": ".py",
   "mimetype": "text/x-python",
   "name": "python",
   "nbconvert_exporter": "python",
   "pygments_lexer": "ipython3",
   "version": "3.10.9"
  },
  "toc": {
   "base_numbering": 1,
   "nav_menu": {},
   "number_sections": true,
   "sideBar": true,
   "skip_h1_title": false,
   "title_cell": "Table of Contents",
   "title_sidebar": "Contents",
   "toc_cell": false,
   "toc_position": {
    "height": "calc(100% - 180px)",
    "left": "10px",
    "top": "150px",
    "width": "212.7px"
   },
   "toc_section_display": true,
   "toc_window_display": false
  },
  "varInspector": {
   "cols": {
    "lenName": 16,
    "lenType": 16,
    "lenVar": 40
   },
   "kernels_config": {
    "python": {
     "delete_cmd_postfix": "",
     "delete_cmd_prefix": "del ",
     "library": "var_list.py",
     "varRefreshCmd": "print(var_dic_list())"
    },
    "r": {
     "delete_cmd_postfix": ") ",
     "delete_cmd_prefix": "rm(",
     "library": "var_list.r",
     "varRefreshCmd": "cat(var_dic_list()) "
    }
   },
   "types_to_exclude": [
    "module",
    "function",
    "builtin_function_or_method",
    "instance",
    "_Feature"
   ],
   "window_display": false
  }
 },
 "nbformat": 4,
 "nbformat_minor": 5
}
