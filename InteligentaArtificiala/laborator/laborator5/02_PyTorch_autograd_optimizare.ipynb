{
 "cells": [
  {
   "cell_type": "markdown",
   "id": "92a96f29",
   "metadata": {},
   "source": [
    "# Autograd, optimizare"
   ]
  },
  {
   "cell_type": "markdown",
   "id": "c4977baf",
   "metadata": {},
   "source": [
    "Bibliografie:\n",
    "1. Deep Learning with PyTorch, Eli Stevens, Luca Antiga, Thomas Viehmann, Manning; 1st edition (August 4, 2020)\n",
    "1. PyTorch Pocket Reference: Building and Deploying Deep Learning Models, by Joe Papa, O'Reilly Media; 1st edition (June 1, 2021)"
   ]
  },
  {
   "cell_type": "code",
   "execution_count": 26,
   "id": "1bfaf1bf",
   "metadata": {
    "ExecuteTime": {
     "end_time": "2023-03-23T10:47:52.820624Z",
     "start_time": "2023-03-23T10:47:52.805618Z"
    }
   },
   "outputs": [
    {
     "name": "stdout",
     "output_type": "stream",
     "text": [
      "Versiune torch: 2.0.0+cu118\n"
     ]
    }
   ],
   "source": [
    "import torch\n",
    "print(f'Versiune torch: {torch.__version__}')"
   ]
  },
  {
   "cell_type": "code",
   "execution_count": 27,
   "id": "84436ed2",
   "metadata": {
    "ExecuteTime": {
     "end_time": "2023-03-23T10:47:52.836624Z",
     "start_time": "2023-03-23T10:47:52.823625Z"
    }
   },
   "outputs": [
    {
     "data": {
      "text/plain": [
       "True"
      ]
     },
     "execution_count": 27,
     "metadata": {},
     "output_type": "execute_result"
    }
   ],
   "source": [
    "torch.cuda.is_available()"
   ]
  },
  {
   "cell_type": "markdown",
   "id": "cd21a2b5",
   "metadata": {},
   "source": [
    "## Calcul de gradienti cu autograd"
   ]
  },
  {
   "cell_type": "markdown",
   "id": "159d5776",
   "metadata": {},
   "source": [
    "Calculul derivatelor partiale ale unei functii este crucial pentru algoritmii actuali de machine learning. Modificand ponderile (parametrii, coeficientii) unei functii, se poate face printr-un proces iterativ aducerea functiei intr-o zona in care gradientii sa fie 0."
   ]
  },
  {
   "cell_type": "markdown",
   "id": "bea1c314",
   "metadata": {},
   "source": [
    "### Exemplul 1: functie de o singura variabila"
   ]
  },
  {
   "cell_type": "code",
   "execution_count": 28,
   "id": "071200a8",
   "metadata": {
    "ExecuteTime": {
     "end_time": "2023-03-23T10:47:52.852625Z",
     "start_time": "2023-03-23T10:47:52.839625Z"
    }
   },
   "outputs": [
    {
     "name": "stdout",
     "output_type": "stream",
     "text": [
      "tensor(10., requires_grad=True)\n"
     ]
    }
   ],
   "source": [
    "# definim o variabila x. Pentru ca se va calcula derivata unei funcii in raport cu x, trebuie sa specificam \n",
    "# faptul ca trebuie considerat x pentru calcul de gradient\n",
    "x = torch.tensor(10.0, requires_grad = True)\n",
    "print(x)\n",
    "# x trebuie dat ca valoare floating point; \n",
    "# o valoare initiala data ca intreg (10) face ca tensorul sa aiba datatype intreg. \n",
    "# In PyTorch gradientii se pot calcula numai pentru cantitati floating point"
   ]
  },
  {
   "cell_type": "markdown",
   "id": "c38d75aa",
   "metadata": {},
   "source": [
    "Verificam daca tensorul x are gradient definit in acest moment:"
   ]
  },
  {
   "cell_type": "code",
   "execution_count": 29,
   "id": "91088ae3",
   "metadata": {
    "ExecuteTime": {
     "end_time": "2023-03-23T10:47:52.867624Z",
     "start_time": "2023-03-23T10:47:52.855625Z"
    }
   },
   "outputs": [
    {
     "data": {
      "text/plain": [
       "True"
      ]
     },
     "execution_count": 29,
     "metadata": {},
     "output_type": "execute_result"
    }
   ],
   "source": [
    "x.grad is None"
   ]
  },
  {
   "cell_type": "markdown",
   "id": "b40d7a5f",
   "metadata": {},
   "source": [
    "Definim o expresie care depinde de $x$, de exemplu\n",
    "$$\n",
    "y = 5x^3 -x^2 + 2*x -100\n",
    "$$\n",
    "Derivata lui $y$ in functie de $x$ este\n",
    "$$\n",
    "\\frac{dy}{dx} = 15x^2-2x+2\n",
    "$$\n",
    "care evaluata pentru $x = 10$ da rezultatul 1482."
   ]
  },
  {
   "cell_type": "code",
   "execution_count": 30,
   "id": "03cfdac0",
   "metadata": {
    "ExecuteTime": {
     "end_time": "2023-03-23T10:47:52.883628Z",
     "start_time": "2023-03-23T10:47:52.869651Z"
    }
   },
   "outputs": [],
   "source": [
    "y = 5*x**3 - x ** 2 + 2*x - 100\n",
    "# declansam calculul de gradient. Metoda backward() poate fi chemata pentru un tensor Pytorch \n",
    "y.backward()"
   ]
  },
  {
   "cell_type": "markdown",
   "id": "dafeb886",
   "metadata": {},
   "source": [
    "Din acest moment, tensorul x are gradient, calculat de metoda `backward`:"
   ]
  },
  {
   "cell_type": "code",
   "execution_count": 31,
   "id": "db467248",
   "metadata": {
    "ExecuteTime": {
     "end_time": "2023-03-23T10:47:52.899627Z",
     "start_time": "2023-03-23T10:47:52.885625Z"
    }
   },
   "outputs": [
    {
     "name": "stdout",
     "output_type": "stream",
     "text": [
      "Avem gradient pe x: True\n"
     ]
    }
   ],
   "source": [
    "# verificam daca s-a calculat un gradient pentru x, corespunzator lui dy/dx:\n",
    "print(f'Avem gradient pe x: {x.grad is not None}')"
   ]
  },
  {
   "cell_type": "code",
   "execution_count": 32,
   "id": "f36429b9",
   "metadata": {
    "ExecuteTime": {
     "end_time": "2023-03-23T10:47:52.914625Z",
     "start_time": "2023-03-23T10:47:52.902625Z"
    }
   },
   "outputs": [
    {
     "name": "stdout",
     "output_type": "stream",
     "text": [
      "tensor(1482.)\n"
     ]
    }
   ],
   "source": [
    "# recuperam gradientul:\n",
    "print(x.grad)\n"
   ]
  },
  {
   "cell_type": "markdown",
   "id": "73fa1171",
   "metadata": {},
   "source": [
    "**Important!** Daca mai apelam odata backward() pe o expresie care il foloseste pe x (de exemplu: aceeasi expresie y ca mai sus), atunci se calculeaza din nou gradient pentru vectorul x si se acumuleaza la cel calculat deja. Ca atare, pentru acelasi y noul gradient este 1482 + 1482 = 2964:"
   ]
  },
  {
   "cell_type": "code",
   "execution_count": 33,
   "id": "da7e9c37",
   "metadata": {
    "ExecuteTime": {
     "end_time": "2023-03-23T10:47:52.929624Z",
     "start_time": "2023-03-23T10:47:52.917625Z"
    }
   },
   "outputs": [
    {
     "data": {
      "text/plain": [
       "tensor(2964.)"
      ]
     },
     "execution_count": 33,
     "metadata": {},
     "output_type": "execute_result"
    }
   ],
   "source": [
    "y = 5*x**3 - x ** 2 + 2*x - 100\n",
    "y.backward()\n",
    "x.grad"
   ]
  },
  {
   "cell_type": "markdown",
   "id": "2ae23dff",
   "metadata": {},
   "source": [
    "### Exemplul 2: functie de 2 variabile"
   ]
  },
  {
   "cell_type": "markdown",
   "id": "06989615",
   "metadata": {},
   "source": [
    "Consideram functia:\n",
    "$$\n",
    "z(x, y) = x^2 + y^5 - x^2\\cdot y\n",
    "$$\n",
    "Derivatele partiale sunt:\n",
    "$$\n",
    "\\frac{\\partial z}{\\partial x} = 2x-2xy\n",
    "$$\n",
    "respectiv\n",
    "$$\n",
    "\\frac{\\partial z}{\\partial y} = 5y^4-x^2\n",
    "$$\n",
    "\n",
    "Pentru $x=3, y=4$ cele doua derivate partiale au valorile:\n",
    "$$\n",
    "\\frac{\\partial z}{\\partial x}(x, y) = -18\n",
    "$$\n",
    "si respectiv\n",
    "$$\n",
    "\\frac{\\partial z}{\\partial y}(x, y) = 1271\n",
    "$$"
   ]
  },
  {
   "cell_type": "code",
   "execution_count": 34,
   "id": "509edf72",
   "metadata": {
    "ExecuteTime": {
     "end_time": "2023-03-23T10:47:52.944628Z",
     "start_time": "2023-03-23T10:47:52.931625Z"
    }
   },
   "outputs": [],
   "source": [
    "x=torch.tensor(3.0, requires_grad=True)  \n",
    "y=torch.tensor(4.0, requires_grad=True) \n",
    "z=x**2+y**5-x**2*y  \n",
    "z.backward()  "
   ]
  },
  {
   "cell_type": "code",
   "execution_count": 35,
   "id": "cbd6a0ec",
   "metadata": {
    "ExecuteTime": {
     "end_time": "2023-03-23T10:47:52.960632Z",
     "start_time": "2023-03-23T10:47:52.951626Z"
    }
   },
   "outputs": [
    {
     "name": "stdout",
     "output_type": "stream",
     "text": [
      "gradient dupa x=-18.0\n",
      "gradient dupa y=1271.0\n"
     ]
    }
   ],
   "source": [
    "# recuparam gradientii dz/dx, dz/dy\n",
    "print(f'gradient dupa x={x.grad}\\ngradient dupa y={y.grad}')"
   ]
  },
  {
   "cell_type": "markdown",
   "id": "d5f0b3a4",
   "metadata": {},
   "source": [
    "### Exemplul 3: functie de eroare patratica, mai multe ponderi instruibile"
   ]
  },
  {
   "cell_type": "markdown",
   "id": "1b98b65c",
   "metadata": {},
   "source": [
    "In PyTorch se pot calculaautomat gradientii chiar daca sunt folositi in interiorul unor functii definite de utilizator."
   ]
  },
  {
   "cell_type": "code",
   "execution_count": 36,
   "id": "5141b073",
   "metadata": {
    "ExecuteTime": {
     "end_time": "2023-03-23T10:47:52.976629Z",
     "start_time": "2023-03-23T10:47:52.963626Z"
    }
   },
   "outputs": [
    {
     "name": "stdout",
     "output_type": "stream",
     "text": [
      "Verificam daca tensorul x e pregatit sa aiba gradient calculat: False\n",
      "Eroare de predictie: error=18.102209091186523\n",
      "Gradientii pentru w: tensor([ -8.5093, -34.0374,  25.5280, -42.5467, -34.0374])\n",
      "Gradientii pentru x nu se calculeaza, deoarece tensorul x are requires_grad=False\n",
      "\tx.grad is None=True\n"
     ]
    }
   ],
   "source": [
    "def f(w: torch.Tensor, x: torch.Tensor) -> torch.Tensor:\n",
    "    return x.dot(w)\n",
    "\n",
    "def error_function(y: torch.Tensor, y_hat: torch.Tensor) -> torch.Tensor:\n",
    "    return (y - y_hat) ** 2\n",
    "\n",
    "# x: valori de intrare\n",
    "x = torch.tensor([1.0, 4.0, -3.0, 5.0, 4.0])\n",
    "print(f'Verificam daca tensorul x e pregatit sa aiba gradient calculat: {x.requires_grad}')\n",
    "# w: ponderi\n",
    "w = torch.rand_like(x, requires_grad=True)\n",
    "\n",
    "ground_truth = 10\n",
    "\n",
    "# eroare patratica medie\n",
    "error = error_function(ground_truth, f(w, x))\n",
    "print(f'Eroare de predictie: error={error}')\n",
    "\n",
    "# se calculeaza gradientii de catre Pytorch\n",
    "error.backward()\n",
    "print(f'Gradientii pentru w: {w.grad}')\n",
    "\n",
    "print(f'Gradientii pentru x nu se calculeaza, deoarece tensorul x are requires_grad=False')\n",
    "print(f'\\tx.grad is None={x.grad is None}')"
   ]
  },
  {
   "cell_type": "code",
   "execution_count": 37,
   "id": "d86a397c",
   "metadata": {
    "ExecuteTime": {
     "end_time": "2023-03-23T10:47:52.991626Z",
     "start_time": "2023-03-23T10:47:52.979625Z"
    }
   },
   "outputs": [
    {
     "name": "stdout",
     "output_type": "stream",
     "text": [
      "Noua eroare: 2.0926127433776855\n"
     ]
    }
   ],
   "source": [
    "# aplicam un gradient descent manual: din ponderile actuale se scade gradientul \n",
    "# inmultit cu un learning rate mic\n",
    "lr = 0.01\n",
    "w = w - lr * w.grad\n",
    "error = error_function(ground_truth, f(w, x))\n",
    "print(f'Noua eroare: {error}')\n",
    "# se constata scaderea erorii"
   ]
  },
  {
   "cell_type": "markdown",
   "id": "8b890a66",
   "metadata": {},
   "source": [
    "## Optimizare manuala\n"
   ]
  },
  {
   "cell_type": "code",
   "execution_count": 38,
   "id": "34ac4442",
   "metadata": {
    "ExecuteTime": {
     "end_time": "2023-03-23T10:47:53.007627Z",
     "start_time": "2023-03-23T10:47:52.993626Z"
    }
   },
   "outputs": [],
   "source": [
    "# model de predictie\n",
    "def model(x, w, b):\n",
    "    return w * x + b\n",
    "\n",
    "# functia de cost\n",
    "def error(y_hat: torch.Tensor, y: torch.Tensor, weights: torch.Tensor, lmbda: float) -> torch.Tensor:\n",
    "    quality_error = torch.mean((y_hat - y)**2) \n",
    "    regularization = lmbda * weights.norm() ** 2\n",
    "    return quality_error + regularization"
   ]
  },
  {
   "cell_type": "code",
   "execution_count": 39,
   "id": "cdc100ed",
   "metadata": {
    "ExecuteTime": {
     "end_time": "2023-03-23T10:47:53.070625Z",
     "start_time": "2023-03-23T10:47:53.009626Z"
    }
   },
   "outputs": [
    {
     "name": "stdout",
     "output_type": "stream",
     "text": [
      "params.grad is None: True\n",
      "Iteration: 10, loss: 22.206819534301758\n",
      "Iteration: 20, loss: 4.172554969787598\n",
      "Iteration: 30, loss: 0.7844100594520569\n",
      "Iteration: 40, loss: 0.1478678286075592\n",
      "Iteration: 50, loss: 0.028277603909373283\n",
      "Iteration: 60, loss: 0.005807911511510611\n",
      "Iteration: 70, loss: 0.001584485056810081\n",
      "Iteration: 80, loss: 0.0007890488486737013\n",
      "Iteration: 90, loss: 0.0006376549135893583\n",
      "Iteration: 100, loss: 0.0006072467076592147\n"
     ]
    }
   ],
   "source": [
    "import matplotlib.pyplot as plt\n",
    "\n",
    "params = torch.tensor([1.0, 0.0], requires_grad=True)\n",
    "x = torch.tensor(20.0)\n",
    "\n",
    "# la inceput, gradientii pt ponderi nu sunt calculati \n",
    "print(f'params.grad is None: {params.grad is None}')\n",
    "\n",
    "y_true = torch.tensor(10)\n",
    "learning_rate = 0.0001\n",
    "n_iters = 100\n",
    "lmbda = 1.0\n",
    "\n",
    "losses = []\n",
    "\n",
    "for i in range(1, n_iters+1):\n",
    "    # gradientii calculati in mod repetat se acumuleaza (insumeaza cu gradientii calculati anterior) \n",
    "    # evitam aceasta insumare prin setarea lor explicita la 0\n",
    "    if params.grad is not None:\n",
    "        params.grad.zero_()\n",
    "        \n",
    "    y_hat = model(x, *params)\n",
    "    loss = error(y_hat, y_true, params[1:], lmbda)\n",
    "    losses.append(loss.detach().item())\n",
    "    if i % 10 == 0:\n",
    "        print(f'Iteration: {i}, loss: {loss}')\n",
    "    loss.backward()\n",
    "    \n",
    "    with torch.no_grad():\n",
    "        assert params.grad is not None\n",
    "        params -= learning_rate * params.grad"
   ]
  },
  {
   "cell_type": "markdown",
   "id": "090a1cac",
   "metadata": {},
   "source": [
    "Nota: daca celula de plot produce eroare, atunci se foloseste workaround de la [https://stackoverflow.com/questions/53014306/error-15-initializing-libiomp5-dylib-but-found-libiomp5-dylib-already-initial](https://stackoverflow.com/questions/53014306/error-15-initializing-libiomp5-dylib-but-found-libiomp5-dylib-already-initial):"
   ]
  },
  {
   "cell_type": "code",
   "execution_count": 40,
   "id": "319dd6b5",
   "metadata": {
    "ExecuteTime": {
     "end_time": "2023-03-23T10:47:53.086637Z",
     "start_time": "2023-03-23T10:47:53.072626Z"
    }
   },
   "outputs": [],
   "source": [
    "import os\n",
    "os.environ[\"KMP_DUPLICATE_LIB_OK\"]=\"TRUE\""
   ]
  },
  {
   "cell_type": "code",
   "execution_count": 41,
   "id": "83348ff6",
   "metadata": {
    "ExecuteTime": {
     "end_time": "2023-03-23T10:47:53.227595Z",
     "start_time": "2023-03-23T10:47:53.089630Z"
    }
   },
   "outputs": [
    {
     "data": {
      "image/png": "[encoded data removed]",
      "text/plain": [
       "<Figure size 640x480 with 1 Axes>"
      ]
     },
     "metadata": {},
     "output_type": "display_data"
    }
   ],
   "source": [
    "plt.plot(losses)\n",
    "plt.xlabel('Epoca')\n",
    "plt.ylabel('Cost')\n",
    "plt.show()"
   ]
  },
  {
   "cell_type": "markdown",
   "id": "18dd63f3",
   "metadata": {},
   "source": [
    "## Optimizatori Pytorch"
   ]
  },
  {
   "cell_type": "markdown",
   "id": "19584797",
   "metadata": {},
   "source": [
    "Mai sus s-a implementat in mod manual algoritmul de SGD, doar pentru a demonstra calculul gradientilor si efectul asupra ponderilor. De regula, se foloseste un agloritm de optimizare predefinit care aplica gradientii pe ponderi. O lista a optimizatorilor implementati in Pytorch este data mai jos."
   ]
  },
  {
   "cell_type": "code",
   "execution_count": 42,
   "id": "b53e94b7",
   "metadata": {
    "ExecuteTime": {
     "end_time": "2023-03-23T10:47:53.243604Z",
     "start_time": "2023-03-23T10:47:53.229605Z"
    }
   },
   "outputs": [
    {
     "data": {
      "text/plain": [
       "['ASGD',\n",
       " 'Adadelta',\n",
       " 'Adagrad',\n",
       " 'Adam',\n",
       " 'AdamW',\n",
       " 'Adamax',\n",
       " 'LBFGS',\n",
       " 'NAdam',\n",
       " 'Optimizer',\n",
       " 'RAdam',\n",
       " 'RMSprop',\n",
       " 'Rprop',\n",
       " 'SGD',\n",
       " 'SparseAdam']"
      ]
     },
     "execution_count": 42,
     "metadata": {},
     "output_type": "execute_result"
    }
   ],
   "source": [
    "import torch.optim as optim\n",
    "[opt for opt in dir(optim) if opt[0].isupper()]"
   ]
  },
  {
   "cell_type": "markdown",
   "id": "d2dfb50a",
   "metadata": {},
   "source": [
    "Fiecare optimizator preia o lista de parametri (de ex ponderile unui model de predictie). Dupa ce gradientii pentru minibatchul curent sunt calculati, se aplica in mod corespunzator pe ponderi. "
   ]
  },
  {
   "cell_type": "code",
   "execution_count": 43,
   "id": "5ce95698",
   "metadata": {
    "ExecuteTime": {
     "end_time": "2023-03-23T10:47:53.259602Z",
     "start_time": "2023-03-23T10:47:53.245602Z"
    }
   },
   "outputs": [],
   "source": [
    "x = torch.tensor(20.0)\n",
    "params = torch.tensor([1.0, 0.0], requires_grad=True)\n",
    "learning_rate = 1e-3\n",
    "optimizer = optim.SGD([params], lr=learning_rate)"
   ]
  },
  {
   "cell_type": "markdown",
   "id": "806256f6",
   "metadata": {},
   "source": [
    "Secventa care urmeaza are acelasi scop ca si ciclarea din sectiunea anterioara: se modifica ponderile pentru a face minimizarea functiei `error`."
   ]
  },
  {
   "cell_type": "code",
   "execution_count": 44,
   "id": "eb432667",
   "metadata": {
    "ExecuteTime": {
     "end_time": "2023-03-23T10:47:53.322601Z",
     "start_time": "2023-03-23T10:47:53.260603Z"
    }
   },
   "outputs": [
    {
     "name": "stdout",
     "output_type": "stream",
     "text": [
      "Iteration: 1, loss: 100.0\n",
      "Iteration: 2, loss: 3.9207983016967773\n",
      "Iteration: 3, loss: 0.15429987013339996\n",
      "Iteration: 4, loss: 0.006642207968980074\n",
      "Iteration: 5, loss: 0.0008512443164363503\n",
      "Iteration: 6, loss: 0.000621881103143096\n",
      "Iteration: 7, loss: 0.0006105515058152378\n",
      "Iteration: 8, loss: 0.000607771216891706\n",
      "Iteration: 9, loss: 0.0006053348770365119\n",
      "Iteration: 10, loss: 0.0006029214127920568\n",
      "Iteration: 11, loss: 0.0006005181348882616\n",
      "Iteration: 12, loss: 0.000598124461248517\n",
      "Iteration: 13, loss: 0.0005957404500804842\n",
      "Iteration: 14, loss: 0.0005933656939305365\n",
      "Iteration: 15, loss: 0.0005910006002523005\n",
      "Iteration: 16, loss: 0.0005886448197998106\n",
      "Iteration: 17, loss: 0.0005862982361577451\n",
      "Iteration: 18, loss: 0.0005839611985720694\n",
      "Iteration: 19, loss: 0.0005816334742121398\n",
      "Iteration: 20, loss: 0.0005793151794932783\n",
      "Iteration: 21, loss: 0.0005770060233771801\n",
      "Iteration: 22, loss: 0.0005747061804868281\n",
      "Iteration: 23, loss: 0.0005724154179915786\n",
      "Iteration: 24, loss: 0.0005701337940990925\n",
      "Iteration: 25, loss: 0.0005678612506017089\n",
      "Iteration: 26, loss: 0.0005655977874994278\n",
      "Iteration: 27, loss: 0.0005633432883769274\n",
      "Iteration: 28, loss: 0.0005610977532342076\n",
      "Iteration: 29, loss: 0.0005588610656559467\n",
      "Iteration: 30, loss: 0.0005566334584727883\n",
      "Iteration: 31, loss: 0.0005544146406464279\n",
      "Iteration: 32, loss: 0.0005522047867998481\n",
      "Iteration: 33, loss: 0.0005500036641024053\n",
      "Iteration: 34, loss: 0.0005478113889694214\n",
      "Iteration: 35, loss: 0.0005456277285702527\n",
      "Iteration: 36, loss: 0.0005434528575278819\n",
      "Iteration: 37, loss: 0.0005412864848040044\n",
      "Iteration: 38, loss: 0.0005391290178522468\n",
      "Iteration: 39, loss: 0.0005369800492189825\n",
      "Iteration: 40, loss: 0.0005348395206965506\n",
      "Iteration: 41, loss: 0.0005327076651155949\n",
      "Iteration: 42, loss: 0.0005305844824761152\n",
      "Iteration: 43, loss: 0.0005284695071168244\n",
      "Iteration: 44, loss: 0.0005263631464913487\n",
      "Iteration: 45, loss: 0.0005242649931460619\n",
      "Iteration: 46, loss: 0.0005221752799116075\n",
      "Iteration: 47, loss: 0.0005200940067879856\n",
      "Iteration: 48, loss: 0.0005180207663215697\n",
      "Iteration: 49, loss: 0.0005159559659659863\n",
      "Iteration: 50, loss: 0.0005138994310982525\n",
      "Iteration: 51, loss: 0.0005118509288877249\n",
      "Iteration: 52, loss: 0.000509810633957386\n",
      "Iteration: 53, loss: 0.0005077786045148969\n",
      "Iteration: 54, loss: 0.0005057546077296138\n",
      "Iteration: 55, loss: 0.0005037385853938758\n",
      "Iteration: 56, loss: 0.0005017306539230049\n",
      "Iteration: 57, loss: 0.00049973075510934\n",
      "Iteration: 58, loss: 0.0004977386561222374\n",
      "Iteration: 59, loss: 0.0004957547062076628\n",
      "Iteration: 60, loss: 0.0004937786725349724\n",
      "Iteration: 61, loss: 0.0004918103804811835\n",
      "Iteration: 62, loss: 0.0004898500046692789\n",
      "Iteration: 63, loss: 0.0004878975742030889\n",
      "Iteration: 64, loss: 0.00048595271073281765\n",
      "Iteration: 65, loss: 0.0004840158799197525\n",
      "Iteration: 66, loss: 0.00048208649968728423\n",
      "Iteration: 67, loss: 0.0004801649774890393\n",
      "Iteration: 68, loss: 0.00047825108049437404\n",
      "Iteration: 69, loss: 0.0004763447504956275\n",
      "Iteration: 70, loss: 0.0004744461621157825\n",
      "Iteration: 71, loss: 0.0004725549661088735\n",
      "Iteration: 72, loss: 0.0004706713370978832\n",
      "Iteration: 73, loss: 0.00046879539149813354\n",
      "Iteration: 74, loss: 0.00046692678006365895\n",
      "Iteration: 75, loss: 0.0004650656774174422\n",
      "Iteration: 76, loss: 0.00046321196714416146\n",
      "Iteration: 77, loss: 0.0004613656783476472\n",
      "Iteration: 78, loss: 0.000459526723716408\n",
      "Iteration: 79, loss: 0.00045769510325044394\n",
      "Iteration: 80, loss: 0.00045587081694975495\n",
      "Iteration: 81, loss: 0.00045405369019135833\n",
      "Iteration: 82, loss: 0.00045224386849440634\n",
      "Iteration: 83, loss: 0.00045044123544357717\n",
      "Iteration: 84, loss: 0.00044864576193504035\n",
      "Iteration: 85, loss: 0.000446857389761135\n",
      "Iteration: 86, loss: 0.00044507632264867425\n",
      "Iteration: 87, loss: 0.0004433022113516927\n",
      "Iteration: 88, loss: 0.0004415352887008339\n",
      "Iteration: 89, loss: 0.00043977529276162386\n",
      "Iteration: 90, loss: 0.0004380222235340625\n",
      "Iteration: 91, loss: 0.0004362761974334717\n",
      "Iteration: 92, loss: 0.00043453715625219047\n",
      "Iteration: 93, loss: 0.00043280518730171025\n",
      "Iteration: 94, loss: 0.00043107994133606553\n",
      "Iteration: 95, loss: 0.00042936153477057815\n",
      "Iteration: 96, loss: 0.0004276501713320613\n",
      "Iteration: 97, loss: 0.00042594553087837994\n",
      "Iteration: 98, loss: 0.0004242476134095341\n",
      "Iteration: 99, loss: 0.00042255656444467604\n",
      "Iteration: 100, loss: 0.0004208721511531621\n"
     ]
    }
   ],
   "source": [
    "losses = []\n",
    "\n",
    "for epoch in range(1, n_iters + 1):\n",
    "    y_hat = model(x, *params)\n",
    "    loss = error(y_hat, y_true, params[1:],  lmbda)\n",
    "    losses.append(loss.item())\n",
    "    print(f'Iteration: {epoch}, loss: {loss}')\n",
    "    # se pun gradientii anterior calculati pe 0. Intrucat optimizatorul este responsabil cu \n",
    "    # managementul ponderilor, resetarea gradientilor este facuta prin intermediul lui\n",
    "    optimizer.zero_grad()\n",
    "    \n",
    "    # calcul de derivate partiale\n",
    "    loss.backward()  \n",
    "    \n",
    "    # se modifica ponderile folosind gradientii calculati de apelul backward()\n",
    "    optimizer.step()"
   ]
  },
  {
   "cell_type": "code",
   "execution_count": 45,
   "id": "e993e1bf",
   "metadata": {
    "ExecuteTime": {
     "end_time": "2023-03-23T10:47:53.479602Z",
     "start_time": "2023-03-23T10:47:53.325606Z"
    }
   },
   "outputs": [
    {
     "data": {
      "image/png": "[encoded data removed]",
      "text/plain": [
       "<Figure size 640x480 with 1 Axes>"
      ]
     },
     "metadata": {},
     "output_type": "display_data"
    }
   ],
   "source": [
    "plt.plot(losses)\n",
    "plt.xlabel('Epoca')\n",
    "plt.ylabel('Cost')\n",
    "plt.show()"
   ]
  },
  {
   "cell_type": "code",
   "execution_count": null,
   "id": "fb91d8d2",
   "metadata": {},
   "outputs": [],
   "source": []
  }
 ],
 "metadata": {
  "kernelspec": {
   "display_name": "Python 3 (ipykernel)",
   "language": "python",
   "name": "python3"
  },
  "language_info": {
   "codemirror_mode": {
    "name": "ipython",
    "version": 3
   },
   "file_extension": ".py",
   "mimetype": "text/x-python",
   "name": "python",
   "nbconvert_exporter": "python",
   "pygments_lexer": "ipython3",
   "version": "3.10.9"
  },
  "toc": {
   "base_numbering": 1,
   "nav_menu": {},
   "number_sections": true,
   "sideBar": true,
   "skip_h1_title": false,
   "title_cell": "Table of Contents",
   "title_sidebar": "Contents",
   "toc_cell": false,
   "toc_position": {
    "height": "calc(100% - 180px)",
    "left": "10px",
    "top": "150px",
    "width": "167.7px"
   },
   "toc_section_display": true,
   "toc_window_display": false
  },
  "varInspector": {
   "cols": {
    "lenName": 16,
    "lenType": 16,
    "lenVar": 40
   },
   "kernels_config": {
    "python": {
     "delete_cmd_postfix": "",
     "delete_cmd_prefix": "del ",
     "library": "var_list.py",
     "varRefreshCmd": "print(var_dic_list())"
    },
    "r": {
     "delete_cmd_postfix": ") ",
     "delete_cmd_prefix": "rm(",
     "library": "var_list.r",
     "varRefreshCmd": "cat(var_dic_list()) "
    }
   },
   "types_to_exclude": [
    "module",
    "function",
    "builtin_function_or_method",
    "instance",
    "_Feature"
   ],
   "window_display": false
  }
 },
 "nbformat": 4,
 "nbformat_minor": 5
}
