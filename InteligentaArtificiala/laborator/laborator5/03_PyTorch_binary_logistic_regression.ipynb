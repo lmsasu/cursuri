{
 "cells": [
  {
   "cell_type": "markdown",
   "id": "92a96f29",
   "metadata": {},
   "source": [
    "# Model de regresie logistica binara antrenat cu Pytorch"
   ]
  },
  {
   "cell_type": "markdown",
   "id": "c4977baf",
   "metadata": {},
   "source": [
    "Bibliografie:\n",
    "1. Deep Learning with PyTorch, Eli Stevens, Luca Antiga, Thomas Viehmann, Manning; 1st edition (August 4, 2020)\n",
    "1. PyTorch Pocket Reference: Building and Deploying Deep Learning Models, by Joe Papa, O'Reilly Media; 1st edition (June 1, 2021)\n",
    "\n",
    "Optimizari de performanta: [PYTORCH PERFORMANCE TUNING GUIDE](https://tigress-web.princeton.edu/~jdh4/PyTorchPerformanceTuningGuide_GTC2021.pdf)"
   ]
  },
  {
   "cell_type": "markdown",
   "id": "21ef8899",
   "metadata": {},
   "source": [
    "## Setul de date MNIST"
   ]
  },
  {
   "cell_type": "markdown",
   "id": "0adae0fb",
   "metadata": {},
   "source": [
    "Setul de date MNIST consta din desenele alb-negru ale cifrelor 0-9 desenate de mana; fiecare cifra este vazuta ca un tensor 3 de forma 1x28x28; primul numar reprezinta numarul de canale. Cateva exemple sunt in figura de mai jos.\n",
    "![Exemplu set MNIST](./images/mnist.png \"Exemplu set MNIST\")."
   ]
  },
  {
   "cell_type": "markdown",
   "id": "9ea2ac03",
   "metadata": {},
   "source": [
    "## Importarea pachetelor necesare "
   ]
  },
  {
   "cell_type": "code",
   "execution_count": 1,
   "id": "7fa7c544",
   "metadata": {
    "ExecuteTime": {
     "end_time": "2023-03-23T11:37:01.794654Z",
     "start_time": "2023-03-23T11:36:58.936631Z"
    }
   },
   "outputs": [
    {
     "name": "stdout",
     "output_type": "stream",
     "text": [
      "Using PyTorch version: 2.0.0+cu118  Device: cuda\n"
     ]
    }
   ],
   "source": [
    "import torch\n",
    "import torch.nn as nn\n",
    "import torch.nn.functional as F\n",
    "from torchvision import datasets, transforms\n",
    "\n",
    "import numpy as np\n",
    "import matplotlib.pyplot as plt\n",
    "\n",
    "if torch.cuda.is_available():\n",
    "    device = torch.device('cuda')\n",
    "else:\n",
    "    device = torch.device('cpu')\n",
    "    \n",
    "print('Using PyTorch version:', torch.__version__, ' Device:', device)"
   ]
  },
  {
   "cell_type": "markdown",
   "id": "85ef5fff",
   "metadata": {},
   "source": [
    "Pachetul torch-summary este util pentru obtinerea sumarului unui model instruibil: numar de ponderi instruibile, dimensiune etc. "
   ]
  },
  {
   "cell_type": "code",
   "execution_count": 2,
   "id": "114e437a",
   "metadata": {
    "ExecuteTime": {
     "end_time": "2023-03-23T11:37:05.961742Z",
     "start_time": "2023-03-23T11:37:01.796653Z"
    }
   },
   "outputs": [
    {
     "name": "stdout",
     "output_type": "stream",
     "text": [
      "Requirement already satisfied: torch-summary in c:\\users\\lucian\\anaconda3\\envs\\ia\\lib\\site-packages (1.4.5)\n"
     ]
    }
   ],
   "source": [
    "!pip install torch-summary"
   ]
  },
  {
   "cell_type": "code",
   "execution_count": 3,
   "id": "6f9df101",
   "metadata": {
    "ExecuteTime": {
     "end_time": "2023-03-23T11:37:05.977740Z",
     "start_time": "2023-03-23T11:37:05.964703Z"
    }
   },
   "outputs": [],
   "source": [
    "from torchsummary import summary"
   ]
  },
  {
   "cell_type": "markdown",
   "id": "fca71ed9",
   "metadata": {},
   "source": [
    "## Pregatirea setului de date: clasa de tip Dataset"
   ]
  },
  {
   "cell_type": "markdown",
   "id": "461283f4",
   "metadata": {},
   "source": [
    "Sursa: [Tutorial Dataset & Dataloaders](https://pytorch.org/tutorials/beginner/basics/data_tutorial.html?highlight=dataset)"
   ]
  },
  {
   "cell_type": "markdown",
   "id": "3765c1b0",
   "metadata": {},
   "source": [
    "In Pytorch, setul de date este facut disponibil printr-o clasa de tip `Dataset`. Vom face o implementare de clasa `MNISTDataset`care sa citeasca din fisierele CSV aflate in directorul ./data.\n",
    "\n",
    "Trebuie sa urmam pasii:\n",
    "1. Clasa noastra `MNISTDataset` se va deriva din clasa `torch.utils.data.Dataset`. Metoda `__init__` va primi locatia fisierului CSV de intrare. Pentru regresia bianra va primi si cifrele pentru care se doreste a se construi un clasificator binar.\n",
    "1. Pe langa metoda `__init__` vom mai avea doua metode implementate:\n",
    "    1. metoda `__len__` care returneaza numarul de elemente din setul de date\n",
    "    1. metoda `__getitem__` care returneaza valoarea de indice specificat. Prin valoare, pentru aceasta problema, ne referim la tuplul: vector de intrare de 784 de componente si eticheta (1 = clasa pozitiva, 0 = clasa negativa)"
   ]
  },
  {
   "cell_type": "code",
   "execution_count": 4,
   "id": "4f22b494",
   "metadata": {
    "ExecuteTime": {
     "end_time": "2023-03-23T11:37:05.992740Z",
     "start_time": "2023-03-23T11:37:05.979742Z"
    }
   },
   "outputs": [],
   "source": [
    "# importam clasa de baza Dataset:\n",
    "from torch.utils.data import Dataset"
   ]
  },
  {
   "cell_type": "code",
   "execution_count": 5,
   "id": "84870978",
   "metadata": {
    "ExecuteTime": {
     "end_time": "2023-03-23T11:37:06.291734Z",
     "start_time": "2023-03-23T11:37:05.993741Z"
    }
   },
   "outputs": [],
   "source": [
    "# pentru citire de fisier cvs, verificare cai etc:\n",
    "import pandas as pd\n",
    "import os\n",
    "from typing import Tuple"
   ]
  },
  {
   "cell_type": "code",
   "execution_count": 6,
   "id": "a67d056f",
   "metadata": {
    "ExecuteTime": {
     "end_time": "2023-03-23T11:37:06.306836Z",
     "start_time": "2023-03-23T11:37:06.293735Z"
    }
   },
   "outputs": [],
   "source": [
    "class MNISTDataset(Dataset):\n",
    "    \n",
    "    def __init__(self, path_csv: str, positive_class: int, negative_class: int):\n",
    "        \"\"\"\n",
    "        Initializeaza setul de date, folosind o cale catre fisier csv si indicatie despre clasa pozitiva si negativa\n",
    "        :param path_csv: cale catre fisier CSV care contine date de train sau test\n",
    "        :param positive_class: indice de clasa pozitiva, numar 0...9\n",
    "        :param negative_class: indice de clasa negativa, numar 0...9 diferit de :param positive_class:\n",
    "        \"\"\"\n",
    "        # pt clasa derivata se obisnuieste apelul de initializator de clasa parinte \n",
    "        super(MNISTDataset, self).__init__()\n",
    "        assert os.path.exists(path_csv) and os.path.isfile(path_csv), f'Calea {path_csv} nu indica spre un fisier'\n",
    "        assert 0 <= positive_class <= 9 and 0 <= negative_class <= 9 and positive_class != negative_class\n",
    "        self.path_csv = path_csv\n",
    "        \n",
    "        _all_digits = pd.read_csv(path_csv, header=None).values\n",
    "        # valorile de intrare in x, etichetele in y \n",
    "        _y = _all_digits[:, 0]\n",
    "        _x = _all_digits[:, 1:]\n",
    "        # valorile 0..255 din setul de intrare _x sunt scalate la 0..1\n",
    "        _x = _x / 255\n",
    "\n",
    "        # gasim indicii cazurile in care etichetele sunt positive_class sau negative_class\n",
    "        _mask_pos_neg = np.logical_or(_y == positive_class, _y == negative_class)\n",
    "        # pastram doar cazurile pozitive si negative\n",
    "        self.x = _x[_mask_pos_neg]\n",
    "        self.y = _y[_mask_pos_neg]\n",
    "\n",
    "        self.y[self.y == positive_class] = 1\n",
    "        self.y[self.y == negative_class] = 0\n",
    "        \n",
    "        # convertim din numpy array in torch tensors:\n",
    "        self.x = torch.Tensor(self.x)\n",
    "        self.y = torch.Tensor(self.y)\n",
    "        \n",
    "    def __len__(self):\n",
    "        \"\"\"\n",
    "        Returneaza lungimea setului de date curent\n",
    "        :return: lungimea setului de date\n",
    "        \"\"\"\n",
    "        return len(self.y)\n",
    "    \n",
    "    def __getitem__(self, index: int) -> Tuple[torch.Tensor, torch.Tensor]:\n",
    "        \"\"\"\n",
    "        Returneaza perechea (intrare, eticheta_asociata) de pe pozitia :param index:\n",
    "        :param index: pozitia de pe care se returneaza vectorul si clasa lui\n",
    "        :return: pereche: vector de intarre de 784 de elemente, eticheta clasa 0 sau 1\n",
    "        \"\"\"\n",
    "        return self.x[index, :], self.y[index]"
   ]
  },
  {
   "cell_type": "code",
   "execution_count": 7,
   "id": "77d8c3e4",
   "metadata": {
    "ExecuteTime": {
     "end_time": "2023-03-23T11:37:09.920307Z",
     "start_time": "2023-03-23T11:37:06.310825Z"
    }
   },
   "outputs": [],
   "source": [
    "positive_class = 8\n",
    "negative_class = 4\n",
    "train_ds = MNISTDataset('./data/mnist_train.csv', positive_class, negative_class)\n",
    "test_ds = MNISTDataset('./data/mnist_test.csv', positive_class, negative_class)\n",
    "\n",
    "assert len(train_ds) == 11693\n",
    "assert len(test_ds) == 1956"
   ]
  },
  {
   "cell_type": "markdown",
   "id": "27a71666",
   "metadata": {},
   "source": [
    "## Incarcarea datelor folosind un DataLoader\n",
    "Sursa: [Tutorial Dataset & Dataloaders](https://pytorch.org/tutorials/beginner/basics/data_tutorial.html?highlight=dataset)"
   ]
  },
  {
   "cell_type": "markdown",
   "id": "d36ad434",
   "metadata": {},
   "source": [
    "Un obiect Dataset da acces la valorile dintr-un set, element cu element. Pentru antrenare se prefera gruparea de mai multe date, pentru a face calculul mai eficient. Un grup da date se numeste minibatch. Gruparea datelor in minibatch-uri este facuta de catre un DataLoader. Acesta primeste parametri precum: \n",
    "* obiectul dataset din care preia datele\n",
    "* dimensiunea minibatch-ului\n",
    "* daca se doreste amestecarea aleatoare a setului de date\n",
    "* etc. "
   ]
  },
  {
   "cell_type": "markdown",
   "id": "6dabb53d",
   "metadata": {},
   "source": [
    "Uneori seturile de date sunt suficient de mici ca sa poate fi incarcate in memoria GPU, pentru calcul de gradienti. De multe ori, insa, seturile sunt prea mari si atunci se prefera impartirea lor in subseturi de date (minibatches). Mai jos folosim minibatch-uri de 32 de date, valoare specificata in parametrii `batch_size`."
   ]
  },
  {
   "cell_type": "code",
   "execution_count": 8,
   "id": "9ac0500d",
   "metadata": {
    "ExecuteTime": {
     "end_time": "2023-03-23T11:37:09.936307Z",
     "start_time": "2023-03-23T11:37:09.921297Z"
    }
   },
   "outputs": [],
   "source": [
    "from torch.utils.data import DataLoader"
   ]
  },
  {
   "cell_type": "code",
   "execution_count": 9,
   "id": "c53c6cbe",
   "metadata": {
    "ExecuteTime": {
     "end_time": "2023-03-23T11:37:09.952318Z",
     "start_time": "2023-03-23T11:37:09.941296Z"
    }
   },
   "outputs": [
    {
     "name": "stdout",
     "output_type": "stream",
     "text": [
      "torch.Size([32, 784]) torch.Size([32])\n"
     ]
    }
   ],
   "source": [
    "batch_size = 32 # in functie de memoria disponibila pe GPU\n",
    "train_loader = DataLoader(train_ds, batch_size=batch_size, shuffle=True)\n",
    "test_loader = DataLoader(test_ds, batch_size=batch_size)\n",
    "\n",
    "# pentru primul minibatch tiparim 'shape'\n",
    "# datele de intrare ar tb sa fie un tensor de forma (batch_size x 784)\n",
    "# etichetele ar trebui sa fie un tensor de forma batch_size\n",
    "for data, label in train_loader:\n",
    "    print(data.shape, label.shape)\n",
    "    break\n",
    "    \n",
    "# restul de minibatchuri arata la fel, eventual exceptand ultimul minibatch"
   ]
  },
  {
   "cell_type": "markdown",
   "id": "d82cd5d9",
   "metadata": {},
   "source": [
    "## Definirea modelului\n",
    "\n",
    "In Pytorch un model este o clasa derivata din `torch.nn.Module`. Esentiale sunt implementarea de:\n",
    "* metoda de initializare, `__init__`\n",
    "* metoda `forward` care preia un minibatch de intrare si produce o estimare\n",
    "\n",
    "Metoda de initializare construieste ponderile. "
   ]
  },
  {
   "cell_type": "code",
   "execution_count": 10,
   "id": "b1b08b92",
   "metadata": {
    "ExecuteTime": {
     "end_time": "2023-03-23T11:37:09.968325Z",
     "start_time": "2023-03-23T11:37:09.953297Z"
    }
   },
   "outputs": [],
   "source": [
    "class BinaryLogisticRegression(nn.Module):\n",
    "    def __init__(self, input_size: int = 784):\n",
    "        \"\"\"\n",
    "        Initializarea unui obiect de tip LogisticRegression\n",
    "        :param input_size: dimensiunea unui vector de intrare. De ex, pt MINST este 784\n",
    "        \"\"\"\n",
    "        # pt clasa derivata se obisnuieste apelul de initializator de clasa parinte\n",
    "        super(BinaryLogisticRegression, self).__init__()\n",
    "        self.input_size = input_size\n",
    "        # initializam ponderile ca o matrice de input_size x 1 elemente aleatoare\n",
    "        # matrice = operator liniar\n",
    "        self.fully_connected = nn.Linear(input_size, 1)\n",
    "\n",
    "    def forward(self, x):\n",
    "        # x este un minibatch de exemplu de forma 32x784 (ultimul minibatch poate avea mai putin de 32 de tensori)\n",
    "\n",
    "        # se propaga dinspre stratul de intrare spre primul strat ascuns\n",
    "        # aplicarea unei functii liniare este echivalenta cu inmulttirea unei matrice cu intrarea curenta\n",
    "        x = self.fully_connected(x)\n",
    "        \n",
    "        # se aplica functia logistic sigmoid pentru a obtine probabilitatea conditionata\n",
    "        x = torch.sigmoid(x)\n",
    "        \n",
    "        return x"
   ]
  },
  {
   "cell_type": "markdown",
   "id": "7ddcb593",
   "metadata": {},
   "source": [
    "Instantiem modelul:"
   ]
  },
  {
   "cell_type": "code",
   "execution_count": 11,
   "id": "39ce99b7",
   "metadata": {
    "ExecuteTime": {
     "end_time": "2023-03-23T11:37:09.983677Z",
     "start_time": "2023-03-23T11:37:09.970307Z"
    }
   },
   "outputs": [],
   "source": [
    "model = BinaryLogisticRegression(input_size=784)"
   ]
  },
  {
   "cell_type": "markdown",
   "id": "2b5377c7",
   "metadata": {},
   "source": [
    "Tiparim modelul:"
   ]
  },
  {
   "cell_type": "code",
   "execution_count": 12,
   "id": "e5dabf1e",
   "metadata": {
    "ExecuteTime": {
     "end_time": "2023-03-23T11:37:09.999666Z",
     "start_time": "2023-03-23T11:37:09.986669Z"
    }
   },
   "outputs": [
    {
     "name": "stdout",
     "output_type": "stream",
     "text": [
      "BinaryLogisticRegression(\n",
      "  (fully_connected): Linear(in_features=784, out_features=1, bias=True)\n",
      ")\n"
     ]
    }
   ],
   "source": [
    "print(model)"
   ]
  },
  {
   "cell_type": "markdown",
   "id": "4a44fe5e",
   "metadata": {},
   "source": [
    "Mai multe detalii se afla cu functia `summary()`:"
   ]
  },
  {
   "cell_type": "code",
   "execution_count": 13,
   "id": "8228a238",
   "metadata": {
    "ExecuteTime": {
     "end_time": "2023-03-23T11:37:10.015667Z",
     "start_time": "2023-03-23T11:37:10.003666Z"
    }
   },
   "outputs": [
    {
     "name": "stdout",
     "output_type": "stream",
     "text": [
      "=================================================================\n",
      "Layer (type:depth-idx)                   Param #\n",
      "=================================================================\n",
      "├─Linear: 1-1                            785\n",
      "=================================================================\n",
      "Total params: 785\n",
      "Trainable params: 785\n",
      "Non-trainable params: 0\n",
      "=================================================================\n"
     ]
    }
   ],
   "source": [
    "summary(model);"
   ]
  },
  {
   "cell_type": "markdown",
   "id": "e4f78e20",
   "metadata": {},
   "source": [
    "Trecem modelul pe device. Daca device=cpu, atunci linia de mai jos nu are niciun efect. Daca device=cuda, atunci modelul este trecut in GPU si rularea va fi mai rapida:"
   ]
  },
  {
   "cell_type": "code",
   "execution_count": 14,
   "id": "17f3c11d",
   "metadata": {
    "ExecuteTime": {
     "end_time": "2023-03-23T11:37:10.159664Z",
     "start_time": "2023-03-23T11:37:10.018667Z"
    }
   },
   "outputs": [
    {
     "name": "stdout",
     "output_type": "stream",
     "text": [
      "device=cuda\n"
     ]
    },
    {
     "data": {
      "text/plain": [
       "BinaryLogisticRegression(\n",
       "  (fully_connected): Linear(in_features=784, out_features=1, bias=True)\n",
       ")"
      ]
     },
     "execution_count": 14,
     "metadata": {},
     "output_type": "execute_result"
    }
   ],
   "source": [
    "print(f'device={device}')\n",
    "model.to(device)"
   ]
  },
  {
   "cell_type": "markdown",
   "id": "279a9684",
   "metadata": {},
   "source": [
    "## Scurt demo: ce prezice modelul pentru primul minibatch din setul de antrenare?"
   ]
  },
  {
   "cell_type": "code",
   "execution_count": 15,
   "id": "e1b9f590",
   "metadata": {
    "ExecuteTime": {
     "end_time": "2023-03-23T11:37:11.963659Z",
     "start_time": "2023-03-23T11:37:10.161665Z"
    }
   },
   "outputs": [
    {
     "name": "stdout",
     "output_type": "stream",
     "text": [
      "Predictii (probabilitati): tensor([0.4465, 0.4067, 0.5130, 0.4092, 0.4184, 0.4147, 0.4461, 0.4950, 0.4217,\n",
      "        0.4280, 0.4587, 0.4631, 0.4530, 0.4857, 0.3890, 0.5012, 0.4336, 0.4645,\n",
      "        0.4840, 0.4472, 0.5090, 0.4392, 0.4150, 0.4096, 0.4841, 0.4992, 0.4397,\n",
      "        0.4564, 0.4479, 0.4598, 0.4942, 0.4621], device='cuda:0',\n",
      "       grad_fn=<SqueezeBackward0>)\n",
      "Cate clase au fost prezise corect:  tensor(18, device='cuda:0')\n"
     ]
    }
   ],
   "source": [
    "for x, y in train_loader:\n",
    "    # datele si modelul trebuie sa fie pe acelasi device, altfel calculele nu se pot efectua\n",
    "    x, y = x.to(device), y.to(device)\n",
    "    \n",
    "    # produce predictia, tensor plin cu probabilitati\n",
    "    y_hat = model(x).squeeze()\n",
    "    print(f'Predictii (probabilitati): {y_hat}')\n",
    "    \n",
    "    # daca probabilitatea conditionata este >= 0.5, atunci modelul prezice clasa pozitiva (1), altfel 0 \n",
    "    clase = y_hat >= 0.5\n",
    "    # clase e un vector de booleni; True = 1, False = 0\n",
    "    print('Cate clase au fost prezise corect: ', (clase == y).sum())\n",
    "    \n",
    "    # ne oprim dupa primul minibatch aici, e doar pentru a vedea cum arata predictiile facute de model\n",
    "    break "
   ]
  },
  {
   "cell_type": "markdown",
   "id": "2377b05e",
   "metadata": {},
   "source": [
    "## Antrenarea modelului\n",
    "\n",
    "Vom avea mai multe epoci de antrenare. In fiecare epoca:\n",
    "* se parcurg toate minibatchurile de date din train_loader\n",
    "* se calculeaza functie de eroare pe minibatch, se calculeaza gradientii, se aplica gradientii pentru modificarea ponderilor\n",
    "* la finalul fiecarei epoci se ruleaza modelul pe setul de testare, pentru a vedea acuratetea obtinuta"
   ]
  },
  {
   "cell_type": "code",
   "execution_count": 16,
   "id": "4e3a34a1",
   "metadata": {
    "ExecuteTime": {
     "end_time": "2023-03-23T11:37:11.978858Z",
     "start_time": "2023-03-23T11:37:11.966659Z"
    }
   },
   "outputs": [],
   "source": [
    "def test(model: nn.Module, loader: DataLoader, device: torch.device) -> float:\n",
    "    \"\"\"\n",
    "    Testeaza modelul pe datele furnizate de :param loader:\n",
    "    :param model: model de regresie logistica binara\n",
    "    :param loader: un dataloader care furnizeaza datele din setul peset care se testeaza\n",
    "    :param device: pe ce device se afla modelul (cpu, gpu, tpu etc)\n",
    "    :return: acuratetea de predictie\n",
    "    \"\"\"\n",
    "    # initializare valori pt statistica\n",
    "    correctly_classified = 0\n",
    "    total_items = 0\n",
    "    # cand se face testarea, modelul nu mai invata. El e trecut explicit in mod de testare\n",
    "    model.eval()\n",
    "    # dezactivam urmarirea automata a tensorilor pentru care se pot calcula gradienti:\n",
    "    # gradientii sunt folositidoar la antrenare, nu si la testare\n",
    "    with torch.no_grad():\n",
    "        for x, y in loader:\n",
    "            # trecem datele din setul de testare pe acelasi device ca si modelul\n",
    "            x, y = x.to(device), y.to(device)\n",
    "            \n",
    "            # modelul prezice probabilitatile conditionate pentru minibatchul curent\n",
    "            y_hat = model(x).squeeze()\n",
    "            \n",
    "            # predictia e clasa pozitiva daca probabilitatea e >=0.5, altfel clasa negativa\n",
    "            predicted_class = y_hat >= 0.5\n",
    "            \n",
    "            correctly_classified += torch.sum(predicted_class == y)\n",
    "            total_items += len(x)\n",
    "    accuracy = correctly_classified / total_items\n",
    "    return accuracy.cpu().detach().item()"
   ]
  },
  {
   "cell_type": "markdown",
   "id": "fd862239",
   "metadata": {
    "ExecuteTime": {
     "end_time": "2023-03-22T20:56:32.670041Z",
     "start_time": "2023-03-22T20:56:32.658015Z"
    }
   },
   "source": [
    "Acuratetea modelulului neantrenat pe setul de testare este:"
   ]
  },
  {
   "cell_type": "code",
   "execution_count": 17,
   "id": "923c46da",
   "metadata": {
    "ExecuteTime": {
     "end_time": "2023-03-23T11:37:12.042896Z",
     "start_time": "2023-03-23T11:37:11.980860Z"
    }
   },
   "outputs": [
    {
     "name": "stdout",
     "output_type": "stream",
     "text": [
      "Acuratetea modelului neantrenat: 60.88957190513611%\n"
     ]
    }
   ],
   "source": [
    "acc = test(model, test_loader, device)\n",
    "print(f'Acuratetea modelului neantrenat: {acc * 100}%')"
   ]
  },
  {
   "cell_type": "markdown",
   "id": "ae8ea507",
   "metadata": {},
   "source": [
    "Instantiem optimizator. Folosim un algoritm de tip Stochastic Gradient Descent, cu weight decay (echivalent cu regularizare L2): "
   ]
  },
  {
   "cell_type": "code",
   "execution_count": 18,
   "id": "9e005d7d",
   "metadata": {
    "ExecuteTime": {
     "end_time": "2023-03-23T11:37:12.058895Z",
     "start_time": "2023-03-23T11:37:12.044859Z"
    }
   },
   "outputs": [],
   "source": [
    "optimizer = torch.optim.SGD(model.parameters(), lr=0.01, weight_decay=0.01)"
   ]
  },
  {
   "cell_type": "markdown",
   "id": "37540b82",
   "metadata": {},
   "source": [
    "Functia de eroare este binary cross entropy:"
   ]
  },
  {
   "cell_type": "code",
   "execution_count": 19,
   "id": "0557b270",
   "metadata": {
    "ExecuteTime": {
     "end_time": "2023-03-23T11:37:12.074864Z",
     "start_time": "2023-03-23T11:37:12.059915Z"
    }
   },
   "outputs": [],
   "source": [
    "# functia de eroare\n",
    "loss_fn = torch.nn.BCELoss()"
   ]
  },
  {
   "cell_type": "code",
   "execution_count": 20,
   "id": "1b77624e",
   "metadata": {
    "ExecuteTime": {
     "end_time": "2023-03-23T11:37:12.090858Z",
     "start_time": "2023-03-23T11:37:12.076859Z"
    }
   },
   "outputs": [],
   "source": [
    "# numarul de epoci\n",
    "epochs = 30"
   ]
  },
  {
   "cell_type": "code",
   "execution_count": 21,
   "id": "ff54aa26",
   "metadata": {
    "ExecuteTime": {
     "end_time": "2023-03-23T11:37:27.872809Z",
     "start_time": "2023-03-23T11:37:12.093860Z"
    },
    "scrolled": false
   },
   "outputs": [
    {
     "name": "stdout",
     "output_type": "stream",
     "text": [
      "Epoca: 1/30: loss = 0.2496445\n",
      "Epoca: 1/30: acuratete pe setul de testare = 97.9550%\n",
      "\n",
      "Epoca: 2/30: loss = 0.1160827\n",
      "Epoca: 2/30: acuratete pe setul de testare = 98.2106%\n",
      "\n",
      "Epoca: 3/30: loss = 0.0907342\n",
      "Epoca: 3/30: acuratete pe setul de testare = 98.5174%\n",
      "\n",
      "Epoca: 4/30: loss = 0.0786368\n",
      "Epoca: 4/30: acuratete pe setul de testare = 98.5685%\n",
      "\n",
      "Epoca: 5/30: loss = 0.0714553\n",
      "Epoca: 5/30: acuratete pe setul de testare = 98.8753%\n",
      "\n",
      "Epoca: 6/30: loss = 0.0665380\n",
      "Epoca: 6/30: acuratete pe setul de testare = 98.8753%\n",
      "\n",
      "Epoca: 7/30: loss = 0.0630970\n",
      "Epoca: 7/30: acuratete pe setul de testare = 98.8753%\n",
      "\n",
      "Epoca: 8/30: loss = 0.0604082\n",
      "Epoca: 8/30: acuratete pe setul de testare = 98.9775%\n",
      "\n",
      "Epoca: 9/30: loss = 0.0583283\n",
      "Epoca: 9/30: acuratete pe setul de testare = 98.9264%\n",
      "\n",
      "Epoca: 10/30: loss = 0.0566886\n",
      "Epoca: 10/30: acuratete pe setul de testare = 99.0286%\n",
      "\n",
      "Epoca: 11/30: loss = 0.0553142\n",
      "Epoca: 11/30: acuratete pe setul de testare = 99.0798%\n",
      "\n",
      "Epoca: 12/30: loss = 0.0541651\n",
      "Epoca: 12/30: acuratete pe setul de testare = 99.0798%\n",
      "\n",
      "Epoca: 13/30: loss = 0.0532771\n",
      "Epoca: 13/30: acuratete pe setul de testare = 99.1309%\n",
      "\n",
      "Epoca: 14/30: loss = 0.0524634\n",
      "Epoca: 14/30: acuratete pe setul de testare = 99.1309%\n",
      "\n",
      "Epoca: 15/30: loss = 0.0517886\n",
      "Epoca: 15/30: acuratete pe setul de testare = 99.1309%\n",
      "\n",
      "Epoca: 16/30: loss = 0.0511454\n",
      "Epoca: 16/30: acuratete pe setul de testare = 99.0798%\n",
      "\n",
      "Epoca: 17/30: loss = 0.0506820\n",
      "Epoca: 17/30: acuratete pe setul de testare = 99.1309%\n",
      "\n",
      "Epoca: 18/30: loss = 0.0501991\n",
      "Epoca: 18/30: acuratete pe setul de testare = 99.0798%\n",
      "\n",
      "Epoca: 19/30: loss = 0.0498348\n",
      "Epoca: 19/30: acuratete pe setul de testare = 99.1820%\n",
      "\n",
      "Epoca: 20/30: loss = 0.0494726\n",
      "Epoca: 20/30: acuratete pe setul de testare = 99.1309%\n",
      "\n",
      "Epoca: 21/30: loss = 0.0492119\n",
      "Epoca: 21/30: acuratete pe setul de testare = 99.1309%\n",
      "\n",
      "Epoca: 22/30: loss = 0.0489108\n",
      "Epoca: 22/30: acuratete pe setul de testare = 99.1309%\n",
      "\n",
      "Epoca: 23/30: loss = 0.0486847\n",
      "Epoca: 23/30: acuratete pe setul de testare = 99.1309%\n",
      "\n",
      "Epoca: 24/30: loss = 0.0484899\n",
      "Epoca: 24/30: acuratete pe setul de testare = 99.1309%\n",
      "\n",
      "Epoca: 25/30: loss = 0.0482969\n",
      "Epoca: 25/30: acuratete pe setul de testare = 99.1309%\n",
      "\n",
      "Epoca: 26/30: loss = 0.0481327\n",
      "Epoca: 26/30: acuratete pe setul de testare = 99.1309%\n",
      "\n",
      "Epoca: 27/30: loss = 0.0479629\n",
      "Epoca: 27/30: acuratete pe setul de testare = 99.1309%\n",
      "\n",
      "Epoca: 28/30: loss = 0.0478381\n",
      "Epoca: 28/30: acuratete pe setul de testare = 99.1309%\n",
      "\n",
      "Epoca: 29/30: loss = 0.0477007\n",
      "Epoca: 29/30: acuratete pe setul de testare = 99.1309%\n",
      "\n",
      "Epoca: 30/30: loss = 0.0475556\n",
      "Epoca: 30/30: acuratete pe setul de testare = 99.1820%\n",
      "\n"
     ]
    }
   ],
   "source": [
    "losses = []\n",
    "accuracies = []\n",
    "for epoch in range(epochs):\n",
    "    # modelul trebuie trecut in modul train inainte de a se face instruirea lui\n",
    "    # trecerea lui pe modul eval apare la apelul metodei de test()\n",
    "    model.train()\n",
    "    epoch_loss = 0\n",
    "    total_items = 0\n",
    "    for x, y in train_loader:\n",
    "        # trecem datele din setul de antrenare pe acelasi device ca si modelul\n",
    "        x, y = x.to(device), y.to(device)\n",
    "        \n",
    "        # stergem gradientii calculati anterior, altfel se face acumulare e gradienti - nu e de interes pt acest model\n",
    "        optimizer.zero_grad()\n",
    "        \n",
    "        # modelul prezice probabilitatile conditionate pentru minibatchul curent\n",
    "        y_hat = torch.squeeze(model(x))\n",
    "        \n",
    "        # se calculeaza functia de eroare pe minibatchul curent\n",
    "        loss = loss_fn(y_hat, y)\n",
    "        # loss-ul calculat este media valorii de eroare peste minibatchul curent; \n",
    "        # inmultim media cu numarul de valori din minibatch pentru a determina valoarea cumulata \n",
    "        # a erorii pe minibatch\n",
    "        epoch_loss += loss.item() * len(x)\n",
    "        # actualizam numarul total de valori peset care s-a facut invatarea\n",
    "        total_items += len(x)\n",
    "        \n",
    "        # cerem calcul de gradienti\n",
    "        loss.backward()\n",
    "        \n",
    "        # optimizatorul aplica gradientii pe ponderi = invatare\n",
    "        optimizer.step()\n",
    "    \n",
    "    epoch_loss /= total_items\n",
    "    losses.append(epoch_loss)\n",
    "    # afisam statistici\n",
    "    print(f'Epoca: {epoch+1}/{epochs}: loss = {epoch_loss:.7f}')\n",
    "    acc_test = test(model, test_loader, device)\n",
    "    accuracies.append(acc_test)\n",
    "    print(f'Epoca: {epoch + 1}/{epochs}: acuratete pe setul de testare = {acc_test * 100:.4f}%\\n')"
   ]
  },
  {
   "cell_type": "markdown",
   "id": "46122ea4",
   "metadata": {},
   "source": [
    "## Grafice evolutie binary logistic regression"
   ]
  },
  {
   "cell_type": "markdown",
   "id": "06690ab7",
   "metadata": {},
   "source": [
    "Nota: daca celula de plot produce eroare, atunci se foloseste workaround de la [https://stackoverflow.com/questions/53014306/error-15-initializing-libiomp5-dylib-but-found-libiomp5-dylib-already-initial](https://stackoverflow.com/questions/53014306/error-15-initializing-libiomp5-dylib-but-found-libiomp5-dylib-already-initial):"
   ]
  },
  {
   "cell_type": "code",
   "execution_count": 22,
   "id": "1d634254",
   "metadata": {
    "ExecuteTime": {
     "end_time": "2023-03-23T11:37:27.888775Z",
     "start_time": "2023-03-23T11:37:27.874812Z"
    }
   },
   "outputs": [],
   "source": [
    "import os\n",
    "os.environ[\"KMP_DUPLICATE_LIB_OK\"]=\"TRUE\""
   ]
  },
  {
   "cell_type": "code",
   "execution_count": 23,
   "id": "ff76d3e7",
   "metadata": {
    "ExecuteTime": {
     "end_time": "2023-03-23T11:37:28.076435Z",
     "start_time": "2023-03-23T11:37:27.890770Z"
    }
   },
   "outputs": [
    {
     "data": {
      "image/png": "[encoded data removed]",
      "text/plain": [
       "<Figure size 640x480 with 1 Axes>"
      ]
     },
     "metadata": {},
     "output_type": "display_data"
    }
   ],
   "source": [
    "plt.plot(losses)\n",
    "plt.xlabel('Epoca')\n",
    "plt.ylabel('Eroare')\n",
    "plt.title(f'Valoarea functiei de eroare in timpul instruirii')\n",
    "plt.show()"
   ]
  },
  {
   "cell_type": "code",
   "execution_count": 24,
   "id": "748512df",
   "metadata": {
    "ExecuteTime": {
     "end_time": "2023-03-23T11:37:28.233413Z",
     "start_time": "2023-03-23T11:37:28.077414Z"
    }
   },
   "outputs": [
    {
     "data": {
      "image/png": "[encoded data removed]",
      "text/plain": [
       "<Figure size 640x480 with 1 Axes>"
      ]
     },
     "metadata": {},
     "output_type": "display_data"
    }
   ],
   "source": [
    "plt.plot(accuracies)\n",
    "plt.xlabel('Epoca')\n",
    "plt.ylabel('Acuratete pe setul de testare')\n",
    "plt.title(f'Acuratetea pe setul de testare pentru clasele {positive_class} si {negative_class}')\n",
    "plt.show()"
   ]
  },
  {
   "cell_type": "code",
   "execution_count": null,
   "id": "121683bb",
   "metadata": {},
   "outputs": [],
   "source": []
  }
 ],
 "metadata": {
  "kernelspec": {
   "display_name": "Python 3 (ipykernel)",
   "language": "python",
   "name": "python3"
  },
  "language_info": {
   "codemirror_mode": {
    "name": "ipython",
    "version": 3
   },
   "file_extension": ".py",
   "mimetype": "text/x-python",
   "name": "python",
   "nbconvert_exporter": "python",
   "pygments_lexer": "ipython3",
   "version": "3.10.9"
  },
  "toc": {
   "base_numbering": 1,
   "nav_menu": {},
   "number_sections": true,
   "sideBar": true,
   "skip_h1_title": false,
   "title_cell": "Table of Contents",
   "title_sidebar": "Contents",
   "toc_cell": false,
   "toc_position": {
    "height": "calc(100% - 180px)",
    "left": "10px",
    "top": "150px",
    "width": "167.7px"
   },
   "toc_section_display": true,
   "toc_window_display": false
  },
  "varInspector": {
   "cols": {
    "lenName": 16,
    "lenType": 16,
    "lenVar": 40
   },
   "kernels_config": {
    "python": {
     "delete_cmd_postfix": "",
     "delete_cmd_prefix": "del ",
     "library": "var_list.py",
     "varRefreshCmd": "print(var_dic_list())"
    },
    "r": {
     "delete_cmd_postfix": ") ",
     "delete_cmd_prefix": "rm(",
     "library": "var_list.r",
     "varRefreshCmd": "cat(var_dic_list()) "
    }
   },
   "types_to_exclude": [
    "module",
    "function",
    "builtin_function_or_method",
    "instance",
    "_Feature"
   ],
   "window_display": false
  }
 },
 "nbformat": 4,
 "nbformat_minor": 5
}
