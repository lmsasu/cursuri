{
 "cells": [
  {
   "cell_type": "markdown",
   "metadata": {},
   "source": [
    "# Curs 1: Incadrare, bibliografie, proces, limbajul Python"
   ]
  },
  {
   "cell_type": "markdown",
   "metadata": {},
   "source": [
    "# Bibliografie\n",
    "1. Allen B. Downey, [*Think Python: How to Think Like a Computer Scientist*](http://greenteapress.com/wp/think-python-2e/), editia a doua, Green Tea Press\n",
    "1. [Learn to think computationally and write programs to tackle useful problems](https://www.edx.org/xseries/mitx-computational-thinking-using-python)\n",
    "1. Zed A. Shaw, [Learn Python the Hard Way](https://learnpythonthehardway.org), Addison-Wesley Professional, 2017\n",
    "1. Jake VanderPlas, [*Python Data Science Handbook - Essential tools for working with data*](https://jakevdp.github.io/PythonDataScienceHandbook/), O'Reilly Media Inc., 2017; [notebooks](https://github.com/jakevdp/PythonDataScienceHandbook) \n",
    "1. Kevin Markham, [Data analysis in Python with pandas](https://www.youtube.com/playlist?list=PL5-da3qGB5ICCsgW1MxlZ0Hq8LL5U3u9y)\n",
    "1. MOOC: [Applied Data Science with Python Specialization](https://www.coursera.org/specializations/data-science-python)\n",
    "1. Joel Grus, *Data Science from Scratch*, O’Reilly Media, 2015; [Notebooks pe github](https://github.com/joelgrus/data-science-from-scratch)\n",
    "1. Ben G Weber, *Data Science in Production: Building Scalable Model Pipelines with Python*, Leanpub, 2020\n",
    "1. Steven S. Skiena, *The Data Science Design Manual*, Springer, 2017\n",
    "1. Peter Bruce & Andrew Bruce, *Practical Statistics for Data Scientists*, O’Reilly Media, 2017\n",
    "1. Ron Zacharski, [*A Programmer's Guide to Data Mining: The Ancient Art of the Numerati*](http://guidetodatamining.com/)\n",
    "1. Carl Shan, William Chen, Henry Wang, Max Song, [*The Data Science Handbook: Advice and Insights from 25 Amazing Data Scientists*](http://www.thedatasciencehandbook.com/), Data Science Bookshelf, 2015\n",
    "1. Shai Shalev-Shwartz, Shai Ben-David, [*Understanding Machine Learning: From Theory to Algorithms*](http://www.cs.huji.ac.il/~shais/UnderstandingMachineLearning/), Cambridge University Press, 2014\n",
    "1. Kevin Markham, [Introduction to machine learning in Python with scikit-learn (video series)](http://www.dataschool.io/machine-learning-with-scikit-learn/)"
   ]
  },
  {
   "cell_type": "markdown",
   "metadata": {},
   "source": [
    "# Ce este Data Science?\n",
    "* cunoscuta si ca de data-driven science; un termen generic, referind practici, algoritmi, modalitati de studiu ale problemelor ce implica date\n",
    "* domeniu interdisciplinar prin care se vizeaza extragerea de cunostinte sau informatii din date aflate in diverse forme\n",
    "* utilizeaza: elemente din matematica, statistica, teoria informatiei, sisteme instruibile (invatare automata, machine learning), vizualizare, ...\n",
    "* scop: sa se obtina din date cunostinte pe baza carora se poate actiona\n",
    "\n",
    "## Conferinte si jurnale dedicate:\n",
    "* [European Conference on Data Analysis (ECDA)](https://www.ecda.gov.sg/pages/ecc2020.aspx)\n",
    "* [The 8th IEEE International Conference on Data Science and Advanced Analytics.](https://dsaa2021.dcc.fc.up.pt/)\n",
    "* [SIAM International Conference on Data Mining)](https://www.siam.org/conferences/cm/conference/sdm21)\n",
    "* [International Journal on Data Science and Analytics](https://www.springerprofessional.de/en/international-journal-of-data-science-and-analytics/11854902)\n",
    "* [Lista valabila in Februarie 2021](https://www.kdnuggets.com/meetings/index.html) \n",
    "\n",
    "## Lista de site-uri dedicate, resurse\n",
    "* [Top 15 Websites for Data Scientists to Follow in 2021](https://medium.com/analytics-vidhya/top-15-websites-for-data-scientists-to-follow-in-2021-67352092c54d)\n",
    "* [10 resources for data science self-study](https://www.kdnuggets.com/2021/02/10-resources-data-science-self-study.html)"
   ]
  },
  {
   "cell_type": "markdown",
   "metadata": {},
   "source": [
    "# Procesul Data Science\n",
    "\n",
    "Sursa: Farcaster at English Wikipedia, CC BY-SA 3.0, https://commons.wikimedia.org/w/index.php?curid=40129394\n",
    "\n",
    "![proces](./images/Data_visualization_process_v1.png)"
   ]
  },
  {
   "cell_type": "markdown",
   "metadata": {},
   "source": [
    "Sursa: https://github.com/authman/DAT210x/blob/master/Module1/Course%20Map.pdf\n",
    "![workflow2](./images/M2L2_CourseMap.png)"
   ]
  },
  {
   "cell_type": "markdown",
   "metadata": {},
   "source": [
    "# Exemple de probleme tratate de data science\n",
    "\n",
    "1. Google pagerank\n",
    "1. Recomandari de carti pe Amazon: alti cumparatori care au achizitiont cartea X de asemenea au mai fost interesati/au cumparat ...; similar, Netflix, Netlix prize\n",
    "1. Clasificarea de documente de tip text - e.g. mail spam/nonspam\n",
    "1. Campanii politice (Obama/Biden): gaseste oamenii indecisi si convinge-i\n",
    "1. Reclama directionata: [Nissan Motors](https://www.warc.com/NewsAndOpinion/News/36902?) Determinarea preferintelor pe modele in functie de regiune\n",
    "1. Domeniul medical: echipament medical de monitorizare (portabil sau nu); imbunatatirea acuratetie diagnosticului; scaderea numarului de re-internari clinice (sursa: https://www.altexsoft.com/blog/datascience/7-ways-data-science-is-reshaping-healthcare/) \n",
    "1. Determinarea riscului de reintoarcere in spital: https://www.kaggle.com/c/2017-machine-learning-competition\n",
    "1. Detectarea de fraude\n",
    "1. Securitatea datelor, [detectare automata de malware](https://www.kaspersky.com/about/press-releases/2014_kaspersky-lab-is-detecting-325000-new-malicious-files-every-day), [cyber security](https://journalofbigdata.springeropen.com/articles/10.1186/s40537-020-00318-5)\n",
    "1. Procesarea de limbaj natural: detectarea sentimentelor din comunicari (tweets, blogs)"
   ]
  },
  {
   "cell_type": "markdown",
   "metadata": {},
   "source": [
    "# Limbajul Python"
   ]
  },
  {
   "cell_type": "markdown",
   "metadata": {},
   "source": [
    "* Limbaj open source, gratuit\n",
    "* In februarie 2021: al treilea limbaj ca popularitate in [TIOBE Index](https://www.tiobe.com/tiobe-index/), dupa Java, C, devansand C++, C#, JavaScript, R\n",
    "* In aceeasi luna, indexul [PYPL](http://pypl.github.io/PYPL.html) raporteaza Python pe locul al intai\n",
    "![PYPL_all](./images/pypl_all.png) (Sursa: http://pypl.github.io/PYPL.html, Februarie 2021)\n",
    "* Versiunea actuala de Python este 3.9.1.; Python 2.X se considera depasit si e trecut pe linie moarta \n",
    "* Se poate instala manual sau folosind o distributie de tipul [Anaconda](https://conda.io/docs/user-guide/install/download.html)\n",
    "    * A se vedea despre distributiile Anaconda, Miniconda, Anaconda Enterprise\n",
    "    * Exista [o lista consistenta de distributii](https://wiki.python.org/moin/PythonDistributions) de Python\n",
    "* Python este limbaj interpretat si netipizat\n",
    "* Permite programare imperativa, orientata pe obiect, [functionala](https://docs.python.org/3/library/functional.html)\n",
    "* Exista o paleta larga de biblioteci deja implementate pentru Python, usurand considerabil dezvoltarea de prototipuri sau chiar de aplicatii comerciale larg raspandite.\n",
    "![Python flying](https://imgs.xkcd.com/comics/python.png) (Sursa: https://xkcd.com/353/)\n",
    "* [Peste 290000 de pachete dezvoltate](https://pypi.python.org/pypi)\n",
    "* Python este in adoptare crescanda pentru proiecte comerciale:\n",
    "    * [Can Your Enterprise choose Python for Software Development?](https://www.sayonetech.com/blog/can-your-enterprise-choose-python-software-development/)\n",
    "    * [Full Stack Python](https://www.fullstackpython.com/enterprise-python.html)\n",
    "    * [Which Internet companies use Python](https://www.quora.com/Which-Internet-companies-use-Python)\n",
    "    * [Who uses Python](https://www.quora.com/Who-uses-Python)\n",
    "    * [Is Python a Good Choice for Entreprise Projects?](https://julien.danjou.info/is-python-a-good-choice-for-entreprise-projects/)"
   ]
  },
  {
   "cell_type": "markdown",
   "metadata": {},
   "source": [
    "## De ce Python?\n",
    "\n",
    "Iata cateva motive solide pentru a utiliza Python, conform [The unexpected effectiveness of Python in science](https://lwn.net/Articles/724255/)\n",
    "1. Limbajul vine \"cu toate bateriile incluse\": multitudinea de biblioteci il face perfect pentru o gama larga de proiecte. Cercetatorii care il folosesc activeaza in astronomie, fizica, bioinformatica, chimie, stiinte cognitive etc. - si pentru toate aceste domenii exista biblioteci care simplifica mult dezvoltarea de prototipuri. Prin comparatie, limbaje traditionale precum C/C++/Java/Python vin cu mai putin suport disponibil, iar uneori includerea unui pachet/biblioteci poate fi o experienta consumatoare de timp. \n",
    "1. Capacitatea de interoperare cu alte limbaje este iarasi un plus. Exista punti de comunicare (bridges) care permit apelul de cod Python din alte limbaje sau invers. Desigur, aceasta facilitate se regaseste si in alte limbaje.\n",
    "1. Natura dinamica a limbajului poate fi inteligent speculata: o functie poate sa preia o multitudine de parametri (lista, tuplu, dictionar) si cateva linii de cod functioneaza la fel de bine peste toate acestea.\n",
    "1. Python incurajeaza un stil de lucru experimental, via REPL: poate e nevoie de cateva incercari pentru a ajunge la instructiunile potrivite pentru o anumita functionalitate. Incercarea unei alte instructiuni nu necesita recompilarea sau rerularea codului anterior, ci vine in completare - pana cand ajungi la ce doresti sa obtii. "
   ]
  },
  {
   "cell_type": "markdown",
   "metadata": {},
   "source": [
    "## Moduri de utilizare\n",
    "\n",
    "1. Codul poate fi scris intr-un fisier text cu extensia py. Lansarea codului se face cu comanda `python nume_script.py`\n",
    "1. Se poate folosi interpretorul python sau ipython, in care modul de lucru este REPL: read-evaluate-print-loop. REPL permite o prototipizare rapida si scrierea codului in mod incremental. Interpretorul ipython este o varianta imbunatatita a interpretoruui python. \n",
    "![ipython screenshot](./images/ipython_screenshot.png)\n",
    "Mai multe detalii pentru lucrul cu interpretorul ipython se gasesc in resursa bibliografica [1], capitolul 1: debug, magic commands, lucru cu interpretorul de comenzi etc. \n",
    "1. Jupyter notebook - codul este scris in browser, cu suport pentru completare automata de cod. Fisierele rezultate sunt cu extensia ipynb.\n",
    "![jupyter screenshot](./images/jupyter-notebook-completion.gif)\n",
    "O lista de notebooks se gaseste [aici](http://nbviewer.jupyter.org/). Resurse de lucru cu Jupyter notebooks [aici](https://towardsdatascience.com/jupyter-best-practices-that-will-save-you-a-lot-of-headaches-67e1df45e24d )\n",
    "1. Folosind diverse framework-uri (de ex Flask), codul Python poate fi folosit pentru crearea de pagini Web, REST endpoints - sau mai simplu, functiile definite in Jupyter notebook pot fi expuse ca servicii web REST etc."
   ]
  },
  {
   "cell_type": "markdown",
   "metadata": {},
   "source": [
    "## Variabile, tipuri de date\n",
    "\n",
    "Clasica afisare de mesaj \"Hello world\" se obtine cu *functia* `print()`: "
   ]
  },
  {
   "cell_type": "code",
   "execution_count": 1,
   "metadata": {
    "ExecuteTime": {
     "end_time": "2020-02-19T17:38:38.901552Z",
     "start_time": "2020-02-19T17:38:38.893575Z"
    }
   },
   "outputs": [
    {
     "name": "stdout",
     "output_type": "stream",
     "text": [
      "Hello world!\n"
     ]
    }
   ],
   "source": [
    "print(\"Hello world!\")\n",
    "#sau: print('Hello world')"
   ]
  },
  {
   "cell_type": "markdown",
   "metadata": {},
   "source": [
    "Pentru Python versiunea 2, afisarea se face folosind *instructiunea* print: \n",
    "```python\n",
    "print \"Hello world!\"\n",
    "```\n",
    "- se observa lipsa parantezelor. In ambele cazuri delimitarea sirurilor de caractere se poate face cu apostroafe sau ghilimele.\n",
    "\n",
    "Variabilele nu se declara in prealabil impreuna cu tipul lor - Python este un limbaj slab tipizat. Natura unei variabile se deduce din valoarea care ii este asociata:"
   ]
  },
  {
   "cell_type": "code",
   "execution_count": 2,
   "metadata": {
    "ExecuteTime": {
     "end_time": "2020-02-19T17:38:38.914516Z",
     "start_time": "2020-02-19T17:38:38.909529Z"
    }
   },
   "outputs": [],
   "source": [
    "x = 3 # x e variabila de tip intreg\n",
    "y = \"abcd\" # y este variabila de tip sir de caractere\n",
    "# se obisnuieste ca numele compuse ale variabilelor sa fie despartite prin _:\n",
    "nume_complet = \"Popescu Ion\""
   ]
  },
  {
   "cell_type": "markdown",
   "metadata": {},
   "source": [
    "Python este case sensitive: Nume_complet si nume_complet refera variabile diferite. Atribuirea se face folosind semnul egal, asa cum s-a vazut mai sus."
   ]
  },
  {
   "cell_type": "markdown",
   "metadata": {},
   "source": [
    "Tipurile concrete ale variabilelor poate fi aflat la rulare:"
   ]
  },
  {
   "cell_type": "code",
   "execution_count": 3,
   "metadata": {
    "ExecuteTime": {
     "end_time": "2020-02-19T17:38:38.928478Z",
     "start_time": "2020-02-19T17:38:38.922494Z"
    }
   },
   "outputs": [
    {
     "name": "stdout",
     "output_type": "stream",
     "text": [
      "<class 'int'>\n",
      "<class 'str'>\n"
     ]
    }
   ],
   "source": [
    "#functia type\n",
    "print(type(x))\n",
    "print(type(y))"
   ]
  },
  {
   "cell_type": "markdown",
   "metadata": {},
   "source": [
    "Variabilelor li se pot da nume incepand cu caracter sau _, continuand cu caractere, _ sau cifre. Urmatoarele cuvinte rezervate nu pot fi folosite ca nume de variabile:\n",
    "\n",
    "![Reserved keywords](./images/reserved.png)"
   ]
  },
  {
   "cell_type": "markdown",
   "metadata": {},
   "source": [
    "### Tipuri numerice"
   ]
  },
  {
   "cell_type": "code",
   "execution_count": 4,
   "metadata": {
    "ExecuteTime": {
     "end_time": "2020-02-19T17:38:38.958399Z",
     "start_time": "2020-02-19T17:38:38.953413Z"
    }
   },
   "outputs": [
    {
     "name": "stdout",
     "output_type": "stream",
     "text": [
      "Indicele de masa corporala este:  24.343809494085704\n"
     ]
    }
   ],
   "source": [
    "height = 1.79\n",
    "weight = 78\n",
    "body_mass_index = weight / height ** 2 # la numitor este inaltimea la patrat\n",
    "print(\"Indicele de masa corporala este: \", body_mass_index)"
   ]
  },
  {
   "cell_type": "markdown",
   "metadata": {},
   "source": [
    "Pentru tipurile intregi, operatorii utilizabili sunt: \n",
    "* +\n",
    "* - \n",
    "* *\n",
    "* / (impartire cu rezultat in virgula mobila; de retinut ca in Python 2.7 intepretarea operatorul / este diferita fata de cea din Python 3)\n",
    "* // (impartire intreaga)\n",
    "* % (modulo)\n",
    "* ** (ridicare la putere)"
   ]
  },
  {
   "cell_type": "code",
   "execution_count": 5,
   "metadata": {
    "ExecuteTime": {
     "end_time": "2020-02-19T17:38:38.973359Z",
     "start_time": "2020-02-19T17:38:38.966378Z"
    }
   },
   "outputs": [
    {
     "name": "stdout",
     "output_type": "stream",
     "text": [
      "2.3333333333333335\n",
      "2\n",
      "1\n",
      "343\n"
     ]
    }
   ],
   "source": [
    "print(7/3)\n",
    "print(7//3)\n",
    "print(7%3)\n",
    "print(7**3)"
   ]
  },
  {
   "cell_type": "markdown",
   "metadata": {},
   "source": [
    "Exista si numere intregi lungi (long integer), precizia lor fiind limitata de memoria alocata procesului: "
   ]
  },
  {
   "cell_type": "code",
   "execution_count": 6,
   "metadata": {
    "ExecuteTime": {
     "end_time": "2020-02-19T17:38:39.048162Z",
     "start_time": "2020-02-19T17:38:39.036191Z"
    }
   },
   "outputs": [
    {
     "name": "stdout",
     "output_type": "stream",
     "text": [
      "100!= 93326215443944152681699238856266700490715968264381621468592963895217599993229915608941463976156518286253697920827223758251185210916864000000000000000000000000\n"
     ]
    }
   ],
   "source": [
    "big_number = 1*2*3*4*5*6*7*8*9*10*11*12*13*14*15*16*17*18*19*20*21*22*23*24*25*26*27*28*29*30*31*32*33*34*35*36*37*38*39*40*41*42*43*44*45*46*47*48*49*50*51*52*53*54*55*56*57*58*59*60*61*62*63*64*65*66*67*68*69*70*71*72*73*74*75*76*77*78*79*80*81*82*83*84*85*86*87*88*89*90*91*92*93*94*95*96*97*98*99*100\n",
    "print('100!=', big_number)"
   ]
  },
  {
   "cell_type": "markdown",
   "metadata": {},
   "source": [
    "Pentru tipurile in virgula mobila, operatorii sunt cei de mai sus mai putin modulo si impartire intreaga. Daca un operand este in virgula mobila, operatia returneaza valoare in virgula mobila. "
   ]
  },
  {
   "cell_type": "code",
   "execution_count": 7,
   "metadata": {
    "ExecuteTime": {
     "end_time": "2020-02-19T17:38:39.062121Z",
     "start_time": "2020-02-19T17:38:39.051150Z"
    }
   },
   "outputs": [
    {
     "name": "stdout",
     "output_type": "stream",
     "text": [
      "0.0\n"
     ]
    }
   ],
   "source": [
    "print(5.0-5)"
   ]
  },
  {
   "cell_type": "markdown",
   "metadata": {},
   "source": [
    "Numerele se pot compara folosind operatorii:\n",
    "* <, >, <=, >=\n",
    "* == (egalitate), != (diferit)"
   ]
  },
  {
   "cell_type": "markdown",
   "metadata": {},
   "source": [
    "Exista suport nativ pentru numere complexe:"
   ]
  },
  {
   "cell_type": "code",
   "execution_count": 8,
   "metadata": {
    "ExecuteTime": {
     "end_time": "2020-02-19T17:38:39.073091Z",
     "start_time": "2020-02-19T17:38:39.066110Z"
    }
   },
   "outputs": [
    {
     "name": "stdout",
     "output_type": "stream",
     "text": [
      "(1+4j)\n",
      "<class 'complex'>\n",
      "(1-4j)\n",
      "(17+0j)\n"
     ]
    }
   ],
   "source": [
    "z = 1 + 4j\n",
    "print(z)\n",
    "print(type(z))\n",
    "print(z.conjugate())\n",
    "z2 = z * z.conjugate()\n",
    "print(z2)"
   ]
  },
  {
   "cell_type": "markdown",
   "metadata": {},
   "source": [
    "Sunt admise conversii intre tipuri numerice:"
   ]
  },
  {
   "cell_type": "code",
   "execution_count": 9,
   "metadata": {
    "ExecuteTime": {
     "end_time": "2020-02-19T17:38:39.094035Z",
     "start_time": "2020-02-19T17:38:39.088052Z"
    }
   },
   "outputs": [
    {
     "name": "stdout",
     "output_type": "stream",
     "text": [
      "3\n",
      "3.0\n"
     ]
    }
   ],
   "source": [
    "a = 3.997\n",
    "b = int(a)\n",
    "print(b)\n",
    "print(float(b))"
   ]
  },
  {
   "cell_type": "code",
   "execution_count": 10,
   "metadata": {
    "ExecuteTime": {
     "end_time": "2020-02-19T17:38:39.108995Z",
     "start_time": "2020-02-19T17:38:39.105006Z"
    }
   },
   "outputs": [],
   "source": [
    "# Alte exemple: https://www.tutorialspoint.com/python/python_numbers.htm"
   ]
  },
  {
   "cell_type": "markdown",
   "metadata": {},
   "source": [
    "### Siruri de caractere"
   ]
  },
  {
   "cell_type": "markdown",
   "metadata": {
    "collapsed": true
   },
   "source": [
    "Sirurile de caractere se delimiteaza cu apostroafe sau cu ghilimele. Pentru literalii de tip sir de caractere, exista posibilitatea de a scrie valori care nu necesita secvente escape:"
   ]
  },
  {
   "cell_type": "code",
   "execution_count": 11,
   "metadata": {
    "ExecuteTime": {
     "end_time": "2020-02-19T17:38:39.313451Z",
     "start_time": "2020-02-19T17:38:39.306468Z"
    }
   },
   "outputs": [
    {
     "name": "stdout",
     "output_type": "stream",
     "text": [
      "adresa \\\\michel\\protect\\....\n",
      "adresa \\\\michel\\protect\\....\n",
      "ĂÎÂȘȚ aăîâșț\n"
     ]
    }
   ],
   "source": [
    "a = r'adresa \\\\michel\\protect\\....' # remarcam prefixul r\n",
    "print(a)\n",
    "\n",
    "# the hard way...\n",
    "a = 'adresa \\\\\\\\michel\\\\protect\\\\....' \n",
    "print(a)\n",
    "\n",
    "# caractere Unicode\n",
    "a = u\"ĂÎÂȘȚ aăîâșț\" # se remarca prefixul u\n",
    "print(a)"
   ]
  },
  {
   "cell_type": "markdown",
   "metadata": {},
   "source": [
    "..sau stringuri multilinie, folosind delimitare cu trei ghilimele sau trei apostroafe:"
   ]
  },
  {
   "cell_type": "code",
   "execution_count": 12,
   "metadata": {
    "ExecuteTime": {
     "end_time": "2020-02-19T17:38:39.325416Z",
     "start_time": "2020-02-19T17:38:39.316441Z"
    }
   },
   "outputs": [
    {
     "name": "stdout",
     "output_type": "stream",
     "text": [
      "If you can keep your head when all about you   \n",
      "    Are losing theirs and blaming it on you,   \n",
      "If you can trust yourself when all men doubt you,\n",
      "    But make allowance for their doubting too;   \n"
     ]
    }
   ],
   "source": [
    "versuri = '''If you can keep your head when all about you   \n",
    "    Are losing theirs and blaming it on you,   \n",
    "If you can trust yourself when all men doubt you,\n",
    "    But make allowance for their doubting too;   '''\n",
    "print(versuri)"
   ]
  },
  {
   "cell_type": "markdown",
   "metadata": {
    "collapsed": true
   },
   "source": [
    "Sirurile de caractere se pot concatena cu + si suporta urmatoarele operatii si functii:"
   ]
  },
  {
   "cell_type": "code",
   "execution_count": 13,
   "metadata": {
    "ExecuteTime": {
     "end_time": "2020-02-19T17:38:39.335392Z",
     "start_time": "2020-02-19T17:38:39.328408Z"
    }
   },
   "outputs": [
    {
     "name": "stdout",
     "output_type": "stream",
     "text": [
      "Ana are mere\n"
     ]
    }
   ],
   "source": [
    "sir = \"Ana \" + \"are \" + \"mere\"\n",
    "print(sir)"
   ]
  },
  {
   "cell_type": "code",
   "execution_count": 14,
   "metadata": {
    "ExecuteTime": {
     "end_time": "2020-02-19T17:38:39.352346Z",
     "start_time": "2020-02-19T17:38:39.338383Z"
    }
   },
   "outputs": [
    {
     "name": "stdout",
     "output_type": "stream",
     "text": [
      "Lungimea sirului:  12\n",
      "Primul element din sir:  A\n",
      "Ultimul element din sir:  e\n",
      "Ultimul element, in stil Python:  e\n",
      "Penultimul element din sir, in stil Python:  r\n"
     ]
    }
   ],
   "source": [
    "print('Lungimea sirului: ', len(sir))\n",
    "print('Primul element din sir: ', sir[0])\n",
    "print('Ultimul element din sir: ', sir[len(sir)-1])\n",
    "print(\"Ultimul element, in stil Python: \", sir[-1])\n",
    "print(\"Penultimul element din sir, in stil Python: \", sir[-2]) # !!!"
   ]
  },
  {
   "cell_type": "code",
   "execution_count": 15,
   "metadata": {
    "ExecuteTime": {
     "end_time": "2020-02-19T17:38:39.362319Z",
     "start_time": "2020-02-19T17:38:39.355338Z"
    }
   },
   "outputs": [
    {
     "name": "stdout",
     "output_type": "stream",
     "text": [
      "numarul este 3\n"
     ]
    }
   ],
   "source": [
    "#Conversia unei variabile de tip non-string in string:\n",
    "x = 3\n",
    "mesaj = \"numarul este \" + str(x)\n",
    "print(mesaj)"
   ]
  },
  {
   "cell_type": "code",
   "execution_count": 16,
   "metadata": {
    "ExecuteTime": {
     "end_time": "2020-02-19T17:38:39.373289Z",
     "start_time": "2020-02-19T17:38:39.364313Z"
    }
   },
   "outputs": [
    {
     "name": "stdout",
     "output_type": "stream",
     "text": [
      "ana are mere\n",
      "slicing: are\n",
      "-1\n",
      "Ion are mere\n"
     ]
    }
   ],
   "source": [
    "#metode si operatii posibile pe obiect string:\n",
    "print(sir.lower())\n",
    "print('slicing:', sir[4:7])\n",
    "print(sir.find('nu are'))\n",
    "print(sir.replace('Ana', 'Ion'))"
   ]
  },
  {
   "cell_type": "code",
   "execution_count": 17,
   "metadata": {
    "ExecuteTime": {
     "end_time": "2020-02-19T17:38:39.382264Z",
     "start_time": "2020-02-19T17:38:39.376285Z"
    }
   },
   "outputs": [
    {
     "name": "stdout",
     "output_type": "stream",
     "text": [
      "AnaAnaAnaAnaAnaAnaAnaAnaAnaAna\n"
     ]
    }
   ],
   "source": [
    "multi_ana = 'Ana' * 10\n",
    "print(multi_ana)"
   ]
  },
  {
   "cell_type": "code",
   "execution_count": 18,
   "metadata": {
    "ExecuteTime": {
     "end_time": "2020-02-19T17:38:39.393235Z",
     "start_time": "2020-02-19T17:38:39.385258Z"
    }
   },
   "outputs": [
    {
     "name": "stdout",
     "output_type": "stream",
     "text": [
      "False\n",
      "True\n"
     ]
    }
   ],
   "source": [
    "cuvantul_pere_este_in_sir = 'pere' in sir\n",
    "print(cuvantul_pere_este_in_sir)\n",
    "cuvantul_pere_nu_este_in_sir = 'pere' not in sir\n",
    "print(cuvantul_pere_nu_este_in_sir)"
   ]
  },
  {
   "cell_type": "code",
   "execution_count": 19,
   "metadata": {
    "ExecuteTime": {
     "end_time": "2020-02-19T17:38:39.404209Z",
     "start_time": "2020-02-19T17:38:39.396229Z"
    }
   },
   "outputs": [
    {
     "name": "stdout",
     "output_type": "stream",
     "text": [
      "<class 'list'>\n",
      "['Ana', 'are', 'mere']\n",
      "Ana,Vasile,Dana,Ion\n"
     ]
    }
   ],
   "source": [
    "tokens = sir.split(' ')\n",
    "print(type(tokens))\n",
    "print(tokens)\n",
    "print(\",\".join(['Ana', 'Vasile', 'Dana', 'Ion']))"
   ]
  },
  {
   "cell_type": "markdown",
   "metadata": {},
   "source": [
    "Demna de mentionat este functia `eval`, care preia un string de caractere si returneaza un obiect rezultat prin evaluare:"
   ]
  },
  {
   "cell_type": "code",
   "execution_count": 20,
   "metadata": {
    "ExecuteTime": {
     "end_time": "2020-02-19T17:38:39.414179Z",
     "start_time": "2020-02-19T17:38:39.407198Z"
    }
   },
   "outputs": [
    {
     "name": "stdout",
     "output_type": "stream",
     "text": [
      "0.2692307692307692\n"
     ]
    }
   ],
   "source": [
    "a = 3\n",
    "b = 4\n",
    "expresie = '(a+b)/(a**2 + b**2 + 1)'\n",
    "print(eval(expresie))"
   ]
  },
  {
   "cell_type": "markdown",
   "metadata": {},
   "source": [
    "Recomandam citirea [documentatiei oficiale](https://docs.python.org/3/library/string.html) pentru tipul de date string."
   ]
  },
  {
   "cell_type": "markdown",
   "metadata": {},
   "source": [
    "Python contine tipul `bool`, util pentru reprezentarea valorilor de adevar `True` si `False`:"
   ]
  },
  {
   "cell_type": "code",
   "execution_count": 21,
   "metadata": {
    "ExecuteTime": {
     "end_time": "2020-02-19T17:38:39.425150Z",
     "start_time": "2020-02-19T17:38:39.417171Z"
    }
   },
   "outputs": [
    {
     "name": "stdout",
     "output_type": "stream",
     "text": [
      "<class 'bool'>\n"
     ]
    }
   ],
   "source": [
    "x = True\n",
    "print(type(x))"
   ]
  },
  {
   "cell_type": "markdown",
   "metadata": {},
   "source": [
    "Se pot face conversii de la tipuri numerice la bool si viceversa: valoarea 0 este asociata lui `False`, orice non-zero lui `True`. Invers, `True` se traduce in 1 si `False` in 0:"
   ]
  },
  {
   "cell_type": "code",
   "execution_count": 22,
   "metadata": {
    "ExecuteTime": {
     "end_time": "2020-02-19T17:38:39.437117Z",
     "start_time": "2020-02-19T17:38:39.428142Z"
    }
   },
   "outputs": [
    {
     "name": "stdout",
     "output_type": "stream",
     "text": [
      "-1 ca bool:  True\n",
      "0.0 ca bool:  False\n",
      "True ca int: 1\n",
      "False ca int: 0\n"
     ]
    }
   ],
   "source": [
    "x = bool(-1)\n",
    "print('-1 ca bool: ', x)\n",
    "x = bool(0.0)\n",
    "print('0.0 ca bool: ', x)\n",
    "b = True\n",
    "print('True ca int:', int(b))\n",
    "b = False\n",
    "print('False ca int:', int(b))"
   ]
  },
  {
   "cell_type": "markdown",
   "metadata": {},
   "source": [
    "Operatorii aplicabili pe valori bool sunt:"
   ]
  },
  {
   "cell_type": "code",
   "execution_count": 23,
   "metadata": {
    "ExecuteTime": {
     "end_time": "2020-02-19T17:38:39.450083Z",
     "start_time": "2020-02-19T17:38:39.442105Z"
    }
   },
   "outputs": [
    {
     "name": "stdout",
     "output_type": "stream",
     "text": [
      "False\n",
      "True\n",
      "True\n",
      "True\n"
     ]
    }
   ],
   "source": [
    "print(True and False)\n",
    "print(True or False)\n",
    "print(not False)\n",
    "# nu exista xor, dar...\n",
    "a, b = True, False\n",
    "print(a != b)"
   ]
  },
  {
   "cell_type": "markdown",
   "metadata": {},
   "source": [
    "### Liste"
   ]
  },
  {
   "cell_type": "markdown",
   "metadata": {},
   "source": [
    "In interiorul unei liste se pot pune oricate elemente, nu neaparat de acelasi tip. Elementele se despart prin virgula; capetele listei sunt marcate prin paranteze drepte:"
   ]
  },
  {
   "cell_type": "code",
   "execution_count": 24,
   "metadata": {
    "ExecuteTime": {
     "end_time": "2020-02-19T17:38:39.461055Z",
     "start_time": "2020-02-19T17:38:39.453076Z"
    }
   },
   "outputs": [
    {
     "name": "stdout",
     "output_type": "stream",
     "text": [
      "Lungimea listei este 4\n",
      "Tipul listei este <class 'list'>\n"
     ]
    }
   ],
   "source": [
    "lista = [10, 20, 30, 40]\n",
    "print('Lungimea listei este', len(lista))\n",
    "print('Tipul listei este', type(lista))\n",
    "#Lista eterogena: string si int\n",
    "lista2 = ['Ana', 234]"
   ]
  },
  {
   "cell_type": "markdown",
   "metadata": {},
   "source": [
    "Elementele unei liste se acceseaza pe baza de indici, incepand de la 0 si terminand cu `len(lista)-1`. Ultimul element se poate referi cu indicele '-1':"
   ]
  },
  {
   "cell_type": "code",
   "execution_count": 25,
   "metadata": {
    "ExecuteTime": {
     "end_time": "2020-02-19T17:38:39.594698Z",
     "start_time": "2020-02-19T17:38:39.588715Z"
    }
   },
   "outputs": [
    {
     "name": "stdout",
     "output_type": "stream",
     "text": [
      "Ultimul element este: 30\n",
      "Penultimul element este: 20\n"
     ]
    }
   ],
   "source": [
    "lista = [10, 20, 30]\n",
    "print('Ultimul element este:', lista[-1])\n",
    "print('Penultimul element este:', lista[-2])"
   ]
  },
  {
   "cell_type": "markdown",
   "metadata": {},
   "source": [
    "O lista se poate obtine prin repetarea unei constructii de un numar dorit de ori:"
   ]
  },
  {
   "cell_type": "code",
   "execution_count": 26,
   "metadata": {
    "ExecuteTime": {
     "end_time": "2020-02-19T17:38:39.605669Z",
     "start_time": "2020-02-19T17:38:39.600682Z"
    }
   },
   "outputs": [
    {
     "name": "stdout",
     "output_type": "stream",
     "text": [
      "[1, 2, 3, 1, 2, 3, 1, 2, 3, 1, 2, 3, 1, 2, 3]\n"
     ]
    }
   ],
   "source": [
    "lista = [1, 2, 3] * 5 # efect similar demonstrat anterior pe string 'Ana'\n",
    "print(lista)"
   ]
  },
  {
   "cell_type": "markdown",
   "metadata": {},
   "source": [
    "Putem prelua portiuni intregi din lista, nu doar de pe pozitii individuale, folosind 'decuparea' (slicing), sub forma: lista[k:l]. Va rezulta o lista formata din elementele lista[k], lista[k+1], ..., lista[l-1] (se remarca marginea din dreapta a sirului: nu e l, ci l-1). Daca se doreste ca ordinea elementelor sa fie inversata, se foloseste  lista[l:k:-1]; elementul de indice l va fi inclus in rezultat, elementul de indice k se va omite:"
   ]
  },
  {
   "cell_type": "code",
   "execution_count": 27,
   "metadata": {
    "ExecuteTime": {
     "end_time": "2020-02-19T17:38:39.616638Z",
     "start_time": "2020-02-19T17:38:39.609657Z"
    }
   },
   "outputs": [
    {
     "name": "stdout",
     "output_type": "stream",
     "text": [
      "[1, 2, 3, 4, 5, 6, 7, 8, 9, 10]\n",
      "[4, 5, 6, 7, 8]\n",
      "[9, 8, 7, 6, 5]\n"
     ]
    }
   ],
   "source": [
    "lista = [1, 2, 3, 4, 5, 6, 7, 8, 9, 10]\n",
    "print(lista)\n",
    "sliced = lista[3:8]\n",
    "print(sliced)\n",
    "sliced_reversed = lista[8:3:-1]\n",
    "print(sliced_reversed)"
   ]
  },
  {
   "cell_type": "code",
   "execution_count": 28,
   "metadata": {
    "ExecuteTime": {
     "end_time": "2020-02-19T17:38:39.624619Z",
     "start_time": "2020-02-19T17:38:39.619630Z"
    }
   },
   "outputs": [],
   "source": [
    "lista = [10, 20, 30, 40]"
   ]
  },
  {
   "cell_type": "markdown",
   "metadata": {},
   "source": [
    "Formele acceptate pentru slicing sunt:"
   ]
  },
  {
   "cell_type": "markdown",
   "metadata": {
    "collapsed": true
   },
   "source": [
    "- a[start:end] # items start through end-1\n",
    "- a[start:]    # items start through the rest of the array\n",
    "- a[:end]      # items from the beginning through end-1\n",
    "- a[:]         # a copy of the whole array"
   ]
  },
  {
   "cell_type": "markdown",
   "metadata": {},
   "source": [
    "In special ultima forma este interesanta: se obtine o clona a listei a. In lipsa acestui mecanism, doua variabile care indica spre aceeasi lista pot duce la modificari mutual vizibile:"
   ]
  },
  {
   "cell_type": "code",
   "execution_count": 29,
   "metadata": {
    "ExecuteTime": {
     "end_time": "2020-02-19T17:38:39.773220Z",
     "start_time": "2020-02-19T17:38:39.765242Z"
    }
   },
   "outputs": [
    {
     "name": "stdout",
     "output_type": "stream",
     "text": [
      "a= [1, 2, 3]\n",
      "b= [1, 2, 3]\n",
      "Dupa modificare via a: b= [-1, 2, 3]\n"
     ]
    }
   ],
   "source": [
    "# aliasing\n",
    "a = [1, 2, 3]\n",
    "b = a\n",
    "print('a=', a)\n",
    "print('b=', b)\n",
    "a[0] *= -1\n",
    "print('Dupa modificare via a: b=', b)\n",
    "# a si b refera aceeasi zona de memorie"
   ]
  },
  {
   "cell_type": "code",
   "execution_count": 30,
   "metadata": {
    "ExecuteTime": {
     "end_time": "2020-02-19T17:38:39.792168Z",
     "start_time": "2020-02-19T17:38:39.783193Z"
    }
   },
   "outputs": [
    {
     "name": "stdout",
     "output_type": "stream",
     "text": [
      "a= [1, 2, 3]\n",
      "b= [1, 2, 3]\n",
      "Dupa modificare: a= [-1, 2, 3]\n",
      "Dupa modificare: b= [1, 2, 3]\n"
     ]
    }
   ],
   "source": [
    "# copiere de lista\n",
    "a = [1, 2, 3]\n",
    "b = a[:]\n",
    "print('a=', a)\n",
    "print('b=', b)\n",
    "a[0] *= -1\n",
    "print('Dupa modificare: a=', a)\n",
    "print('Dupa modificare: b=', b)\n",
    "# a si b refera zone de memorie diferite"
   ]
  },
  {
   "cell_type": "markdown",
   "metadata": {},
   "source": [
    "Copierea unei liste se poate face si cu metoda `copy`:"
   ]
  },
  {
   "cell_type": "code",
   "execution_count": 31,
   "metadata": {
    "ExecuteTime": {
     "end_time": "2020-02-19T17:38:39.808126Z",
     "start_time": "2020-02-19T17:38:39.799151Z"
    }
   },
   "outputs": [
    {
     "name": "stdout",
     "output_type": "stream",
     "text": [
      "a= [1, 2, 3]\n",
      "b= [1, 2, 3]\n",
      "Dupa modificare: a= [-1, 2, 3]\n",
      "Dupa modificare: b= [1, 2, 3]\n"
     ]
    }
   ],
   "source": [
    "# copiere de lista cu metoda copy\n",
    "a = [1, 2, 3]\n",
    "b = a.copy()\n",
    "print('a=', a)\n",
    "print('b=', b)\n",
    "a[0] *= -1\n",
    "print('Dupa modificare: a=', a)\n",
    "print('Dupa modificare: b=', b)\n",
    "# a si b refera zone de memorie diferite"
   ]
  },
  {
   "cell_type": "markdown",
   "metadata": {},
   "source": [
    "Listele pot fi concatenate:"
   ]
  },
  {
   "cell_type": "code",
   "execution_count": 32,
   "metadata": {
    "ExecuteTime": {
     "end_time": "2020-02-19T17:38:39.817103Z",
     "start_time": "2020-02-19T17:38:39.810121Z"
    }
   },
   "outputs": [
    {
     "name": "stdout",
     "output_type": "stream",
     "text": [
      "[1, 2, 3, 10, 20, 30]\n"
     ]
    }
   ],
   "source": [
    "a = [1, 2, 3]\n",
    "b = [10, 20, 30]\n",
    "c = a+b\n",
    "print(c)"
   ]
  },
  {
   "cell_type": "markdown",
   "metadata": {},
   "source": [
    "La o lista se pot adauga elemente:"
   ]
  },
  {
   "cell_type": "code",
   "execution_count": 33,
   "metadata": {
    "ExecuteTime": {
     "end_time": "2020-02-19T17:38:39.835059Z",
     "start_time": "2020-02-19T17:38:39.827076Z"
    }
   },
   "outputs": [
    {
     "name": "stdout",
     "output_type": "stream",
     "text": [
      "[1, 2, 3, 100]\n"
     ]
    }
   ],
   "source": [
    "a = [1, 2, 3]\n",
    "a.append(100)\n",
    "print(a)"
   ]
  },
  {
   "cell_type": "markdown",
   "metadata": {},
   "source": [
    "Se recomanda ca daca pentru o lista se cunoaste capacitatea maxima sau chiar exacta, sa se prealoce, in loc sa se foloseasca adaugari repetate:"
   ]
  },
  {
   "cell_type": "code",
   "execution_count": 34,
   "metadata": {
    "ExecuteTime": {
     "end_time": "2020-02-19T17:38:39.851011Z",
     "start_time": "2020-02-19T17:38:39.840043Z"
    }
   },
   "outputs": [
    {
     "name": "stdout",
     "output_type": "stream",
     "text": [
      "[None, None, None, 'Ana are mere', None, None, None, None, None, None]\n"
     ]
    }
   ],
   "source": [
    "a = [None] * 10\n",
    "#....\n",
    "a[3] = 'Ana are mere'\n",
    "print(a)"
   ]
  },
  {
   "cell_type": "markdown",
   "metadata": {},
   "source": [
    "Sortarea unei liste se face cu functia `sorted`, care optional poate sa preia:\n",
    "* un parametru numit `reverse` de tip boolean, care precizeaza daca se face sortare descrescatoare\n",
    "* un parametru numit `key`, care face referinta la o functie ce determina politica de sortare"
   ]
  },
  {
   "cell_type": "code",
   "execution_count": 35,
   "metadata": {
    "ExecuteTime": {
     "end_time": "2020-02-19T17:38:39.860985Z",
     "start_time": "2020-02-19T17:38:39.854002Z"
    }
   },
   "outputs": [
    {
     "name": "stdout",
     "output_type": "stream",
     "text": [
      "[1, 3, 4, 5]\n"
     ]
    }
   ],
   "source": [
    "# Sortare crescatoare\n",
    "a = [5, 1, 4, 3]\n",
    "print(sorted(a))"
   ]
  },
  {
   "cell_type": "code",
   "execution_count": 36,
   "metadata": {
    "ExecuteTime": {
     "end_time": "2020-02-19T17:38:39.869960Z",
     "start_time": "2020-02-19T17:38:39.863977Z"
    }
   },
   "outputs": [
    {
     "name": "stdout",
     "output_type": "stream",
     "text": [
      "[5, 4, 3, 1]\n"
     ]
    }
   ],
   "source": [
    "# Sortare descrescatoare\n",
    "print(sorted(a, reverse=True))"
   ]
  },
  {
   "cell_type": "code",
   "execution_count": 37,
   "metadata": {
    "ExecuteTime": {
     "end_time": "2020-02-19T17:38:39.881928Z",
     "start_time": "2020-02-19T17:38:39.873950Z"
    }
   },
   "outputs": [
    {
     "name": "stdout",
     "output_type": "stream",
     "text": [
      "['d', 'bb', 'ccc', 'aaaa']\n"
     ]
    }
   ],
   "source": [
    "# Sortare cu cheie specificata\n",
    "siruri = ['ccc', 'aaaa', 'd', 'bb']\n",
    "print(sorted(siruri, key=len))"
   ]
  },
  {
   "cell_type": "markdown",
   "metadata": {},
   "source": [
    "Functia `sorted` returneaza o noua lista, lasand pe cea originara nemodificata. Daca se doreste ca sortarea sa se faca in cadrul liste originare, se va folosi metoda `sort` a tipului lista. Metoda `sort` returneaza `None`."
   ]
  },
  {
   "cell_type": "code",
   "execution_count": 38,
   "metadata": {
    "ExecuteTime": {
     "end_time": "2020-02-19T17:38:39.891902Z",
     "start_time": "2020-02-19T17:38:39.884920Z"
    }
   },
   "outputs": [
    {
     "name": "stdout",
     "output_type": "stream",
     "text": [
      "['aaaa', 'bb', 'ccc', 'd']\n"
     ]
    }
   ],
   "source": [
    "siruri = ['ccc', 'aaaa', 'd', 'bb']\n",
    "siruri.sort()\n",
    "print(siruri)"
   ]
  },
  {
   "cell_type": "markdown",
   "metadata": {},
   "source": [
    "Stergerea unui element dintr-o lista, de pe o pozitie (indice) specificat se face cu `del`:"
   ]
  },
  {
   "cell_type": "code",
   "execution_count": 39,
   "metadata": {
    "ExecuteTime": {
     "end_time": "2020-02-19T17:38:39.905865Z",
     "start_time": "2020-02-19T17:38:39.898887Z"
    }
   },
   "outputs": [
    {
     "name": "stdout",
     "output_type": "stream",
     "text": [
      "[10, 30]\n"
     ]
    }
   ],
   "source": [
    "lista = [10, 20, 30]\n",
    "del lista[1]\n",
    "print(lista)"
   ]
  },
  {
   "cell_type": "markdown",
   "metadata": {},
   "source": [
    "Testarea existentei unui element intr-o lista se face cu operatorul `in`:"
   ]
  },
  {
   "cell_type": "code",
   "execution_count": 40,
   "metadata": {
    "ExecuteTime": {
     "end_time": "2020-02-19T17:38:39.921822Z",
     "start_time": "2020-02-19T17:38:39.914840Z"
    }
   },
   "outputs": [
    {
     "name": "stdout",
     "output_type": "stream",
     "text": [
      "False\n"
     ]
    }
   ],
   "source": [
    "lista = ['Ana', 'are', 'mere']\n",
    "print('portocale' in lista )"
   ]
  },
  {
   "cell_type": "markdown",
   "metadata": {},
   "source": [
    "Minimul si maximul unei liste se obtin cu functiile `min` respectiv `max`. "
   ]
  },
  {
   "cell_type": "markdown",
   "metadata": {},
   "source": [
    "Alte metode apartinand tipului list sunt exemplificate mai jos:"
   ]
  },
  {
   "cell_type": "code",
   "execution_count": 41,
   "metadata": {
    "ExecuteTime": {
     "end_time": "2020-02-19T17:38:39.943764Z",
     "start_time": "2020-02-19T17:38:39.934787Z"
    }
   },
   "outputs": [
    {
     "name": "stdout",
     "output_type": "stream",
     "text": [
      "De cate ori apare elementul 10 in lista 2\n",
      "Care e primul index in care un anumit element apare in lista? 1\n",
      "Inserare elementului 100 pe indexul 2 in lista [10, 20, 100, 30, 10]\n",
      "Inversarea ordinii elementelor dintr-o lista, in-place [10, 30, 100, 20, 10]\n",
      "Stergerea unui element din lista, prima aparitie [30, 100, 20, 10]\n",
      "Lista a fost golita: []\n"
     ]
    }
   ],
   "source": [
    "lista = [10, 20, 30, 10]\n",
    "# De cate ori apare elementul 10 in lista?\n",
    "print('De cate ori apare elementul 10 in lista', lista.count(10))\n",
    "# Care e primul index in care un anumit element apare in lista?\n",
    "print('Care e primul index in care un anumit element apare in lista?', lista.index(20))\n",
    "# daca pentru metoda index se specifica un element care nu exista, se arunca exceptie:\n",
    "# print(lista.index(100000))\n",
    "# ValueError: 100000 is not in list\n",
    "# Inserare elementului 100 pe indexul 2 in lista:\n",
    "lista.insert(2, 100)\n",
    "print('Inserare elementului 100 pe indexul 2 in lista', lista)\n",
    "# Inversarea ordinii elementelor dintr-o lista, in-place\n",
    "lista.reverse()\n",
    "print('Inversarea ordinii elementelor dintr-o lista, in-place', lista)\n",
    "# Stergerea unui element din lista, prima aparitie\n",
    "lista.remove(10)\n",
    "print('Stergerea unui element din lista, prima aparitie', lista)\n",
    "lista.clear()\n",
    "print('Lista a fost golita:', lista)"
   ]
  },
  {
   "cell_type": "markdown",
   "metadata": {},
   "source": [
    "Pentru testarea faptului ca toate elementele (respectiv: macar un element al) unei liste de valori boolene sunt cu valoarea `true`, se va folosi functia `all` (respectiv: `any`)."
   ]
  },
  {
   "cell_type": "code",
   "execution_count": 42,
   "metadata": {
    "ExecuteTime": {
     "end_time": "2020-02-19T17:38:39.955731Z",
     "start_time": "2020-02-19T17:38:39.946755Z"
    }
   },
   "outputs": [
    {
     "name": "stdout",
     "output_type": "stream",
     "text": [
      "Macar unul e True: True\n",
      "Toate sunt True: False\n"
     ]
    }
   ],
   "source": [
    "lista = [True, False, True]\n",
    "print('Macar unul e True:', any(lista))\n",
    "print('Toate sunt True:', all(lista))"
   ]
  },
  {
   "cell_type": "markdown",
   "metadata": {},
   "source": [
    "Daca lista este goala, functia `all` returneaza `True`, iar `any` - `False`."
   ]
  },
  {
   "cell_type": "code",
   "execution_count": 43,
   "metadata": {
    "ExecuteTime": {
     "end_time": "2020-02-19T17:38:39.967699Z",
     "start_time": "2020-02-19T17:38:39.960718Z"
    }
   },
   "outputs": [
    {
     "name": "stdout",
     "output_type": "stream",
     "text": [
      "Macar unul e True: False\n",
      "Toate sunt True: True\n"
     ]
    }
   ],
   "source": [
    "print('Macar unul e True:',any([]))\n",
    "print('Toate sunt True:',all([]))"
   ]
  },
  {
   "cell_type": "markdown",
   "metadata": {},
   "source": [
    "O metoda deosebit de eleganta de procesare a elementelor unei liste este prin list comprehension, ce se va prezenta in cadrul sectiunii de instructiuni. "
   ]
  },
  {
   "cell_type": "markdown",
   "metadata": {},
   "source": [
    "### Tupluri"
   ]
  },
  {
   "cell_type": "markdown",
   "metadata": {},
   "source": [
    "In timp ce o lista permite modificarea continutului sau, un tuplu reprezinta o colectie ordonata imuabila. Elementele se separa cu virgula, capetele tuplului se marcheaza de regula cu paranteze rotunde, sau pot lipsi."
   ]
  },
  {
   "cell_type": "code",
   "execution_count": 44,
   "metadata": {
    "ExecuteTime": {
     "end_time": "2020-02-19T17:38:39.981661Z",
     "start_time": "2020-02-19T17:38:39.974680Z"
    }
   },
   "outputs": [
    {
     "name": "stdout",
     "output_type": "stream",
     "text": [
      "('informatica', 3, 'dimineata')\n"
     ]
    }
   ],
   "source": [
    "tuplu1 = ('informatica', 3, 'dimineata')\n",
    "tuplu2 = 'chimie', 2, 'seara'\n",
    "print(tuplu1)"
   ]
  },
  {
   "cell_type": "code",
   "execution_count": 45,
   "metadata": {
    "ExecuteTime": {
     "end_time": "2020-02-19T17:38:39.990638Z",
     "start_time": "2020-02-19T17:38:39.984653Z"
    }
   },
   "outputs": [
    {
     "name": "stdout",
     "output_type": "stream",
     "text": [
      "informatica\n"
     ]
    }
   ],
   "source": [
    "print(tuplu1[0])"
   ]
  },
  {
   "cell_type": "code",
   "execution_count": 46,
   "metadata": {
    "ExecuteTime": {
     "end_time": "2020-02-19T17:38:40.023559Z",
     "start_time": "2020-02-19T17:38:40.019560Z"
    }
   },
   "outputs": [
    {
     "name": "stdout",
     "output_type": "stream",
     "text": [
      "dimineata\n"
     ]
    }
   ],
   "source": [
    "print(tuplu1[-1])"
   ]
  },
  {
   "cell_type": "code",
   "execution_count": 47,
   "metadata": {
    "ExecuteTime": {
     "end_time": "2020-02-19T17:38:40.036515Z",
     "start_time": "2020-02-19T17:38:40.026542Z"
    }
   },
   "outputs": [
    {
     "name": "stdout",
     "output_type": "stream",
     "text": [
      "3\n"
     ]
    }
   ],
   "source": [
    "print(len(tuplu1))"
   ]
  },
  {
   "cell_type": "code",
   "execution_count": 48,
   "metadata": {
    "ExecuteTime": {
     "end_time": "2020-02-19T17:38:40.202072Z",
     "start_time": "2020-02-19T17:38:40.196090Z"
    }
   },
   "outputs": [
    {
     "name": "stdout",
     "output_type": "stream",
     "text": [
      "0\n"
     ]
    }
   ],
   "source": [
    "tuplu_gol = ()\n",
    "print(len(tuplu_gol))"
   ]
  },
  {
   "cell_type": "code",
   "execution_count": 49,
   "metadata": {
    "ExecuteTime": {
     "end_time": "2020-02-19T17:38:40.211048Z",
     "start_time": "2020-02-19T17:38:40.205064Z"
    }
   },
   "outputs": [
    {
     "name": "stdout",
     "output_type": "stream",
     "text": [
      "1\n"
     ]
    }
   ],
   "source": [
    "la_tuplul_cu_doar_o_valoare_trebuie_adaugata_virgula_la_sfarsit = (42,)\n",
    "print(len(la_tuplul_cu_doar_o_valoare_trebuie_adaugata_virgula_la_sfarsit))"
   ]
  },
  {
   "cell_type": "markdown",
   "metadata": {},
   "source": [
    "Elementele unui tuplu pot fi preluate individual in variabile:"
   ]
  },
  {
   "cell_type": "code",
   "execution_count": 50,
   "metadata": {
    "ExecuteTime": {
     "end_time": "2020-02-19T17:38:40.220024Z",
     "start_time": "2020-02-19T17:38:40.214041Z"
    }
   },
   "outputs": [
    {
     "name": "stdout",
     "output_type": "stream",
     "text": [
      "('informatica', 3, 'dimineata')\n",
      "informatica\n",
      "3\n",
      "dimineata\n"
     ]
    }
   ],
   "source": [
    "print(tuplu1)\n",
    "a, b, c = tuplu1\n",
    "print(a)\n",
    "print(b)\n",
    "print(c)"
   ]
  },
  {
   "cell_type": "code",
   "execution_count": 51,
   "metadata": {
    "ExecuteTime": {
     "end_time": "2020-02-19T17:38:40.239971Z",
     "start_time": "2020-02-19T17:38:40.223016Z"
    }
   },
   "outputs": [
    {
     "data": {
      "text/plain": [
       "('informatica', 3, 'dimineata', 'chimie', 2, 'seara')"
      ]
     },
     "execution_count": 51,
     "metadata": {},
     "output_type": "execute_result"
    }
   ],
   "source": [
    "#Tuplele se pot concatena\n",
    "tuplu1 + tuplu2"
   ]
  },
  {
   "cell_type": "code",
   "execution_count": 52,
   "metadata": {
    "ExecuteTime": {
     "end_time": "2020-02-19T17:38:40.248948Z",
     "start_time": "2020-02-19T17:38:40.241966Z"
    }
   },
   "outputs": [
    {
     "name": "stdout",
     "output_type": "stream",
     "text": [
      "<class 'tuple'>\n",
      "(1, 2, 3, 4, 5)\n"
     ]
    }
   ],
   "source": [
    "#Convertirea unei liste in tuplu:\n",
    "lista = [1, 2, 3, 4, 5]\n",
    "tuplu = tuple(lista)\n",
    "print(type(tuplu))\n",
    "print(tuplu)"
   ]
  },
  {
   "cell_type": "markdown",
   "metadata": {},
   "source": [
    "### Dictionare"
   ]
  },
  {
   "cell_type": "markdown",
   "metadata": {},
   "source": [
    "Dictionarele sunt colectii de asocieri intre chei si valori. Colectia de tip dictionar se demarcheaza cu acolade. Elementele se acceseaza specificand intre paranteze drepte valoarea cheii. "
   ]
  },
  {
   "cell_type": "code",
   "execution_count": 53,
   "metadata": {
    "ExecuteTime": {
     "end_time": "2020-02-19T17:38:40.283853Z",
     "start_time": "2020-02-19T17:38:40.251940Z"
    }
   },
   "outputs": [
    {
     "name": "stdout",
     "output_type": "stream",
     "text": [
      "Lungimea este: 2\n",
      "Valoarea pentru cheia Romania este Bucuresti\n",
      "None\n",
      "<Nu exista in dictionar>\n"
     ]
    }
   ],
   "source": [
    "geografie = {} #dictionar gol\n",
    "geografie = {'Romania': 'Bucuresti', 'Serbia': 'Belgrad'}\n",
    "print('Lungimea este:', len(geografie))\n",
    "key = 'Romania'\n",
    "print('Valoarea pentru cheia', key, 'este',geografie[key])\n",
    "geografie['Grecia'] = 'Atena' #adaugare de pereche cheie-valoare in dictionar\n",
    "# daca se foloseste o cheie care exista, valoarea asociata va fi suprascrisa cu cea noua\n",
    "geografie['Grecia'] = 'Athens'\n",
    "# accesarea folosind o cheie invalilda duce la eroare (KeyError)\n",
    "# geografie['Franta']\n",
    "# pentru a evita eroare la rulare, se poate folosi metoda get; daca cheia nu e gasita in dictionar, se returneaza None\n",
    "print(geografie.get('Franta'))\n",
    "# daca se doreste returnarea unei valori prestabilite in cazul lipsei cheii, metoda get accepta un parametru suplimentar\n",
    "print(geografie.get('Franta', '<Nu exista in dictionar>'))"
   ]
  },
  {
   "cell_type": "markdown",
   "metadata": {},
   "source": [
    "Colectiile cheilor unui dictionar se determina cu metoda `keys`, respectiv `values`:"
   ]
  },
  {
   "cell_type": "code",
   "execution_count": 54,
   "metadata": {
    "ExecuteTime": {
     "end_time": "2020-02-19T17:38:40.295821Z",
     "start_time": "2020-02-19T17:38:40.286845Z"
    }
   },
   "outputs": [
    {
     "name": "stdout",
     "output_type": "stream",
     "text": [
      "Chei: dict_keys(['Romania', 'Serbia', 'Grecia'])\n",
      "Valori: dict_values(['Bucuresti', 'Belgrad', 'Athens'])\n"
     ]
    }
   ],
   "source": [
    "print('Chei:', geografie.keys())\n",
    "print('Valori:', geografie.values())"
   ]
  },
  {
   "cell_type": "markdown",
   "metadata": {},
   "source": [
    "Oricare din colectii poate fi transformata intr-o lista prin apelul constructorului `list()` care poate prelua o colectie oarecare:"
   ]
  },
  {
   "cell_type": "code",
   "execution_count": 55,
   "metadata": {
    "ExecuteTime": {
     "end_time": "2020-02-19T17:38:40.304798Z",
     "start_time": "2020-02-19T17:38:40.298813Z"
    }
   },
   "outputs": [
    {
     "name": "stdout",
     "output_type": "stream",
     "text": [
      "['Romania', 'Serbia', 'Grecia']\n",
      "['Bucuresti', 'Belgrad', 'Athens']\n"
     ]
    }
   ],
   "source": [
    "print(list(geografie.keys()))\n",
    "print(list(geografie.values()))"
   ]
  },
  {
   "cell_type": "markdown",
   "metadata": {},
   "source": [
    "Stergerea unei chei din dictionar, impreuna cu valoarea asociata, se face cu instructiunea `del`:"
   ]
  },
  {
   "cell_type": "code",
   "execution_count": 56,
   "metadata": {
    "ExecuteTime": {
     "end_time": "2020-02-19T17:38:40.312776Z",
     "start_time": "2020-02-19T17:38:40.307790Z"
    }
   },
   "outputs": [
    {
     "name": "stdout",
     "output_type": "stream",
     "text": [
      "{'Romania': 'Bucuresti', 'Serbia': 'Belgrad'}\n"
     ]
    }
   ],
   "source": [
    "del geografie['Grecia']\n",
    "print(geografie)"
   ]
  },
  {
   "cell_type": "markdown",
   "metadata": {},
   "source": [
    "Testarea faptului ca o anumita cheie se afla intr-un dictionar se face cu operatorul `in`:"
   ]
  },
  {
   "cell_type": "code",
   "execution_count": 57,
   "metadata": {
    "ExecuteTime": {
     "end_time": "2020-02-19T17:38:40.324745Z",
     "start_time": "2020-02-19T17:38:40.316766Z"
    }
   },
   "outputs": [
    {
     "name": "stdout",
     "output_type": "stream",
     "text": [
      "False\n"
     ]
    }
   ],
   "source": [
    "print('Grecia' in geografie)"
   ]
  },
  {
   "cell_type": "markdown",
   "metadata": {},
   "source": [
    "Golirea unui dictionar se face, precum la alte tipuri colectie cu metoda `clear`:"
   ]
  },
  {
   "cell_type": "code",
   "execution_count": 58,
   "metadata": {
    "ExecuteTime": {
     "end_time": "2020-02-19T17:38:40.337709Z",
     "start_time": "2020-02-19T17:38:40.329731Z"
    }
   },
   "outputs": [],
   "source": [
    "# geografie.clear()"
   ]
  },
  {
   "cell_type": "markdown",
   "metadata": {},
   "source": [
    "Colectia perechilor (cheie, valoare) a unui dictionar se obtine cu metoda `items()`:"
   ]
  },
  {
   "cell_type": "code",
   "execution_count": 59,
   "metadata": {
    "ExecuteTime": {
     "end_time": "2020-02-19T17:38:40.349677Z",
     "start_time": "2020-02-19T17:38:40.343693Z"
    }
   },
   "outputs": [
    {
     "name": "stdout",
     "output_type": "stream",
     "text": [
      "dict_items([('Romania', 'Bucuresti'), ('Serbia', 'Belgrad')])\n",
      "[('Romania', 'Bucuresti'), ('Serbia', 'Belgrad')]\n"
     ]
    }
   ],
   "source": [
    "print(geografie.items())\n",
    "print(list(geografie.items()))"
   ]
  },
  {
   "cell_type": "markdown",
   "metadata": {},
   "source": [
    "Daca la un dictionar se doreste adaugarea perechilor (cheie-valoare) ale altui dictionar se foloseste metoda `update`:"
   ]
  },
  {
   "cell_type": "code",
   "execution_count": 60,
   "metadata": {
    "ExecuteTime": {
     "end_time": "2020-02-19T17:38:40.360648Z",
     "start_time": "2020-02-19T17:38:40.353667Z"
    }
   },
   "outputs": [
    {
     "name": "stdout",
     "output_type": "stream",
     "text": [
      "{'Romania': 'Bucuresti', 'Serbia': 'Belgrad', 'China': 'Beijing', 'India': 'New Delhi'}\n"
     ]
    }
   ],
   "source": [
    "geografie_asia = {'China':'Beijing', 'India':'New Delhi'}\n",
    "geografie.update(geografie_asia)\n",
    "print(geografie)"
   ]
  },
  {
   "cell_type": "markdown",
   "metadata": {},
   "source": [
    "Clonarea unui dictionar se face cu metoda `copy`:"
   ]
  },
  {
   "cell_type": "code",
   "execution_count": 61,
   "metadata": {
    "ExecuteTime": {
     "end_time": "2020-02-19T17:38:40.368626Z",
     "start_time": "2020-02-19T17:38:40.362643Z"
    }
   },
   "outputs": [
    {
     "name": "stdout",
     "output_type": "stream",
     "text": [
      "New Delhi , New----Delhi\n"
     ]
    }
   ],
   "source": [
    "geografie_copie = geografie.copy()\n",
    "geografie_copie['India'] = 'New----Delhi'\n",
    "print(geografie['India'], ',', geografie_copie['India'])"
   ]
  },
  {
   "cell_type": "markdown",
   "metadata": {},
   "source": [
    "O prezentare detaliata si bine structurata pentru dictionare se gaseste [aici](https://realpython.com/python-dicts/)."
   ]
  },
  {
   "cell_type": "markdown",
   "metadata": {},
   "source": [
    "### Alte colectii"
   ]
  },
  {
   "cell_type": "markdown",
   "metadata": {},
   "source": [
    "Se foloseste foarte frecvent functia `range` care produce o secventa de numere. Formele de utilizare sunt:\n",
    "* `range(n)` produce colectia 0, 1, ..., n-1\n",
    "* `range(start, stop)` produce colectia start, start+1, ..., stop-1\n",
    "* `range(start, stop, step)` produce secventa in functie de semnul lui `step`:\n",
    "    * start, start+step, start+2*step, ... k, unde k este cel mai mare intreg mai mic decat stop, care se obtine prin adaugarea unui multiplu intreg al pasului step la start\n",
    "    * start, start+step, start+2*step, ....k unde k este cel mai mare intreg mai mare decat stop, obtinut prin adaugarea unui multiplu intreg al pasului step la start"
   ]
  },
  {
   "cell_type": "code",
   "execution_count": 62,
   "metadata": {
    "ExecuteTime": {
     "end_time": "2020-02-19T17:38:40.378600Z",
     "start_time": "2020-02-19T17:38:40.371619Z"
    }
   },
   "outputs": [
    {
     "name": "stdout",
     "output_type": "stream",
     "text": [
      "2 3 4 5 6 7 8 9 "
     ]
    }
   ],
   "source": [
    "for i in range(2, 10):\n",
    "    print(i, end=' ')"
   ]
  },
  {
   "cell_type": "code",
   "execution_count": 63,
   "metadata": {
    "ExecuteTime": {
     "end_time": "2020-02-19T17:38:40.389571Z",
     "start_time": "2020-02-19T17:38:40.380595Z"
    }
   },
   "outputs": [
    {
     "name": "stdout",
     "output_type": "stream",
     "text": [
      "2 5 8 "
     ]
    }
   ],
   "source": [
    "for i in range(2, 10, 3):\n",
    "    print(i, end=' ')"
   ]
  },
  {
   "cell_type": "code",
   "execution_count": 64,
   "metadata": {
    "ExecuteTime": {
     "end_time": "2020-02-19T17:38:40.401538Z",
     "start_time": "2020-02-19T17:38:40.392564Z"
    }
   },
   "outputs": [
    {
     "name": "stdout",
     "output_type": "stream",
     "text": [
      "10 8 6 4 "
     ]
    }
   ],
   "source": [
    "for i in range(10, 2, -2):\n",
    "    print(i, end=' ')"
   ]
  },
  {
   "cell_type": "markdown",
   "metadata": {},
   "source": [
    "Functia `enumerate` porneste de la o colectie si da acces simultan atat la indicele elementului din colectie, cat si la elementul curent:"
   ]
  },
  {
   "cell_type": "code",
   "execution_count": 65,
   "metadata": {
    "ExecuteTime": {
     "end_time": "2020-02-19T17:38:40.412509Z",
     "start_time": "2020-02-19T17:38:40.404531Z"
    }
   },
   "outputs": [
    {
     "name": "stdout",
     "output_type": "stream",
     "text": [
      "0 a\n",
      "1 b\n",
      "2 c\n"
     ]
    }
   ],
   "source": [
    "lista1 = ['a', 'b', 'c']\n",
    "for i, item in enumerate(lista1):\n",
    "    print(i, item)"
   ]
  },
  {
   "cell_type": "markdown",
   "metadata": {},
   "source": [
    "Functia `zip` permite 'imperecherea' a doua liste"
   ]
  },
  {
   "cell_type": "code",
   "execution_count": 66,
   "metadata": {
    "ExecuteTime": {
     "end_time": "2020-02-19T17:38:40.424478Z",
     "start_time": "2020-02-19T17:38:40.415502Z"
    }
   },
   "outputs": [
    {
     "name": "stdout",
     "output_type": "stream",
     "text": [
      "('a', 'm')\n",
      "('b', 'n')\n",
      "('c', 'p')\n"
     ]
    }
   ],
   "source": [
    "lista2 = ['m', 'n', 'p']\n",
    "\n",
    "for pereche in zip(lista1, lista2):\n",
    "    print(pereche)"
   ]
  },
  {
   "cell_type": "markdown",
   "metadata": {},
   "source": [
    "Un alt tip de date frecvent utilizat este tipul multime (set), cu prezentare in extenso [aici](https://realpython.com/python-sets/)."
   ]
  },
  {
   "cell_type": "markdown",
   "metadata": {},
   "source": [
    "## Instructiuni, comentarii"
   ]
  },
  {
   "cell_type": "markdown",
   "metadata": {},
   "source": [
    "### Blocuri de instructiuni"
   ]
  },
  {
   "cell_type": "markdown",
   "metadata": {},
   "source": [
    "Instructiunile se scriu de regula cate una pe linie. Daca pentru o instructiune prea lunga se doreset continuarea ei pe linia urmatoare, se pune la finalul liniei caracterul \\ si se continua pe rand nou:"
   ]
  },
  {
   "cell_type": "code",
   "execution_count": 67,
   "metadata": {
    "ExecuteTime": {
     "end_time": "2020-02-19T17:38:40.438440Z",
     "start_time": "2020-02-19T17:38:40.426472Z"
    }
   },
   "outputs": [
    {
     "name": "stdout",
     "output_type": "stream",
     "text": [
      "10\n"
     ]
    }
   ],
   "source": [
    "a = 1 + 2 + 3 \\\n",
    "            + 4\n",
    "print(a)"
   ]
  },
  {
   "cell_type": "markdown",
   "metadata": {},
   "source": [
    "Pentru colectii, continuarea pe rand nou nu necesita caracter backslash:"
   ]
  },
  {
   "cell_type": "code",
   "execution_count": 68,
   "metadata": {
    "ExecuteTime": {
     "end_time": "2020-02-19T17:38:40.449411Z",
     "start_time": "2020-02-19T17:38:40.442430Z"
    }
   },
   "outputs": [],
   "source": [
    "lista_lunga = [1, 2, 3,\n",
    "              4, 5, 6]"
   ]
  },
  {
   "cell_type": "markdown",
   "metadata": {},
   "source": [
    "Se pot scrie mai multe instructiuni pe o linie, despartindu-se cu caracterul ';'. Acest stil insa e nerecomandat"
   ]
  },
  {
   "cell_type": "code",
   "execution_count": 69,
   "metadata": {
    "ExecuteTime": {
     "end_time": "2020-02-19T17:38:40.462380Z",
     "start_time": "2020-02-19T17:38:40.452403Z"
    }
   },
   "outputs": [
    {
     "name": "stdout",
     "output_type": "stream",
     "text": [
      "1\n",
      "2\n"
     ]
    }
   ],
   "source": [
    "print('1'); print('2')"
   ]
  },
  {
   "cell_type": "markdown",
   "metadata": {},
   "source": [
    "Un bloc de instructiuni va folosi aceeasi indentare. Se poate folosi orice pentru indentare (tab, sau acelasi numar de spatii), dar stilul de indentare trebuie sa fie unitar. Un astfel de bloc de instructiuni se termina cu prima linie care nu e indentata in acelasi stil ca si blocul. "
   ]
  },
  {
   "cell_type": "code",
   "execution_count": 70,
   "metadata": {
    "ExecuteTime": {
     "end_time": "2020-02-19T17:38:40.475341Z",
     "start_time": "2020-02-19T17:38:40.469357Z"
    }
   },
   "outputs": [
    {
     "name": "stdout",
     "output_type": "stream",
     "text": [
      "Linia aceasta nu face parte din blocul corespunzator instructiunii if\n"
     ]
    }
   ],
   "source": [
    "if 1 + 1 == 3:\n",
    "    print('Nu se afiseaza')\n",
    "print('Linia aceasta nu face parte din blocul corespunzator instructiunii if')"
   ]
  },
  {
   "cell_type": "markdown",
   "metadata": {},
   "source": [
    "### Comentarii"
   ]
  },
  {
   "cell_type": "markdown",
   "metadata": {},
   "source": [
    "Comentariile sunt fie pe o singura linie, incepand de la caracterul # pana la finalul liniei, fie folosind apostroafe sau ghilimele, de trei ori la inceput si la sfarsit de comentariu:"
   ]
  },
  {
   "cell_type": "code",
   "execution_count": 71,
   "metadata": {
    "ExecuteTime": {
     "end_time": "2020-02-19T17:38:40.485315Z",
     "start_time": "2020-02-19T17:38:40.479330Z"
    }
   },
   "outputs": [
    {
     "data": {
      "text/plain": [
       "'Comentariu\\nfoarte lung'"
      ]
     },
     "execution_count": 71,
     "metadata": {},
     "output_type": "execute_result"
    }
   ],
   "source": [
    "\"\"\"Comentariu\n",
    "foarte lung\"\"\""
   ]
  },
  {
   "cell_type": "markdown",
   "metadata": {},
   "source": [
    "### Atribuirea\n",
    "Atribuirea a fost exemplificata mai sus. Mai avem variantele:"
   ]
  },
  {
   "cell_type": "code",
   "execution_count": 72,
   "metadata": {
    "ExecuteTime": {
     "end_time": "2020-02-19T17:38:40.493294Z",
     "start_time": "2020-02-19T17:38:40.488308Z"
    }
   },
   "outputs": [],
   "source": [
    "# Atribuire multipla cu o valoare\n",
    "a = b = c = 3"
   ]
  },
  {
   "cell_type": "code",
   "execution_count": 73,
   "metadata": {
    "ExecuteTime": {
     "end_time": "2020-02-19T17:38:40.501272Z",
     "start_time": "2020-02-19T17:38:40.496285Z"
    }
   },
   "outputs": [
    {
     "name": "stdout",
     "output_type": "stream",
     "text": [
      "2 3\n"
     ]
    }
   ],
   "source": [
    "# Atribuire multipla cu mai multe valori simultan\n",
    "a, b = 2, 3\n",
    "print(a, b)"
   ]
  },
  {
   "cell_type": "markdown",
   "metadata": {},
   "source": [
    "Ultima forma poate fi speculata astfel: daca `a` si `b` sunt doua variabile si se doreste interschimbarea valorilor lor, atunci putem scrie:"
   ]
  },
  {
   "cell_type": "code",
   "execution_count": 74,
   "metadata": {
    "ExecuteTime": {
     "end_time": "2020-02-19T17:38:40.515240Z",
     "start_time": "2020-02-19T17:38:40.504264Z"
    }
   },
   "outputs": [
    {
     "name": "stdout",
     "output_type": "stream",
     "text": [
      "Inainte de interschimbare:  2 3\n",
      "Dupa interschimbare:  3 2\n"
     ]
    }
   ],
   "source": [
    "print('Inainte de interschimbare: ', a, b)\n",
    "a, b = b, a\n",
    "print('Dupa interschimbare: ', a, b)"
   ]
  },
  {
   "cell_type": "markdown",
   "metadata": {},
   "source": [
    "### Instructiunea `if`"
   ]
  },
  {
   "cell_type": "markdown",
   "metadata": {},
   "source": [
    "Formele uzuale sunt:\n",
    "```python\n",
    "if expresie:\n",
    "    bloc 1\n",
    "else\n",
    "    bloc 2\n",
    "```\n",
    "Partea `else` poate sa lipseasca. Blocurile de instructiuni ce urmeaza dupa `if` si `else` sunt indentate."
   ]
  },
  {
   "cell_type": "code",
   "execution_count": 75,
   "metadata": {
    "ExecuteTime": {
     "end_time": "2020-02-19T17:38:40.527204Z",
     "start_time": "2020-02-19T17:38:40.518226Z"
    }
   },
   "outputs": [
    {
     "name": "stdout",
     "output_type": "stream",
     "text": [
      "In else - Got a false expression value\n",
      "200\n"
     ]
    }
   ],
   "source": [
    "var1 = 100\n",
    "var2 = 200\n",
    "if var1 > var2:\n",
    "   print(\"In if - Got a true expression value\")\n",
    "   print(var1)\n",
    "else:\n",
    "   print(\"In else - Got a false expression value\")\n",
    "   print(var2)"
   ]
  },
  {
   "cell_type": "markdown",
   "metadata": {},
   "source": [
    "O instructiune `if` poate conine multiple teste, folosind `elif`: \n",
    "```python\n",
    "if expression1:\n",
    "   statement(s)\n",
    "elif expression2:\n",
    "   statement(s)\n",
    "elif expression3:\n",
    "   statement(s)\n",
    "else:\n",
    "   statement(s)\n",
    "```\n",
    "Se evalueaza in ordine conditiile `expression1`, `expression2` etc. pana la prima care e gasita ca fiind adevarata; blocul ei este executat si restul se ignora"
   ]
  },
  {
   "cell_type": "code",
   "execution_count": 76,
   "metadata": {
    "ExecuteTime": {
     "end_time": "2020-02-19T17:38:40.539172Z",
     "start_time": "2020-02-19T17:38:40.529197Z"
    }
   },
   "outputs": [
    {
     "name": "stdout",
     "output_type": "stream",
     "text": [
      "3 - Got a true expression value\n",
      "100\n"
     ]
    }
   ],
   "source": [
    "var = 100\n",
    "if var == 200:\n",
    "   print(\"1 - Got a true expression value\")\n",
    "   print(var)\n",
    "elif var == 150:\n",
    "   print(\"2 - Got a true expression value\")\n",
    "   print(var)\n",
    "elif var == 100:\n",
    "   print(\"3 - Got a true expression value\")\n",
    "   print(var)\n",
    "else:\n",
    "   print(\"4 - Got a false expression value\")\n",
    "   print(var)"
   ]
  },
  {
   "cell_type": "markdown",
   "metadata": {},
   "source": [
    "Instructiunea `if` se poate folosi si inline, in forma:\n",
    "```python\n",
    "expression_if_true if condition else expression_if_false\n",
    "```\n",
    "Exemplu:"
   ]
  },
  {
   "cell_type": "code",
   "execution_count": 77,
   "metadata": {
    "ExecuteTime": {
     "end_time": "2020-02-19T17:38:40.550142Z",
     "start_time": "2020-02-19T17:38:40.543160Z"
    }
   },
   "outputs": [
    {
     "name": "stdout",
     "output_type": "stream",
     "text": [
      "gen masculin: True\n"
     ]
    }
   ],
   "source": [
    "CNP = '5678901234567'\n",
    "gen_masculin = True if int(CNP[0]) % 2 == 1 else False\n",
    "print('gen masculin:', gen_masculin)"
   ]
  },
  {
   "cell_type": "markdown",
   "metadata": {},
   "source": [
    "### Ciclare: for"
   ]
  },
  {
   "cell_type": "markdown",
   "metadata": {},
   "source": [
    "Ciclarea cu `for` este folosita pentru a itera o instructiune sau un bloc de instructiuni peste o colectie cunoscuta. "
   ]
  },
  {
   "cell_type": "code",
   "execution_count": 78,
   "metadata": {
    "ExecuteTime": {
     "end_time": "2020-02-19T17:38:40.560114Z",
     "start_time": "2020-02-19T17:38:40.553133Z"
    }
   },
   "outputs": [
    {
     "name": "stdout",
     "output_type": "stream",
     "text": [
      "i= 0\n",
      "i= 1\n",
      "i= 2\n"
     ]
    }
   ],
   "source": [
    "for i in range(0, 3):\n",
    "    print('i=', i)"
   ]
  },
  {
   "cell_type": "code",
   "execution_count": 79,
   "metadata": {
    "ExecuteTime": {
     "end_time": "2020-02-19T17:38:40.570088Z",
     "start_time": "2020-02-19T17:38:40.563107Z"
    }
   },
   "outputs": [
    {
     "name": "stdout",
     "output_type": "stream",
     "text": [
      "100 != 93326215443944152681699238856266700490715968264381621468592963895217599993229915608941463976156518286253697920827223758251185210916864000000000000000000000000\n"
     ]
    }
   ],
   "source": [
    "# Exemplu: calculul factorialului unui numar\n",
    "n = 100\n",
    "p = 1\n",
    "for i in range(1, n+1):\n",
    "    p *= i\n",
    "print(n, '!=', p)"
   ]
  },
  {
   "cell_type": "code",
   "execution_count": 80,
   "metadata": {
    "ExecuteTime": {
     "end_time": "2020-02-19T17:38:40.578067Z",
     "start_time": "2020-02-19T17:38:40.573081Z"
    }
   },
   "outputs": [],
   "source": [
    "# %%timeit\n",
    "# n = 100\n",
    "# list_numbers = [str(i) for i in range(1, n+1)]\n",
    "# expression = '*'.join(list_numbers)\n",
    "# print(eval(expression))"
   ]
  },
  {
   "cell_type": "code",
   "execution_count": 81,
   "metadata": {
    "ExecuteTime": {
     "end_time": "2020-02-19T17:38:40.587044Z",
     "start_time": "2020-02-19T17:38:40.581058Z"
    }
   },
   "outputs": [
    {
     "name": "stdout",
     "output_type": "stream",
     "text": [
      "Ana\n",
      "Dan\n",
      "Rares\n",
      "Dana\n"
     ]
    }
   ],
   "source": [
    "lista_nume = ['Ana', 'Dan', 'Rares', 'Dana']\n",
    "for nume in lista_nume:\n",
    "    print(nume)"
   ]
  },
  {
   "cell_type": "code",
   "execution_count": 82,
   "metadata": {
    "ExecuteTime": {
     "end_time": "2020-02-19T17:38:40.601005Z",
     "start_time": "2020-02-19T17:38:40.591037Z"
    }
   },
   "outputs": [
    {
     "name": "stdout",
     "output_type": "stream",
     "text": [
      "Bucuresti\n",
      "Belgrad\n",
      "Atena\n"
     ]
    }
   ],
   "source": [
    "geografie = {'Romania': 'Bucuresti', 'Serbia': 'Belgrad', 'Grecia':'Atena'}\n",
    "for key in geografie:\n",
    "    print(geografie[key])"
   ]
  },
  {
   "cell_type": "code",
   "execution_count": 83,
   "metadata": {
    "ExecuteTime": {
     "end_time": "2020-02-19T17:38:40.616962Z",
     "start_time": "2020-02-19T17:38:40.603997Z"
    }
   },
   "outputs": [
    {
     "name": "stdout",
     "output_type": "stream",
     "text": [
      "Capitala pentru Romania este Bucuresti\n",
      "Capitala pentru Serbia este Belgrad\n",
      "Capitala pentru Grecia este Atena\n"
     ]
    }
   ],
   "source": [
    "# iterare cu doua elemente, peste colectie de perechi\n",
    "for key, value in geografie.items():\n",
    "    print('Capitala pentru', key, 'este', value)"
   ]
  },
  {
   "cell_type": "code",
   "execution_count": 84,
   "metadata": {
    "ExecuteTime": {
     "end_time": "2020-02-19T17:38:40.627933Z",
     "start_time": "2020-02-19T17:38:40.619955Z"
    }
   },
   "outputs": [
    {
     "name": "stdout",
     "output_type": "stream",
     "text": [
      "0 Ana\n",
      "1 Dan\n",
      "2 Rares\n",
      "3 Dana\n"
     ]
    }
   ],
   "source": [
    "for index, element in enumerate(lista_nume):\n",
    "    print(index, element)"
   ]
  },
  {
   "cell_type": "code",
   "execution_count": 85,
   "metadata": {
    "ExecuteTime": {
     "end_time": "2020-02-19T17:38:40.637907Z",
     "start_time": "2020-02-19T17:38:40.630926Z"
    }
   },
   "outputs": [
    {
     "name": "stdout",
     "output_type": "stream",
     "text": [
      "Ana are 20 ani\n",
      "Dan are 21 ani\n",
      "Rares are 22 ani\n",
      "Dana are 23 ani\n"
     ]
    }
   ],
   "source": [
    "# enumerare peste doua colectii 'impreunate'\n",
    "lista_ani = [20, 21, 22, 23]\n",
    "for nume, ani in zip(lista_nume, lista_ani):\n",
    "    print(nume, 'are', ani, 'ani')"
   ]
  },
  {
   "cell_type": "markdown",
   "metadata": {},
   "source": [
    "Se poate forta iesirea dintr-un ciclu `for` cu instructiunea `break`. Se poate sari peste o parte din blocul unui ciclu `for` si trece la ciclarea urmatoare folosind `continue`:"
   ]
  },
  {
   "cell_type": "code",
   "execution_count": 86,
   "metadata": {
    "ExecuteTime": {
     "end_time": "2020-02-19T17:38:40.646882Z",
     "start_time": "2020-02-19T17:38:40.640899Z"
    }
   },
   "outputs": [
    {
     "name": "stdout",
     "output_type": "stream",
     "text": [
      "0\n",
      "1\n",
      "2\n",
      "3\n",
      "4\n",
      "5\n"
     ]
    }
   ],
   "source": [
    "for i in range(100):\n",
    "    if i > 5:\n",
    "        break\n",
    "    print(i)"
   ]
  },
  {
   "cell_type": "code",
   "execution_count": 87,
   "metadata": {
    "ExecuteTime": {
     "end_time": "2020-02-19T17:38:40.655861Z",
     "start_time": "2020-02-19T17:38:40.649875Z"
    }
   },
   "outputs": [
    {
     "name": "stdout",
     "output_type": "stream",
     "text": [
      "1\n",
      "3\n",
      "5\n",
      "7\n",
      "9\n"
     ]
    }
   ],
   "source": [
    "for i in range(10):\n",
    "    if i % 2 == 0:\n",
    "        continue\n",
    "    print(i)"
   ]
  },
  {
   "cell_type": "markdown",
   "metadata": {},
   "source": [
    "O forma aparte a instructiunii `for` in Python este aceea in care la final se pune `else`: daca nu s-a executat 'break' in corpul ciclului, atunci se executa blocul de dupa `else`:"
   ]
  },
  {
   "cell_type": "code",
   "execution_count": 88,
   "metadata": {
    "ExecuteTime": {
     "end_time": "2020-02-19T17:38:40.670819Z",
     "start_time": "2020-02-19T17:38:40.659849Z"
    }
   },
   "outputs": [
    {
     "name": "stdout",
     "output_type": "stream",
     "text": [
      "2 is a prime number\n",
      "3 is a prime number\n",
      "4 equals 2 * 2\n",
      "5 is a prime number\n",
      "6 equals 2 * 3\n",
      "7 is a prime number\n",
      "8 equals 2 * 4\n",
      "9 equals 3 * 3\n"
     ]
    }
   ],
   "source": [
    "for n in range(2, 10):\n",
    "    for x in range(2, n):\n",
    "        if n % x == 0:\n",
    "            print( n, 'equals', x, '*', n//x)\n",
    "            break\n",
    "    else:\n",
    "        # loop fell through without finding a factor\n",
    "        print(n, 'is a prime number')"
   ]
  },
  {
   "cell_type": "markdown",
   "metadata": {},
   "source": [
    "### Ciclare: while"
   ]
  },
  {
   "cell_type": "markdown",
   "metadata": {},
   "source": [
    "Folosind `while` se cicleaza peste un bloc de instructiuni atata timp cat o anumita conditie este adevarata:\n",
    "```python\n",
    "while test_expression:\n",
    "    body of while\n",
    "```"
   ]
  },
  {
   "cell_type": "code",
   "execution_count": 89,
   "metadata": {
    "ExecuteTime": {
     "end_time": "2020-02-19T17:38:40.683783Z",
     "start_time": "2020-02-19T17:38:40.674807Z"
    }
   },
   "outputs": [
    {
     "name": "stdout",
     "output_type": "stream",
     "text": [
      "The sum is 55\n"
     ]
    }
   ],
   "source": [
    "n = 10\n",
    "\n",
    "# initialize sum and counter\n",
    "my_sum = 0\n",
    "i = 1\n",
    "\n",
    "while i <= n:\n",
    "    my_sum = my_sum + i\n",
    "    i = i+1    # update counter\n",
    "\n",
    "# print the sum\n",
    "print(\"The sum is\", my_sum)"
   ]
  },
  {
   "cell_type": "markdown",
   "metadata": {},
   "source": [
    "Se poate ca o instructiune `while` sa se termine cu `else`, al carei bloc se executa cand expresia de test devine falsa, dar numai daca nu s-a ajuns la un `break`."
   ]
  }
 ],
 "metadata": {
  "kernelspec": {
   "display_name": "Python 3",
   "language": "python",
   "name": "python3"
  },
  "language_info": {
   "codemirror_mode": {
    "name": "ipython",
    "version": 3
   },
   "file_extension": ".py",
   "mimetype": "text/x-python",
   "name": "python",
   "nbconvert_exporter": "python",
   "pygments_lexer": "ipython3",
   "version": "3.8.5"
  },
  "toc": {
   "base_numbering": 1,
   "nav_menu": {},
   "number_sections": true,
   "sideBar": true,
   "skip_h1_title": false,
   "title_cell": "Table of Contents",
   "title_sidebar": "Contents",
   "toc_cell": false,
   "toc_position": {},
   "toc_section_display": true,
   "toc_window_display": false
  },
  "varInspector": {
   "cols": {
    "lenName": 16,
    "lenType": 16,
    "lenVar": 40
   },
   "kernels_config": {
    "python": {
     "delete_cmd_postfix": "",
     "delete_cmd_prefix": "del ",
     "library": "var_list.py",
     "varRefreshCmd": "print(var_dic_list())"
    },
    "r": {
     "delete_cmd_postfix": ") ",
     "delete_cmd_prefix": "rm(",
     "library": "var_list.r",
     "varRefreshCmd": "cat(var_dic_list()) "
    }
   },
   "types_to_exclude": [
    "module",
    "function",
    "builtin_function_or_method",
    "instance",
    "_Feature"
   ],
   "window_display": false
  }
 },
 "nbformat": 4,
 "nbformat_minor": 2
}
