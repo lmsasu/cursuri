{
 "cells": [
  {
   "cell_type": "markdown",
   "metadata": {},
   "source": [
    "# Metodologie CRISP-DM. Exemple de proiecte DS"
   ]
  },
  {
   "cell_type": "markdown",
   "metadata": {},
   "source": [
    "Proiectele de DS sunt diverse si greu de prins intr-o schema unitara. Totusi, exista un consens larg asupra pasilor care trebuie sa se execute intr-un astfel de proiect. Mai mult, exista o metodologie care da secventa de pasi de urmat. Metodologia se numeste CRISP-DM (Cross-industry standard process for data mining).Este un standard deschis, convenind pasii pe care expertii in Data Mining ii urmeaza. Conceput in 1996, a fost extins in 2015 de catre IBM prin Analytics Solutions Unified Method for Data Mining/Predictive Analytics (ASUM-DM).\n",
    "\n",
    "<img src=\"./images/1024px-CRISP-DM_Process_Diagram.png\" width=\"600px\" />\n",
    "Sursa: https://en.wikipedia.org/wiki/Cross-industry_standard_process_for_data_mining#/media/File:CRISP-DM_Process_Diagram.png"
   ]
  },
  {
   "cell_type": "markdown",
   "metadata": {},
   "source": [
    "Sunt 6 faze majore intr-un proces de DS/DM:\n",
    "1. Business understanding\n",
    "1. Data understanding\n",
    "1. Data preparation\n",
    "1. Modeling\n",
    "1. Evaluation\n",
    "1. Deployment\n",
    "\n",
    "[comment]: <> (Sursa: https://www.sv-europe.com/crisp-dm-methodology/)"
   ]
  },
  {
   "cell_type": "markdown",
   "metadata": {},
   "source": [
    "## Pasul 1. Determinarea obiectivelor de business (Determine business objectives)"
   ]
  },
  {
   "cell_type": "markdown",
   "metadata": {},
   "source": [
    "1. Ce se doreste de la proiect?\n",
    "    * setarea obiectivelor - traducerea din perspectiva de business in obiective data science. De exemplu, se doreste determinarea tenditei clientilor de a se muta la un competitor; deciderea asupra caror clienti li se va adresa o anumita campanie (cui trimiti pliante/solicitari de donatii etc.)\n",
    "    * perspectiva DS: specificarea tipului de problema: clasificare, regresie, descriere, sumarizare, grupare, detectare de outliers etc.\n",
    "    * definirea metricilor de succes - cum se decide daca proiectul se incheie cu succes sau nu, metode masurabile de cuantificare a profitului, pe scurt masurarea impactului procesului (parte din Key Performance Indicators, KPIs)\n",
    "    * producerea unui plan de actiune - pasii care urmeaza sa se execute in restul proiectului, inclusiv alegerea uneltelor si a tehnicilor folosite\n",
    "1. Estimarea situatiei curente\n",
    "    * inventar de resurse: personal (experti in domeniu, pentru domain knowledge; suport tehnic; experti ML/DS, ingineri DS); date (fisiere CSV, date relationale, data warehouse, data lake, REST endpoints etc.); resurse hardware (platforme HW, CPU/GPU, stocare, resurse cloud, backup, modalitate de comunicare); software (unelte gratuite/platite - deja disponibile sau achizitionabile, alt software relevant);\n",
    "    * cerinte, presupuneri, constrangeri: \n",
    "        * calendar al activitatilor, securitatea datelor/privacy, deliverables (rapoarte, proof of concept etc.)\n",
    "        * presupuneri care trebuie validate - coerenta datelor\n",
    "        * constrangeri: resurse necesare, timp de rulare, modalitate de deploy, constrangeri tehnologice\n",
    "    * managementul riscului - care sunt portiunile riscante din proiect? exista alternative? care e costul lor?\n",
    "    * terminologie - termeni de business, dar si termeni de ML (accuracy, precision, recall etc.)\n",
    "    * costuri si beneficii - pentru fiecare rezultat potential, care sunt costurile de proiect pentru atingerea lui?\n",
    "1. Definirea scopurilor\n",
    "    * scopuri de business - descrierea rezultatelor intentionate, legate de obiectivele de business (cresterea numarului de clienti, limitarea pierderilor dintr-un proces etc.)\n",
    "    * metrici de DS - gradul de acuratete atins, scor de tip mean squared error/mean absolute error etc.\n",
    "1. Producerea unui plan de proiect\n",
    "    * pasii de executat, durata, resurse cerute, intrari, iesiri, dependinte; iteratiile trebuie explicit date; detectarea zonelor de risc + alternative\n",
    "    * evaluare initiala a tehnicilor si uneltelor folosite; necesar SW; deciziile pot avea impact de durata mare\n",
    "    \n"
   ]
  },
  {
   "cell_type": "markdown",
   "metadata": {},
   "source": [
    "## Pasul 2. Intelegerea datelor"
   ]
  },
  {
   "cell_type": "markdown",
   "metadata": {},
   "source": [
    "1. Lista surselor de date\n",
    "1. Descrierea datelor\n",
    "    * care sunt datele disponibile, in ce format, efort necesar pentru convertirera lor; verificarea faptului ca satisfac niste cerinte de calitate minimale\n",
    "1. Explorarea datelor - interogari particulare, vizualizarea datelor, rapoarte intermediare\n",
    "    * relatii intre perechi sau multimi mici de atribute\n",
    "    * rezultatele unor agregari simple\n",
    "    * subpopulatii de date (grupare pe genul persoanelor, provenienta geografica, localizare, nivel de educatie, cunostinte de ordin financiar etc)\n",
    "    * analiza statistica simpla\n",
    "    * finalizare cu raport de explorare a datelor - primele chestiuni descoperite, impactul lor preconizat asupra proiectului si metodelor utilizate (de ex: ocurenta valorilor lipsa, clase debalansate etc.)\n",
    "1. Verificarea calitatii datelor\n",
    "    * asigura toate cazurile cerute?\n",
    "    * contin erori? chestiune in care domain knowledge e esential; detectare de valori eronate, outliers\n",
    "    * missing values? daca da, cum se trateaza (stergere de date/atribute, missing value imputation)\n",
    "1. Raport asupra calitatii datelor\n",
    "    * lista rezultatelor obtinute in urma investigatiilor din acest pas\n",
    "    * sugerarea rezolvarilor - dependenta de domain knowledge, tipuri de probleme, unelte DS disponibile"
   ]
  },
  {
   "cell_type": "markdown",
   "metadata": {},
   "source": [
    "## Pasul 3: pregatirea datelor"
   ]
  },
  {
   "cell_type": "markdown",
   "metadata": {},
   "source": [
    "1. Selectarea datelor\n",
    "    * date selectate dupa relevanta\n",
    "    * motivele pentru care unele date se exclud trebuie sa fie clar documentate\n",
    "    * constrangeri tehnice (cantitatea de date) considerate\n",
    "    * caracterul privat al datelor\n",
    "1. Curatarea datelor\n",
    "    * modalitate de selectare/filtrare\n",
    "    * missing value imputation (valori default sau sub-proiecte pentru estimarea valorilor lipsa)\n",
    "    * raport al etapei de curatare a datelor\n",
    "1. Constructii auxiliare\n",
    "    * selectarea sau extragerea trasaturilor (chestiuni diferite)\n",
    "    * generarea de inregistrari suplimentare (clienti fara comenzi efectuate, alte situatii preluate din realitate)\n",
    "1. Integrarea datelor\n",
    "    * jonctiuni de date, concatenare\n",
    "    * agregari de date (numar de achizitii, valoarea totala a cumparaturilor, valoare media/mediana) -> posibil sa duca la noi trasaturi informative\n",
    "    "
   ]
  },
  {
   "cell_type": "markdown",
   "metadata": {},
   "source": [
    "## Pasul 4. Modelarea"
   ]
  },
  {
   "cell_type": "markdown",
   "metadata": {},
   "source": [
    "1. Selectarea tehnicii de modelare:\n",
    "    * documentarea tehnicilor ce urmeaza sa fie folosite\n",
    "    * presupuneri/cerinte asupra datelor (fara valori lipsa, statistici minimale) - in ce conditii tehnicile de la pct anterior functioneaza\n",
    "    * adaptarile tehnicilor standard pentru cazurile concrete existente\n",
    "1. Design-ul pasului de test\n",
    "    * cum se masoara performanta modelelor (metrici ML/DS)\n",
    "    * descrierea etapei de validare si testare\n",
    "    * modalitatea de impartire in train/validation/test susbsets\n",
    "1. Construirea modelelor\n",
    "    * antrenarea modelelor, determinarea hiperparametrilor, estimarea erformantelor\n",
    "    * salvarea modelelor rezultate\n",
    "    * descrierea modelelor si a modificarilor specifice\n",
    "    * documentarea dificultatilor intampinate (conversia datelor, durata de antrenare/validare, dependente intre pasi etc.)\n",
    "1. Estimarea performantei modelelor\n",
    "    * raportarea rezultatelor, interpretarea lor, explicarea comportamentului modelelor\n",
    "    * revizuirea hiperparametrilor + a valorilor candidat specifice; reantrenare modele"
   ]
  },
  {
   "cell_type": "markdown",
   "metadata": {},
   "source": [
    "## Pasul 5: evaluarea"
   ]
  },
  {
   "cell_type": "markdown",
   "metadata": {},
   "source": [
    "1. Evaluarea rezultatelor\n",
    "    * confruntarea cu obiectivele de business - estimarea castigului realizat\n",
    "    * daca e posbil: aplicare modele pe piata\n",
    "    * considerarea rezultatelor colaterale obtinute, impactul asupra proiectului, considerarea lor ca metrici\n",
    "    * aprobarea modelelor - cele care indeplinesc cerintele de business devin **modele aprobate**\n",
    "1. Revizuirea (review)\n",
    "    * reevaluarea pasilor procesului, lessons learned, posibilitate de extindere, verificarea compatibilitatii cu datele actuale (data privacy, prevederi locale sau generale etc.)\n",
    "1. Determinarea pasilor urmatori\n",
    "    * finalizare proiectului si mutarea in productie (deployment)? reluarea iteratiilor? \n",
    "    * evaluarea resurselor ramase poate influenta decizia\n",
    "    * se produce: lista de posibile actiuni, motivul de alegere al fiecarei optiuni\n",
    "    * decizia finala, cu motivatie\n",
    "    "
   ]
  },
  {
   "cell_type": "markdown",
   "metadata": {},
   "source": [
    "## Deployment"
   ]
  },
  {
   "cell_type": "markdown",
   "metadata": {},
   "source": [
    "1. Planificarea pasului de deployment\n",
    "    * se sumarizeaza pasii prin care modelele adoptate ajung in \"productie\". Se poate decide deployere pe cloud, pregatirea de masini virtuale setate corespunzator, software containers (Docker), rescrierea modelelor in alte limbaje (C++/Java) etc;\n",
    "    * estimare de efort (timp, oameni, resurse software, calificari - e.g. DevOps)\n",
    "    * sumar al strategiei de deploy, inclusiv pasii necesari, preconditii\n",
    "1. Monitorizare si mentenanta\n",
    "    * se evita utilizarile necorespunzatoare, perioadele de nefunctionare, input necorespunzator, interpretarea eronata a productiei sistemelor DS\n",
    "    * se consulta jurnalele de activitate (logging)\n",
    "    * se monitorizeaza performanta modelelor (timpii de reactie, calitatea predictiilor, incarcarea sistemelor); se poate detecta degradarea performantei modelelor, de exemplu din motive de concept drifting;\n",
    "    * plan de monitorizare: actiuni, etape, frecventa de actiune/interogare a starii sistemelor; KPIs; \n",
    "1. Producerea raportului final\n",
    "    * poate fi doar un sumar al proiectului si experientele dobandite\n",
    "    * poate fi un raport extensiv al rezultatelor obtinute\n",
    "    * artefacte: raport final + prezentare finala\n",
    "1. Revizuirea proiectului\n",
    "    * documentarea experientei; lectii invatate; greseli in pasii urmati; \n",
    "    * poate utiliza rapoartele realizate de-a lungul pasilor"
   ]
  },
  {
   "cell_type": "markdown",
   "metadata": {},
   "source": [
    "# Exemplul 1"
   ]
  },
  {
   "cell_type": "markdown",
   "metadata": {},
   "source": [
    "[Predictia supravietuirii pe Titanic](https://www.districtdatalabs.com/how-to-start-your-first-data-science-project)"
   ]
  },
  {
   "cell_type": "markdown",
   "metadata": {},
   "source": [
    "# Exemplul 2"
   ]
  },
  {
   "cell_type": "markdown",
   "metadata": {},
   "source": [
    "[Data science worklow example](https://github.com/aakashtandel/misc_projects/blob/master/Data%20Science%20Workflow%20Project/Data%20Science%20Workflow.ipynb)"
   ]
  }
 ],
 "metadata": {
  "kernelspec": {
   "display_name": "Python 3",
   "language": "python",
   "name": "python3"
  },
  "language_info": {
   "codemirror_mode": {
    "name": "ipython",
    "version": 3
   },
   "file_extension": ".py",
   "mimetype": "text/x-python",
   "name": "python",
   "nbconvert_exporter": "python",
   "pygments_lexer": "ipython3",
   "version": "3.8.10"
  },
  "toc": {
   "base_numbering": 1,
   "nav_menu": {},
   "number_sections": true,
   "sideBar": true,
   "skip_h1_title": false,
   "title_cell": "Table of Contents",
   "title_sidebar": "Contents",
   "toc_cell": false,
   "toc_position": {},
   "toc_section_display": true,
   "toc_window_display": false
  },
  "varInspector": {
   "cols": {
    "lenName": 16,
    "lenType": 16,
    "lenVar": 40
   },
   "kernels_config": {
    "python": {
     "delete_cmd_postfix": "",
     "delete_cmd_prefix": "del ",
     "library": "var_list.py",
     "varRefreshCmd": "print(var_dic_list())"
    },
    "r": {
     "delete_cmd_postfix": ") ",
     "delete_cmd_prefix": "rm(",
     "library": "var_list.r",
     "varRefreshCmd": "cat(var_dic_list()) "
    }
   },
   "types_to_exclude": [
    "module",
    "function",
    "builtin_function_or_method",
    "instance",
    "_Feature"
   ],
   "window_display": false
  }
 },
 "nbformat": 4,
 "nbformat_minor": 2
}
