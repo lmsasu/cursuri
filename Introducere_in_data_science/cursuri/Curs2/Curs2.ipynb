{
 "cells": [
  {
   "cell_type": "markdown",
   "metadata": {},
   "source": [
    "# Curs 2: Lucrul cu colectii, functii, module si pachete Python, pachetul NumPy"
   ]
  },
  {
   "cell_type": "markdown",
   "metadata": {},
   "source": [
    "## Collection comprehension"
   ]
  },
  {
   "cell_type": "markdown",
   "metadata": {},
   "source": [
    "Pornind de la o colectie (cel mai frecvent caz: de la o lista) se poate crea o alta lista, folosind *list comprehension* - in esenta o ciclare:"
   ]
  },
  {
   "cell_type": "code",
   "execution_count": 1,
   "metadata": {
    "ExecuteTime": {
     "end_time": "2021-02-28T19:42:13.978097Z",
     "start_time": "2021-02-28T19:42:13.962857Z"
    }
   },
   "outputs": [
    {
     "name": "stdout",
     "output_type": "stream",
     "text": [
      "[1, 9, 36, 441, 484, 1024, 1089]\n"
     ]
    }
   ],
   "source": [
    "lista_numere = [1, 3, 6,  21, 22, 32, 33]\n",
    "lista_patrate = [i*i for i in lista_numere]\n",
    "print(lista_patrate)"
   ]
  },
  {
   "cell_type": "markdown",
   "metadata": {},
   "source": [
    "Optional, la fiecare pas al iterarii se poate lua in considerare o conditie `if` inline:"
   ]
  },
  {
   "cell_type": "code",
   "execution_count": 2,
   "metadata": {
    "ExecuteTime": {
     "end_time": "2021-02-28T19:42:13.989273Z",
     "start_time": "2021-02-28T19:42:13.979980Z"
    }
   },
   "outputs": [
    {
     "name": "stdout",
     "output_type": "stream",
     "text": [
      "[36, 484, 1024]\n"
     ]
    }
   ],
   "source": [
    "lista_patrate_doar_numere_pare = [i*i for i in lista_numere if i % 2 == 0]\n",
    "print(lista_patrate_doar_numere_pare)"
   ]
  },
  {
   "cell_type": "markdown",
   "metadata": {},
   "source": [
    "... sau se foloseste si `else` pe langa `if`:"
   ]
  },
  {
   "cell_type": "code",
   "execution_count": 3,
   "metadata": {
    "ExecuteTime": {
     "end_time": "2021-02-28T19:42:14.001334Z",
     "start_time": "2021-02-28T19:42:13.992663Z"
    }
   },
   "outputs": [
    {
     "name": "stdout",
     "output_type": "stream",
     "text": [
      "[1, 27, 36, 9261, 484, 1024, 35937]\n"
     ]
    }
   ],
   "source": [
    "lista_patrate_sau_cuburi = [i**2 if i % 2 == 0 else i ** 3 for i in lista_numere]\n",
    "print(lista_patrate_sau_cuburi)"
   ]
  },
  {
   "cell_type": "markdown",
   "metadata": {},
   "source": [
    "Exercitiu: daca o lista are ca elemente alte liste, cum se poate determina lista 'flattened'? De exemplu, pentru lista a1 = [[1, 2], [3, 4, 5], [10]] se doreste rezultatul a2 = [1, 2, 3, 4, 5, 10]"
   ]
  },
  {
   "cell_type": "code",
   "execution_count": 4,
   "metadata": {
    "ExecuteTime": {
     "end_time": "2021-02-28T19:42:14.016990Z",
     "start_time": "2021-02-28T19:42:14.010128Z"
    }
   },
   "outputs": [
    {
     "name": "stdout",
     "output_type": "stream",
     "text": [
      "[1, 2, 3, 4, 5, 10]\n"
     ]
    }
   ],
   "source": [
    "a1 = [[1, 2], [3, 4, 5], [10]]\n",
    "a2 = [item for sublist in a1 for item in sublist]\n",
    "print(a2)"
   ]
  },
  {
   "cell_type": "markdown",
   "metadata": {},
   "source": [
    "Comprehension se poate folosi si peste alte tipuri de colectii: de exemplu, putem pleca de la o lista si producem dictionar:"
   ]
  },
  {
   "cell_type": "code",
   "execution_count": 5,
   "metadata": {
    "ExecuteTime": {
     "end_time": "2021-02-28T19:42:14.027446Z",
     "start_time": "2021-02-28T19:42:14.020698Z"
    }
   },
   "outputs": [
    {
     "name": "stdout",
     "output_type": "stream",
     "text": [
      "{1: 1, 3: 9, 6: 36, 21: 441, 22: 484, 32: 1024, 33: 1089}\n"
     ]
    }
   ],
   "source": [
    "lista_numere = [1, 3, 6,  21, 22, 32, 33]\n",
    "dictionar_numere_si_patrate = {i:i**2 for i in lista_numere}\n",
    "print(dictionar_numere_si_patrate)"
   ]
  },
  {
   "cell_type": "markdown",
   "metadata": {},
   "source": [
    "...sau liste de tuple:"
   ]
  },
  {
   "cell_type": "code",
   "execution_count": 6,
   "metadata": {
    "ExecuteTime": {
     "end_time": "2021-02-28T19:42:14.043202Z",
     "start_time": "2021-02-28T19:42:14.034073Z"
    }
   },
   "outputs": [
    {
     "name": "stdout",
     "output_type": "stream",
     "text": [
      "[('red', 'house'), ('red', 'car'), ('red', 'tree'), ('green', 'house'), ('green', 'car'), ('green', 'tree'), ('yellow', 'house'), ('yellow', 'car'), ('yellow', 'tree'), ('blue', 'house'), ('blue', 'car'), ('blue', 'tree')]\n"
     ]
    }
   ],
   "source": [
    "#produs cartezian\n",
    "colours = [ \"red\", \"green\", \"yellow\", \"blue\" ]\n",
    "things = [ \"house\", \"car\", \"tree\" ]\n",
    "produs_cartezian = [(colour, thing) for colour in colours for thing in things]\n",
    "print(produs_cartezian)\n",
    "assert len(produs_cartezian) == len(colours) * len(things)"
   ]
  },
  {
   "cell_type": "markdown",
   "metadata": {},
   "source": [
    "Mai jos sunt cateva exemple de utilizare de comprehension peste colectii."
   ]
  },
  {
   "cell_type": "code",
   "execution_count": 7,
   "metadata": {
    "ExecuteTime": {
     "end_time": "2021-02-28T19:42:14.058526Z",
     "start_time": "2021-02-28T19:42:14.050128Z"
    }
   },
   "outputs": [
    {
     "name": "stdout",
     "output_type": "stream",
     "text": [
      "[-4.0, 14.0, 32.0, 41.0, 73.4, 95.0]\n"
     ]
    }
   ],
   "source": [
    "#Conversie de temperaturi din Celsius in Fahrenheit: valoarea in Fahrenheit se obtine cu formula: 1.8 * gradeCelsius + 32\n",
    "gradeCelsius = [-20, -10, 0, 5, 23, 35]\n",
    "gradeFahrenheit = [1.8*gc + 32 for gc in gradeCelsius]\n",
    "print(gradeFahrenheit)"
   ]
  },
  {
   "cell_type": "code",
   "execution_count": 8,
   "metadata": {
    "ExecuteTime": {
     "end_time": "2021-02-28T19:42:14.067049Z",
     "start_time": "2021-02-28T19:42:14.061854Z"
    }
   },
   "outputs": [
    {
     "name": "stdout",
     "output_type": "stream",
     "text": [
      "2870\n"
     ]
    }
   ],
   "source": [
    "#Suma patratelor numerelor de la 1 la 20\n",
    "print(sum([x**2 for x in range(1, 21)]))"
   ]
  },
  {
   "cell_type": "code",
   "execution_count": 9,
   "metadata": {
    "ExecuteTime": {
     "end_time": "2021-02-28T19:42:14.114926Z",
     "start_time": "2021-02-28T19:42:14.076129Z"
    }
   },
   "outputs": [
    {
     "name": "stdout",
     "output_type": "stream",
     "text": [
      "Initial: ['Stopword', 'filtering', 'is', 'a', 'common', 'step', 'in', 'preprocessing', 'text', 'for', 'various', 'purposes', 'This', 'is', 'a', 'list', 'of', 'several', 'different', 'stopword', 'lists', 'extracted', 'from', 'various', 'search', 'engines', 'libraries', 'and', 'articles', 'There', 'is', 'a', 'surprising', 'number', 'of', 'different', 'lists']\n",
      "\n",
      "Dupa filtrare: ['Stopword', 'filtering', 'common', 'step', 'preprocessing', 'text', 'various', 'purposes', 'This', 'list', 'different', 'stopword', 'lists', 'extracted', 'various', 'search', 'engines', 'libraries', 'articles', 'There', 'surprising', 'number', 'different', 'lists']\n"
     ]
    }
   ],
   "source": [
    "#Dintr-o lista de cuvinte se mentin doar cele care nu fac parte dintr-o alta lista specificata (stop words)\n",
    "stop_words = [\"a\", \"about\", \"above\", \"above\", \"across\", \"after\", \"afterwards\", \"again\", \"against\", \"all\", \"almost\", \"alone\", \"along\", \"already\", \"also\",\"although\",\"always\",\"am\",\"among\", \"amongst\", \"amoungst\", \"amount\",  \"an\", \"and\", \"another\", \"any\",\"anyhow\",\"anyone\",\"anything\",\"anyway\", \"anywhere\", \"are\", \"around\", \"as\",  \"at\", \"back\",\"be\",\"became\", \"because\",\"become\",\"becomes\", \"becoming\", \"been\", \"before\", \"beforehand\", \"behind\", \"being\", \"below\", \"beside\", \"besides\", \"between\", \"beyond\", \"bill\", \"both\", \"bottom\",\"but\", \"by\", \"call\", \"can\", \"cannot\", \"cant\", \"co\", \"con\", \"could\", \"couldnt\", \"cry\", \"de\", \"describe\", \"detail\", \"do\", \"done\", \"down\", \"due\", \"during\", \"each\", \"eg\", \"eight\", \"either\", \"eleven\",\"else\", \"elsewhere\", \"empty\", \"enough\", \"etc\", \"even\", \"ever\", \"every\", \"everyone\", \"everything\", \"everywhere\", \"except\", \"few\", \"fifteen\", \"fify\", \"fill\", \"find\", \"fire\", \"first\", \"five\", \"for\", \"former\", \"formerly\", \"forty\", \"found\", \"four\", \"from\", \"front\", \"full\", \"further\", \"get\", \"give\", \"go\", \"had\", \"has\", \"hasnt\", \"have\", \"he\", \"hence\", \"her\", \"here\", \"hereafter\", \"hereby\", \"herein\", \"hereupon\", \"hers\", \"herself\", \"him\", \"himself\", \"his\", \"how\", \"however\", \"hundred\", \"ie\", \"if\", \"in\", \"inc\", \"indeed\", \"interest\", \"into\", \"is\", \"it\", \"its\", \"itself\", \"keep\", \"last\", \"latter\", \"latterly\", \"least\", \"less\", \"ltd\", \"made\", \"many\", \"may\", \"me\", \"meanwhile\", \"might\", \"mill\", \"mine\", \"more\", \"moreover\", \"most\", \"mostly\", \"move\", \"much\", \"must\", \"my\", \"myself\", \"name\", \"namely\", \"neither\", \"never\", \"nevertheless\", \"next\", \"nine\", \"no\", \"nobody\", \"none\", \"noone\", \"nor\", \"not\", \"nothing\", \"now\", \"nowhere\", \"of\", \"off\", \"often\", \"on\", \"once\", \"one\", \"only\", \"onto\", \"or\", \"other\", \"others\", \"otherwise\", \"our\", \"ours\", \"ourselves\", \"out\", \"over\", \"own\",\"part\", \"per\", \"perhaps\", \"please\", \"put\", \"rather\", \"re\", \"same\", \"see\", \"seem\", \"seemed\", \"seeming\", \"seems\", \"serious\", \"several\", \"she\", \"should\", \"show\", \"side\", \"since\", \"sincere\", \"six\", \"sixty\", \"so\", \"some\", \"somehow\", \"someone\", \"something\", \"sometime\", \"sometimes\", \"somewhere\", \"still\", \"such\", \"system\", \"take\", \"ten\", \"than\", \"that\", \"the\", \"their\", \"them\", \"themselves\", \"then\", \"thence\", \"there\", \"thereafter\", \"thereby\", \"therefore\", \"therein\", \"thereupon\", \"these\", \"they\", \"thickv\", \"thin\", \"third\", \"this\", \"those\", \"though\", \"three\", \"through\", \"throughout\", \"thru\", \"thus\", \"to\", \"together\", \"too\", \"top\", \"toward\", \"towards\", \"twelve\", \"twenty\", \"two\", \"un\", \"under\", \"until\", \"up\", \"upon\", \"us\", \"very\", \"via\", \"was\", \"we\", \"well\", \"were\", \"what\", \"whatever\", \"when\", \"whence\", \"whenever\", \"where\", \"whereafter\", \"whereas\", \"whereby\", \"wherein\", \"whereupon\", \"wherever\", \"whether\", \"which\", \"while\", \"whither\", \"who\", \"whoever\", \"whole\", \"whom\", \"whose\", \"why\", \"will\", \"with\", \"within\", \"without\", \"would\", \"yet\", \"you\", \"your\", \"yours\", \"yourself\", \"yourselves\", \"the\"]\n",
    "paragraph_list = ['Stopword','filtering','is','a','common','step','in','preprocessing','text','for','various','purposes','This','is','a','list','of','several','different','stopword','lists','extracted','from','various','search','engines','libraries','and','articles','There', 'is','a','surprising','number','of','different','lists']\n",
    "print('Initial:',paragraph_list)\n",
    "filtered = [cuvant for cuvant in paragraph_list if cuvant not in stop_words]\n",
    "print('\\nDupa filtrare:', filtered)        "
   ]
  },
  {
   "cell_type": "markdown",
   "metadata": {},
   "source": [
    "## Functii"
   ]
  },
  {
   "cell_type": "markdown",
   "metadata": {},
   "source": [
    "Functiile sunt de trei feluri:\n",
    "* Functii deja definite in limbajul Python, cum ar fi `len()`, `print()`\n",
    "* Functii definite de utilizator\n",
    "* Lambda functii\n",
    "\n",
    "O functie se defineste folosind cuvantul cheie `def`. Blocul de instructiuni ce defineste corpul functiei este indentat. O functie poate sa nu returneze nimic in mod explicit (si in acest caz rezultatul returnat este considerat `None`), sau orice numar de valori."
   ]
  },
  {
   "cell_type": "markdown",
   "metadata": {},
   "source": [
    "### Functii definite de utilizator"
   ]
  },
  {
   "cell_type": "markdown",
   "metadata": {},
   "source": [
    "Urmeaza cateva exemple de functii definite de utilizatorcu comentarii:"
   ]
  },
  {
   "cell_type": "code",
   "execution_count": 10,
   "metadata": {
    "ExecuteTime": {
     "end_time": "2021-02-28T19:42:14.126643Z",
     "start_time": "2021-02-28T19:42:14.119160Z"
    }
   },
   "outputs": [
    {
     "name": "stdout",
     "output_type": "stream",
     "text": [
      "Salutare\n"
     ]
    }
   ],
   "source": [
    "def hello():\n",
    "    print('Salutare')\n",
    "    \n",
    "hello()"
   ]
  },
  {
   "cell_type": "code",
   "execution_count": 11,
   "metadata": {
    "ExecuteTime": {
     "end_time": "2021-02-28T19:42:14.140334Z",
     "start_time": "2021-02-28T19:42:14.129788Z"
    }
   },
   "outputs": [
    {
     "name": "stdout",
     "output_type": "stream",
     "text": [
      "Salutare Natalia\n",
      "NATALIA\n",
      "Help on function hello_with_name in module __main__:\n",
      "\n",
      "hello_with_name(nume)\n",
      "    Functia preia un argument si afiseaza mesajul: Salutare urmat de valoarea argumentului.\n",
      "    Functia returneaza argumentul cu litere mari.\n",
      "    :param nume: numele care se cere afisat\n",
      "    :return: sirul din :param nume: cu litere mari\n",
      "\n",
      "\n",
      "    Functia preia un argument si afiseaza mesajul: Salutare urmat de valoarea argumentului.\n",
      "    Functia returneaza argumentul cu litere mari.\n",
      "    :param nume: numele care se cere afisat\n",
      "    :return: sirul din :param nume: cu litere mari\n",
      "    \n"
     ]
    }
   ],
   "source": [
    "def hello_with_name(nume):\n",
    "    '''\n",
    "    Functia preia un argument si afiseaza mesajul: Salutare urmat de valoarea argumentului.\n",
    "    Functia returneaza argumentul cu litere mari.\n",
    "    :param nume: numele care se cere afisat\n",
    "    :return: sirul din :param nume: cu litere mari\n",
    "    '''\n",
    "    print('Salutare ' + nume)\n",
    "    return nume.upper()\n",
    "\n",
    "nume = 'Natalia'\n",
    "nume_litere_mari = hello_with_name(nume)\n",
    "print(nume_litere_mari)\n",
    "help(hello_with_name)\n",
    "print(hello_with_name.__doc__)"
   ]
  },
  {
   "cell_type": "code",
   "execution_count": 12,
   "metadata": {
    "ExecuteTime": {
     "end_time": "2021-02-28T19:42:14.156201Z",
     "start_time": "2021-02-28T19:42:14.144146Z"
    }
   },
   "outputs": [
    {
     "name": "stdout",
     "output_type": "stream",
     "text": [
      "Minimul este: 10 ; maximul este: 20\n"
     ]
    }
   ],
   "source": [
    "#exemplu de functie care returneaza mai multe valori simultan\n",
    "#rezultatul este un tuplu cu doua valori\n",
    "def min_max(a, b):\n",
    "    if a<b:\n",
    "        return a, b\n",
    "    else:\n",
    "        return b, a\n",
    "    \n",
    "x, y = 20, 10\n",
    "min_2, max_2 = min_max(x, y)\n",
    "print('Minimul este:', min_2, '; maximul este:', max_2)"
   ]
  },
  {
   "cell_type": "code",
   "execution_count": 13,
   "metadata": {
    "ExecuteTime": {
     "end_time": "2021-02-28T19:42:14.177600Z",
     "start_time": "2021-02-28T19:42:14.159375Z"
    }
   },
   "outputs": [
    {
     "data": {
      "text/plain": [
       "(5, 14)"
      ]
     },
     "execution_count": 13,
     "metadata": {},
     "output_type": "execute_result"
    }
   ],
   "source": [
    "#parametrii se pot da prin numele lor urmat de egal si valoarea efectiva\n",
    "min_max(a=5, b=14)"
   ]
  },
  {
   "cell_type": "code",
   "execution_count": 14,
   "metadata": {
    "ExecuteTime": {
     "end_time": "2021-02-28T19:42:14.191160Z",
     "start_time": "2021-02-28T19:42:14.178596Z"
    }
   },
   "outputs": [
    {
     "data": {
      "text/plain": [
       "(3, 20)"
      ]
     },
     "execution_count": 14,
     "metadata": {},
     "output_type": "execute_result"
    }
   ],
   "source": [
    "min_max(b=3, a=20)"
   ]
  },
  {
   "cell_type": "markdown",
   "metadata": {},
   "source": [
    "Pot exista parametri cu valori implicite, precizati la finalul listei de parametri formali:"
   ]
  },
  {
   "cell_type": "code",
   "execution_count": 15,
   "metadata": {
    "ExecuteTime": {
     "end_time": "2021-02-28T19:42:14.209363Z",
     "start_time": "2021-02-28T19:42:14.196832Z"
    }
   },
   "outputs": [
    {
     "name": "stdout",
     "output_type": "stream",
     "text": [
      "Hello Kate, Good morning!\n",
      "Hello Bruce, How do you do?\n"
     ]
    }
   ],
   "source": [
    "def greet(name, msg = \"Good morning!\"):\n",
    "   \"\"\"\n",
    "   This function greets to the person with the provided message.\n",
    "\n",
    "   If message is not provided, it defaults to \"Good morning!\"\n",
    "   :param name: Name of the guy to be greeted\n",
    "   :param msg: a message shown as greeting. It defaults to \"Good morning\"\n",
    "   \"\"\"\n",
    "\n",
    "   print(\"Hello\",name + ', ' + msg)\n",
    "\n",
    "greet(\"Kate\")\n",
    "greet(\"Bruce\",\"How do you do?\")\n",
    "# echivalent: greet(name=\"Bruce\",msg=\"How do you do?\")"
   ]
  },
  {
   "cell_type": "markdown",
   "metadata": {},
   "source": [
    "Putem avea n parametru care sa permita numar variabil de valori trimise la apel; acest tip de parametru se scrie cu `*` urmata de numele parametrului formal (de exemplu: `*args`)"
   ]
  },
  {
   "cell_type": "code",
   "execution_count": 16,
   "metadata": {
    "ExecuteTime": {
     "end_time": "2021-02-28T19:42:14.221892Z",
     "start_time": "2021-02-28T19:42:14.213740Z"
    }
   },
   "outputs": [
    {
     "name": "stdout",
     "output_type": "stream",
     "text": [
      "Hello Dan, Good morning!\n",
      "Hello John, Good morning!\n",
      "Hello Mary, Good morning!\n",
      "Hello Dan, How do you do?\n",
      "Hello John, How do you do?\n",
      "Hello Mary, How do you do?\n"
     ]
    }
   ],
   "source": [
    "#Functie cu numar arbitrar de argumente\n",
    "def greet(*names, msg = \"Good morning!\"):\n",
    "    for name in names:\n",
    "        print('Hello', name + ', ' + msg)\n",
    "greet('Dan', 'John', 'Mary')      \n",
    "greet('Dan', 'John', 'Mary', msg='How do you do?')"
   ]
  },
  {
   "cell_type": "markdown",
   "metadata": {},
   "source": [
    "Se pot defini functii care sa manipuleze un numar variabil de parametri dati la apel sub forma de nume_parametru=valoare_parametru; denumirea traditionala este `kwargs` (keywords arguments), numele parametrului se prefixaza cu `**`:"
   ]
  },
  {
   "cell_type": "code",
   "execution_count": 17,
   "metadata": {
    "ExecuteTime": {
     "end_time": "2021-02-28T19:42:14.239276Z",
     "start_time": "2021-02-28T19:42:14.225985Z"
    }
   },
   "outputs": [
    {
     "name": "stdout",
     "output_type": "stream",
     "text": [
      "{'fruits': 'apples', 'quantity': '3', 'measurement_unit': 'kg'}\n"
     ]
    }
   ],
   "source": [
    "def demo_kwargs(**kwargs):\n",
    "    print(kwargs)\n",
    "    \n",
    "demo_kwargs(fruits='apples', quantity='3', measurement_unit='kg')"
   ]
  },
  {
   "cell_type": "markdown",
   "metadata": {},
   "source": [
    "Iterarea peste perechile din kwargs se face tinant cont ca acesta este un dictionar:"
   ]
  },
  {
   "cell_type": "code",
   "execution_count": 18,
   "metadata": {
    "ExecuteTime": {
     "end_time": "2021-02-28T19:42:14.251180Z",
     "start_time": "2021-02-28T19:42:14.242393Z"
    }
   },
   "outputs": [
    {
     "name": "stdout",
     "output_type": "stream",
     "text": [
      "fruits apples\n",
      "quantity 3\n",
      "measurement_unit kg\n"
     ]
    }
   ],
   "source": [
    "def demo_kwargs_iter(**kwargs):\n",
    "    for key, value in kwargs.items():\n",
    "        print(key, value)\n",
    "        \n",
    "demo_kwargs_iter(fruits='apples', quantity='3', measurement_unit='kg')"
   ]
  },
  {
   "cell_type": "markdown",
   "metadata": {},
   "source": [
    "Acelasi efect se obtine prin despachetarea de dictionare, folosind `**`:`"
   ]
  },
  {
   "cell_type": "code",
   "execution_count": 19,
   "metadata": {
    "ExecuteTime": {
     "end_time": "2021-02-28T19:42:14.260240Z",
     "start_time": "2021-02-28T19:42:14.254080Z"
    }
   },
   "outputs": [
    {
     "name": "stdout",
     "output_type": "stream",
     "text": [
      "{'fruits': 'apples', 'quantity': '3', 'measurement_unit': 'kg'}\n"
     ]
    }
   ],
   "source": [
    "dictionar_argumente = {'fruits':'apples', 'quantity':'3', 'measurement_unit':'kg'}\n",
    "demo_kwargs(**dictionar_argumente)"
   ]
  },
  {
   "cell_type": "markdown",
   "metadata": {},
   "source": [
    "Ordonarea parametrilor declarati intr-o functie este:\n",
    "1. parametri formali preluati prin pozitie\n",
    "1. `*args`\n",
    "1. parametri cu valori asociate\n",
    "1. `**kwargs`\n",
    "\n",
    "```python\n",
    "def example2(arg_1, arg_2, *args, kw_1=\"shark\", kw_2=\"blobfish\", **kwargs):\n",
    "```"
   ]
  },
  {
   "cell_type": "markdown",
   "metadata": {},
   "source": [
    "### Lambda functii"
   ]
  },
  {
   "cell_type": "markdown",
   "metadata": {},
   "source": [
    "Se pot defini functii anonime (sau: lambda functii), continand o expresie, pentru care nu se considera necesara definirea unor functii separate. O lambda functie poate sa preia oricate argumente si calculeaza o expresie pe baza lor. Lambda functiile pot accesa doar parametrii trimisi (nu si pe cei globali). Se va omite cuvantul `return`, expresia calculata este cea care se returneaza automat. "
   ]
  },
  {
   "cell_type": "code",
   "execution_count": 20,
   "metadata": {
    "ExecuteTime": {
     "end_time": "2021-02-28T19:42:14.274049Z",
     "start_time": "2021-02-28T19:42:14.267140Z"
    }
   },
   "outputs": [
    {
     "name": "stdout",
     "output_type": "stream",
     "text": [
      "7\n"
     ]
    }
   ],
   "source": [
    "suma = lambda x, y: x+y\n",
    "print(suma(3, 4))"
   ]
  },
  {
   "cell_type": "code",
   "execution_count": 21,
   "metadata": {
    "ExecuteTime": {
     "end_time": "2021-02-28T19:42:14.284564Z",
     "start_time": "2021-02-28T19:42:14.277386Z"
    }
   },
   "outputs": [
    {
     "name": "stdout",
     "output_type": "stream",
     "text": [
      "[0, 3, 6, 9, 12, 15, 18, 21, 24, 27]\n"
     ]
    }
   ],
   "source": [
    "#lambda functie pentru filtrare via functia filter\n",
    "lista_30 = list(range(30))\n",
    "lista_filtrata = list(filter(lambda x: x%3==0, lista_30))\n",
    "print(lista_filtrata)"
   ]
  },
  {
   "cell_type": "code",
   "execution_count": 22,
   "metadata": {
    "ExecuteTime": {
     "end_time": "2021-02-28T19:42:14.303948Z",
     "start_time": "2021-02-28T19:42:14.291658Z"
    }
   },
   "outputs": [
    {
     "data": {
      "text/plain": [
       "[-1, -2, 2, -3, 3, 4, -5, 6, 7, 8, 9]"
      ]
     },
     "execution_count": 22,
     "metadata": {},
     "output_type": "execute_result"
    }
   ],
   "source": [
    "#lambda functie pentru sortare:\n",
    "sorted([-1, -2, -3, 2, 3, 4, -5, 6, 7, 8, 9], key=lambda x: x**2)"
   ]
  },
  {
   "cell_type": "markdown",
   "metadata": {},
   "source": [
    "### Functii callback"
   ]
  },
  {
   "cell_type": "markdown",
   "metadata": {},
   "source": [
    "Numele unei functii reprezinta adresa de memorie a acelei functii:"
   ]
  },
  {
   "cell_type": "code",
   "execution_count": 23,
   "metadata": {
    "ExecuteTime": {
     "end_time": "2021-02-28T19:42:14.317209Z",
     "start_time": "2021-02-28T19:42:14.303948Z"
    }
   },
   "outputs": [
    {
     "name": "stdout",
     "output_type": "stream",
     "text": [
      "<function sum_2 at 0x00000156FB782CA0>\n",
      "<function dif_2 at 0x00000156FB782EE0>\n"
     ]
    }
   ],
   "source": [
    "def sum_2(x, y):\n",
    "    return x+y\n",
    "\n",
    "def dif_2(x, y):\n",
    "    return x - y\n",
    "\n",
    "print(sum_2)\n",
    "print(dif_2)"
   ]
  },
  {
   "cell_type": "markdown",
   "metadata": {},
   "source": [
    "Putem folosi acest mecanism pentru a trimite functii ca parametri intr-o alta functie:"
   ]
  },
  {
   "cell_type": "code",
   "execution_count": 24,
   "metadata": {
    "ExecuteTime": {
     "end_time": "2021-02-28T19:42:14.332138Z",
     "start_time": "2021-02-28T19:42:14.325092Z"
    }
   },
   "outputs": [
    {
     "name": "stdout",
     "output_type": "stream",
     "text": [
      "5\n",
      "-1\n"
     ]
    }
   ],
   "source": [
    "def complex_operation(x, y, to_be_called):\n",
    "    return to_be_called(x, y)\n",
    "\n",
    "print(complex_operation(2, 3, sum_2))\n",
    "print(complex_operation(2, 3, dif_2))"
   ]
  },
  {
   "cell_type": "markdown",
   "metadata": {},
   "source": [
    "## Adnotari de tipuri"
   ]
  },
  {
   "cell_type": "markdown",
   "metadata": {},
   "source": [
    "Incepand cu versiunea 3.5 a limbajului Python, se pot adnota variabilele, parametrii de functii, tipul de retur al functiilor. Operatia de type annotations este optionala si este destinata a mari lizibilitatea codului. Ele sunt definite in documentul de Python Enhancement Proposal [PEP484](https://www.python.org/dev/peps/pep-0484/).\n",
    "\n",
    "In afara de cod mai usor de citit, un alt beneficiu este analiza static de cod, de exemplu in PyCharm sau [MyPy](http://mypy-lang.org), sau suport imbunatatit pentru code completion.\n",
    "\n",
    "Adnotarile se precizeaza dupa numele variabilei,  urmat de doua puncte si denumirea tipului:"
   ]
  },
  {
   "cell_type": "code",
   "execution_count": 25,
   "metadata": {
    "ExecuteTime": {
     "end_time": "2021-02-28T19:42:14.340383Z",
     "start_time": "2021-02-28T19:42:14.334337Z"
    }
   },
   "outputs": [],
   "source": [
    "age:int = 21\n",
    "name:str = \"Guido van Rossum\""
   ]
  },
  {
   "cell_type": "markdown",
   "metadata": {},
   "source": [
    "Adnotarea nu inhiba in niciun fel utilizarea variabile, sau schimbarea in instructiunile urmatoare a tipului lor:"
   ]
  },
  {
   "cell_type": "code",
   "execution_count": 26,
   "metadata": {
    "ExecuteTime": {
     "end_time": "2021-02-28T19:42:14.359797Z",
     "start_time": "2021-02-28T19:42:14.352098Z"
    }
   },
   "outputs": [],
   "source": [
    "age = 21.5"
   ]
  },
  {
   "cell_type": "markdown",
   "metadata": {},
   "source": [
    "Pentru adnotara parametrilor si a tipului functiilor se poate urmari exemplul de mai jos: "
   ]
  },
  {
   "cell_type": "code",
   "execution_count": 27,
   "metadata": {
    "ExecuteTime": {
     "end_time": "2021-02-28T19:42:14.373109Z",
     "start_time": "2021-02-28T19:42:14.362470Z"
    }
   },
   "outputs": [
    {
     "data": {
      "text/plain": [
       "'Salut Rafael, ai 23 de ani'"
      ]
     },
     "execution_count": 27,
     "metadata": {},
     "output_type": "execute_result"
    }
   ],
   "source": [
    "def f(name:str, age:int) -> str:\n",
    "    return 'Salut ' + name + ', ai ' + str(age) + ' de ani'\n",
    "\n",
    "f('Rafael',23)"
   ]
  },
  {
   "cell_type": "markdown",
   "metadata": {},
   "source": [
    "Pentru tipuri complexe se va folosi clasa `typing`, care pune la dispozitie tipuri precum `Dict`, `Tuple`, `List`, `Set` etc."
   ]
  },
  {
   "cell_type": "code",
   "execution_count": 28,
   "metadata": {
    "ExecuteTime": {
     "end_time": "2021-02-28T19:42:14.394102Z",
     "start_time": "2021-02-28T19:42:14.379358Z"
    }
   },
   "outputs": [
    {
     "name": "stdout",
     "output_type": "stream",
     "text": [
      "Salut Ana, ai 20 de ani\n",
      "Salut Dan, ai 21 de ani\n",
      "Salut Maria, ai 22 de ani\n"
     ]
    }
   ],
   "source": [
    "from typing import List\n",
    "\n",
    "def salut_multi(nume: List[str], varste: List[int]) -> None:\n",
    "    for n, v in zip(nume, varste):\n",
    "        print(f'Salut {n}, ai {v} de ani')\n",
    "        \n",
    "salut_multi(['Ana', 'Dan', 'Maria'], [20, 21, 22])"
   ]
  },
  {
   "cell_type": "markdown",
   "metadata": {},
   "source": [
    "Se pot defini tipuri utilizator, folosindu-ne de cele disponibile:"
   ]
  },
  {
   "cell_type": "code",
   "execution_count": 29,
   "metadata": {
    "ExecuteTime": {
     "end_time": "2021-02-28T19:42:14.403485Z",
     "start_time": "2021-02-28T19:42:14.395547Z"
    }
   },
   "outputs": [],
   "source": [
    "from typing import Tuple\n",
    "\n",
    "Point2D = Tuple[int, int]\n",
    "\n",
    "def plot_point(point: Point2D) -> bool:\n",
    "    ## operatii\n",
    "    return True\n",
    "\n",
    "def rotate_point(p:Point2D, angle:float) -> Point2D:\n",
    "    ## operatii\n",
    "    ## newPoint = ....\n",
    "    return newPoint"
   ]
  },
  {
   "cell_type": "markdown",
   "metadata": {},
   "source": [
    "Daca o variabila poate avea unul din mai multe tipuri posibile, putem urma exemplul:"
   ]
  },
  {
   "cell_type": "code",
   "execution_count": 30,
   "metadata": {
    "ExecuteTime": {
     "end_time": "2021-02-28T19:42:14.415702Z",
     "start_time": "2021-02-28T19:42:14.408675Z"
    }
   },
   "outputs": [],
   "source": [
    "from typing import Union\n",
    "\n",
    "def print_value(value: Union[str, int, float]) -> None:\n",
    "    print(value)"
   ]
  },
  {
   "cell_type": "markdown",
   "metadata": {},
   "source": [
    "Daca o variabila poate sa fie de un anumit tip sau sa vina cu valoarea `None`, se procedeaza precum mai jos:"
   ]
  },
  {
   "cell_type": "code",
   "execution_count": 31,
   "metadata": {
    "ExecuteTime": {
     "end_time": "2021-02-28T19:42:14.428985Z",
     "start_time": "2021-02-28T19:42:14.422932Z"
    }
   },
   "outputs": [],
   "source": [
    "from typing import Optional\n",
    "\n",
    "def f(param: Optional[str]) -> str:\n",
    "    if param is not None:\n",
    "        return param.upper()\n",
    "    else:\n",
    "        return \"\""
   ]
  },
  {
   "cell_type": "markdown",
   "metadata": {},
   "source": [
    "Pentru alte constructii: definirea de tipuri noi, callback functions, colectii generice etc. recomandam consultarea bibliografiei."
   ]
  },
  {
   "cell_type": "markdown",
   "metadata": {},
   "source": [
    "### Bibliografie recomandata\n",
    "\n",
    "1. [PEP484](https://www.python.org/dev/peps/pep-0484/) \n",
    "1. [typing — Support for type hints](https://docs.python.org/3/library/typing.html)\n",
    "1. [Type hints cheat sheet (Python 3)](https://mypy.readthedocs.io/en/latest/cheat_sheet_py3.html)"
   ]
  },
  {
   "cell_type": "markdown",
   "metadata": {},
   "source": [
    "## Module"
   ]
  },
  {
   "cell_type": "markdown",
   "metadata": {},
   "source": [
    "Modulele sunt fisiere Python cu extensia .py, in care se gasesc implementari de functii, clase, declaratii de variabile. Importarea unui modul se face cu instructiunea `import`. \n",
    "\n",
    "Exemplu: cream un modul - fisierul Python mySmartModule.py - care contine o functie ce calculeaza suma elementelor dintr-o lista:\n",
    "\n",
    "\n",
    "```python\n",
    "#fisierul mySmartModule.py\n",
    "def my_sum(lista):\n",
    "    sum = 0\n",
    "    for item in lista:\n",
    "        sum += item\n",
    "    return sum\n",
    "```\n",
    "\n",
    "Utilizarea se face cu:\n",
    "```python\n",
    "import mySmartModule\n",
    "\n",
    "lista = [1, 2, 3]\n",
    "\n",
    "suma = mySmartModule.my_sum(lista)\n",
    "print(suma)\n",
    "```"
   ]
  },
  {
   "cell_type": "markdown",
   "metadata": {},
   "source": [
    "Se poate ca modulul sa fie importat cu un nume mai scurt, sub forma:\n",
    "```python\n",
    "import mySmartModule as msm\n",
    "```\n",
    "si in acest caz apelul se face cu:\n",
    "```python\n",
    "suma = msm.my_sum(lista)\n",
    "```"
   ]
  },
  {
   "cell_type": "markdown",
   "metadata": {},
   "source": [
    "Putem afla ce pune la dispozitie un modul:\n",
    "```python\n",
    ">>> dir(msm)\n",
    "['__builtins__', '__cached__', '__doc__', '__file__', '__loader__', '__name__', '__package__', '__spec__', 'my_sum']\n",
    "```\n",
    "elementele aflate intre dublu underscore ('dunders') sunt adaugate automat de Python. "
   ]
  },
  {
   "cell_type": "markdown",
   "metadata": {},
   "source": [
    "Daca se doreste ca tot ceea ce e definit intr-un modul sa fie disponibil fara a mai face prefixare cu `nume_modul.nume_entitate`, atunci se poate proceda astfel:\n",
    "```python\n",
    "from mySmartModule import *\n",
    "\n",
    "print(my_sum([1, 2, 3]))\n",
    "```\n",
    "Se recomanda insa sa se importe strict acele entitati (functii, tipuri) din modul care sunt utilizate; in felul acesta se evita suprascrierea prin import al altor entitati deja importate:\n",
    "```python\n",
    "from mySmartModule import my_sum\n",
    "\n",
    "print(my_sum([1, 2, 3]))\n",
    "```"
   ]
  },
  {
   "cell_type": "markdown",
   "metadata": {},
   "source": [
    "Ordinea de cautare a modulelor este:\n",
    "1. directorul curent\n",
    "1. daca nu se gaseste modulul cerut, se cauta in variabila de mediu `PYTHONPATH`, daca e definita\n",
    "1. daca nu se gaseste modulul cerut, se cauta in calea implicita.\n",
    "\n",
    "Calea de cautare implicita se gaseste in variabila `path` din modulul sistem `sys`:"
   ]
  },
  {
   "cell_type": "code",
   "execution_count": 32,
   "metadata": {
    "ExecuteTime": {
     "end_time": "2021-02-28T19:42:14.464312Z",
     "start_time": "2021-02-28T19:42:14.456221Z"
    }
   },
   "outputs": [
    {
     "name": "stdout",
     "output_type": "stream",
     "text": [
      "['d:\\\\work\\\\school\\\\cursuri\\\\Introducere_In_Data_Science\\\\cursuri\\\\Curs2', 'C:\\\\anaconda3\\\\envs\\\\ids\\\\python38.zip', 'C:\\\\anaconda3\\\\envs\\\\ids\\\\DLLs', 'C:\\\\anaconda3\\\\envs\\\\ids\\\\lib', 'C:\\\\anaconda3\\\\envs\\\\ids', '', 'C:\\\\anaconda3\\\\envs\\\\ids\\\\lib\\\\site-packages', 'C:\\\\anaconda3\\\\envs\\\\ids\\\\lib\\\\site-packages\\\\locket-0.2.1-py3.8.egg', 'C:\\\\anaconda3\\\\envs\\\\ids\\\\lib\\\\site-packages\\\\win32', 'C:\\\\anaconda3\\\\envs\\\\ids\\\\lib\\\\site-packages\\\\win32\\\\lib', 'C:\\\\anaconda3\\\\envs\\\\ids\\\\lib\\\\site-packages\\\\Pythonwin', 'C:\\\\anaconda3\\\\envs\\\\ids\\\\lib\\\\site-packages\\\\IPython\\\\extensions', 'C:\\\\Users\\\\Lucian\\\\.ipython']\n"
     ]
    }
   ],
   "source": [
    "import sys\n",
    "print(sys.path)"
   ]
  },
  {
   "cell_type": "markdown",
   "metadata": {},
   "source": [
    "Daca se doreste ca un modul scris de utilizator intr-un director ce nu se gaseste in lista de mai sus sa fie accesibil pentru import, atunci calea catre director trebuie adaugata la colectia `sys.path`:"
   ]
  },
  {
   "cell_type": "code",
   "execution_count": 33,
   "metadata": {
    "ExecuteTime": {
     "end_time": "2021-02-28T19:42:14.492981Z",
     "start_time": "2021-02-28T19:42:14.476045Z"
    }
   },
   "outputs": [
    {
     "name": "stdout",
     "output_type": "stream",
     "text": [
      "6\n"
     ]
    }
   ],
   "source": [
    "sys.path.append('./my_modules/')\n",
    "from mySmartModule import my_sum\n",
    "print(my_sum([1, 2, 3]))"
   ]
  },
  {
   "cell_type": "markdown",
   "metadata": {},
   "source": [
    "Un modul se poate folosi in doua feluri: \n",
    "1. pentru a pune la dispozitie diferite implementari de functii sau de clase, sau variabile setate la anumite valori (de exemplu `math.pi`):\n",
    "```python\n",
    "import math\n",
    "print(math.pi)\n",
    "```\n",
    "2. se poate lansa de sine statator, scriind in lina de comanda: `python mySmartModule.py`. Pentru acest caz, daca se vrea ca sa se execute o anumita secventa de cod, atunci se va scrie in modulul Python `mySmartModule.py`:\n",
    "```python\n",
    "if __name__ == '__main__':\n",
    "    #cod care se executa la lansarea directa a script-ului\n",
    "```\n",
    "\n",
    "Codul din sectiunea `if` scrisa ca mai sus nu se va executa cand modulul este importat.\n",
    "\n",
    "Exemplu:\n",
    "```python\n",
    "def my_sum(lista):\n",
    "    sum = 0\n",
    "    for item in lista:\n",
    "        sum += item\n",
    "    return sum\n",
    "\t\n",
    "if __name__ == '__main__':\n",
    "\tprint('Exemplu de utilizare')\n",
    "\tlista = list(range(100))\n",
    "\tprint(my_sum(lista))\n",
    "```"
   ]
  },
  {
   "cell_type": "markdown",
   "metadata": {},
   "source": [
    "## Pachete Python"
   ]
  },
  {
   "cell_type": "markdown",
   "metadata": {},
   "source": [
    "Un pachet este o colectie de module. Fizic, un pachet este o structura ierarhica de directoare in care se gasesc module si alte pachete. Este obligatoriu ca in orice director care se doreste a fi vazut ca un pachet sa existe un fisier numit `__init__.py`. In prima faza, `__init__.py` poate fi gol. Plecam de la structura de directoare si fisiere:\n",
    "```\n",
    "---myUtils\\\n",
    " |------ mySmartModule.py\n",
    " |------ __init__.py\n",
    "```"
   ]
  },
  {
   "cell_type": "markdown",
   "metadata": {},
   "source": [
    "Pentru importul functiei `my_sum` din fisierul `mySmartModule.py` aflat in directorul `myUtils` - care se doreste a fi pachet - s-ar scrie astfel:\n",
    "```python\n",
    "from myUtils.mySmartModule import my_sum\n",
    "print(my_sum([1, 2, 3]))\n",
    "```\n",
    "dar am prefera sa putem scrie:\n",
    "```python\n",
    "from myUtils import my_sum\n",
    "print(my_sum([1, 2, 30]))\n",
    "```\n",
    "adica sa nu mai referim modulul (fisierul) `mySmartModule` din cadrul pachetului `myUtils`. Pentru asta vom adauga in fisierul `__init__.py` din directorul `myUtils` linia:\n",
    "```python\n",
    "from .mySmartModule import my_sum \n",
    "```\n",
    "unde caracterul `.` de dinaintea numelui de modul `mySmartModule` se refera la calea relativa. "
   ]
  },
  {
   "cell_type": "code",
   "execution_count": 34,
   "metadata": {
    "ExecuteTime": {
     "end_time": "2021-02-28T19:42:14.514232Z",
     "start_time": "2021-02-28T19:42:14.500491Z"
    }
   },
   "outputs": [
    {
     "name": "stdout",
     "output_type": "stream",
     "text": [
      "313\n"
     ]
    }
   ],
   "source": [
    "from myUtils.mySmartModule import my_sum\n",
    "print(my_sum([1, 2, 10, 300]))"
   ]
  },
  {
   "cell_type": "code",
   "execution_count": 35,
   "metadata": {
    "ExecuteTime": {
     "end_time": "2021-02-28T19:42:14.525826Z",
     "start_time": "2021-02-28T19:42:14.518404Z"
    }
   },
   "outputs": [
    {
     "name": "stdout",
     "output_type": "stream",
     "text": [
      "313\n"
     ]
    }
   ],
   "source": [
    "from myUtils import my_sum\n",
    "print(my_sum([1, 2, 10, 300]))"
   ]
  },
  {
   "cell_type": "markdown",
   "metadata": {},
   "source": [
    "In fisierul `__init__.py` se obisnuieste sa se puna orice are legatura cu initializarea pachetului, cum ar fi incarcarea de date de pe disc in memorie sau setarea unor variabile la valori anume."
   ]
  },
  {
   "cell_type": "markdown",
   "metadata": {},
   "source": [
    "Pentru cazul in care se doreste crearea de pachete destinate comunitatii si publicarea pe PyPI, se va urma [acest tutorial](https://python-packaging.readthedocs.io/en/latest/)."
   ]
  },
  {
   "cell_type": "markdown",
   "metadata": {},
   "source": [
    "Alte exemple de utilizare de pachete sunt:"
   ]
  },
  {
   "cell_type": "code",
   "execution_count": 36,
   "metadata": {
    "ExecuteTime": {
     "end_time": "2021-02-28T19:42:14.544164Z",
     "start_time": "2021-02-28T19:42:14.532428Z"
    }
   },
   "outputs": [
    {
     "name": "stdout",
     "output_type": "stream",
     "text": [
      "['Am', 'cumparat', 'mere', 'pere', 'prune', 'si', 'caise']\n"
     ]
    }
   ],
   "source": [
    "import re #pachet pentru expresii regulate\n",
    "my_string = 'Am cumparat: mere, pere, prune... si caise'\n",
    "tokens = re.split(r'\\W+', my_string)\n",
    "print(tokens)"
   ]
  },
  {
   "cell_type": "code",
   "execution_count": 37,
   "metadata": {
    "ExecuteTime": {
     "end_time": "2021-02-28T19:42:14.690402Z",
     "start_time": "2021-02-28T19:42:14.551789Z"
    }
   },
   "outputs": [
    {
     "name": "stdout",
     "output_type": "stream",
     "text": [
      "dupa deserializare: {'lion': 'yellow', 'kitty': 'red'}\n"
     ]
    }
   ],
   "source": [
    "# Serializare cu pickle\n",
    "import pickle\n",
    "\n",
    "favorite_color = { \"lion\": \"yellow\", \"kitty\": \"red\" }\n",
    "\n",
    "pickle.dump( favorite_color, open( \"save.pkl\", \"wb\" ) )\n",
    "del favorite_color #nu mai e necesar\n",
    "\n",
    "#restaurare\n",
    "favorite_color_restored = pickle.load( open( \"save.pkl\", \"rb\" ) )\n",
    "print('dupa deserializare:', favorite_color_restored)\n",
    "\n",
    "!del save.pkl #sterge fisierul pickle de pe disk"
   ]
  },
  {
   "cell_type": "markdown",
   "metadata": {},
   "source": [
    "## Pachetul NumPy"
   ]
  },
  {
   "cell_type": "markdown",
   "metadata": {},
   "source": [
    "NumPy (Numerical Python) este pachetul de baza pentru calcule stiintifice in Python. Asigura suport pentru lucrul cu vectori si matrice multidimensionale, functii dedicate precum sortare, operatii din algebra liniara, procesare de semnal, calcule statistice de baza, generare de numere aleatoare etc. NumPy sta la baza multor altor pachete. Datele pe care le proceseaza trebuie sa incapa in memoria RAM. NumPy are la baza cod C compilat si optimizat. \n",
    "\n",
    "In destul de multe situatii, datele sunt sau pot fi transformate in numere:\n",
    "* o imagine in tonuri de gri poate fi vazuta ca o matrice bidimensionala de numere; fiecare numar reprezinta intensitatea pixelului (0 - negru, 255 - alb; frecvent se folosesc valorile scalate in intevalul [0, 1])\n",
    "![Imagine minsi scalata 0-1](./images/mnist_image.png)\n",
    "* o imagine color poate fi vazuta ca o matrice cu trei dimensiuni: 3 matrice bidimensionale \"paralele\", corespunzatoare canalelor red, green, blue; pentru fiecare canal de culoare valorile pot fi intre 0 si 255:\n",
    "![Imagine RGB descompusa in 3 canale](./images/channelsrgb.gif)\n",
    "* un fisir audio este vazut ca unul/doi/$k$ vectori dimensionali, corespunzatoare cazurilor: mono, stereo, $k$ canale. Valorile numerice in cazul unui fisier wav reprezinta deplasarea membranei microfonului, discretizata in timp si amplitudine:\n",
    "![sunet](./images/sound.png)\n",
    "* un text poate fi tradus in vectori numerici prin tehnici precum [Bag of words](https://en.wikipedia.org/wiki/Bag-of-words_model) sau [Word2vec](https://en.wikipedia.org/wiki/Word2vec).\n",
    "\n",
    "Reprezentarea este mult mai eficienta decat pentru listele Python; codul scris cu NumPy apeleaza biblioteci compilate in cod nativ. Daca codul este scris vectorizat, eficienta rularii e si mai mare. \n",
    "\n",
    "Tipul cel mai comun din NumPy este `ndarray` - n-dimensional array. "
   ]
  },
  {
   "cell_type": "code",
   "execution_count": 38,
   "metadata": {
    "ExecuteTime": {
     "end_time": "2021-02-28T19:42:15.082426Z",
     "start_time": "2021-02-28T19:42:14.691423Z"
    }
   },
   "outputs": [
    {
     "name": "stdout",
     "output_type": "stream",
     "text": [
      "<class 'numpy.ndarray'>\n",
      "int32\n",
      "float16\n"
     ]
    }
   ],
   "source": [
    "#import de pachet; traditional se foloseste abrevierea np pentru numpy\n",
    "import numpy as np\n",
    "\n",
    "#crearea unui vector pornind de la o lista Python\n",
    "x = np.array([1, 4, 2, 5, 3])\n",
    "\n",
    "#tipul variabilei x; se observa ca e tip numpy\n",
    "print(type(x)) \n",
    "#toate elementele din array sunt de acelasi tip\n",
    "print(x.dtype) \n",
    "\n",
    "#specificarea explicita a tipului de reprezentare a datelor in array\n",
    "y = np.array([1, 2, 3], dtype=np.float16)\n",
    "print(y.dtype)"
   ]
  },
  {
   "cell_type": "code",
   "execution_count": 39,
   "metadata": {
    "ExecuteTime": {
     "end_time": "2021-02-28T19:42:15.094979Z",
     "start_time": "2021-02-28T19:42:15.086420Z"
    }
   },
   "outputs": [
    {
     "name": "stdout",
     "output_type": "stream",
     "text": [
      "[0 0 0 0 0 0 0 0 0 0]\n",
      "(10,)\n"
     ]
    }
   ],
   "source": [
    "#cazuri frecvent folosite\n",
    "all_zeros = np.zeros(10, dtype=int)\n",
    "print(all_zeros)\n",
    "#tiparire nr de elemente pe fiecare dimensiune\n",
    "print(all_zeros.shape)"
   ]
  },
  {
   "cell_type": "code",
   "execution_count": 40,
   "metadata": {
    "ExecuteTime": {
     "end_time": "2021-02-28T19:42:15.111674Z",
     "start_time": "2021-02-28T19:42:15.098547Z"
    }
   },
   "outputs": [
    {
     "name": "stdout",
     "output_type": "stream",
     "text": [
      "[[1 2 3]\n",
      " [4 5 6]]\n",
      "(2, 3)\n",
      "2\n"
     ]
    }
   ],
   "source": [
    "#matrice 2d\n",
    "mat = np.array([[1, 2, 3], [4, 5, 6]])\n",
    "print(mat)\n",
    "print(mat.shape)\n",
    "print(mat[0, 1])"
   ]
  },
  {
   "cell_type": "code",
   "execution_count": 41,
   "metadata": {
    "ExecuteTime": {
     "end_time": "2021-02-28T19:42:15.128004Z",
     "start_time": "2021-02-28T19:42:15.115663Z"
    }
   },
   "outputs": [
    {
     "name": "stdout",
     "output_type": "stream",
     "text": [
      "[[7. 7. 7. 7. 7. 7. 7. 7. 7. 7.]\n",
      " [7. 7. 7. 7. 7. 7. 7. 7. 7. 7.]\n",
      " [7. 7. 7. 7. 7. 7. 7. 7. 7. 7.]\n",
      " [7. 7. 7. 7. 7. 7. 7. 7. 7. 7.]]\n"
     ]
    }
   ],
   "source": [
    "# matrice de valori constante:\n",
    "mat_7 = np.ones((4, 10)) * 7\n",
    "print(mat_7)"
   ]
  },
  {
   "cell_type": "markdown",
   "metadata": {},
   "source": [
    "Numarul de dimensiuni se determina cu:"
   ]
  },
  {
   "cell_type": "code",
   "execution_count": 42,
   "metadata": {
    "ExecuteTime": {
     "end_time": "2021-02-28T19:42:15.142530Z",
     "start_time": "2021-02-28T19:42:15.130537Z"
    }
   },
   "outputs": [
    {
     "name": "stdout",
     "output_type": "stream",
     "text": [
      "Numarul de dimensiuni pentru vectorul all_zero: 1\n",
      "Numarul de dimensiuni pentru matricea mat: 2\n"
     ]
    }
   ],
   "source": [
    "print('Numarul de dimensiuni pentru vectorul all_zero:', all_zeros.ndim)\n",
    "print('Numarul de dimensiuni pentru matricea mat:', mat.ndim)"
   ]
  },
  {
   "cell_type": "markdown",
   "metadata": {},
   "source": [
    "iar numarul total de elemente, respectiv dimensiunea in octeti a unui element oarecare (un ndarray are elemente de acelasi tip, intotdeauna):"
   ]
  },
  {
   "cell_type": "code",
   "execution_count": 43,
   "metadata": {
    "ExecuteTime": {
     "end_time": "2021-02-28T19:42:15.158944Z",
     "start_time": "2021-02-28T19:42:15.144330Z"
    }
   },
   "outputs": [
    {
     "name": "stdout",
     "output_type": "stream",
     "text": [
      "mat size: 6\n",
      "mat element size: 4 bytes\n",
      "mat.dtype:int32\n"
     ]
    }
   ],
   "source": [
    "print('mat size: {0}\\nmat element size: {1} bytes\\nmat.dtype:{2}'.format(mat.size, mat.itemsize, mat.dtype))"
   ]
  },
  {
   "cell_type": "code",
   "execution_count": 44,
   "metadata": {
    "ExecuteTime": {
     "end_time": "2021-02-28T19:42:15.179101Z",
     "start_time": "2021-02-28T19:42:15.162894Z"
    }
   },
   "outputs": [
    {
     "name": "stdout",
     "output_type": "stream",
     "text": [
      "[[1. 1. 1. 1. 1.]\n",
      " [1. 1. 1. 1. 1.]\n",
      " [1. 1. 1. 1. 1.]]\n",
      "[[3.14159265 3.14159265]\n",
      " [3.14159265 3.14159265]\n",
      " [3.14159265 3.14159265]]\n",
      "[[1. 0. 0.]\n",
      " [0. 1. 0.]\n",
      " [0. 0. 1.]]\n"
     ]
    }
   ],
   "source": [
    "#cazuri comune\n",
    "all_ones = np.ones((3, 5))\n",
    "print(all_ones)\n",
    "all_pi = np.full((3, 2), np.pi)\n",
    "print(all_pi)\n",
    "print(np.eye(3))"
   ]
  },
  {
   "cell_type": "code",
   "execution_count": 45,
   "metadata": {
    "ExecuteTime": {
     "end_time": "2021-02-28T19:42:15.192526Z",
     "start_time": "2021-02-28T19:42:15.183503Z"
    }
   },
   "outputs": [
    {
     "name": "stdout",
     "output_type": "stream",
     "text": [
      "[ 0.   2.5  5.   7.5 10. ]\n"
     ]
    }
   ],
   "source": [
    "#valori echidistante intr-un interval; capetele intervalului fac parte din valorile generate\n",
    "print(np.linspace(0, 10, 5))"
   ]
  },
  {
   "cell_type": "code",
   "execution_count": 46,
   "metadata": {
    "ExecuteTime": {
     "end_time": "2021-02-28T19:42:15.204521Z",
     "start_time": "2021-02-28T19:42:15.196521Z"
    }
   },
   "outputs": [
    {
     "name": "stdout",
     "output_type": "stream",
     "text": [
      "[0 3 6 9]\n",
      "<class 'numpy.ndarray'>\n"
     ]
    }
   ],
   "source": [
    "#similar cu functia range din Python: se genereaza de la primul parametru, cu pasul dat de al doilea parametru, \n",
    "#ultima valoare generata fiind strict mai mica decat al doilea parametru\n",
    "vector_de_valori = np.arange(0, 10, 3)\n",
    "print(vector_de_valori)\n",
    "print(type(vector_de_valori))"
   ]
  },
  {
   "cell_type": "code",
   "execution_count": 47,
   "metadata": {
    "ExecuteTime": {
     "end_time": "2021-02-28T19:42:15.220766Z",
     "start_time": "2021-02-28T19:42:15.208505Z"
    }
   },
   "outputs": [
    {
     "name": "stdout",
     "output_type": "stream",
     "text": [
      "[[0.50881503 0.70706784 0.09838777]\n",
      " [0.94326244 0.84431426 0.09223635]]\n"
     ]
    }
   ],
   "source": [
    "#numere aleatoare\n",
    "x = np.random.random((2, 3))\n",
    "print(x)"
   ]
  },
  {
   "cell_type": "markdown",
   "metadata": {},
   "source": [
    "Tipurile de date folosibile pentru ndarrays sunt:\n",
    "\n",
    "| Tip  | Explicatie |\n",
    "| ---- | -----------|\n",
    "| bool_ | \tBoolean (True or False) stored as a byte | \n",
    "| int_ | \tDefault integer type (same as C long; normally either int64 or int32) | \n",
    "| intc | \tIdentical to C int (normally int32 or int64) | \n",
    "| intp | \tInteger used for indexing (same as C ssize_t; normally either int32 or int64) | \n",
    "| int8 | \tByte (-128 to 127) | \n",
    "| int16 | \tInteger (-32768 to 32767) | \n",
    "| int32 | \tInteger (-2147483648 to 2147483647) | \n",
    "| int64 | \tInteger (-9223372036854775808 to 9223372036854775807) | \n",
    "| uint8 | \tUnsigned integer (0 to 255) | \n",
    "| uint16 | \tUnsigned integer (0 to 65535) | \n",
    "| uint32 | \tUnsigned integer (0 to 4294967295) | \n",
    "| uint64 | \tUnsigned integer (0 to 18446744073709551615) | \n",
    "| float_ | \tShorthand for float64. | \n",
    "| float16 | \tHalf precision float: sign bit, 5 bits exponent, 10 bits mantissa | \n",
    "| float32 | \tSingle precision float: sign bit, 8 bits exponent, 23 bits mantissa | \n",
    "| float64 | \tDouble precision float: sign bit, 11 bits exponent, 52 bits mantissa | \n",
    "| complex_ | \tShorthand for complex128. | \n",
    "| complex64 | \tComplex number, represented by two 32-bit floats (real and imaginary components) | \n",
    "| complex128 | \tComplex number, represented by two 64-bit floats (real and imaginary components) |"
   ]
  },
  {
   "cell_type": "markdown",
   "metadata": {},
   "source": [
    "O operatie utila este schimbarea formei unui array:"
   ]
  },
  {
   "cell_type": "code",
   "execution_count": 48,
   "metadata": {
    "ExecuteTime": {
     "end_time": "2021-02-28T19:42:15.237931Z",
     "start_time": "2021-02-28T19:42:15.224798Z"
    }
   },
   "outputs": [
    {
     "name": "stdout",
     "output_type": "stream",
     "text": [
      "[0 1 2 3 4 5 6 7 8 9]\n",
      "[[0 1 2 3 4]\n",
      " [5 6 7 8 9]]\n"
     ]
    }
   ],
   "source": [
    "#dintr=un vector intr-o matrice\n",
    "vec = np.arange(10)\n",
    "mat = vec.reshape(2, 5)\n",
    "print(vec)\n",
    "print(mat)"
   ]
  },
  {
   "cell_type": "code",
   "execution_count": 49,
   "metadata": {
    "ExecuteTime": {
     "end_time": "2021-02-28T19:42:15.248350Z",
     "start_time": "2021-02-28T19:42:15.237931Z"
    }
   },
   "outputs": [
    {
     "name": "stdout",
     "output_type": "stream",
     "text": [
      "[0 1 2 3 4 5 6 7 8 9]\n"
     ]
    }
   ],
   "source": [
    "#...si invers:\n",
    "vec2 = mat.flatten()\n",
    "print(vec2)"
   ]
  },
  {
   "cell_type": "markdown",
   "metadata": {},
   "source": [
    "Tablourile pot fi concatenate, specificandu-se axa"
   ]
  },
  {
   "cell_type": "code",
   "execution_count": 50,
   "metadata": {
    "ExecuteTime": {
     "end_time": "2021-02-28T19:42:15.259856Z",
     "start_time": "2021-02-28T19:42:15.252346Z"
    }
   },
   "outputs": [],
   "source": [
    "a = np.array([[1, 2], [3, 4]], float)\n",
    "b = np.array([[5, 6], [7,8]], float)"
   ]
  },
  {
   "cell_type": "code",
   "execution_count": 51,
   "metadata": {
    "ExecuteTime": {
     "end_time": "2021-02-28T19:42:15.268535Z",
     "start_time": "2021-02-28T19:42:15.262036Z"
    }
   },
   "outputs": [
    {
     "name": "stdout",
     "output_type": "stream",
     "text": [
      "[[1. 2.]\n",
      " [3. 4.]\n",
      " [5. 6.]\n",
      " [7. 8.]]\n"
     ]
    }
   ],
   "source": [
    "#concatenare pe verticala\n",
    "stiva_verticala = np.concatenate((a, b), axis=0)\n",
    "print(stiva_verticala)"
   ]
  },
  {
   "cell_type": "markdown",
   "metadata": {},
   "source": [
    "Conceptul de axa se defineste pentru tablourile cu mai mult de o dimensiune. Pentru un tablou cu doua dimensiuni, axa 0 parcurge pe verticala tabloul, axa 1 parcurge pe orizontala. Unele functii iau in considerare axa de lucru:"
   ]
  },
  {
   "cell_type": "code",
   "execution_count": 52,
   "metadata": {
    "ExecuteTime": {
     "end_time": "2021-02-28T19:42:15.283536Z",
     "start_time": "2021-02-28T19:42:15.274209Z"
    }
   },
   "outputs": [
    {
     "name": "stdout",
     "output_type": "stream",
     "text": [
      "[[1. 2. 5. 6.]\n",
      " [3. 4. 7. 8.]]\n"
     ]
    }
   ],
   "source": [
    "#concatenare pe orizontala\n",
    "stiva_orizontala = np.concatenate((a, b), axis=1)\n",
    "print(stiva_orizontala)"
   ]
  },
  {
   "cell_type": "code",
   "execution_count": 53,
   "metadata": {
    "ExecuteTime": {
     "end_time": "2021-02-28T19:42:15.296526Z",
     "start_time": "2021-02-28T19:42:15.284529Z"
    }
   },
   "outputs": [
    {
     "name": "stdout",
     "output_type": "stream",
     "text": [
      "[[1. 2.]\n",
      " [3. 4.]\n",
      " [5. 6.]\n",
      " [7. 8.]]\n",
      "[[1. 2. 5. 6.]\n",
      " [3. 4. 7. 8.]]\n"
     ]
    }
   ],
   "source": [
    "#echivalent cu:\n",
    "stiva_verticala = np.vstack((a, b))\n",
    "stiva_orizontala = np.hstack((a, b))\n",
    "print(stiva_verticala)\n",
    "print(stiva_orizontala)"
   ]
  },
  {
   "cell_type": "code",
   "execution_count": 54,
   "metadata": {
    "ExecuteTime": {
     "end_time": "2021-02-28T19:42:15.309662Z",
     "start_time": "2021-02-28T19:42:15.300520Z"
    }
   },
   "outputs": [
    {
     "name": "stdout",
     "output_type": "stream",
     "text": [
      "[[ 0  1  2  3  4]\n",
      " [ 5  6  7  8  9]\n",
      " [10 11 12 13 14]]\n"
     ]
    }
   ],
   "source": [
    "matrice = np.arange(15).reshape(3, 5)\n",
    "print(matrice)"
   ]
  },
  {
   "cell_type": "code",
   "execution_count": 55,
   "metadata": {
    "ExecuteTime": {
     "end_time": "2021-02-28T19:42:16.449870Z",
     "start_time": "2021-02-28T19:42:15.313658Z"
    }
   },
   "outputs": [
    {
     "name": "stdout",
     "output_type": "stream",
     "text": [
      "[15 18 21 24 27]\n"
     ]
    }
   ],
   "source": [
    "suma_pe_coloane= np.sum(matrice, axis=0)\n",
    "print(suma_pe_coloane)"
   ]
  },
  {
   "cell_type": "code",
   "execution_count": 56,
   "metadata": {
    "ExecuteTime": {
     "end_time": "2021-02-28T19:42:16.464656Z",
     "start_time": "2021-02-28T19:42:16.455116Z"
    }
   },
   "outputs": [
    {
     "name": "stdout",
     "output_type": "stream",
     "text": [
      "[10 35 60]\n"
     ]
    }
   ],
   "source": [
    "suma_pe_linii= np.sum(matrice, axis=1)\n",
    "print(suma_pe_linii)"
   ]
  },
  {
   "cell_type": "markdown",
   "metadata": {},
   "source": [
    "### Operatii cu ndarrays\n",
    "\n",
    "Sunt implementate operatiile matematice uzuale din algebra liniara: inmultire cu scalari, adunare, scadere, inmultire de matrice.\n",
    "\n",
    "Exemple:\n",
    "* adunare\n",
    "* produs Hadamard, produs matricial, produs scalar:"
   ]
  },
  {
   "cell_type": "code",
   "execution_count": 57,
   "metadata": {
    "ExecuteTime": {
     "end_time": "2021-02-28T19:42:16.475780Z",
     "start_time": "2021-02-28T19:42:16.467768Z"
    }
   },
   "outputs": [
    {
     "name": "stdout",
     "output_type": "stream",
     "text": [
      "a=\n",
      " [[1 2 3]\n",
      " [4 5 6]]\n",
      "b=\n",
      " [[10 20 30]\n",
      " [40 50 60]]\n"
     ]
    }
   ],
   "source": [
    "#inmultire cu scalar\n",
    "a = np.array([[1, 2, 3], [4, 5, 6]])\n",
    "print('a=\\n', a)\n",
    "b = a * 10\n",
    "print('b=\\n', b)"
   ]
  },
  {
   "cell_type": "code",
   "execution_count": 58,
   "metadata": {
    "ExecuteTime": {
     "end_time": "2021-02-28T19:42:16.487483Z",
     "start_time": "2021-02-28T19:42:16.479304Z"
    }
   },
   "outputs": [
    {
     "name": "stdout",
     "output_type": "stream",
     "text": [
      "[[11 22 33]\n",
      " [44 55 66]]\n",
      "[[ -9 -18 -27]\n",
      " [-36 -45 -54]]\n"
     ]
    }
   ],
   "source": [
    "#adunare, scadere: +, -\n",
    "suma = a + b\n",
    "print(suma)\n",
    "diferenta = a - b\n",
    "print(diferenta)"
   ]
  },
  {
   "cell_type": "markdown",
   "metadata": {},
   "source": [
    "Operatorul de inmultire \\* este implementat altfel decat in algebra liniara: pentru doua matrice cu aceleasi dimensiuni se face inmultirea elementelor aflate pe pozitii identice, adica: c[i, j] = a[i, j] * b[i, j]. Este asa-numitul produs Hadamard, frecvent intalnit in machine learning."
   ]
  },
  {
   "cell_type": "code",
   "execution_count": 59,
   "metadata": {
    "ExecuteTime": {
     "end_time": "2021-02-28T19:42:16.508352Z",
     "start_time": "2021-02-28T19:42:16.496145Z"
    }
   },
   "outputs": [
    {
     "name": "stdout",
     "output_type": "stream",
     "text": [
      "[[ 10  40  90]\n",
      " [160 250 360]]\n",
      "True\n",
      "True\n",
      "True\n",
      "True\n",
      "True\n",
      "True\n"
     ]
    }
   ],
   "source": [
    "#inmultirea folosind * duce la inmultire element cu element (produs Hadamard): c[i, j] = a[i, j] * b[i, j]\n",
    "c = a*b\n",
    "print(c)\n",
    "for i in range(c.shape[0]):  #c.shape[0] = numarul de linii ale matricei c\n",
    "    for j in range(c.shape[1]): #c.shape[1] = numarul de coloane ale matricei c\n",
    "        print(c[i, j] == a[i, j] * b[i, j])"
   ]
  },
  {
   "cell_type": "markdown",
   "metadata": {},
   "source": [
    "Operatiile folosesc biblioteci de algebra liniara, optimizate pentru microprocesoarele actuale. Se recomanda folosirea acestor implementari in loc de a face operatiile manual cu ciclari `for`:"
   ]
  },
  {
   "cell_type": "code",
   "execution_count": 60,
   "metadata": {
    "ExecuteTime": {
     "end_time": "2021-02-28T19:42:16.525011Z",
     "start_time": "2021-02-28T19:42:16.514349Z"
    }
   },
   "outputs": [],
   "source": [
    "#creare de matrice\n",
    "matrix_shape = (100, 100)\n",
    "a_big = np.random.random(matrix_shape)\n",
    "b_big = np.random.random(matrix_shape)"
   ]
  },
  {
   "cell_type": "code",
   "execution_count": 61,
   "metadata": {
    "ExecuteTime": {
     "end_time": "2021-02-28T19:42:26.033864Z",
     "start_time": "2021-02-28T19:42:16.526008Z"
    }
   },
   "outputs": [
    {
     "name": "stdout",
     "output_type": "stream",
     "text": [
      "11 ms ± 2.76 ms per loop (mean ± std. dev. of 7 runs, 100 loops each)\n"
     ]
    }
   ],
   "source": [
    "%%timeit\n",
    "c_big = np.empty_like(a_big)\n",
    "for i in range(c_big.shape[0]):\n",
    "    for j in range(c_big.shape[1]):\n",
    "        c_big[i, j] = a_big[i, j] * b_big[i, j]"
   ]
  },
  {
   "cell_type": "code",
   "execution_count": 62,
   "metadata": {
    "ExecuteTime": {
     "end_time": "2021-02-28T19:42:35.454383Z",
     "start_time": "2021-02-28T19:42:26.034861Z"
    }
   },
   "outputs": [
    {
     "name": "stdout",
     "output_type": "stream",
     "text": [
      "11.9 µs ± 1.06 µs per loop (mean ± std. dev. of 7 runs, 100000 loops each)\n"
     ]
    }
   ],
   "source": [
    "%%timeit\n",
    "c_big = a_big * b_big"
   ]
  },
  {
   "cell_type": "code",
   "execution_count": 63,
   "metadata": {
    "ExecuteTime": {
     "end_time": "2021-02-28T19:42:35.467658Z",
     "start_time": "2021-02-28T19:42:35.455800Z"
    }
   },
   "outputs": [
    {
     "name": "stdout",
     "output_type": "stream",
     "text": [
      "matricea initiala:\n",
      " [[1 2 3]\n",
      " [4 5 6]]\n",
      "dupa ridicarea la puterea 2:\n",
      " [[ 1  4  9]\n",
      " [16 25 36]]\n",
      "dupa ridicarea la puterea 3:\n",
      " [[  1   8  27]\n",
      " [ 64 125 216]]\n"
     ]
    }
   ],
   "source": [
    "#'ridicarea la putere' folosind ** : fiecare element al matricei este ridicat la putere\n",
    "print('matricea initiala:\\n', a)\n",
    "putere = a ** 2\n",
    "print('dupa ridicarea la puterea 2:\\n', putere)\n",
    "putere_3 = np.power(a, 3)\n",
    "print('dupa ridicarea la puterea 3:\\n', putere_3)"
   ]
  },
  {
   "cell_type": "markdown",
   "metadata": {},
   "source": [
    "Se poate folosi operatorul / pentru a face impartirea punctuala (element cu element) a valorilor din doua matrice:"
   ]
  },
  {
   "cell_type": "code",
   "execution_count": 64,
   "metadata": {
    "ExecuteTime": {
     "end_time": "2021-02-28T19:42:35.483165Z",
     "start_time": "2021-02-28T19:42:35.471539Z"
    }
   },
   "outputs": [
    {
     "name": "stdout",
     "output_type": "stream",
     "text": [
      "a= [[1 2 3]\n",
      " [4 5 6]]\n",
      "b= [[10 20 30]\n",
      " [40 50 60]]\n",
      "a/b= [[0.1 0.1 0.1]\n",
      " [0.1 0.1 0.1]]\n"
     ]
    }
   ],
   "source": [
    "print('a=', a)\n",
    "print('b=', b)\n",
    "print('a/b=', a/b)"
   ]
  },
  {
   "cell_type": "code",
   "execution_count": 65,
   "metadata": {
    "ExecuteTime": {
     "end_time": "2021-02-28T19:42:35.494972Z",
     "start_time": "2021-02-28T19:42:35.484161Z"
    }
   },
   "outputs": [
    {
     "name": "stdout",
     "output_type": "stream",
     "text": [
      "[[ 468  576  684]\n",
      " [1062 1305 1548]\n",
      " [1656 2034 2412]]\n"
     ]
    }
   ],
   "source": [
    "#ridicarea la putere a unei matrice patratice, asa cum e definita in algebra liniara:\n",
    "patratica = np.array([[1, 2, 3], [4, 5, 6], [7, 8, 9]])\n",
    "ridicare_la_putere = np.linalg.matrix_power(patratica, 3)\n",
    "print(ridicare_la_putere)"
   ]
  },
  {
   "cell_type": "markdown",
   "metadata": {},
   "source": [
    "Daca se apeleaza o functie matematica definita in NumPy pe un ndarray, rezultatul va fi tot un ndarray de aceeasi forma ca si intrarea, dar cu elementele calculate prin aplicarea functiei respective:"
   ]
  },
  {
   "cell_type": "code",
   "execution_count": 66,
   "metadata": {
    "ExecuteTime": {
     "end_time": "2021-02-28T19:42:35.510942Z",
     "start_time": "2021-02-28T19:42:35.497077Z"
    }
   },
   "outputs": [
    {
     "name": "stdout",
     "output_type": "stream",
     "text": [
      "[[0 1 2]\n",
      " [3 4 5]]\n"
     ]
    }
   ],
   "source": [
    "x = np.arange(6).reshape(2, 3)\n",
    "print(x)\n",
    "y = np.exp(x)\n",
    "assert x.shape == y.shape\n",
    "for i in range(0, x.shape[0]):\n",
    "    for j in range(0, x.shape[1]):\n",
    "        assert y[i, j] == np.exp(x[i, j])"
   ]
  },
  {
   "cell_type": "code",
   "execution_count": 67,
   "metadata": {
    "ExecuteTime": {
     "end_time": "2021-02-28T19:42:35.550488Z",
     "start_time": "2021-02-28T19:42:35.513249Z"
    }
   },
   "outputs": [],
   "source": [
    "#produs algebric de matrice:\n",
    "a = np.random.rand(3, 5)\n",
    "b = np.random.rand(5, 10)\n",
    "assert a.shape[1] == b.shape[0]\n",
    "c = np.dot(a, b)\n",
    "# se poate scrie echivalent\n",
    "c = a.dot(b)\n",
    "assert a.shape[0] == c.shape[0] and b.shape[1] == c.shape[1]"
   ]
  },
  {
   "cell_type": "markdown",
   "metadata": {},
   "source": [
    "NumPy defineste o serie de functii ce pot fi utilizate: `all, any, apply_along_axis, argmax, argmin, argsort, average, bincount, ceil, clip, conj, corrcoef, cov, cross, cumprod, cumsum, diff, dot, floor, inner, inv, lexsort, max, maximum, mean, median, min, minimum, nonzero, outer, prod, re, round, sort, std, sum, trace, transpose, var, vdot, vectorize, where` - [documentate aici](https://docs.scipy.org/doc/numpy-dev/reference/generated/)."
   ]
  },
  {
   "cell_type": "markdown",
   "metadata": {},
   "source": [
    "## Indexare \n",
    "\n",
    "Pana acum, pentru referirea elementelor de la anumite pozitii s-au folosit indici simpli de forma:\n",
    "```python\n",
    "vector[indice]\n",
    "# sau\n",
    "matrice[i, j]\n",
    "```"
   ]
  },
  {
   "cell_type": "code",
   "execution_count": 69,
   "metadata": {
    "ExecuteTime": {
     "end_time": "2021-02-28T19:42:35.570736Z",
     "start_time": "2021-02-28T19:42:35.564171Z"
    }
   },
   "outputs": [
    {
     "name": "stdout",
     "output_type": "stream",
     "text": [
      "[0 1 2 3 4 5 6 7 8 9]\n",
      "vector[4]=4\n"
     ]
    }
   ],
   "source": [
    "vector = np.arange(10)\n",
    "print(vector)\n",
    "print('vector[4]={0}'.format(vector[4]))"
   ]
  },
  {
   "cell_type": "code",
   "execution_count": 70,
   "metadata": {
    "ExecuteTime": {
     "end_time": "2021-02-28T19:42:35.579563Z",
     "start_time": "2021-02-28T19:42:35.573634Z"
    }
   },
   "outputs": [
    {
     "name": "stdout",
     "output_type": "stream",
     "text": [
      "[[ 0  1  2  3]\n",
      " [ 4  5  6  7]\n",
      " [ 8  9 10 11]]\n",
      "9\n"
     ]
    }
   ],
   "source": [
    "matrice = np.arange(12).reshape(3, 4)\n",
    "print(matrice)\n",
    "print(matrice[2, 1])"
   ]
  },
  {
   "cell_type": "markdown",
   "metadata": {},
   "source": [
    "Pentru matrice se poate folosi o indiciere de forma:\n",
    "```python\n",
    "matrice[i][j] \n",
    "```\n",
    "dar e o varianta ineficienta fata de `matrice[i,j]` deoarece in prima varianta se face o copie temporara a linii de indice `i` a matricei si din acest obiect auxiliar se selecteaza elementul de indice `j`."
   ]
  },
  {
   "cell_type": "markdown",
   "metadata": {},
   "source": [
    "Prin `slicing` exista posibilitatea de a face referire la un intreg subset de elemente, de exemplu peentru vectori:"
   ]
  },
  {
   "cell_type": "code",
   "execution_count": 71,
   "metadata": {
    "ExecuteTime": {
     "end_time": "2021-02-28T19:42:35.594969Z",
     "start_time": "2021-02-28T19:42:35.583154Z"
    }
   },
   "outputs": [
    {
     "name": "stdout",
     "output_type": "stream",
     "text": [
      "[ 0 10 20 30 40 50 60 70 80 90]\n",
      "[20 30 40 50]\n"
     ]
    }
   ],
   "source": [
    "vector = 10 * np.arange(10)\n",
    "print(vector)\n",
    "print(vector[2:6]) #remarcam ca indicele din dreapta este cu rol de \"exclusiv\", nu contribuie la rezultat"
   ]
  },
  {
   "cell_type": "code",
   "execution_count": 72,
   "metadata": {
    "ExecuteTime": {
     "end_time": "2021-02-28T19:42:35.608661Z",
     "start_time": "2021-02-28T19:42:35.596261Z"
    }
   },
   "outputs": [
    {
     "name": "stdout",
     "output_type": "stream",
     "text": [
      "[ 0 10 20 30 40 50 60 70 80 90]\n",
      "[10 30 20 70]\n"
     ]
    }
   ],
   "source": [
    "indici = [1, 3, 2, 7]\n",
    "print(vector)\n",
    "print(vector[indici])"
   ]
  },
  {
   "cell_type": "code",
   "execution_count": 73,
   "metadata": {
    "ExecuteTime": {
     "end_time": "2021-02-28T19:42:35.619890Z",
     "start_time": "2021-02-28T19:42:35.610656Z"
    }
   },
   "outputs": [
    {
     "data": {
      "text/plain": [
       "array([20, 40, 60])"
      ]
     },
     "execution_count": 73,
     "metadata": {},
     "output_type": "execute_result"
    }
   ],
   "source": [
    "# sau cu indici dati in progresie aritmetica\n",
    "vector[2:8:2]"
   ]
  },
  {
   "cell_type": "markdown",
   "metadata": {},
   "source": [
    "Pentru matrice putem folosi:"
   ]
  },
  {
   "cell_type": "code",
   "execution_count": 74,
   "metadata": {
    "ExecuteTime": {
     "end_time": "2021-02-28T19:42:35.628573Z",
     "start_time": "2021-02-28T19:42:35.622863Z"
    }
   },
   "outputs": [
    {
     "name": "stdout",
     "output_type": "stream",
     "text": [
      "[[  0  10  20  30  40]\n",
      " [ 50  60  70  80  90]\n",
      " [100 110 120 130 140]\n",
      " [150 160 170 180 190]]\n"
     ]
    }
   ],
   "source": [
    "matrice = 10 * np.arange(20).reshape(4, 5)\n",
    "print(matrice)"
   ]
  },
  {
   "cell_type": "code",
   "execution_count": 75,
   "metadata": {
    "ExecuteTime": {
     "end_time": "2021-02-28T19:42:35.641482Z",
     "start_time": "2021-02-28T19:42:35.632213Z"
    }
   },
   "outputs": [
    {
     "name": "stdout",
     "output_type": "stream",
     "text": [
      "[50 60 70 80 90]\n",
      "[50 60 70 80 90]\n"
     ]
    }
   ],
   "source": [
    "print(matrice[1,])\n",
    "#care e tot una cu forma mai explicita:\n",
    "print(matrice[1, :])"
   ]
  },
  {
   "cell_type": "code",
   "execution_count": 76,
   "metadata": {
    "ExecuteTime": {
     "end_time": "2021-02-28T19:42:35.654782Z",
     "start_time": "2021-02-28T19:42:35.644041Z"
    }
   },
   "outputs": [
    {
     "data": {
      "text/plain": [
       "array([[ 50,  60,  70,  80,  90],\n",
       "       [100, 110, 120, 130, 140]])"
      ]
     },
     "execution_count": 76,
     "metadata": {},
     "output_type": "execute_result"
    }
   ],
   "source": [
    "#putem selecta domenii de indici, pe fiecare axa\n",
    "matrice[1:3, :]"
   ]
  },
  {
   "cell_type": "code",
   "execution_count": 77,
   "metadata": {
    "ExecuteTime": {
     "end_time": "2021-02-28T19:42:35.666747Z",
     "start_time": "2021-02-28T19:42:35.657774Z"
    }
   },
   "outputs": [
    {
     "data": {
      "text/plain": [
       "array([[ 70,  80],\n",
       "       [120, 130]])"
      ]
     },
     "execution_count": 77,
     "metadata": {},
     "output_type": "execute_result"
    }
   ],
   "source": [
    "#indexare pe fiecare dimensiune\n",
    "matrice[1:3, 2:4]"
   ]
  },
  {
   "cell_type": "markdown",
   "metadata": {},
   "source": [
    "### Indexarea logica\n",
    "Asupra elementelor unui tablou se pot aplica operatii logice; obtinem un tablou de aceeasi forma ca si tabloul initial, dar plin cu valori `True` si `False` in functie de rezultatul aplicarii operatiei logice:"
   ]
  },
  {
   "cell_type": "code",
   "execution_count": 78,
   "metadata": {
    "ExecuteTime": {
     "end_time": "2021-02-28T19:42:35.678031Z",
     "start_time": "2021-02-28T19:42:35.669357Z"
    }
   },
   "outputs": [
    {
     "name": "stdout",
     "output_type": "stream",
     "text": [
      "[[1 2]\n",
      " [3 4]\n",
      " [5 6]]\n",
      "[[False False]\n",
      " [ True  True]\n",
      " [ True  True]]\n"
     ]
    }
   ],
   "source": [
    "a = np.array([[1,2], [3, 4], [5, 6]])\n",
    "print(a)\n",
    "print(a > 2)"
   ]
  },
  {
   "cell_type": "markdown",
   "metadata": {},
   "source": [
    "Tabloul rezultat in urma aplicarii operatiei logice poate fi folosit pentru indexare. Se vor returna doar acele elemente care satisfac conditia logica ceruta:"
   ]
  },
  {
   "cell_type": "code",
   "execution_count": 79,
   "metadata": {
    "ExecuteTime": {
     "end_time": "2021-02-28T19:42:35.690142Z",
     "start_time": "2021-02-28T19:42:35.680027Z"
    }
   },
   "outputs": [
    {
     "name": "stdout",
     "output_type": "stream",
     "text": [
      "[3 4 5 6]\n",
      "[3 4 5 6]\n"
     ]
    }
   ],
   "source": [
    "mai_mare_ca_2 = a > 2\n",
    "print(a[mai_mare_ca_2])\n",
    "#direct\n",
    "print(a[a>2])"
   ]
  },
  {
   "cell_type": "markdown",
   "metadata": {},
   "source": [
    "Daca se doresc expresii mai complicate: elemente care sunt mai mari ca 2 si mai mici ca 6, atunci:"
   ]
  },
  {
   "cell_type": "code",
   "execution_count": 80,
   "metadata": {
    "ExecuteTime": {
     "end_time": "2021-02-28T19:42:35.705117Z",
     "start_time": "2021-02-28T19:42:35.693076Z"
    }
   },
   "outputs": [
    {
     "data": {
      "text/plain": [
       "array([3, 4, 5])"
      ]
     },
     "execution_count": 80,
     "metadata": {},
     "output_type": "execute_result"
    }
   ],
   "source": [
    "a[np.logical_and(a > 2, a < 6)]"
   ]
  },
  {
   "cell_type": "markdown",
   "metadata": {},
   "source": [
    "Mai exista: `np.logical_or`, `np.logical_not`, `np.logical_xor`."
   ]
  },
  {
   "cell_type": "markdown",
   "metadata": {},
   "source": [
    "O expresie logica utila este urmatoarea: se cere obtinerea doar a acelor elemente care sunt definite - adica nu sunt NaN:"
   ]
  },
  {
   "cell_type": "code",
   "execution_count": 81,
   "metadata": {
    "ExecuteTime": {
     "end_time": "2021-02-28T19:42:35.716279Z",
     "start_time": "2021-02-28T19:42:35.707536Z"
    }
   },
   "outputs": [
    {
     "name": "stdout",
     "output_type": "stream",
     "text": [
      "[ 1.   2.3  4.  10.   0. ]\n"
     ]
    }
   ],
   "source": [
    "tab = np.array([[1.0, 2.3, np.nan, 4], [10, np.nan, np.nan, 0]])\n",
    "print(tab[~np.isnan(tab)])"
   ]
  },
  {
   "cell_type": "markdown",
   "metadata": {},
   "source": [
    "Indicierea returneaza un 'view' al tabloului, peste care se pot aplica modificari ale continutului originar:"
   ]
  },
  {
   "cell_type": "code",
   "execution_count": 82,
   "metadata": {
    "ExecuteTime": {
     "end_time": "2021-02-28T19:42:35.729834Z",
     "start_time": "2021-02-28T19:42:35.717959Z"
    },
    "scrolled": true
   },
   "outputs": [
    {
     "name": "stdout",
     "output_type": "stream",
     "text": [
      "Inainte:\n",
      " [[ 1.   2.3  nan  4. ]\n",
      " [10.   nan  nan  0. ]]\n",
      "Dupa:\n",
      " [[ 1.   2.3  0.   4. ]\n",
      " [10.   0.   0.   0. ]]\n"
     ]
    }
   ],
   "source": [
    "print('Inainte:\\n', tab)\n",
    "tab[np.isnan(tab)] = 0.0\n",
    "print('Dupa:\\n', tab)"
   ]
  },
  {
   "cell_type": "markdown",
   "metadata": {},
   "source": [
    "Indexarea logica permite specificarea elementelor dintr-un tablou pentru care se efectueaza anumite operatii:"
   ]
  },
  {
   "cell_type": "code",
   "execution_count": 83,
   "metadata": {
    "ExecuteTime": {
     "end_time": "2021-02-28T19:42:35.742990Z",
     "start_time": "2021-02-28T19:42:35.733080Z"
    }
   },
   "outputs": [
    {
     "name": "stdout",
     "output_type": "stream",
     "text": [
      "Inainte de modificare:\n",
      " [[1 2 3 4]\n",
      " [5 6 7 8]]\n",
      "Dupa modificare:\n",
      " [[ 1 20  3 40]\n",
      " [ 5 60  7 80]]\n"
     ]
    }
   ],
   "source": [
    "# numerele pare se inmultesc cu 10, celelalte raman cum sunt \n",
    "tablou = np.array([[1, 2, 3, 4], [5, 6, 7, 8]])\n",
    "print('Inainte de modificare:\\n', tablou)\n",
    "tablou[tablou % 2 == 0] *= 10\n",
    "print('Dupa modificare:\\n', tablou)"
   ]
  },
  {
   "cell_type": "markdown",
   "metadata": {},
   "source": [
    "Modificareaa se poate face si doar pe o anumita axa:"
   ]
  },
  {
   "cell_type": "code",
   "execution_count": 84,
   "metadata": {
    "ExecuteTime": {
     "end_time": "2021-02-28T19:42:35.759487Z",
     "start_time": "2021-02-28T19:42:35.747020Z"
    }
   },
   "outputs": [
    {
     "name": "stdout",
     "output_type": "stream",
     "text": [
      "Inainte de modificare\n",
      " [[1. 2. 3. 4.]\n",
      " [5. 6. 7. 8.]]\n",
      "Dupa modificare\n",
      " [[0.4 2.  0.6 0.7]\n",
      " [0.8 6.  1.  1.1]]\n"
     ]
    }
   ],
   "source": [
    "tablou = np.array([[1, 2, 3, 4], [5, 6, 7, 8]], dtype=np.float)\n",
    "print('Inainte de modificare\\n', tablou)\n",
    "#coloanele 0, 2, 3 se modifica\n",
    "bool_columns = [True, False, True, True]\n",
    "tablou[:, bool_columns] = (tablou[:, bool_columns] +3 )/10\n",
    "print('Dupa modificare\\n', tablou)"
   ]
  },
  {
   "cell_type": "markdown",
   "metadata": {},
   "source": [
    "### Bibliografie recomandata\n",
    "1. https://docs.scipy.org/doc/numpy-1.13.0/glossary.html\n",
    "1. https://engineering.ucsb.edu/~shell/che210d/numpy.pdf\n",
    "1. http://www.scipy-lectures.org/intro/numpy/numpy.html#indexing-and-slicing"
   ]
  },
  {
   "cell_type": "markdown",
   "metadata": {},
   "source": [
    "## Broadcasting"
   ]
  },
  {
   "cell_type": "markdown",
   "metadata": {},
   "source": [
    "Broadcasting este un mecanism prin care se permite - in anumite circumstante - operarea cu matrice de dimensiuni ce nu sunt compatibile din punct de vedere al dimensiunii. De exemplu, urmand strict definitia matematica a adunarii, matricele `a` si `b` de mai jos nu se pot aduna:"
   ]
  },
  {
   "cell_type": "raw",
   "metadata": {},
   "source": [
    "matrice_din_vector = vector_de_valori.reshape((2, 2))\n",
    "print(matrice_din_vector.shape)\n",
    "print(vector_de_valori.shape)"
   ]
  },
  {
   "cell_type": "code",
   "execution_count": 85,
   "metadata": {
    "ExecuteTime": {
     "end_time": "2021-02-28T19:42:35.774324Z",
     "start_time": "2021-02-28T19:42:35.762362Z"
    },
    "scrolled": true
   },
   "outputs": [
    {
     "name": "stdout",
     "output_type": "stream",
     "text": [
      "a=\n",
      "[[ 0.  0.  0.]\n",
      " [10. 10. 10.]\n",
      " [20. 20. 20.]\n",
      " [30. 30. 30.]]\n",
      "\n",
      "b=\n",
      "[0. 1. 2.]\n",
      "\n"
     ]
    }
   ],
   "source": [
    "a = np.array([[0.0,0.0,0.0],[10.0,10.0,10.0],[20.0,20.0,20.0],[30.0,30.0,30.0]]) \n",
    "b = np.array([0.0,1.0,2.0])  \n",
    "\n",
    "print('a=\\n{0}\\n'.format(a))\n",
    "print('b=\\n{0}\\n'.format(b))"
   ]
  },
  {
   "cell_type": "markdown",
   "metadata": {},
   "source": [
    "Prin broadcasting se extine automat matrice `b` prin duplicarea (copierea) liniei:\n",
    "![broadcast](./images/broadcast1.png)"
   ]
  },
  {
   "cell_type": "code",
   "execution_count": 86,
   "metadata": {
    "ExecuteTime": {
     "end_time": "2021-02-28T19:42:35.786202Z",
     "start_time": "2021-02-28T19:42:35.777809Z"
    }
   },
   "outputs": [
    {
     "name": "stdout",
     "output_type": "stream",
     "text": [
      "result=\n",
      "[[ 0.  1.  2.]\n",
      " [10. 11. 12.]\n",
      " [20. 21. 22.]\n",
      " [30. 31. 32.]]\n",
      "\n"
     ]
    }
   ],
   "source": [
    "#broadcasting\n",
    "result = a + b\n",
    "print('result=\\n{0}\\n'.format(result))"
   ]
  },
  {
   "cell_type": "markdown",
   "metadata": {},
   "source": [
    "Cand se opereaza cu doua tablouri, NumPy compara dimensiunile - atributul `shape` - element cu element, incepand cu ultima dimensiune. Doua dimensiuni sunt compatibile cand:\n",
    "1. sunt egale, sau\n",
    "1. una din ele este 1\n",
    "\n",
    "Regulile de mai sus nu sunt indeplinite, de exemplu, pentru:\n",
    "\n",
    "![Broadcat imposibil](./images/broadcast2.png)\n",
    "sau pentru cazul simplu de mai jos:"
   ]
  },
  {
   "cell_type": "code",
   "execution_count": 87,
   "metadata": {
    "ExecuteTime": {
     "end_time": "2021-02-28T19:42:35.797188Z",
     "start_time": "2021-02-28T19:42:35.789272Z"
    }
   },
   "outputs": [
    {
     "name": "stdout",
     "output_type": "stream",
     "text": [
      "(4,) (5,)\n"
     ]
    }
   ],
   "source": [
    "x = np.arange(4)\n",
    "y = np.ones(5)\n",
    "print(x.shape, y.shape)\n",
    "#print(x+y) #ValueError: operands could not be broadcast together with shapes (4,) (5,) "
   ]
  },
  {
   "cell_type": "markdown",
   "metadata": {},
   "source": [
    "Daca NumPy poate rezolva diferenta de dimensiune prin replicarea continutului (copiere), atunci va face acest lucru:"
   ]
  },
  {
   "cell_type": "code",
   "execution_count": 88,
   "metadata": {
    "ExecuteTime": {
     "end_time": "2021-02-28T19:42:35.809661Z",
     "start_time": "2021-02-28T19:42:35.799652Z"
    }
   },
   "outputs": [
    {
     "name": "stdout",
     "output_type": "stream",
     "text": [
      "x shape:  (4, 1)\n",
      "x:\n",
      " [[0]\n",
      " [1]\n",
      " [2]\n",
      " [3]]\n"
     ]
    }
   ],
   "source": [
    "x = np.arange(4).reshape(4, 1)\n",
    "print('x shape: ', x.shape)\n",
    "print('x:\\n', x)"
   ]
  },
  {
   "cell_type": "code",
   "execution_count": 89,
   "metadata": {
    "ExecuteTime": {
     "end_time": "2021-02-28T19:42:35.820437Z",
     "start_time": "2021-02-28T19:42:35.812240Z"
    }
   },
   "outputs": [
    {
     "name": "stdout",
     "output_type": "stream",
     "text": [
      "y shape:  (1, 5)\n",
      "y:\n",
      " [[0 1 2 3 4]]\n"
     ]
    }
   ],
   "source": [
    "y = np.arange(5).reshape(1, 5)\n",
    "print('y shape: ', y.shape)\n",
    "print('y:\\n', y)"
   ]
  },
  {
   "cell_type": "code",
   "execution_count": 90,
   "metadata": {
    "ExecuteTime": {
     "end_time": "2021-02-28T19:42:35.829100Z",
     "start_time": "2021-02-28T19:42:35.823921Z"
    }
   },
   "outputs": [
    {
     "name": "stdout",
     "output_type": "stream",
     "text": [
      "z shape: (4, 5)\n",
      "z\n",
      " [[0 1 2 3 4]\n",
      " [1 2 3 4 5]\n",
      " [2 3 4 5 6]\n",
      " [3 4 5 6 7]]\n"
     ]
    }
   ],
   "source": [
    "z = x + y\n",
    "print('z shape:', z.shape)\n",
    "print('z\\n', z)"
   ]
  },
  {
   "cell_type": "markdown",
   "metadata": {},
   "source": [
    "## Exemplu concret\n",
    "\n",
    "([Sursa](https://eli.thegreenplace.net/2015/broadcasting-arrays-in-numpy/)) Se dau portiile de grasimi, proteine si carbohidrati dintr-un meniu. Sa se calculeze cate calorii reprezinta. Numarul de calorii se determina astfel:\n",
    "1. nr de calorii pentru grasimi = 9 * grame grasimi\n",
    "1. nr de calorii pentru proteine = 4 * grame proteine\n",
    "1. nr de calorii pentru carbohidrati = 4 * numar grame carbohidrati\n",
    "\n",
    "![tabel portii](./images/broadcast3.png)"
   ]
  },
  {
   "cell_type": "markdown",
   "metadata": {},
   "source": [
    "Rezolvarea se fece prin aplicarea de broadcasting:"
   ]
  },
  {
   "cell_type": "code",
   "execution_count": 91,
   "metadata": {
    "ExecuteTime": {
     "end_time": "2021-02-28T19:42:35.841319Z",
     "start_time": "2021-02-28T19:42:35.832693Z"
    }
   },
   "outputs": [
    {
     "name": "stdout",
     "output_type": "stream",
     "text": [
      "Calorii:\n",
      " [[  2.7  10.   14. ]\n",
      " [ 26.1 110.    0. ]\n",
      " [  3.6   5.2  95.6]\n",
      " [129.6  24.    9.2]]\n"
     ]
    }
   ],
   "source": [
    "weights = np.array([\n",
    "  [0.3, 2.5, 3.5],\n",
    "  [2.9, 27.5, 0],\n",
    "  [0.4, 1.3, 23.9],\n",
    "  [14.4, 6, 2.3]])\n",
    "\n",
    "cal_per_g = np.array([9, 4, 4])\n",
    "\n",
    "#broadcasting\n",
    "calories = weights * cal_per_g\n",
    "\n",
    "print('Calorii:\\n', calories)"
   ]
  },
  {
   "cell_type": "markdown",
   "metadata": {},
   "source": [
    "### Bibliografie\n",
    "\n",
    "[Basic broadcasting: https://docs.scipy.org/doc/numpy/user/basics.broadcasting.html](https://docs.scipy.org/doc/numpy/user/basics.broadcasting.html)\n",
    "\n",
    "http://scipy.github.io/old-wiki/pages/EricsBroadcastingDoc\n",
    "\n",
    "http://cs231n.github.io/python-numpy-tutorial/#numpy-broadcasting"
   ]
  },
  {
   "cell_type": "markdown",
   "metadata": {},
   "source": [
    "## Vectorizare\n",
    "\n",
    "Exemple: https://www.kdnuggets.com/2017/11/forget-for-loop-data-science-code-vectorization.html "
   ]
  },
  {
   "cell_type": "markdown",
   "metadata": {},
   "source": [
    "### Exemplu\n",
    "\n",
    "Se dau doua colectii de numere: prima contine distante parcurse, a doua timpul necesar pentru parcurgere. Se cere determinarea vitezelor corespunzatoare. Se va face implementare folosind ciclare (clasic) si vectorizare."
   ]
  },
  {
   "cell_type": "code",
   "execution_count": 92,
   "metadata": {
    "ExecuteTime": {
     "end_time": "2021-02-28T19:42:35.853173Z",
     "start_time": "2021-02-28T19:42:35.844743Z"
    }
   },
   "outputs": [],
   "source": [
    "distante = [10, 20, 23, 14, 33, 45]\n",
    "timpi = [0.3, 0.44, 0.9, 1.2, 0.7, 1.1]"
   ]
  },
  {
   "cell_type": "code",
   "execution_count": 93,
   "metadata": {
    "ExecuteTime": {
     "end_time": "2021-02-28T19:42:35.864487Z",
     "start_time": "2021-02-28T19:42:35.856056Z"
    }
   },
   "outputs": [
    {
     "name": "stdout",
     "output_type": "stream",
     "text": [
      "Viteze:  [33.333333333333336, 45.45454545454545, 25.555555555555554, 11.666666666666668, 47.142857142857146, 40.90909090909091]\n"
     ]
    }
   ],
   "source": [
    "#var 1: folosind ciclare\n",
    "viteze = []\n",
    "for i in range(len(distante)):\n",
    "    viteze.append(distante[i] / timpi[i])\n",
    "    \n",
    "print('Viteze: ', viteze)"
   ]
  },
  {
   "cell_type": "code",
   "execution_count": 94,
   "metadata": {
    "ExecuteTime": {
     "end_time": "2021-02-28T19:42:35.875932Z",
     "start_time": "2021-02-28T19:42:35.866481Z"
    }
   },
   "outputs": [
    {
     "name": "stdout",
     "output_type": "stream",
     "text": [
      "[33.33333333 45.45454545 25.55555556 11.66666667 47.14285714 40.90909091]\n"
     ]
    }
   ],
   "source": [
    "# var 2: vectorizare\n",
    "#vectorizarea numpy lucreaza peste tablouri, primul pas este obtinerea de tablouri din cele doua liste\n",
    "\n",
    "distante_array = np.array(viteze)\n",
    "timpi_array = np.array(timpi)\n",
    "\n",
    "#se folosec operatii NumPy care trateaza tablourile in intregime. Codul C folosit pentru implementarea operatiilor NumPy \n",
    "#foloseste facilitatile de executie Single Instruction Multiple Data (SIMD) din microprocesor. \n",
    "#intregul array contine doar elemente de acelasi tip (floating point value, in acest caz), deci se evita verificarile tipurilor de date\n",
    "\n",
    "viteze_array = distante/timpi_array\n",
    "\n",
    "print(viteze_array)\n",
    "\n",
    "# Pe langa asta, se stie deja ca intregul array contine doar elemente de acelasi tip (floating point value, in acest caz), \n",
    "# deci se evita verificarile tipurilor de date\n"
   ]
  },
  {
   "cell_type": "markdown",
   "metadata": {},
   "source": [
    "### Beneficii"
   ]
  },
  {
   "cell_type": "markdown",
   "metadata": {},
   "source": [
    "1. Executie rapida\n",
    "1. Cod mai scurt si deseori mai clar"
   ]
  },
  {
   "cell_type": "markdown",
   "metadata": {},
   "source": [
    "Exemplu: sa se calculeze:\n",
    "$$\n",
    "\\sum\\limits_{i=0}^{N-1} (i\\%3-1) \\cdot i\n",
    "$$"
   ]
  },
  {
   "cell_type": "code",
   "execution_count": 95,
   "metadata": {
    "ExecuteTime": {
     "end_time": "2021-02-28T19:42:35.909678Z",
     "start_time": "2021-02-28T19:42:35.878011Z"
    }
   },
   "outputs": [
    {
     "name": "stdout",
     "output_type": "stream",
     "text": [
      "-33333.0\n"
     ]
    }
   ],
   "source": [
    "#functie Python implementata naiv\n",
    "\n",
    "N = 100000\n",
    "\n",
    "def func_python(N):\n",
    "    d = 0.0\n",
    "    for i in range(N):\n",
    "        d += (i%3-1) * i\n",
    "    return d\n",
    "\n",
    "print(func_python(N))"
   ]
  },
  {
   "cell_type": "code",
   "execution_count": 96,
   "metadata": {
    "ExecuteTime": {
     "end_time": "2021-02-28T19:42:38.079273Z",
     "start_time": "2021-02-28T19:42:35.913673Z"
    }
   },
   "outputs": [
    {
     "name": "stdout",
     "output_type": "stream",
     "text": [
      "25.6 ms ± 4.51 ms per loop (mean ± std. dev. of 7 runs, 10 loops each)\n"
     ]
    }
   ],
   "source": [
    "%timeit func_python(N)"
   ]
  },
  {
   "cell_type": "code",
   "execution_count": 97,
   "metadata": {
    "ExecuteTime": {
     "end_time": "2021-02-28T19:42:38.092213Z",
     "start_time": "2021-02-28T19:42:38.080286Z"
    }
   },
   "outputs": [
    {
     "name": "stdout",
     "output_type": "stream",
     "text": [
      "-33333\n"
     ]
    }
   ],
   "source": [
    "#functie rescrisa folosind facilitatile NumPy si vectorizare\n",
    "\n",
    "def func_numpy(N):\n",
    "    i_array = np.arange(N)\n",
    "    return ((i_array % 3 - 1 ) * i_array).sum()\n",
    "\n",
    "print(func_numpy(N))"
   ]
  },
  {
   "cell_type": "code",
   "execution_count": 98,
   "metadata": {
    "ExecuteTime": {
     "end_time": "2021-02-28T19:42:49.160840Z",
     "start_time": "2021-02-28T19:42:38.092213Z"
    }
   },
   "outputs": [
    {
     "name": "stdout",
     "output_type": "stream",
     "text": [
      "1.32 ms ± 70.2 µs per loop (mean ± std. dev. of 7 runs, 1000 loops each)\n"
     ]
    }
   ],
   "source": [
    "%timeit func_numpy(N)"
   ]
  },
  {
   "cell_type": "markdown",
   "metadata": {},
   "source": [
    "Majoritatea operatorilor si a functiilor NumPy lucreaza element cu element (sunt numite si universal functions, sau ufuncs) si intr-un mod optimizat (SIMD). Urmatoarele sunt ufuncs:\n",
    "- operatori aritmetici: + - * / // % **\n",
    "- operatii pe biti: & | ~ ^ >> <<\n",
    "- comparatii: < <= > >= == !=\n",
    "- functii matematice: np.sin, np.log, np.exp, ...\n",
    "- functii speciale: `scipy.special.*`\n",
    "\n",
    "Desi unele functii din NumPy se regasesc si in Python (ex: `sum`, `min`, `mean`), folosirea de ufunc duce la executie mai rapida:"
   ]
  },
  {
   "cell_type": "code",
   "execution_count": 99,
   "metadata": {
    "ExecuteTime": {
     "end_time": "2021-02-28T19:42:49.180688Z",
     "start_time": "2021-02-28T19:42:49.163392Z"
    }
   },
   "outputs": [],
   "source": [
    "from random import random\n",
    "c = [random() for i in range(N)]"
   ]
  },
  {
   "cell_type": "code",
   "execution_count": 100,
   "metadata": {
    "ExecuteTime": {
     "end_time": "2021-02-28T19:42:55.881209Z",
     "start_time": "2021-02-28T19:42:49.182155Z"
    }
   },
   "outputs": [
    {
     "name": "stdout",
     "output_type": "stream",
     "text": [
      "840 µs ± 92.1 µs per loop (mean ± std. dev. of 7 runs, 1000 loops each)\n"
     ]
    }
   ],
   "source": [
    "%timeit sum(c)"
   ]
  },
  {
   "cell_type": "code",
   "execution_count": 101,
   "metadata": {
    "ExecuteTime": {
     "end_time": "2021-02-28T19:42:55.896466Z",
     "start_time": "2021-02-28T19:42:55.884920Z"
    }
   },
   "outputs": [],
   "source": [
    "#vectorizare\n",
    "c_array = np.array(c)"
   ]
  },
  {
   "cell_type": "code",
   "execution_count": 102,
   "metadata": {
    "ExecuteTime": {
     "end_time": "2021-02-28T19:43:03.894283Z",
     "start_time": "2021-02-28T19:42:55.898628Z"
    }
   },
   "outputs": [
    {
     "name": "stdout",
     "output_type": "stream",
     "text": [
      "97.6 µs ± 5.62 µs per loop (mean ± std. dev. of 7 runs, 10000 loops each)\n"
     ]
    }
   ],
   "source": [
    "%timeit c_array.sum()"
   ]
  },
  {
   "cell_type": "markdown",
   "metadata": {},
   "source": [
    "### Exercitiu\n",
    "Se dau $n$ puncte in spatiul bidimensional, prin coordonatele lor memorate in 2 vectori **x** si **y**. Sa se determine care este cea mai apropiata pereche de puncte, considerand distanta Euclidiana:\n",
    "$$\n",
    "d^2((x_i, y_i), (x_j, y_j)) = (x_i-x_j)^2 + (y_i-y_j)^2\n",
    "$$"
   ]
  },
  {
   "cell_type": "code",
   "execution_count": 103,
   "metadata": {
    "ExecuteTime": {
     "end_time": "2021-02-28T19:43:03.902420Z",
     "start_time": "2021-02-28T19:43:03.897135Z"
    }
   },
   "outputs": [],
   "source": [
    "n = 1000\n",
    "x = np.random.random(size = n)\n",
    "y = np.random.random(size = n)"
   ]
  },
  {
   "cell_type": "code",
   "execution_count": 104,
   "metadata": {
    "ExecuteTime": {
     "end_time": "2021-02-28T19:43:03.921493Z",
     "start_time": "2021-02-28T19:43:03.913136Z"
    }
   },
   "outputs": [],
   "source": [
    "# Varianta 1: se calculeaza matricea patratelor distantelor de dimensiune n*n. d[i, j] va reprezenta patratul distantei intre \n",
    "# punctul de coordonate(xi, yi) si cel de coordonate (xj, yj)."
   ]
  },
  {
   "cell_type": "code",
   "execution_count": 105,
   "metadata": {
    "ExecuteTime": {
     "end_time": "2021-02-28T19:43:34.105103Z",
     "start_time": "2021-02-28T19:43:03.925531Z"
    }
   },
   "outputs": [
    {
     "name": "stdout",
     "output_type": "stream",
     "text": [
      "3.77 s ± 74.7 ms per loop (mean ± std. dev. of 7 runs, 1 loop each)\n"
     ]
    }
   ],
   "source": [
    "%%timeit\n",
    "\n",
    "d = np.empty((n, n))\n",
    "for i in range(n):\n",
    "    for j in range(n):\n",
    "        d[i, j] = (x[i] - x[j])**2 + (y[i]-y[j])**2"
   ]
  },
  {
   "cell_type": "code",
   "execution_count": 106,
   "metadata": {
    "ExecuteTime": {
     "end_time": "2021-02-28T19:43:34.120753Z",
     "start_time": "2021-02-28T19:43:34.108688Z"
    }
   },
   "outputs": [],
   "source": [
    "#calculul perechii de puncte i, j cu i!= j pentru care distanta e minima\n",
    "def pereche_apropiata(mat):\n",
    "    n = mat.shape[0]\n",
    "    #distanta dintre un punctsiel insusi este intotedauna 0; se vor exclude aceste cazuri, setand infinit pentru diagonala principala\n",
    "    i = np.arange(n)\n",
    "    mat[i, i] = np.inf\n",
    "    pos_flatten = np.argmin(mat)\n",
    "    return pos_flatten // n, pos_flatten % n\n",
    "    \n",
    "# print(pereche_apropiata(d))\n",
    "    "
   ]
  },
  {
   "cell_type": "code",
   "execution_count": 107,
   "metadata": {
    "ExecuteTime": {
     "end_time": "2021-02-28T19:43:34.131376Z",
     "start_time": "2021-02-28T19:43:34.123025Z"
    }
   },
   "outputs": [],
   "source": [
    "# Varianta 2: broadcasting, vectorizare"
   ]
  },
  {
   "cell_type": "code",
   "execution_count": 108,
   "metadata": {
    "ExecuteTime": {
     "end_time": "2021-02-28T19:43:36.481240Z",
     "start_time": "2021-02-28T19:43:34.134572Z"
    }
   },
   "outputs": [
    {
     "name": "stdout",
     "output_type": "stream",
     "text": [
      "28 ms ± 3.82 ms per loop (mean ± std. dev. of 7 runs, 10 loops each)\n"
     ]
    }
   ],
   "source": [
    "%%timeit\n",
    "\n",
    "dx = (x[:, np.newaxis] - x[np.newaxis, :]) ** 2\n",
    "dy = (y[:, np.newaxis] - y[np.newaxis, :]) ** 2\n",
    "\n",
    "d = dx + dy"
   ]
  },
  {
   "cell_type": "code",
   "execution_count": 109,
   "metadata": {
    "ExecuteTime": {
     "end_time": "2021-02-28T19:43:36.490557Z",
     "start_time": "2021-02-28T19:43:36.482236Z"
    }
   },
   "outputs": [],
   "source": [
    "# decomentati %%timeit din celula anterioada daca vreti afisare\n",
    "# print(pereche_apropiata(d))"
   ]
  },
  {
   "cell_type": "markdown",
   "metadata": {},
   "source": [
    "### Bibliografie\n",
    "[https://speakerdeck.com/jakevdp/losing-your-loops-fast-numerical-computing-with-numpy-pycon-2015](https://speakerdeck.com/jakevdp/losing-your-loops-fast-numerical-computing-with-numpy-pycon-2015)\n",
    "\n",
    "[Losing your Loops Fast Numerical Computing with NumPy](https://www.youtube.com/watch?v=EEUXKG97YRw)"
   ]
  }
 ],
 "metadata": {
  "kernelspec": {
   "display_name": "Python 3",
   "language": "python",
   "name": "python3"
  },
  "language_info": {
   "codemirror_mode": {
    "name": "ipython",
    "version": 3
   },
   "file_extension": ".py",
   "mimetype": "text/x-python",
   "name": "python",
   "nbconvert_exporter": "python",
   "pygments_lexer": "ipython3",
   "version": "3.8.8"
  },
  "toc": {
   "base_numbering": 1,
   "nav_menu": {},
   "number_sections": true,
   "sideBar": true,
   "skip_h1_title": false,
   "title_cell": "Table of Contents",
   "title_sidebar": "Contents",
   "toc_cell": false,
   "toc_position": {},
   "toc_section_display": true,
   "toc_window_display": false
  },
  "varInspector": {
   "cols": {
    "lenName": 16,
    "lenType": 16,
    "lenVar": 40
   },
   "kernels_config": {
    "python": {
     "delete_cmd_postfix": "",
     "delete_cmd_prefix": "del ",
     "library": "var_list.py",
     "varRefreshCmd": "print(var_dic_list())"
    },
    "r": {
     "delete_cmd_postfix": ") ",
     "delete_cmd_prefix": "rm(",
     "library": "var_list.r",
     "varRefreshCmd": "cat(var_dic_list()) "
    }
   },
   "types_to_exclude": [
    "module",
    "function",
    "builtin_function_or_method",
    "instance",
    "_Feature"
   ],
   "window_display": false
  }
 },
 "nbformat": 4,
 "nbformat_minor": 2
}
