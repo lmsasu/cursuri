{
 "cells": [
  {
   "cell_type": "markdown",
   "id": "hired-designer",
   "metadata": {},
   "source": [
    "# Curs 5. Tipuri de date. Calitatea si preprocesarea datelor. Statistici descriptive"
   ]
  },
  {
   "cell_type": "code",
   "execution_count": 1,
   "id": "other-bronze",
   "metadata": {
    "ExecuteTime": {
     "end_time": "2021-03-22T06:34:33.663787Z",
     "start_time": "2021-03-22T06:34:32.837221Z"
    }
   },
   "outputs": [
    {
     "name": "stdout",
     "output_type": "stream",
     "text": [
      "NumPy version: 1.19.2\n",
      "pandas version: 1.2.3\n",
      "matplotlib version: 3.3.4\n"
     ]
    }
   ],
   "source": [
    "import numpy as np\n",
    "import matplotlib.pyplot as plt\n",
    "import matplotlib\n",
    "matplotlib.style.use('ggplot')\n",
    "import pandas as pd\n",
    "\n",
    "print(f'NumPy version: {np.__version__}')\n",
    "print(f'pandas version: {pd.__version__}')\n",
    "print(f'matplotlib version: {matplotlib.__version__}')"
   ]
  },
  {
   "cell_type": "markdown",
   "id": "southwest-wallpaper",
   "metadata": {},
   "source": [
    "## Tipuri de date"
   ]
  },
  {
   "cell_type": "markdown",
   "id": "public-wrong",
   "metadata": {},
   "source": [
    "* Un set de date este o colectie de obiecte-data (eng: data objects) si de atribute.\n",
    "* Sinonime pentru obiecte-data: înregistrare, punct, vector, pattern (termen ce poate induce confuzie), eveniment, caz, esantion (termen ce poate induce confuzie), observatie, entitate.\n",
    "* Obiectele sunt descrise prin atribute\n",
    "* Sinonime pentru atribut: **variabila**, **caracteristica**, **trasatura (feature)**, **dimensiune** (a nu se confunda cu omonimul din algebra)."
   ]
  },
  {
   "cell_type": "markdown",
   "id": "formed-orange",
   "metadata": {
    "ExecuteTime": {
     "end_time": "2021-03-21T14:20:51.890618Z",
     "start_time": "2021-03-21T14:20:51.885625Z"
    }
   },
   "source": [
    "<img src=\"./images/date.png\" alt=\"drawing\" width=\"400px\"/>"
   ]
  },
  {
   "cell_type": "markdown",
   "id": "shared-publisher",
   "metadata": {},
   "source": [
    "**Definitie**: Atribut: proprietate sau caracteristica a unui obiect ce poate sa varieze fie de la un obiect la altul, fie de la un moment de timp la altul.\n",
    "* Exemple: culoarea ochilor, temperatura.\n",
    "* Trebuie facuta diferenta între proprietatile atributelor si proprietatile valorilor atributelor:\n",
    "    * acelasi atribut poate avea valori diferite: înaltimea poate fi masurata în metri sau picioare \n",
    "    * diferite atribute pot fi masurate cu acelasi tip de date, dar proprietatile atributelor pot fi diferite: pentru niste persoane, atributele “inaltime” si “id” sunt reprezentate prin numere întregi; în timp ce are sens sa faci media înaltimilor, nu are nicio noima media id-urilor; operatiile ce se pot face pentru înaltime (medie, max etc.) nu se aplica si pentru id-uri; id-urile nu au un maxim, în timp ce înaltimea - da."
   ]
  },
  {
   "cell_type": "markdown",
   "id": "muslim-rating",
   "metadata": {},
   "source": [
    "### Tipuri de atribute\n",
    "Exista diferite tipuri de atribute:\n",
    "* Categoriale (calitative)\n",
    "    * **nominale**: valori diferite care permit recunoasterea diferentelor; exemple: cod postal, id-uri, culoarea ochilor, genul; operatii permisibile: =, $\\ne$;\n",
    "    * **ordinale**: valorile permit ordonarea obiectelor; exemple: scara duritatii mineralelor, grade (militare etc.), gradul de satisfactie pentru un anumit produs; operatii permise: =, $\\ne$, <, >; functii aplicabile: mediana, percentile etc.\n",
    "* Numerice (cantitative)\n",
    "    * **interval**: se poate face diferenta între valori (i.e. exista unitati de masura asociate); exemple: date calendaristice, temperaturi in grade Celsius sau Fahrenheit; pe lânga operatiile de mai sus admit si adunare, scadere; functii aplicabile: media, deviatia standard, corelatia\n",
    "    * **multiplicabile**: permit împartiri si înmultiri; exemple: temperatura în Kelvin, cantitati monetare, numar de elemente, vârsta, greutate; operatii: cele de mai sus si inmultirea, impartirea; functii aplicabile: media geometrica, variatie procentuala."
   ]
  },
  {
   "cell_type": "markdown",
   "id": "acoustic-juice",
   "metadata": {},
   "source": [
    "### Transformari la nivel de atribute\n",
    "Exista niste transformari care se pot efectua sau nu asupra unor atribute:\n",
    "* pentru atribute nominale: orice asociere unu-la-unu (bijectie), de exemplu permutari; daca toti angajatii au un id, reasignarea lor nu ar modifica esenta datelor;\n",
    "* pentru atribute ordinale: orice modificare de valori care respecta ordinea datelor (transformare monotona): val_noua = f (val_veche), unde f (·) functie monoton crescatoare; {bun, mai bun, cel mai bun} poate fi reprezentat prin {1, 2, 3} sau la fel de bine prin {0.3, 12, 14};\n",
    "* pentru atribute interval: transformari de forma a * val_veche + b unde a si b sunt constante; ex: transformarea din Celsius în Fahrenheit;\n",
    "* pentru atribute multiplicabile: $val\\_veche / val\\_noua = r$; ex: raportul greutatii lui x si y este 2."
   ]
  },
  {
   "cell_type": "markdown",
   "id": "appreciated-compound",
   "metadata": {},
   "source": [
    "### Descrierea atributelor prin numarul de valori\n",
    "* Atribute discrete:\n",
    "    * o multime cel mult numarabila de valori;\n",
    "    * exemple: coduri postale, cuvinte într-un document\n",
    "    * se reprezinta cel mai frecvent ca numere naturale\n",
    "    * caz special — atribute binare: {prezent, absent}\n",
    "* Atribute continue:\n",
    "    * valorile sunt exprimate prin numere reale\n",
    "    * exemple: temperatura, masa\n",
    "    * dpdv practic reprezentarea se face cu o precizie finita\n",
    "    * reprezentare actuala: valori în virgula mobila\n",
    "    \n",
    "* Valori asimetrice:\n",
    "    * doar prezenta unei trasaturi (i.e. valoare non–zero) este importanta\n",
    "    * exemple: vectorul care reprezinta daca niste cuvinte sunt prezente (eventual: de cate ori) într-un document\n",
    "    * daca se iau in considerare doi astfel de vectori, conteaza mai mult cuvintele pe care le au în comun decât cuvintele care lipsesc din ambele documente, simultan"
   ]
  },
  {
   "cell_type": "markdown",
   "id": "sonic-shopping",
   "metadata": {},
   "source": [
    "### Tipuri de seturi de date\n",
    "\n",
    "* Seturi de date de tip: înregistrare, de tip graf si de tip secventa\n",
    "* Caracteristici generale:\n",
    "    * **dimensionalitatea** = numarul de atribute pe care obiectele-data le au. Un numar de dimensiuni prea mare duce la “blestemul dimensionalitatii”; pentru multe dimensiuni se pot aplica tehnici de reducere a numarului de dimensiuni;\n",
    "    * **caracterul rarefiat al datelor** = procentul de date utile; de exemplu, pentru date asimetrice este numarul de valori nenule. Specularea acestui caracter poate reduce drastic necesarul de memorie sau timpul de calcul;\n",
    "    * **rezolutia** = scara la care se face raportarea valorilor; e posibil ca scari diferite sa releve (sau sa ascunda) pattern-uri; ex: masuratori meteo raportate pe zile pot arata iminenta unei furtuni, dar la scala de saptamâni asa ceva nu mai e vizibil"
   ]
  },
  {
   "cell_type": "markdown",
   "id": "smooth-genealogy",
   "metadata": {},
   "source": [
    "#### Seturi de date de tip înregistrare\n",
    "\n",
    "* cel mai des furnizate si frecvent utilizate in aplicatii: multime de obiecte cu un set predefinit de atribute\n",
    "* nu exista legatura intre inregistrari distincte\n",
    "* stocare: fisiere text (e.g. CSV), Excel, baze de date relationale – views\n",
    "\n",
    "Cazuri remarcabile de seturi de date inregistrare:\n",
    "* Tranzactii, date specifice cosurilor de cumparaturi:\n",
    "    * exemplu: intr-un magazin, setul de produse cumparate de un client in timpul unei sesiuni de cumparaturi = continutul cosului de cumparaturi\n",
    "    * se analizeaza asocierea intre produsele individuale din tranzactii\n",
    "    * posibilitate de reprezentare: indicator boolean care arata daca un produs anume face sau nu parte dintr-un cos de cumparaturi\n",
    "    * variatie: cate exemplare din produs au fost achizitionate (0, 1, . . . )\n",
    " <img src=\"./images/MBA.png\" alt=\"drawing\" width=\"400px\"/>\n",
    "* Matrice de date:\n",
    "    * pentru cazul in care datele au acelasi set fix de atribute *numerice*\n",
    "    * fiecare data in parte poate fi considerata un punct in spatiu multidimensional\n",
    "    * fiecare atribut considerat este o dimensiune\n",
    "    * este tipul de date standard pentru analiza statistica\n",
    "    * nota: intre conceptul de dimensiune asa cum e definit in matematica si cel de dimensiune—atribut pot exista diferente\n",
    " <img src=\"./images/matrix.png\" alt=\"drawing\" width=\"600px\"/>\n",
    " * Matrice de date rarefiate:\n",
    "     * caz special al datelor matrice\n",
    "     * date asimetrice: in putine cazuri anumite trasaturi sunt prezente, predominanta este lipsa trasaturilor\n",
    "     * exemplu: tranzactii din cosuri de cumparaturi in care modelarea se face: obiectul (nu) a fost cumparat\n",
    "     * exemplu: documente cu continut dintr-un anumit lexic; pentru un document se creeaza un vector numeric, care la fiecare cuvant are precizat daca apare (eventual: de cate ori apare) sau nu = matricea document–termen\n",
    "     * in practica, tipuri de date specializate pentru date rare sunt benefice; [Sparse matrices](https://docs.scipy.org/doc/scipy/reference/sparse.html)\n",
    "      <img src=\"./images/document-term-matrix.png\" alt=\"drawing\" width=\"600px\"/>"
   ]
  },
  {
   "cell_type": "markdown",
   "id": "spread-webcam",
   "metadata": {},
   "source": [
    "#### Seturi de date de tip graf\n",
    "\n",
    "* reprezentare convenabila pentru cazurile:\n",
    "    * graful reprezinta relatii între obiecte\n",
    "    * obiectele însele sunt reprezentate ca graf\n",
    "##### Caz 1: datele reprezinta relatii între obiecte\n",
    "* obiectele sunt reprezentate ca noduri în graf\n",
    "* relatiile dintre obiecte sunt reprezentate sub forma de arce sau muchii\n",
    "* exemplu: pagini web care contin legaturi catre alte pagini\n",
    "* exemplu de algoritm ce foloseste structura de graf: [algoritmul PageRank](http://en.wikipedia.org/wiki/Pagerank)\n",
    "<img src=\"./images/graf1.png\" alt=\"drawing\" width=\"400px\"/>\n",
    "<img src=\"./images/html.png\" alt=\"drawing\" width=\"400px\"/>\n",
    "\n",
    "##### Caz 2: obiectele-data sunt grafuri\n",
    "* obiectele pot contine subobiecte care sunt legate între ele\n",
    "* uneori nu doar legaturile sunt importante, ci si forma lor: unghiul dintre muchii poate avea aceeasi relevanta ca si legaturile însele;\n",
    "* exemplu: formulele chimice - benzen = $C_6H_6$\n",
    "* utilitate: se poate detecta care substructura apare mai des; sau daca prezenta sau absenta unor astfel de substructuri este legata de prezenta/absenta anumitor proprietati chimice.\n",
    "* domeniu aparte: “mineritul” substructurilor\n",
    "<img src=\"./images/benzen.png\" alt=\"drawing\" width=\"400px\"/>"
   ]
  },
  {
   "cell_type": "markdown",
   "id": "negative-raise",
   "metadata": {},
   "source": [
    "#### Seturi de tip secventa\n",
    "* atributele au relatii care implica ordonare în timp sau spatiu\n",
    "* subtipuri: date secventiale, secventa, serii de timp si date spatiale\n",
    "\n",
    "##### Caz: date secventiale\n",
    "* numite si date temporale\n",
    "* fiecare înregistrare are un atribut suplimentar de timp asociat\n",
    "<img src=\"./images/secvtran.png\" alt=\"drawing\" width=\"400px\"/>\n",
    "\n",
    "##### Caz: date secventa\n",
    "* setul de date entitati individuale, precum secvente de cuvinte sau de litere;\n",
    "* similare cu cele secventiale, dar fara timp inclus\n",
    "* pozitia din secventa este importanta\n",
    "* exemplu: informatia genetica este o secventa de nucleotide (gene)\n",
    "* aplicatie: predictia similaritatilor în structura si functia genelor pe baza similaritatii dintre secvente\n",
    "<img src=\"./images/genom.png\" alt=\"drawing\" width=\"300px\"/>"
   ]
  },
  {
   "cell_type": "markdown",
   "id": "geological-checkout",
   "metadata": {},
   "source": [
    "##### Caz: serii de timp\n",
    "* fiecare înregistrare e o serie de timp = o serie de masuratori efectuate la anumite momente de timp\n",
    "* exemplu: seturi de date de tip financiar, reprezentând valorile unor stocuri\n",
    "* exemplu: date meteo masurate lunar\n",
    "<img src=\"./images/meteo1.png\" alt=\"drawing\" width=\"400px\"/>\n",
    "<img src=\"./images/meteo2.png\" alt=\"drawing\" width=\"400px\"/>"
   ]
  },
  {
   "cell_type": "markdown",
   "id": "pressed-shirt",
   "metadata": {},
   "source": [
    "##### Caz: Date spatiale\n",
    "* cazul datelor care au atribute spatiale sau areale\n",
    "* exemplu: date climatice raportate pe regiuni\n",
    "* exemplu: date adunate pentru scurgerea unui fluid — pozitia diferitelor puncte este inregistrata\n",
    "<img src=\"./images/spatial.png\" alt=\"drawing\" width=\"400px\"/>"
   ]
  },
  {
   "cell_type": "markdown",
   "id": "sitting-theater",
   "metadata": {
    "ExecuteTime": {
     "end_time": "2021-03-21T14:56:12.426329Z",
     "start_time": "2021-03-21T14:56:12.421341Z"
    }
   },
   "source": [
    "## Calitatea datelor"
   ]
  },
  {
   "cell_type": "markdown",
   "id": "comparable-professional",
   "metadata": {},
   "source": [
    "### Probleme legate de masurarea si colectarea datelor\n",
    "\n",
    "* Presupunerea ca datele pe baza carora se face DS sunt de calitate perfecta este naiva\n",
    "* Prevenirea problemelor care duc la scaderea calitatii datelor nu este o optiune pentru un data scientist\n",
    "* Abordari:\n",
    "    *  detectarea si corectarea erorilor = curatarea datelor\n",
    "    *  construirea de algoritmi care sa tolereze o calitate slaba a datelor\n",
    "* surse de probleme în calitatea datelor:\n",
    "    * procesele de masurare\n",
    "    * aplicatiile folosite\n",
    "    \n",
    "* Zgomotul\n",
    "    * componenta aleatoare care se adauga unui proces de masurare\n",
    "    * Exemplu: distorsiunea vocii unei persoane pe o linie telefonica slaba\n",
    "    * Daca eroarea apare mereu în acelasi loc: artefact"
   ]
  },
  {
   "cell_type": "code",
   "execution_count": 2,
   "id": "unusual-procurement",
   "metadata": {
    "ExecuteTime": {
     "end_time": "2021-03-22T06:34:34.373058Z",
     "start_time": "2021-03-22T06:34:33.666753Z"
    }
   },
   "outputs": [
    {
     "data": {
      "image/png": "[encoded data removed]",
      "text/plain": [
       "<Figure size 864x576 with 2 Axes>"
      ]
     },
     "metadata": {},
     "output_type": "display_data"
    }
   ],
   "source": [
    "x = np.linspace(-10, 10, 1000)\n",
    "y = np.sin(x) + np.sin(5*x)\n",
    "\n",
    "fig, (ax1, ax2) = plt.subplots(2, figsize=(12, 8))\n",
    "fig.suptitle('Date cu si fara zgomot')\n",
    "ax1.set_title(r'$sin(x) + sin(5x)$')\n",
    "ax1.plot(x, y)\n",
    "ax2.set_title(r'$sin(x) + sin(5x) + 0.3 \\cdot \\mathcal{N}(0, 1)$')\n",
    "ax2.plot(x, y + 0.3 * np.random.randn(len(x)));"
   ]
  },
  {
   "cell_type": "markdown",
   "id": "cloudy-archive",
   "metadata": {},
   "source": [
    "### Calitatea datelor: precizie, abatere, acuratete\n",
    "* **Precizie**: apropierea valorilor rezultate prin masuratori repetate ale aceleiasi cantitati.\n",
    "* **Abatere (eng: bias)**: o variatie sistematica a masuratorilor fata de cantitatea reala.\n",
    "\n",
    "* Exemplu: se masoara o cantitate de 1 gram. Valorile obtinute sunt: {1.015, 0,990, 1.013, 1,001, 0.986}. Media este 1.001, deci abaterea este |1.001 − 1| = 0.001.\n",
    "* Precizia este considerata abaterea standard:\n",
    "    * $\\sigma = \\sqrt{E[(X - E(X))^2]}$\n",
    "deci pentru datele de mai sus precizia este 0.013.\n",
    "* **Acuratetea**: apropierea masuratorilor fata de valoarea adevarata ce se vrea a fi masurata."
   ]
  },
  {
   "cell_type": "markdown",
   "id": "grateful-federal",
   "metadata": {},
   "source": [
    "### Calitatea datelor: anomalii\n",
    "* Anomaliile sunt obiecte cu caracteristici considerabil diferite fata de majoritatea obiectelor din setul de date\n",
    "* Anomaliile (outliers) nu sunt zgomote, ci obiecte legitime\n",
    "* Utilitate: detectarea de nise pe piata, detectarea fraudelor\n",
    "\n",
    "<img src=\"./images/outliers.png\" alt=\"drawing\" width=\"400px\"/>"
   ]
  },
  {
   "cell_type": "markdown",
   "id": "everyday-treasure",
   "metadata": {},
   "source": [
    "### Calitatea datelor: valori lipsa\n",
    "* Cazuri: una sau mai multe valori de atribute lipsesc\n",
    "* Motive pentru lipsa valorilor:\n",
    "    * informatia nu este colectata — oamenii nu vor sa spuna vârsta sau greutatea\n",
    "    * atributele nu se pot aplica tot timpul tuturor obiectelor: copiii nu au venituri\n",
    "* Operarea în aceste situatii:\n",
    "    * eliminarea obiectelor-data sau a atributelor cu valori lipsa\n",
    "    * estimarea valorilor lipsa\n",
    "    * ignorarea valorilor lipsa în timpul analizei"
   ]
  },
  {
   "cell_type": "markdown",
   "id": "forty-purse",
   "metadata": {},
   "source": [
    "### Calitatea datelor: valori inconsistente; duplicare\n",
    "* Valori inconsistente:\n",
    "    * Exemplu: oras si cod postal precizate, dar codul postal corespunde altui oras\n",
    "    * Exemplu: typos, marimi cu valori improprii (greutate negativa)\n",
    "    * Operare: detectarea valorilor gresite si corectarea folosind interventie umana\n",
    "    * E necesara utilizarea surselor de date redundante sau a cunostintelor specifice domeniului\n",
    "* Date duplicate:\n",
    "    * Duplicarea poate sa fie exacta sau aproape exacta\n",
    "    * Exemplu: aceeasi persoana cu adrese de email diferite\n",
    "    * Procesul de curatare = deduplicare"
   ]
  },
  {
   "cell_type": "markdown",
   "id": "swiss-response",
   "metadata": {},
   "source": [
    "### Calitatea datelor din perspectiva aplicatiilor\n",
    "* Din perspectiva aplicatiilor, “datele au calitate buna daca sunt potrivite pentru utilizarea intentionata”\n",
    "* Caracterul oportun al datelor — daca datele sunt perimate, atunci modele si pattern–urile obtinute sunt depasite\n",
    "* Relevanta — in cazul in care se vrea crearea de modele pentru accidente rutiere, omiterea genului si vârstei coducatorilor duce modele cu acuratete mica; alta situatie este data de esantionarea neadecvata\n",
    "* Cunostintele apriori despre date — de exemplu, faptul ca anumite atribute sunt puternic corelate sau construite unele pe baza altora poate fi utilizata pentru reducerea redundantei si a dimensionalitatii; cunoasterea preciziei datelor, a caracterului lor oportun sau a scalei de masura e de cele mai mult ori esentiala."
   ]
  },
  {
   "cell_type": "markdown",
   "id": "hidden-lincoln",
   "metadata": {},
   "source": [
    "## Preprocesarea datelor\n",
    "* Strategii si tehnici complexe, ce pot cere pâna la 60% din timpul total al procesului de extragere de cunostinte\n",
    "* Doua variante:\n",
    "    1. selectara obiectelor-data si a atributelor\n",
    "    1. crearea/schimbarea de atribute\n",
    "* Variante de preprocesare:\n",
    "    * agregare\n",
    "    * esantionare\n",
    "    * reducerea dimensionalitatii\n",
    "    * selectarea unui subset de atribute\n",
    "    * crearea de atribute\n",
    "    * discretizare si binarizare\n",
    "    * transformarea variabilelor"
   ]
  },
  {
   "cell_type": "markdown",
   "id": "supreme-wrestling",
   "metadata": {},
   "source": [
    "### Agregare\n",
    "\n",
    "* Scop: combinarea a doua sau mai multe atribute (sau obiecte) într–un singur atribut (sau obiect)\n",
    "* Utilitate:\n",
    "    * reducerea cantitatii de date\n",
    "    * schimbarea scalei: orasele sunt agregate în regiuni, state, continente\n",
    "    * date mai stabile: datele agregate au tendinta de a avea variabilitate mai mica\n",
    "    \n",
    " <img src=\"./images/agregare1.png\" alt=\"drawing\" width=\"400px\"/>\n",
    " <img src=\"./images/agregare2.png\" alt=\"drawing\" width=\"400px\"/>"
   ]
  },
  {
   "cell_type": "markdown",
   "id": "exposed-spokesman",
   "metadata": {},
   "source": [
    "### Esantionare\n",
    "* principala tehnica folosita pentru selectarea datelor\n",
    "* în statistica, a fost folosita atât pentru investigatii preliminare cât si pentru analiza finala a datelor\n",
    "* este folosita pentru ca obtinerea întregului set de date este imposibila sau costisitoare\n",
    "* în DS esantionarea este folosita pentru ca procesarea întregului set de date este consumatoare de timp\n",
    "* un esantion este reprezentativ daca are aproximativ aceleasi proprietati de interes ca si setul originar\n",
    "* utilizarea unui esantion reprezentativ e aproape la fel de exacta ca folosirea întregului set de date\n",
    "* tipuri de esantionare:\n",
    "    * esantionare aleatoare uniforma: avem o probabilitate egala de alegere a unui obiect anume\n",
    "    * esantionare fara înlocuire: daca un obiect este selectat, atunci el este scos din populatie\n",
    "    * esantionare cu înlocuire: obiectele nu sunt scoase din populatie atunci când sunt selectate; un acelasi obiect poate fi selectat mai multe ori\n",
    "    * esantionarea stratificata: se divid datele în partitii (ex: femei/barbati); din fiecare partitie se extrage apoi esantion, a.i. proportia din straturi sa fie aceeasi cu proportia din multimea initiala.\n",
    "    \n",
    "<table>\n",
    "  <tr>\n",
    "      <td> <img src=\"./images/sampling1.png\" alt=\"drawing\" width=\"400px\"/> Esantion de 8000 de puncte</td>\n",
    "      <td> <img src=\"./images/sampling2.png\" alt=\"drawing\" width=\"400px\"/>  Esantion de 2000 de puncte</td>\n",
    "      <td> <img src=\"./images/sampling3.png\" alt=\"drawing\" width=\"400px\"/>  Esantion de 500 de puncte</td>\n",
    "  </tr>\n",
    "</table>  "
   ]
  },
  {
   "cell_type": "markdown",
   "id": "aerial-speaker",
   "metadata": {},
   "source": [
    "* Determinarea marimii esantionului\n",
    "    * problema: avem un set de date care consta dintr-un numar mic de     grupuri, în fiecare grup e aproximativ acelasi numar de obiecte\n",
    "    * trebuie extras un esantion astfel încât din fiecare grup sa fie cel putin     un element selectat\n",
    "    * “garantarea” se exprima probabilist: care e numarul de date din esantion astfel încât probabilitatea ca sa fie adevarata proprietatea de la punctul anterior sa depaseasca un anumit prag?\n",
    "<table>\n",
    "  <tr>\n",
    "      <td> <img src=\"./images/samplingsize1.png\" alt=\"drawing\" width=\"400px\"/> 10 grupuri de puncte</td>\n",
    "      <td> <img src=\"./images/samplingsize2.png\" alt=\"drawing\" width=\"400px\"/>  Probabilitatea de regasire a macar unui punct\n",
    "din fiecare grup, în functie de marimea esantionului</td>\n",
    "  </tr>\n",
    "</table>  "
   ]
  },
  {
   "cell_type": "markdown",
   "id": "classical-lincoln",
   "metadata": {},
   "source": [
    "### Reducerea dimensionalitatii\n",
    "* seturile de date pot avea un numar mare de atribute\n",
    "apare fenomenul de “blestem al dimensionalitatii”: datele sunt rare în spatiu multidimenional\n",
    "* valorile pentru densitate de probabilitate si distante dintre puncte – critice pentru clustering si detectarea de anomalii — devin nerelevante\n",
    "* solutie: reducerea dimensionalitatii fara a pierde prea mult din informatie\n",
    "* beneficii: algoritmii de DS lucreaza mai eficient pe dimensiuni mai putine; modelele rezultate sunt mai simple, inteligibile\n",
    "* Scop:\n",
    "    * evitarea blestemului dimensionalitatii\n",
    "    * reducerea timpului de rulare necesar algoritmilor de DS\n",
    "    * datele devin mai usor de vizualizat\n",
    "    * poate ajuta la eliminarea trasaturilor irelevante sau reducerea zgomotului\n",
    "* Tehnici folosite:\n",
    "    * analiza componentelor principale (Principal Component Analysis)\n",
    "    * descompunerea valorilor principale (Singular Value Decomposition)\n",
    "    * alte metode: supervizate si transformari neliniare"
   ]
  },
  {
   "cell_type": "markdown",
   "id": "portuguese-folks",
   "metadata": {},
   "source": [
    "### Selectarea subsetului de atribute (feature selection)\n",
    "* motivatie: de multe ori, în seturile de date pot exista atribute redundante (e.g. pret si pret cu taxe incluse) sau irelevante (e.g. id-uri)\n",
    "* unele din aceste atribute pot fi eliminate prin “bun simt” sau prin cunoastere apriori a (datelor) problemei\n",
    "* varianta ideala de lucru: se încearca toate combinatiile de trasaturi; numarul de încercari ar fi deci: $C_n^1 + C_n^2 + \\dots + C_n^n=2^n-1$ deci prohibitiv prin brute force\n",
    "* variante:\n",
    "    1. metode încorporate — algoritmul de DS însusi decide ce atribute sa se foloseasca: e.g. arborii de decizie\n",
    "    1. metode de filtrare — atributele sunt selectate înainte de a se aplica algoritmul: e.g. selectarea atributelor pentru care corelatia este minima sau PCA\n",
    "    1. metode bazate pe încercare — se foloseste un algoritm oarecare de DS si se încearca diferite subseturi de trasaturi – dar nu brute force;\n",
    "    \n",
    "* Pentru selectarea subsetului de trasaturi e nevoie de:\n",
    "    * o masura pentru evaluarea unui subset de atribute\n",
    "    * o metoda de cautare pentru generarea unui nou subset de atribute\n",
    "    * un criteriu de oprire\n",
    "    * o procedura de validare\n",
    "* Alternativa pentru selectarea de atribute: ponderarea atributelor\n",
    "    * atribute importante -> ponderi mari; atribute nerelevante -> ponderi     mici\n",
    "    * ponderile se pot asocia pe baza cunostintelor asupra domeniului sau     prin metode automate\n",
    "    * utilizare de ponderi: daca pentru dimensiunea (atributul) de indice $i$ avem calculata ponderea $p_i \\ge 0$, putem de eemplu sa folosim o distanta de tip Euclidian ponderata:\n",
    "    $$\n",
    "    d_E(x, y; p) = \\sqrt{p_1 \\cdot (x_1-y_1) + p_2 \\cdot (x_2 - y_2) + \\dots + p_n \\cdot (x_n - y_n) }\n",
    "    $$\n",
    "    Comparati aceasta formula cu distanta Euclidiana standard:\n",
    "    $$\n",
    "    d_E(x, y) = \\sqrt{(x_1-y_1) + (x_2 - y_2) + \\dots + (x_n - y_n) }\n",
    "    $$"
   ]
  },
  {
   "cell_type": "markdown",
   "id": "northern-algebra",
   "metadata": {},
   "source": [
    "### Crearea de trasaturi (feature extraction)\n",
    "* Scop: crearea de noi atribute pe baza celor existente (e.g. raportul dintre venituri si cheltuieli, dintre masa corporala si patratul înaltimii = BMI)\n",
    "* Noile atribute pot releva mai eficient informatia ascunsa în date\n",
    "* Numarul atributelor noi obtinute poate fi mai mic decât la plecare\n",
    "* Metode:\n",
    "    * Extragere de trasaturi\n",
    "    * Transformarea datelor, utilizarea unui alt spatiu\n",
    "    * Construirea de trasaturi\n",
    "    \n",
    "* Exemplu: extragerea de trasaturi \n",
    "    * crearea unui nou set de atribute pe baza celor existente\n",
    "    * exemplu: fotografie -> detectarea muchiilor\n",
    "    * metodele sunt strâns legate de domeniu — algoritmi de procesare     grafica, utilizarea unor variabile economice derivate etc.\n",
    "<table>\n",
    "  <tr>\n",
    "      <td> <img src=\"./images/lena_1.jpg\" alt=\"drawing\" width=\"400px\"/> Imagine initiala</td>\n",
    "      <td> <img src=\"./images/lena_2.png\" alt=\"drawing\" width=\"400px\"/> Imagine dupa \"edge detection\"</td>\n",
    "  </tr>\n",
    "</table> \n",
    "\n",
    "* Exemplu: transformarea datelor\n",
    "    * trecerea de la coordonatele carteziene la cele polare\n",
    "<img src=\"./images/polar1.png\" alt=\"drawing\" width=\"600px\"/>\n",
    "    * transformata Fourier\n",
    " <table>\n",
    "  <tr>\n",
    "      <td> <img src=\"./images/fourier1.png\" alt=\"drawing\" width=\"400px\"/> Doua functii sinusoidale de frecvente diferite</td>\n",
    "      <td> <img src=\"./images/fourier2.png\" alt=\"drawing\" width=\"400px\"/> Doua functii sinusoidale plus zgomot</td>\n",
    "      <td> <img src=\"./images/fourier3.png\" alt=\"drawing\" width=\"400px\"/> Spectrul de putere, obtinut dupa aplicarea transformatei Fourier\"</td>\n",
    "  </tr>\n",
    "</table> \n",
    "    * construirea de noi atribute\n",
    "        * uneori, atributele originare pot sa aiba informatia necesara dar formatul acestor date este neadecvat pentru algoritmul de DS\n",
    "        * exemplu: pentru retele neurale intrarea este numerica, dar datele curente au si valori nominale\n",
    "        * exemplu de trasatura derivata: densitatea = masa / volumul \n",
    "        * crearea de noi trasaturi necesita cunoasterea domeniului problemei"
   ]
  },
  {
   "cell_type": "markdown",
   "id": "cloudy-floating",
   "metadata": {},
   "source": [
    "### Discretizare si binarizare\n",
    "* unii algoritmi cer ca datele sa fie în forma de atribute categoriale\n",
    "* algoritmii de determinare a asocierilor cer date binare\n",
    "* apare nevoia de a transforma atribute continue în atribute discrete (discretizare) sau chiar binare (binarizare)\n",
    "* Discutie pentru binarizare:\n",
    "    * $m$ valori -> fiecare valoare initiala se transforma într–un numar întreg din intervalul $[0,m − 1]$ si apoi se foloseste transcrierea în baza 2\n",
    "    * daca atributele sunt ordinale, atunci trebuie pastrata ordinea prin transformare\n",
    "    * exemplu: {slab, mediu, bun} -> $\\{(x_1 = 0, x_2 = 0), (x_1 = 0, x_2 = 1), (x_1 = 1, x_2 = 0)\\}$\n",
    "    * $\\lceil \\log_2 m \\rceil$ biti folositi\n",
    "    * one hot encoding: pentru m clase se folosesc m biti; fiecare bit     arata prezenta sau absenta unei trasaturi\n",
    "    exemplu: {slab, mediu, bun} -> $(x_1 = 0, x_2 = 0, x_3 = 1), (x_1 = 0, x_2 = 1, x_3 = 0), (x_1 = 1, x_2 = 0, x_3 = 0)$\n",
    "* Discretizare a atributelor continue\n",
    "    * procesul de discretizare este dependent de date si de tipul problemei\n",
    "    * pasi:\n",
    "        * se decide numarul de categorii ce se produc;\n",
    "        * se decide modul de asociere între valorile continue si cele discrete\n",
    "        * exemplu: se sorteaza datele, se efectueaza n − 1 taieturi în interval si pentru fiecare subinterval se asigneaza o eticheta\n",
    "* Discretizare nesupervizata\n",
    "    * intervalele pot fi de latime egala sau considerate astfel încât sa\n",
    "    * prezinte frecvente egale\n",
    "    * metode de clustering, e.g. K-means\n",
    "    * inspectare vizuala a datelor\n",
    " <table>\n",
    "  <tr>\n",
    "      <td> <img src=\"./images/discretizare1.png\" alt=\"drawing\" width=\"400px\"/> Datele originare</td>\n",
    "      <td> <img src=\"./images/discretizare2.png\" alt=\"drawing\" width=\"400px\"/> Discretizare cu latime egala</td>\n",
    "  </tr>\n",
    "  <tr>\n",
    "      <td> <img src=\"./images/discretizare3.png\" alt=\"drawing\" width=\"400px\"/> Discretizare cu frecventa egala</td>\n",
    "      <td> <img src=\"./images/discretizare4.png\" alt=\"drawing\" width=\"400px\"/> Discretizare cu K–means</td>\n",
    "  </tr>\n",
    "</table> \n",
    "* Discretizare supervizata\n",
    "    * utilizarea de informatie suplimentara – etichetele de clasa – poate duce la o discretizare mai buna\n",
    "    * conceptual: discretizarea sa se faca astfel încât sa se maximizeze “puritatea” intervalelor\n",
    "    * metode statistice: intervale mai mici se unesc astfel încât sa nu se depaseasca un prag de puritate\n",
    "* Atribute categoriale cu prea multe atribute\n",
    "    * exemplu: o multitudine de departamente\n",
    "    * se pot unifica pe domenii: inginerie, stiinte sociale, biologie\n",
    "    * altfel: gruparea poate fi facuta în conjunctie cu un algoritm de ML în care se urmareste îmbunatatirea rezultatului de clasificare"
   ]
  },
  {
   "cell_type": "markdown",
   "id": "severe-stress",
   "metadata": {},
   "source": [
    "### Transformarea de variabile\n",
    "* transformare care se aplica la toate valorile unei variabile\n",
    "* exemplu: daca doar amplitudinea unei valori este importanta, atunci se poate considera valoarea absoluta a variabilei\n",
    "* functii folosite: $\\exp(x)$, $\\log(x)$, $\\sqrt{x}$, $1/x$, functia putere\n",
    "* functii complexe: normalizare\n",
    "* pentru datele care prezinta domeniu mare de valori: scara logaritmica $x \\to \\frac{1}{x}$ poate fi mai adecvata\n",
    "    * exemplu: transferuri de date de 109, 108, 1000, 10 octeti; prin transformare magnitudinea nu mai e importanta, se ajunge la valori pe scala mai ingusta: 9, 8, 3, 1.\n",
    "* aplicarea trebuie facuta în cunostinta de cauza: transformarea $x \\to \\frac{1}{x}$ e o functie de monotonie descrescatoare;"
   ]
  },
  {
   "cell_type": "markdown",
   "id": "imperial-platform",
   "metadata": {},
   "source": [
    "### Exemplu de transformare: standardizarea\n",
    "* în statistica: daca $\\overline{x}$ este media unui atribut si $s_x$ e abaterea standard a valorilor atributului:\n",
    "$$\n",
    "s_x = \\sqrt{E[(x - \\overline{x})]^2}\n",
    "$$\n",
    "atunci transformarea $x \\to \\frac{x-\\overline{x}}{s_x}$ creeaza o noua variabila cu media zero si abaterea 1; operatia se numeste standardizare.\n",
    "* exemplu: persoane cu variabilele: venitul anual si înaltimea; diferentele între înaltimi sunt mici comparativ cu diferentele între venituri; diferentele între venituri ar domina distanta între doi oameni, daca s–ar calcula direct pe baza valorilor; standardizarea reduce asemenea diferente de magnitudine\n",
    "* problema: abaterea patratica medie e influentata prea usor de date extreme, outliers; uneori se considera abaterea absoluta medie $$\\sum\\limits_{i=1}^m \\frac{|x_i - \\mu|}{m}$$ unde $\\mu$ e media sau mediana"
   ]
  },
  {
   "cell_type": "markdown",
   "id": "coordinate-demonstration",
   "metadata": {},
   "source": [
    "## Explorarea datelor: statistici de sumarizare pentru date univariate"
   ]
  },
  {
   "cell_type": "markdown",
   "id": "renewable-recipient",
   "metadata": {},
   "source": [
    "### Explorarea datelor\n",
    "\n",
    "* Explorarea datelor reprezintă investigarea preliminară a datelor, cu scopul de a obţine o înţelegere a caracteristicilor lor\n",
    "* Pasul de explorare poate fi de folos în alegerea paşilor de preprocesare sau analiză\n",
    "* Se poate folosi abilitatea naturală a oamenilor de a recunoaşte pattern-uri\n",
    "* Domeniul a fost introdus de către statisticianul John Tukey: Exploratory Data Analysis, Addison-Wesley\n",
    "* AED este domeniu opus lui “Confirmatory Data Analysis”, care are ca scop testarea ipotezelor statistice, calculul intervalelor de încredere etc.\n",
    "* Curs de AED: [aici](https://www.coursera.org/learn/data-analysis-with-python?specialization=ibm-data-science&utm_source=gg&utm_medium=sem&campaignid=2087860785&utm_campaign=10-IBM-Data-Science-ROW&utm_content=10-IBM-Data-Science-ROW&adgroupid=116274867101&device=c&keyword=&matchtype=b&network=g&devicemodel=&adpostion=&creativeid=506892807488&hide_mobile_promo&gclid=Cj0KCQjw3duCBhCAARIsAJeFyPXK3OK8IjOz8JJKRl_TJckzX-yWJrboZGvrVzGL9QL0-8PazMsYrrQaAnG4EALw_wcB)"
   ]
  },
  {
   "cell_type": "markdown",
   "id": "resident-peeing",
   "metadata": {},
   "source": [
    "* În AED, aşa cum este definit de Tukey:\n",
    "    * Focus-ul este pe vizualizare\n",
    "    * Gruparea (clustering) şi detectarea de anomalii sunt văzute ca tehnici exploratorii\n",
    "    * Acestea două sunt subdomenii aparte ale DS, dincolo de analiză exploratorie"
   ]
  },
  {
   "cell_type": "markdown",
   "id": "accompanied-slovak",
   "metadata": {},
   "source": [
    "### Setul de date Iris\n",
    "\n",
    "* Constă în date măsurate pentru 150 de flori de iris, din 3 specii (Iris Setosa, Iris Versicolour, Iris Virginica, câte 50 de exemplare pe specie)\n",
    "* Măsurătorile sunt pentru lungimea/lăţimea petalelor/sepalelor în centimetri (4 coloane)\n",
    "* A cincea coloană este specia florii – atribut nominal\n",
    "* Datele se pot descărca [de aici](http://archive.ics.uci.edu/ml/datasets/Iris)"
   ]
  },
  {
   "cell_type": "code",
   "execution_count": 3,
   "id": "answering-newfoundland",
   "metadata": {
    "ExecuteTime": {
     "end_time": "2021-03-22T06:34:34.821746Z",
     "start_time": "2021-03-22T06:34:34.375052Z"
    }
   },
   "outputs": [
    {
     "data": {
      "text/html": [
       "<div>\n",
       "<style scoped>\n",
       "    .dataframe tbody tr th:only-of-type {\n",
       "        vertical-align: middle;\n",
       "    }\n",
       "\n",
       "    .dataframe tbody tr th {\n",
       "        vertical-align: top;\n",
       "    }\n",
       "\n",
       "    .dataframe thead th {\n",
       "        text-align: right;\n",
       "    }\n",
       "</style>\n",
       "<table border=\"1\" class=\"dataframe\">\n",
       "  <thead>\n",
       "    <tr style=\"text-align: right;\">\n",
       "      <th></th>\n",
       "      <th>sepal_length</th>\n",
       "      <th>sepal_width</th>\n",
       "      <th>petal_length</th>\n",
       "      <th>petal_width</th>\n",
       "      <th>class</th>\n",
       "    </tr>\n",
       "  </thead>\n",
       "  <tbody>\n",
       "    <tr>\n",
       "      <th>count</th>\n",
       "      <td>150.000000</td>\n",
       "      <td>150.000000</td>\n",
       "      <td>150.000000</td>\n",
       "      <td>150.000000</td>\n",
       "      <td>150</td>\n",
       "    </tr>\n",
       "    <tr>\n",
       "      <th>unique</th>\n",
       "      <td>NaN</td>\n",
       "      <td>NaN</td>\n",
       "      <td>NaN</td>\n",
       "      <td>NaN</td>\n",
       "      <td>3</td>\n",
       "    </tr>\n",
       "    <tr>\n",
       "      <th>top</th>\n",
       "      <td>NaN</td>\n",
       "      <td>NaN</td>\n",
       "      <td>NaN</td>\n",
       "      <td>NaN</td>\n",
       "      <td>Iris-versicolor</td>\n",
       "    </tr>\n",
       "    <tr>\n",
       "      <th>freq</th>\n",
       "      <td>NaN</td>\n",
       "      <td>NaN</td>\n",
       "      <td>NaN</td>\n",
       "      <td>NaN</td>\n",
       "      <td>50</td>\n",
       "    </tr>\n",
       "    <tr>\n",
       "      <th>mean</th>\n",
       "      <td>5.843333</td>\n",
       "      <td>3.054000</td>\n",
       "      <td>3.758667</td>\n",
       "      <td>1.198667</td>\n",
       "      <td>NaN</td>\n",
       "    </tr>\n",
       "    <tr>\n",
       "      <th>std</th>\n",
       "      <td>0.828066</td>\n",
       "      <td>0.433594</td>\n",
       "      <td>1.764420</td>\n",
       "      <td>0.763161</td>\n",
       "      <td>NaN</td>\n",
       "    </tr>\n",
       "    <tr>\n",
       "      <th>min</th>\n",
       "      <td>4.300000</td>\n",
       "      <td>2.000000</td>\n",
       "      <td>1.000000</td>\n",
       "      <td>0.100000</td>\n",
       "      <td>NaN</td>\n",
       "    </tr>\n",
       "    <tr>\n",
       "      <th>25%</th>\n",
       "      <td>5.100000</td>\n",
       "      <td>2.800000</td>\n",
       "      <td>1.600000</td>\n",
       "      <td>0.300000</td>\n",
       "      <td>NaN</td>\n",
       "    </tr>\n",
       "    <tr>\n",
       "      <th>50%</th>\n",
       "      <td>5.800000</td>\n",
       "      <td>3.000000</td>\n",
       "      <td>4.350000</td>\n",
       "      <td>1.300000</td>\n",
       "      <td>NaN</td>\n",
       "    </tr>\n",
       "    <tr>\n",
       "      <th>75%</th>\n",
       "      <td>6.400000</td>\n",
       "      <td>3.300000</td>\n",
       "      <td>5.100000</td>\n",
       "      <td>1.800000</td>\n",
       "      <td>NaN</td>\n",
       "    </tr>\n",
       "    <tr>\n",
       "      <th>max</th>\n",
       "      <td>7.900000</td>\n",
       "      <td>4.400000</td>\n",
       "      <td>6.900000</td>\n",
       "      <td>2.500000</td>\n",
       "      <td>NaN</td>\n",
       "    </tr>\n",
       "  </tbody>\n",
       "</table>\n",
       "</div>"
      ],
      "text/plain": [
       "        sepal_length  sepal_width  petal_length  petal_width            class\n",
       "count     150.000000   150.000000    150.000000   150.000000              150\n",
       "unique           NaN          NaN           NaN          NaN                3\n",
       "top              NaN          NaN           NaN          NaN  Iris-versicolor\n",
       "freq             NaN          NaN           NaN          NaN               50\n",
       "mean        5.843333     3.054000      3.758667     1.198667              NaN\n",
       "std         0.828066     0.433594      1.764420     0.763161              NaN\n",
       "min         4.300000     2.000000      1.000000     0.100000              NaN\n",
       "25%         5.100000     2.800000      1.600000     0.300000              NaN\n",
       "50%         5.800000     3.000000      4.350000     1.300000              NaN\n",
       "75%         6.400000     3.300000      5.100000     1.800000              NaN\n",
       "max         7.900000     4.400000      6.900000     2.500000              NaN"
      ]
     },
     "execution_count": 3,
     "metadata": {},
     "output_type": "execute_result"
    }
   ],
   "source": [
    "iris_url = 'http://archive.ics.uci.edu/ml/machine-learning-databases/iris/iris.data'\n",
    "iris_columns = ['sepal_length', 'sepal_width', 'petal_length', 'petal_width', 'class']\n",
    "data = pd.read_csv(iris_url, header = None)\n",
    "data.columns = iris_columns\n",
    "data.describe(include='all')"
   ]
  },
  {
   "cell_type": "markdown",
   "id": "victorian-rolling",
   "metadata": {},
   "source": [
    "![Iris](https://miro.medium.com/max/1000/1*Hh53mOF4Xy4eORjLilKOwA.png)\n",
    "Sursa: morioh.com"
   ]
  },
  {
   "cell_type": "markdown",
   "id": "conditional-jersey",
   "metadata": {},
   "source": [
    "### Statistici de sumarizare"
   ]
  },
  {
   "cell_type": "markdown",
   "id": "sufficient-dutch",
   "metadata": {},
   "source": [
    "* Statisticile de sumarizare sunt numere care schiţează caracteristicile unui set de valori\n",
    "* Reprezintă manifestarea cea mai vizibilă a statisticii\n",
    "* Exemple: frecvenţa, media, dispersia"
   ]
  },
  {
   "cell_type": "markdown",
   "id": "greek-imagination",
   "metadata": {},
   "source": [
    "#### Frecvenţa şi valoarea modală"
   ]
  },
  {
   "cell_type": "markdown",
   "id": "applied-young",
   "metadata": {},
   "source": [
    "Pentru un set de m date categoriale cu valorile $\\{v_1, . . . , v_i , . . . , v_k\\}$ frecvenţa relativa a unei valori $v_i$ este:\n",
    "$$\n",
    "frecventa(v_i) = \\frac\n",
    "{\\text{numarul de obiecte cu valoarea } v_i}\n",
    "{m}\n",
    "$$\n",
    "iar frecventa absoluta este numaratorul fractiei de mai sus."
   ]
  },
  {
   "cell_type": "code",
   "execution_count": 4,
   "id": "every-depression",
   "metadata": {
    "ExecuteTime": {
     "end_time": "2021-03-22T06:34:34.828690Z",
     "start_time": "2021-03-22T06:34:34.823704Z"
    }
   },
   "outputs": [],
   "source": [
    "from collections import Counter\n",
    "freq_iris = Counter(data['class'])\n",
    "rel_freq_iris = {iris_type:freq / len(data) for iris_type, freq in freq_iris.items()}"
   ]
  },
  {
   "cell_type": "code",
   "execution_count": 5,
   "id": "massive-makeup",
   "metadata": {
    "ExecuteTime": {
     "end_time": "2021-03-22T06:34:34.839660Z",
     "start_time": "2021-03-22T06:34:34.830693Z"
    }
   },
   "outputs": [
    {
     "name": "stdout",
     "output_type": "stream",
     "text": [
      "Frequency: Counter({'Iris-setosa': 50, 'Iris-versicolor': 50, 'Iris-virginica': 50})\n",
      "Relative Frequency: {'Iris-setosa': 0.3333333333333333, 'Iris-versicolor': 0.3333333333333333, 'Iris-virginica': 0.3333333333333333}\n"
     ]
    }
   ],
   "source": [
    "print(f'Frequency: {freq_iris}')\n",
    "print(f'Relative Frequency: {rel_freq_iris}')"
   ]
  },
  {
   "cell_type": "markdown",
   "id": "allied-sullivan",
   "metadata": {},
   "source": [
    "* Valoarea modală (sau moda) este valoarea cu cea mai mare frecvenţă:\n",
    "$$\n",
    "moda = \\arg\\max\\limits_{v_i} frecventa(v_i)\n",
    "$$\n",
    "* Atenţie la situaţia când o anume valoare este folosită pentru a semnifica lipsa datelor: null-ul poate apărea ca modă\n",
    "* Pot exista seturi de date pentru care frecvenţa maximă să fie atinsă pentru mai multe valori = seturi multimodale\n",
    "* Pentru valori continue, conceptele de modă/frecvenţă nu sunt utile, cu excepţia cazului când se aplică un pas de discretizare"
   ]
  },
  {
   "cell_type": "markdown",
   "id": "challenging-isaac",
   "metadata": {},
   "source": [
    "#### Percentile\n",
    "\n",
    "* Pentru cazul valorilor ordonate se pot considera percentilele \n",
    "* Pentru un atribut continuu sau ordinal $x$ şi un număr $p$ întreg între 0 şi 100, a $p$-a percentilă $x_p$ este o valoare din şirul de valori ale lui $x$ astfel încât $p%$ din aceste valori sunt mai mici decât $x_p$\n",
    "* Nu există o definiţie standardizată pentru percentile, cea de mai sus este luată pentru fixare\n",
    "* Pentru cazul în care se calculează percentile pentru set mare de date, diferenţele datorate diferitelor moduri de definire devin neesenţiale\n",
    "* Tradiţional se consideră $x_{0\\%} = \\min(x)$ iar din definiţie se poate arăta că $x_{100\\%} = \\max(x)$\n",
    "* Mod de calcul pentru determinarea celei de a $p$-a percentile: pentru un set de $m$ date se calculează valoarea întreagă $k$ cea mai apropiată de $\\frac{m}{100} \\cdot p + \\frac{1}{2}$ si se ia valoarea corespunzătoare acestui rang $k$ în şirul $x$\n",
    "sortat\n",
    "* Functie utilizabila: [numpy.percentile](https://numpy.org/doc/stable/reference/generated/numpy.percentile.html) sau functia pandas [pandas.Dataframe.quantile](https://pandas.pydata.org/docs/reference/api/pandas.DataFrame.quantile.html)"
   ]
  },
  {
   "cell_type": "code",
   "execution_count": 6,
   "id": "collective-imaging",
   "metadata": {
    "ExecuteTime": {
     "end_time": "2021-03-22T06:34:34.845647Z",
     "start_time": "2021-03-22T06:34:34.841661Z"
    },
    "scrolled": true
   },
   "outputs": [],
   "source": [
    "# help(np.percentile)"
   ]
  },
  {
   "cell_type": "code",
   "execution_count": 7,
   "id": "continued-accordance",
   "metadata": {
    "ExecuteTime": {
     "end_time": "2021-03-22T06:34:34.857613Z",
     "start_time": "2021-03-22T06:34:34.848637Z"
    }
   },
   "outputs": [
    {
     "name": "stdout",
     "output_type": "stream",
     "text": [
      "Cate valori sunt strict mai mici decat a 25-a percentila: 32\n",
      "Cate valori sunt strict mai mici sau egale decat a 25-a percentila: 41\n",
      "lista valorilor sortate: [4.3, 4.4, 4.4, 4.4, 4.5, 4.6, 4.6, 4.6, 4.6, 4.7, 4.7, 4.8, 4.8, 4.8, 4.8, 4.8, 4.9, 4.9, 4.9, 4.9, 4.9, 4.9, 5.0, 5.0, 5.0, 5.0, 5.0, 5.0, 5.0, 5.0, 5.0, 5.0, 5.1, 5.1, 5.1, 5.1, 5.1, 5.1, 5.1, 5.1, 5.1, 5.2, 5.2, 5.2, 5.2, 5.3, 5.4, 5.4, 5.4, 5.4, 5.4, 5.4, 5.5, 5.5, 5.5, 5.5, 5.5, 5.5, 5.5, 5.6, 5.6, 5.6, 5.6, 5.6, 5.6, 5.7, 5.7, 5.7, 5.7, 5.7, 5.7, 5.7, 5.7, 5.8, 5.8, 5.8, 5.8, 5.8, 5.8, 5.8, 5.9, 5.9, 5.9, 6.0, 6.0, 6.0, 6.0, 6.0, 6.0, 6.1, 6.1, 6.1, 6.1, 6.1, 6.1, 6.2, 6.2, 6.2, 6.2, 6.3, 6.3, 6.3, 6.3, 6.3, 6.3, 6.3, 6.3, 6.3, 6.4, 6.4, 6.4, 6.4, 6.4, 6.4, 6.4, 6.5, 6.5, 6.5, 6.5, 6.5, 6.6, 6.6, 6.7, 6.7, 6.7, 6.7, 6.7, 6.7, 6.7, 6.7, 6.8, 6.8, 6.8, 6.9, 6.9, 6.9, 6.9, 7.0, 7.1, 7.2, 7.2, 7.2, 7.3, 7.4, 7.6, 7.7, 7.7, 7.7, 7.7, 7.9]\n"
     ]
    }
   ],
   "source": [
    "_25th_percentile_sepal_length = np.percentile(data.sepal_length, 25)\n",
    "\n",
    "print(f'Cate valori sunt strict mai mici decat a 25-a percentila: {np.sum(data.sepal_length < _25th_percentile_sepal_length)}')\n",
    "print(f'Cate valori sunt strict mai mici sau egale decat a 25-a percentila: {np.sum(data.sepal_length <= _25th_percentile_sepal_length)}')\n",
    "print(f'lista valorilor sortate: {list(data.sepal_length.sort_values())}')\n",
    "\n",
    "# se poate intelege pentru aceste date de ce definitia exacta a percentilelor nu este indeplinita: sunt multe valori = 5.1 "
   ]
  },
  {
   "cell_type": "code",
   "execution_count": 8,
   "id": "rational-portfolio",
   "metadata": {
    "ExecuteTime": {
     "end_time": "2021-03-22T06:34:34.867587Z",
     "start_time": "2021-03-22T06:34:34.860610Z"
    }
   },
   "outputs": [
    {
     "data": {
      "text/plain": [
       "5.1"
      ]
     },
     "execution_count": 8,
     "metadata": {},
     "output_type": "execute_result"
    }
   ],
   "source": [
    "data['sepal_length'].quantile(q=0.25)"
   ]
  },
  {
   "cell_type": "markdown",
   "id": "contrary-hours",
   "metadata": {},
   "source": [
    "#### Media si mediana\n",
    "\n",
    "* Pentru un set de valori ${x_1, x_2, . . . , x_m}$ valoarea medie este:\n",
    "$$\n",
    "\\overline{x} = E(x) = mean(x) = \\frac{1}{m} \\sum\\limits_{i=1}^m x_i\n",
    "$$\n",
    "* Mediana este a 50-a percentila. O varianta bruta este sortarea valorilor in ordine crescatoare, obtinandu-se permutarea (reordonarea) $\\{x_{(1)}, x_{(2)}, \\dots, x_{(m)}\\}$; mediana este:\n",
    "$$\n",
    "mediana(x) = \\begin{cases}\n",
    "x_{r+1} & \\text{daca }m=2r+1\n",
    "\\\\\n",
    "\\frac{x_{(r)} + x_{(r+1)}}{2} & \\text{daca }m=2r\n",
    "\\end{cases}\n",
    "$$\n",
    "O varianta mai rafinata (si care se poate aplica si la calculul de percentile) este utilizarea de statistici de ordine (complexitate liniara in loc de $O(n\\log n)$).\n",
    "\n",
    "Obtinere: [numpy.median](https://numpy.org/doc/stable/reference/generated/numpy.median.html) sau [pandas.DataFrame.median](https://pandas.pydata.org/pandas-docs/stable/reference/api/pandas.DataFrame.median.html)."
   ]
  },
  {
   "cell_type": "code",
   "execution_count": 9,
   "id": "valued-aircraft",
   "metadata": {
    "ExecuteTime": {
     "end_time": "2021-03-22T06:34:34.879554Z",
     "start_time": "2021-03-22T06:34:34.869581Z"
    }
   },
   "outputs": [
    {
     "data": {
      "text/plain": [
       "5.8"
      ]
     },
     "execution_count": 9,
     "metadata": {},
     "output_type": "execute_result"
    }
   ],
   "source": [
    "np.median(data.sepal_length.values)"
   ]
  },
  {
   "cell_type": "code",
   "execution_count": 27,
   "id": "broke-nigeria",
   "metadata": {
    "ExecuteTime": {
     "end_time": "2021-03-22T06:37:10.932739Z",
     "start_time": "2021-03-22T06:37:10.922796Z"
    }
   },
   "outputs": [
    {
     "data": {
      "text/plain": [
       "sepal_length    5.80\n",
       "sepal_width     3.00\n",
       "petal_length    4.35\n",
       "petal_width     1.30\n",
       "dtype: float64"
      ]
     },
     "execution_count": 27,
     "metadata": {},
     "output_type": "execute_result"
    }
   ],
   "source": [
    "data.median()"
   ]
  },
  {
   "cell_type": "markdown",
   "id": "amended-flour",
   "metadata": {},
   "source": [
    "Diferente intre medie si mediana:\n",
    "* Media este valoare \"de mijloc\" doar dacă distribuţia datelor este simetrică: arata la fel in stanga si in dreapta unei valori - care e chiar \"mijlocul\"\n",
    "* Dacă distribuţia este asimetrică, atunci mediana este un indicator mai bun pentru valoare de mijloc\n",
    "* Media este influenţată de outliers, în timp ce mediana – nu\n",
    "* Medie retezată (eng: trimmed mean) se utilizează pentru a exlude anomaliile: se fixează un procent p între 0 şi 100; se elimină primele şi ultimele $(p/2)\\%$ din date; se calculează media pentru ceea ce rămâne\n",
    "* media standard se obţine din media retezată cu $p = 0$"
   ]
  },
  {
   "cell_type": "markdown",
   "id": "attractive-valley",
   "metadata": {},
   "source": [
    "Exemple:\n",
    "* Considerăm valorile {1, 2, 3, 4, 5, 90}. Media este 17.5, mediana este 3.5. Valoarea de trimmed mean pentru p = 40% este 3.5, considerabil diferită faţă de media setului întreg de date\n",
    "* Media, medianele şi valoarea de trimmed mean pentru iris sunt:\n",
    "<img src=\"./images/stats_iris.png\" alt=\"drawing\" width=\"600px\"/>\n",
    "* Exerciţiu: dacă valoarea medianei este mai mică decât media, ce puteţi spune despre date?"
   ]
  },
  {
   "cell_type": "markdown",
   "id": "ambient-assignment",
   "metadata": {},
   "source": [
    "#### Măsurari ale împrăştierii datelor\n",
    "\n",
    "* Sunt măsuri care cuantifică concentrarea datelor\n",
    "* Diametrul domeniului de valori (eng: range) al unui set de date $\\{x_1, x_2, . . . , x_m\\}$ corespunzător atributului x este\n",
    "$$\n",
    "range(x) = \\max(x) - \\min(x) = x_{(m)} - x_{(1)}\n",
    "$$\n",
    "* Range-ul este nerelevant, deoarece putem avea că majoritatea datelor sunt concentrate într–o zonă îngustă, dar câteva valori outlier măresc artificial diametrul setului\n",
    "* Varianţa (dispersia; eng: variance) unui set de date de $m$ valori este:\n",
    "$$\n",
    "varianta(x) = s_x^2 = \\frac{1}{m-1} \\sum\\limits_{i=1}^{m} (x_i - \\overline{x})^2\n",
    "$$\n",
    "* Utilizarea numitorului $m − 1$ în loc de $m$ este numită [corecţia Bessel](http://en.wikipedia.org/wiki/Bessel%27s_correction) şi are ca scop corectarea abaterii din estimarea varianţei de populaţie\n",
    "* Abaterea standard este $s_x = \\sqrt{s_x^2}$ şi are aceeaşi unitate de măsură ca şi atributul x\n",
    "* Python: [numpy.std](https://numpy.org/doc/stable/reference/generated/numpy.std.html)"
   ]
  },
  {
   "cell_type": "code",
   "execution_count": 10,
   "id": "retained-subscription",
   "metadata": {
    "ExecuteTime": {
     "end_time": "2021-03-22T06:34:34.887533Z",
     "start_time": "2021-03-22T06:34:34.881549Z"
    }
   },
   "outputs": [
    {
     "data": {
      "text/plain": [
       "(1.7585291834055201, 0.8253012917851409)"
      ]
     },
     "execution_count": 10,
     "metadata": {},
     "output_type": "execute_result"
    }
   ],
   "source": [
    "np.std(data.petal_length), np.std(data.sepal_length)"
   ]
  },
  {
   "cell_type": "markdown",
   "id": "norwegian-exchange",
   "metadata": {},
   "source": [
    "* Deoarece media poate să fie distorsionată de outliers, rezultă că dispersia poate fi şi ea influenţată\n",
    "* Se preferă considerarea altor trei măsuri:\n",
    "    * absolute average deviation, AAD:\n",
    "    $$\n",
    "    AAD(x) = \\frac{1}{m} \\sum\\limits_{i=1}^m |x_i - \\overline{x}|\n",
    "    $$\n",
    "    * median absolute deviation, MAD:\n",
    "    $$\n",
    "    MAD(x) = median(\\{|x_1-\\overline{x}|, \\dots, |x_m-\\overline{x}|\\})\n",
    "    $$\n",
    "    * interquartile range:\n",
    "    $$\n",
    "    IQR(x) = x_{75\\%} - x_{25\\%}\n",
    "    $$"
   ]
  },
  {
   "cell_type": "markdown",
   "id": "related-caribbean",
   "metadata": {},
   "source": [
    "Verificam ca prin standardizare de date, media devine 0 si valoarea 1:"
   ]
  },
  {
   "cell_type": "code",
   "execution_count": 11,
   "id": "hungarian-groove",
   "metadata": {
    "ExecuteTime": {
     "end_time": "2021-03-22T06:34:34.900500Z",
     "start_time": "2021-03-22T06:34:34.891522Z"
    }
   },
   "outputs": [],
   "source": [
    "med_petal_length = np.mean(data.petal_length)\n",
    "# centram datele: media lor devine 0\n",
    "centered_petal_length = data.petal_length - med_petal_length\n",
    "# assert 0 == np.mean(centered_petal_length) # fails, FP zmall values ~ 0\n",
    "assert np.allclose(0, np.mean(centered_petal_length))\n",
    "std_petal_length = np.std(data.petal_length)\n",
    "std_centered_petal_length = np.std(centered_petal_length)\n",
    "assert np.allclose(std_petal_length, std_centered_petal_length)\n",
    "standardized_petal_length = centered_petal_length/std_centered_petal_length\n",
    "# verificare: media 0...\n",
    "assert np.allclose(0, np.mean(standardized_petal_length))\n",
    "# si standard deviation ~ 1\n",
    "assert np.allclose(1, np.std(standardized_petal_length))"
   ]
  },
  {
   "cell_type": "markdown",
   "id": "angry-protein",
   "metadata": {},
   "source": [
    "### Statistici de sumarizare a datelor multivariate\n",
    "\n",
    "* Date multivariate: date cu mai multe atribute\n",
    "* Pentru atributul $x_i$ calculăm media $\\overline{x}_i$\n",
    "* Media setului de obiecte este $\\mathbf{x} = (\\overline{x}_1, . . . , \\overline{x}_n)$\n",
    "* Analog se poate calcula dispersia, mediana etc. pe fiecare dimensiune\n",
    "* Matricea de covarianţă: elementul $s_{ij}$ este covarianta de atributelor $x_i$ si $x_j$:\n",
    "$$\n",
    "s_{ij} = covarianta(x_i, x_j) = \\frac{1}{m-1}\\sum\\limits_{k=1}^m (x_{ki} - \\overline{x}_i)(x_{kj} - \\overline{x}_j)\n",
    "$$\n",
    "unde $x_{pq}$ este a $p$-a valoare a atributului $x_q$\n",
    "* $s_{ij}$ este măsură a gradului în care două atribute variază împreună (mai precis: care este gradul lor de dependenţă liniară) şi depinde de magnitudinea valorilor atributelor\n",
    "* $s_{ij}=0$ arata ca atributele $s_i$ si $s_j$ nu sunt liniar dependente\n",
    "* numpy: [numpy.cov](https://numpy.org/doc/stable/reference/generated/numpy.cov.html)"
   ]
  },
  {
   "cell_type": "code",
   "execution_count": 12,
   "id": "integral-mortality",
   "metadata": {
    "ExecuteTime": {
     "end_time": "2021-03-22T06:34:34.912499Z",
     "start_time": "2021-03-22T06:34:34.904489Z"
    }
   },
   "outputs": [
    {
     "data": {
      "text/plain": [
       "array([[ 0.68569351, -0.03926846,  1.27368233,  0.5169038 ],\n",
       "       [-0.03926846,  0.18800403, -0.32171275, -0.11798121],\n",
       "       [ 1.27368233, -0.32171275,  3.11317942,  1.29638747],\n",
       "       [ 0.5169038 , -0.11798121,  1.29638747,  0.58241432]])"
      ]
     },
     "execution_count": 12,
     "metadata": {},
     "output_type": "execute_result"
    }
   ],
   "source": [
    "# matricea de date initiala are pe linii inregistrarile de masuratori. Pentru apelul de numpy vom transpune matricea de valori\n",
    "np.cov(data.iloc[:, :-1].values.T)"
   ]
  },
  {
   "cell_type": "code",
   "execution_count": 13,
   "id": "welcome-insight",
   "metadata": {
    "ExecuteTime": {
     "end_time": "2021-03-22T06:34:34.929425Z",
     "start_time": "2021-03-22T06:34:34.914461Z"
    }
   },
   "outputs": [
    {
     "data": {
      "text/html": [
       "<div>\n",
       "<style scoped>\n",
       "    .dataframe tbody tr th:only-of-type {\n",
       "        vertical-align: middle;\n",
       "    }\n",
       "\n",
       "    .dataframe tbody tr th {\n",
       "        vertical-align: top;\n",
       "    }\n",
       "\n",
       "    .dataframe thead th {\n",
       "        text-align: right;\n",
       "    }\n",
       "</style>\n",
       "<table border=\"1\" class=\"dataframe\">\n",
       "  <thead>\n",
       "    <tr style=\"text-align: right;\">\n",
       "      <th></th>\n",
       "      <th>sepal_length</th>\n",
       "      <th>sepal_width</th>\n",
       "      <th>petal_length</th>\n",
       "      <th>petal_width</th>\n",
       "    </tr>\n",
       "  </thead>\n",
       "  <tbody>\n",
       "    <tr>\n",
       "      <th>sepal_length</th>\n",
       "      <td>0.685694</td>\n",
       "      <td>-0.039268</td>\n",
       "      <td>1.273682</td>\n",
       "      <td>0.516904</td>\n",
       "    </tr>\n",
       "    <tr>\n",
       "      <th>sepal_width</th>\n",
       "      <td>-0.039268</td>\n",
       "      <td>0.188004</td>\n",
       "      <td>-0.321713</td>\n",
       "      <td>-0.117981</td>\n",
       "    </tr>\n",
       "    <tr>\n",
       "      <th>petal_length</th>\n",
       "      <td>1.273682</td>\n",
       "      <td>-0.321713</td>\n",
       "      <td>3.113179</td>\n",
       "      <td>1.296387</td>\n",
       "    </tr>\n",
       "    <tr>\n",
       "      <th>petal_width</th>\n",
       "      <td>0.516904</td>\n",
       "      <td>-0.117981</td>\n",
       "      <td>1.296387</td>\n",
       "      <td>0.582414</td>\n",
       "    </tr>\n",
       "  </tbody>\n",
       "</table>\n",
       "</div>"
      ],
      "text/plain": [
       "              sepal_length  sepal_width  petal_length  petal_width\n",
       "sepal_length      0.685694    -0.039268      1.273682     0.516904\n",
       "sepal_width      -0.039268     0.188004     -0.321713    -0.117981\n",
       "petal_length      1.273682    -0.321713      3.113179     1.296387\n",
       "petal_width       0.516904    -0.117981      1.296387     0.582414"
      ]
     },
     "execution_count": 13,
     "metadata": {},
     "output_type": "execute_result"
    }
   ],
   "source": [
    "df_covariance = pd.DataFrame(np.cov(data.iloc[:, :-1].values.T), index=iris_columns[:-1])\n",
    "df_covariance.columns = iris_columns[:-1]\n",
    "df_covariance"
   ]
  },
  {
   "cell_type": "markdown",
   "id": "nuclear-independence",
   "metadata": {},
   "source": [
    "* pentru a elimina dependenta de magnitudinea datelor, definim matricea de corelatie:\n",
    "$$\n",
    "r_{ij} = corelatia(x_i, x_j) = \\frac{covarianta(x_i, x_j)}{s_i s_j} \\in [-1, 1]\n",
    "$$\n",
    "* $r_{ij}$ se mai numeste corelatia Pearson a atributelor $x_i$ si $x_j$\n",
    "* $r_{ij} = \\pm 1$ indica faptul ca $x_i$ e in relatie liniara cu $x_j$:\n",
    "$$\n",
    "x_{ki} = a \\cdot x_{kj} + b\n",
    "$$\n",
    "cu $sgn(a)=sgn(r_{ij})$\n",
    "\n",
    "<img src=\"./images/800px-Correlation_examples.png\" alt=\"drawing\" width=\"600px\"/>\n",
    "Seturi de date (x, y) împreună cu coeficientul de corelaţie. Coeficientul de corelaţie surprinde gradul în care un nor de puncte poate fi aproximat printr-o dreaptă (sus) precum şi modul în care ele sunt legate liniar (creştere simultană sau\n",
    "evoluţii în sensuri diferite), dar nu şi panta acestei legături (figurile din mijloc) sau relaţii mai complexe între date (rândul de jos). Sursa: Wikipedia.\n",
    "* Functie NumPy: [numpy.corrcoef](https://numpy.org/doc/stable/reference/generated/numpy.corrcoef.html)"
   ]
  },
  {
   "cell_type": "code",
   "execution_count": 14,
   "id": "official-annex",
   "metadata": {
    "ExecuteTime": {
     "end_time": "2021-03-22T06:34:34.938400Z",
     "start_time": "2021-03-22T06:34:34.931416Z"
    }
   },
   "outputs": [
    {
     "data": {
      "text/plain": [
       "array([[ 1.        , -0.10936925,  0.87175416,  0.81795363],\n",
       "       [-0.10936925,  1.        , -0.4205161 , -0.35654409],\n",
       "       [ 0.87175416, -0.4205161 ,  1.        ,  0.9627571 ],\n",
       "       [ 0.81795363, -0.35654409,  0.9627571 ,  1.        ]])"
      ]
     },
     "execution_count": 14,
     "metadata": {},
     "output_type": "execute_result"
    }
   ],
   "source": [
    "np.corrcoef(data.iloc[:, :-1].values.T)"
   ]
  },
  {
   "cell_type": "code",
   "execution_count": 15,
   "id": "limited-negotiation",
   "metadata": {
    "ExecuteTime": {
     "end_time": "2021-03-22T06:34:34.958344Z",
     "start_time": "2021-03-22T06:34:34.941391Z"
    }
   },
   "outputs": [
    {
     "data": {
      "text/html": [
       "<div>\n",
       "<style scoped>\n",
       "    .dataframe tbody tr th:only-of-type {\n",
       "        vertical-align: middle;\n",
       "    }\n",
       "\n",
       "    .dataframe tbody tr th {\n",
       "        vertical-align: top;\n",
       "    }\n",
       "\n",
       "    .dataframe thead th {\n",
       "        text-align: right;\n",
       "    }\n",
       "</style>\n",
       "<table border=\"1\" class=\"dataframe\">\n",
       "  <thead>\n",
       "    <tr style=\"text-align: right;\">\n",
       "      <th></th>\n",
       "      <th>sepal_length</th>\n",
       "      <th>sepal_width</th>\n",
       "      <th>petal_length</th>\n",
       "      <th>petal_width</th>\n",
       "    </tr>\n",
       "  </thead>\n",
       "  <tbody>\n",
       "    <tr>\n",
       "      <th>sepal_length</th>\n",
       "      <td>1.000000</td>\n",
       "      <td>-0.109369</td>\n",
       "      <td>0.871754</td>\n",
       "      <td>0.817954</td>\n",
       "    </tr>\n",
       "    <tr>\n",
       "      <th>sepal_width</th>\n",
       "      <td>-0.109369</td>\n",
       "      <td>1.000000</td>\n",
       "      <td>-0.420516</td>\n",
       "      <td>-0.356544</td>\n",
       "    </tr>\n",
       "    <tr>\n",
       "      <th>petal_length</th>\n",
       "      <td>0.871754</td>\n",
       "      <td>-0.420516</td>\n",
       "      <td>1.000000</td>\n",
       "      <td>0.962757</td>\n",
       "    </tr>\n",
       "    <tr>\n",
       "      <th>petal_width</th>\n",
       "      <td>0.817954</td>\n",
       "      <td>-0.356544</td>\n",
       "      <td>0.962757</td>\n",
       "      <td>1.000000</td>\n",
       "    </tr>\n",
       "  </tbody>\n",
       "</table>\n",
       "</div>"
      ],
      "text/plain": [
       "              sepal_length  sepal_width  petal_length  petal_width\n",
       "sepal_length      1.000000    -0.109369      0.871754     0.817954\n",
       "sepal_width      -0.109369     1.000000     -0.420516    -0.356544\n",
       "petal_length      0.871754    -0.420516      1.000000     0.962757\n",
       "petal_width       0.817954    -0.356544      0.962757     1.000000"
      ]
     },
     "execution_count": 15,
     "metadata": {},
     "output_type": "execute_result"
    }
   ],
   "source": [
    "df_correlation = pd.DataFrame(np.corrcoef(data.iloc[:, :-1].values.T), index=iris_columns[:-1])\n",
    "df_correlation.columns = iris_columns[:-1]\n",
    "df_correlation"
   ]
  },
  {
   "cell_type": "markdown",
   "id": "moral-native",
   "metadata": {},
   "source": [
    "Putem folosi functii din Pandas DataFrame: [pandas.DataFrame.corr](https://pandas.pydata.org/pandas-docs/stable/reference/api/pandas.DataFrame.corr.html)"
   ]
  },
  {
   "cell_type": "code",
   "execution_count": 16,
   "id": "divine-chicken",
   "metadata": {
    "ExecuteTime": {
     "end_time": "2021-03-22T06:34:34.974300Z",
     "start_time": "2021-03-22T06:34:34.960343Z"
    }
   },
   "outputs": [
    {
     "data": {
      "text/html": [
       "<div>\n",
       "<style scoped>\n",
       "    .dataframe tbody tr th:only-of-type {\n",
       "        vertical-align: middle;\n",
       "    }\n",
       "\n",
       "    .dataframe tbody tr th {\n",
       "        vertical-align: top;\n",
       "    }\n",
       "\n",
       "    .dataframe thead th {\n",
       "        text-align: right;\n",
       "    }\n",
       "</style>\n",
       "<table border=\"1\" class=\"dataframe\">\n",
       "  <thead>\n",
       "    <tr style=\"text-align: right;\">\n",
       "      <th></th>\n",
       "      <th>sepal_length</th>\n",
       "      <th>sepal_width</th>\n",
       "      <th>petal_length</th>\n",
       "      <th>petal_width</th>\n",
       "    </tr>\n",
       "  </thead>\n",
       "  <tbody>\n",
       "    <tr>\n",
       "      <th>sepal_length</th>\n",
       "      <td>1.000000</td>\n",
       "      <td>-0.109369</td>\n",
       "      <td>0.871754</td>\n",
       "      <td>0.817954</td>\n",
       "    </tr>\n",
       "    <tr>\n",
       "      <th>sepal_width</th>\n",
       "      <td>-0.109369</td>\n",
       "      <td>1.000000</td>\n",
       "      <td>-0.420516</td>\n",
       "      <td>-0.356544</td>\n",
       "    </tr>\n",
       "    <tr>\n",
       "      <th>petal_length</th>\n",
       "      <td>0.871754</td>\n",
       "      <td>-0.420516</td>\n",
       "      <td>1.000000</td>\n",
       "      <td>0.962757</td>\n",
       "    </tr>\n",
       "    <tr>\n",
       "      <th>petal_width</th>\n",
       "      <td>0.817954</td>\n",
       "      <td>-0.356544</td>\n",
       "      <td>0.962757</td>\n",
       "      <td>1.000000</td>\n",
       "    </tr>\n",
       "  </tbody>\n",
       "</table>\n",
       "</div>"
      ],
      "text/plain": [
       "              sepal_length  sepal_width  petal_length  petal_width\n",
       "sepal_length      1.000000    -0.109369      0.871754     0.817954\n",
       "sepal_width      -0.109369     1.000000     -0.420516    -0.356544\n",
       "petal_length      0.871754    -0.420516      1.000000     0.962757\n",
       "petal_width       0.817954    -0.356544      0.962757     1.000000"
      ]
     },
     "execution_count": 16,
     "metadata": {},
     "output_type": "execute_result"
    }
   ],
   "source": [
    "data.corr()"
   ]
  },
  {
   "cell_type": "code",
   "execution_count": 17,
   "id": "ethical-delicious",
   "metadata": {
    "ExecuteTime": {
     "end_time": "2021-03-22T06:34:36.036080Z",
     "start_time": "2021-03-22T06:34:34.976296Z"
    }
   },
   "outputs": [
    {
     "data": {
      "image/png": "[encoded data removed]",
      "text/plain": [
       "<Figure size 720x720 with 16 Axes>"
      ]
     },
     "metadata": {},
     "output_type": "display_data"
    }
   ],
   "source": [
    "pd.plotting.scatter_matrix(data, figsize=(10, 10))\n",
    "plt.show()"
   ]
  },
  {
   "cell_type": "code",
   "execution_count": 18,
   "id": "according-birmingham",
   "metadata": {
    "ExecuteTime": {
     "end_time": "2021-03-22T06:34:36.277433Z",
     "start_time": "2021-03-22T06:34:36.037042Z"
    }
   },
   "outputs": [
    {
     "data": {
      "image/png": "[encoded data removed]",
      "text/plain": [
       "<Figure size 720x360 with 2 Axes>"
      ]
     },
     "metadata": {},
     "output_type": "display_data"
    }
   ],
   "source": [
    "plt.figure(figsize=(10,5))\n",
    "plt.matshow(data.corr(), fignum=1)\n",
    "plt.xticks(range(4), data.columns[:-1])\n",
    "plt.yticks(range(4), data.columns[:-1])\n",
    "plt.colorbar()\n",
    "plt.show()"
   ]
  },
  {
   "cell_type": "markdown",
   "id": "vulnerable-chinese",
   "metadata": {},
   "source": [
    "Alt exemplu: generam un set de date aleator + o modificare liniara a lui, cu zgomot aleator:"
   ]
  },
  {
   "cell_type": "code",
   "execution_count": 19,
   "id": "endangered-ordinary",
   "metadata": {
    "ExecuteTime": {
     "end_time": "2021-03-22T06:34:36.288369Z",
     "start_time": "2021-03-22T06:34:36.279394Z"
    }
   },
   "outputs": [
    {
     "data": {
      "text/plain": [
       "array([[1.        , 0.99053295],\n",
       "       [0.99053295, 1.        ]])"
      ]
     },
     "execution_count": 19,
     "metadata": {},
     "output_type": "execute_result"
    }
   ],
   "source": [
    "np.random.seed(100)\n",
    "x = np.random.randint(0, 50, 1000)\n",
    "# corelatie pozitiva intre x si y\n",
    "y = 5*x + 3 + np.random.normal(0, 10, 1000)\n",
    "np.corrcoef(x, y)"
   ]
  },
  {
   "cell_type": "code",
   "execution_count": 20,
   "id": "built-kruger",
   "metadata": {
    "ExecuteTime": {
     "end_time": "2021-03-22T06:34:36.467888Z",
     "start_time": "2021-03-22T06:34:36.290363Z"
    }
   },
   "outputs": [
    {
     "data": {
      "image/png": "[encoded data removed]",
      "text/plain": [
       "<Figure size 432x288 with 1 Axes>"
      ]
     },
     "metadata": {},
     "output_type": "display_data"
    }
   ],
   "source": [
    "plt.scatter(x, y)\n",
    "plt.show()"
   ]
  },
  {
   "cell_type": "code",
   "execution_count": 21,
   "id": "promotional-probe",
   "metadata": {
    "ExecuteTime": {
     "end_time": "2021-03-22T06:34:36.477863Z",
     "start_time": "2021-03-22T06:34:36.469883Z"
    }
   },
   "outputs": [
    {
     "data": {
      "text/plain": [
       "array([[ 1.        , -0.99088942],\n",
       "       [-0.99088942,  1.        ]])"
      ]
     },
     "execution_count": 21,
     "metadata": {},
     "output_type": "execute_result"
    }
   ],
   "source": [
    "# corelatie negativa intre x si y\n",
    "y = -5*x + 3 + np.random.normal(0, 10, 1000)\n",
    "np.corrcoef(x, y)"
   ]
  },
  {
   "cell_type": "code",
   "execution_count": 22,
   "id": "laden-bathroom",
   "metadata": {
    "ExecuteTime": {
     "end_time": "2021-03-22T06:34:36.672342Z",
     "start_time": "2021-03-22T06:34:36.482849Z"
    }
   },
   "outputs": [
    {
     "data": {
      "image/png": "[encoded data removed]",
      "text/plain": [
       "<Figure size 432x288 with 1 Axes>"
      ]
     },
     "metadata": {},
     "output_type": "display_data"
    }
   ],
   "source": [
    "plt.scatter(x, y)\n",
    "plt.show()"
   ]
  },
  {
   "cell_type": "code",
   "execution_count": 23,
   "id": "single-flavor",
   "metadata": {
    "ExecuteTime": {
     "end_time": "2021-03-22T06:34:36.682314Z",
     "start_time": "2021-03-22T06:34:36.674337Z"
    }
   },
   "outputs": [
    {
     "data": {
      "text/plain": [
       "array([[1.        , 0.02742447],\n",
       "       [0.02742447, 1.        ]])"
      ]
     },
     "execution_count": 23,
     "metadata": {},
     "output_type": "execute_result"
    }
   ],
   "source": [
    "# corelatie liniara slaba:\n",
    "x = np.random.randint(0, 50, 1000)\n",
    "y = np.random.randint(0, 50, 1000)\n",
    "\n",
    "np.corrcoef(x, y)"
   ]
  },
  {
   "cell_type": "code",
   "execution_count": 24,
   "id": "controlling-lindsay",
   "metadata": {
    "ExecuteTime": {
     "end_time": "2021-03-22T06:34:36.862832Z",
     "start_time": "2021-03-22T06:34:36.684309Z"
    }
   },
   "outputs": [
    {
     "data": {
      "image/png": "[encoded data removed]",
      "text/plain": [
       "<Figure size 432x288 with 1 Axes>"
      ]
     },
     "metadata": {},
     "output_type": "display_data"
    }
   ],
   "source": [
    "plt.scatter(x, y)\n",
    "plt.show()"
   ]
  },
  {
   "cell_type": "markdown",
   "id": "natural-creature",
   "metadata": {},
   "source": [
    "Legat de coeficientul de corelaţie, câteva observaţii:\n",
    "* “Corelaţia nu înseamnă cauzalitate” – nu se poate folosi o valoare absolută apropiată de 1 ca argument că între două atribute există o relaţie de cauzalitate. Corelaţie mare poate fi o condiţie necesară pentru legătură de cauzalitate, dar nu asigură şi suficienţa. Cu toate acestea, corelaţia mare poate fi folosită ca punct de pornire în cercetarea unei legături între diferite fenomene.\n",
    "* Corelaţia şi liniaritatea – coeficientul Pearson reprezintă puterea unei relaţii liniare între două seturi de valori, dar nu caracterizează complet relaţia dintre date.\n",
    "* Exemplu: 4 seturi de date cu două atribute; în toate situaţiile media şi dispersia lui y este aceeaşi, de asemenea avem acelaşi coeficient de corelaţie în fiecare caz (0.816); cu toate acestea, legătura dintre x şi y e extrem de diferită de la un caz la altul:\n",
    "<img src=\"./images/800px-Anscombe's_quartet_3.svg.png\" alt=\"drawing\" width=\"800px\"/>\n",
    "Date cu caracteristici numerice identice (medie, dispersie, corelaţie), dar esenţial diferite ca natură: cvartetul lui Anscombe. Sursa: Wikipedia"
   ]
  }
 ],
 "metadata": {
  "kernelspec": {
   "display_name": "Python 3",
   "language": "python",
   "name": "python3"
  },
  "language_info": {
   "codemirror_mode": {
    "name": "ipython",
    "version": 3
   },
   "file_extension": ".py",
   "mimetype": "text/x-python",
   "name": "python",
   "nbconvert_exporter": "python",
   "pygments_lexer": "ipython3",
   "version": "3.8.8"
  },
  "toc": {
   "base_numbering": 1,
   "nav_menu": {},
   "number_sections": true,
   "sideBar": true,
   "skip_h1_title": false,
   "title_cell": "Table of Contents",
   "title_sidebar": "Contents",
   "toc_cell": false,
   "toc_position": {},
   "toc_section_display": true,
   "toc_window_display": false
  }
 },
 "nbformat": 4,
 "nbformat_minor": 5
}
