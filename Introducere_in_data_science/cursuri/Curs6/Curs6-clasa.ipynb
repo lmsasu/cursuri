{
 "cells": [
  {
   "cell_type": "markdown",
   "metadata": {},
   "source": [
    "# Curs 6 - modele de clasificare"
   ]
  },
  {
   "cell_type": "markdown",
   "metadata": {},
   "source": [
    "## Machine learning"
   ]
  },
  {
   "cell_type": "markdown",
   "metadata": {},
   "source": [
    "Machine learning (ML) vizeaza extragerea de cunostinte din date, intr-un mod -- deocamdata -- semiautomat. Punctul de plecare este un set de date:\n",
    "* achizitiile facute de clientii unei anumite afaceri\n",
    "* paginile unui site prin care s-au plimbat vizitatorii\n",
    "* datele furnizate de senzori\n",
    "* rating-urile date filmelor de catre cinefili\n",
    "* texte (e.g. mesaje email) impreuna cu categoriile din care fac parte: mailuri de tip stiri, de pe retele sociale, legate de munca, spam etc.\n",
    "* imagini catalogate (etichetate), gen [ImageNet](http://www.image-net.org), [Pascal VOC](http://host.robots.ox.ac.uk/pascal/VOC/) sau [Google-Landmarks: A New Dataset and Challenge for Landmark Recognition](https://research.googleblog.com/2018/03/google-landmarks-new-dataset-and.html)\n",
    "* date medicale anonimizate\n",
    "* inregistrari video in care se cere recunoasterea si localizarea de obiecte\n",
    "\n",
    "Un exemplu de depozit de date frecvent utilizat de cercetatori este [UCI Machine Learning repository](http://archive.ics.uci.edu/ml/datasets.php). O lista ampla se gaseste la [Awesome Public Datasets](https://github.com/awesomedata/awesome-public-datasets), [Wikipedia](https://en.wikipedia.org/wiki/List_of_datasets_for_machine_learning_research), [aici](https://blog.algorithmia.com/machine-learning-datasets-for-data-scientists/), [aici](http://homepages.inf.ed.ac.uk/rbf/IAPR/researchers/MLPAGES/mldat.htm) sau [aici](https://storage.googleapis.com/openimages/web/index.html). \n",
    "\n",
    "Exista posibilitatea de a partaja si descarca seturi de date prin [Academic torrents](http://academictorrents.com), ![Academic torrents](./images/academic_torrents.png).\n",
    "\n",
    "De exemplu, pornindu-se de la diferite emailuri, care au fost etichetate de utilizator drept spam sau non-spam, se doreste construirea unui clasificator automat care pe viitor sa faca sortarea automata a mesajelor. Modelul rezulta in urma determinarii unor relatii intre cuvintele care apar (sau nu) in mailuri si clasa fiecarui email. \n",
    "\n",
    "![Nigerian spam email](./images/nigerian_scam.png)"
   ]
  },
  {
   "cell_type": "markdown",
   "metadata": {},
   "source": [
    "## Tipuri de invatare in ML\n",
    "\n",
    "1. Invatarea supervizata: setul de instruire contine perechi de forma $(intrare, iesire\\_asociata)$, de exemplu perechi (continut_email, tip_email) sau (caracteristici_masina, consum_carburant_100km). Observam ca iesirea poate fi discreta (spam sau nonspam, articol de tip politica, sport, stiri externe, mondene) sau continua (consum de carburant, presiune prezisa, viteza a unui obiect estimata etc.) Scopul este de a se prezice valoarea (reala sau dintr-o multime predefinita de clase) pentru o intrare data (de exemplu, o imagine sau o un sir de masuratori).\n",
    "![Imagenet](./images/imagenet.png)\n",
    "1. Invatare nesupervizata:datele se grupeaza natural pe baza similaritatilor (clustering, de exemplu segmentarea pietei), sau se face analiza de asocieri -- cine cumpara bere are tendinta de a cumpara si covrigei, evenimentul X este deseori si la scurt timp urmat de evenimentul Y, analiza componentelor independente etc.\n",
    "![Imagenet](./images/clustering.png)\n",
    "![MBA](./images/mba.jpg)\n",
    "![ICA party problem](./images/cocktail-party-problem-n.jpg)\n",
    "1. Invatarea prin intarire (reinforcement learning), in care se urmareste maximizarea unei recompense obtinuta dupa o serie de pasi. \n",
    "![Reinforcement learning](./images/reinforcementLearning.png) Sursa: Wikipedia\n",
    "\n",
    "Modelul este construit pe baza setului de date. Scopul nu este de a invata \"pe dinafara\" setul de antrenare, ci de a construi modele care pot generaliza, adica pot produce o iesire buna pentru obiecte pe care nu le-au folosit pentru invatare, dar sunt suficient de similare cu acestea -- e.g. sa recunoasca pisici in poze, altele decat cele din setul de instruire."
   ]
  },
  {
   "cell_type": "markdown",
   "metadata": {},
   "source": [
    "## Biblioteca Scikit-learn"
   ]
  },
  {
   "cell_type": "markdown",
   "metadata": {},
   "source": [
    "Biblioteca Scikit-learn (sau sklearn) contine algoritmi de ML ce acopera partea de clasificare, regresie, estimare de probabilitate conditionata, outlier detection, cuantificarea performantelor modelelor, optimizare de hiperparametri, preprocesare s.a. Interfata expusa de clase este consistenta, iar trecerea de la un model la altul - in cadrul aceluiasi tip de invatare - este simpla.\n",
    "\n",
    "Biblioteca sklearn este inclusa in distributia Anaconda. Alternativ, se poate instala via `conda`:\n",
    "```\n",
    "conda install scikit-learn\n",
    "```\n",
    "sau cu `pip`:\n",
    "```\n",
    "pip install scikit-learn\n",
    "```\n",
    "Actualizarea la ultima versiune se face prin:\n",
    "```\n",
    "conda update scikit-learn\n",
    "```\n",
    "respectiv\n",
    "```\n",
    "pip install scikit-learn --upgrade\n",
    "```\n",
    "La momentul scrierii acestui material, versiunea de sklearn era:"
   ]
  },
  {
   "cell_type": "code",
   "execution_count": 1,
   "metadata": {
    "ExecuteTime": {
     "end_time": "2021-04-04T19:57:28.410538Z",
     "start_time": "2021-04-04T19:57:20.445797Z"
    }
   },
   "outputs": [
    {
     "name": "stdout",
     "output_type": "stream",
     "text": [
      "sklearn.__version__=0.24.1\n"
     ]
    }
   ],
   "source": [
    "import sklearn\n",
    "print(f'sklearn.__version__={sklearn.__version__}')\n",
    "\n",
    "# sklearn.__version__=0.20.1"
   ]
  },
  {
   "cell_type": "markdown",
   "metadata": {},
   "source": [
    "## Setul de date Iris"
   ]
  },
  {
   "cell_type": "markdown",
   "metadata": {},
   "source": [
    "Un set frecvent folosit pentru demonstrarea diferitilor algoritmi de ML este [Iris](http://archive.ics.uci.edu/ml/datasets/Iris), de genul unui 'Hello world' la nivel de set de date de invatare si testare. Setul de date contine masuratori pentru 3 specii de floare Iris: Iris setosa, Iris Viginica, Iris versicolor. \n",
    "\n",
    "![Iris](./images/iris_flowers.png)\n",
    "\n",
    "Pentru fiecare specie sunt cate 50 de flori masurate. Masuratorile sunt facute pentru 4 trasaturi:\n",
    "\n",
    "1. lungimea sepalei in cm \n",
    "2. latimea sepalei in cm \n",
    "3. lungimea petalei in cm \n",
    "4. latimea petalei in cm \n",
    "\n",
    "![Petale si sepale](./images/iris_petalSepal.png)\n",
    "\n",
    "Se poate descarca setul de la adresa [http://archive.ics.uci.edu/ml/machine-learning-databases/iris/iris.data](http://archive.ics.uci.edu/ml/machine-learning-databases/iris/iris.data). Detalii despre setul de date se gasesc la [Machine learning repository](http://archive.ics.uci.edu/ml/datasets/Iris)."
   ]
  },
  {
   "cell_type": "markdown",
   "metadata": {},
   "source": [
    "## Modelul de clasificare k nearest neighbors"
   ]
  },
  {
   "cell_type": "code",
   "execution_count": 2,
   "metadata": {
    "ExecuteTime": {
     "end_time": "2021-04-04T20:00:08.032164Z",
     "start_time": "2021-04-04T20:00:01.490961Z"
    }
   },
   "outputs": [
    {
     "name": "stdout",
     "output_type": "stream",
     "text": [
      "Pandas version: 1.2.3\n"
     ]
    },
    {
     "data": {
      "text/html": [
       "<div>\n",
       "<style scoped>\n",
       "    .dataframe tbody tr th:only-of-type {\n",
       "        vertical-align: middle;\n",
       "    }\n",
       "\n",
       "    .dataframe tbody tr th {\n",
       "        vertical-align: top;\n",
       "    }\n",
       "\n",
       "    .dataframe thead th {\n",
       "        text-align: right;\n",
       "    }\n",
       "</style>\n",
       "<table border=\"1\" class=\"dataframe\">\n",
       "  <thead>\n",
       "    <tr style=\"text-align: right;\">\n",
       "      <th></th>\n",
       "      <th>sepal_length</th>\n",
       "      <th>sepal_width</th>\n",
       "      <th>petal_length</th>\n",
       "      <th>petal_width</th>\n",
       "      <th>class</th>\n",
       "    </tr>\n",
       "  </thead>\n",
       "  <tbody>\n",
       "    <tr>\n",
       "      <th>0</th>\n",
       "      <td>5.1</td>\n",
       "      <td>3.5</td>\n",
       "      <td>1.4</td>\n",
       "      <td>0.2</td>\n",
       "      <td>Iris-setosa</td>\n",
       "    </tr>\n",
       "    <tr>\n",
       "      <th>1</th>\n",
       "      <td>4.9</td>\n",
       "      <td>3.0</td>\n",
       "      <td>1.4</td>\n",
       "      <td>0.2</td>\n",
       "      <td>Iris-setosa</td>\n",
       "    </tr>\n",
       "    <tr>\n",
       "      <th>2</th>\n",
       "      <td>4.7</td>\n",
       "      <td>3.2</td>\n",
       "      <td>1.3</td>\n",
       "      <td>0.2</td>\n",
       "      <td>Iris-setosa</td>\n",
       "    </tr>\n",
       "    <tr>\n",
       "      <th>3</th>\n",
       "      <td>4.6</td>\n",
       "      <td>3.1</td>\n",
       "      <td>1.5</td>\n",
       "      <td>0.2</td>\n",
       "      <td>Iris-setosa</td>\n",
       "    </tr>\n",
       "    <tr>\n",
       "      <th>4</th>\n",
       "      <td>5.0</td>\n",
       "      <td>3.6</td>\n",
       "      <td>1.4</td>\n",
       "      <td>0.2</td>\n",
       "      <td>Iris-setosa</td>\n",
       "    </tr>\n",
       "  </tbody>\n",
       "</table>\n",
       "</div>"
      ],
      "text/plain": [
       "   sepal_length  sepal_width  petal_length  petal_width        class\n",
       "0           5.1          3.5           1.4          0.2  Iris-setosa\n",
       "1           4.9          3.0           1.4          0.2  Iris-setosa\n",
       "2           4.7          3.2           1.3          0.2  Iris-setosa\n",
       "3           4.6          3.1           1.5          0.2  Iris-setosa\n",
       "4           5.0          3.6           1.4          0.2  Iris-setosa"
      ]
     },
     "execution_count": 2,
     "metadata": {},
     "output_type": "execute_result"
    }
   ],
   "source": [
    "import pandas as pd\n",
    "print('Pandas version:', pd.__version__)\n",
    "url_iris = 'http://archive.ics.uci.edu/ml/machine-learning-databases/iris/iris.data'\n",
    "names = ['sepal_length', 'sepal_width', 'petal_length', 'petal_width', 'class']\n",
    "iris_df = pd.read_csv(url_iris, names=names)\n",
    "iris_df.head()"
   ]
  },
  {
   "cell_type": "code",
   "execution_count": 7,
   "metadata": {
    "ExecuteTime": {
     "end_time": "2020-03-23T19:21:14.710170Z",
     "start_time": "2020-03-23T19:21:14.701195Z"
    }
   },
   "outputs": [
    {
     "name": "stdout",
     "output_type": "stream",
     "text": [
      "<class 'pandas.core.frame.DataFrame'>\n",
      "RangeIndex: 150 entries, 0 to 149\n",
      "Data columns (total 5 columns):\n",
      " #   Column        Non-Null Count  Dtype  \n",
      "---  ------        --------------  -----  \n",
      " 0   sepal_length  150 non-null    float64\n",
      " 1   sepal_width   150 non-null    float64\n",
      " 2   petal_length  150 non-null    float64\n",
      " 3   petal_width   150 non-null    float64\n",
      " 4   class         150 non-null    object \n",
      "dtypes: float64(4), object(1)\n",
      "memory usage: 6.0+ KB\n"
     ]
    }
   ],
   "source": [
    "iris_df.info()"
   ]
  },
  {
   "cell_type": "markdown",
   "metadata": {},
   "source": [
    "k nearerst neighbors (kNN, k-NN) este un model de clasificare si regresie din categoria Case Based Reasoning, un stil de lucru in care deciziile se iau pe baza cautarii intr-o baza de experiente anterioare inregistrate. Este suficient de simplu pentru a putea fi implementat in mai putin de 20 de minute. Poate fi extins pentru regresie. In ciuda simplitatii, este considerat robust si util pentru multe probleme si a fost inclus in [Top 10 data mining algorithms](https://www.kdnuggets.com/2015/05/top-10-data-mining-algorithms-explained.html) (vezi de asemenea si [aici](http://www.cs.uvm.edu/~icdm/algorithms/10Algorithms-08.pdf) sau [Deep k-Nearest Neighbors: Towards Confident, Interpretable and Robust Deep Learning](https://arxiv.org/pdf/1803.04765.pdf)). \n",
    "\n",
    "Algoritmul nu construieste propriu--zis un model. El memoreaza cazurile cunoscute, iar pentru o situatie la care se cere raspuns (clasificare sau regresie) gaseste cele mai apropiate $k$ cazuri si formuleaza raspunsul prin combinarea raspunsurilor de la acestea. Modelul este neparametric: raspunsul nu depinde de vreo presupunere apriorica asupra modului in care raspunsul este format, ci este dat de continutul bazei de cunostinte -- si desigur influentat de numarul de vecini considerati ($k$) si de modul de calcul al distantei -- a se vedea discutia de mai jos. \n",
    "\n",
    "Instruirea propriu-zisa lipseste (include cel mult utilizarea unei structuri de date eficiente de tipul [k-d tree](https://en.wikipedia.org/wiki/K-d_tree), [ball tree](https://en.wikipedia.org/wiki/Ball_tree) pentru structurarea bazei de cunostinte si facilitarea unei cautari rapide). Antrenarea este deci rapida. Pe de alta parte, kNN necesita memorie in cantitate proportionala cu baza de cunostinte utilizata, iar inferenta poate fi lenta, fiind dominata de costul de cautare. \n",
    "\n",
    "Pentru clasificare, principiul de lucru este simplu:\n",
    "1. se gasesc cei mai apropiati $k$ vecini fata de cazul pentru care se solicita clasificarea\n",
    "1. se gaseste clasa majoritara si se considera ca elementul nou face parte din aceasta clasa\n",
    "\n",
    "Pentru regresie, metodele de combinare a valorilor furnizate de vecini sunt variate: medie, medie ponderata, mediana etc.  \n",
    "\n",
    "Chestiunile care trebuie discutate sunt:\n",
    "1. Modalitatea de calcul al distantei\n",
    "1. Valoarea lui $k$\n",
    "\n",
    "Pentru cel de al doilea punct a se vedea exemplele urmatoare."
   ]
  },
  {
   "cell_type": "markdown",
   "metadata": {},
   "source": [
    "Exemple: se considera cele doua clase de obiecte din figura de mai jos. Pentru dreptunghiul galben avem nevoie de a-i determina clasa (culoarea). Numarul de vecini cei mai apropiati este 3 si sunt reprezentati prin sageti. Clasa majoritara este verde, deci se considera ca cel mai probabil dreptunghiul pentru care se cere clasificare este din clasa \"verde\". \n",
    "\n",
    "![knn-2 clase](./images/knn.png)\n",
    "\n",
    "Numarul de vecini considerati este critic. In figura urmatoare:(sursa: [By Antti Ajanki AnAj - Own work, CC BY-SA 3.0](https://commons.wikimedia.org/w/index.php?curid=2170282)) \n",
    "\n",
    "![rezultat knn diferint pentru diversi k](./images/knnwikipediakvariabil.png)\n",
    "\n",
    "se arata ca:\n",
    "* pentru k=3 se obtin 2 vecini rosii si 1 albastru, deci clasa asignata va fi rosie\n",
    "* pentru k=5 se obtin 3 vecini albastri si 2 rosii, deci clasa asignata punctului verde va fi albastra\n",
    "\n",
    "Alegerea lui $k$ este deci importanta. $k$ este de fapt unul din cei doi hiperparametri ai algoritmului k-NN, in functie de valoarea lui rezultatele alg de clasificare putand diferi. Valoarea lui $k$ este de regula dependenta de date si nu aleasa in mod fortuit.\n",
    "\n",
    "Un alt hiperparametru este modalitatea de calcul al distantei dintre puncte. In exemplele de mai sus s-a folosit distanta Euclidiana. Pentru doi vectori $\\mathbf{x} = (x_0, x_1, \\dots, x_{n-1}), \\mathbf{y} = (y_0, y_1, \\dots, y_{n-1})$, distanta Euclidiana -- sau distanta $L_2$ -- se calculeaza ca:\n",
    "\n",
    "$$d_E(\\mathbf{x}, \\mathbf{y}) = d_2(\\mathbf{x}, \\mathbf{y}) = \\sqrt{\\sum\\limits_{i=0}^{n-1} (x_i-y_i)^2 }$$\n",
    "\n",
    "Deseori in calcule radicalul nu mai este conssiderat, deoarece functia radical e monoton crescatoare. \n",
    "\n",
    "\n",
    "\n",
    "Nu e obligatoriu ca functia folosita sa indeplineasca [axiomele distantei](https://en.wikipedia.org/wiki/Metric_(mathematics)); se poate folosi orice functie care masoara similaritatea dintre vectorii $\\mathbf{x}$ si $\\mathbf{y}$; remarca: similaritate mare (respectiv mica) corespunde distantei mici (respectiv mari).\n",
    "\n",
    "Alte distante si similaritati folosite sunt:\n",
    "* distanta $L_1$, zisa si distanta Manhattan, city-block: $$d_1(\\mathbf{x}, \\mathbf{y}) = \\sum\\limits_{i=0}^{n-1} \\left|x_i-y_i\\right|$$\n",
    "* similaritatea cosinus intre vectori: $$similaritate = \\cos(\\theta) = \\frac{\\mathbf{x} \\cdot \\mathbf{y}}{\\|\\mathbf{x}\\|\\|\\mathbf{y}\\|}$$ unde $\\theta$ este unghiul dintre ccei doi vectori, iar $\\cdot$ este produsul scalar al celor doi vectori;\n",
    "* distanta Minkowski, generalizand distanta Euclidiana si pe $L_1$: $$d_p(\\mathbf{x}, \\mathbf{y}) = \\left( \\sum\\limits_{i=0}^{n-1} \\left|x_i-y_i\\right|^p\\right)^{1/p}$$\n",
    "![Minkowski](./images/2D_unit_balls.svg.png) sursa: https://commons.wikimedia.org/wiki/File:2D_unit_balls.svg\n",
    "* indexul Jaccard, sau \"Intersection over Union\" sau coeficientul de similaritate Jaccard, utilizat pentru a calcula similaritatea a doua multimi:\n",
    "$$\n",
    "J(A, B) = \\frac{|A \\cap B|}{|A \\cup B|}\n",
    "$$\n",
    "![IoU](./images/iou.jpg) Sursa: [https://commons.wikimedia.org/wiki/File:Intersection_over_Union_-_object_detection_bounding_boxes.jpg](https://commons.wikimedia.org/wiki/File:Intersection_over_Union_-_object_detection_bounding_boxes.jpg)\n",
    "* [Dynamic Time Warping](http://www.maths.manchester.ac.uk/~mbbx2se2/Docs/Dynamic_time_warping(Steven_Elsworth).pdf), utilizata pentru masurarea similaritatii intre serii de timp."
   ]
  },
  {
   "cell_type": "markdown",
   "metadata": {},
   "source": [
    "Cazul $k=1$ merita sa fie detaliat: fiecare nou vector este asociat cu cel mai apropiat vecin al sau. Aceasta corespunde unei [diagrame Voronoi](https://en.wikipedia.org/wiki/Voronoi_diagram), in care fiecare punct din setul initial are o \"zona de influenta\": toate punctele din acea zona sunt considerate ca fiind de tipul (clasa) sa. In figura de mai jos distanta folosita este cea Euclidiana.\n",
    "\n",
    "![Diagrama Voronoi 2D](./images/Euclidean_Voronoi_diagram.svg.png)[By Balu Ertl - Own work, CC BY-SA 4.0], (https://commons.wikimedia.org/w/index.php?curid=38534275)\n",
    "\n",
    "Pentru acelasi $k=1$ dar distanta $L_1$ se obtine o diagrama Voronoi diferita:\n",
    "![Diagrama Coronoi pentru L1](./images/Manhattan_Voronoi_Diagram.svg.png)[By Balu Ertl - Own work, CC BY-SA 4.0], (https://commons.wikimedia.org/w/index.php?curid=38534275)\n",
    "\n",
    "Daca setul de intrare e cu zgomot (masuratori nu foarte precise, sau clase incorect asignate in setul de instruire), atunci clasificarea va suferi:\n",
    "\n",
    "![k-NN cu k=1](./images/1nearestneigh.png) Sursa: [A Complete Guide to K-Nearest-Neighbors with Applications in Python and R](https://kevinzakka.github.io/2016/07/13/k-nearest-neighbor/)\n",
    "\n",
    "Se prefera deci a se lua $k>1$, deoarece suprafata de separare este mai regulata.\n",
    "![20neighbors](./images/20nearestneigh.png) Sursa: [A Complete Guide to K-Nearest-Neighbors with Applications in Python and R](https://kevinzakka.github.io/2016/07/13/k-nearest-neighbor/)\n",
    " "
   ]
  },
  {
   "cell_type": "markdown",
   "metadata": {},
   "source": [
    "## Lucrul in scikit-learn cu setul de date Iris"
   ]
  },
  {
   "cell_type": "code",
   "execution_count": null,
   "metadata": {
    "ExecuteTime": {
     "end_time": "2019-03-20T18:40:16.069570Z",
     "start_time": "2019-03-20T18:40:15.624873Z"
    }
   },
   "outputs": [],
   "source": [
    "#pentru simplitate se prefera folosirea functiilor puse la dispozitie de pachetul sklearn. Se pot tousi folosi datele din\n",
    "# dataframe incarcate anterior.\n",
    "from sklearn.datasets import load_iris\n",
    "iris = ...\n",
    "type(iris)"
   ]
  },
  {
   "cell_type": "code",
   "execution_count": null,
   "metadata": {
    "ExecuteTime": {
     "end_time": "2019-03-20T18:40:16.079489Z",
     "start_time": "2019-03-20T18:40:16.074530Z"
    }
   },
   "outputs": [],
   "source": [
    "X = ...\n",
    "print(X[0:5, :])"
   ]
  },
  {
   "cell_type": "code",
   "execution_count": null,
   "metadata": {
    "ExecuteTime": {
     "end_time": "2019-03-20T18:40:16.094370Z",
     "start_time": "2019-03-20T18:40:16.087425Z"
    }
   },
   "outputs": [],
   "source": [
    "y = ...\n",
    "print(y)\n",
    "print(iris.target_names)"
   ]
  },
  {
   "cell_type": "markdown",
   "metadata": {},
   "source": [
    "Datele sunt pregatite pentru a fi folosite de biblioteca sklean: valorile de intrare si cele de iesire (vorbim de un model ce foloseste invatarea supervizata) sunt furnizate sub forma de matrice, respectiv de vector de valori. Trebuie subliniat ca valorile 0, 1, 2 din vectorul `target_names` nu sunt interptate in aces caz ca valori numerice, ci codificari convenabile pentru cele 3 specii de iris. \n",
    "\n",
    "Suplimentar, datele trebuie furnizate sub forma de NumPy ndarray. Numarul de linii reprezinta numarul de inregistrari; numarul de coloane pentru vectorul de intrare este numarul de trasaturi sau dimensiuni (features)."
   ]
  },
  {
   "cell_type": "markdown",
   "metadata": {},
   "source": [
    "## Separarea setului iris in set de antrenare si de testare - varianta eronata"
   ]
  },
  {
   "cell_type": "markdown",
   "metadata": {},
   "source": [
    "In cea mai simpla varianta, datele sunt impartite in 2 submultimi disjuncte:\n",
    "* set de antrenare: este folosit pentru a invata un model care va face mai departe clasificarea\n",
    "* set de testare: este folosit pentru a determina performanta modelului pe setul de testare. \n",
    "\n",
    "Mai sunt si alte variante de impartire: set de antrenare, de validare, de testare - dar consideram varianta cea mai simpla\n",
    "\n",
    "Daca setul de date nu este de la inceput impartit in set de antrenare si de testare, atunci acest lucru trebuie facut de utilizator. Se obisnuieste sa se imparta setul de date in 2/3 set de antrenare si 1/3 set de testare. Se poate face asa ceva prin NumPy slicing:"
   ]
  },
  {
   "cell_type": "code",
   "execution_count": null,
   "metadata": {
    "ExecuteTime": {
     "end_time": "2019-03-20T18:40:16.106273Z",
     "start_time": "2019-03-20T18:40:16.097841Z"
    }
   },
   "outputs": [],
   "source": [
    "n_rows = X.shape[0]\n",
    "print('n_rows:', n_rows)\n",
    "X_train = ...\n",
    "X_test = ...\n",
    "y_train = ...\n",
    "y_test = ..."
   ]
  },
  {
   "cell_type": "markdown",
   "metadata": {},
   "source": [
    "Alternativ, se pot folosi functii sklearn pentru acelasi efect: functia [sklearn.model_selection.train_test_split](http://scikit-learn.org/stable/modules/generated/sklearn.model_selection.train_test_split.html):"
   ]
  },
  {
   "cell_type": "code",
   "execution_count": null,
   "metadata": {
    "ExecuteTime": {
     "end_time": "2019-03-20T18:40:16.142480Z",
     "start_time": "2019-03-20T18:40:16.109747Z"
    }
   },
   "outputs": [],
   "source": [
    "from sklearn.model_selection import train_test_split\n",
    "\n",
    "X_train, X_test, y_train, y_test = ..."
   ]
  },
  {
   "cell_type": "markdown",
   "metadata": {},
   "source": [
    "Varianta aceasta e una neinspirata: daca vedem care sunt etichetele din seturile de antrenare si respectiv de testare, constatam ca datele sunt ne-balansate:"
   ]
  },
  {
   "cell_type": "code",
   "execution_count": null,
   "metadata": {
    "ExecuteTime": {
     "end_time": "2019-03-20T18:40:16.150913Z",
     "start_time": "2019-03-20T18:40:16.144961Z"
    }
   },
   "outputs": [],
   "source": [
    "print('y_train:', set(y_train))\n",
    "print('y_test:', set(y_test))"
   ]
  },
  {
   "cell_type": "markdown",
   "metadata": {},
   "source": [
    "## Separarea setului iris in set de antrenare si de testare - varianta corecta"
   ]
  },
  {
   "cell_type": "markdown",
   "metadata": {},
   "source": [
    "Se recomanda deci ca setul sa fie permutat aleator inainte de impartire. Se poate folosi functia de [shuffle](https://docs.scipy.org/doc/numpy/reference/generated/numpy.random.shuffle.html) din NumPy, sau putem cere metodei `train_test_split` sa faca ea acest lucru:"
   ]
  },
  {
   "cell_type": "code",
   "execution_count": null,
   "metadata": {
    "ExecuteTime": {
     "end_time": "2019-03-20T18:40:16.160833Z",
     "start_time": "2019-03-20T18:40:16.155377Z"
    }
   },
   "outputs": [],
   "source": [
    "X_train, X_test, y_train, y_test = ...\n",
    "print(y_test)"
   ]
  },
  {
   "cell_type": "markdown",
   "metadata": {},
   "source": [
    "Se oberva ca la rulari diferite rezultatele sunt diferite, deoarece impartirea se face in mod aleator la fiecare rulare. Pentru reproductibilitate, se poate specifica 'samanta' folosita de catre functia de generare de numere aleatoare:"
   ]
  },
  {
   "cell_type": "code",
   "execution_count": null,
   "metadata": {
    "ExecuteTime": {
     "end_time": "2019-03-20T18:40:16.172241Z",
     "start_time": "2019-03-20T18:40:16.164810Z"
    }
   },
   "outputs": [],
   "source": [
    "X_train, X_test, y_train, y_test = train_test_split(X, y, test_size=1/3, shuffle=True, random_state=42)\n",
    "print(y_test)"
   ]
  },
  {
   "cell_type": "markdown",
   "metadata": {},
   "source": [
    "E util sa se observe daca clasele sunt distribuite echilibrat:"
   ]
  },
  {
   "cell_type": "code",
   "execution_count": null,
   "metadata": {
    "ExecuteTime": {
     "end_time": "2019-03-20T18:40:16.182657Z",
     "start_time": "2019-03-20T18:40:16.175713Z"
    }
   },
   "outputs": [],
   "source": [
    "from collections import Counter\n",
    "\n",
    "print(Counter(y_train))\n",
    "print(Counter(y_test))"
   ]
  },
  {
   "cell_type": "markdown",
   "metadata": {},
   "source": [
    "O distributie neechilibrata poate influenta negativ performanta modelului de clasificare: se invata prea putin dintr-o clasa fata, din cauza a prea putine exemplare din ea. "
   ]
  },
  {
   "cell_type": "markdown",
   "metadata": {},
   "source": [
    "Vom utiliza algoritmul k-NN pentru a face clasificari ale datelor din setul de testare, folosind cazurile din setul de antrenare."
   ]
  },
  {
   "cell_type": "code",
   "execution_count": null,
   "metadata": {
    "ExecuteTime": {
     "end_time": "2019-03-20T18:40:16.501982Z",
     "start_time": "2019-03-20T18:40:16.187617Z"
    }
   },
   "outputs": [],
   "source": [
    "import matplotlib.pyplot as plt\n",
    "import numpy as np"
   ]
  },
  {
   "cell_type": "code",
   "execution_count": null,
   "metadata": {
    "ExecuteTime": {
     "end_time": "2019-03-20T18:40:16.655806Z",
     "start_time": "2019-03-20T18:40:16.503470Z"
    }
   },
   "outputs": [],
   "source": [
    "plt.figure(figsize=(10, 8))\n",
    "for index, name in enumerate(iris.target_names):\n",
    "    that_iris = X_train[y_train == index, :]\n",
    "    plt.scatter(that_iris[:, 2], that_iris[:, 3])\n",
    "plt.show()"
   ]
  },
  {
   "cell_type": "code",
   "execution_count": null,
   "metadata": {
    "ExecuteTime": {
     "end_time": "2019-03-20T20:24:14.757769Z",
     "start_time": "2019-03-20T20:24:14.754296Z"
    }
   },
   "outputs": [],
   "source": [
    "from ipywidgets import interactive"
   ]
  },
  {
   "cell_type": "code",
   "execution_count": null,
   "metadata": {
    "ExecuteTime": {
     "end_time": "2019-03-20T20:24:15.403589Z",
     "start_time": "2019-03-20T20:24:14.913300Z"
    }
   },
   "outputs": [],
   "source": [
    "def show_iris_2d(col1, col2):\n",
    "    \"\"\"Plots the iris dataset, only those features given by params col1 and col2.\n",
    "    :param col1: index of fisrt feature to show, 0 to 3\n",
    "    :param col2: index of second feature to show, 0 to 3\n",
    "    :return: None\n",
    "    \"\"\"\n",
    "    plt.figure(figsize=(10, 8))\n",
    "    for index, name in enumerate(iris.target_names):\n",
    "        that_iris = X_train[y_train == index, :]\n",
    "        plt.scatter(that_iris[:, col1], that_iris[:, col2])\n",
    "        plt.xlabel(names[col1])\n",
    "        plt.ylabel(names[col2])\n",
    "    plt.show()\n",
    "    \n",
    "interactive(show_iris_2d, col1=(0, 3), col2=(0, 3))"
   ]
  },
  {
   "cell_type": "markdown",
   "metadata": {},
   "source": [
    "Pasii de lucru sunt:\n",
    "1. Importa clasa utilizata"
   ]
  },
  {
   "cell_type": "code",
   "execution_count": null,
   "metadata": {
    "ExecuteTime": {
     "end_time": "2019-03-20T18:41:24.683000Z",
     "start_time": "2019-03-20T18:41:24.657702Z"
    }
   },
   "outputs": [],
   "source": [
    "from sklearn.neighbors import ..."
   ]
  },
  {
   "cell_type": "markdown",
   "metadata": {},
   "source": [
    "2. Instantiaza modelul: obtine un obiect pe baza clasei"
   ]
  },
  {
   "cell_type": "code",
   "execution_count": null,
   "metadata": {
    "ExecuteTime": {
     "end_time": "2019-03-20T18:41:25.719175Z",
     "start_time": "2019-03-20T18:41:25.714708Z"
    }
   },
   "outputs": [],
   "source": [
    "model = ..."
   ]
  },
  {
   "cell_type": "markdown",
   "metadata": {},
   "source": [
    "3. Antreneaza modelul, specificandu-i datele din setul de antrenare. In cazul nostr, acestea sunt X_train si y_train. "
   ]
  },
  {
   "cell_type": "code",
   "execution_count": null,
   "metadata": {
    "ExecuteTime": {
     "end_time": "2019-03-20T18:41:26.868706Z",
     "start_time": "2019-03-20T18:41:26.859282Z"
    }
   },
   "outputs": [],
   "source": [
    "model...."
   ]
  },
  {
   "cell_type": "markdown",
   "metadata": {},
   "source": [
    "4. Testeaza modelul pe date - din setul de test sau alta sursa"
   ]
  },
  {
   "cell_type": "code",
   "execution_count": null,
   "metadata": {
    "ExecuteTime": {
     "end_time": "2019-03-20T18:41:28.563402Z",
     "start_time": "2019-03-20T18:41:28.558444Z"
    }
   },
   "outputs": [],
   "source": [
    "X_train[0, :], y_train[0]"
   ]
  },
  {
   "cell_type": "code",
   "execution_count": null,
   "metadata": {
    "ExecuteTime": {
     "end_time": "2019-03-20T18:41:29.454630Z",
     "start_time": "2019-03-20T18:41:29.446196Z"
    }
   },
   "outputs": [],
   "source": [
    "#prezicere pentru o singura masuratoare (4 valori)\n",
    "to_predict = np.array([5.5, 2.8, 4.3, 1.0]).reshape(1, -1)\n",
    "model...."
   ]
  },
  {
   "cell_type": "code",
   "execution_count": null,
   "metadata": {
    "ExecuteTime": {
     "end_time": "2019-03-20T18:41:36.590479Z",
     "start_time": "2019-03-20T18:41:36.583038Z"
    }
   },
   "outputs": [],
   "source": [
    "y_hat = model.predict(X_test)\n",
    "print(y_hat)\n",
    "print(y_test)\n",
    "\n",
    "print(sum(y_hat != y_test))"
   ]
  },
  {
   "cell_type": "markdown",
   "metadata": {},
   "source": [
    "Putem experimenta cu diferite valori ale lui $k$:"
   ]
  },
  {
   "cell_type": "code",
   "execution_count": null,
   "metadata": {
    "ExecuteTime": {
     "end_time": "2019-03-20T18:41:58.910606Z",
     "start_time": "2019-03-20T18:41:58.903164Z"
    }
   },
   "outputs": [],
   "source": [
    "model_5 = KNeighborsClassifier(n_neighbors=5)\n",
    "model_5.fit(X_train, y_train)\n",
    "y_hat_5 = model_5.predict(X_test)\n",
    "print(sum(y_hat_5 != y_hat))"
   ]
  },
  {
   "cell_type": "markdown",
   "metadata": {},
   "source": [
    "## Regresia logistica"
   ]
  },
  {
   "cell_type": "markdown",
   "metadata": {},
   "source": [
    "Prezentare teoretica:  [curs Inteligenta Artificiala](https://github.com/lmsasu/cursuri/blob/master/InteligentaArtificiala/curs/InteligentaArtificiala.pdf)"
   ]
  },
  {
   "cell_type": "code",
   "execution_count": null,
   "metadata": {
    "ExecuteTime": {
     "end_time": "2019-03-20T18:45:04.506870Z",
     "start_time": "2019-03-20T18:45:04.440868Z"
    }
   },
   "outputs": [],
   "source": [
    "from sklearn.linear_model import LogisticRegression\n",
    "logreg = LogisticRegression(solver='sag', multi_class='multinomial', max_iter=10000)\n",
    "logreg.fit(X_train, y_train)\n",
    "y_hat_logreg = logreg.predict(X_test)"
   ]
  },
  {
   "cell_type": "code",
   "execution_count": null,
   "metadata": {
    "ExecuteTime": {
     "end_time": "2019-03-20T18:45:08.646522Z",
     "start_time": "2019-03-20T18:45:08.641068Z"
    }
   },
   "outputs": [],
   "source": [
    "#acuratetea\n",
    "sum(y_hat_logreg != y_test)"
   ]
  },
  {
   "cell_type": "markdown",
   "metadata": {},
   "source": [
    "## Bibliografie:\n",
    "1. k-NN: [Articol Scholarpedia](http://www.scholarpedia.org/article/K-nearest_neighbor)\n",
    "1. k-NN: [A Complete Guide to K-Nearest-Neighbors with Applications in Python and R](https://kevinzakka.github.io/2016/07/13/k-nearest-neighbor/)\n",
    "1. Scikit-learn si k-NN: [scikit-learn video #3: Machine learning first steps with the Iris dataset](http://blog.kaggle.com/2015/04/22/scikit-learn-video-3-machine-learning-first-steps-with-the-iris-dataset/)\n",
    "1. Case based reasoning: Beatriz López, [Case-Based Reasoning: A Concise Introduction](http://www.morganclaypool.com/doi/abs/10.2200/S00490ED1V01Y201303AIM020), Morgan & Claypool Publishers, 2003"
   ]
  }
 ],
 "metadata": {
  "kernelspec": {
   "display_name": "Python 3",
   "language": "python",
   "name": "python3"
  },
  "language_info": {
   "codemirror_mode": {
    "name": "ipython",
    "version": 3
   },
   "file_extension": ".py",
   "mimetype": "text/x-python",
   "name": "python",
   "nbconvert_exporter": "python",
   "pygments_lexer": "ipython3",
   "version": "3.8.8"
  },
  "toc": {
   "base_numbering": 1,
   "nav_menu": {},
   "number_sections": true,
   "sideBar": true,
   "skip_h1_title": false,
   "title_cell": "Table of Contents",
   "title_sidebar": "Contents",
   "toc_cell": false,
   "toc_position": {},
   "toc_section_display": true,
   "toc_window_display": false
  },
  "varInspector": {
   "cols": {
    "lenName": 16,
    "lenType": 16,
    "lenVar": 40
   },
   "kernels_config": {
    "python": {
     "delete_cmd_postfix": "",
     "delete_cmd_prefix": "del ",
     "library": "var_list.py",
     "varRefreshCmd": "print(var_dic_list())"
    },
    "r": {
     "delete_cmd_postfix": ") ",
     "delete_cmd_prefix": "rm(",
     "library": "var_list.r",
     "varRefreshCmd": "cat(var_dic_list()) "
    }
   },
   "types_to_exclude": [
    "module",
    "function",
    "builtin_function_or_method",
    "instance",
    "_Feature"
   ],
   "window_display": false
  }
 },
 "nbformat": 4,
 "nbformat_minor": 2
}
