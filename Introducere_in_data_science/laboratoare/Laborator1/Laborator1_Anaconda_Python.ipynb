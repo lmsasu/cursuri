{
 "cells": [
  {
   "cell_type": "markdown",
   "metadata": {},
   "source": [
    "# Setarea mediului de lucru\n",
    "* Instalare Python si auxiliare\n",
    "    * Instalare Anaconda\n",
    "    * Update Anaconda\n",
    "    * Creare de mediu virtual\n",
    "    * Instalare de pachete cu pip\n",
    "* Medii de lucru\n",
    "    * PyCharm\n",
    "    * Jupyter notebook"
   ]
  },
  {
   "cell_type": "markdown",
   "metadata": {},
   "source": [
    "## Instalare Anaconda"
   ]
  },
  {
   "cell_type": "markdown",
   "metadata": {},
   "source": [
    "In cadrul laboratorului se va folosi distributia de Python Anaconda. Kitul Anaconda se instaleaza de la adresa [https://www.anaconda.com/distribution/](https://www.anaconda.com/distribution/). Se recomanda alegerea limbajulu Python 3.x.\n",
    "![Download Anaconda](./images/download.png)"
   ]
  },
  {
   "cell_type": "markdown",
   "metadata": {},
   "source": [
    "Se poate face instalarea Anaconda fara drepturi de administrator. Pasii sunt dati in capturile de ecran de mai jos. Daca sistemul de operare este pe 64 de biti, folositi installer de 64 de biti.\n",
    "![Screen 1](./images/install1.png)\n",
    "![Screen 2](./images/install2.png)\n",
    "![Screen 3](./images/install3.png)\n",
    "![Screen 4](./images/install4.png)\n",
    "![Screen 4](./images/install4.png)\n",
    "\n",
    "Se poate ca in final sa se instaleze VS Code sau PyCharm, ce ofera suport pentru scrierea de proiecte Python:\n",
    "![Screen VSCode](./images/install5.png)\n",
    "\n",
    "Pentru PyCharm, contul de student cu credentiale ...@student.unitbv.ro permite descarcarea de PyCharm Professional Edition. Altfel, este disponibila versiunea Community."
   ]
  },
  {
   "cell_type": "markdown",
   "metadata": {},
   "source": [
    "## Update Anaconda "
   ]
  },
  {
   "cell_type": "markdown",
   "metadata": {},
   "source": [
    "Interfata in linia de comanda, particularizata pentru Anaconda, se obtine din Start->Anaconda->Anaconda prompt.\n",
    "\n",
    "In linia de comanda, actualizarea pachetelor se face folosind utilitarul `conda`. Se recomanda actualizarea pachetului conda in mod regulat, prin:\n",
    "```\n",
    "conda update conda --yes\n",
    "```\n",
    "unde optiunea `--yes` inhiba interogarea utilizatorului pentru acord de instalare. \n",
    "Lista pachetelor instalate se obtine cu:\n",
    "```\n",
    "conda list\n",
    "```\n",
    "![conda list](./images/conda1.png)\n",
    "\n",
    "In dreptul fiecarui pachet este scrisa versiunea sa. \n",
    "\n",
    "Pachetele se actualizeaza folosind:\n",
    "```\n",
    "conda update --all --yes \n",
    "```\n",
    "Daca se doreste actualizarea doar a unui pachet, atunci se specifica similar cu:\n",
    "```\n",
    "conda update scikit-learn\n",
    "```\n",
    "\n",
    "Daca se doreste aducerea unui pachet la o anumita versiune, se foloseste:\n",
    "```\n",
    "conda install pandas=0.13.1\n",
    "```\n",
    "\n",
    "Uneori se doreste instalarea unui pachet care nu e in canalul oficial de pachete anaconda. Prin optiunea `--channel`:\n",
    "```\n",
    "conda install pytorch torchvision cudatoolkit=9.0 -c pytorch\n",
    "```\n",
    "\n",
    "In decursul instalarii se stocheza pe disc pachetele aduse. Pentru a elibera spatiul ocupat, se foloseste:\n",
    "```\n",
    "conda clean --all --yes \n",
    "```\n",
    "\n",
    "Alte optiuni ce pot fi date utitlitarului `conda` sunt descrise la [https://conda.io/projects/conda/en/latest/user-guide/tasks/index.html](https://conda.io/projects/conda/en/latest/user-guide/tasks/index.html).\n",
    "\n",
    "Mentionam ca exista si utilitar grafic - Anaconda Navigator - livrat odata cu instalarea Anaconda prin care se poate face gestiunea pachetelor, configurarea mediilor virtuale si altele:\n",
    "![Anaconda navigator](./images/Anaconda_Navigator.png)"
   ]
  },
  {
   "cell_type": "markdown",
   "metadata": {},
   "source": [
    "## Creare de mediu virtual\n",
    "\n",
    "Frecvent este nevoie de crearea unui mediu virtual, in care sa fie instalate anumite pachete, corespunzatoare unei anumite versiuni a limbajului Python. De exemplu, pot exista pachete care functioneaza numai cu Python 3.6, iar versiunea de baza instalata este 3.7. Alteori e nevoie de folosirea unor pachete de versiune mai veche si nu dorim sa face downgrade in pachetul de baza. Se prefera in aceste cazuri crearea de medii virtuale specifice. \n",
    "\n",
    "Crearea unui mediu virtual numit \"machine-learning\", continand toate pachetele din distributia anaconda se face cu comanda `conda create`:\n",
    "```\n",
    "conda create --name machine-learning anaconda --yes \n",
    "```\n",
    "\n",
    "Daca se doreste ca versiunea de limbaj Python sa fie una anume, e.g. 3.6, se foloseste:\n",
    "```\n",
    "conda create --name machine-learning anaconda python=3.6 --yes   \n",
    "```\n",
    "\n",
    "Lista mediilor virtuale se obtine cu:\n",
    "```\n",
    "conda info --envs\n",
    "```\n",
    "![conda list](./images/envs.png)\n",
    "\n",
    "Activarea mediului virtual creat anterior se face cu:\n",
    "```\n",
    "conda activate machine-learning\n",
    "```\n",
    "\n",
    "Numele mediului virtual este dat la inceputul prompt-ului:\n",
    "![env switch](./images/env_switch.png)\n",
    "\n",
    "Se recomanda calduros rularea periodica de comanda de update a pachetelor din interiorul mediilor virtuale, prin `conda update`.\n",
    "\n",
    "Deactivarea mediului virtual se face cu `conda deactivate`.\n",
    "\n",
    "Stergerea completa a mediului virtual `machine-learning` se face cu:\n",
    "```\n",
    "conda remove --name machine-learning --all --yes \n",
    "``` \n",
    "\n",
    "Alte comenzi utile pentru gestiunea mediilor virtuale (de exemplu clonarea unui mediu virtual) se gasesc la [https://conda.io/projects/conda/en/latest/user-guide/tasks/manage-environments.html](https://conda.io/projects/conda/en/latest/user-guide/tasks/manage-environments.html)"
   ]
  },
  {
   "cell_type": "markdown",
   "metadata": {},
   "source": [
    "## Instalare de pachete cu pip"
   ]
  },
  {
   "cell_type": "markdown",
   "metadata": {},
   "source": [
    "Traditional, instalarea de pachete in Python se face cu comanda `pip`. In Anaconda este utila comanda pentru cazul in care pachetul dorit nu poate fi instalat cu comanda conda. \n",
    "\n",
    "Exemplu:\n",
    "```\n",
    "pip install dtw\n",
    "```\n",
    "\n",
    "![pip install dtw](./images/pip.png)"
   ]
  },
  {
   "cell_type": "markdown",
   "metadata": {},
   "source": [
    "# Limbajul Python"
   ]
  },
  {
   "cell_type": "markdown",
   "metadata": {},
   "source": [
    "* Limbaj open source, gratuit\n",
    "* Doua versiuni majore: Python 2 (ultima versiune: 2.7) si 3 (versiunea curenta: 3.7). \n",
    "* Python este limbaj interpretat si netipizat\n",
    "* Permite programare imperativa, orientata pe obiect, [functionala](https://docs.python.org/3/library/functional.html)\n",
    "* Exista o paleta larga de biblioteci deja implementate pentru Python, usurand considerabil dezvoltarea de prototipuri sau chiar de aplicatii comerciale larg raspandite."
   ]
  },
  {
   "cell_type": "markdown",
   "metadata": {},
   "source": [
    "## De ce Python?\n",
    "\n",
    "Iata cateva motive solide pentru a utiliza Python, conform [The unexpected effectiveness of Python in science](https://lwn.net/Articles/724255/)\n",
    "1. Limbajul vine \"cu toate bateriile incluse\": multitudinea de biblioteci il face perfect pentru o gama larga de proiecte. Cercetatorii care il folosesc activeaza in astronomie, fizica, bioinformatica, chimie, stiinte cognitive etc. - si pentru toate aceste domenii exista biblioteci care simplifica mult dezvoltarea de prototipuri. Prin comparatie, limbaje traditionale precum C/C++/Java/C# vin cu mai putin suport disponibil, iar uneori includerea unui pachet/biblioteci poate fi o experienta consumatoare de timp. \n",
    "1. Capacitatea de interoperare cu alte limbaje este iarasi un plus. Exista punti de comunicare (bridges) care permit apelul de cod Python din alte limbaje sau invers. Desigur, aceasta facilitate se regaseste si in alte limbaje.\n",
    "1. Natura dinamica a limbajului poate fi inteligent speculata: o functie poate sa preia o multitudine de parametri (lista, tuplu, dictionar) si cateva linii de cod functioneaza la fel de bine peste toate acestea.\n",
    "1. Python incurajeaza un stil de lucru experimental, via REPL: poate e nevoie de cateva incercari pentru a ajunge la instructiunile potrivite pentru o anumita functionalitate. Incercarea unei alte instructiuni nu necesita recompilarea sau rerularea codului anterior, ci vine in completare - pana cand ajungi la ce doresti sa obtii. "
   ]
  },
  {
   "cell_type": "markdown",
   "metadata": {},
   "source": [
    "# Modalitati si medii de lucru"
   ]
  },
  {
   "cell_type": "markdown",
   "metadata": {},
   "source": [
    "## Moduri de utilizare\n",
    "\n",
    "1. Codul poate fi scris intr-un fisier text cu extensia py. Lansarea codului se face cu comanda `python nume_script.py`\n",
    "1. Se poate folosi interpretorul python sau ipython, in care modul de lucru este REPL: read-evaluate-print-loop. REPL permite o prototipizare rapida si scrierea codului in mod incremental. Interpretorul ipython este o varianta imbunatatita a interpretoruui python. \n",
    "![ipython screenshot](./images/ipython_screenshot.png)\n",
    "Mai multe detalii pentru lucrul cu interpretorul ipython se gasesc in resursa bibliografica [1], capitolul 1: debug, magic commands, lucru cu interpretorul de comenzi etc. \n",
    "1. Jupyter notebook - codul este scris in browser, cu suport pentru completare automata de cod. Fisierele rezultate sunt cu extensia ipynb.\n",
    "![jupyter screenshot](./images/jupyter-notebook-completion.png)\n",
    "O lista de notebooks se gaseste [aici](http://nbviewer.jupyter.org/)."
   ]
  },
  {
   "cell_type": "markdown",
   "metadata": {},
   "source": [
    "## PyCharm\n",
    "\n",
    "Anaconda vine cu un editor minimal, Spyder. Se poate folosi acesta sau unul mai evoluat, de exemplu PyCharm sau VSCode.\n",
    "\n",
    "PyCharm se poate instala [de aici](https://www.jetbrains.com/pycharm/), de exemplu versiunea Community Edition. Studentii pot beneficia de o licenta academica pentru versiunea Professional. In versiunea Community se permite debug, utilizarea de medii virtuale specifice proiectelor, lucru cu git etc. \n",
    "\n",
    "Demo:\n",
    "* program simplu, code completion, refactoring, suport pentru docstrings, ....\n",
    "* debug\n",
    "* ..."
   ]
  },
  {
   "cell_type": "markdown",
   "metadata": {},
   "source": [
    "## Jupyter notebook\n",
    "\n",
    "Jupyer notebook (numit inainte ipython notebook) permite scrierea de cod in browser si rularea in stil Read-Evaluate-Print-Loop. Este un mod util pentru prototipizare, cand succesiunea de pasi nu e clar cunoscuta aprioric. \n",
    "\n",
    "Nativ, in Anaconda sunt suportate nuclee de Python si R. Se pot adauga alte nuclee, ceea ce inseamna ca in acelasi notebook pot fi folosite secvente de cod in diferite limbaje. O lista de posibilitati este data [aici](https://github.com/jupyter/jupyter/wiki/Jupyter-kernels).\n",
    "\n",
    "Lansarea serverului Jupyter se face in doua moduri:\n",
    "1. din command line interface de Anaconda, se scrie comanda `jupyter notebook`\n",
    "1. din Anaconda Navigator\n",
    "\n",
    "Ca rezultat se porneste un server web, local, de regula pe portul 8888 (sau alt port disponibil; se pot lansa mai multe servere Jupyter simultan, acestea vor folosi porturile 8889, 8890 etc.)\n",
    "\n",
    "- Demo Jupyter notebook\n",
    "- Help din docstring\n",
    "- Operatii cu kernelul de Python - repornire, oprire etc.\n",
    "- Export de script din Jupyer notebook"
   ]
  },
  {
   "cell_type": "markdown",
   "metadata": {},
   "source": [
    "### Plugin-uri de Jupyter notebook\n",
    "\n",
    "Se pot instala - in mediul de baza sau alte medii virtuale - pachete cu functionalitati auxiliare. Recomandam instalarea celor mentionate [aici](https://towardsdatascience.com/jupyter-notebook-extensions-517fa69d2231). "
   ]
  },
  {
   "cell_type": "markdown",
   "metadata": {},
   "source": [
    "# Bibliografie\n",
    "1. Jake VanderPlas, [*Python Data Science Handbook - Essential tools for working with data*](https://jakevdp.github.io/PythonDataScienceHandbook/), O'Reilly Media Inc., 2017; [notebooks](https://github.com/jakevdp/PythonDataScienceHandbook) \n",
    "1. Allen B. Downey, [*Think Python: How to Think Like a Computer Scientist*](http://greenteapress.com/wp/think-python-2e/), editia a doua, Green Tea Press\n",
    "1. [Learn to Program Using Python](https://www.edx.org/course/learn-program-using-python-utarlingtonx-cse1309x)"
   ]
  }
 ],
 "metadata": {
  "kernelspec": {
   "display_name": "Python 3",
   "language": "python",
   "name": "python3"
  },
  "language_info": {
   "codemirror_mode": {
    "name": "ipython",
    "version": 3
   },
   "file_extension": ".py",
   "mimetype": "text/x-python",
   "name": "python",
   "nbconvert_exporter": "python",
   "pygments_lexer": "ipython3",
   "version": "3.8.5"
  },
  "toc": {
   "base_numbering": 1,
   "nav_menu": {},
   "number_sections": true,
   "sideBar": true,
   "skip_h1_title": false,
   "title_cell": "Table of Contents",
   "title_sidebar": "Contents",
   "toc_cell": false,
   "toc_position": {
    "height": "calc(100% - 180px)",
    "left": "10px",
    "top": "150px",
    "width": "341.804px"
   },
   "toc_section_display": true,
   "toc_window_display": false
  },
  "varInspector": {
   "cols": {
    "lenName": 16,
    "lenType": 16,
    "lenVar": 40
   },
   "kernels_config": {
    "python": {
     "delete_cmd_postfix": "",
     "delete_cmd_prefix": "del ",
     "library": "var_list.py",
     "varRefreshCmd": "print(var_dic_list())"
    },
    "r": {
     "delete_cmd_postfix": ") ",
     "delete_cmd_prefix": "rm(",
     "library": "var_list.r",
     "varRefreshCmd": "cat(var_dic_list()) "
    }
   },
   "types_to_exclude": [
    "module",
    "function",
    "builtin_function_or_method",
    "instance",
    "_Feature"
   ],
   "window_display": false
  }
 },
 "nbformat": 4,
 "nbformat_minor": 2
}
