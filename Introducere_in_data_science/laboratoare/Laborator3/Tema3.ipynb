{
 "cells": [
  {
   "cell_type": "markdown",
   "id": "f6cc83a0",
   "metadata": {},
   "source": [
    "# Laborator 3 - tema 3"
   ]
  },
  {
   "cell_type": "markdown",
   "id": "ffc91598",
   "metadata": {},
   "source": [
    "Se acordă doua puncte din oficiu. Fișierul va fi denumit tema3_ia_nume_prenume.ipynb. Verificați înainte de trimitere faptul ca execuția celulelor de sus în jos funcționează corespunzător. Aserțiunile sunt obligatoriu a fi indeplinite. Suplimentar, puteti face verificari si pentru alte valori.\n",
    "\n",
    "Se vor folosi type annotations pentru variabile, parametrii tuturor funcțiilor, tipuri de retur. Se vor folosi docstrings pentru toate funcțiile. Neîndeplinirea acestei cerințe duce la înjumătățirea punctajului pentru exercițiul în cauză.  \n",
    "\n",
    "Tema va fi predata pana cel tarziu in 1 noiembrie ora 23, pe platforma."
   ]
  },
  {
   "cell_type": "markdown",
   "id": "ad23e658",
   "metadata": {},
   "source": [
    "1. (1p) Pentru un vector de numere, care sunt toate pozitiile pe care apare valoarea minima?\n",
    "Folositi functii NumPy."
   ]
  },
  {
   "cell_type": "code",
   "execution_count": null,
   "id": "b72d0c3b",
   "metadata": {},
   "outputs": [],
   "source": [
    "import numpy as np\n",
    "v = np.array([1, 2, 3, 4, 4, 3, 1] * 2, dtype=np.float32)  # de adnotat\n",
    "...\n",
    "positions_min = ...\n",
    "\n",
    "assert np.all(positions_min == [ 0,  6,  7, 13])"
   ]
  },
  {
   "cell_type": "markdown",
   "id": "a676a350",
   "metadata": {},
   "source": [
    "2. (1p) Construiti o functie care, primind o matrice, determina pe ce pozitii (linii, coloane) se afla valorile in intervalele [a, b] sau [c, d] date ca parametri. Functia va returna un tuplu de doi vectori: primul e cu indicii de linie, al doilea cu indicii de coloana unde se afla elementele cautate.\n",
    "\n",
    "Exemplu:"
   ]
  },
  {
   "cell_type": "code",
   "execution_count": null,
   "id": "c4c2b27a",
   "metadata": {
    "ExecuteTime": {
     "end_time": "2022-10-15T16:50:11.192833Z",
     "start_time": "2022-10-15T16:50:11.178288Z"
    }
   },
   "outputs": [],
   "source": [
    "def pos_values... # de adaugat typing annotations pentru parametri si tip de retur\n",
    "    ...\n",
    "\n",
    "mat = np.arange(12).reshape(3, 4)\n",
    "rows, cols = pos_values(mat, 2, 4, 6, 8)\n",
    "assert np.all(rows == [0, 0, 1, 1, 1, 2])\n",
    "assert np.all(cols == [2, 3, 0, 2, 3, 0])\n",
    "\n",
    "mat = -np.arange(12).reshape(3, 4)\n",
    "rows, cols = pos_values(mat, 2, 4, 6, 8)\n",
    "assert np.all(rows == [])\n",
    "assert np.all(cols == [])"
   ]
  },
  {
   "cell_type": "markdown",
   "id": "54daf93f",
   "metadata": {},
   "source": [
    "3. (1p) Se da un vector cu numere intregi nenule. Sa se determine toti indicii `i` unde urmeaza o schimbare de semn. Codul se va scrie intr-o functie adnotata.\n",
    "\n",
    "Exemplu: \n",
    "```python\n",
    "v = [1, 2, -1, 2, 3, -1, 3, -10, -10, -10]\n",
    "```\n",
    "Trebuie sa rezulte vectorul de indici: `[1, 2, 4, 5, 6]`.\n",
    "\n",
    "De luat in considerare ca:\n",
    "1. Magnitudinea valorilor nu conteaza, doar semnele lor\n",
    "1. Functia `np.where` gaseste indicii unde anumite proprietati sunt indeplinite"
   ]
  },
  {
   "cell_type": "code",
   "execution_count": null,
   "id": "f6f92c03",
   "metadata": {
    "ExecuteTime": {
     "end_time": "2022-10-15T17:38:02.957500Z",
     "start_time": "2022-10-15T17:38:02.939480Z"
    }
   },
   "outputs": [],
   "source": [
    "def jumping(v):  # de adnotat, doctstring\n",
    "    assert np.all( v != 0), 'All values should be non-zero'\n",
    "    ...\n",
    "    return ...\n",
    "\n",
    "# test 1\n",
    "v = np.array([1, 2, -1, 2, 3, -1, 3, -10, -10, -10])\n",
    "assert np.all(jumping(v) == [1, 2, 4, 5, 6])\n",
    "\n",
    "# test 2: random vector, naive counting\n",
    "v = np.random.randint(-100, 100, 1000)\n",
    "# patching 0 values\n",
    "v[v==0] = -1\n",
    "# naive way of counting jumps:\n",
    "positions = []\n",
    "for i in range(len(v)-1):\n",
    "    if v[i] * v[i+1] < 0:\n",
    "        positions.append(i)\n",
    "    \n",
    "assert np.all(positions == jumping(v))"
   ]
  },
  {
   "cell_type": "markdown",
   "id": "4f0f3a3e",
   "metadata": {},
   "source": [
    "4. (1p) Generati o matrice aleatoare de dimensiune m*n care are m valori nan (not-an-number, https://numpy.org/doc/stable/reference/constants.html), la pozitii aleatoare. Determinati apoi suma elementelor non-nan din matrice in doua feluri (construiti doua functii). Comparati sumele returnate.\n",
    "\n",
    "Exemplu:\n",
    "```python\n",
    "a = get_matrix(3, 4)\n",
    "# sa presupunem ca a este\n",
    "a = \n",
    "    1.5 2.2 np.nan\n",
    "    4.3 np.nan np.nan\n",
    "    10.1 5.0 -3.1\n",
    "```\n",
    "\n",
    "Suma elementelor este 20.0.\n",
    "Indicatii: folositi functia `np.random.choice` cu parametri adecvati pentru a alege indici in mod aleator, fara repetare. "
   ]
  },
  {
   "cell_type": "code",
   "execution_count": null,
   "id": "599c4fad",
   "metadata": {
    "ExecuteTime": {
     "end_time": "2022-10-15T19:03:43.124964Z",
     "start_time": "2022-10-15T19:03:43.096960Z"
    }
   },
   "outputs": [],
   "source": [
    "def get_matrix(m, n):  # de adnotat, docstring\n",
    "    ...\n",
    "    assert np.sum(np.isnan(a)) == m  # verificare: avem exact m nan-uri\n",
    "    return a\n",
    "\n",
    "def sum_1(a):  # de adnotat, docstring\n",
    "    ...\n",
    "\n",
    "def sum_2(a): # de adnotat, docstring\n",
    "    ...\n",
    "\n",
    "def naive_sum(a: np.ndarray) -> float:\n",
    "    s = 0\n",
    "    m, n = a.shape\n",
    "    for i in range(m):\n",
    "        for j in range(n):\n",
    "            s += a[i, j] if not np.isnan(a[i, j]) else 0\n",
    "    return s\n",
    "\n",
    "m, n = 3, 4\n",
    "a = get_matrix(m, n)\n",
    "\n",
    "assert np.allclose(sum_1(a), naive_sum(a))\n",
    "assert np.allclose(sum_2(a), naive_sum(a))\n",
    "\n",
    "# pentru studenti: de ce e nevoie de allclose si nu se face comparatie cu == ?"
   ]
  },
  {
   "cell_type": "markdown",
   "id": "777e3e47",
   "metadata": {},
   "source": [
    "5. (1p) Folosnd functia `np.convolve`, sa se determine media alunecatoare (moving average) pentru un vector de 10000 de numere aleatoare; lungimea ferestrei alunecatore se da ca parametru al functiei construite de voi. Comparati rezultatele si viteza de executie cu a functiaie `naive_moving_average`.\n",
    "\n",
    "Referinte:\n",
    "1. [Moving average](https://en.wikipedia.org/wiki/Moving_average)\n",
    "1. [np.convolve: How to Use Numpy convolve() Method](https://appdividend.com/2022/10/14/np-convolve/)"
   ]
  },
  {
   "cell_type": "code",
   "execution_count": null,
   "id": "f8693f11",
   "metadata": {},
   "outputs": [],
   "source": [
    "def moving_average_fast(x, w):  # de adnotat, docstring\n",
    "    assert x.ndim == 1, 'One dimension numpy array'\n",
    "    assert w > 1, 'Average of at least two values'\n",
    "    ...\n",
    "    return ...\n",
    "\n",
    "def moving_average_slow(x, w): # de adnotat, docstring\n",
    "    assert x.ndim == 1, 'One dimension numpy array'\n",
    "    assert w > 1, 'Average of at least two values'\n",
    "    result = np.zeros(x.shape[0]-w+1)\n",
    "    for i in range(x.shape[0]-w+1):\n",
    "        result[i] = np.mean(x[i:i+w])\n",
    "    return result\n",
    "\n",
    "len_vec, w = 10000, 10\n",
    "x = np.random.rand(len_vec)\n",
    "\n",
    "a = moving_average_fast(x, w)\n",
    "b = moving_average_slow(x, w)\n",
    "\n",
    "assert len(a) == len(b), 'The two methods should return vectors of the same lengths'\n",
    "assert np.allclose(a, b), 'The two methods should return close vectors'\n",
    "\n",
    "%timeit moving_average_fast(x, w)\n",
    "%timeit moving_average_slow(x, w)"
   ]
  },
  {
   "cell_type": "markdown",
   "id": "e9a21733",
   "metadata": {},
   "source": [
    "6. (1p) Se dau vectorii de valori $x=[x_0 \\dots x_{n-1}]$, $t=[t_0, \\dots t_n-1]$, cu $t[0] < t[1] < \\dots$. Sa se calculeze intr-o maniera vectorizata vectorul $v$ ale carui componente sunt:\n",
    "$$\n",
    "v[i] = \\frac{x[i+1] - x[i]}{t[i+1] - t[i]}\n",
    "$$\n",
    "\n",
    "In prealabil sa se verifice (vectorizat sau functii NumPy) ca vectorul $t$ este format doar din valori strict crescatoare. Comparati rezultatele si viteza de executie cu o implementare care construieste vectorul $v$ pas cu pas.\n",
    "\n",
    "Optional: incercati si o implementare folosind Numba. "
   ]
  },
  {
   "cell_type": "code",
   "execution_count": null,
   "id": "60146771",
   "metadata": {},
   "outputs": [],
   "source": [
    "import numpy as np\n",
    "\n",
    "n = 100000\n",
    "x = np.random.rand(n)\n",
    "t = np.random.randint(1, 10, n)\n",
    "t = t.cumsum()\n",
    "\n",
    "def is_increasing(t) -> bool: # de adnotat, docstring\n",
    "    ...\n",
    "    return ...\n",
    "\n",
    "assert is_increasing(t), 't should be an increasing vector'\n",
    "\n",
    "def fast_v(x, t): # de adnotat, docstring\n",
    "    assert is_increasing(t), 'non increasing values'\n",
    "    ...\n",
    "    return ...\n",
    "\n",
    "def slow_v(x, t): # de adnotat, docstring\n",
    "    assert is_increasing(t), 'non increasing values'\n",
    "    ...\n",
    "    return ...\n",
    "\n",
    "v1 = fast_v(x, t)\n",
    "v2 = slow_v(x, t)\n",
    "\n",
    "assert v1.shape == v2.shape\n",
    "assert np.allclose(v1, v2)\n",
    "\n",
    "%timeit fast_v(x, t)\n",
    "%timeit slow_v(x, t)"
   ]
  },
  {
   "cell_type": "markdown",
   "id": "f27b7e8f",
   "metadata": {},
   "source": [
    "7. (2p) Se da o matrice $a$ cu numere reale. \n",
    "    1. Sa se calculeze o alta matrice $b$ care are valorile calculate astfel:\n",
    "    $$\n",
    "    b[i, j] = \\frac{a[i, j] - MIN}{MAX-MIN}\n",
    "    $$\n",
    "    unde $MAX$ si $MIN$ sunt valoarile minima, respectiv maxima din $a$. Tranformarea se face printr-o functie care preia o matrice si returneaza un tuplu compus din matricea $b$ si valorile $MIN$ si $MAX$ \n",
    "    2. Verificati ca in urma acestei transformari matricea $b$ are valorile in intervalul $(-epsilon, 1+epsilon)$, unde $epsilon=1e-5$.\n",
    "    3. Daca se dau $b$, $MIN$, $MAX$, care este transfomarea inversa prin care obtinem matricea $a$ originara? Verificati ca valorile lui $a$ si $a_reconstituit$ sunt aproximativ egale. "
   ]
  },
  {
   "cell_type": "code",
   "execution_count": null,
   "id": "513a8f93",
   "metadata": {},
   "outputs": [],
   "source": [
    "from typing import Tuple\n",
    "\n",
    "import numpy as np\n",
    "m, n = 100, 200\n",
    "\n",
    "a = np.random.randn(m, n)\n",
    "\n",
    "# rezolvare pct A\n",
    "def min_max_scale(x): # de adnotat, docstring\n",
    "    ...\n",
    "    return ..., ..., ...\n",
    "\n",
    "# rezolvare pct B\n",
    "def check_scaling(y: np.ndarray, eps = 1e-5): # de adnotat, docstring\n",
    "    assert eps > 0\n",
    "    return ...\n",
    "\n",
    "assert check_scaling(min_max_scale(a)[0])\n",
    "\n",
    "# rezolvare pct C\n",
    "def inverse_min_max_scale(y: np.ndarray, MIN: float, MAX: float) # de adnotat, docstring\n",
    "    assert MAX > MIN\n",
    "    return ...\n",
    "\n",
    "b, MIN, MAX = min_max_scale(a)\n",
    "assert np.allclose(a, inverse_min_max_scale(b, MIN, MAX))"
   ]
  }
 ],
 "metadata": {
  "kernelspec": {
   "display_name": "Python 3 (ipykernel)",
   "language": "python",
   "name": "python3"
  },
  "language_info": {
   "codemirror_mode": {
    "name": "ipython",
    "version": 3
   },
   "file_extension": ".py",
   "mimetype": "text/x-python",
   "name": "python",
   "nbconvert_exporter": "python",
   "pygments_lexer": "ipython3",
   "version": "3.9.12"
  },
  "toc": {
   "base_numbering": 1,
   "nav_menu": {},
   "number_sections": true,
   "sideBar": true,
   "skip_h1_title": false,
   "title_cell": "Table of Contents",
   "title_sidebar": "Contents",
   "toc_cell": false,
   "toc_position": {},
   "toc_section_display": true,
   "toc_window_display": false
  },
  "varInspector": {
   "cols": {
    "lenName": 16,
    "lenType": 16,
    "lenVar": 40
   },
   "kernels_config": {
    "python": {
     "delete_cmd_postfix": "",
     "delete_cmd_prefix": "del ",
     "library": "var_list.py",
     "varRefreshCmd": "print(var_dic_list())"
    },
    "r": {
     "delete_cmd_postfix": ") ",
     "delete_cmd_prefix": "rm(",
     "library": "var_list.r",
     "varRefreshCmd": "cat(var_dic_list()) "
    }
   },
   "types_to_exclude": [
    "module",
    "function",
    "builtin_function_or_method",
    "instance",
    "_Feature"
   ],
   "window_display": false
  }
 },
 "nbformat": 4,
 "nbformat_minor": 5
}
