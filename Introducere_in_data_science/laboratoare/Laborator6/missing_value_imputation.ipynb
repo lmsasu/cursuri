{
 "cells": [
  {
   "cell_type": "markdown",
   "id": "15c012f4",
   "metadata": {
    "ExecuteTime": {
     "end_time": "2021-04-06T11:43:14.586905Z",
     "start_time": "2021-04-06T11:43:10.584260Z"
    }
   },
   "source": [
    "# Despre\n",
    "\n",
    "Se exemplifica cateva pachete Python 3rd party pentru missing value imputation.\n",
    "\n",
    "Surse:\n",
    "1. [fancyimpute](https://github.com/iskandr/fancyimpute)\n",
    "1. [missingpy](https://github.com/epsilon-machine/missingpy)"
   ]
  },
  {
   "cell_type": "markdown",
   "id": "f287f55f",
   "metadata": {},
   "source": [
    "# Setup"
   ]
  },
  {
   "cell_type": "code",
   "execution_count": 1,
   "id": "aa3673da",
   "metadata": {
    "ExecuteTime": {
     "end_time": "2021-04-06T11:55:42.756216Z",
     "start_time": "2021-04-06T11:55:41.745089Z"
    }
   },
   "outputs": [],
   "source": [
    "import numpy as np\n",
    "np.random.seed = 1"
   ]
  },
  {
   "cell_type": "code",
   "execution_count": 2,
   "id": "postal-viewer",
   "metadata": {
    "ExecuteTime": {
     "end_time": "2021-04-06T11:55:42.770999Z",
     "start_time": "2021-04-06T11:55:42.760203Z"
    }
   },
   "outputs": [],
   "source": [
    "# pregateste date fara valori lipsa\n",
    "\n",
    "X = np.random.rand(200, 5)\n",
    "X_orig = X.copy()\n",
    "assert not np.isnan(X_orig.sum())  # niciun nan\n",
    "\n"
   ]
  },
  {
   "cell_type": "code",
   "execution_count": 3,
   "id": "4c0aea2c",
   "metadata": {
    "ExecuteTime": {
     "end_time": "2021-04-06T11:55:42.786955Z",
     "start_time": "2021-04-06T11:55:42.775985Z"
    }
   },
   "outputs": [],
   "source": [
    "# producem artificial niste valori lipsa in setul de date\n",
    "\n",
    "lines = np.random.choice(X.shape[0], 10)\n",
    "cols = np.random.choice(X.shape[1], 10)\n",
    "X[lines, cols] = np.nan\n",
    "assert np.isnan(X.sum()) # cel putin un nan in X"
   ]
  },
  {
   "cell_type": "markdown",
   "id": "clear-things",
   "metadata": {},
   "source": [
    "# fancyimpute"
   ]
  },
  {
   "cell_type": "code",
   "execution_count": 4,
   "id": "hidden-interest",
   "metadata": {
    "ExecuteTime": {
     "end_time": "2021-04-06T11:56:03.267581Z",
     "start_time": "2021-04-06T11:55:42.790945Z"
    }
   },
   "outputs": [
    {
     "name": "stdout",
     "output_type": "stream",
     "text": [
      "Requirement already satisfied: fancyimpute in c:\\anaconda3\\envs\\ids\\lib\\site-packages (0.5.5)\n",
      "Requirement already satisfied: keras>=2.0.0 in c:\\anaconda3\\envs\\ids\\lib\\site-packages (from fancyimpute) (2.4.3)\n",
      "Requirement already satisfied: knnimpute in c:\\anaconda3\\envs\\ids\\lib\\site-packages (from fancyimpute) (0.1.0)\n",
      "Requirement already satisfied: cvxpy>=1.0.6 in c:\\anaconda3\\envs\\ids\\lib\\site-packages (from fancyimpute) (1.1.11)\n",
      "Requirement already satisfied: scipy in c:\\anaconda3\\envs\\ids\\lib\\site-packages (from fancyimpute) (1.6.2)\n",
      "Requirement already satisfied: scikit-learn>=0.21.2 in c:\\anaconda3\\envs\\ids\\lib\\site-packages (from fancyimpute) (0.24.1)\n",
      "Requirement already satisfied: tensorflow in c:\\anaconda3\\envs\\ids\\lib\\site-packages (from fancyimpute) (2.4.1)\n",
      "Requirement already satisfied: numpy>=1.10 in c:\\anaconda3\\envs\\ids\\lib\\site-packages (from fancyimpute) (1.20.2)\n",
      "Requirement already satisfied: osqp>=0.4.1 in c:\\anaconda3\\envs\\ids\\lib\\site-packages (from cvxpy>=1.0.6->fancyimpute) (0.6.2.post0)\n",
      "Requirement already satisfied: scs>=1.1.6 in c:\\anaconda3\\envs\\ids\\lib\\site-packages (from cvxpy>=1.0.6->fancyimpute) (2.1.2)\n",
      "Requirement already satisfied: ecos>=2 in c:\\anaconda3\\envs\\ids\\lib\\site-packages (from cvxpy>=1.0.6->fancyimpute) (2.0.7.post1)\n",
      "Requirement already satisfied: pyyaml in c:\\anaconda3\\envs\\ids\\lib\\site-packages (from keras>=2.0.0->fancyimpute) (5.4.1)\n",
      "Requirement already satisfied: h5py in c:\\anaconda3\\envs\\ids\\lib\\site-packages (from keras>=2.0.0->fancyimpute) (2.10.0)\n",
      "Requirement already satisfied: qdldl in c:\\anaconda3\\envs\\ids\\lib\\site-packages (from osqp>=0.4.1->cvxpy>=1.0.6->fancyimpute) (0.1.5.post0)\n",
      "Requirement already satisfied: threadpoolctl>=2.0.0 in c:\\anaconda3\\envs\\ids\\lib\\site-packages (from scikit-learn>=0.21.2->fancyimpute) (2.1.0)\n",
      "Requirement already satisfied: joblib>=0.11 in c:\\anaconda3\\envs\\ids\\lib\\site-packages (from scikit-learn>=0.21.2->fancyimpute) (1.0.1)\n",
      "Requirement already satisfied: six in c:\\anaconda3\\envs\\ids\\lib\\site-packages (from h5py->keras>=2.0.0->fancyimpute) (1.15.0)\n",
      "Requirement already satisfied: flatbuffers~=1.12.0 in c:\\anaconda3\\envs\\ids\\lib\\site-packages (from tensorflow->fancyimpute) (1.12)\n",
      "Requirement already satisfied: termcolor~=1.1.0 in c:\\anaconda3\\envs\\ids\\lib\\site-packages (from tensorflow->fancyimpute) (1.1.0)\n",
      "Requirement already satisfied: absl-py~=0.10 in c:\\anaconda3\\envs\\ids\\lib\\site-packages (from tensorflow->fancyimpute) (0.12.0)\n",
      "Requirement already satisfied: typing-extensions~=3.7.4 in c:\\anaconda3\\envs\\ids\\lib\\site-packages (from tensorflow->fancyimpute) (3.7.4.3)\n",
      "Requirement already satisfied: gast==0.3.3 in c:\\anaconda3\\envs\\ids\\lib\\site-packages (from tensorflow->fancyimpute) (0.3.3)\n",
      "Requirement already satisfied: wheel~=0.35 in c:\\anaconda3\\envs\\ids\\lib\\site-packages (from tensorflow->fancyimpute) (0.36.2)\n",
      "Requirement already satisfied: google-pasta~=0.2 in c:\\anaconda3\\envs\\ids\\lib\\site-packages (from tensorflow->fancyimpute) (0.2.0)\n",
      "Requirement already satisfied: wrapt~=1.12.1 in c:\\anaconda3\\envs\\ids\\lib\\site-packages (from tensorflow->fancyimpute) (1.12.1)\n",
      "Requirement already satisfied: astunparse~=1.6.3 in c:\\anaconda3\\envs\\ids\\lib\\site-packages (from tensorflow->fancyimpute) (1.6.3)\n",
      "Requirement already satisfied: keras-preprocessing~=1.1.2 in c:\\anaconda3\\envs\\ids\\lib\\site-packages (from tensorflow->fancyimpute) (1.1.2)\n",
      "Requirement already satisfied: opt-einsum~=3.3.0 in c:\\anaconda3\\envs\\ids\\lib\\site-packages (from tensorflow->fancyimpute) (3.3.0)\n",
      "Requirement already satisfied: protobuf>=3.9.2 in c:\\anaconda3\\envs\\ids\\lib\\site-packages (from tensorflow->fancyimpute) (3.15.7)\n",
      "Requirement already satisfied: tensorboard~=2.4 in c:\\anaconda3\\envs\\ids\\lib\\site-packages (from tensorflow->fancyimpute) (2.4.1)\n",
      "Requirement already satisfied: tensorflow-estimator<2.5.0,>=2.4.0 in c:\\anaconda3\\envs\\ids\\lib\\site-packages (from tensorflow->fancyimpute) (2.4.0)\n",
      "Requirement already satisfied: grpcio~=1.32.0 in c:\\anaconda3\\envs\\ids\\lib\\site-packages (from tensorflow->fancyimpute) (1.32.0)\n",
      "Collecting numpy>=1.10\n",
      "  Using cached numpy-1.19.5-cp38-cp38-win_amd64.whl (13.3 MB)\n",
      "Requirement already satisfied: werkzeug>=0.11.15 in c:\\anaconda3\\envs\\ids\\lib\\site-packages (from tensorboard~=2.4->tensorflow->fancyimpute) (1.0.1)\n",
      "Requirement already satisfied: google-auth<2,>=1.6.3 in c:\\anaconda3\\envs\\ids\\lib\\site-packages (from tensorboard~=2.4->tensorflow->fancyimpute) (1.28.0)\n",
      "Requirement already satisfied: google-auth-oauthlib<0.5,>=0.4.1 in c:\\anaconda3\\envs\\ids\\lib\\site-packages (from tensorboard~=2.4->tensorflow->fancyimpute) (0.4.4)\n",
      "Requirement already satisfied: requests<3,>=2.21.0 in c:\\anaconda3\\envs\\ids\\lib\\site-packages (from tensorboard~=2.4->tensorflow->fancyimpute) (2.25.1)\n",
      "Requirement already satisfied: tensorboard-plugin-wit>=1.6.0 in c:\\anaconda3\\envs\\ids\\lib\\site-packages (from tensorboard~=2.4->tensorflow->fancyimpute) (1.8.0)\n",
      "Requirement already satisfied: markdown>=2.6.8 in c:\\anaconda3\\envs\\ids\\lib\\site-packages (from tensorboard~=2.4->tensorflow->fancyimpute) (3.3.4)\n",
      "Requirement already satisfied: setuptools>=41.0.0 in c:\\anaconda3\\envs\\ids\\lib\\site-packages (from tensorboard~=2.4->tensorflow->fancyimpute) (52.0.0.post20210125)\n",
      "Requirement already satisfied: rsa<5,>=3.1.4 in c:\\anaconda3\\envs\\ids\\lib\\site-packages (from google-auth<2,>=1.6.3->tensorboard~=2.4->tensorflow->fancyimpute) (4.7.2)\n",
      "Requirement already satisfied: cachetools<5.0,>=2.0.0 in c:\\anaconda3\\envs\\ids\\lib\\site-packages (from google-auth<2,>=1.6.3->tensorboard~=2.4->tensorflow->fancyimpute) (4.2.1)\n",
      "Requirement already satisfied: pyasn1-modules>=0.2.1 in c:\\anaconda3\\envs\\ids\\lib\\site-packages (from google-auth<2,>=1.6.3->tensorboard~=2.4->tensorflow->fancyimpute) (0.2.8)\n",
      "Requirement already satisfied: requests-oauthlib>=0.7.0 in c:\\anaconda3\\envs\\ids\\lib\\site-packages (from google-auth-oauthlib<0.5,>=0.4.1->tensorboard~=2.4->tensorflow->fancyimpute) (1.3.0)\n",
      "Requirement already satisfied: pyasn1<0.5.0,>=0.4.6 in c:\\anaconda3\\envs\\ids\\lib\\site-packages (from pyasn1-modules>=0.2.1->google-auth<2,>=1.6.3->tensorboard~=2.4->tensorflow->fancyimpute) (0.4.8)\n",
      "Requirement already satisfied: urllib3<1.27,>=1.21.1 in c:\\anaconda3\\envs\\ids\\lib\\site-packages (from requests<3,>=2.21.0->tensorboard~=2.4->tensorflow->fancyimpute) (1.26.4)\n",
      "Requirement already satisfied: idna<3,>=2.5 in c:\\anaconda3\\envs\\ids\\lib\\site-packages (from requests<3,>=2.21.0->tensorboard~=2.4->tensorflow->fancyimpute) (2.10)\n",
      "Requirement already satisfied: chardet<5,>=3.0.2 in c:\\anaconda3\\envs\\ids\\lib\\site-packages (from requests<3,>=2.21.0->tensorboard~=2.4->tensorflow->fancyimpute) (4.0.0)\n",
      "Requirement already satisfied: certifi>=2017.4.17 in c:\\anaconda3\\envs\\ids\\lib\\site-packages (from requests<3,>=2.21.0->tensorboard~=2.4->tensorflow->fancyimpute) (2020.12.5)\n",
      "Requirement already satisfied: oauthlib>=3.0.0 in c:\\anaconda3\\envs\\ids\\lib\\site-packages (from requests-oauthlib>=0.7.0->google-auth-oauthlib<0.5,>=0.4.1->tensorboard~=2.4->tensorflow->fancyimpute) (3.1.0)\n",
      "Installing collected packages: numpy\n",
      "  Attempting uninstall: numpy\n",
      "    Found existing installation: numpy 1.20.2\n",
      "    Uninstalling numpy-1.20.2:\n",
      "      Successfully uninstalled numpy-1.20.2\n"
     ]
    },
    {
     "name": "stderr",
     "output_type": "stream",
     "text": [
      "ERROR: Could not install packages due to an OSError: [WinError 5] Access is denied: 'C:\\\\anaconda3\\\\envs\\\\ids\\\\lib\\\\site-packages\\\\~%mpy\\\\.libs\\\\libopenblas.GK7GX5KEQ4F6UYO3P26ULGBQYHGQO7J4.gfortran-win_amd64.dll'\n",
      "Consider using the `--user` option or check the permissions.\n",
      "\n"
     ]
    }
   ],
   "source": [
    "# instalarea dureaza cateva minute, puteti rula comanda in conda prompt pentru a vedea progresul \n",
    "\n",
    "!pip install fancyimpute"
   ]
  },
  {
   "cell_type": "markdown",
   "id": "9ab8b93f",
   "metadata": {},
   "source": [
    "**Nota:** daca la importul de mai jos apare eroare de forma:\n",
    "`RuntimeError: module compiled against API version 0xe but this version of numpy is 0xd`\n",
    "atunci faceti upgrade de numpy, folosind:\n",
    "```\n",
    "pip install -U numpy\n",
    "```\n",
    "\n",
    "Este posibil ca instalarea lui fancyimpute sa faca downgrade la pachetul numpy, acesta trebuie restaurat.\n",
    "\n",
    "Desigur, puteti rula comenzile de pip direct in conda prompt, in virtual environment dedicat. "
   ]
  },
  {
   "cell_type": "code",
   "execution_count": 5,
   "id": "5daac74a",
   "metadata": {
    "ExecuteTime": {
     "end_time": "2021-04-06T11:56:19.324616Z",
     "start_time": "2021-04-06T11:56:03.273560Z"
    }
   },
   "outputs": [
    {
     "name": "stdout",
     "output_type": "stream",
     "text": [
      "Requirement already satisfied: numpy in c:\\anaconda3\\envs\\ids\\lib\\site-packages (1.19.5)\n",
      "Collecting numpy\n",
      "  Using cached numpy-1.20.2-cp38-cp38-win_amd64.whl (13.7 MB)\n",
      "Installing collected packages: numpy\n",
      "  Attempting uninstall: numpy\n",
      "    Found existing installation: numpy 1.19.5\n",
      "    Uninstalling numpy-1.19.5:\n",
      "      Successfully uninstalled numpy-1.19.5\n",
      "Successfully installed numpy-1.20.2\n"
     ]
    },
    {
     "name": "stderr",
     "output_type": "stream",
     "text": [
      "ERROR: pip's dependency resolver does not currently take into account all the packages that are installed. This behaviour is the source of the following dependency conflicts.\n",
      "tensorflow 2.4.1 requires numpy~=1.19.2, but you have numpy 1.20.2 which is incompatible.\n"
     ]
    }
   ],
   "source": [
    "!pip install -U numpy"
   ]
  },
  {
   "cell_type": "code",
   "execution_count": null,
   "id": "e92c7d37",
   "metadata": {},
   "outputs": [],
   "source": []
  },
  {
   "cell_type": "code",
   "execution_count": 6,
   "id": "tribal-projector",
   "metadata": {
    "ExecuteTime": {
     "end_time": "2021-04-06T11:56:27.081458Z",
     "start_time": "2021-04-06T11:56:19.328607Z"
    }
   },
   "outputs": [],
   "source": [
    "from fancyimpute import KNN, NuclearNormMinimization, SoftImpute, BiScaler"
   ]
  },
  {
   "cell_type": "code",
   "execution_count": 7,
   "id": "occupied-grain",
   "metadata": {
    "ExecuteTime": {
     "end_time": "2021-04-06T11:56:27.130329Z",
     "start_time": "2021-04-06T11:56:27.084453Z"
    }
   },
   "outputs": [
    {
     "name": "stdout",
     "output_type": "stream",
     "text": [
      "Imputing row 1/200 with 0 missing, elapsed time: 0.036\n",
      "Imputing row 101/200 with 0 missing, elapsed time: 0.037\n"
     ]
    }
   ],
   "source": [
    "X_filled_knn = KNN(k=3).fit_transform(X)\n",
    "assert not np.isnan(X_filled_knn.sum())"
   ]
  },
  {
   "cell_type": "markdown",
   "id": "obvious-mounting",
   "metadata": {},
   "source": [
    "# missingpy"
   ]
  },
  {
   "cell_type": "code",
   "execution_count": 8,
   "id": "australian-andrews",
   "metadata": {
    "ExecuteTime": {
     "end_time": "2021-04-06T11:56:33.489213Z",
     "start_time": "2021-04-06T11:56:27.136314Z"
    }
   },
   "outputs": [
    {
     "name": "stdout",
     "output_type": "stream",
     "text": [
      "Requirement already satisfied: missingpy in c:\\anaconda3\\envs\\ids\\lib\\site-packages (0.2.0)\n"
     ]
    }
   ],
   "source": [
    "!pip install missingpy"
   ]
  },
  {
   "cell_type": "code",
   "execution_count": 9,
   "id": "fleet-hands",
   "metadata": {
    "ExecuteTime": {
     "end_time": "2021-04-06T11:56:33.501185Z",
     "start_time": "2021-04-06T11:56:33.493202Z"
    }
   },
   "outputs": [],
   "source": [
    "# trick from https://stackoverflow.com/questions/60145652/no-module-named-sklearn-neighbors-base\n",
    "\n",
    "import sys\n",
    "import sklearn.neighbors._base\n",
    "sys.modules['sklearn.neighbors.base'] = sklearn.neighbors._base"
   ]
  },
  {
   "cell_type": "code",
   "execution_count": 10,
   "id": "opponent-edmonton",
   "metadata": {
    "ExecuteTime": {
     "end_time": "2021-04-06T11:56:33.586953Z",
     "start_time": "2021-04-06T11:56:33.507166Z"
    }
   },
   "outputs": [],
   "source": [
    "from missingpy import MissForest"
   ]
  },
  {
   "cell_type": "code",
   "execution_count": 11,
   "id": "00e0f0d3",
   "metadata": {
    "ExecuteTime": {
     "end_time": "2021-04-06T11:56:33.602909Z",
     "start_time": "2021-04-06T11:56:33.589943Z"
    }
   },
   "outputs": [],
   "source": [
    "X = np.random.rand(200, 5)\n",
    "# make some gaps in data\n",
    "X_orig = X.copy()\n",
    "assert not np.isnan(X_orig.sum())  # niciun nan\n",
    "lines = np.random.choice(X.shape[0], 10)\n",
    "cols = np.random.choice(X.shape[1], 10)\n",
    "X[lines, cols] = np.nan\n",
    "assert np.isnan(X.sum()) # cel putin un nan in X"
   ]
  },
  {
   "cell_type": "code",
   "execution_count": 12,
   "id": "commercial-helicopter",
   "metadata": {
    "ExecuteTime": {
     "end_time": "2021-04-06T11:56:33.613882Z",
     "start_time": "2021-04-06T11:56:33.606899Z"
    }
   },
   "outputs": [],
   "source": [
    "imputer = MissForest()"
   ]
  },
  {
   "cell_type": "code",
   "execution_count": 13,
   "id": "impossible-universe",
   "metadata": {
    "ExecuteTime": {
     "end_time": "2021-04-06T11:56:37.543402Z",
     "start_time": "2021-04-06T11:56:33.618867Z"
    }
   },
   "outputs": [
    {
     "name": "stdout",
     "output_type": "stream",
     "text": [
      "Iteration: 0\n",
      "Iteration: 1\n",
      "Iteration: 2\n"
     ]
    }
   ],
   "source": [
    "X_imputed = imputer.fit_transform(X)"
   ]
  },
  {
   "cell_type": "code",
   "execution_count": 14,
   "id": "cordless-outline",
   "metadata": {
    "ExecuteTime": {
     "end_time": "2021-04-06T11:56:37.554374Z",
     "start_time": "2021-04-06T11:56:37.547393Z"
    }
   },
   "outputs": [],
   "source": [
    "assert not np.isnan(X_imputed.sum())  # nu exista nan in X_imputed"
   ]
  },
  {
   "cell_type": "code",
   "execution_count": 15,
   "id": "recent-pattern",
   "metadata": {
    "ExecuteTime": {
     "end_time": "2021-04-06T11:56:37.594788Z",
     "start_time": "2021-04-06T11:56:37.560358Z"
    }
   },
   "outputs": [
    {
     "data": {
      "text/plain": [
       "0.9247809082831482"
      ]
     },
     "execution_count": 15,
     "metadata": {},
     "output_type": "execute_result"
    }
   ],
   "source": [
    "np.linalg.norm(X_imputed-X_orig)\n"
   ]
  },
  {
   "cell_type": "code",
   "execution_count": null,
   "id": "1264bd6d",
   "metadata": {},
   "outputs": [],
   "source": []
  }
 ],
 "metadata": {
  "kernelspec": {
   "display_name": "Python 3",
   "language": "python",
   "name": "python3"
  },
  "language_info": {
   "codemirror_mode": {
    "name": "ipython",
    "version": 3
   },
   "file_extension": ".py",
   "mimetype": "text/x-python",
   "name": "python",
   "nbconvert_exporter": "python",
   "pygments_lexer": "ipython3",
   "version": "3.8.8"
  },
  "toc": {
   "base_numbering": 1,
   "nav_menu": {},
   "number_sections": true,
   "sideBar": true,
   "skip_h1_title": false,
   "title_cell": "Table of Contents",
   "title_sidebar": "Contents",
   "toc_cell": false,
   "toc_position": {},
   "toc_section_display": true,
   "toc_window_display": false
  }
 },
 "nbformat": 4,
 "nbformat_minor": 5
}
