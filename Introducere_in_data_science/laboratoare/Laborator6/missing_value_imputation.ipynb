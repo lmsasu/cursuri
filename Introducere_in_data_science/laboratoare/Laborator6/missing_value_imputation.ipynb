{
 "cells": [
  {
   "cell_type": "code",
   "execution_count": 1,
   "id": "finnish-harbor",
   "metadata": {
    "ExecuteTime": {
     "end_time": "2021-04-06T10:53:50.740410Z",
     "start_time": "2021-04-06T10:53:50.544219Z"
    }
   },
   "outputs": [],
   "source": [
    "import pandas as pd\n",
    "import numpy as np"
   ]
  },
  {
   "cell_type": "markdown",
   "id": "clear-things",
   "metadata": {},
   "source": [
    "# fancyimpute"
   ]
  },
  {
   "cell_type": "code",
   "execution_count": 2,
   "id": "hidden-interest",
   "metadata": {
    "ExecuteTime": {
     "end_time": "2021-04-06T10:53:52.194409Z",
     "start_time": "2021-04-06T10:53:50.741731Z"
    }
   },
   "outputs": [
    {
     "name": "stdout",
     "output_type": "stream",
     "text": [
      "Requirement already satisfied: fancyimpute in /home/local/CORP/lsasu/anaconda3/envs/ids/lib/python3.8/site-packages (0.5.5)\n",
      "Requirement already satisfied: tensorflow in /home/local/CORP/lsasu/anaconda3/envs/ids/lib/python3.8/site-packages (from fancyimpute) (2.4.1)\n",
      "Requirement already satisfied: knnimpute in /home/local/CORP/lsasu/anaconda3/envs/ids/lib/python3.8/site-packages (from fancyimpute) (0.1.0)\n",
      "Requirement already satisfied: keras>=2.0.0 in /home/local/CORP/lsasu/anaconda3/envs/ids/lib/python3.8/site-packages (from fancyimpute) (2.4.3)\n",
      "Requirement already satisfied: scipy in /home/local/CORP/lsasu/anaconda3/envs/ids/lib/python3.8/site-packages (from fancyimpute) (1.6.1)\n",
      "Requirement already satisfied: cvxpy>=1.0.6 in /home/local/CORP/lsasu/anaconda3/envs/ids/lib/python3.8/site-packages (from fancyimpute) (1.1.11)\n",
      "Requirement already satisfied: scikit-learn>=0.21.2 in /home/local/CORP/lsasu/anaconda3/envs/ids/lib/python3.8/site-packages (from fancyimpute) (0.24.1)\n",
      "Requirement already satisfied: numpy>=1.10 in /home/local/CORP/lsasu/anaconda3/envs/ids/lib/python3.8/site-packages (from fancyimpute) (1.19.2)\n",
      "Requirement already satisfied: osqp>=0.4.1 in /home/local/CORP/lsasu/anaconda3/envs/ids/lib/python3.8/site-packages (from cvxpy>=1.0.6->fancyimpute) (0.6.2.post0)\n",
      "Requirement already satisfied: ecos>=2 in /home/local/CORP/lsasu/anaconda3/envs/ids/lib/python3.8/site-packages (from cvxpy>=1.0.6->fancyimpute) (2.0.7.post1)\n",
      "Requirement already satisfied: scs>=1.1.6 in /home/local/CORP/lsasu/anaconda3/envs/ids/lib/python3.8/site-packages (from cvxpy>=1.0.6->fancyimpute) (2.1.2)\n",
      "Requirement already satisfied: pyyaml in /home/local/CORP/lsasu/anaconda3/envs/ids/lib/python3.8/site-packages (from keras>=2.0.0->fancyimpute) (5.4.1)\n",
      "Requirement already satisfied: h5py in /home/local/CORP/lsasu/anaconda3/envs/ids/lib/python3.8/site-packages (from keras>=2.0.0->fancyimpute) (2.10.0)\n",
      "Requirement already satisfied: qdldl in /home/local/CORP/lsasu/anaconda3/envs/ids/lib/python3.8/site-packages (from osqp>=0.4.1->cvxpy>=1.0.6->fancyimpute) (0.1.5.post0)\n",
      "Requirement already satisfied: joblib>=0.11 in /home/local/CORP/lsasu/anaconda3/envs/ids/lib/python3.8/site-packages (from scikit-learn>=0.21.2->fancyimpute) (1.0.1)\n",
      "Requirement already satisfied: threadpoolctl>=2.0.0 in /home/local/CORP/lsasu/anaconda3/envs/ids/lib/python3.8/site-packages (from scikit-learn>=0.21.2->fancyimpute) (2.1.0)\n",
      "Requirement already satisfied: six in /home/local/CORP/lsasu/anaconda3/envs/ids/lib/python3.8/site-packages (from h5py->keras>=2.0.0->fancyimpute) (1.15.0)\n",
      "Requirement already satisfied: protobuf>=3.9.2 in /home/local/CORP/lsasu/anaconda3/envs/ids/lib/python3.8/site-packages (from tensorflow->fancyimpute) (3.15.7)\n",
      "Requirement already satisfied: wheel~=0.35 in /home/local/CORP/lsasu/anaconda3/envs/ids/lib/python3.8/site-packages (from tensorflow->fancyimpute) (0.36.2)\n",
      "Requirement already satisfied: tensorboard~=2.4 in /home/local/CORP/lsasu/anaconda3/envs/ids/lib/python3.8/site-packages (from tensorflow->fancyimpute) (2.4.1)\n",
      "Requirement already satisfied: google-pasta~=0.2 in /home/local/CORP/lsasu/anaconda3/envs/ids/lib/python3.8/site-packages (from tensorflow->fancyimpute) (0.2.0)\n",
      "Requirement already satisfied: grpcio~=1.32.0 in /home/local/CORP/lsasu/anaconda3/envs/ids/lib/python3.8/site-packages (from tensorflow->fancyimpute) (1.32.0)\n",
      "Requirement already satisfied: typing-extensions~=3.7.4 in /home/local/CORP/lsasu/anaconda3/envs/ids/lib/python3.8/site-packages (from tensorflow->fancyimpute) (3.7.4.3)\n",
      "Requirement already satisfied: tensorflow-estimator<2.5.0,>=2.4.0 in /home/local/CORP/lsasu/anaconda3/envs/ids/lib/python3.8/site-packages (from tensorflow->fancyimpute) (2.4.0)\n",
      "Requirement already satisfied: wrapt~=1.12.1 in /home/local/CORP/lsasu/anaconda3/envs/ids/lib/python3.8/site-packages (from tensorflow->fancyimpute) (1.12.1)\n",
      "Requirement already satisfied: astunparse~=1.6.3 in /home/local/CORP/lsasu/anaconda3/envs/ids/lib/python3.8/site-packages (from tensorflow->fancyimpute) (1.6.3)\n",
      "Requirement already satisfied: flatbuffers~=1.12.0 in /home/local/CORP/lsasu/anaconda3/envs/ids/lib/python3.8/site-packages (from tensorflow->fancyimpute) (1.12)\n",
      "Requirement already satisfied: termcolor~=1.1.0 in /home/local/CORP/lsasu/anaconda3/envs/ids/lib/python3.8/site-packages (from tensorflow->fancyimpute) (1.1.0)\n",
      "Requirement already satisfied: absl-py~=0.10 in /home/local/CORP/lsasu/anaconda3/envs/ids/lib/python3.8/site-packages (from tensorflow->fancyimpute) (0.12.0)\n",
      "Requirement already satisfied: keras-preprocessing~=1.1.2 in /home/local/CORP/lsasu/anaconda3/envs/ids/lib/python3.8/site-packages (from tensorflow->fancyimpute) (1.1.2)\n",
      "Requirement already satisfied: opt-einsum~=3.3.0 in /home/local/CORP/lsasu/anaconda3/envs/ids/lib/python3.8/site-packages (from tensorflow->fancyimpute) (3.3.0)\n",
      "Requirement already satisfied: gast==0.3.3 in /home/local/CORP/lsasu/anaconda3/envs/ids/lib/python3.8/site-packages (from tensorflow->fancyimpute) (0.3.3)\n",
      "Requirement already satisfied: requests<3,>=2.21.0 in /home/local/CORP/lsasu/anaconda3/envs/ids/lib/python3.8/site-packages (from tensorboard~=2.4->tensorflow->fancyimpute) (2.25.1)\n",
      "Requirement already satisfied: setuptools>=41.0.0 in /home/local/CORP/lsasu/anaconda3/envs/ids/lib/python3.8/site-packages (from tensorboard~=2.4->tensorflow->fancyimpute) (52.0.0.post20210125)\n",
      "Requirement already satisfied: tensorboard-plugin-wit>=1.6.0 in /home/local/CORP/lsasu/anaconda3/envs/ids/lib/python3.8/site-packages (from tensorboard~=2.4->tensorflow->fancyimpute) (1.8.0)\n",
      "Requirement already satisfied: google-auth<2,>=1.6.3 in /home/local/CORP/lsasu/anaconda3/envs/ids/lib/python3.8/site-packages (from tensorboard~=2.4->tensorflow->fancyimpute) (1.28.0)\n",
      "Requirement already satisfied: google-auth-oauthlib<0.5,>=0.4.1 in /home/local/CORP/lsasu/anaconda3/envs/ids/lib/python3.8/site-packages (from tensorboard~=2.4->tensorflow->fancyimpute) (0.4.4)\n",
      "Requirement already satisfied: markdown>=2.6.8 in /home/local/CORP/lsasu/anaconda3/envs/ids/lib/python3.8/site-packages (from tensorboard~=2.4->tensorflow->fancyimpute) (3.3.4)\n",
      "Requirement already satisfied: werkzeug>=0.11.15 in /home/local/CORP/lsasu/anaconda3/envs/ids/lib/python3.8/site-packages (from tensorboard~=2.4->tensorflow->fancyimpute) (1.0.1)\n",
      "Requirement already satisfied: cachetools<5.0,>=2.0.0 in /home/local/CORP/lsasu/anaconda3/envs/ids/lib/python3.8/site-packages (from google-auth<2,>=1.6.3->tensorboard~=2.4->tensorflow->fancyimpute) (4.2.1)\n",
      "Requirement already satisfied: pyasn1-modules>=0.2.1 in /home/local/CORP/lsasu/anaconda3/envs/ids/lib/python3.8/site-packages (from google-auth<2,>=1.6.3->tensorboard~=2.4->tensorflow->fancyimpute) (0.2.8)\n",
      "Requirement already satisfied: rsa<5,>=3.1.4 in /home/local/CORP/lsasu/anaconda3/envs/ids/lib/python3.8/site-packages (from google-auth<2,>=1.6.3->tensorboard~=2.4->tensorflow->fancyimpute) (4.7.2)\n",
      "Requirement already satisfied: requests-oauthlib>=0.7.0 in /home/local/CORP/lsasu/anaconda3/envs/ids/lib/python3.8/site-packages (from google-auth-oauthlib<0.5,>=0.4.1->tensorboard~=2.4->tensorflow->fancyimpute) (1.3.0)\n",
      "Requirement already satisfied: pyasn1<0.5.0,>=0.4.6 in /home/local/CORP/lsasu/anaconda3/envs/ids/lib/python3.8/site-packages (from pyasn1-modules>=0.2.1->google-auth<2,>=1.6.3->tensorboard~=2.4->tensorflow->fancyimpute) (0.4.8)\n",
      "Requirement already satisfied: certifi>=2017.4.17 in /home/local/CORP/lsasu/anaconda3/envs/ids/lib/python3.8/site-packages (from requests<3,>=2.21.0->tensorboard~=2.4->tensorflow->fancyimpute) (2020.12.5)\n",
      "Requirement already satisfied: urllib3<1.27,>=1.21.1 in /home/local/CORP/lsasu/anaconda3/envs/ids/lib/python3.8/site-packages (from requests<3,>=2.21.0->tensorboard~=2.4->tensorflow->fancyimpute) (1.26.4)\n",
      "Requirement already satisfied: chardet<5,>=3.0.2 in /home/local/CORP/lsasu/anaconda3/envs/ids/lib/python3.8/site-packages (from requests<3,>=2.21.0->tensorboard~=2.4->tensorflow->fancyimpute) (4.0.0)\n",
      "Requirement already satisfied: idna<3,>=2.5 in /home/local/CORP/lsasu/anaconda3/envs/ids/lib/python3.8/site-packages (from requests<3,>=2.21.0->tensorboard~=2.4->tensorflow->fancyimpute) (2.10)\n",
      "Requirement already satisfied: oauthlib>=3.0.0 in /home/local/CORP/lsasu/anaconda3/envs/ids/lib/python3.8/site-packages (from requests-oauthlib>=0.7.0->google-auth-oauthlib<0.5,>=0.4.1->tensorboard~=2.4->tensorflow->fancyimpute) (3.1.0)\n"
     ]
    }
   ],
   "source": [
    "!pip install fancyimpute"
   ]
  },
  {
   "cell_type": "code",
   "execution_count": 3,
   "id": "tribal-projector",
   "metadata": {
    "ExecuteTime": {
     "end_time": "2021-04-06T10:53:53.552960Z",
     "start_time": "2021-04-06T10:53:52.197834Z"
    }
   },
   "outputs": [],
   "source": [
    "from fancyimpute import KNN, NuclearNormMinimization, SoftImpute, BiScaler"
   ]
  },
  {
   "cell_type": "code",
   "execution_count": 4,
   "id": "postal-viewer",
   "metadata": {
    "ExecuteTime": {
     "end_time": "2021-04-06T10:53:53.558472Z",
     "start_time": "2021-04-06T10:53:53.554581Z"
    }
   },
   "outputs": [],
   "source": [
    "X = np.random.rand(200, 5)\n",
    "# make some gaps in data\n",
    "X_orig = X.copy()\n",
    "assert not np.isnan(X_orig.sum())  # niciun nan\n",
    "lines = np.random.choice(X.shape[0], 10)\n",
    "cols = np.random.choice(X.shape[1], 10)\n",
    "X[lines, cols] = np.nan\n",
    "assert np.isnan(X.sum()) # cel putin un nan in X"
   ]
  },
  {
   "cell_type": "code",
   "execution_count": 5,
   "id": "occupied-grain",
   "metadata": {
    "ExecuteTime": {
     "end_time": "2021-04-06T10:53:53.571164Z",
     "start_time": "2021-04-06T10:53:53.559719Z"
    }
   },
   "outputs": [
    {
     "name": "stdout",
     "output_type": "stream",
     "text": [
      "Imputing row 1/200 with 0 missing, elapsed time: 0.006\n",
      "Imputing row 101/200 with 0 missing, elapsed time: 0.006\n"
     ]
    }
   ],
   "source": [
    "X_filled_knn = KNN(k=3).fit_transform(X)\n",
    "assert not np.isnan(X_filled_knn.sum())"
   ]
  },
  {
   "cell_type": "markdown",
   "id": "obvious-mounting",
   "metadata": {},
   "source": [
    "# missingpy"
   ]
  },
  {
   "cell_type": "code",
   "execution_count": 6,
   "id": "australian-andrews",
   "metadata": {
    "ExecuteTime": {
     "end_time": "2021-04-06T10:53:54.940883Z",
     "start_time": "2021-04-06T10:53:53.572603Z"
    }
   },
   "outputs": [
    {
     "name": "stdout",
     "output_type": "stream",
     "text": [
      "Requirement already satisfied: missingpy in /home/local/CORP/lsasu/anaconda3/envs/ids/lib/python3.8/site-packages (0.2.0)\r\n"
     ]
    }
   ],
   "source": [
    "!pip install missingpy"
   ]
  },
  {
   "cell_type": "code",
   "execution_count": 7,
   "id": "fleet-hands",
   "metadata": {
    "ExecuteTime": {
     "end_time": "2021-04-06T10:53:54.950388Z",
     "start_time": "2021-04-06T10:53:54.945335Z"
    }
   },
   "outputs": [],
   "source": [
    "# trick from https://stackoverflow.com/questions/60145652/no-module-named-sklearn-neighbors-base\n",
    "\n",
    "import sys\n",
    "import sklearn.neighbors._base\n",
    "sys.modules['sklearn.neighbors.base'] = sklearn.neighbors._base"
   ]
  },
  {
   "cell_type": "code",
   "execution_count": 8,
   "id": "opponent-edmonton",
   "metadata": {
    "ExecuteTime": {
     "end_time": "2021-04-06T10:53:54.981154Z",
     "start_time": "2021-04-06T10:53:54.954020Z"
    }
   },
   "outputs": [],
   "source": [
    "from missingpy import MissForest"
   ]
  },
  {
   "cell_type": "code",
   "execution_count": 9,
   "id": "suffering-faith",
   "metadata": {
    "ExecuteTime": {
     "end_time": "2021-04-06T10:53:54.985961Z",
     "start_time": "2021-04-06T10:53:54.983073Z"
    }
   },
   "outputs": [],
   "source": [
    "assert np.isnan(X.sum())  # niciun nan"
   ]
  },
  {
   "cell_type": "code",
   "execution_count": 10,
   "id": "commercial-helicopter",
   "metadata": {
    "ExecuteTime": {
     "end_time": "2021-04-06T10:53:54.990983Z",
     "start_time": "2021-04-06T10:53:54.988177Z"
    }
   },
   "outputs": [],
   "source": [
    "imputer = MissForest()"
   ]
  },
  {
   "cell_type": "code",
   "execution_count": 11,
   "id": "impossible-universe",
   "metadata": {
    "ExecuteTime": {
     "end_time": "2021-04-06T10:53:59.037119Z",
     "start_time": "2021-04-06T10:53:54.992472Z"
    }
   },
   "outputs": [
    {
     "name": "stdout",
     "output_type": "stream",
     "text": [
      "Iteration: 0\n",
      "Iteration: 1\n",
      "Iteration: 2\n"
     ]
    }
   ],
   "source": [
    "X_imputed = imputer.fit_transform(X)"
   ]
  },
  {
   "cell_type": "code",
   "execution_count": 12,
   "id": "cordless-outline",
   "metadata": {
    "ExecuteTime": {
     "end_time": "2021-04-06T10:53:59.043588Z",
     "start_time": "2021-04-06T10:53:59.039913Z"
    }
   },
   "outputs": [],
   "source": [
    "assert not np.isnan(X_imputed.sum())  # nu exista nan in X_imputed"
   ]
  },
  {
   "cell_type": "code",
   "execution_count": null,
   "id": "recent-pattern",
   "metadata": {},
   "outputs": [],
   "source": [
    "\n"
   ]
  }
 ],
 "metadata": {
  "kernelspec": {
   "display_name": "Python 3",
   "language": "python",
   "name": "python3"
  },
  "language_info": {
   "codemirror_mode": {
    "name": "ipython",
    "version": 3
   },
   "file_extension": ".py",
   "mimetype": "text/x-python",
   "name": "python",
   "nbconvert_exporter": "python",
   "pygments_lexer": "ipython3",
   "version": "3.8.8"
  },
  "toc": {
   "base_numbering": 1,
   "nav_menu": {},
   "number_sections": true,
   "sideBar": true,
   "skip_h1_title": false,
   "title_cell": "Table of Contents",
   "title_sidebar": "Contents",
   "toc_cell": false,
   "toc_position": {},
   "toc_section_display": true,
   "toc_window_display": false
  }
 },
 "nbformat": 4,
 "nbformat_minor": 5
}
