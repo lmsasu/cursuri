{
 "cells": [
  {
   "cell_type": "markdown",
   "id": "15c012f4",
   "metadata": {
    "ExecuteTime": {
     "end_time": "2021-04-06T11:43:14.586905Z",
     "start_time": "2021-04-06T11:43:10.584260Z"
    }
   },
   "source": [
    "# Missing value imputation\n",
    "\n",
    "Se exemplifica cateva pachete Python 3rd party pentru missing value imputation.\n",
    "\n",
    "Surse:\n",
    "1. [fancyimpute](https://github.com/iskandr/fancyimpute)\n",
    "1. [missingpy](https://github.com/epsilon-machine/missingpy)\n",
    "1. [sklearn](https://scikit-learn.org/stable/modules/impute.html)"
   ]
  },
  {
   "cell_type": "markdown",
   "id": "f287f55f",
   "metadata": {},
   "source": [
    "## Pregatirea datelor"
   ]
  },
  {
   "cell_type": "code",
   "execution_count": 10,
   "id": "aa3673da",
   "metadata": {
    "ExecuteTime": {
     "end_time": "2021-04-06T14:10:03.487023Z",
     "start_time": "2021-04-06T14:10:03.039749Z"
    }
   },
   "outputs": [],
   "source": [
    "import numpy as np\n",
    "np.random.seed = 1"
   ]
  },
  {
   "cell_type": "code",
   "execution_count": 11,
   "id": "postal-viewer",
   "metadata": {
    "ExecuteTime": {
     "end_time": "2021-04-06T14:10:03.513951Z",
     "start_time": "2021-04-06T14:10:03.496997Z"
    }
   },
   "outputs": [],
   "source": [
    "# pregateste date fara valori lipsa\n",
    "\n",
    "X = np.random.rand(200, 5)\n",
    "X_orig = X.copy()\n",
    "assert not np.isnan(X_orig.sum())  # niciun nan"
   ]
  },
  {
   "cell_type": "code",
   "execution_count": 12,
   "id": "0d6bfa74",
   "metadata": {
    "ExecuteTime": {
     "end_time": "2021-04-06T15:12:02.416782Z",
     "start_time": "2021-04-06T15:12:01.409429Z"
    }
   },
   "outputs": [],
   "source": [
    "# producem artificial niste valori lipsa in setul de date\n",
    "\n",
    "lines = np.random.choice(X.shape[0], 10)\n",
    "cols = np.random.choice(X.shape[1], 10)\n",
    "X[lines, cols] = np.nan\n",
    "assert np.isnan(X.sum()) # cel putin un nan in X"
   ]
  },
  {
   "cell_type": "markdown",
   "id": "163dc031",
   "metadata": {},
   "source": [
    "## Scikit Learn IterativeImputer"
   ]
  },
  {
   "cell_type": "code",
   "execution_count": 13,
   "id": "a7a3781e",
   "metadata": {
    "ExecuteTime": {
     "end_time": "2021-04-06T14:11:17.770825Z",
     "start_time": "2021-04-06T14:11:17.756863Z"
    }
   },
   "outputs": [],
   "source": [
    "from sklearn.experimental import enable_iterative_imputer\n",
    "from sklearn.impute import IterativeImputer"
   ]
  },
  {
   "cell_type": "code",
   "execution_count": 14,
   "id": "170bbece",
   "metadata": {
    "ExecuteTime": {
     "end_time": "2021-04-06T15:25:49.854737Z",
     "start_time": "2021-04-06T15:25:48.990977Z"
    }
   },
   "outputs": [],
   "source": [
    "imp = IterativeImputer(max_iter=10, random_state=0)\n",
    "X_filled_sklearn = imp.fit_transform(X)\n",
    "assert not np.isnan(X_filled_sklearn.sum())"
   ]
  },
  {
   "cell_type": "code",
   "execution_count": 15,
   "id": "c74cae90",
   "metadata": {
    "ExecuteTime": {
     "end_time": "2021-04-06T15:26:01.198061Z",
     "start_time": "2021-04-06T15:26:01.185096Z"
    }
   },
   "outputs": [
    {
     "data": {
      "text/plain": [
       "0.7614000100614554"
      ]
     },
     "execution_count": 15,
     "metadata": {},
     "output_type": "execute_result"
    }
   ],
   "source": [
    "# Masuram diferenta intre datele originare si cele rezultate in urma umplerii de valori lipsa\n",
    "\n",
    "np.linalg.norm(X_filled_sklearn-X_orig)"
   ]
  },
  {
   "cell_type": "markdown",
   "id": "d42f9258",
   "metadata": {},
   "source": [
    "## ScikitLearn KNNImputer"
   ]
  },
  {
   "cell_type": "code",
   "execution_count": 16,
   "id": "f76d0999",
   "metadata": {},
   "outputs": [],
   "source": [
    "from sklearn.impute import KNNImputer\n",
    "from sklearn.preprocessing import MinMaxScaler\n",
    "\n",
    "# Intrucat k nearst neighbors folosetse distante intre vectori, se va face scalarea datelor in prealabil\n",
    "scaler = MinMaxScaler(feature_range=(0, 1))\n",
    "X_scaled = scaler.fit_transform(X)\n",
    "\n",
    "# obiectul care efectueaza scalarea este util mai deprte, pentru a face transformarea inversa"
   ]
  },
  {
   "cell_type": "code",
   "execution_count": 17,
   "id": "bb07b0aa",
   "metadata": {},
   "outputs": [],
   "source": [
    "# Cream obiectul care va face umplerea valorilor goale\n",
    "knn_imp = KNNImputer(missing_values=np.nan, n_neighbors=10, weights='uniform', metric='nan_euclidean')\n",
    "X_imputed = knn_imp.fit_transform(X_scaled)\n",
    "# de-scalam datele\n",
    "X_imputed_unscaled = scaler.inverse_transform(X_imputed)"
   ]
  },
  {
   "cell_type": "code",
   "execution_count": 18,
   "id": "a5805d4a",
   "metadata": {},
   "outputs": [
    {
     "data": {
      "text/plain": [
       "0.7111147808185497"
      ]
     },
     "execution_count": 18,
     "metadata": {},
     "output_type": "execute_result"
    }
   ],
   "source": [
    "# Masuram diferenta intre datele originare si cele rezultate in urma umplerii de valori lipsa\n",
    "\n",
    "np.linalg.norm(X_imputed_unscaled-X_orig)"
   ]
  },
  {
   "cell_type": "markdown",
   "id": "clear-things",
   "metadata": {},
   "source": [
    "## Pachetul fancyimpute"
   ]
  },
  {
   "cell_type": "code",
   "execution_count": 19,
   "id": "hidden-interest",
   "metadata": {
    "ExecuteTime": {
     "end_time": "2021-04-06T14:10:23.014395Z",
     "start_time": "2021-04-06T14:10:03.540885Z"
    }
   },
   "outputs": [
    {
     "name": "stdout",
     "output_type": "stream",
     "text": [
      "Requirement already satisfied: fancyimpute in c:\\users\\lucian\\anaconda3\\envs\\ids\\lib\\site-packages (0.7.0)\n",
      "Requirement already satisfied: cvxpy in c:\\users\\lucian\\anaconda3\\envs\\ids\\lib\\site-packages (from fancyimpute) (1.2.2)\n",
      "Requirement already satisfied: knnimpute>=0.1.0 in c:\\users\\lucian\\anaconda3\\envs\\ids\\lib\\site-packages (from fancyimpute) (0.1.0)\n",
      "Requirement already satisfied: nose in c:\\users\\lucian\\anaconda3\\envs\\ids\\lib\\site-packages (from fancyimpute) (1.3.7)\n",
      "Requirement already satisfied: scikit-learn>=0.24.2 in c:\\users\\lucian\\anaconda3\\envs\\ids\\lib\\site-packages (from fancyimpute) (1.1.3)\n",
      "Requirement already satisfied: pytest in c:\\users\\lucian\\anaconda3\\envs\\ids\\lib\\site-packages (from fancyimpute) (7.1.2)\n",
      "Requirement already satisfied: cvxopt in c:\\users\\lucian\\anaconda3\\envs\\ids\\lib\\site-packages (from fancyimpute) (1.3.0)\n",
      "Requirement already satisfied: six in c:\\users\\lucian\\anaconda3\\envs\\ids\\lib\\site-packages (from knnimpute>=0.1.0->fancyimpute) (1.16.0)\n",
      "Requirement already satisfied: numpy>=1.10 in c:\\users\\lucian\\anaconda3\\envs\\ids\\lib\\site-packages (from knnimpute>=0.1.0->fancyimpute) (1.23.4)\n",
      "Requirement already satisfied: threadpoolctl>=2.0.0 in c:\\users\\lucian\\anaconda3\\envs\\ids\\lib\\site-packages (from scikit-learn>=0.24.2->fancyimpute) (2.2.0)\n",
      "Requirement already satisfied: scipy>=1.3.2 in c:\\users\\lucian\\anaconda3\\envs\\ids\\lib\\site-packages (from scikit-learn>=0.24.2->fancyimpute) (1.9.3)\n",
      "Requirement already satisfied: joblib>=1.0.0 in c:\\users\\lucian\\anaconda3\\envs\\ids\\lib\\site-packages (from scikit-learn>=0.24.2->fancyimpute) (1.1.1)\n",
      "Requirement already satisfied: osqp>=0.4.1 in c:\\users\\lucian\\anaconda3\\envs\\ids\\lib\\site-packages (from cvxpy->fancyimpute) (0.6.2.post5)\n",
      "Requirement already satisfied: scs>=1.1.6 in c:\\users\\lucian\\anaconda3\\envs\\ids\\lib\\site-packages (from cvxpy->fancyimpute) (3.2.2)\n",
      "Requirement already satisfied: ecos>=2 in c:\\users\\lucian\\anaconda3\\envs\\ids\\lib\\site-packages (from cvxpy->fancyimpute) (2.0.10)\n",
      "Requirement already satisfied: attrs>=19.2.0 in c:\\users\\lucian\\anaconda3\\envs\\ids\\lib\\site-packages (from pytest->fancyimpute) (21.4.0)\n",
      "Requirement already satisfied: iniconfig in c:\\users\\lucian\\anaconda3\\envs\\ids\\lib\\site-packages (from pytest->fancyimpute) (1.1.1)\n",
      "Requirement already satisfied: packaging in c:\\users\\lucian\\anaconda3\\envs\\ids\\lib\\site-packages (from pytest->fancyimpute) (21.3)\n",
      "Requirement already satisfied: pluggy<2.0,>=0.12 in c:\\users\\lucian\\anaconda3\\envs\\ids\\lib\\site-packages (from pytest->fancyimpute) (1.0.0)\n",
      "Requirement already satisfied: py>=1.8.2 in c:\\users\\lucian\\anaconda3\\envs\\ids\\lib\\site-packages (from pytest->fancyimpute) (1.11.0)\n",
      "Requirement already satisfied: tomli>=1.0.0 in c:\\users\\lucian\\anaconda3\\envs\\ids\\lib\\site-packages (from pytest->fancyimpute) (2.0.1)\n",
      "Requirement already satisfied: atomicwrites>=1.0 in c:\\users\\lucian\\anaconda3\\envs\\ids\\lib\\site-packages (from pytest->fancyimpute) (1.4.0)\n",
      "Requirement already satisfied: colorama in c:\\users\\lucian\\anaconda3\\envs\\ids\\lib\\site-packages (from pytest->fancyimpute) (0.4.5)\n",
      "Requirement already satisfied: qdldl in c:\\users\\lucian\\anaconda3\\envs\\ids\\lib\\site-packages (from osqp>=0.4.1->cvxpy->fancyimpute) (0.1.5.post2)\n",
      "Requirement already satisfied: pyparsing!=3.0.5,>=2.0.2 in c:\\users\\lucian\\anaconda3\\envs\\ids\\lib\\site-packages (from packaging->pytest->fancyimpute) (3.0.9)\n"
     ]
    }
   ],
   "source": [
    "# instalarea dureaza cateva minute, puteti rula comanda in conda prompt pentru a vedea progresul \n",
    "\n",
    "!pip install fancyimpute"
   ]
  },
  {
   "cell_type": "markdown",
   "id": "9ab8b93f",
   "metadata": {},
   "source": [
    "**Nota:** daca la importul de mai jos apare eroare de forma:\n",
    "`RuntimeError: module compiled against API version 0xe but this version of numpy is 0xd`\n",
    "atunci faceti upgrade de numpy, folosind:\n",
    "```\n",
    "pip install -U numpy\n",
    "```\n",
    "\n",
    "Este posibil ca instalarea lui fancyimpute sa faca downgrade la pachetul numpy, acesta trebuie restaurat.\n",
    "\n",
    "Desigur, puteti rula comenzile de pip direct in conda prompt, in virtual environment dedicat. "
   ]
  },
  {
   "cell_type": "code",
   "execution_count": 20,
   "id": "5f430b31",
   "metadata": {
    "ExecuteTime": {
     "end_time": "2021-04-06T14:10:40.237235Z",
     "start_time": "2021-04-06T14:10:23.021378Z"
    }
   },
   "outputs": [
    {
     "name": "stdout",
     "output_type": "stream",
     "text": [
      "Requirement already satisfied: numpy in c:\\users\\lucian\\anaconda3\\envs\\ids\\lib\\site-packages (1.23.4)\n"
     ]
    }
   ],
   "source": [
    "!pip install -U numpy"
   ]
  },
  {
   "cell_type": "code",
   "execution_count": 21,
   "id": "tribal-projector",
   "metadata": {
    "ExecuteTime": {
     "end_time": "2021-04-06T15:16:51.219286Z",
     "start_time": "2021-04-06T15:16:50.924472Z"
    }
   },
   "outputs": [],
   "source": [
    "from fancyimpute import IterativeImputer, SoftImpute"
   ]
  },
  {
   "cell_type": "markdown",
   "id": "a4298a80",
   "metadata": {},
   "source": [
    "### fancyimpute.SoftImpute"
   ]
  },
  {
   "cell_type": "code",
   "execution_count": 22,
   "id": "occupied-grain",
   "metadata": {
    "ExecuteTime": {
     "end_time": "2021-04-06T15:17:57.173191Z",
     "start_time": "2021-04-06T15:17:57.021526Z"
    }
   },
   "outputs": [
    {
     "name": "stdout",
     "output_type": "stream",
     "text": [
      "[SoftImpute] Max Singular Value of X_init = 16.518847\n",
      "[SoftImpute] Iter 1: observed MAE=0.019398 rank=5\n",
      "[SoftImpute] Iter 2: observed MAE=0.019419 rank=5\n",
      "[SoftImpute] Iter 3: observed MAE=0.019438 rank=5\n",
      "[SoftImpute] Iter 4: observed MAE=0.019454 rank=5\n",
      "[SoftImpute] Iter 5: observed MAE=0.019468 rank=5\n",
      "[SoftImpute] Iter 6: observed MAE=0.019480 rank=5\n",
      "[SoftImpute] Iter 7: observed MAE=0.019491 rank=5\n",
      "[SoftImpute] Iter 8: observed MAE=0.019500 rank=5\n",
      "[SoftImpute] Iter 9: observed MAE=0.019509 rank=5\n",
      "[SoftImpute] Iter 10: observed MAE=0.019516 rank=5\n",
      "[SoftImpute] Iter 11: observed MAE=0.019523 rank=5\n",
      "[SoftImpute] Iter 12: observed MAE=0.019528 rank=5\n",
      "[SoftImpute] Iter 13: observed MAE=0.019533 rank=5\n",
      "[SoftImpute] Iter 14: observed MAE=0.019538 rank=5\n",
      "[SoftImpute] Iter 15: observed MAE=0.019541 rank=5\n",
      "[SoftImpute] Iter 16: observed MAE=0.019545 rank=5\n",
      "[SoftImpute] Iter 17: observed MAE=0.019548 rank=5\n",
      "[SoftImpute] Iter 18: observed MAE=0.019550 rank=5\n",
      "[SoftImpute] Iter 19: observed MAE=0.019553 rank=5\n",
      "[SoftImpute] Iter 20: observed MAE=0.019555 rank=5\n",
      "[SoftImpute] Iter 21: observed MAE=0.019557 rank=5\n",
      "[SoftImpute] Iter 22: observed MAE=0.019559 rank=5\n",
      "[SoftImpute] Iter 23: observed MAE=0.019560 rank=5\n",
      "[SoftImpute] Iter 24: observed MAE=0.019562 rank=5\n",
      "[SoftImpute] Iter 25: observed MAE=0.019563 rank=5\n",
      "[SoftImpute] Iter 26: observed MAE=0.019564 rank=5\n",
      "[SoftImpute] Iter 27: observed MAE=0.019565 rank=5\n",
      "[SoftImpute] Iter 28: observed MAE=0.019566 rank=5\n",
      "[SoftImpute] Iter 29: observed MAE=0.019567 rank=5\n",
      "[SoftImpute] Iter 30: observed MAE=0.019567 rank=5\n",
      "[SoftImpute] Iter 31: observed MAE=0.019568 rank=5\n",
      "[SoftImpute] Iter 32: observed MAE=0.019568 rank=5\n",
      "[SoftImpute] Iter 33: observed MAE=0.019569 rank=5\n",
      "[SoftImpute] Iter 34: observed MAE=0.019569 rank=5\n",
      "[SoftImpute] Iter 35: observed MAE=0.019570 rank=5\n",
      "[SoftImpute] Iter 36: observed MAE=0.019570 rank=5\n",
      "[SoftImpute] Iter 37: observed MAE=0.019570 rank=5\n",
      "[SoftImpute] Iter 38: observed MAE=0.019571 rank=5\n",
      "[SoftImpute] Iter 39: observed MAE=0.019571 rank=5\n",
      "[SoftImpute] Iter 40: observed MAE=0.019571 rank=5\n",
      "[SoftImpute] Iter 41: observed MAE=0.019571 rank=5\n",
      "[SoftImpute] Iter 42: observed MAE=0.019572 rank=5\n",
      "[SoftImpute] Iter 43: observed MAE=0.019572 rank=5\n",
      "[SoftImpute] Iter 44: observed MAE=0.019572 rank=5\n",
      "[SoftImpute] Iter 45: observed MAE=0.019572 rank=5\n",
      "[SoftImpute] Iter 46: observed MAE=0.019572 rank=5\n",
      "[SoftImpute] Iter 47: observed MAE=0.019572 rank=5\n",
      "[SoftImpute] Iter 48: observed MAE=0.019572 rank=5\n",
      "[SoftImpute] Iter 49: observed MAE=0.019572 rank=5\n",
      "[SoftImpute] Iter 50: observed MAE=0.019573 rank=5\n",
      "[SoftImpute] Iter 51: observed MAE=0.019573 rank=5\n",
      "[SoftImpute] Iter 52: observed MAE=0.019573 rank=5\n",
      "[SoftImpute] Iter 53: observed MAE=0.019573 rank=5\n",
      "[SoftImpute] Iter 54: observed MAE=0.019573 rank=5\n",
      "[SoftImpute] Iter 55: observed MAE=0.019573 rank=5\n",
      "[SoftImpute] Iter 56: observed MAE=0.019573 rank=5\n",
      "[SoftImpute] Iter 57: observed MAE=0.019573 rank=5\n",
      "[SoftImpute] Iter 58: observed MAE=0.019573 rank=5\n",
      "[SoftImpute] Iter 59: observed MAE=0.019573 rank=5\n",
      "[SoftImpute] Iter 60: observed MAE=0.019573 rank=5\n",
      "[SoftImpute] Stopped after iteration 60 for lambda=0.330377\n"
     ]
    }
   ],
   "source": [
    "X_filled_softimpute = SoftImpute().fit_transform(X)\n",
    "# verificam ca nu avem date lipsa\n",
    "assert not np.isnan(X_filled_softimpute.sum())"
   ]
  },
  {
   "cell_type": "code",
   "execution_count": 23,
   "id": "39eabae6",
   "metadata": {
    "ExecuteTime": {
     "end_time": "2021-04-06T15:17:59.579249Z",
     "start_time": "2021-04-06T15:17:59.538351Z"
    }
   },
   "outputs": [
    {
     "data": {
      "text/plain": [
       "1.0134919822726245"
      ]
     },
     "execution_count": 23,
     "metadata": {},
     "output_type": "execute_result"
    }
   ],
   "source": [
    "# diferenta intre setul originar si cel cu date lipsa umplute prin estimare\n",
    "\n",
    "np.linalg.norm(X_filled_softimpute-X_orig)"
   ]
  },
  {
   "cell_type": "markdown",
   "id": "c886d8a8",
   "metadata": {},
   "source": [
    "### fancyimpute.IterativeImputer"
   ]
  },
  {
   "cell_type": "code",
   "execution_count": 24,
   "id": "da2e5304",
   "metadata": {},
   "outputs": [],
   "source": [
    "X_filled_iterative = IterativeImputer().fit_transform(X)\n",
    "# verificam ca nu avem date lipsa\n",
    "assert not np.isnan(X_filled_iterative.sum())"
   ]
  },
  {
   "cell_type": "code",
   "execution_count": 25,
   "id": "4f8ce248",
   "metadata": {},
   "outputs": [
    {
     "data": {
      "text/plain": [
       "0.7614000100614554"
      ]
     },
     "execution_count": 25,
     "metadata": {},
     "output_type": "execute_result"
    }
   ],
   "source": [
    "# diferenta intre setul originar si cel cu date lipsa umplute prin estimare\n",
    "\n",
    "np.linalg.norm(X_filled_iterative-X_orig)"
   ]
  },
  {
   "cell_type": "markdown",
   "id": "obvious-mounting",
   "metadata": {},
   "source": [
    "## Pachetul missingpy"
   ]
  },
  {
   "cell_type": "code",
   "execution_count": 45,
   "id": "australian-andrews",
   "metadata": {
    "ExecuteTime": {
     "end_time": "2021-04-06T14:11:12.234075Z",
     "start_time": "2021-04-06T14:11:04.932878Z"
    }
   },
   "outputs": [
    {
     "name": "stdout",
     "output_type": "stream",
     "text": [
      "Requirement already satisfied: missingpy in c:\\users\\lucian\\anaconda3\\envs\\ids\\lib\\site-packages (0.2.0)\n"
     ]
    }
   ],
   "source": [
    "!pip install missingpy"
   ]
  },
  {
   "cell_type": "code",
   "execution_count": 26,
   "id": "fleet-hands",
   "metadata": {
    "ExecuteTime": {
     "end_time": "2021-04-06T14:11:12.246045Z",
     "start_time": "2021-04-06T14:11:12.238068Z"
    }
   },
   "outputs": [],
   "source": [
    "# to avoid ModuleNotFoundError: No module named 'sklearn.neighbors.base' we use the trick below\n",
    "# from https://stackoverflow.com/questions/60145652/no-module-named-sklearn-neighbors-base\n",
    "\n",
    "import sys\n",
    "import sklearn.neighbors._base\n",
    "sys.modules['sklearn.neighbors.base'] = sklearn.neighbors._base"
   ]
  },
  {
   "cell_type": "code",
   "execution_count": 27,
   "id": "opponent-edmonton",
   "metadata": {
    "ExecuteTime": {
     "end_time": "2021-04-06T15:21:01.944685Z",
     "start_time": "2021-04-06T15:21:01.565666Z"
    }
   },
   "outputs": [],
   "source": [
    "from missingpy import MissForest"
   ]
  },
  {
   "cell_type": "code",
   "execution_count": 28,
   "id": "commercial-helicopter",
   "metadata": {
    "ExecuteTime": {
     "end_time": "2021-04-06T15:21:06.238849Z",
     "start_time": "2021-04-06T15:21:04.943447Z"
    }
   },
   "outputs": [],
   "source": [
    "imputer = MissForest(criterion='squared_error', max_features=1)"
   ]
  },
  {
   "cell_type": "code",
   "execution_count": 29,
   "id": "impossible-universe",
   "metadata": {
    "ExecuteTime": {
     "end_time": "2021-04-06T15:22:24.686786Z",
     "start_time": "2021-04-06T15:22:02.607933Z"
    }
   },
   "outputs": [
    {
     "name": "stdout",
     "output_type": "stream",
     "text": [
      "Iteration: 0\n",
      "Iteration: 1\n",
      "Iteration: 2\n",
      "Iteration: 3\n"
     ]
    }
   ],
   "source": [
    "X_filled_missingpy = imputer.fit_transform(X)"
   ]
  },
  {
   "cell_type": "code",
   "execution_count": 30,
   "id": "cordless-outline",
   "metadata": {
    "ExecuteTime": {
     "end_time": "2021-04-06T14:11:17.710982Z",
     "start_time": "2021-04-06T14:11:17.703005Z"
    }
   },
   "outputs": [],
   "source": [
    "assert not np.isnan(X_filled_missingpy.sum())  # nu exista nan in X_imputed"
   ]
  },
  {
   "cell_type": "code",
   "execution_count": 31,
   "id": "recent-pattern",
   "metadata": {
    "ExecuteTime": {
     "end_time": "2021-04-06T15:22:52.615831Z",
     "start_time": "2021-04-06T15:22:52.594886Z"
    }
   },
   "outputs": [
    {
     "data": {
      "text/plain": [
       "0.7886835353041497"
      ]
     },
     "execution_count": 31,
     "metadata": {},
     "output_type": "execute_result"
    }
   ],
   "source": [
    "# diferenta intre setul originar si cel cu date lipsa umplute prin estimare\n",
    "\n",
    "np.linalg.norm(X_filled_missingpy-X_orig)"
   ]
  },
  {
   "cell_type": "code",
   "execution_count": null,
   "id": "90e862b3",
   "metadata": {},
   "outputs": [],
   "source": []
  }
 ],
 "metadata": {
  "kernelspec": {
   "display_name": "Python 3 (ipykernel)",
   "language": "python",
   "name": "python3"
  },
  "language_info": {
   "codemirror_mode": {
    "name": "ipython",
    "version": 3
   },
   "file_extension": ".py",
   "mimetype": "text/x-python",
   "name": "python",
   "nbconvert_exporter": "python",
   "pygments_lexer": "ipython3",
   "version": "3.9.13"
  },
  "toc": {
   "base_numbering": 1,
   "nav_menu": {},
   "number_sections": true,
   "sideBar": true,
   "skip_h1_title": false,
   "title_cell": "Table of Contents",
   "title_sidebar": "Contents",
   "toc_cell": false,
   "toc_position": {
    "height": "calc(100% - 180px)",
    "left": "10px",
    "top": "150px",
    "width": "199.27px"
   },
   "toc_section_display": true,
   "toc_window_display": false
  },
  "varInspector": {
   "cols": {
    "lenName": 16,
    "lenType": 16,
    "lenVar": 40
   },
   "kernels_config": {
    "python": {
     "delete_cmd_postfix": "",
     "delete_cmd_prefix": "del ",
     "library": "var_list.py",
     "varRefreshCmd": "print(var_dic_list())"
    },
    "r": {
     "delete_cmd_postfix": ") ",
     "delete_cmd_prefix": "rm(",
     "library": "var_list.r",
     "varRefreshCmd": "cat(var_dic_list()) "
    }
   },
   "types_to_exclude": [
    "module",
    "function",
    "builtin_function_or_method",
    "instance",
    "_Feature"
   ],
   "window_display": false
  }
 },
 "nbformat": 4,
 "nbformat_minor": 5
}
