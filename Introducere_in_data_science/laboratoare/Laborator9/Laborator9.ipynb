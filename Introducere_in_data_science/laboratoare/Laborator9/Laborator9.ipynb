{
 "cells": [
  {
   "cell_type": "markdown",
   "id": "6f40d08f",
   "metadata": {},
   "source": [
    "# Metrici de performanta pentru clasificatori: accuracy, precision, recall, F1 score"
   ]
  },
  {
   "cell_type": "markdown",
   "id": "aed5411d",
   "metadata": {},
   "source": [
    "Resurse:\n",
    "* [Understanding Accuracy, Recall, Precision, F1 Scores, and Confusion Matrices](https://towardsdatascience.com/understanding-accuracy-recall-precision-f1-scores-and-confusion-matrices-561e0f5e328c)\n",
    "* [Accuracy, Precision, Recall or F1?](https://towardsdatascience.com/accuracy-precision-recall-or-f1-331fb37c5cb9)"
   ]
  },
  {
   "cell_type": "code",
   "execution_count": 1,
   "id": "3a3b2862",
   "metadata": {
    "ExecuteTime": {
     "end_time": "2021-04-20T07:13:08.219984Z",
     "start_time": "2021-04-20T07:13:06.799744Z"
    }
   },
   "outputs": [],
   "source": [
    "import numpy as np\n",
    "import sklearn\n",
    "from sklearn.metrics import accuracy_score, recall_score, precision_score, f1_score"
   ]
  },
  {
   "cell_type": "code",
   "execution_count": 2,
   "id": "82202251",
   "metadata": {
    "ExecuteTime": {
     "end_time": "2021-04-20T07:13:08.227413Z",
     "start_time": "2021-04-20T07:13:08.219984Z"
    }
   },
   "outputs": [
    {
     "name": "stdout",
     "output_type": "stream",
     "text": [
      "numpy version: 1.19.2\n",
      "sklearn version: 0.24.1\n"
     ]
    }
   ],
   "source": [
    "print(f'numpy version: {np.__version__}')\n",
    "print(f'sklearn version: {sklearn.__version__}')"
   ]
  },
  {
   "cell_type": "markdown",
   "id": "4325df4d",
   "metadata": {},
   "source": [
    "# Matrice de confuzie"
   ]
  },
  {
   "cell_type": "markdown",
   "id": "69837c73",
   "metadata": {},
   "source": [
    "Sa presupunem ca avem de construit un clasificator care sa eticheteze date care apartin la doua clase: 0 (negativ) si 1 (pozitiv). Exemple: mail spam (pozitiv) versus nonspam (negativ), o imagine contine un catelus (pozitiv) sau nu contine etc. \n",
    "\n",
    "Clasificatorul face anumite predictii de clasa, care pot fi sau nu conforme cu realitatea. Se obtine urmatoarea **matrice de confuzie**:"
   ]
  },
  {
   "cell_type": "markdown",
   "id": "2300fee2",
   "metadata": {},
   "source": [
    "<style type=\"text/css\">\n",
    ".tg  {border-collapse:collapse;border-color:#ccc;border-spacing:0;}\n",
    ".tg td{background-color:#fff;border-color:#ccc;border-style:solid;border-width:1px;color:#333;\n",
    "  font-family:Arial, sans-serif;font-size:14px;overflow:hidden;padding:10px 5px;word-break:normal;}\n",
    ".tg th{background-color:#f0f0f0;border-color:#ccc;border-style:solid;border-width:1px;color:#333;\n",
    "  font-family:Arial, sans-serif;font-size:14px;font-weight:normal;overflow:hidden;padding:10px 5px;word-break:normal;}\n",
    ".tg .tg-9wq8{border-color:inherit;text-align:center;vertical-align:middle}\n",
    ".tg .tg-baqh{text-align:center;vertical-align:top}\n",
    ".tg .tg-c3ow{border-color:inherit;text-align:center;vertical-align:top}\n",
    ".tg .tg-0pky{border-color:inherit;text-align:left;vertical-align:top}\n",
    ".tg .tg-7btt{border-color:inherit;font-weight:bold;text-align:center;vertical-align:top}\n",
    "@media screen and (max-width: 767px) {.tg {width: auto !important;}.tg col {width: auto !important;}.tg-wrap {overflow-x: auto;-webkit-overflow-scrolling: touch;}}</style>\n",
    "<div class=\"tg-wrap\"><table class=\"tg\">\n",
    "<thead>\n",
    "  <tr>\n",
    "    <th class=\"tg-0pky\"></th>\n",
    "    <th class=\"tg-0pky\"></th>\n",
    "    <th class=\"tg-c3ow\" colspan=\"3\"><span style=\"font-weight:bold\">Prezis (clasificat, inferat)</span></th>\n",
    "  </tr>\n",
    "</thead>\n",
    "<tbody>\n",
    "  <tr>\n",
    "    <td class=\"tg-0pky\"></td>\n",
    "    <td class=\"tg-0pky\"></td>\n",
    "    <td class=\"tg-7btt\">Positive</td>\n",
    "    <td class=\"tg-7btt\">Negative</td>\n",
    "    <td class=\"tg-baqh\"><span style=\"font-weight:bold\">Total</span></td>\n",
    "  </tr>\n",
    "  <tr>\n",
    "    <td class=\"tg-9wq8\" rowspan=\"2\"><span style=\"font-weight:bold\">Actual </span><br><span style=\"font-weight:bold\">(real, ground</span><br><span style=\"font-weight:bold\">truth)</span></td>\n",
    "    <td class=\"tg-7btt\">Positive</td>\n",
    "    <td class=\"tg-c3ow\">True positive<br>(TP)</td>\n",
    "    <td class=\"tg-c3ow\">False negative <br>(FN)</td>\n",
    "    <td class=\"tg-baqh\"><span style=\"font-weight:bold\">P</span></td>\n",
    "  </tr>\n",
    "  <tr>\n",
    "    <td class=\"tg-7btt\">Negative</td>\n",
    "    <td class=\"tg-c3ow\">False positive <br>(FP)</td>\n",
    "    <td class=\"tg-c3ow\">True negative<br>(TN)</td>\n",
    "    <td class=\"tg-baqh\"><span style=\"font-weight:bold\">N</span></td>\n",
    "  </tr>\n",
    "</tbody>\n",
    "</table></div>"
   ]
  },
  {
   "cell_type": "markdown",
   "id": "8f4b46ed",
   "metadata": {},
   "source": [
    "Avem:\n",
    "* P = TP + FN\n",
    "* N = FP + TN"
   ]
  },
  {
   "cell_type": "markdown",
   "id": "6e8bfedb",
   "metadata": {},
   "source": [
    "Ne dorim ca in afara diagonalei (valorile FP, FN) sa fie cat mai mici, ideal 0. \n",
    "\n",
    "Pe baza matricei de confuzie se calculeaza in mod direct acuratetea:\n",
    "$$\n",
    "Accuracy = \\frac{TP+TN}{P+N}\n",
    "$$"
   ]
  },
  {
   "cell_type": "markdown",
   "id": "16b92892",
   "metadata": {},
   "source": [
    "Acuratetea poate fi inselatoare in cazurile in care clasele sunt debalansate (numar foarte mare de exemplare intr-o clasa in comparatie cu numarul de date din cealalta clasa)."
   ]
  },
  {
   "cell_type": "markdown",
   "id": "3c2ab8d6",
   "metadata": {},
   "source": [
    "# Exemplu numeric 1"
   ]
  },
  {
   "cell_type": "markdown",
   "id": "15fc5134",
   "metadata": {},
   "source": [
    "<style type=\"text/css\">\n",
    ".tg  {border-collapse:collapse;border-color:#ccc;border-spacing:0;}\n",
    ".tg td{background-color:#fff;border-color:#ccc;border-style:solid;border-width:1px;color:#333;\n",
    "  font-family:Arial, sans-serif;font-size:14px;overflow:hidden;padding:10px 5px;word-break:normal;}\n",
    ".tg th{background-color:#f0f0f0;border-color:#ccc;border-style:solid;border-width:1px;color:#333;\n",
    "  font-family:Arial, sans-serif;font-size:14px;font-weight:normal;overflow:hidden;padding:10px 5px;word-break:normal;}\n",
    ".tg .tg-c3ow{border-color:inherit;text-align:center;vertical-align:top}\n",
    ".tg .tg-0pky{border-color:inherit;text-align:left;vertical-align:top}\n",
    ".tg .tg-7btt{border-color:inherit;font-weight:bold;text-align:center;vertical-align:top}\n",
    "@media screen and (max-width: 767px) {.tg {width: auto !important;}.tg col {width: auto !important;}.tg-wrap {overflow-x: auto;-webkit-overflow-scrolling: touch;}}</style>\n",
    "<div class=\"tg-wrap\"><table class=\"tg\">\n",
    "<thead>\n",
    "  <tr>\n",
    "    <th class=\"tg-0pky\"></th>\n",
    "    <th class=\"tg-0pky\"></th>\n",
    "    <th class=\"tg-c3ow\" colspan=\"3\"><span style=\"font-weight:bold\">Prezis (clasificat, inferat)</span></th>\n",
    "  </tr>\n",
    "</thead>\n",
    "<tbody>\n",
    "  <tr>\n",
    "    <td class=\"tg-0pky\"></td>\n",
    "    <td class=\"tg-0pky\"></td>\n",
    "    <td class=\"tg-7btt\">Positive</td>\n",
    "    <td class=\"tg-7btt\">Negative</td>\n",
    "    <td class=\"tg-c3ow\"><span style=\"font-weight:bold\">Total</span></td>\n",
    "  </tr>\n",
    "  <tr>\n",
    "    <td class=\"tg-c3ow\" rowspan=\"2\"><span style=\"font-weight:bold\">Actual </span><br><span style=\"font-weight:bold\">(real, ground</span><br><span style=\"font-weight:bold\">truth)</span></td>\n",
    "    <td class=\"tg-7btt\">Positive</td>\n",
    "    <td class=\"tg-c3ow\">998</td>\n",
    "    <td class=\"tg-c3ow\">0</td>\n",
    "    <td class=\"tg-c3ow\"><span style=\"font-weight:bold\">P=998</span></td>\n",
    "  </tr>\n",
    "  <tr>\n",
    "    <td class=\"tg-7btt\">Negative</td>\n",
    "    <td class=\"tg-c3ow\">1</td>\n",
    "    <td class=\"tg-c3ow\">1</td>\n",
    "    <td class=\"tg-c3ow\"><span style=\"font-weight:bold\">N=2</span></td>\n",
    "  </tr>\n",
    "</tbody>\n",
    "</table></div>"
   ]
  },
  {
   "cell_type": "markdown",
   "id": "71b6e856",
   "metadata": {},
   "source": [
    "In acest caz, acuratetea este: \n",
    "$$\n",
    "Accuracy = \\frac{998+1}{1000}=0.999 = 99.9\\%\n",
    "$$"
   ]
  },
  {
   "cell_type": "markdown",
   "id": "775c5872",
   "metadata": {},
   "source": [
    "Mai mult, pentru o astfel de situatie debalansata, un clasificator care prrezice mereu \"pozitiv\" are rata de succes de 99.8%!\n",
    "\n",
    "Daca acele 2 cazuri negativ sunt insa importante (incercare de frauda/intruziune, mail legitim si crucial care e clasificat eronat ca fiind spam), clasificarea este de fapt slaba. Precision, recall si F1 score sunt niste metrici senzitive la clase dezechilibrate. "
   ]
  },
  {
   "cell_type": "markdown",
   "id": "ed5eb165",
   "metadata": {},
   "source": [
    "# Precision"
   ]
  },
  {
   "cell_type": "markdown",
   "id": "0ef391d7",
   "metadata": {
    "ExecuteTime": {
     "end_time": "2021-04-20T06:35:49.729729Z",
     "start_time": "2021-04-20T06:35:49.700809Z"
    }
   },
   "source": [
    "Definitia preciziei unui clasificator binar (precision) este:\n",
    "$$\n",
    "Precision = \\frac{TP}{TP+FP}\n",
    "$$\n",
    "Pentru exemplul numeric de mai sus obtinem:\n",
    "$$\n",
    "Precision = \\frac{998}{998+1}=0.998998998998999=98.899\\%\n",
    "$$"
   ]
  },
  {
   "cell_type": "markdown",
   "id": "8d4f6915",
   "metadata": {
    "ExecuteTime": {
     "end_time": "2021-04-20T06:37:09.856797Z",
     "start_time": "2021-04-20T06:37:09.816895Z"
    }
   },
   "source": [
    "# Recall"
   ]
  },
  {
   "cell_type": "markdown",
   "id": "c0c1cc5d",
   "metadata": {},
   "source": [
    "Recall se defineste ca:\n",
    "$$\n",
    "Recall = \\frac{TP}{TP+FN} = \\frac{TP}{P} \n",
    "$$\n",
    "Pentru exemplul numeric de mai sus obtinem:\n",
    "$$\n",
    "Recall = \\frac{998}{998}=1\n",
    "$$"
   ]
  },
  {
   "cell_type": "markdown",
   "id": "c05ee5cd",
   "metadata": {},
   "source": [
    "# F1 score\n",
    "\n",
    "Scorul F1 se defineste ca medie armonica a precision si recall:\n",
    "$$\n",
    "F1 = 2 \\cdot \\frac{Precision \\cdot Recall}{Precision + Recall}\n",
    "$$\n",
    "Pentru exemplul numeric de mai sus obtinem:\n",
    "$$\n",
    "F1 = 2 \\cdot \\frac{\\frac{998}{999} \\cdot 1}{\\frac{998}{999} + 1} \\approx 0.99949\n",
    "$$"
   ]
  },
  {
   "cell_type": "markdown",
   "id": "eeb9ab7c",
   "metadata": {},
   "source": [
    "# Exemplu numeric 2"
   ]
  },
  {
   "cell_type": "code",
   "execution_count": 3,
   "id": "7ac05c70",
   "metadata": {
    "ExecuteTime": {
     "end_time": "2021-04-20T07:13:08.236388Z",
     "start_time": "2021-04-20T07:13:08.229406Z"
    }
   },
   "outputs": [],
   "source": [
    "# Actual Value\n",
    "labels =      np.array([1, 0, 0, 1, 1, 1, 0, 1, 1, 1])\n",
    "# Predicted Value\n",
    "predictions = np.array([0, 1, 1, 1, 1, 0, 1, 0, 1, 0])"
   ]
  },
  {
   "cell_type": "markdown",
   "id": "5da8b8fd",
   "metadata": {},
   "source": [
    "## Calcul folosind numpy"
   ]
  },
  {
   "cell_type": "code",
   "execution_count": 4,
   "id": "7ecaf042",
   "metadata": {
    "ExecuteTime": {
     "end_time": "2021-04-20T07:13:08.257332Z",
     "start_time": "2021-04-20T07:13:08.240378Z"
    }
   },
   "outputs": [
    {
     "name": "stdout",
     "output_type": "stream",
     "text": [
      "true positive: 3\n",
      "true negative: 0\n",
      "false positive: 3\n",
      "false negative: 4\n",
      "accuracy: 0.3\n",
      "precision: 0.5\n",
      "recall: 0.42857142857142855\n",
      "F1 score: 0.4615384615384615\n"
     ]
    }
   ],
   "source": [
    "# calcul manual de TP, FP etc\n",
    "\n",
    "accuracy = np.sum(labels == predictions)\n",
    "positive_mask = labels == 1 \n",
    "negative_mask = labels == 0\n",
    "P = np.sum(positive_mask)\n",
    "N = np.sum(negative_mask)\n",
    "TP = np.sum(predictions[positive_mask] == 1)\n",
    "print(f'true positive: {TP}')\n",
    "TN = np.sum(predictions[negative_mask] == 0)\n",
    "print(f'true negative: {TN}')\n",
    "FP = np.sum(predictions[negative_mask] == 1)\n",
    "print(f'false positive: {FP}')\n",
    "FN = np.sum(predictions[positive_mask] == 0)\n",
    "print(f'false negative: {FN}')\n",
    "\n",
    "accuracy = (TP+TN)/(P+N)\n",
    "precision = TP/(TP+FP)\n",
    "recall = TP/(TP+FN)\n",
    "print(f'accuracy: {accuracy}')\n",
    "print(f'precision: {precision}')\n",
    "print(f'recall: {recall}')\n",
    "print(f'F1 score: {2 * precision * recall / (precision + recall)}')"
   ]
  },
  {
   "cell_type": "code",
   "execution_count": 5,
   "id": "f0488f51",
   "metadata": {
    "ExecuteTime": {
     "end_time": "2021-04-20T07:13:08.265312Z",
     "start_time": "2021-04-20T07:13:08.260324Z"
    }
   },
   "outputs": [],
   "source": [
    "assert TP + FN == P, 'TP si FN trebuie sa dea P'\n",
    "assert TN + FP == N, 'TN si FP trebuie sa dea N'"
   ]
  },
  {
   "cell_type": "markdown",
   "id": "e42118b7",
   "metadata": {},
   "source": [
    "# Calcul folosind sklearn"
   ]
  },
  {
   "cell_type": "code",
   "execution_count": 6,
   "id": "c3f0efa5",
   "metadata": {
    "ExecuteTime": {
     "end_time": "2021-04-20T07:13:08.279276Z",
     "start_time": "2021-04-20T07:13:08.269300Z"
    }
   },
   "outputs": [
    {
     "name": "stdout",
     "output_type": "stream",
     "text": [
      "[[0 3]\n",
      " [4 3]]\n"
     ]
    }
   ],
   "source": [
    "from sklearn.metrics import confusion_matrix\n",
    "confusion = confusion_matrix(labels, predictions)\n",
    "print(confusion)\n",
    "# FN = confusion[1][0]\n",
    "# TN = confusion[0][0]\n",
    "# TP = confusion[1][1]\n",
    "# FP = confusion[0][1]"
   ]
  },
  {
   "cell_type": "code",
   "execution_count": 7,
   "id": "1ee8986a",
   "metadata": {
    "ExecuteTime": {
     "end_time": "2021-04-20T07:13:09.443161Z",
     "start_time": "2021-04-20T07:13:08.282265Z"
    }
   },
   "outputs": [
    {
     "data": {
      "image/png": "[encoded data removed]",
      "text/plain": [
       "<Figure size 432x288 with 2 Axes>"
      ]
     },
     "metadata": {
      "needs_background": "light"
     },
     "output_type": "display_data"
    }
   ],
   "source": [
    "# heatmap\n",
    "import seaborn as sns\n",
    "import matplotlib.pyplot as plt\n",
    "sns.heatmap(confusion , annot=True , xticklabels=['Negative' , 'Positive'] , yticklabels=['Negative' , 'Positive'])\n",
    "plt.ylabel(\"Label\")\n",
    "plt.xlabel(\"Predicted\")\n",
    "plt.show()"
   ]
  },
  {
   "cell_type": "code",
   "execution_count": 8,
   "id": "07e90a00",
   "metadata": {
    "ExecuteTime": {
     "end_time": "2021-04-20T07:13:09.455128Z",
     "start_time": "2021-04-20T07:13:09.448148Z"
    }
   },
   "outputs": [
    {
     "name": "stdout",
     "output_type": "stream",
     "text": [
      "Acuratete: 0.3\n"
     ]
    }
   ],
   "source": [
    "print(f'Acuratete: {accuracy_score(labels , predictions)}')"
   ]
  },
  {
   "cell_type": "code",
   "execution_count": 9,
   "id": "8154fb01",
   "metadata": {
    "ExecuteTime": {
     "end_time": "2021-04-20T07:13:09.482056Z",
     "start_time": "2021-04-20T07:13:09.465101Z"
    }
   },
   "outputs": [
    {
     "name": "stdout",
     "output_type": "stream",
     "text": [
      "Precision: 0.5\n"
     ]
    }
   ],
   "source": [
    "print(f'Precision: {precision_score(labels , predictions)}')"
   ]
  },
  {
   "cell_type": "code",
   "execution_count": 10,
   "id": "0b6a6086",
   "metadata": {
    "ExecuteTime": {
     "end_time": "2021-04-20T07:13:09.494025Z",
     "start_time": "2021-04-20T07:13:09.485052Z"
    }
   },
   "outputs": [
    {
     "name": "stdout",
     "output_type": "stream",
     "text": [
      "Recall: 0.42857142857142855\n"
     ]
    }
   ],
   "source": [
    "print(f'Recall: {recall_score(labels , predictions)}')"
   ]
  },
  {
   "cell_type": "code",
   "execution_count": 11,
   "id": "232fb768",
   "metadata": {
    "ExecuteTime": {
     "end_time": "2021-04-20T07:13:09.511977Z",
     "start_time": "2021-04-20T07:13:09.498015Z"
    }
   },
   "outputs": [
    {
     "name": "stdout",
     "output_type": "stream",
     "text": [
      "F1 score: 0.4615384615384615\n"
     ]
    }
   ],
   "source": [
    "print(f'F1 score: {f1_score(labels, predictions)}')"
   ]
  },
  {
   "cell_type": "code",
   "execution_count": 12,
   "id": "d2bfce3a",
   "metadata": {
    "ExecuteTime": {
     "end_time": "2021-04-20T07:13:09.534915Z",
     "start_time": "2021-04-20T07:13:09.513978Z"
    }
   },
   "outputs": [
    {
     "name": "stdout",
     "output_type": "stream",
     "text": [
      "              precision    recall  f1-score   support\n",
      "\n",
      "           0       0.00      0.00      0.00         3\n",
      "           1       0.50      0.43      0.46         7\n",
      "\n",
      "    accuracy                           0.30        10\n",
      "   macro avg       0.25      0.21      0.23        10\n",
      "weighted avg       0.35      0.30      0.32        10\n",
      "\n"
     ]
    }
   ],
   "source": [
    "from sklearn.metrics import classification_report\n",
    "print(classification_report(labels,predictions))"
   ]
  },
  {
   "cell_type": "code",
   "execution_count": null,
   "id": "21eff062",
   "metadata": {},
   "outputs": [],
   "source": []
  }
 ],
 "metadata": {
  "kernelspec": {
   "display_name": "Python 3",
   "language": "python",
   "name": "python3"
  },
  "language_info": {
   "codemirror_mode": {
    "name": "ipython",
    "version": 3
   },
   "file_extension": ".py",
   "mimetype": "text/x-python",
   "name": "python",
   "nbconvert_exporter": "python",
   "pygments_lexer": "ipython3",
   "version": "3.8.8"
  },
  "toc": {
   "base_numbering": 1,
   "nav_menu": {},
   "number_sections": true,
   "sideBar": true,
   "skip_h1_title": false,
   "title_cell": "Table of Contents",
   "title_sidebar": "Contents",
   "toc_cell": false,
   "toc_position": {},
   "toc_section_display": true,
   "toc_window_display": false
  }
 },
 "nbformat": 4,
 "nbformat_minor": 5
}
